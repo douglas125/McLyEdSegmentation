{
 "cells": [
  {
   "cell_type": "markdown",
   "metadata": {
    "colab_type": "text",
    "id": "mf2ENBI217Zd"
   },
   "source": [
    "# Kaggle TGS Geoseismic competition"
   ]
  },
  {
   "cell_type": "code",
   "execution_count": 3,
   "metadata": {
    "colab": {},
    "colab_type": "code",
    "id": "YMvFLpBQlBTR"
   },
   "outputs": [],
   "source": [
    "#!pip install -r requirements.txt"
   ]
  },
  {
   "cell_type": "code",
   "execution_count": 1,
   "metadata": {
    "colab": {
     "base_uri": "https://localhost:8080/",
     "height": 318
    },
    "colab_type": "code",
    "id": "tWe1mkDDaGmA",
    "outputId": "ea56e3f6-6995-42ec-92fb-5b53c95782f3"
   },
   "outputs": [
    {
     "name": "stderr",
     "output_type": "stream",
     "text": [
      "/anaconda/envs/py35/lib/python3.5/site-packages/h5py/__init__.py:36: FutureWarning: Conversion of the second argument of issubdtype from `float` to `np.floating` is deprecated. In future, it will be treated as `np.float64 == np.dtype(float).type`.\n",
      "  from ._conv import register_converters as _register_converters\n"
     ]
    },
    {
     "name": "stdout",
     "output_type": "stream",
     "text": [
      "[name: \"/device:CPU:0\"\n",
      "device_type: \"CPU\"\n",
      "memory_limit: 268435456\n",
      "locality {\n",
      "}\n",
      "incarnation: 2782968327026120156\n",
      ", name: \"/device:GPU:0\"\n",
      "device_type: \"GPU\"\n",
      "memory_limit: 11286285517\n",
      "locality {\n",
      "  bus_id: 1\n",
      "  links {\n",
      "  }\n",
      "}\n",
      "incarnation: 4007177297723420039\n",
      "physical_device_desc: \"device: 0, name: Tesla K80, pci bus id: 4029:00:00.0, compute capability: 3.7\"\n",
      "]\n"
     ]
    }
   ],
   "source": [
    "from tensorflow.python.client import device_lib\n",
    "print(device_lib.list_local_devices())"
   ]
  },
  {
   "cell_type": "markdown",
   "metadata": {
    "colab_type": "text",
    "id": "pBETV6aO2d39"
   },
   "source": [
    "# API Credentials\n",
    "\n",
    "To use the Kaggle API, sign up for a Kaggle account at https://www.kaggle.com. Then go to the 'Account' tab of your user profile (https://www.kaggle.com/<username>/account) and select 'Create API Token'. This will trigger the download of kaggle.json, a file containing your API credentials. \n",
    "\n",
    "Place this file on your Google Drive anywhere.\n",
    "\n",
    "With the next snippet you download your credentials to Colab and you can start using Kaggle API"
   ]
  },
  {
   "cell_type": "code",
   "execution_count": 2,
   "metadata": {
    "colab": {
     "base_uri": "https://localhost:8080/",
     "height": 34
    },
    "colab_type": "code",
    "id": "NtqKjNG3Q0Z9",
    "outputId": "97d3685a-30cb-4deb-f4ec-8f25f1f0dc5b"
   },
   "outputs": [
    {
     "name": "stdout",
     "output_type": "stream",
     "text": [
      "datalab\r\n"
     ]
    }
   ],
   "source": [
    "!ls"
   ]
  },
  {
   "cell_type": "code",
   "execution_count": 3,
   "metadata": {
    "colab": {
     "base_uri": "https://localhost:8080/",
     "height": 34
    },
    "colab_type": "code",
    "id": "y5_288BYp6H1",
    "outputId": "7615aa5e-a752-4691-bde4-2f476f6e067c"
   },
   "outputs": [
    {
     "name": "stdout",
     "output_type": "stream",
     "text": [
      "Download 100%.\n"
     ]
    }
   ],
   "source": [
    "from googleapiclient.discovery import build\n",
    "import io, os\n",
    "from googleapiclient.http import MediaIoBaseDownload\n",
    "from google.colab import auth\n",
    "\n",
    "auth.authenticate_user()\n",
    "\n",
    "drive_service = build('drive', 'v3')\n",
    "results = drive_service.files().list(\n",
    "        q=\"name = 'kaggle.json'\", fields=\"files(id)\").execute()\n",
    "kaggle_api_key = results.get('files', [])\n",
    "\n",
    "filename = \"/content/.kaggle/kaggle.json\"\n",
    "os.makedirs(os.path.dirname(filename), exist_ok=True)\n",
    "\n",
    "request = drive_service.files().get_media(fileId=kaggle_api_key[0]['id'])\n",
    "fh = io.FileIO(filename, 'wb')\n",
    "downloader = MediaIoBaseDownload(fh, request)\n",
    "done = False\n",
    "while done is False:\n",
    "    status, done = downloader.next_chunk()\n",
    "    print(\"Download %d%%.\" % int(status.progress() * 100))\n",
    "os.chmod(filename, 600)"
   ]
  },
  {
   "cell_type": "code",
   "execution_count": 0,
   "metadata": {
    "colab": {},
    "colab_type": "code",
    "id": "5l1V_oxXsZ8l"
   },
   "outputs": [],
   "source": [
    "#!kaggle datasets list"
   ]
  },
  {
   "cell_type": "code",
   "execution_count": 4,
   "metadata": {
    "colab": {
     "base_uri": "https://localhost:8080/",
     "height": 34
    },
    "colab_type": "code",
    "id": "L-MSBCgPkI9V",
    "outputId": "292c50a8-867e-435d-f8f6-5912c408e19f"
   },
   "outputs": [
    {
     "name": "stdout",
     "output_type": "stream",
     "text": [
      "Warning: Your Kaggle API key is readable by otherusers on this system! To fix this, you can run'chmod 600 /home/douglas125/.kaggle/kaggle.json'\n",
      "Downloading depths.csv to /home/douglas125/McLyEdSegmentation\n",
      "  0%|                                                | 0.00/322k [00:00<?, ?B/s]\n",
      "100%|████████████████████████████████████████| 322k/322k [00:00<00:00, 45.3MB/s]\n",
      "Downloading sample_submission.csv to /home/douglas125/McLyEdSegmentation\n",
      "  0%|                                                | 0.00/264k [00:00<?, ?B/s]\n",
      "100%|████████████████████████████████████████| 264k/264k [00:00<00:00, 89.5MB/s]\n",
      "Downloading train.csv to /home/douglas125/McLyEdSegmentation\n",
      "  0%|                                                | 0.00/922k [00:00<?, ?B/s]\n",
      "100%|█████████████████████████████████████████| 922k/922k [00:00<00:00, 161MB/s]\n",
      "Downloading test.zip to /home/douglas125/McLyEdSegmentation\n",
      " 92%|█████████████████████████████████████▉   | 151M/163M [00:00<00:00, 133MB/s]\n",
      "100%|█████████████████████████████████████████| 163M/163M [00:01<00:00, 157MB/s]\n",
      "Downloading train.zip to /home/douglas125/McLyEdSegmentation\n",
      " 45%|█████████████████                     | 17.0M/37.9M [00:00<00:00, 66.1MB/s]\n",
      "100%|███████████████████████████████████████| 37.9M/37.9M [00:00<00:00, 124MB/s]\n"
     ]
    }
   ],
   "source": [
    "!kaggle competitions download -c tgs-salt-identification-challenge"
   ]
  },
  {
   "cell_type": "markdown",
   "metadata": {
    "colab_type": "text",
    "id": "-4T8ufsAkQts"
   },
   "source": [
    "Reference: [https://github.com/Kaggle/kaggle-api](https://github.com/Kaggle/kaggle-api)"
   ]
  },
  {
   "cell_type": "code",
   "execution_count": 6,
   "metadata": {
    "colab": {
     "base_uri": "https://localhost:8080/",
     "height": 34
    },
    "colab_type": "code",
    "id": "_fZ-DSopb6Pd",
    "outputId": "97e08c91-9685-4714-9981-061e0c8048f2"
   },
   "outputs": [
    {
     "name": "stdout",
     "output_type": "stream",
     "text": [
      "datalab\r\n"
     ]
    }
   ],
   "source": [
    "!ls /content"
   ]
  },
  {
   "cell_type": "code",
   "execution_count": 0,
   "metadata": {
    "colab": {},
    "colab_type": "code",
    "id": "pZY3IRcrdRqA"
   },
   "outputs": [],
   "source": [
    "#!ls /content#/competitions/tgs-salt-identification-challenge"
   ]
  },
  {
   "cell_type": "code",
   "execution_count": 0,
   "metadata": {
    "colab": {},
    "colab_type": "code",
    "id": "P8iJLspz5PIp"
   },
   "outputs": [],
   "source": [
    "#!mv ~/.kaggle/competitions/tgs-salt-identification-challenge/ /"
   ]
  },
  {
   "cell_type": "code",
   "execution_count": 0,
   "metadata": {
    "colab": {},
    "colab_type": "code",
    "id": "kJQqlQ8c4O-1"
   },
   "outputs": [],
   "source": [
    "#!ls /"
   ]
  },
  {
   "cell_type": "markdown",
   "metadata": {
    "colab_type": "text",
    "id": "wt72EaD62qHM"
   },
   "source": [
    "# Data Exploration"
   ]
  },
  {
   "cell_type": "code",
   "execution_count": 6,
   "metadata": {
    "colab": {
     "base_uri": "https://localhost:8080/",
     "height": 345
    },
    "colab_type": "code",
    "id": "FaCbaUks2TN2",
    "outputId": "e0de925f-e65c-44c8-9b5e-f37620c94932"
   },
   "outputs": [],
   "source": [
    "import zipfile\n",
    "zip_ref = zipfile.ZipFile('train.zip', 'r')\n",
    "zip_ref.extractall('tgs-salt-identification-challenge/trainData')\n",
    "zip_ref.close()"
   ]
  },
  {
   "cell_type": "code",
   "execution_count": 7,
   "metadata": {
    "colab": {},
    "colab_type": "code",
    "id": "T9NE1-oF8UGv"
   },
   "outputs": [],
   "source": [
    "zip_ref = zipfile.ZipFile('test.zip', 'r')\n",
    "zip_ref.extractall('tgs-salt-identification-challenge/testData')\n",
    "zip_ref.close()"
   ]
  },
  {
   "cell_type": "code",
   "execution_count": 1,
   "metadata": {
    "colab": {
     "base_uri": "https://localhost:8080/",
     "height": 34
    },
    "colab_type": "code",
    "id": "bYDGN_2W6Pmp",
    "outputId": "279c496b-97bc-46b9-bf15-a2226bfb5d78"
   },
   "outputs": [
    {
     "name": "stderr",
     "output_type": "stream",
     "text": [
      "/anaconda/envs/py35/lib/python3.5/site-packages/h5py/__init__.py:36: FutureWarning: Conversion of the second argument of issubdtype from `float` to `np.floating` is deprecated. In future, it will be treated as `np.float64 == np.dtype(float).type`.\n",
      "  from ._conv import register_converters as _register_converters\n",
      "Using TensorFlow backend.\n"
     ]
    }
   ],
   "source": [
    "import os\n",
    "\n",
    "import pandas as pd\n",
    "import numpy as np\n",
    "import matplotlib.pyplot as plt\n",
    "%matplotlib inline\n",
    "from keras.preprocessing.image import ImageDataGenerator, array_to_img, img_to_array, load_img\n",
    "from tqdm import tqdm_notebook, tnrange, tqdm\n",
    "\n",
    "from scipy.signal import medfilt2d"
   ]
  },
  {
   "cell_type": "code",
   "execution_count": 2,
   "metadata": {
    "colab": {},
    "colab_type": "code",
    "id": "cWYuS0Zx5xIz"
   },
   "outputs": [],
   "source": [
    "trainFolder = 'tgs-salt-identification-challenge/trainData/'\n",
    "testFolder  = 'tgs-salt-identification-challenge/testData/'"
   ]
  },
  {
   "cell_type": "code",
   "execution_count": 3,
   "metadata": {
    "colab": {
     "base_uri": "https://localhost:8080/",
     "height": 34
    },
    "colab_type": "code",
    "id": "-iTxGqLx2TUh",
    "outputId": "1a0c2f3a-9ab4-4a03-b6e4-2648ebb5ca72"
   },
   "outputs": [
    {
     "name": "stdout",
     "output_type": "stream",
     "text": [
      "images\r\n"
     ]
    }
   ],
   "source": [
    "!ls tgs-salt-identification-challenge/testData/"
   ]
  },
  {
   "cell_type": "code",
   "execution_count": 4,
   "metadata": {
    "colab": {
     "base_uri": "https://localhost:8080/",
     "height": 204
    },
    "colab_type": "code",
    "id": "8KLX-j4vo0rG",
    "outputId": "61797aac-fe00-43dd-c0ef-cce24393977e"
   },
   "outputs": [
    {
     "data": {
      "text/html": [
       "<div>\n",
       "<style scoped>\n",
       "    .dataframe tbody tr th:only-of-type {\n",
       "        vertical-align: middle;\n",
       "    }\n",
       "\n",
       "    .dataframe tbody tr th {\n",
       "        vertical-align: top;\n",
       "    }\n",
       "\n",
       "    .dataframe thead th {\n",
       "        text-align: right;\n",
       "    }\n",
       "</style>\n",
       "<table border=\"1\" class=\"dataframe\">\n",
       "  <thead>\n",
       "    <tr style=\"text-align: right;\">\n",
       "      <th></th>\n",
       "      <th>id</th>\n",
       "      <th>z</th>\n",
       "    </tr>\n",
       "  </thead>\n",
       "  <tbody>\n",
       "    <tr>\n",
       "      <th>0</th>\n",
       "      <td>4ac19fb269</td>\n",
       "      <td>306</td>\n",
       "    </tr>\n",
       "    <tr>\n",
       "      <th>1</th>\n",
       "      <td>1825fadf99</td>\n",
       "      <td>157</td>\n",
       "    </tr>\n",
       "    <tr>\n",
       "      <th>2</th>\n",
       "      <td>f59821d067</td>\n",
       "      <td>305</td>\n",
       "    </tr>\n",
       "    <tr>\n",
       "      <th>3</th>\n",
       "      <td>5b435fad9d</td>\n",
       "      <td>503</td>\n",
       "    </tr>\n",
       "    <tr>\n",
       "      <th>4</th>\n",
       "      <td>e340e7bfca</td>\n",
       "      <td>783</td>\n",
       "    </tr>\n",
       "  </tbody>\n",
       "</table>\n",
       "</div>"
      ],
      "text/plain": [
       "           id    z\n",
       "0  4ac19fb269  306\n",
       "1  1825fadf99  157\n",
       "2  f59821d067  305\n",
       "3  5b435fad9d  503\n",
       "4  e340e7bfca  783"
      ]
     },
     "execution_count": 4,
     "metadata": {},
     "output_type": "execute_result"
    }
   ],
   "source": [
    "depthFile = pd.read_csv('depths.csv' )\n",
    "depthFile.head()"
   ]
  },
  {
   "cell_type": "code",
   "execution_count": 5,
   "metadata": {
    "colab": {
     "base_uri": "https://localhost:8080/",
     "height": 34
    },
    "colab_type": "code",
    "id": "ahZ9hvSDu4VM",
    "outputId": "e073742a-d259-464f-90de-d14cefb75c23"
   },
   "outputs": [
    {
     "data": {
      "text/plain": [
       "306"
      ]
     },
     "execution_count": 5,
     "metadata": {},
     "output_type": "execute_result"
    }
   ],
   "source": [
    "depthFile[depthFile['id'] == '4ac19fb269'].z.tolist()[0]"
   ]
  },
  {
   "cell_type": "code",
   "execution_count": 6,
   "metadata": {
    "colab": {
     "base_uri": "https://localhost:8080/",
     "height": 267
    },
    "colab_type": "code",
    "id": "wZiwNBFp2TSA",
    "outputId": "a41701ea-2d3f-486c-cef9-0229f60a9d11"
   },
   "outputs": [
    {
     "data": {
      "image/png": "[encoded data removed]",
      "text/plain": [
       "<Figure size 3600x1800 with 10 Axes>"
      ]
     },
     "metadata": {},
     "output_type": "display_data"
    }
   ],
   "source": [
    "ids= ['1f1cc6b3a4','5b7c160d0d','6c40978ddf','7dfdf6eeb8','7e5a6e5013']\n",
    "plt.figure(figsize=(50,25))\n",
    "for j, img_name in enumerate(ids):\n",
    "    q = j+1\n",
    "    img = load_img(trainFolder + 'images/' + img_name + '.png')\n",
    "    img_mask = load_img(trainFolder + 'masks/' + img_name + '.png')\n",
    "    \n",
    "    plt.subplot(1,2*(1+len(ids)),q*2-1)\n",
    "    plt.imshow(img)\n",
    "    plt.subplot(1,2*(1+len(ids)),q*2)\n",
    "    plt.imshow(img_mask)\n",
    "plt.show()"
   ]
  },
  {
   "cell_type": "code",
   "execution_count": 7,
   "metadata": {},
   "outputs": [],
   "source": [
    "%load_ext autoreload\n",
    "%autoreload 2\n",
    "\n",
    "import ImageReader"
   ]
  },
  {
   "cell_type": "code",
   "execution_count": 8,
   "metadata": {
    "colab": {},
    "colab_type": "code",
    "id": "0tpME6Io6EmS"
   },
   "outputs": [],
   "source": [
    "train_ids = next(os.walk(trainFolder +\"images\"))[2]\n",
    "test_ids = next(os.walk(testFolder +\"images\"))[2]"
   ]
  },
  {
   "cell_type": "code",
   "execution_count": 9,
   "metadata": {
    "scrolled": true
   },
   "outputs": [
    {
     "name": "stderr",
     "output_type": "stream",
     "text": [
      "  0%|          | 3/4000 [00:00<02:19, 28.60it/s]"
     ]
    },
    {
     "name": "stdout",
     "output_type": "stream",
     "text": [
      "Getting images and masks ... \n"
     ]
    },
    {
     "name": "stderr",
     "output_type": "stream",
     "text": [
      "100%|██████████| 4000/4000 [01:58<00:00, 33.72it/s]\n"
     ]
    },
    {
     "name": "stdout",
     "output_type": "stream",
     "text": [
      "Mean: 120.34612148318793 Std: 41.06966522016213\n"
     ]
    }
   ],
   "source": [
    "X_train, Y_train, depthVals = ImageReader.ReadSegmentationImages(trainFolder, depthFile)\n",
    "X_train_mean = np.mean(X_train)\n",
    "X_train_std = np.std(X_train)\n",
    "print('Mean: {} Std: {}'.format(X_train_mean, X_train_std))\n",
    "X_train = X_train/255.0#(X_train-X_train_mean)/(2*X_train_std)\n",
    "\n",
    "#X_test, d_test = ImageReader.ReadSegmentationImages(testFolder, depthFile, readMasks = False)\n",
    "#X_test = (X_test-X_train_mean)/(2*X_train_std)"
   ]
  },
  {
   "cell_type": "code",
   "execution_count": 10,
   "metadata": {
    "colab": {
     "base_uri": "https://localhost:8080/",
     "height": 519
    },
    "colab_type": "code",
    "id": "3UoDxmPa7tVk",
    "outputId": "fdcd3a8d-a8aa-482d-fcea-10adb5b25993"
   },
   "outputs": [
    {
     "data": {
      "image/png": "[encoded data removed]",
      "text/plain": [
       "<Figure size 432x288 with 1 Axes>"
      ]
     },
     "metadata": {},
     "output_type": "display_data"
    },
    {
     "data": {
      "image/png": "[encoded data removed]",
      "text/plain": [
       "<Figure size 432x288 with 1 Axes>"
      ]
     },
     "metadata": {},
     "output_type": "display_data"
    }
   ],
   "source": [
    "# Check if training data looks all right\n",
    "ix = np.random.randint(0, len(train_ids))\n",
    "#plt.imshow(np.dstack((X_train[ix],X_train[ix],X_train[ix])))\n",
    "plt.imshow(X_train[ix,:,:,0])\n",
    "plt.show()\n",
    "plt.imshow(Y_train[ix,:,:,0])\n",
    "plt.show()"
   ]
  },
  {
   "cell_type": "markdown",
   "metadata": {
    "colab_type": "text",
    "id": "ZCmJsm8qFzdd"
   },
   "source": [
    "# Keras datagen"
   ]
  },
  {
   "cell_type": "code",
   "execution_count": 13,
   "metadata": {
    "colab": {
     "base_uri": "https://localhost:8080/",
     "height": 34
    },
    "colab_type": "code",
    "id": "ayFcz_QDKKQO",
    "outputId": "7f5bbff7-5c8f-47f7-96d9-ffc9e47c3f65"
   },
   "outputs": [
    {
     "name": "stdout",
     "output_type": "stream",
     "text": [
      "(3840, 101, 101, 1), (160, 101, 101, 1)\n"
     ]
    }
   ],
   "source": [
    "valRatio = 0.04\n",
    "nVal = int(len(X_train)*valRatio)\n",
    "X_val = X_train[0:nVal]\n",
    "Y_val = Y_train[0:nVal]\n",
    "d_val = depthVals[0:nVal]\n",
    "\n",
    "X_train0 = X_train[nVal:]\n",
    "Y_train0 = Y_train[nVal:]\n",
    "d_train0 = depthVals[nVal:]\n",
    "X_train0.shape\n",
    "print('{}, {}'.format(X_train0.shape, X_val.shape))"
   ]
  },
  {
   "cell_type": "code",
   "execution_count": 22,
   "metadata": {
    "colab": {
     "base_uri": "https://localhost:8080/",
     "height": 105
    },
    "colab_type": "code",
    "id": "iZWJWDxSF21D",
    "outputId": "5c0f18b3-6109-41e0-c257-fbaa2e87b566"
   },
   "outputs": [],
   "source": [
    "from keras.preprocessing.image import ImageDataGenerator\n",
    "\n",
    "# we create two instances with the same arguments\n",
    "data_gen_argsMask = dict(\n",
    "                     rotation_range=3.0, #1.0,\n",
    "                     #shear_range = 0.001, #0\n",
    "                     zoom_range = 0.013, #0\n",
    "                     width_shift_range=0.11, # 0.03,\n",
    "                     height_shift_range=0.2, #0.3,\n",
    "                     horizontal_flip=True,\n",
    "                     fill_mode = \"reflect\"\n",
    "                     #vertical_flip=True #see if helps\n",
    "                    )\n",
    "\n",
    "data_gen_args = {}\n",
    "for key in data_gen_argsMask:\n",
    "    data_gen_args[key] = data_gen_argsMask[key]\n",
    "    \n",
    "#data_gen_args['featurewise_center'] = True\n",
    "#data_gen_args['featurewise_std_normalization'] = True\n",
    "#data_gen_args['zca_whitening'] = True #this or normalization\n",
    "\n",
    "image_datagen = ImageDataGenerator(**data_gen_args)\n",
    "mask_datagen = ImageDataGenerator(**data_gen_argsMask)\n",
    "depth_datagen = ImageDataGenerator()\n",
    "\n",
    "\n",
    "seed=7\n",
    "# Provide the same seed and keyword arguments to the fit and flow methods\n",
    "image_datagen.fit(X_train0, augment=True, seed=seed)\n",
    "#mask_datagen.fit(Y_train0, augment=True, seed=seed)\n",
    "#depth_datagen.fit(d_train0, augment=False, seed=seed)\n",
    "\n",
    "image_generator = image_datagen.flow(\n",
    "    X_train0,\n",
    "    seed=seed,\n",
    "    batch_size = 32)#32*nGPUs)\n",
    "\n",
    "mask_generator = mask_datagen.flow(\n",
    "    Y_train0,\n",
    "    seed=seed,\n",
    "    batch_size = 32)#32*nGPUs)\n",
    "\n",
    "depth_generator = depth_datagen.flow(\n",
    "    d_train0,\n",
    "    seed=seed,\n",
    "    batch_size = 32)#32*nGPUs)\n",
    "\n",
    "bSize = 32\n",
    "def multi_input_gen(X1, X2, X3):\n",
    "    genX1 = image_datagen.flow(X1, seed=7, batch_size=bSize)\n",
    "    genX2 = depth_datagen.flow(X2, seed=7, batch_size=bSize)\n",
    "    genX3 = mask_datagen.flow( X3, seed=7, batch_size=bSize)\n",
    "    while True:\n",
    "            X1i = genX1.next()\n",
    "            X2i = genX2.next()\n",
    "            X3i = genX3.next()\n",
    "            yield [X1i, X2i], X3i\n",
    "\n",
    "train_generator = multi_input_gen(X_train0, d_train0, Y_train0) #zip( [image_generator, depth_generator] , [mask_generator] )"
   ]
  },
  {
   "cell_type": "code",
   "execution_count": 15,
   "metadata": {},
   "outputs": [
    {
     "name": "stdout",
     "output_type": "stream",
     "text": [
      "120.0\n"
     ]
    },
    {
     "data": {
      "image/png": "[encoded data removed]",
      "text/plain": [
       "<Figure size 432x288 with 1 Axes>"
      ]
     },
     "metadata": {},
     "output_type": "display_data"
    },
    {
     "data": {
      "image/png": "[encoded data removed]",
      "text/plain": [
       "<Figure size 432x288 with 1 Axes>"
      ]
     },
     "metadata": {},
     "output_type": "display_data"
    }
   ],
   "source": [
    "ans = next(train_generator)\n",
    "print(ans[0][1][17,0,0,0])\n",
    "plt.imshow( ans[0][0][17,:,:,0] )\n",
    "plt.show()\n",
    "plt.imshow( ans[1][17,:,:,0] )\n",
    "plt.show()"
   ]
  },
  {
   "cell_type": "markdown",
   "metadata": {
    "colab_type": "text",
    "id": "ZZnJKHYuCfpu"
   },
   "source": [
    "# UNet model"
   ]
  },
  {
   "cell_type": "code",
   "execution_count": 1,
   "metadata": {
    "colab": {},
    "colab_type": "code",
    "id": "eq663ff6-x9k"
   },
   "outputs": [
    {
     "name": "stderr",
     "output_type": "stream",
     "text": [
      "C:\\Users\\Douglas\\Anaconda3\\lib\\site-packages\\h5py\\__init__.py:36: FutureWarning: Conversion of the second argument of issubdtype from `float` to `np.floating` is deprecated. In future, it will be treated as `np.float64 == np.dtype(float).type`.\n",
      "  from ._conv import register_converters as _register_converters\n",
      "Using TensorFlow backend.\n"
     ]
    }
   ],
   "source": [
    "import ModelUNet\n",
    "\n",
    "from keras.utils import plot_model\n",
    "from keras.models import Model, load_model\n",
    "from keras.layers import Input, ZeroPadding2D, Cropping2D, Add, Conv2D, Concatenate\n",
    "from keras.layers.core import Lambda"
   ]
  },
  {
   "cell_type": "code",
   "execution_count": null,
   "metadata": {},
   "outputs": [],
   "source": []
  },
  {
   "cell_type": "code",
   "execution_count": 2,
   "metadata": {
    "colab": {
     "base_uri": "https://localhost:8080/",
     "height": 2397
    },
    "colab_type": "code",
    "id": "xOna1LTs4hMT",
    "outputId": "0ee5e237-1064-4a1a-b646-e8f8fba3abf7",
    "scrolled": false
   },
   "outputs": [
    {
     "name": "stdout",
     "output_type": "stream",
     "text": [
      "__________________________________________________________________________________________________\n",
      "Layer (type)                    Output Shape         Param #     Connected to                     \n",
      "==================================================================================================\n",
      "input_1 (InputLayer)            (None, 101, 101, 1)  0                                            \n",
      "__________________________________________________________________________________________________\n",
      "zero_padding2d_1 (ZeroPadding2D (None, 128, 128, 1)  0           input_1[0][0]                    \n",
      "__________________________________________________________________________________________________\n",
      "input_2 (InputLayer)            (None, 1, 1, 1)      0                                            \n",
      "__________________________________________________________________________________________________\n",
      "SUNet_d2 (Model)                (None, 128, 128, 1)  2917267     zero_padding2d_1[0][0]           \n",
      "                                                                 input_2[0][0]                    \n",
      "__________________________________________________________________________________________________\n",
      "cropping2d_1 (Cropping2D)       (None, 101, 101, 1)  0           SUNet_d2[1][0]                   \n",
      "==================================================================================================\n",
      "Total params: 2,917,267\n",
      "Trainable params: 2,898,195\n",
      "Non-trainable params: 19,072\n",
      "__________________________________________________________________________________________________\n"
     ]
    }
   ],
   "source": [
    "im_height = 101\n",
    "im_width = 101\n",
    "im_chan = 1\n",
    "\n",
    "\n",
    "inputImg = Input((im_height, im_width, im_chan))\n",
    "inputDepth = Input( (1,1,1) )\n",
    "\n",
    "s=inputImg\n",
    "dd=inputDepth\n",
    "\n",
    "#s = ReflectionPadding2D( padding = ((13, 14), (13, 14)) ) (s)\n",
    "s = ZeroPadding2D( padding = ((13, 14), (13, 14)) ) (s)\n",
    "\n",
    "\n",
    "#unet = ModelUNet.BuildUNet(convFunction = ModelUNet.ApplyConv, nFilter = 12, net_depth=4, nBorderRefinementConvs = 4)\n",
    "unet = ModelUNet.BuildSUNet(convFunction = ModelUNet.ApplySepConv, nFilter = 64, net_depth=2, \n",
    "                            nBorderRefinementConvs = 4, encoderSquash=64)\n",
    "\n",
    "su = unet([s,dd])\n",
    "\n",
    "outputs = su\n",
    "\n",
    "#outputs = Conv2D(1, (1, 1), activation='sigmoid') (outputs) #already in UNet\n",
    "\n",
    "\n",
    "outputs = Cropping2D(cropping=((13, 14), (13, 14)) ) (outputs)\n",
    "\n",
    "model = Model(inputs=[inputImg, inputDepth], outputs=[outputs])\n",
    "\n",
    "model.compile(optimizer='adam', loss=ModelUNet.dice_loss, metrics=[ModelUNet.mean_iou])\n",
    "\n",
    "model.summary()"
   ]
  },
  {
   "cell_type": "code",
   "execution_count": 3,
   "metadata": {},
   "outputs": [
    {
     "name": "stdout",
     "output_type": "stream",
     "text": [
      "__________________________________________________________________________________________________\n",
      "Layer (type)                    Output Shape         Param #     Connected to                     \n",
      "==================================================================================================\n",
      "input_3 (InputLayer)            (None, 128, 128, 1)  0                                            \n",
      "__________________________________________________________________________________________________\n",
      "separable_conv2d_1 (SeparableCo (None, 128, 128, 64) 137         input_3[0][0]                    \n",
      "__________________________________________________________________________________________________\n",
      "batch_normalization_1 (BatchNor (None, 128, 128, 64) 256         separable_conv2d_1[0][0]         \n",
      "__________________________________________________________________________________________________\n",
      "activation_1 (Activation)       (None, 128, 128, 64) 0           batch_normalization_1[0][0]      \n",
      "__________________________________________________________________________________________________\n",
      "separable_conv2d_2 (SeparableCo (None, 128, 128, 128 8896        activation_1[0][0]               \n",
      "__________________________________________________________________________________________________\n",
      "batch_normalization_2 (BatchNor (None, 128, 128, 128 512         separable_conv2d_2[0][0]         \n",
      "__________________________________________________________________________________________________\n",
      "activation_2 (Activation)       (None, 128, 128, 128 0           batch_normalization_2[0][0]      \n",
      "__________________________________________________________________________________________________\n",
      "separable_conv2d_3 (SeparableCo (None, 64, 64, 64)   9408        activation_2[0][0]               \n",
      "__________________________________________________________________________________________________\n",
      "separable_conv2d_4 (SeparableCo (None, 64, 64, 256)  17216       separable_conv2d_3[0][0]         \n",
      "__________________________________________________________________________________________________\n",
      "batch_normalization_3 (BatchNor (None, 64, 64, 256)  1024        separable_conv2d_4[0][0]         \n",
      "__________________________________________________________________________________________________\n",
      "activation_3 (Activation)       (None, 64, 64, 256)  0           batch_normalization_3[0][0]      \n",
      "__________________________________________________________________________________________________\n",
      "input_4 (InputLayer)            (None, 1, 1, 1)      0                                            \n",
      "__________________________________________________________________________________________________\n",
      "separable_conv2d_5 (SeparableCo (None, 32, 32, 64)   18752       activation_3[0][0]               \n",
      "__________________________________________________________________________________________________\n",
      "lambda_1 (Lambda)               (None, 32, 32, 1)    0           input_4[0][0]                    \n",
      "__________________________________________________________________________________________________\n",
      "concatenate_1 (Concatenate)     (None, 32, 32, 65)   0           separable_conv2d_5[0][0]         \n",
      "                                                                 lambda_1[0][0]                   \n",
      "__________________________________________________________________________________________________\n",
      "separable_conv2d_6 (SeparableCo (None, 32, 32, 256)  17481       concatenate_1[0][0]              \n",
      "__________________________________________________________________________________________________\n",
      "batch_normalization_4 (BatchNor (None, 32, 32, 256)  1024        separable_conv2d_6[0][0]         \n",
      "__________________________________________________________________________________________________\n",
      "activation_4 (Activation)       (None, 32, 32, 256)  0           batch_normalization_4[0][0]      \n",
      "__________________________________________________________________________________________________\n",
      "separable_conv2d_7 (SeparableCo (None, 32, 32, 256)  68096       activation_4[0][0]               \n",
      "__________________________________________________________________________________________________\n",
      "batch_normalization_5 (BatchNor (None, 32, 32, 256)  1024        separable_conv2d_7[0][0]         \n",
      "__________________________________________________________________________________________________\n",
      "activation_5 (Activation)       (None, 32, 32, 256)  0           batch_normalization_5[0][0]      \n",
      "__________________________________________________________________________________________________\n",
      "separable_conv2d_8 (SeparableCo (None, 32, 32, 256)  68096       activation_5[0][0]               \n",
      "__________________________________________________________________________________________________\n",
      "batch_normalization_6 (BatchNor (None, 32, 32, 256)  1024        separable_conv2d_8[0][0]         \n",
      "__________________________________________________________________________________________________\n",
      "activation_6 (Activation)       (None, 32, 32, 256)  0           batch_normalization_6[0][0]      \n",
      "__________________________________________________________________________________________________\n",
      "add_1 (Add)                     (None, 32, 32, 256)  0           activation_4[0][0]               \n",
      "                                                                 activation_6[0][0]               \n",
      "__________________________________________________________________________________________________\n",
      "separable_conv2d_9 (SeparableCo (None, 32, 32, 256)  68096       add_1[0][0]                      \n",
      "__________________________________________________________________________________________________\n",
      "batch_normalization_7 (BatchNor (None, 32, 32, 256)  1024        separable_conv2d_9[0][0]         \n",
      "__________________________________________________________________________________________________\n",
      "activation_7 (Activation)       (None, 32, 32, 256)  0           batch_normalization_7[0][0]      \n",
      "__________________________________________________________________________________________________\n",
      "separable_conv2d_10 (SeparableC (None, 32, 32, 256)  68096       activation_7[0][0]               \n",
      "__________________________________________________________________________________________________\n",
      "batch_normalization_8 (BatchNor (None, 32, 32, 256)  1024        separable_conv2d_10[0][0]        \n",
      "__________________________________________________________________________________________________\n",
      "activation_8 (Activation)       (None, 32, 32, 256)  0           batch_normalization_8[0][0]      \n",
      "__________________________________________________________________________________________________\n",
      "add_2 (Add)                     (None, 32, 32, 256)  0           add_1[0][0]                      \n",
      "                                                                 activation_8[0][0]               \n",
      "__________________________________________________________________________________________________\n",
      "separable_conv2d_11 (SeparableC (None, 32, 32, 256)  68096       add_2[0][0]                      \n",
      "__________________________________________________________________________________________________\n",
      "batch_normalization_9 (BatchNor (None, 32, 32, 256)  1024        separable_conv2d_11[0][0]        \n",
      "__________________________________________________________________________________________________\n",
      "activation_9 (Activation)       (None, 32, 32, 256)  0           batch_normalization_9[0][0]      \n",
      "__________________________________________________________________________________________________\n",
      "separable_conv2d_12 (SeparableC (None, 32, 32, 256)  68096       activation_9[0][0]               \n",
      "__________________________________________________________________________________________________\n",
      "batch_normalization_10 (BatchNo (None, 32, 32, 256)  1024        separable_conv2d_12[0][0]        \n",
      "__________________________________________________________________________________________________\n",
      "activation_10 (Activation)      (None, 32, 32, 256)  0           batch_normalization_10[0][0]     \n",
      "__________________________________________________________________________________________________\n"
     ]
    },
    {
     "name": "stdout",
     "output_type": "stream",
     "text": [
      "add_3 (Add)                     (None, 32, 32, 256)  0           add_2[0][0]                      \n",
      "                                                                 activation_10[0][0]              \n",
      "__________________________________________________________________________________________________\n",
      "separable_conv2d_13 (SeparableC (None, 32, 32, 256)  68096       add_3[0][0]                      \n",
      "__________________________________________________________________________________________________\n",
      "batch_normalization_11 (BatchNo (None, 32, 32, 256)  1024        separable_conv2d_13[0][0]        \n",
      "__________________________________________________________________________________________________\n",
      "activation_11 (Activation)      (None, 32, 32, 256)  0           batch_normalization_11[0][0]     \n",
      "__________________________________________________________________________________________________\n",
      "separable_conv2d_14 (SeparableC (None, 32, 32, 256)  68096       activation_11[0][0]              \n",
      "__________________________________________________________________________________________________\n",
      "batch_normalization_12 (BatchNo (None, 32, 32, 256)  1024        separable_conv2d_14[0][0]        \n",
      "__________________________________________________________________________________________________\n",
      "activation_12 (Activation)      (None, 32, 32, 256)  0           batch_normalization_12[0][0]     \n",
      "__________________________________________________________________________________________________\n",
      "add_4 (Add)                     (None, 32, 32, 256)  0           add_3[0][0]                      \n",
      "                                                                 activation_12[0][0]              \n",
      "__________________________________________________________________________________________________\n",
      "separable_conv2d_15 (SeparableC (None, 32, 32, 256)  68096       add_4[0][0]                      \n",
      "__________________________________________________________________________________________________\n",
      "batch_normalization_13 (BatchNo (None, 32, 32, 256)  1024        separable_conv2d_15[0][0]        \n",
      "__________________________________________________________________________________________________\n",
      "activation_13 (Activation)      (None, 32, 32, 256)  0           batch_normalization_13[0][0]     \n",
      "__________________________________________________________________________________________________\n",
      "separable_conv2d_16 (SeparableC (None, 32, 32, 256)  68096       activation_13[0][0]              \n",
      "__________________________________________________________________________________________________\n",
      "batch_normalization_14 (BatchNo (None, 32, 32, 256)  1024        separable_conv2d_16[0][0]        \n",
      "__________________________________________________________________________________________________\n",
      "activation_14 (Activation)      (None, 32, 32, 256)  0           batch_normalization_14[0][0]     \n",
      "__________________________________________________________________________________________________\n",
      "add_5 (Add)                     (None, 32, 32, 256)  0           add_4[0][0]                      \n",
      "                                                                 activation_14[0][0]              \n",
      "__________________________________________________________________________________________________\n",
      "separable_conv2d_17 (SeparableC (None, 32, 32, 256)  68096       add_5[0][0]                      \n",
      "__________________________________________________________________________________________________\n",
      "batch_normalization_15 (BatchNo (None, 32, 32, 256)  1024        separable_conv2d_17[0][0]        \n",
      "__________________________________________________________________________________________________\n",
      "activation_15 (Activation)      (None, 32, 32, 256)  0           batch_normalization_15[0][0]     \n",
      "__________________________________________________________________________________________________\n",
      "separable_conv2d_18 (SeparableC (None, 32, 32, 256)  68096       activation_15[0][0]              \n",
      "__________________________________________________________________________________________________\n",
      "batch_normalization_16 (BatchNo (None, 32, 32, 256)  1024        separable_conv2d_18[0][0]        \n",
      "__________________________________________________________________________________________________\n",
      "activation_16 (Activation)      (None, 32, 32, 256)  0           batch_normalization_16[0][0]     \n",
      "__________________________________________________________________________________________________\n",
      "add_6 (Add)                     (None, 32, 32, 256)  0           add_5[0][0]                      \n",
      "                                                                 activation_16[0][0]              \n",
      "__________________________________________________________________________________________________\n",
      "separable_conv2d_19 (SeparableC (None, 32, 32, 256)  68096       add_6[0][0]                      \n",
      "__________________________________________________________________________________________________\n",
      "batch_normalization_17 (BatchNo (None, 32, 32, 256)  1024        separable_conv2d_19[0][0]        \n",
      "__________________________________________________________________________________________________\n",
      "activation_17 (Activation)      (None, 32, 32, 256)  0           batch_normalization_17[0][0]     \n",
      "__________________________________________________________________________________________________\n",
      "separable_conv2d_20 (SeparableC (None, 32, 32, 256)  68096       activation_17[0][0]              \n",
      "__________________________________________________________________________________________________\n",
      "batch_normalization_18 (BatchNo (None, 32, 32, 256)  1024        separable_conv2d_20[0][0]        \n",
      "__________________________________________________________________________________________________\n",
      "activation_18 (Activation)      (None, 32, 32, 256)  0           batch_normalization_18[0][0]     \n",
      "__________________________________________________________________________________________________\n",
      "add_7 (Add)                     (None, 32, 32, 256)  0           add_6[0][0]                      \n",
      "                                                                 activation_18[0][0]              \n",
      "__________________________________________________________________________________________________\n",
      "separable_conv2d_21 (SeparableC (None, 32, 32, 256)  68096       add_7[0][0]                      \n",
      "__________________________________________________________________________________________________\n",
      "batch_normalization_19 (BatchNo (None, 32, 32, 256)  1024        separable_conv2d_21[0][0]        \n",
      "__________________________________________________________________________________________________\n",
      "activation_19 (Activation)      (None, 32, 32, 256)  0           batch_normalization_19[0][0]     \n",
      "__________________________________________________________________________________________________\n",
      "separable_conv2d_22 (SeparableC (None, 32, 32, 256)  68096       activation_19[0][0]              \n",
      "__________________________________________________________________________________________________\n",
      "batch_normalization_20 (BatchNo (None, 32, 32, 256)  1024        separable_conv2d_22[0][0]        \n",
      "__________________________________________________________________________________________________\n",
      "activation_20 (Activation)      (None, 32, 32, 256)  0           batch_normalization_20[0][0]     \n",
      "__________________________________________________________________________________________________\n",
      "add_8 (Add)                     (None, 32, 32, 256)  0           add_7[0][0]                      \n",
      "                                                                 activation_20[0][0]              \n",
      "__________________________________________________________________________________________________\n",
      "separable_conv2d_23 (SeparableC (None, 32, 32, 256)  68096       add_8[0][0]                      \n",
      "__________________________________________________________________________________________________\n",
      "batch_normalization_21 (BatchNo (None, 32, 32, 256)  1024        separable_conv2d_23[0][0]        \n",
      "__________________________________________________________________________________________________\n"
     ]
    },
    {
     "name": "stdout",
     "output_type": "stream",
     "text": [
      "activation_21 (Activation)      (None, 32, 32, 256)  0           batch_normalization_21[0][0]     \n",
      "__________________________________________________________________________________________________\n",
      "separable_conv2d_24 (SeparableC (None, 32, 32, 256)  68096       activation_21[0][0]              \n",
      "__________________________________________________________________________________________________\n",
      "batch_normalization_22 (BatchNo (None, 32, 32, 256)  1024        separable_conv2d_24[0][0]        \n",
      "__________________________________________________________________________________________________\n",
      "activation_22 (Activation)      (None, 32, 32, 256)  0           batch_normalization_22[0][0]     \n",
      "__________________________________________________________________________________________________\n",
      "add_9 (Add)                     (None, 32, 32, 256)  0           add_8[0][0]                      \n",
      "                                                                 activation_22[0][0]              \n",
      "__________________________________________________________________________________________________\n",
      "separable_conv2d_25 (SeparableC (None, 32, 32, 256)  68096       add_9[0][0]                      \n",
      "__________________________________________________________________________________________________\n",
      "batch_normalization_23 (BatchNo (None, 32, 32, 256)  1024        separable_conv2d_25[0][0]        \n",
      "__________________________________________________________________________________________________\n",
      "activation_23 (Activation)      (None, 32, 32, 256)  0           batch_normalization_23[0][0]     \n",
      "__________________________________________________________________________________________________\n",
      "separable_conv2d_26 (SeparableC (None, 32, 32, 256)  68096       activation_23[0][0]              \n",
      "__________________________________________________________________________________________________\n",
      "batch_normalization_24 (BatchNo (None, 32, 32, 256)  1024        separable_conv2d_26[0][0]        \n",
      "__________________________________________________________________________________________________\n",
      "activation_24 (Activation)      (None, 32, 32, 256)  0           batch_normalization_24[0][0]     \n",
      "__________________________________________________________________________________________________\n",
      "add_10 (Add)                    (None, 32, 32, 256)  0           add_9[0][0]                      \n",
      "                                                                 activation_24[0][0]              \n",
      "__________________________________________________________________________________________________\n",
      "separable_conv2d_27 (SeparableC (None, 32, 32, 256)  68096       add_10[0][0]                     \n",
      "__________________________________________________________________________________________________\n",
      "batch_normalization_25 (BatchNo (None, 32, 32, 256)  1024        separable_conv2d_27[0][0]        \n",
      "__________________________________________________________________________________________________\n",
      "activation_25 (Activation)      (None, 32, 32, 256)  0           batch_normalization_25[0][0]     \n",
      "__________________________________________________________________________________________________\n",
      "separable_conv2d_28 (SeparableC (None, 32, 32, 256)  68096       activation_25[0][0]              \n",
      "__________________________________________________________________________________________________\n",
      "batch_normalization_26 (BatchNo (None, 32, 32, 256)  1024        separable_conv2d_28[0][0]        \n",
      "__________________________________________________________________________________________________\n",
      "activation_26 (Activation)      (None, 32, 32, 256)  0           batch_normalization_26[0][0]     \n",
      "__________________________________________________________________________________________________\n",
      "add_11 (Add)                    (None, 32, 32, 256)  0           add_10[0][0]                     \n",
      "                                                                 activation_26[0][0]              \n",
      "__________________________________________________________________________________________________\n",
      "separable_conv2d_29 (SeparableC (None, 32, 32, 256)  68096       add_11[0][0]                     \n",
      "__________________________________________________________________________________________________\n",
      "batch_normalization_27 (BatchNo (None, 32, 32, 256)  1024        separable_conv2d_29[0][0]        \n",
      "__________________________________________________________________________________________________\n",
      "activation_27 (Activation)      (None, 32, 32, 256)  0           batch_normalization_27[0][0]     \n",
      "__________________________________________________________________________________________________\n",
      "separable_conv2d_30 (SeparableC (None, 32, 32, 256)  68096       activation_27[0][0]              \n",
      "__________________________________________________________________________________________________\n",
      "batch_normalization_28 (BatchNo (None, 32, 32, 256)  1024        separable_conv2d_30[0][0]        \n",
      "__________________________________________________________________________________________________\n",
      "activation_28 (Activation)      (None, 32, 32, 256)  0           batch_normalization_28[0][0]     \n",
      "__________________________________________________________________________________________________\n",
      "add_12 (Add)                    (None, 32, 32, 256)  0           add_11[0][0]                     \n",
      "                                                                 activation_28[0][0]              \n",
      "__________________________________________________________________________________________________\n",
      "separable_conv2d_31 (SeparableC (None, 32, 32, 256)  68096       add_12[0][0]                     \n",
      "__________________________________________________________________________________________________\n",
      "batch_normalization_29 (BatchNo (None, 32, 32, 256)  1024        separable_conv2d_31[0][0]        \n",
      "__________________________________________________________________________________________________\n",
      "activation_29 (Activation)      (None, 32, 32, 256)  0           batch_normalization_29[0][0]     \n",
      "__________________________________________________________________________________________________\n",
      "separable_conv2d_32 (SeparableC (None, 32, 32, 256)  68096       activation_29[0][0]              \n",
      "__________________________________________________________________________________________________\n",
      "batch_normalization_30 (BatchNo (None, 32, 32, 256)  1024        separable_conv2d_32[0][0]        \n",
      "__________________________________________________________________________________________________\n",
      "activation_30 (Activation)      (None, 32, 32, 256)  0           batch_normalization_30[0][0]     \n",
      "__________________________________________________________________________________________________\n",
      "add_13 (Add)                    (None, 32, 32, 256)  0           add_12[0][0]                     \n",
      "                                                                 activation_30[0][0]              \n",
      "__________________________________________________________________________________________________\n",
      "separable_conv2d_33 (SeparableC (None, 32, 32, 256)  68096       add_13[0][0]                     \n",
      "__________________________________________________________________________________________________\n",
      "batch_normalization_31 (BatchNo (None, 32, 32, 256)  1024        separable_conv2d_33[0][0]        \n",
      "__________________________________________________________________________________________________\n",
      "activation_31 (Activation)      (None, 32, 32, 256)  0           batch_normalization_31[0][0]     \n",
      "__________________________________________________________________________________________________\n",
      "separable_conv2d_34 (SeparableC (None, 32, 32, 256)  68096       activation_31[0][0]              \n",
      "__________________________________________________________________________________________________\n",
      "batch_normalization_32 (BatchNo (None, 32, 32, 256)  1024        separable_conv2d_34[0][0]        \n",
      "__________________________________________________________________________________________________\n",
      "activation_32 (Activation)      (None, 32, 32, 256)  0           batch_normalization_32[0][0]     \n"
     ]
    },
    {
     "name": "stdout",
     "output_type": "stream",
     "text": [
      "__________________________________________________________________________________________________\n",
      "add_14 (Add)                    (None, 32, 32, 256)  0           add_13[0][0]                     \n",
      "                                                                 activation_32[0][0]              \n",
      "__________________________________________________________________________________________________\n",
      "separable_conv2d_35 (SeparableC (None, 32, 32, 256)  68096       add_14[0][0]                     \n",
      "__________________________________________________________________________________________________\n",
      "batch_normalization_33 (BatchNo (None, 32, 32, 256)  1024        separable_conv2d_35[0][0]        \n",
      "__________________________________________________________________________________________________\n",
      "activation_33 (Activation)      (None, 32, 32, 256)  0           batch_normalization_33[0][0]     \n",
      "__________________________________________________________________________________________________\n",
      "separable_conv2d_36 (SeparableC (None, 32, 32, 256)  68096       activation_33[0][0]              \n",
      "__________________________________________________________________________________________________\n",
      "batch_normalization_34 (BatchNo (None, 32, 32, 256)  1024        separable_conv2d_36[0][0]        \n",
      "__________________________________________________________________________________________________\n",
      "activation_34 (Activation)      (None, 32, 32, 256)  0           batch_normalization_34[0][0]     \n",
      "__________________________________________________________________________________________________\n",
      "add_15 (Add)                    (None, 32, 32, 256)  0           add_14[0][0]                     \n",
      "                                                                 activation_34[0][0]              \n",
      "__________________________________________________________________________________________________\n",
      "separable_conv2d_37 (SeparableC (None, 32, 32, 256)  68096       add_15[0][0]                     \n",
      "__________________________________________________________________________________________________\n",
      "batch_normalization_35 (BatchNo (None, 32, 32, 256)  1024        separable_conv2d_37[0][0]        \n",
      "__________________________________________________________________________________________________\n",
      "activation_35 (Activation)      (None, 32, 32, 256)  0           batch_normalization_35[0][0]     \n",
      "__________________________________________________________________________________________________\n",
      "separable_conv2d_38 (SeparableC (None, 32, 32, 256)  68096       activation_35[0][0]              \n",
      "__________________________________________________________________________________________________\n",
      "batch_normalization_36 (BatchNo (None, 32, 32, 256)  1024        separable_conv2d_38[0][0]        \n",
      "__________________________________________________________________________________________________\n",
      "activation_36 (Activation)      (None, 32, 32, 256)  0           batch_normalization_36[0][0]     \n",
      "__________________________________________________________________________________________________\n",
      "add_16 (Add)                    (None, 32, 32, 256)  0           add_15[0][0]                     \n",
      "                                                                 activation_36[0][0]              \n",
      "__________________________________________________________________________________________________\n",
      "conv2d_3 (Conv2D)               (None, 32, 32, 128)  295040      add_16[0][0]                     \n",
      "__________________________________________________________________________________________________\n",
      "batch_normalization_37 (BatchNo (None, 32, 32, 128)  512         conv2d_3[0][0]                   \n",
      "__________________________________________________________________________________________________\n",
      "separable_conv2d_39 (SeparableC (None, 32, 32, 32)   5280        batch_normalization_37[0][0]     \n",
      "__________________________________________________________________________________________________\n",
      "separable_conv2d_40 (SeparableC (None, 32, 32, 32)   5280        batch_normalization_37[0][0]     \n",
      "__________________________________________________________________________________________________\n",
      "separable_conv2d_41 (SeparableC (None, 32, 32, 32)   5280        batch_normalization_37[0][0]     \n",
      "__________________________________________________________________________________________________\n",
      "separable_conv2d_42 (SeparableC (None, 32, 32, 32)   5280        batch_normalization_37[0][0]     \n",
      "__________________________________________________________________________________________________\n",
      "max_pooling2d_1 (MaxPooling2D)  (None, 32, 32, 128)  0           batch_normalization_37[0][0]     \n",
      "__________________________________________________________________________________________________\n",
      "concatenate_2 (Concatenate)     (None, 32, 32, 256)  0           separable_conv2d_39[0][0]        \n",
      "                                                                 separable_conv2d_40[0][0]        \n",
      "                                                                 separable_conv2d_41[0][0]        \n",
      "                                                                 separable_conv2d_42[0][0]        \n",
      "                                                                 max_pooling2d_1[0][0]            \n",
      "__________________________________________________________________________________________________\n",
      "batch_normalization_38 (BatchNo (None, 32, 32, 256)  1024        concatenate_2[0][0]              \n",
      "__________________________________________________________________________________________________\n",
      "conv2d_4 (Conv2D)               (None, 32, 32, 64)   16448       batch_normalization_38[0][0]     \n",
      "__________________________________________________________________________________________________\n",
      "conv2d_2 (Conv2D)               (None, 64, 64, 64)   16448       activation_3[0][0]               \n",
      "__________________________________________________________________________________________________\n",
      "conv2d_transpose_1 (Conv2DTrans (None, 128, 128, 64) 16448       conv2d_4[0][0]                   \n",
      "__________________________________________________________________________________________________\n",
      "conv2d_transpose_2 (Conv2DTrans (None, 128, 128, 64) 16448       conv2d_2[0][0]                   \n",
      "__________________________________________________________________________________________________\n",
      "conv2d_1 (Conv2D)               (None, 128, 128, 64) 8256        activation_2[0][0]               \n",
      "__________________________________________________________________________________________________\n",
      "concatenate_3 (Concatenate)     (None, 128, 128, 128 0           conv2d_transpose_1[0][0]         \n",
      "                                                                 conv2d_transpose_2[0][0]         \n",
      "__________________________________________________________________________________________________\n",
      "conv2d_transpose_3 (Conv2DTrans (None, 128, 128, 64) 16448       conv2d_1[0][0]                   \n",
      "__________________________________________________________________________________________________\n",
      "concatenate_4 (Concatenate)     (None, 128, 128, 192 0           concatenate_3[0][0]              \n",
      "                                                                 conv2d_transpose_3[0][0]         \n",
      "__________________________________________________________________________________________________\n",
      "conv2d_5 (Conv2D)               (None, 128, 128, 64) 110656      concatenate_4[0][0]              \n",
      "__________________________________________________________________________________________________\n",
      "batch_normalization_39 (BatchNo (None, 128, 128, 64) 256         conv2d_5[0][0]                   \n",
      "__________________________________________________________________________________________________\n",
      "activation_37 (Activation)      (None, 128, 128, 64) 0           batch_normalization_39[0][0]     \n",
      "__________________________________________________________________________________________________\n",
      "conv2d_6 (Conv2D)               (None, 128, 128, 64) 36928       activation_37[0][0]              \n",
      "__________________________________________________________________________________________________\n"
     ]
    },
    {
     "name": "stdout",
     "output_type": "stream",
     "text": [
      "batch_normalization_40 (BatchNo (None, 128, 128, 64) 256         conv2d_6[0][0]                   \n",
      "__________________________________________________________________________________________________\n",
      "activation_38 (Activation)      (None, 128, 128, 64) 0           batch_normalization_40[0][0]     \n",
      "__________________________________________________________________________________________________\n",
      "conv2d_7 (Conv2D)               (None, 128, 128, 64) 36928       activation_38[0][0]              \n",
      "__________________________________________________________________________________________________\n",
      "batch_normalization_41 (BatchNo (None, 128, 128, 64) 256         conv2d_7[0][0]                   \n",
      "__________________________________________________________________________________________________\n",
      "activation_39 (Activation)      (None, 128, 128, 64) 0           batch_normalization_41[0][0]     \n",
      "__________________________________________________________________________________________________\n",
      "conv2d_8 (Conv2D)               (None, 128, 128, 64) 36928       activation_39[0][0]              \n",
      "__________________________________________________________________________________________________\n",
      "batch_normalization_42 (BatchNo (None, 128, 128, 64) 256         conv2d_8[0][0]                   \n",
      "__________________________________________________________________________________________________\n",
      "activation_40 (Activation)      (None, 128, 128, 64) 0           batch_normalization_42[0][0]     \n",
      "__________________________________________________________________________________________________\n",
      "conv2d_9 (Conv2D)               (None, 128, 128, 1)  65          activation_40[0][0]              \n",
      "==================================================================================================\n",
      "Total params: 2,917,267\n",
      "Trainable params: 2,898,195\n",
      "Non-trainable params: 19,072\n",
      "__________________________________________________________________________________________________\n"
     ]
    }
   ],
   "source": [
    "unet.summary()"
   ]
  },
  {
   "cell_type": "markdown",
   "metadata": {},
   "source": [
    "## DeepLabV3+"
   ]
  },
  {
   "cell_type": "code",
   "execution_count": 19,
   "metadata": {
    "scrolled": true
   },
   "outputs": [
    {
     "name": "stdout",
     "output_type": "stream",
     "text": [
      "__________________________________________________________________________________________________\n",
      "Layer (type)                    Output Shape         Param #     Connected to                     \n",
      "==================================================================================================\n",
      "input_8 (InputLayer)            (None, 1, 1, 1)      0                                            \n",
      "__________________________________________________________________________________________________\n",
      "input_7 (InputLayer)            (None, 101, 101, 1)  0                                            \n",
      "__________________________________________________________________________________________________\n",
      "lambda_6 (Lambda)               (None, 101, 101, 1)  0           input_8[0][0]                    \n",
      "__________________________________________________________________________________________________\n",
      "concatenate_6 (Concatenate)     (None, 101, 101, 2)  0           input_7[0][0]                    \n",
      "                                                                 lambda_6[0][0]                   \n",
      "__________________________________________________________________________________________________\n",
      "zero_padding2d_9 (ZeroPadding2D (None, 128, 128, 2)  0           concatenate_6[0][0]              \n",
      "__________________________________________________________________________________________________\n",
      "conv2d_5 (Conv2D)               (None, 128, 128, 3)  9           zero_padding2d_9[0][0]           \n",
      "__________________________________________________________________________________________________\n",
      "deeplabv3p (Model)              (None, 128, 128, 1)  41253073    conv2d_5[0][0]                   \n",
      "__________________________________________________________________________________________________\n",
      "conv2d_6 (Conv2D)               (None, 128, 128, 1)  2           deeplabv3p[1][0]                 \n",
      "__________________________________________________________________________________________________\n",
      "cropping2d_3 (Cropping2D)       (None, 101, 101, 1)  0           conv2d_6[0][0]                   \n",
      "==================================================================================================\n",
      "Total params: 41,253,084\n",
      "Trainable params: 41,050,284\n",
      "Non-trainable params: 202,800\n",
      "__________________________________________________________________________________________________\n"
     ]
    }
   ],
   "source": [
    "import DeepLabv3Plus\n",
    "\n",
    "im_height = 101\n",
    "im_width = 101\n",
    "im_chan = 1\n",
    "\n",
    "\n",
    "inputs = Input((im_height, im_width, im_chan))\n",
    "#s = Lambda(lambda x: x / 255) (inputs)\n",
    "s=inputs\n",
    "inputDepth = Input( (1,1,1) )\n",
    "\n",
    "\n",
    "curLayer = inputs#Concatenate()([inputs, depthIn])\n",
    "\n",
    "\n",
    "#s = ReflectionPadding2D( padding = ((13, 14), (13, 14)) ) (s)\n",
    "s = ZeroPadding2D( padding = ((13, 14), (13, 14)) ) (curLayer)\n",
    "s = Conv2D(3, (1, 1), activation='relu') (s) #(1,1)\n",
    "\n",
    "dlmodel = DeepLabv3Plus.Deeplabv3(input_shape=(128, 128, 3), classes=21, backbone='xception') #\n",
    "\n",
    "outputs = dlmodel(s)\n",
    "\n",
    "dd = Lambda(lambda x: x * 0.001) (inputDepth)\n",
    "dd = Lambda(lambda x: ModelUNet._expand(x, 128, 128) )(dd)\n",
    "outputs = Concatenate()([outputs, dd])\n",
    "\n",
    "outputs = Conv2D(1, (1, 1), activation='sigmoid') (outputs)\n",
    "outputs = Cropping2D(cropping=((13, 14), (13, 14)) ) (outputs)\n",
    "\n",
    "#model = Model(inputs=[inputs], outputs=[outputs, outputs])\n",
    "#model.compile(optimizer='adam', loss=['binary_crossentropy', dice_loss], loss_weights=[0.01, 1.2], metrics=[mean_iou])\n",
    "model = Model(inputs=[inputs, inputDepth], outputs=outputs)\n",
    "model.compile(optimizer='adam', loss=[ModelUNet.dice_loss], metrics=[ModelUNet.mean_iou])\n",
    "model.summary()"
   ]
  },
  {
   "cell_type": "markdown",
   "metadata": {
    "colab_type": "text",
    "id": "CT0_7k0iW5bh"
   },
   "source": [
    "# Training"
   ]
  },
  {
   "cell_type": "code",
   "execution_count": 33,
   "metadata": {
    "colab": {},
    "colab_type": "code",
    "id": "V6zDpL9pTNb4"
   },
   "outputs": [],
   "source": [
    "import math\n",
    "from keras.callbacks import EarlyStopping, ModelCheckpoint, LearningRateScheduler\n",
    "def step_decay(epoch):\n",
    "    initial_lrate = 0.00015                \n",
    "    drop = 0.6\n",
    "    epochs_drop = 50.0\n",
    "    lrate = initial_lrate * math.pow(drop,  \n",
    "            math.floor((1+epoch)/epochs_drop))\n",
    "    \n",
    "    if (lrate < 5e-7):\n",
    "        lrate = 5e-7\n",
    "      \n",
    "    print('Changing learning rate to {}'.format(lrate))\n",
    "    return lrate\n",
    "lrate = LearningRateScheduler(step_decay)"
   ]
  },
  {
   "cell_type": "code",
   "execution_count": 34,
   "metadata": {
    "colab": {
     "base_uri": "https://localhost:8080/",
     "height": 3179
    },
    "colab_type": "code",
    "id": "dyt7eewqDTIk",
    "outputId": "fd7ee0f3-d0c9-4b50-e00a-445bfe2d98b6",
    "scrolled": true
   },
   "outputs": [
    {
     "name": "stdout",
     "output_type": "stream",
     "text": [
      "Epoch 1/200\n",
      "Changing learning rate to 5e-06\n",
      "120/120 [==============================] - 157s 1s/step - loss: 0.0155 - mean_iou: 0.9147 - val_loss: 0.2290 - val_mean_iou: 0.9149\n",
      "\n",
      "Epoch 00001: val_loss improved from inf to 0.22898, saving model to model-tgs-salt-1.h5\n",
      "160/160 [==============================] - 2s 14ms/step\n",
      "Accurate validation score is 0.79. Best so far is 0\n",
      "Saving model-tgs-salt-IV.h5\n",
      "Epoch 2/200\n",
      "Changing learning rate to 5e-06\n",
      "120/120 [==============================] - 155s 1s/step - loss: 0.0159 - mean_iou: 0.9151 - val_loss: 0.2277 - val_mean_iou: 0.9153\n",
      "\n",
      "Epoch 00002: val_loss improved from 0.22898 to 0.22769, saving model to model-tgs-salt-1.h5\n",
      "160/160 [==============================] - 2s 14ms/step\n",
      "Accurate validation score is 0.79. Best so far is 0.79\n",
      "Epoch 3/200\n",
      "Changing learning rate to 5e-06\n",
      "120/120 [==============================] - 157s 1s/step - loss: 0.0158 - mean_iou: 0.9154 - val_loss: 0.2315 - val_mean_iou: 0.9156\n",
      "\n",
      "Epoch 00003: val_loss did not improve from 0.22769\n",
      "160/160 [==============================] - 2s 14ms/step\n",
      "Accurate validation score is 0.7875. Best so far is 0.79\n",
      "Epoch 4/200\n",
      "Changing learning rate to 5e-06\n",
      "120/120 [==============================] - 157s 1s/step - loss: 0.0154 - mean_iou: 0.9158 - val_loss: 0.2320 - val_mean_iou: 0.9160\n",
      "\n",
      "Epoch 00004: val_loss did not improve from 0.22769\n",
      "160/160 [==============================] - 2s 14ms/step\n",
      "Accurate validation score is 0.7843749999999999. Best so far is 0.79\n",
      "Epoch 5/200\n",
      "Changing learning rate to 5e-06\n",
      "120/120 [==============================] - 156s 1s/step - loss: 0.0155 - mean_iou: 0.9161 - val_loss: 0.2310 - val_mean_iou: 0.9163\n",
      "\n",
      "Epoch 00005: val_loss did not improve from 0.22769\n",
      "160/160 [==============================] - 2s 14ms/step\n",
      "Accurate validation score is 0.78. Best so far is 0.79\n",
      "Epoch 6/200\n",
      "Changing learning rate to 5e-06\n",
      "120/120 [==============================] - 156s 1s/step - loss: 0.0160 - mean_iou: 0.9165 - val_loss: 0.2285 - val_mean_iou: 0.9166\n",
      "\n",
      "Epoch 00006: val_loss did not improve from 0.22769\n",
      "160/160 [==============================] - 2s 14ms/step\n",
      "Accurate validation score is 0.7887500000000001. Best so far is 0.79\n",
      "Epoch 7/200\n",
      "Changing learning rate to 5e-06\n",
      "120/120 [==============================] - 156s 1s/step - loss: 0.0152 - mean_iou: 0.9168 - val_loss: 0.2284 - val_mean_iou: 0.9170\n",
      "\n",
      "Epoch 00007: val_loss did not improve from 0.22769\n",
      "160/160 [==============================] - 2s 14ms/step\n",
      "Accurate validation score is 0.783125. Best so far is 0.79\n",
      "Epoch 8/200\n",
      "Changing learning rate to 5e-06\n",
      "120/120 [==============================] - 157s 1s/step - loss: 0.0153 - mean_iou: 0.9171 - val_loss: 0.2265 - val_mean_iou: 0.9173\n",
      "\n",
      "Epoch 00008: val_loss improved from 0.22769 to 0.22645, saving model to model-tgs-salt-1.h5\n",
      "160/160 [==============================] - 2s 14ms/step\n",
      "Accurate validation score is 0.7762499999999999. Best so far is 0.79\n",
      "Epoch 9/200\n",
      "Changing learning rate to 5e-06\n",
      "120/120 [==============================] - 157s 1s/step - loss: 0.0153 - mean_iou: 0.9174 - val_loss: 0.2281 - val_mean_iou: 0.9176\n",
      "\n",
      "Epoch 00009: val_loss did not improve from 0.22645\n",
      "160/160 [==============================] - 2s 14ms/step\n",
      "Accurate validation score is 0.78625. Best so far is 0.79\n",
      "Epoch 10/200\n",
      "Changing learning rate to 5e-06\n",
      " 69/120 [================>.............] - ETA: 1:05 - loss: 0.0155 - mean_iou: 0.9177"
     ]
    },
    {
     "ename": "KeyboardInterrupt",
     "evalue": "",
     "output_type": "error",
     "traceback": [
      "\u001b[0;31m---------------------------------------------------------------------------\u001b[0m",
      "\u001b[0;31mKeyboardInterrupt\u001b[0m                         Traceback (most recent call last)",
      "\u001b[0;32m<ipython-input-34-4e1f94c46cbd>\u001b[0m in \u001b[0;36m<module>\u001b[0;34m()\u001b[0m\n\u001b[1;32m      7\u001b[0m results = model.fit_generator(train_generator, epochs=200, steps_per_epoch=len(X_train0) / 32, \n\u001b[1;32m      8\u001b[0m                               \u001b[0mvalidation_data\u001b[0m\u001b[0;34m=\u001b[0m\u001b[0;34m(\u001b[0m \u001b[0;34m[\u001b[0m\u001b[0mX_val\u001b[0m\u001b[0;34m,\u001b[0m \u001b[0md_val\u001b[0m\u001b[0;34m]\u001b[0m\u001b[0;34m,\u001b[0m \u001b[0mY_val\u001b[0m\u001b[0;34m)\u001b[0m\u001b[0;34m,\u001b[0m\u001b[0;34m\u001b[0m\u001b[0m\n\u001b[0;32m----> 9\u001b[0;31m                               callbacks=[earlystopper, checkpointer, lrate, internalEval])\n\u001b[0m",
      "\u001b[0;32m/anaconda/envs/py35/lib/python3.5/site-packages/keras/legacy/interfaces.py\u001b[0m in \u001b[0;36mwrapper\u001b[0;34m(*args, **kwargs)\u001b[0m\n\u001b[1;32m     89\u001b[0m                 warnings.warn('Update your `' + object_name +\n\u001b[1;32m     90\u001b[0m                               '` call to the Keras 2 API: ' + signature, stacklevel=2)\n\u001b[0;32m---> 91\u001b[0;31m             \u001b[0;32mreturn\u001b[0m \u001b[0mfunc\u001b[0m\u001b[0;34m(\u001b[0m\u001b[0;34m*\u001b[0m\u001b[0margs\u001b[0m\u001b[0;34m,\u001b[0m \u001b[0;34m**\u001b[0m\u001b[0mkwargs\u001b[0m\u001b[0;34m)\u001b[0m\u001b[0;34m\u001b[0m\u001b[0m\n\u001b[0m\u001b[1;32m     92\u001b[0m         \u001b[0mwrapper\u001b[0m\u001b[0;34m.\u001b[0m\u001b[0m_original_function\u001b[0m \u001b[0;34m=\u001b[0m \u001b[0mfunc\u001b[0m\u001b[0;34m\u001b[0m\u001b[0m\n\u001b[1;32m     93\u001b[0m         \u001b[0;32mreturn\u001b[0m \u001b[0mwrapper\u001b[0m\u001b[0;34m\u001b[0m\u001b[0m\n",
      "\u001b[0;32m/anaconda/envs/py35/lib/python3.5/site-packages/keras/engine/training.py\u001b[0m in \u001b[0;36mfit_generator\u001b[0;34m(self, generator, steps_per_epoch, epochs, verbose, callbacks, validation_data, validation_steps, class_weight, max_queue_size, workers, use_multiprocessing, shuffle, initial_epoch)\u001b[0m\n\u001b[1;32m   1424\u001b[0m             \u001b[0muse_multiprocessing\u001b[0m\u001b[0;34m=\u001b[0m\u001b[0muse_multiprocessing\u001b[0m\u001b[0;34m,\u001b[0m\u001b[0;34m\u001b[0m\u001b[0m\n\u001b[1;32m   1425\u001b[0m             \u001b[0mshuffle\u001b[0m\u001b[0;34m=\u001b[0m\u001b[0mshuffle\u001b[0m\u001b[0;34m,\u001b[0m\u001b[0;34m\u001b[0m\u001b[0m\n\u001b[0;32m-> 1426\u001b[0;31m             initial_epoch=initial_epoch)\n\u001b[0m\u001b[1;32m   1427\u001b[0m \u001b[0;34m\u001b[0m\u001b[0m\n\u001b[1;32m   1428\u001b[0m     \u001b[0;34m@\u001b[0m\u001b[0minterfaces\u001b[0m\u001b[0;34m.\u001b[0m\u001b[0mlegacy_generator_methods_support\u001b[0m\u001b[0;34m\u001b[0m\u001b[0m\n",
      "\u001b[0;32m/anaconda/envs/py35/lib/python3.5/site-packages/keras/engine/training_generator.py\u001b[0m in \u001b[0;36mfit_generator\u001b[0;34m(model, generator, steps_per_epoch, epochs, verbose, callbacks, validation_data, validation_steps, class_weight, max_queue_size, workers, use_multiprocessing, shuffle, initial_epoch)\u001b[0m\n\u001b[1;32m    189\u001b[0m                 outs = model.train_on_batch(x, y,\n\u001b[1;32m    190\u001b[0m                                             \u001b[0msample_weight\u001b[0m\u001b[0;34m=\u001b[0m\u001b[0msample_weight\u001b[0m\u001b[0;34m,\u001b[0m\u001b[0;34m\u001b[0m\u001b[0m\n\u001b[0;32m--> 191\u001b[0;31m                                             class_weight=class_weight)\n\u001b[0m\u001b[1;32m    192\u001b[0m \u001b[0;34m\u001b[0m\u001b[0m\n\u001b[1;32m    193\u001b[0m                 \u001b[0;32mif\u001b[0m \u001b[0;32mnot\u001b[0m \u001b[0misinstance\u001b[0m\u001b[0;34m(\u001b[0m\u001b[0mouts\u001b[0m\u001b[0;34m,\u001b[0m \u001b[0mlist\u001b[0m\u001b[0;34m)\u001b[0m\u001b[0;34m:\u001b[0m\u001b[0;34m\u001b[0m\u001b[0m\n",
      "\u001b[0;32m/anaconda/envs/py35/lib/python3.5/site-packages/keras/engine/training.py\u001b[0m in \u001b[0;36mtrain_on_batch\u001b[0;34m(self, x, y, sample_weight, class_weight)\u001b[0m\n\u001b[1;32m   1218\u001b[0m             \u001b[0mins\u001b[0m \u001b[0;34m=\u001b[0m \u001b[0mx\u001b[0m \u001b[0;34m+\u001b[0m \u001b[0my\u001b[0m \u001b[0;34m+\u001b[0m \u001b[0msample_weights\u001b[0m\u001b[0;34m\u001b[0m\u001b[0m\n\u001b[1;32m   1219\u001b[0m         \u001b[0mself\u001b[0m\u001b[0;34m.\u001b[0m\u001b[0m_make_train_function\u001b[0m\u001b[0;34m(\u001b[0m\u001b[0;34m)\u001b[0m\u001b[0;34m\u001b[0m\u001b[0m\n\u001b[0;32m-> 1220\u001b[0;31m         \u001b[0moutputs\u001b[0m \u001b[0;34m=\u001b[0m \u001b[0mself\u001b[0m\u001b[0;34m.\u001b[0m\u001b[0mtrain_function\u001b[0m\u001b[0;34m(\u001b[0m\u001b[0mins\u001b[0m\u001b[0;34m)\u001b[0m\u001b[0;34m\u001b[0m\u001b[0m\n\u001b[0m\u001b[1;32m   1221\u001b[0m         \u001b[0;32mif\u001b[0m \u001b[0mlen\u001b[0m\u001b[0;34m(\u001b[0m\u001b[0moutputs\u001b[0m\u001b[0;34m)\u001b[0m \u001b[0;34m==\u001b[0m \u001b[0;36m1\u001b[0m\u001b[0;34m:\u001b[0m\u001b[0;34m\u001b[0m\u001b[0m\n\u001b[1;32m   1222\u001b[0m             \u001b[0;32mreturn\u001b[0m \u001b[0moutputs\u001b[0m\u001b[0;34m[\u001b[0m\u001b[0;36m0\u001b[0m\u001b[0;34m]\u001b[0m\u001b[0;34m\u001b[0m\u001b[0m\n",
      "\u001b[0;32m/anaconda/envs/py35/lib/python3.5/site-packages/keras/backend/tensorflow_backend.py\u001b[0m in \u001b[0;36m__call__\u001b[0;34m(self, inputs)\u001b[0m\n\u001b[1;32m   2659\u001b[0m                 \u001b[0;32mreturn\u001b[0m \u001b[0mself\u001b[0m\u001b[0;34m.\u001b[0m\u001b[0m_legacy_call\u001b[0m\u001b[0;34m(\u001b[0m\u001b[0minputs\u001b[0m\u001b[0;34m)\u001b[0m\u001b[0;34m\u001b[0m\u001b[0m\n\u001b[1;32m   2660\u001b[0m \u001b[0;34m\u001b[0m\u001b[0m\n\u001b[0;32m-> 2661\u001b[0;31m             \u001b[0;32mreturn\u001b[0m \u001b[0mself\u001b[0m\u001b[0;34m.\u001b[0m\u001b[0m_call\u001b[0m\u001b[0;34m(\u001b[0m\u001b[0minputs\u001b[0m\u001b[0;34m)\u001b[0m\u001b[0;34m\u001b[0m\u001b[0m\n\u001b[0m\u001b[1;32m   2662\u001b[0m         \u001b[0;32melse\u001b[0m\u001b[0;34m:\u001b[0m\u001b[0;34m\u001b[0m\u001b[0m\n\u001b[1;32m   2663\u001b[0m             \u001b[0;32mif\u001b[0m \u001b[0mpy_any\u001b[0m\u001b[0;34m(\u001b[0m\u001b[0mis_tensor\u001b[0m\u001b[0;34m(\u001b[0m\u001b[0mx\u001b[0m\u001b[0;34m)\u001b[0m \u001b[0;32mfor\u001b[0m \u001b[0mx\u001b[0m \u001b[0;32min\u001b[0m \u001b[0minputs\u001b[0m\u001b[0;34m)\u001b[0m\u001b[0;34m:\u001b[0m\u001b[0;34m\u001b[0m\u001b[0m\n",
      "\u001b[0;32m/anaconda/envs/py35/lib/python3.5/site-packages/keras/backend/tensorflow_backend.py\u001b[0m in \u001b[0;36m_call\u001b[0;34m(self, inputs)\u001b[0m\n\u001b[1;32m   2629\u001b[0m                                 \u001b[0msymbol_vals\u001b[0m\u001b[0;34m,\u001b[0m\u001b[0;34m\u001b[0m\u001b[0m\n\u001b[1;32m   2630\u001b[0m                                 session)\n\u001b[0;32m-> 2631\u001b[0;31m         \u001b[0mfetched\u001b[0m \u001b[0;34m=\u001b[0m \u001b[0mself\u001b[0m\u001b[0;34m.\u001b[0m\u001b[0m_callable_fn\u001b[0m\u001b[0;34m(\u001b[0m\u001b[0;34m*\u001b[0m\u001b[0marray_vals\u001b[0m\u001b[0;34m)\u001b[0m\u001b[0;34m\u001b[0m\u001b[0m\n\u001b[0m\u001b[1;32m   2632\u001b[0m         \u001b[0;32mreturn\u001b[0m \u001b[0mfetched\u001b[0m\u001b[0;34m[\u001b[0m\u001b[0;34m:\u001b[0m\u001b[0mlen\u001b[0m\u001b[0;34m(\u001b[0m\u001b[0mself\u001b[0m\u001b[0;34m.\u001b[0m\u001b[0moutputs\u001b[0m\u001b[0;34m)\u001b[0m\u001b[0;34m]\u001b[0m\u001b[0;34m\u001b[0m\u001b[0m\n\u001b[1;32m   2633\u001b[0m \u001b[0;34m\u001b[0m\u001b[0m\n",
      "\u001b[0;32m/anaconda/envs/py35/lib/python3.5/site-packages/tensorflow/python/client/session.py\u001b[0m in \u001b[0;36m__call__\u001b[0;34m(self, *args)\u001b[0m\n\u001b[1;32m   1449\u001b[0m         \u001b[0;32mif\u001b[0m \u001b[0mself\u001b[0m\u001b[0;34m.\u001b[0m\u001b[0m_session\u001b[0m\u001b[0;34m.\u001b[0m\u001b[0m_created_with_new_api\u001b[0m\u001b[0;34m:\u001b[0m\u001b[0;34m\u001b[0m\u001b[0m\n\u001b[1;32m   1450\u001b[0m           return tf_session.TF_SessionRunCallable(\n\u001b[0;32m-> 1451\u001b[0;31m               self._session._session, self._handle, args, status, None)\n\u001b[0m\u001b[1;32m   1452\u001b[0m         \u001b[0;32melse\u001b[0m\u001b[0;34m:\u001b[0m\u001b[0;34m\u001b[0m\u001b[0m\n\u001b[1;32m   1453\u001b[0m           return tf_session.TF_DeprecatedSessionRunCallable(\n",
      "\u001b[0;31mKeyboardInterrupt\u001b[0m: "
     ]
    }
   ],
   "source": [
    "earlystopper = EarlyStopping(patience=75, verbose=1)\n",
    "checkpointer = ModelCheckpoint('model-tgs-salt-1.h5', verbose=1, save_best_only=True)\n",
    "internalEval = ModelUNet.IntervalEvaluation( validation_data=( [X_val, d_val], Y_val), interval = 1 )\n",
    "#results = model.fit([X_train0, d_train0], Y_train0, validation_split=0.08, batch_size=16, epochs=100, \n",
    "#                    callbacks=[earlystopper, checkpointer, lrate])\n",
    "\n",
    "results = model.fit_generator(train_generator, epochs=200, steps_per_epoch=len(X_train0) / 32, \n",
    "                              validation_data=( [X_val, d_val], Y_val),\n",
    "                              callbacks=[earlystopper, checkpointer, lrate, internalEval])\n"
   ]
  },
  {
   "cell_type": "code",
   "execution_count": 26,
   "metadata": {},
   "outputs": [
    {
     "data": {
      "text/plain": [
       "[<matplotlib.lines.Line2D at 0x7fa52530deb8>]"
      ]
     },
     "execution_count": 26,
     "metadata": {},
     "output_type": "execute_result"
    },
    {
     "data": {
      "image/png": "[encoded data removed]",
      "text/plain": [
       "<Figure size 432x288 with 1 Axes>"
      ]
     },
     "metadata": {},
     "output_type": "display_data"
    }
   ],
   "source": [
    "plt.plot(internalEval.score_list[4:])"
   ]
  },
  {
   "cell_type": "code",
   "execution_count": 101,
   "metadata": {
    "colab": {
     "base_uri": "https://localhost:8080/",
     "height": 34
    },
    "colab_type": "code",
    "id": "Ll6kIRmGJ2v2",
    "outputId": "8fb91aa3-0315-480f-acb2-543fcc4193fe"
   },
   "outputs": [
    {
     "name": "stdout",
     "output_type": "stream",
     "text": [
      "dict_keys(['val_loss', 'loss', 'val_mean_iou', 'mean_iou'])\n"
     ]
    }
   ],
   "source": [
    "# list all data in history\n",
    "print(results.history.keys())"
   ]
  },
  {
   "cell_type": "code",
   "execution_count": 102,
   "metadata": {
    "colab": {
     "base_uri": "https://localhost:8080/",
     "height": 571
    },
    "colab_type": "code",
    "id": "RWk2IN87A49p",
    "outputId": "5b07b05f-5e05-4b39-a4e3-2dd258fc137d"
   },
   "outputs": [
    {
     "data": {
      "image/png": "[encoded data removed]",
      "text/plain": [
       "<Figure size 432x288 with 1 Axes>"
      ]
     },
     "metadata": {},
     "output_type": "display_data"
    },
    {
     "data": {
      "image/png": "[encoded data removed]",
      "text/plain": [
       "<Figure size 432x288 with 1 Axes>"
      ]
     },
     "metadata": {},
     "output_type": "display_data"
    }
   ],
   "source": [
    "# summarize history for intersestion over union\n",
    "plt.plot(results.history['mean_iou'])\n",
    "plt.plot(results.history['val_mean_iou'])\n",
    "plt.title('model IoU')\n",
    "plt.ylabel('accuracy')\n",
    "plt.xlabel('epoch')\n",
    "plt.legend(['train', 'test'], loc='upper left')\n",
    "plt.show()\n",
    "# summarize history for loss\n",
    "plt.plot(results.history['loss'])\n",
    "plt.plot(results.history['val_loss'])\n",
    "plt.title('model loss')\n",
    "plt.ylabel('loss')\n",
    "plt.xlabel('epoch')\n",
    "plt.legend(['train', 'test'], loc='upper left')\n",
    "plt.show()"
   ]
  },
  {
   "cell_type": "code",
   "execution_count": 109,
   "metadata": {
    "colab": {},
    "colab_type": "code",
    "id": "XW_rfkR1dWKs"
   },
   "outputs": [],
   "source": [
    "model = load_model('model-tgs-salt-IV.h5', custom_objects={'mean_iou': ModelUNet.mean_iou, 'dice_loss' : ModelUNet.dice_loss, \n",
    "                                                           '_expand': ModelUNet._expand, 'relu6': DeepLabv3Plus.relu6, 'BilinearUpsampling': DeepLabv3Plus.BilinearUpsampling }) #, 'ReflectionPadding2D' : ReflectionPadding2D})\n",
    "#model.save('model-tgs-salt-1.h5')"
   ]
  },
  {
   "cell_type": "code",
   "execution_count": 52,
   "metadata": {
    "colab": {},
    "colab_type": "code",
    "id": "qNr4jF7z4gZd"
   },
   "outputs": [],
   "source": [
    "#from google.colab import files\n",
    "#files.download('model-tgs-salt-1.h5')\n",
    "#files.upload()"
   ]
  },
  {
   "cell_type": "code",
   "execution_count": 53,
   "metadata": {},
   "outputs": [],
   "source": [
    "#for i in tqdm(range(len(X_train0))):\n",
    "#    X_train0[i] = image_datagen.standardize(X_train0[i].astype(float))\n",
    "    \n",
    "#for i in tqdm(range(len(X_val))):\n",
    "#    X_val[i] = image_datagen.standardize(X_val[i].astype(float))"
   ]
  },
  {
   "cell_type": "code",
   "execution_count": 111,
   "metadata": {
    "colab": {
     "base_uri": "https://localhost:8080/",
     "height": 51
    },
    "colab_type": "code",
    "id": "8XSdRAqCdYfF",
    "outputId": "e6c5ecde-a26f-4e6c-a61f-f197d85310de"
   },
   "outputs": [
    {
     "name": "stdout",
     "output_type": "stream",
     "text": [
      "3520/3520 [==============================] - 40s 12ms/step\n",
      "480/480 [==============================] - 3s 5ms/step\n"
     ]
    }
   ],
   "source": [
    "preds_train = model.predict([X_train0, d_train0], verbose=1)\n",
    "preds_val = model.predict([X_val,d_val], verbose=1)"
   ]
  },
  {
   "cell_type": "markdown",
   "metadata": {},
   "source": [
    "## Watershed"
   ]
  },
  {
   "cell_type": "code",
   "execution_count": 112,
   "metadata": {},
   "outputs": [],
   "source": [
    "# Perform a sanity check on some random training samples\n",
    "from skimage.morphology import watershed\n",
    "\n",
    "ix = np.random.randint(0, len(preds_val))\n",
    "ix=64"
   ]
  },
  {
   "cell_type": "code",
   "execution_count": 113,
   "metadata": {},
   "outputs": [
    {
     "data": {
      "image/png": "[encoded data removed]",
      "text/plain": [
       "<Figure size 432x288 with 1 Axes>"
      ]
     },
     "metadata": {},
     "output_type": "display_data"
    },
    {
     "data": {
      "image/png": "[encoded data removed]",
      "text/plain": [
       "<Figure size 432x288 with 1 Axes>"
      ]
     },
     "metadata": {},
     "output_type": "display_data"
    },
    {
     "data": {
      "image/png": "[encoded data removed]",
      "text/plain": [
       "<Figure size 432x288 with 1 Axes>"
      ]
     },
     "metadata": {},
     "output_type": "display_data"
    },
    {
     "data": {
      "image/png": "[encoded data removed]",
      "text/plain": [
       "<Figure size 432x288 with 1 Axes>"
      ]
     },
     "metadata": {},
     "output_type": "display_data"
    }
   ],
   "source": [
    "plt.imshow(X_val[ix,:,:,0])\n",
    "plt.show()\n",
    "\n",
    "plt.imshow(Y_val[ix,:,:,0])\n",
    "#tmp = np.squeeze(Y_train[ix]).astype(np.float32)\n",
    "#plt.imshow(np.dstack((tmp,tmp,tmp)))\n",
    "plt.show()\n",
    "\n",
    "#show raw predictions\n",
    "plt.imshow(preds_val[ix,:,:,0])\n",
    "plt.show()\n",
    "\n",
    "#show raw predictions\n",
    "plt.imshow(preds_val[ix,:,:,0] > 0.15)\n",
    "plt.show()"
   ]
  },
  {
   "cell_type": "code",
   "execution_count": 114,
   "metadata": {},
   "outputs": [
    {
     "data": {
      "image/png": "[encoded data removed]",
      "text/plain": [
       "<Figure size 432x288 with 1 Axes>"
      ]
     },
     "metadata": {},
     "output_type": "display_data"
    }
   ],
   "source": [
    "markers = np.zeros_like(preds_val[ix,:,:,0])\n",
    "markers[preds_val[ix,:,:,0] < 0.1] = 2\n",
    "markers[preds_val[ix,:,:,0] > 0.4] = 1\n",
    "plt.imshow(markers)\n",
    "plt.show()"
   ]
  },
  {
   "cell_type": "code",
   "execution_count": 115,
   "metadata": {},
   "outputs": [
    {
     "data": {
      "text/plain": [
       "<matplotlib.image.AxesImage at 0x7f13bc7354e0>"
      ]
     },
     "execution_count": 115,
     "metadata": {},
     "output_type": "execute_result"
    },
    {
     "data": {
      "image/png": "[encoded data removed]",
      "text/plain": [
       "<Figure size 432x288 with 1 Axes>"
      ]
     },
     "metadata": {},
     "output_type": "display_data"
    }
   ],
   "source": [
    "segmentation = watershed(preds_val[ix,:,:,0], markers)\n",
    "segmentation[segmentation == 2] = 0\n",
    "plt.imshow(segmentation)"
   ]
  },
  {
   "cell_type": "code",
   "execution_count": 116,
   "metadata": {},
   "outputs": [
    {
     "data": {
      "text/plain": [
       "array([[1, 1, 1, ..., 0, 0, 0],\n",
       "       [1, 1, 1, ..., 0, 0, 0],\n",
       "       [1, 1, 1, ..., 0, 0, 0],\n",
       "       ...,\n",
       "       [0, 0, 0, ..., 0, 0, 0],\n",
       "       [0, 0, 0, ..., 0, 0, 0],\n",
       "       [0, 0, 0, ..., 0, 0, 0]], dtype=int32)"
      ]
     },
     "execution_count": 116,
     "metadata": {},
     "output_type": "execute_result"
    }
   ],
   "source": [
    "segmentation"
   ]
  },
  {
   "cell_type": "code",
   "execution_count": null,
   "metadata": {},
   "outputs": [],
   "source": []
  },
  {
   "cell_type": "code",
   "execution_count": 117,
   "metadata": {
    "scrolled": true
   },
   "outputs": [
    {
     "name": "stderr",
     "output_type": "stream",
     "text": [
      "  0%|          | 0/65 [00:00<?, ?it/s]\n",
      "  0%|          | 0/480 [00:00<?, ?it/s]\u001b[A\n",
      "  9%|▉         | 43/480 [00:00<00:01, 426.92it/s]\u001b[A\n",
      " 18%|█▊        | 87/480 [00:00<00:00, 429.08it/s]\u001b[A\n",
      " 27%|██▋       | 130/480 [00:00<00:00, 428.86it/s]\u001b[A\n",
      " 35%|███▌      | 168/480 [00:00<00:00, 414.43it/s]\u001b[A\n",
      " 44%|████▍     | 211/480 [00:00<00:00, 416.29it/s]\u001b[A\n",
      " 53%|█████▎    | 255/480 [00:00<00:00, 418.98it/s]\u001b[A\n",
      " 62%|██████▏   | 298/480 [00:00<00:00, 419.62it/s]\u001b[A\n",
      " 71%|███████   | 341/480 [00:00<00:00, 420.36it/s]\u001b[A\n",
      " 79%|███████▉  | 381/480 [00:00<00:00, 416.94it/s]\u001b[A\n",
      " 88%|████████▊ | 422/480 [00:01<00:00, 415.89it/s]\u001b[A\n",
      " 97%|█████████▋| 464/480 [00:01<00:00, 415.50it/s]\u001b[A\n",
      "  2%|▏         | 1/65 [00:01<02:03,  1.94s/it]t/s]\u001b[A\n",
      "  0%|          | 0/480 [00:00<?, ?it/s]\u001b[A\n",
      "  9%|▉         | 44/480 [00:00<00:01, 433.45it/s]\u001b[A\n",
      " 18%|█▊        | 88/480 [00:00<00:00, 433.36it/s]\u001b[A\n",
      " 27%|██▋       | 131/480 [00:00<00:00, 431.51it/s]\u001b[A\n",
      " 36%|███▋      | 175/480 [00:00<00:00, 431.35it/s]\u001b[A\n",
      " 45%|████▌     | 218/480 [00:00<00:00, 430.62it/s]\u001b[A\n",
      " 54%|█████▍    | 261/480 [00:00<00:00, 429.87it/s]\u001b[A\n",
      " 63%|██████▎   | 304/480 [00:00<00:00, 429.38it/s]\u001b[A\n",
      " 72%|███████▏  | 346/480 [00:00<00:00, 427.41it/s]\u001b[A\n",
      " 81%|████████  | 389/480 [00:00<00:00, 427.51it/s]\u001b[A\n",
      " 90%|████████▉ | 431/480 [00:01<00:00, 426.50it/s]\u001b[A\n",
      " 99%|█████████▉| 474/480 [00:01<00:00, 426.63it/s]\u001b[A\n",
      "  3%|▎         | 2/65 [00:03<02:00,  1.92s/it]t/s]\u001b[A\n",
      "  0%|          | 0/480 [00:00<?, ?it/s]\u001b[A\n",
      "  9%|▊         | 41/480 [00:00<00:01, 406.13it/s]\u001b[A\n",
      " 18%|█▊        | 85/480 [00:00<00:00, 419.01it/s]\u001b[A\n",
      " 26%|██▋       | 127/480 [00:00<00:00, 417.89it/s]\u001b[A\n",
      " 35%|███▌      | 170/480 [00:00<00:00, 420.89it/s]\u001b[A\n",
      " 45%|████▍     | 214/480 [00:00<00:00, 422.94it/s]\u001b[A\n",
      " 54%|█████▎    | 257/480 [00:00<00:00, 423.83it/s]\u001b[A\n",
      " 62%|██████▏   | 299/480 [00:00<00:00, 422.64it/s]\u001b[A\n",
      " 71%|███████▏  | 342/480 [00:00<00:00, 423.13it/s]\u001b[A\n",
      " 80%|████████  | 386/480 [00:00<00:00, 424.25it/s]\u001b[A\n",
      " 89%|████████▉ | 429/480 [00:01<00:00, 424.64it/s]\u001b[A\n",
      " 98%|█████████▊| 472/480 [00:01<00:00, 423.21it/s]\u001b[A\n",
      "  5%|▍         | 3/65 [00:05<01:58,  1.91s/it]t/s]\u001b[A\n",
      "  0%|          | 0/480 [00:00<?, ?it/s]\u001b[A\n",
      "  9%|▉         | 44/480 [00:00<00:01, 431.66it/s]\u001b[A\n",
      " 18%|█▊        | 87/480 [00:00<00:00, 430.50it/s]\u001b[A\n",
      " 27%|██▋       | 130/480 [00:00<00:00, 429.87it/s]\u001b[A\n",
      " 36%|███▋      | 174/480 [00:00<00:00, 430.68it/s]\u001b[A\n",
      " 45%|████▌     | 218/480 [00:00<00:00, 430.74it/s]\u001b[A\n",
      " 55%|█████▍    | 262/480 [00:00<00:00, 430.80it/s]\u001b[A\n",
      " 64%|██████▎   | 305/480 [00:00<00:00, 430.08it/s]\u001b[A\n",
      " 72%|███████▎  | 348/480 [00:00<00:00, 430.06it/s]\u001b[A\n",
      " 81%|████████▏ | 391/480 [00:00<00:00, 429.79it/s]\u001b[A\n",
      " 90%|█████████ | 434/480 [00:01<00:00, 429.20it/s]\u001b[A\n",
      " 99%|█████████▉| 476/480 [00:01<00:00, 425.64it/s]\u001b[A\n",
      "  6%|▌         | 4/65 [00:07<01:56,  1.91s/it]t/s]\u001b[A\n",
      "  0%|          | 0/480 [00:00<?, ?it/s]\u001b[A\n",
      "  9%|▉         | 43/480 [00:00<00:01, 427.46it/s]\u001b[A\n",
      " 18%|█▊        | 87/480 [00:00<00:00, 430.45it/s]\u001b[A\n",
      " 27%|██▋       | 130/480 [00:00<00:00, 429.46it/s]\u001b[A\n",
      " 36%|███▌      | 173/480 [00:00<00:00, 428.60it/s]\u001b[A\n",
      " 45%|████▌     | 216/480 [00:00<00:00, 428.85it/s]\u001b[A\n",
      " 54%|█████▍    | 260/480 [00:00<00:00, 429.37it/s]\u001b[A\n",
      " 63%|██████▎   | 303/480 [00:00<00:00, 429.31it/s]\u001b[A\n",
      " 72%|███████▏  | 347/480 [00:00<00:00, 429.65it/s]\u001b[A\n",
      " 81%|████████▏ | 390/480 [00:00<00:00, 429.25it/s]\u001b[A\n",
      " 90%|█████████ | 433/480 [00:01<00:00, 429.30it/s]\u001b[A\n",
      " 99%|█████████▉| 476/480 [00:01<00:00, 428.79it/s]\u001b[A\n",
      "  8%|▊         | 5/65 [00:09<01:54,  1.91s/it]t/s]\u001b[A\n",
      "  0%|          | 0/480 [00:00<?, ?it/s]\u001b[A\n",
      "  9%|▉         | 44/480 [00:00<00:01, 430.66it/s]\u001b[A\n",
      " 18%|█▊        | 88/480 [00:00<00:00, 431.64it/s]\u001b[A\n",
      " 27%|██▋       | 131/480 [00:00<00:00, 430.20it/s]\u001b[A\n",
      " 36%|███▋      | 174/480 [00:00<00:00, 429.85it/s]\u001b[A\n",
      " 45%|████▌     | 217/480 [00:00<00:00, 428.95it/s]\u001b[A\n",
      " 54%|█████▍    | 260/480 [00:00<00:00, 428.41it/s]\u001b[A\n",
      " 63%|██████▎   | 303/480 [00:00<00:00, 428.19it/s]\u001b[A\n",
      " 72%|███████▏  | 346/480 [00:00<00:00, 428.30it/s]\u001b[A\n",
      " 81%|████████  | 389/480 [00:00<00:00, 427.98it/s]\u001b[A\n",
      " 90%|█████████ | 432/480 [00:01<00:00, 427.40it/s]\u001b[A\n",
      " 99%|█████████▉| 475/480 [00:01<00:00, 427.46it/s]\u001b[A\n",
      "  9%|▉         | 6/65 [00:11<01:52,  1.91s/it]t/s]\u001b[A\n",
      "  0%|          | 0/480 [00:00<?, ?it/s]\u001b[A\n",
      "  9%|▉         | 44/480 [00:00<00:01, 430.80it/s]\u001b[A\n",
      " 18%|█▊        | 87/480 [00:00<00:00, 427.52it/s]\u001b[A\n",
      " 27%|██▋       | 130/480 [00:00<00:00, 426.72it/s]\u001b[A\n",
      " 36%|███▌      | 173/480 [00:00<00:00, 426.77it/s]\u001b[A\n",
      " 45%|████▌     | 217/480 [00:00<00:00, 428.48it/s]\u001b[A\n",
      " 54%|█████▍    | 260/480 [00:00<00:00, 427.83it/s]\u001b[A\n",
      " 63%|██████▎   | 304/480 [00:00<00:00, 428.30it/s]\u001b[A\n",
      " 72%|███████▎  | 348/480 [00:00<00:00, 428.79it/s]\u001b[A\n",
      " 82%|████████▏ | 392/480 [00:00<00:00, 429.09it/s]\u001b[A\n",
      " 91%|█████████ | 435/480 [00:01<00:00, 429.11it/s]\u001b[A\n",
      "100%|█████████▉| 478/480 [00:01<00:00, 428.72it/s]\u001b[A\n",
      " 11%|█         | 7/65 [00:13<01:50,  1.91s/it]t/s]\u001b[A\n",
      "  0%|          | 0/480 [00:00<?, ?it/s]\u001b[A\n",
      "  9%|▉         | 44/480 [00:00<00:00, 436.40it/s]\u001b[A\n",
      " 18%|█▊        | 88/480 [00:00<00:00, 436.15it/s]\u001b[A\n",
      " 27%|██▋       | 131/480 [00:00<00:00, 431.64it/s]\u001b[A\n",
      " 36%|███▋      | 175/480 [00:00<00:00, 431.59it/s]\u001b[A\n",
      " 46%|████▌     | 219/480 [00:00<00:00, 432.69it/s]\u001b[A\n",
      " 55%|█████▍    | 263/480 [00:00<00:00, 433.56it/s]\u001b[A\n",
      " 64%|██████▍   | 307/480 [00:00<00:00, 433.61it/s]\u001b[A\n",
      " 73%|███████▎  | 351/480 [00:00<00:00, 433.34it/s]\u001b[A\n",
      " 82%|████████▏ | 395/480 [00:00<00:00, 433.37it/s]\u001b[A\n",
      " 91%|█████████▏| 439/480 [00:01<00:00, 433.50it/s]\u001b[A\n",
      " 12%|█▏        | 8/65 [00:15<01:48,  1.90s/it]t/s]\u001b[A\n",
      "  0%|          | 0/480 [00:00<?, ?it/s]\u001b[A\n",
      "  9%|▉         | 45/480 [00:00<00:00, 439.51it/s]\u001b[A\n",
      " 19%|█▊        | 89/480 [00:00<00:00, 437.62it/s]\u001b[A\n",
      " 28%|██▊       | 133/480 [00:00<00:00, 437.71it/s]\u001b[A\n",
      " 37%|███▋      | 177/480 [00:00<00:00, 436.72it/s]\u001b[A\n",
      " 46%|████▌     | 221/480 [00:00<00:00, 436.11it/s]\u001b[A\n",
      " 55%|█████▌    | 265/480 [00:00<00:00, 435.05it/s]\u001b[A\n",
      " 64%|██████▍   | 308/480 [00:00<00:00, 433.89it/s]\u001b[A\n",
      " 73%|███████▎  | 352/480 [00:00<00:00, 433.64it/s]\u001b[A\n",
      " 82%|████████▏ | 394/480 [00:00<00:00, 431.49it/s]\u001b[A\n",
      " 91%|█████████ | 435/480 [00:01<00:00, 425.68it/s]\u001b[A\n",
      "100%|█████████▉| 478/480 [00:01<00:00, 425.32it/s]\u001b[A\n",
      " 14%|█▍        | 9/65 [00:17<01:46,  1.90s/it]t/s]\u001b[A\n",
      "  0%|          | 0/480 [00:00<?, ?it/s]\u001b[A\n",
      "  9%|▉         | 44/480 [00:00<00:01, 432.24it/s]\u001b[A\n",
      " 18%|█▊        | 88/480 [00:00<00:00, 431.23it/s]\u001b[A\n",
      " 27%|██▋       | 131/480 [00:00<00:00, 428.85it/s]\u001b[A\n",
      " 36%|███▋      | 175/480 [00:00<00:00, 429.10it/s]\u001b[A\n",
      " 45%|████▌     | 218/480 [00:00<00:00, 429.17it/s]\u001b[A\n",
      " 54%|█████▍    | 260/480 [00:00<00:00, 427.60it/s]\u001b[A\n",
      " 63%|██████▎   | 303/480 [00:00<00:00, 427.37it/s]\u001b[A\n",
      " 72%|███████▏  | 346/480 [00:00<00:00, 427.51it/s]\u001b[A\n",
      " 81%|████████  | 389/480 [00:00<00:00, 426.99it/s]\u001b[A\n",
      " 90%|█████████ | 432/480 [00:01<00:00, 426.73it/s]\u001b[A\n",
      " 99%|█████████▉| 475/480 [00:01<00:00, 426.66it/s]\u001b[A\n",
      " 15%|█▌        | 10/65 [00:18<01:44,  1.90s/it]/s]\u001b[A\n",
      "  0%|          | 0/480 [00:00<?, ?it/s]\u001b[A\n",
      "  9%|▉         | 44/480 [00:00<00:01, 431.94it/s]\u001b[A\n",
      " 18%|█▊        | 87/480 [00:00<00:00, 430.16it/s]\u001b[A\n",
      " 27%|██▋       | 130/480 [00:00<00:00, 428.01it/s]\u001b[A\n",
      " 36%|███▌      | 173/480 [00:00<00:00, 426.82it/s]\u001b[A\n",
      " 45%|████▌     | 216/480 [00:00<00:00, 427.13it/s]\u001b[A\n",
      " 54%|█████▍    | 259/480 [00:00<00:00, 426.90it/s]\u001b[A\n",
      " 63%|██████▎   | 302/480 [00:00<00:00, 426.78it/s]\u001b[A\n",
      " 72%|███████▏  | 346/480 [00:00<00:00, 427.25it/s]\u001b[A\n",
      " 81%|████████  | 389/480 [00:00<00:00, 427.52it/s]\u001b[A\n",
      " 90%|█████████ | 432/480 [00:01<00:00, 426.84it/s]\u001b[A\n",
      " 99%|█████████▉| 475/480 [00:01<00:00, 426.73it/s]\u001b[A\n",
      " 17%|█▋        | 11/65 [00:20<01:42,  1.90s/it]/s]\u001b[A\n",
      "  0%|          | 0/480 [00:00<?, ?it/s]\u001b[A\n",
      "  9%|▉         | 44/480 [00:00<00:01, 432.35it/s]\u001b[A\n",
      " 18%|█▊        | 88/480 [00:00<00:00, 433.30it/s]\u001b[A\n",
      " 27%|██▋       | 131/480 [00:00<00:00, 431.02it/s]\u001b[A\n",
      " 36%|███▋      | 174/480 [00:00<00:00, 430.59it/s]\u001b[A\n",
      " 45%|████▌     | 217/480 [00:00<00:00, 429.91it/s]\u001b[A\n",
      " 54%|█████▍    | 261/480 [00:00<00:00, 430.28it/s]\u001b[A\n",
      " 63%|██████▎   | 304/480 [00:00<00:00, 430.16it/s]\u001b[A\n",
      " 72%|███████▏  | 347/480 [00:00<00:00, 429.69it/s]\u001b[A\n",
      " 81%|████████▏ | 390/480 [00:00<00:00, 429.50it/s]\u001b[A\n",
      " 90%|█████████ | 433/480 [00:01<00:00, 428.71it/s]\u001b[A\n",
      " 99%|█████████▉| 476/480 [00:01<00:00, 428.69it/s]\u001b[A\n",
      " 18%|█▊        | 12/65 [00:22<01:40,  1.90s/it]/s]\u001b[A\n",
      "  0%|          | 0/480 [00:00<?, ?it/s]\u001b[A\n",
      "  9%|▉         | 44/480 [00:00<00:00, 436.76it/s]\u001b[A\n",
      " 18%|█▊        | 88/480 [00:00<00:00, 434.59it/s]\u001b[A\n",
      " 27%|██▋       | 131/480 [00:00<00:00, 432.51it/s]\u001b[A\n",
      " 36%|███▋      | 175/480 [00:00<00:00, 432.37it/s]\u001b[A\n",
      " 45%|████▌     | 218/480 [00:00<00:00, 430.89it/s]\u001b[A\n",
      " 54%|█████▍    | 261/480 [00:00<00:00, 429.68it/s]\u001b[A\n",
      " 64%|██████▎   | 305/480 [00:00<00:00, 429.99it/s]\u001b[A\n",
      " 72%|███████▎  | 348/480 [00:00<00:00, 429.97it/s]\u001b[A\n",
      " 82%|████████▏ | 392/480 [00:00<00:00, 429.86it/s]\u001b[A\n",
      " 91%|█████████ | 435/480 [00:01<00:00, 429.02it/s]\u001b[A\n",
      "100%|█████████▉| 479/480 [00:01<00:00, 429.33it/s]\u001b[A\n",
      " 20%|██        | 13/65 [00:24<01:38,  1.90s/it]/s]\u001b[A\n",
      "  0%|          | 0/480 [00:00<?, ?it/s]\u001b[A\n",
      "  9%|▉         | 44/480 [00:00<00:01, 430.00it/s]\u001b[A\n",
      " 18%|█▊        | 88/480 [00:00<00:00, 431.74it/s]\u001b[A\n",
      " 27%|██▋       | 130/480 [00:00<00:00, 421.24it/s]\u001b[A\n",
      " 36%|███▋      | 174/480 [00:00<00:00, 423.66it/s]\u001b[A\n",
      " 45%|████▌     | 217/480 [00:00<00:00, 423.76it/s]\u001b[A\n",
      " 54%|█████▍    | 261/480 [00:00<00:00, 424.94it/s]\u001b[A\n",
      " 63%|██████▎   | 303/480 [00:00<00:00, 424.40it/s]\u001b[A\n",
      " 72%|███████▏  | 347/480 [00:00<00:00, 425.44it/s]\u001b[A\n",
      " 81%|████████▏ | 390/480 [00:00<00:00, 425.66it/s]\u001b[A\n",
      " 90%|█████████ | 433/480 [00:01<00:00, 426.04it/s]\u001b[A\n",
      " 99%|█████████▉| 477/480 [00:01<00:00, 426.47it/s]\u001b[A\n",
      " 22%|██▏       | 14/65 [00:26<01:36,  1.90s/it]/s]\u001b[A\n",
      "  0%|          | 0/480 [00:00<?, ?it/s]\u001b[A\n",
      "  9%|▉         | 44/480 [00:00<00:01, 432.51it/s]\u001b[A\n",
      " 18%|█▊        | 88/480 [00:00<00:00, 433.29it/s]\u001b[A\n",
      " 27%|██▋       | 131/480 [00:00<00:00, 430.80it/s]\u001b[A\n",
      " 36%|███▋      | 175/480 [00:00<00:00, 430.68it/s]\u001b[A\n",
      " 46%|████▌     | 219/480 [00:00<00:00, 430.97it/s]\u001b[A\n",
      " 55%|█████▍    | 263/480 [00:00<00:00, 431.29it/s]\u001b[A\n",
      " 64%|██████▍   | 307/480 [00:00<00:00, 431.27it/s]\u001b[A\n",
      " 73%|███████▎  | 349/480 [00:00<00:00, 429.70it/s]\u001b[A\n",
      " 82%|████████▏ | 393/480 [00:00<00:00, 429.79it/s]\u001b[A\n",
      " 91%|█████████ | 436/480 [00:01<00:00, 429.44it/s]\u001b[A\n",
      "100%|█████████▉| 479/480 [00:01<00:00, 429.55it/s]\u001b[A\n",
      " 23%|██▎       | 15/65 [00:28<01:34,  1.89s/it]/s]\u001b[A\n",
      "  0%|          | 0/480 [00:00<?, ?it/s]\u001b[A\n",
      "  9%|▉         | 44/480 [00:00<00:01, 435.51it/s]\u001b[A\n",
      " 18%|█▊        | 88/480 [00:00<00:00, 434.08it/s]\u001b[A\n",
      " 27%|██▋       | 131/480 [00:00<00:00, 430.67it/s]\u001b[A\n",
      " 36%|███▋      | 174/480 [00:00<00:00, 428.27it/s]\u001b[A\n",
      " 45%|████▌     | 218/480 [00:00<00:00, 428.78it/s]\u001b[A\n",
      " 54%|█████▍    | 261/480 [00:00<00:00, 428.56it/s]\u001b[A\n",
      " 64%|██████▎   | 305/480 [00:00<00:00, 428.82it/s]\u001b[A\n",
      " 72%|███████▎  | 348/480 [00:00<00:00, 428.83it/s]\u001b[A\n",
      " 81%|████████▏ | 391/480 [00:00<00:00, 428.73it/s]\u001b[A\n",
      " 90%|█████████ | 434/480 [00:01<00:00, 428.46it/s]\u001b[A\n",
      " 99%|█████████▉| 477/480 [00:01<00:00, 428.48it/s]\u001b[A\n",
      " 25%|██▍       | 16/65 [00:30<01:32,  1.89s/it]/s]\u001b[A\n",
      "  0%|          | 0/480 [00:00<?, ?it/s]\u001b[A\n",
      "  9%|▉         | 44/480 [00:00<00:01, 426.83it/s]\u001b[A\n",
      " 18%|█▊        | 88/480 [00:00<00:00, 429.61it/s]\u001b[A\n",
      " 27%|██▋       | 131/480 [00:00<00:00, 428.63it/s]\u001b[A\n",
      " 36%|███▋      | 174/480 [00:00<00:00, 428.12it/s]\u001b[A\n",
      " 44%|████▍     | 213/480 [00:00<00:00, 420.24it/s]\u001b[A\n",
      " 53%|█████▎    | 256/480 [00:00<00:00, 421.03it/s]\u001b[A\n",
      " 62%|██████▏   | 299/480 [00:00<00:00, 422.25it/s]\u001b[A\n",
      " 71%|███████▏  | 343/480 [00:00<00:00, 423.36it/s]\u001b[A\n",
      " 81%|████████  | 387/480 [00:00<00:00, 424.73it/s]\u001b[A\n",
      " 89%|████████▉ | 429/480 [00:01<00:00, 424.16it/s]\u001b[A\n",
      " 98%|█████████▊| 471/480 [00:01<00:00, 422.50it/s]\u001b[A\n",
      " 26%|██▌       | 17/65 [00:32<01:30,  1.89s/it]/s]\u001b[A\n",
      "  0%|          | 0/480 [00:00<?, ?it/s]\u001b[A\n",
      "  9%|▉         | 44/480 [00:00<00:00, 436.18it/s]\u001b[A\n",
      " 18%|█▊        | 88/480 [00:00<00:00, 433.89it/s]\u001b[A\n",
      " 28%|██▊       | 132/480 [00:00<00:00, 434.78it/s]\u001b[A\n",
      " 37%|███▋      | 176/480 [00:00<00:00, 434.18it/s]\u001b[A\n",
      " 46%|████▌     | 220/480 [00:00<00:00, 434.79it/s]\u001b[A\n",
      " 55%|█████▌    | 264/480 [00:00<00:00, 434.70it/s]\u001b[A\n",
      " 64%|██████▍   | 307/480 [00:00<00:00, 433.93it/s]\u001b[A\n",
      " 73%|███████▎  | 350/480 [00:00<00:00, 432.72it/s]\u001b[A\n",
      " 82%|████████▏ | 393/480 [00:00<00:00, 432.15it/s]\u001b[A\n",
      " 91%|█████████ | 437/480 [00:01<00:00, 431.96it/s]\u001b[A\n",
      "100%|██████████| 480/480 [00:01<00:00, 431.66it/s]\u001b[A\n",
      " 28%|██▊       | 18/65 [00:34<01:28,  1.89s/it]\n",
      "  0%|          | 0/480 [00:00<?, ?it/s]\u001b[A\n",
      "  9%|▉         | 44/480 [00:00<00:01, 434.87it/s]\u001b[A\n",
      " 18%|█▊        | 88/480 [00:00<00:00, 436.67it/s]\u001b[A\n",
      " 27%|██▋       | 131/480 [00:00<00:00, 433.86it/s]\u001b[A\n",
      " 36%|███▋      | 174/480 [00:00<00:00, 432.68it/s]\u001b[A\n",
      " 45%|████▌     | 218/480 [00:00<00:00, 432.96it/s]\u001b[A\n",
      " 54%|█████▍    | 261/480 [00:00<00:00, 431.05it/s]\u001b[A\n",
      " 64%|██████▎   | 305/480 [00:00<00:00, 431.24it/s]\u001b[A\n",
      " 73%|███████▎  | 349/480 [00:00<00:00, 431.43it/s]\u001b[A\n",
      " 82%|████████▏ | 392/480 [00:00<00:00, 430.62it/s]\u001b[A\n",
      " 91%|█████████ | 435/480 [00:01<00:00, 430.29it/s]\u001b[A\n",
      "100%|█████████▉| 478/480 [00:01<00:00, 430.17it/s]\u001b[A\n",
      " 29%|██▉       | 19/65 [00:35<01:27,  1.89s/it]/s]\u001b[A\n",
      "  0%|          | 0/480 [00:00<?, ?it/s]\u001b[A\n",
      "  9%|▉         | 45/480 [00:00<00:00, 439.96it/s]\u001b[A\n",
      " 18%|█▊        | 88/480 [00:00<00:00, 433.10it/s]\u001b[A\n",
      " 28%|██▊       | 132/480 [00:00<00:00, 434.34it/s]\u001b[A\n",
      " 36%|███▋      | 175/480 [00:00<00:00, 433.14it/s]\u001b[A\n",
      " 45%|████▌     | 216/480 [00:00<00:00, 427.89it/s]\u001b[A\n",
      " 54%|█████▍    | 260/480 [00:00<00:00, 429.32it/s]\u001b[A\n",
      " 63%|██████▎   | 304/480 [00:00<00:00, 429.40it/s]\u001b[A\n",
      " 72%|███████▎  | 348/480 [00:00<00:00, 430.21it/s]\u001b[A\n",
      " 82%|████████▏ | 392/480 [00:00<00:00, 430.53it/s]\u001b[A\n",
      " 91%|█████████ | 435/480 [00:01<00:00, 429.96it/s]\u001b[A\n",
      "100%|█████████▉| 478/480 [00:01<00:00, 429.82it/s]\u001b[A\n",
      " 31%|███       | 20/65 [00:37<01:25,  1.89s/it]/s]\u001b[A\n",
      "  0%|          | 0/480 [00:00<?, ?it/s]\u001b[A\n",
      "  9%|▉         | 44/480 [00:00<00:00, 437.35it/s]\u001b[A\n",
      " 18%|█▊        | 87/480 [00:00<00:00, 431.08it/s]\u001b[A\n",
      " 27%|██▋       | 130/480 [00:00<00:00, 430.36it/s]\u001b[A\n",
      " 36%|███▋      | 174/480 [00:00<00:00, 431.13it/s]\u001b[A\n",
      " 45%|████▌     | 217/480 [00:00<00:00, 430.67it/s]\u001b[A\n",
      " 54%|█████▍    | 261/480 [00:00<00:00, 431.67it/s]\u001b[A\n",
      " 63%|██████▎   | 304/480 [00:00<00:00, 430.57it/s]\u001b[A\n",
      " 72%|███████▎  | 348/480 [00:00<00:00, 431.01it/s]\u001b[A\n",
      " 82%|████████▏ | 392/480 [00:00<00:00, 431.15it/s]\u001b[A\n",
      " 91%|█████████ | 436/480 [00:01<00:00, 431.49it/s]\u001b[A\n",
      "100%|██████████| 480/480 [00:01<00:00, 431.84it/s]\u001b[A\n",
      " 32%|███▏      | 21/65 [00:39<01:23,  1.89s/it]\n",
      "  0%|          | 0/480 [00:00<?, ?it/s]\u001b[A\n",
      "  9%|▉         | 44/480 [00:00<00:01, 434.15it/s]\u001b[A\n",
      " 18%|█▊        | 88/480 [00:00<00:00, 433.40it/s]\u001b[A\n",
      " 27%|██▋       | 131/480 [00:00<00:00, 430.48it/s]\u001b[A\n",
      " 36%|███▋      | 175/480 [00:00<00:00, 431.74it/s]\u001b[A\n",
      " 46%|████▌     | 219/480 [00:00<00:00, 432.92it/s]\u001b[A\n",
      " 55%|█████▍    | 263/480 [00:00<00:00, 433.59it/s]\u001b[A\n",
      " 64%|██████▍   | 307/480 [00:00<00:00, 433.44it/s]\u001b[A\n",
      " 73%|███████▎  | 351/480 [00:00<00:00, 433.51it/s]\u001b[A\n",
      " 82%|████████▏ | 394/480 [00:00<00:00, 433.05it/s]\u001b[A\n",
      " 91%|█████████▏| 438/480 [00:01<00:00, 433.07it/s]\u001b[A\n",
      " 34%|███▍      | 22/65 [00:41<01:21,  1.89s/it]/s]\u001b[A\n",
      "  0%|          | 0/480 [00:00<?, ?it/s]\u001b[A\n",
      "  9%|▉         | 44/480 [00:00<00:01, 427.25it/s]\u001b[A\n",
      " 18%|█▊        | 88/480 [00:00<00:00, 430.61it/s]\u001b[A\n",
      " 27%|██▋       | 131/480 [00:00<00:00, 430.15it/s]\u001b[A\n",
      " 36%|███▋      | 174/480 [00:00<00:00, 429.85it/s]\u001b[A\n",
      " 45%|████▌     | 218/480 [00:00<00:00, 430.09it/s]\u001b[A\n",
      " 55%|█████▍    | 262/480 [00:00<00:00, 430.37it/s]\u001b[A\n",
      " 64%|██████▍   | 306/480 [00:00<00:00, 430.51it/s]\u001b[A\n",
      " 73%|███████▎  | 349/480 [00:00<00:00, 430.16it/s]\u001b[A\n",
      " 82%|████████▏ | 392/480 [00:00<00:00, 429.53it/s]\u001b[A\n",
      " 91%|█████████ | 435/480 [00:01<00:00, 429.03it/s]\u001b[A\n",
      "100%|█████████▉| 478/480 [00:01<00:00, 429.11it/s]\u001b[A\n",
      " 35%|███▌      | 23/65 [00:43<01:19,  1.89s/it]/s]\u001b[A\n",
      "  0%|          | 0/480 [00:00<?, ?it/s]\u001b[A\n",
      "  9%|▉         | 43/480 [00:00<00:01, 425.51it/s]\u001b[A\n",
      " 18%|█▊        | 87/480 [00:00<00:00, 428.05it/s]\u001b[A\n",
      " 27%|██▋       | 130/480 [00:00<00:00, 425.89it/s]\u001b[A\n",
      " 36%|███▌      | 173/480 [00:00<00:00, 426.95it/s]\u001b[A\n",
      " 45%|████▌     | 216/480 [00:00<00:00, 426.92it/s]\u001b[A\n",
      " 54%|█████▍    | 259/480 [00:00<00:00, 426.80it/s]\u001b[A\n",
      " 62%|██████▎   | 300/480 [00:00<00:00, 423.98it/s]\u001b[A\n",
      " 71%|███████▏  | 343/480 [00:00<00:00, 424.65it/s]\u001b[A\n",
      " 80%|████████  | 386/480 [00:00<00:00, 425.11it/s]\u001b[A\n"
     ]
    },
    {
     "name": "stderr",
     "output_type": "stream",
     "text": [
      " 89%|████████▉ | 429/480 [00:01<00:00, 425.46it/s]\u001b[A\n",
      " 98%|█████████▊| 472/480 [00:01<00:00, 425.07it/s]\u001b[A\n",
      " 37%|███▋      | 24/65 [00:45<01:17,  1.89s/it]/s]\u001b[A\n",
      "  0%|          | 0/480 [00:00<?, ?it/s]\u001b[A\n",
      "  9%|▉         | 44/480 [00:00<00:01, 433.56it/s]\u001b[A\n",
      " 18%|█▊        | 87/480 [00:00<00:00, 430.02it/s]\u001b[A\n",
      " 27%|██▋       | 130/480 [00:00<00:00, 429.50it/s]\u001b[A\n",
      " 36%|███▌      | 173/480 [00:00<00:00, 427.79it/s]\u001b[A\n",
      " 45%|████▌     | 217/480 [00:00<00:00, 428.34it/s]\u001b[A\n",
      " 54%|█████▍    | 260/480 [00:00<00:00, 428.63it/s]\u001b[A\n",
      " 63%|██████▎   | 302/480 [00:00<00:00, 427.04it/s]\u001b[A\n",
      " 72%|███████▏  | 345/480 [00:00<00:00, 426.65it/s]\u001b[A\n",
      " 81%|████████  | 388/480 [00:00<00:00, 426.86it/s]\u001b[A\n",
      " 90%|████████▉ | 431/480 [00:01<00:00, 426.66it/s]\u001b[A\n",
      " 99%|█████████▊| 473/480 [00:01<00:00, 425.23it/s]\u001b[A\n",
      " 38%|███▊      | 25/65 [00:47<01:15,  1.89s/it]/s]\u001b[A\n",
      "  0%|          | 0/480 [00:00<?, ?it/s]\u001b[A\n",
      "  9%|▉         | 44/480 [00:00<00:01, 433.07it/s]\u001b[A\n",
      " 18%|█▊        | 88/480 [00:00<00:00, 433.02it/s]\u001b[A\n",
      " 27%|██▋       | 131/480 [00:00<00:00, 431.39it/s]\u001b[A\n",
      " 36%|███▋      | 174/480 [00:00<00:00, 430.36it/s]\u001b[A\n",
      " 45%|████▌     | 217/480 [00:00<00:00, 429.66it/s]\u001b[A\n",
      " 54%|█████▍    | 261/480 [00:00<00:00, 429.97it/s]\u001b[A\n",
      " 63%|██████▎   | 304/480 [00:00<00:00, 429.56it/s]\u001b[A\n",
      " 72%|███████▏  | 347/480 [00:00<00:00, 429.60it/s]\u001b[A\n",
      " 81%|████████▏ | 390/480 [00:00<00:00, 429.52it/s]\u001b[A\n",
      " 90%|█████████ | 434/480 [00:01<00:00, 429.82it/s]\u001b[A\n",
      " 99%|█████████▉| 477/480 [00:01<00:00, 429.47it/s]\u001b[A\n",
      " 40%|████      | 26/65 [00:49<01:13,  1.89s/it]/s]\u001b[A\n",
      "  0%|          | 0/480 [00:00<?, ?it/s]\u001b[A\n",
      "  9%|▉         | 44/480 [00:00<00:01, 433.40it/s]\u001b[A\n",
      " 18%|█▊        | 88/480 [00:00<00:00, 434.20it/s]\u001b[A\n",
      " 28%|██▊       | 132/480 [00:00<00:00, 433.26it/s]\u001b[A\n",
      " 37%|███▋      | 176/480 [00:00<00:00, 433.91it/s]\u001b[A\n",
      " 46%|████▌     | 220/480 [00:00<00:00, 433.81it/s]\u001b[A\n",
      " 55%|█████▌    | 264/480 [00:00<00:00, 433.59it/s]\u001b[A\n",
      " 64%|██████▍   | 308/480 [00:00<00:00, 433.36it/s]\u001b[A\n",
      " 73%|███████▎  | 352/480 [00:00<00:00, 432.98it/s]\u001b[A\n",
      " 82%|████████▏ | 395/480 [00:00<00:00, 431.84it/s]\u001b[A\n",
      " 91%|█████████▏| 438/480 [00:01<00:00, 431.37it/s]\u001b[A\n",
      " 42%|████▏     | 27/65 [00:51<01:11,  1.89s/it]/s]\u001b[A\n",
      "  0%|          | 0/480 [00:00<?, ?it/s]\u001b[A\n",
      "  9%|▉         | 44/480 [00:00<00:01, 431.69it/s]\u001b[A\n",
      " 18%|█▊        | 88/480 [00:00<00:00, 434.67it/s]\u001b[A\n",
      " 28%|██▊       | 132/480 [00:00<00:00, 433.03it/s]\u001b[A\n",
      " 36%|███▋      | 175/480 [00:00<00:00, 431.61it/s]\u001b[A\n",
      " 46%|████▌     | 219/480 [00:00<00:00, 433.19it/s]\u001b[A\n",
      " 55%|█████▍    | 263/480 [00:00<00:00, 433.28it/s]\u001b[A\n",
      " 64%|██████▍   | 306/480 [00:00<00:00, 432.23it/s]\u001b[A\n",
      " 73%|███████▎  | 349/480 [00:00<00:00, 431.29it/s]\u001b[A\n",
      " 82%|████████▏ | 393/480 [00:00<00:00, 431.44it/s]\u001b[A\n",
      " 91%|█████████ | 437/480 [00:01<00:00, 431.36it/s]\u001b[A\n",
      " 43%|████▎     | 28/65 [00:52<01:09,  1.89s/it]/s]\u001b[A\n",
      "  0%|          | 0/480 [00:00<?, ?it/s]\u001b[A\n",
      "  9%|▉         | 44/480 [00:00<00:01, 433.59it/s]\u001b[A\n",
      " 18%|█▊        | 87/480 [00:00<00:00, 427.64it/s]\u001b[A\n",
      " 27%|██▋       | 130/480 [00:00<00:00, 426.34it/s]\u001b[A\n",
      " 36%|███▌      | 173/480 [00:00<00:00, 426.48it/s]\u001b[A\n",
      " 45%|████▌     | 217/480 [00:00<00:00, 427.19it/s]\u001b[A\n",
      " 54%|█████▍    | 260/480 [00:00<00:00, 426.99it/s]\u001b[A\n",
      " 63%|██████▎   | 303/480 [00:00<00:00, 427.04it/s]\u001b[A\n",
      " 72%|███████▏  | 346/480 [00:00<00:00, 427.29it/s]\u001b[A\n",
      " 81%|████████  | 388/480 [00:00<00:00, 426.21it/s]\u001b[A\n",
      " 90%|████████▉ | 431/480 [00:01<00:00, 426.12it/s]\u001b[A\n",
      " 99%|█████████▉| 474/480 [00:01<00:00, 426.01it/s]\u001b[A\n",
      " 45%|████▍     | 29/65 [00:54<01:07,  1.89s/it]/s]\u001b[A\n",
      "  0%|          | 0/480 [00:00<?, ?it/s]\u001b[A\n",
      "  9%|▉         | 44/480 [00:00<00:01, 432.15it/s]\u001b[A\n",
      " 18%|█▊        | 87/480 [00:00<00:00, 428.93it/s]\u001b[A\n",
      " 27%|██▋       | 130/480 [00:00<00:00, 428.67it/s]\u001b[A\n",
      " 36%|███▌      | 173/480 [00:00<00:00, 428.47it/s]\u001b[A\n",
      " 45%|████▌     | 217/480 [00:00<00:00, 428.85it/s]\u001b[A\n",
      " 54%|█████▍    | 260/480 [00:00<00:00, 429.00it/s]\u001b[A\n",
      " 63%|██████▎   | 304/480 [00:00<00:00, 429.09it/s]\u001b[A\n",
      " 72%|███████▏  | 347/480 [00:00<00:00, 428.89it/s]\u001b[A\n",
      " 81%|████████▏ | 391/480 [00:00<00:00, 428.94it/s]\u001b[A\n",
      " 90%|█████████ | 434/480 [00:01<00:00, 428.28it/s]\u001b[A\n",
      " 99%|█████████▉| 477/480 [00:01<00:00, 428.34it/s]\u001b[A\n",
      " 46%|████▌     | 30/65 [00:56<01:06,  1.89s/it]/s]\u001b[A\n",
      "  0%|          | 0/480 [00:00<?, ?it/s]\u001b[A\n",
      "  8%|▊         | 40/480 [00:00<00:01, 379.38it/s]\u001b[A\n",
      " 17%|█▋        | 82/480 [00:00<00:00, 403.99it/s]\u001b[A\n",
      " 26%|██▋       | 126/480 [00:00<00:00, 413.54it/s]\u001b[A\n",
      " 35%|███▌      | 169/480 [00:00<00:00, 417.13it/s]\u001b[A\n",
      " 44%|████▍     | 213/480 [00:00<00:00, 420.28it/s]\u001b[A\n",
      " 53%|█████▎    | 256/480 [00:00<00:00, 421.65it/s]\u001b[A\n",
      " 62%|██████▏   | 296/480 [00:00<00:00, 417.31it/s]\u001b[A\n",
      " 71%|███████   | 339/480 [00:00<00:00, 418.60it/s]\u001b[A\n",
      " 80%|███████▉  | 383/480 [00:00<00:00, 419.98it/s]\u001b[A\n",
      " 89%|████████▉ | 426/480 [00:01<00:00, 420.40it/s]\u001b[A\n",
      " 98%|█████████▊| 469/480 [00:01<00:00, 420.56it/s]\u001b[A\n",
      " 48%|████▊     | 31/65 [00:58<01:04,  1.89s/it]/s]\u001b[A\n",
      "  0%|          | 0/480 [00:00<?, ?it/s]\u001b[A\n",
      "  9%|▉         | 44/480 [00:00<00:01, 431.89it/s]\u001b[A\n",
      " 18%|█▊        | 86/480 [00:00<00:00, 425.95it/s]\u001b[A\n",
      " 27%|██▋       | 129/480 [00:00<00:00, 426.98it/s]\u001b[A\n",
      " 36%|███▌      | 173/480 [00:00<00:00, 427.44it/s]\u001b[A\n",
      " 45%|████▌     | 217/480 [00:00<00:00, 428.17it/s]\u001b[A\n",
      " 54%|█████▍    | 260/480 [00:00<00:00, 428.16it/s]\u001b[A\n",
      " 63%|██████▎   | 303/480 [00:00<00:00, 428.17it/s]\u001b[A\n",
      " 72%|███████▏  | 345/480 [00:00<00:00, 426.63it/s]\u001b[A\n",
      " 81%|████████  | 389/480 [00:00<00:00, 427.77it/s]\u001b[A\n",
      " 90%|█████████ | 433/480 [00:01<00:00, 428.19it/s]\u001b[A\n",
      " 99%|█████████▉| 477/480 [00:01<00:00, 428.79it/s]\u001b[A\n",
      " 49%|████▉     | 32/65 [01:00<01:02,  1.89s/it]/s]\u001b[A\n",
      "  0%|          | 0/480 [00:00<?, ?it/s]\u001b[A\n",
      "  9%|▉         | 44/480 [00:00<00:00, 436.39it/s]\u001b[A\n",
      " 18%|█▊        | 88/480 [00:00<00:00, 435.59it/s]\u001b[A\n",
      " 27%|██▋       | 131/480 [00:00<00:00, 433.47it/s]\u001b[A\n",
      " 36%|███▌      | 172/480 [00:00<00:00, 425.30it/s]\u001b[A\n",
      " 45%|████▍     | 215/480 [00:00<00:00, 425.49it/s]\u001b[A\n",
      " 54%|█████▎    | 257/480 [00:00<00:00, 423.95it/s]\u001b[A\n",
      " 62%|██████▏   | 297/480 [00:00<00:00, 420.17it/s]\u001b[A\n",
      " 70%|███████   | 338/480 [00:00<00:00, 417.47it/s]\u001b[A\n",
      " 79%|███████▉  | 380/480 [00:00<00:00, 416.76it/s]\u001b[A\n",
      " 88%|████████▊ | 423/480 [00:01<00:00, 417.90it/s]\u001b[A\n",
      " 97%|█████████▋| 466/480 [00:01<00:00, 418.75it/s]\u001b[A\n",
      " 51%|█████     | 33/65 [01:02<01:00,  1.89s/it]/s]\u001b[A\n",
      "  0%|          | 0/480 [00:00<?, ?it/s]\u001b[A\n",
      "  9%|▉         | 44/480 [00:00<00:01, 433.02it/s]\u001b[A\n",
      " 18%|█▊        | 88/480 [00:00<00:00, 431.92it/s]\u001b[A\n",
      " 27%|██▋       | 131/480 [00:00<00:00, 430.26it/s]\u001b[A\n",
      " 36%|███▋      | 174/480 [00:00<00:00, 429.85it/s]\u001b[A\n",
      " 45%|████▌     | 217/480 [00:00<00:00, 428.98it/s]\u001b[A\n",
      " 54%|█████▍    | 260/480 [00:00<00:00, 428.82it/s]\u001b[A\n",
      " 63%|██████▎   | 303/480 [00:00<00:00, 428.13it/s]\u001b[A\n",
      " 72%|███████▏  | 346/480 [00:00<00:00, 427.57it/s]\u001b[A\n",
      " 81%|████████  | 389/480 [00:00<00:00, 427.72it/s]\u001b[A\n",
      " 90%|█████████ | 432/480 [00:01<00:00, 427.52it/s]\u001b[A\n",
      " 99%|█████████▉| 475/480 [00:01<00:00, 427.44it/s]\u001b[A\n",
      " 52%|█████▏    | 34/65 [01:04<00:58,  1.89s/it]/s]\u001b[A\n",
      "  0%|          | 0/480 [00:00<?, ?it/s]\u001b[A\n",
      "  9%|▉         | 44/480 [00:00<00:01, 430.03it/s]\u001b[A\n",
      " 18%|█▊        | 88/480 [00:00<00:00, 430.86it/s]\u001b[A\n",
      " 27%|██▋       | 131/480 [00:00<00:00, 428.88it/s]\u001b[A\n",
      " 36%|███▋      | 175/480 [00:00<00:00, 429.17it/s]\u001b[A\n",
      " 46%|████▌     | 219/480 [00:00<00:00, 429.66it/s]\u001b[A\n",
      " 54%|█████▍    | 261/480 [00:00<00:00, 427.81it/s]\u001b[A\n",
      " 63%|██████▎   | 304/480 [00:00<00:00, 427.49it/s]\u001b[A\n",
      " 72%|███████▏  | 347/480 [00:00<00:00, 427.24it/s]\u001b[A\n",
      " 81%|████████  | 389/480 [00:00<00:00, 426.31it/s]\u001b[A\n",
      " 90%|████████▉ | 431/480 [00:01<00:00, 425.34it/s]\u001b[A\n",
      " 99%|█████████▉| 474/480 [00:01<00:00, 425.27it/s]\u001b[A\n",
      " 54%|█████▍    | 35/65 [01:06<00:56,  1.89s/it]/s]\u001b[A\n",
      "  0%|          | 0/480 [00:00<?, ?it/s]\u001b[A\n",
      "  9%|▉         | 43/480 [00:00<00:01, 423.75it/s]\u001b[A\n",
      " 18%|█▊        | 87/480 [00:00<00:00, 430.00it/s]\u001b[A\n",
      " 27%|██▋       | 130/480 [00:00<00:00, 429.28it/s]\u001b[A\n",
      " 36%|███▋      | 174/480 [00:00<00:00, 429.83it/s]\u001b[A\n",
      " 45%|████▌     | 218/480 [00:00<00:00, 430.51it/s]\u001b[A\n",
      " 54%|█████▍    | 261/480 [00:00<00:00, 430.32it/s]\u001b[A\n",
      " 63%|██████▎   | 304/480 [00:00<00:00, 429.57it/s]\u001b[A\n",
      " 72%|███████▏  | 345/480 [00:00<00:00, 426.07it/s]\u001b[A\n",
      " 81%|████████  | 388/480 [00:00<00:00, 425.54it/s]\u001b[A\n",
      " 90%|████████▉ | 431/480 [00:01<00:00, 425.41it/s]\u001b[A\n",
      " 99%|█████████▉| 474/480 [00:01<00:00, 425.40it/s]\u001b[A\n",
      " 55%|█████▌    | 36/65 [01:08<00:54,  1.89s/it]/s]\u001b[A\n",
      "  0%|          | 0/480 [00:00<?, ?it/s]\u001b[A\n",
      "  9%|▉         | 44/480 [00:00<00:01, 430.61it/s]\u001b[A\n",
      " 18%|█▊        | 88/480 [00:00<00:00, 430.97it/s]\u001b[A\n",
      " 27%|██▋       | 131/480 [00:00<00:00, 430.24it/s]\u001b[A\n",
      " 36%|███▋      | 174/480 [00:00<00:00, 429.45it/s]\u001b[A\n",
      " 45%|████▌     | 218/480 [00:00<00:00, 430.27it/s]\u001b[A\n",
      " 54%|█████▍    | 261/480 [00:00<00:00, 430.14it/s]\u001b[A\n",
      " 63%|██████▎   | 304/480 [00:00<00:00, 428.96it/s]\u001b[A\n",
      " 72%|███████▏  | 347/480 [00:00<00:00, 428.65it/s]\u001b[A\n",
      " 81%|████████▏ | 390/480 [00:00<00:00, 428.10it/s]\u001b[A\n",
      " 90%|█████████ | 433/480 [00:01<00:00, 427.95it/s]\u001b[A\n",
      " 99%|█████████▉| 476/480 [00:01<00:00, 427.93it/s]\u001b[A\n",
      " 57%|█████▋    | 37/65 [01:09<00:52,  1.89s/it]/s]\u001b[A\n",
      "  0%|          | 0/480 [00:00<?, ?it/s]\u001b[A\n",
      "  9%|▉         | 42/480 [00:00<00:01, 408.35it/s]\u001b[A\n",
      " 17%|█▋        | 83/480 [00:00<00:00, 406.29it/s]\u001b[A\n",
      " 26%|██▋       | 126/480 [00:00<00:00, 413.54it/s]\u001b[A\n",
      " 35%|███▌      | 169/480 [00:00<00:00, 417.25it/s]\u001b[A\n",
      " 44%|████▍     | 212/480 [00:00<00:00, 419.32it/s]\u001b[A\n",
      " 53%|█████▎    | 256/480 [00:00<00:00, 421.08it/s]\u001b[A\n",
      " 62%|██████▏   | 299/480 [00:00<00:00, 422.35it/s]\u001b[A\n",
      " 71%|███████▏  | 342/480 [00:00<00:00, 422.51it/s]\u001b[A\n",
      " 80%|████████  | 386/480 [00:00<00:00, 423.69it/s]\u001b[A\n",
      " 89%|████████▉ | 428/480 [00:01<00:00, 423.11it/s]\u001b[A\n",
      " 98%|█████████▊| 470/480 [00:01<00:00, 420.93it/s]\u001b[A\n",
      " 58%|█████▊    | 38/65 [01:11<00:51,  1.89s/it]/s]\u001b[A\n",
      "  0%|          | 0/480 [00:00<?, ?it/s]\u001b[A\n",
      "  9%|▉         | 43/480 [00:00<00:01, 421.94it/s]\u001b[A\n",
      " 18%|█▊        | 87/480 [00:00<00:00, 427.17it/s]\u001b[A\n",
      " 27%|██▋       | 131/480 [00:00<00:00, 428.47it/s]\u001b[A\n",
      " 36%|███▋      | 175/480 [00:00<00:00, 428.87it/s]\u001b[A\n",
      " 46%|████▌     | 219/480 [00:00<00:00, 429.50it/s]\u001b[A\n",
      " 55%|█████▍    | 262/480 [00:00<00:00, 429.33it/s]\u001b[A\n",
      " 64%|██████▎   | 305/480 [00:00<00:00, 428.44it/s]\u001b[A\n",
      " 72%|███████▎  | 348/480 [00:00<00:00, 428.20it/s]\u001b[A\n",
      " 81%|████████▏ | 391/480 [00:00<00:00, 427.76it/s]\u001b[A\n",
      " 90%|█████████ | 433/480 [00:01<00:00, 426.57it/s]\u001b[A\n",
      " 99%|█████████▉| 475/480 [00:01<00:00, 421.61it/s]\u001b[A\n",
      " 60%|██████    | 39/65 [01:13<00:49,  1.89s/it]/s]\u001b[A\n",
      "  0%|          | 0/480 [00:00<?, ?it/s]\u001b[A\n",
      "  9%|▉         | 44/480 [00:00<00:01, 431.61it/s]\u001b[A\n",
      " 18%|█▊        | 87/480 [00:00<00:00, 429.59it/s]\u001b[A\n",
      " 27%|██▋       | 130/480 [00:00<00:00, 429.54it/s]\u001b[A\n",
      " 35%|███▌      | 170/480 [00:00<00:00, 422.01it/s]\u001b[A\n",
      " 45%|████▍     | 214/480 [00:00<00:00, 424.53it/s]\u001b[A\n",
      " 54%|█████▍    | 258/480 [00:00<00:00, 425.56it/s]\u001b[A\n",
      " 63%|██████▎   | 301/480 [00:00<00:00, 425.94it/s]\u001b[A\n",
      " 71%|███████▏  | 343/480 [00:00<00:00, 424.02it/s]\u001b[A\n",
      " 80%|████████  | 386/480 [00:00<00:00, 424.65it/s]\u001b[A\n",
      " 89%|████████▉ | 429/480 [00:01<00:00, 424.68it/s]\u001b[A\n",
      " 98%|█████████▊| 472/480 [00:01<00:00, 425.12it/s]\u001b[A\n",
      " 62%|██████▏   | 40/65 [01:15<00:47,  1.89s/it]/s]\u001b[A\n",
      "  0%|          | 0/480 [00:00<?, ?it/s]\u001b[A\n",
      "  9%|▉         | 44/480 [00:00<00:01, 434.07it/s]\u001b[A\n",
      " 18%|█▊        | 87/480 [00:00<00:00, 429.50it/s]\u001b[A\n",
      " 27%|██▋       | 130/480 [00:00<00:00, 426.46it/s]\u001b[A\n",
      " 36%|███▌      | 172/480 [00:00<00:00, 422.70it/s]\u001b[A\n",
      " 45%|████▌     | 216/480 [00:00<00:00, 424.54it/s]\u001b[A\n",
      " 54%|█████▍    | 260/480 [00:00<00:00, 425.92it/s]\u001b[A\n",
      " 63%|██████▎   | 303/480 [00:00<00:00, 425.46it/s]\u001b[A\n",
      " 72%|███████▏  | 347/480 [00:00<00:00, 426.38it/s]\u001b[A\n",
      " 81%|████████▏ | 390/480 [00:00<00:00, 426.75it/s]\u001b[A\n",
      " 90%|█████████ | 433/480 [00:01<00:00, 426.81it/s]\u001b[A\n",
      " 99%|█████████▉| 477/480 [00:01<00:00, 427.69it/s]\u001b[A\n",
      " 63%|██████▎   | 41/65 [01:17<00:45,  1.89s/it]/s]\u001b[A\n",
      "  0%|          | 0/480 [00:00<?, ?it/s]\u001b[A\n",
      "  9%|▉         | 44/480 [00:00<00:01, 432.44it/s]\u001b[A\n",
      " 18%|█▊        | 88/480 [00:00<00:00, 432.34it/s]\u001b[A\n",
      " 27%|██▋       | 131/480 [00:00<00:00, 431.35it/s]\u001b[A\n",
      " 36%|███▋      | 174/480 [00:00<00:00, 429.71it/s]\u001b[A\n",
      " 45%|████▌     | 216/480 [00:00<00:00, 427.68it/s]\u001b[A\n",
      " 54%|█████▍    | 259/480 [00:00<00:00, 427.40it/s]\u001b[A\n",
      " 63%|██████▎   | 302/480 [00:00<00:00, 427.51it/s]\u001b[A\n",
      " 72%|███████▏  | 345/480 [00:00<00:00, 427.50it/s]\u001b[A\n",
      " 81%|████████  | 388/480 [00:00<00:00, 427.47it/s]\u001b[A\n",
      " 90%|████████▉ | 431/480 [00:01<00:00, 427.60it/s]\u001b[A\n",
      " 99%|█████████▉| 474/480 [00:01<00:00, 427.31it/s]\u001b[A\n",
      " 65%|██████▍   | 42/65 [01:19<00:43,  1.89s/it]/s]\u001b[A\n",
      "  0%|          | 0/480 [00:00<?, ?it/s]\u001b[A\n",
      "  9%|▉         | 44/480 [00:00<00:01, 434.83it/s]\u001b[A\n",
      " 18%|█▊        | 85/480 [00:00<00:00, 420.43it/s]\u001b[A\n",
      " 27%|██▋       | 129/480 [00:00<00:00, 423.81it/s]\u001b[A\n",
      " 36%|███▌      | 173/480 [00:00<00:00, 425.59it/s]\u001b[A\n",
      " 45%|████▌     | 217/480 [00:00<00:00, 427.31it/s]\u001b[A\n",
      " 54%|█████▍    | 260/480 [00:00<00:00, 427.61it/s]\u001b[A\n",
      " 63%|██████▎   | 303/480 [00:00<00:00, 427.21it/s]\u001b[A\n",
      " 72%|███████▏  | 346/480 [00:00<00:00, 427.18it/s]\u001b[A\n",
      " 81%|████████▏ | 390/480 [00:00<00:00, 427.07it/s]\u001b[A\n",
      " 90%|█████████ | 433/480 [00:01<00:00, 427.05it/s]\u001b[A\n",
      " 99%|█████████▉| 477/480 [00:01<00:00, 427.66it/s]\u001b[A\n",
      " 66%|██████▌   | 43/65 [01:21<00:41,  1.89s/it]/s]\u001b[A\n",
      "  0%|          | 0/480 [00:00<?, ?it/s]\u001b[A\n",
      "  9%|▉         | 44/480 [00:00<00:01, 431.95it/s]\u001b[A\n",
      " 18%|█▊        | 88/480 [00:00<00:00, 434.62it/s]\u001b[A\n",
      " 27%|██▋       | 131/480 [00:00<00:00, 432.42it/s]\u001b[A\n",
      " 36%|███▋      | 175/480 [00:00<00:00, 432.59it/s]\u001b[A\n",
      " 46%|████▌     | 219/480 [00:00<00:00, 432.67it/s]\u001b[A\n",
      " 55%|█████▍    | 263/480 [00:00<00:00, 432.46it/s]\u001b[A\n",
      " 64%|██████▍   | 306/480 [00:00<00:00, 431.93it/s]\u001b[A\n",
      " 73%|███████▎  | 349/480 [00:00<00:00, 431.21it/s]\u001b[A\n",
      " 82%|████████▏ | 392/480 [00:00<00:00, 430.69it/s]\u001b[A\n",
      " 91%|█████████ | 435/480 [00:01<00:00, 430.57it/s]\u001b[A\n",
      "100%|█████████▉| 478/480 [00:01<00:00, 430.24it/s]\u001b[A\n",
      " 68%|██████▊   | 44/65 [01:23<00:39,  1.89s/it]/s]\u001b[A\n",
      "  0%|          | 0/480 [00:00<?, ?it/s]\u001b[A\n",
      "  9%|▉         | 45/480 [00:00<00:00, 438.39it/s]\u001b[A\n",
      " 19%|█▊        | 89/480 [00:00<00:00, 435.46it/s]\u001b[A\n",
      " 28%|██▊       | 133/480 [00:00<00:00, 433.57it/s]\u001b[A\n",
      " 37%|███▋      | 176/480 [00:00<00:00, 431.54it/s]\u001b[A\n",
      " 46%|████▌     | 219/480 [00:00<00:00, 431.23it/s]\u001b[A\n",
      " 55%|█████▍    | 263/480 [00:00<00:00, 431.41it/s]\u001b[A\n",
      " 64%|██████▍   | 307/480 [00:00<00:00, 431.30it/s]\u001b[A\n",
      " 73%|███████▎  | 350/480 [00:00<00:00, 430.55it/s]\u001b[A\n",
      " 82%|████████▏ | 393/480 [00:00<00:00, 430.18it/s]\u001b[A\n",
      " 91%|█████████ | 436/480 [00:01<00:00, 429.42it/s]\u001b[A\n",
      "100%|██████████| 480/480 [00:01<00:00, 429.72it/s]\u001b[A\n",
      " 69%|██████▉   | 45/65 [01:25<00:37,  1.89s/it]\n",
      "  0%|          | 0/480 [00:00<?, ?it/s]\u001b[A\n",
      "  9%|▉         | 44/480 [00:00<00:01, 428.48it/s]\u001b[A\n",
      " 18%|█▊        | 88/480 [00:00<00:00, 431.04it/s]\u001b[A\n",
      " 28%|██▊       | 132/480 [00:00<00:00, 431.07it/s]\u001b[A\n",
      " 37%|███▋      | 176/480 [00:00<00:00, 431.20it/s]\u001b[A\n",
      " 46%|████▌     | 220/480 [00:00<00:00, 431.54it/s]\u001b[A\n",
      " 55%|█████▍    | 263/480 [00:00<00:00, 430.72it/s]\u001b[A\n",
      " 64%|██████▍   | 306/480 [00:00<00:00, 430.11it/s]\u001b[A\n",
      " 73%|███████▎  | 349/480 [00:00<00:00, 429.80it/s]\u001b[A\n",
      " 82%|████████▏ | 392/480 [00:00<00:00, 429.60it/s]\u001b[A\n",
      " 91%|█████████ | 435/480 [00:01<00:00, 429.06it/s]\u001b[A\n",
      "100%|█████████▉| 478/480 [00:01<00:00, 428.24it/s]\u001b[A\n",
      " 71%|███████   | 46/65 [01:26<00:35,  1.89s/it]/s]\u001b[A\n",
      "  0%|          | 0/480 [00:00<?, ?it/s]\u001b[A\n",
      "  9%|▉         | 44/480 [00:00<00:01, 429.57it/s]\u001b[A\n",
      " 18%|█▊        | 88/480 [00:00<00:00, 429.15it/s]\u001b[A\n",
      " 27%|██▋       | 131/480 [00:00<00:00, 428.61it/s]\u001b[A\n",
      " 36%|███▋      | 174/480 [00:00<00:00, 427.77it/s]\u001b[A\n",
      " 45%|████▌     | 218/480 [00:00<00:00, 428.57it/s]\u001b[A\n",
      " 54%|█████▍    | 261/480 [00:00<00:00, 428.76it/s]\u001b[A\n",
      " 63%|██████▎   | 304/480 [00:00<00:00, 428.52it/s]\u001b[A\n",
      " 72%|███████▏  | 347/480 [00:00<00:00, 428.35it/s]\u001b[A\n",
      " 81%|████████▏ | 390/480 [00:00<00:00, 428.28it/s]\u001b[A\n",
      " 90%|█████████ | 433/480 [00:01<00:00, 428.11it/s]\u001b[A\n",
      " 99%|█████████▉| 476/480 [00:01<00:00, 427.87it/s]\u001b[A\n",
      " 72%|███████▏  | 47/65 [01:28<00:34,  1.89s/it]/s]\u001b[A\n",
      "  0%|          | 0/480 [00:00<?, ?it/s]\u001b[A\n",
      "  9%|▉         | 44/480 [00:00<00:01, 432.75it/s]\u001b[A\n",
      " 18%|█▊        | 87/480 [00:00<00:00, 431.54it/s]\u001b[A\n",
      " 27%|██▋       | 130/480 [00:00<00:00, 430.96it/s]\u001b[A\n",
      " 36%|███▌      | 173/480 [00:00<00:00, 428.99it/s]\u001b[A\n",
      " 45%|████▌     | 216/480 [00:00<00:00, 428.75it/s]\u001b[A\n",
      " 54%|█████▍    | 260/480 [00:00<00:00, 429.01it/s]\u001b[A\n",
      " 63%|██████▎   | 301/480 [00:00<00:00, 425.80it/s]\u001b[A\n"
     ]
    },
    {
     "name": "stderr",
     "output_type": "stream",
     "text": [
      " 72%|███████▏  | 344/480 [00:00<00:00, 426.05it/s]\u001b[A\n",
      " 81%|████████  | 387/480 [00:00<00:00, 426.20it/s]\u001b[A\n",
      " 90%|████████▉ | 430/480 [00:01<00:00, 425.90it/s]\u001b[A\n",
      " 99%|█████████▊| 473/480 [00:01<00:00, 425.99it/s]\u001b[A\n",
      " 74%|███████▍  | 48/65 [01:30<00:32,  1.89s/it]/s]\u001b[A\n",
      "  0%|          | 0/480 [00:00<?, ?it/s]\u001b[A\n",
      "  9%|▉         | 43/480 [00:00<00:01, 424.15it/s]\u001b[A\n",
      " 17%|█▋        | 81/480 [00:00<00:01, 394.51it/s]\u001b[A\n",
      " 26%|██▌       | 124/480 [00:00<00:00, 405.09it/s]\u001b[A\n",
      " 35%|███▍      | 167/480 [00:00<00:00, 410.83it/s]\u001b[A\n",
      " 44%|████▍     | 210/480 [00:00<00:00, 413.84it/s]\u001b[A\n",
      " 53%|█████▎    | 253/480 [00:00<00:00, 415.71it/s]\u001b[A\n",
      " 62%|██████▏   | 296/480 [00:00<00:00, 417.47it/s]\u001b[A\n",
      " 71%|███████   | 340/480 [00:00<00:00, 419.18it/s]\u001b[A\n",
      " 80%|███████▉  | 383/480 [00:00<00:00, 420.45it/s]\u001b[A\n",
      " 89%|████████▉ | 426/480 [00:01<00:00, 421.22it/s]\u001b[A\n",
      " 98%|█████████▊| 469/480 [00:01<00:00, 421.76it/s]\u001b[A\n",
      " 75%|███████▌  | 49/65 [01:32<00:30,  1.89s/it]/s]\u001b[A\n",
      "  0%|          | 0/480 [00:00<?, ?it/s]\u001b[A\n",
      "  9%|▉         | 44/480 [00:00<00:01, 431.51it/s]\u001b[A\n",
      " 18%|█▊        | 88/480 [00:00<00:00, 432.76it/s]\u001b[A\n",
      " 27%|██▋       | 131/480 [00:00<00:00, 431.70it/s]\u001b[A\n",
      " 36%|███▋      | 174/480 [00:00<00:00, 430.43it/s]\u001b[A\n",
      " 45%|████▌     | 218/480 [00:00<00:00, 430.39it/s]\u001b[A\n",
      " 54%|█████▍    | 261/480 [00:00<00:00, 429.36it/s]\u001b[A\n",
      " 63%|██████▎   | 304/480 [00:00<00:00, 428.12it/s]\u001b[A\n",
      " 72%|███████▏  | 347/480 [00:00<00:00, 427.87it/s]\u001b[A\n",
      " 81%|████████▏ | 390/480 [00:00<00:00, 428.00it/s]\u001b[A\n",
      " 90%|█████████ | 433/480 [00:01<00:00, 427.15it/s]\u001b[A\n",
      " 99%|█████████▉| 476/480 [00:01<00:00, 427.09it/s]\u001b[A\n",
      " 77%|███████▋  | 50/65 [01:34<00:28,  1.89s/it]/s]\u001b[A\n",
      "  0%|          | 0/480 [00:00<?, ?it/s]\u001b[A\n",
      "  9%|▉         | 43/480 [00:00<00:01, 423.96it/s]\u001b[A\n",
      " 18%|█▊        | 87/480 [00:00<00:00, 427.59it/s]\u001b[A\n",
      " 27%|██▋       | 130/480 [00:00<00:00, 425.63it/s]\u001b[A\n",
      " 36%|███▌      | 173/480 [00:00<00:00, 425.51it/s]\u001b[A\n",
      " 44%|████▍     | 213/480 [00:00<00:00, 420.09it/s]\u001b[A\n",
      " 53%|█████▎    | 256/480 [00:00<00:00, 420.93it/s]\u001b[A\n",
      " 62%|██████▏   | 298/480 [00:00<00:00, 420.90it/s]\u001b[A\n",
      " 71%|███████   | 341/480 [00:00<00:00, 421.64it/s]\u001b[A\n",
      " 80%|████████  | 385/480 [00:00<00:00, 423.02it/s]\u001b[A\n",
      " 89%|████████▉ | 428/480 [00:01<00:00, 423.69it/s]\u001b[A\n",
      " 98%|█████████▊| 471/480 [00:01<00:00, 424.18it/s]\u001b[A\n",
      " 78%|███████▊  | 51/65 [01:36<00:26,  1.89s/it]/s]\u001b[A\n",
      "  0%|          | 0/480 [00:00<?, ?it/s]\u001b[A\n",
      "  9%|▉         | 44/480 [00:00<00:00, 437.45it/s]\u001b[A\n",
      " 18%|█▊        | 88/480 [00:00<00:00, 435.34it/s]\u001b[A\n",
      " 28%|██▊       | 132/480 [00:00<00:00, 434.06it/s]\u001b[A\n",
      " 36%|███▋      | 175/480 [00:00<00:00, 431.93it/s]\u001b[A\n",
      " 46%|████▌     | 219/480 [00:00<00:00, 432.02it/s]\u001b[A\n",
      " 55%|█████▍    | 263/480 [00:00<00:00, 431.94it/s]\u001b[A\n",
      " 64%|██████▍   | 306/480 [00:00<00:00, 431.11it/s]\u001b[A\n",
      " 73%|███████▎  | 349/480 [00:00<00:00, 430.76it/s]\u001b[A\n",
      " 82%|████████▏ | 392/480 [00:00<00:00, 430.32it/s]\u001b[A\n",
      " 91%|█████████ | 435/480 [00:01<00:00, 429.72it/s]\u001b[A\n",
      "100%|█████████▉| 479/480 [00:01<00:00, 429.82it/s]\u001b[A\n",
      " 80%|████████  | 52/65 [01:38<00:24,  1.89s/it]/s]\u001b[A\n",
      "  0%|          | 0/480 [00:00<?, ?it/s]\u001b[A\n",
      "  9%|▉         | 44/480 [00:00<00:01, 431.85it/s]\u001b[A\n",
      " 18%|█▊        | 87/480 [00:00<00:00, 430.27it/s]\u001b[A\n",
      " 27%|██▋       | 131/480 [00:00<00:00, 430.29it/s]\u001b[A\n",
      " 36%|███▋      | 175/480 [00:00<00:00, 429.90it/s]\u001b[A\n",
      " 45%|████▌     | 218/480 [00:00<00:00, 429.40it/s]\u001b[A\n",
      " 54%|█████▍    | 261/480 [00:00<00:00, 428.96it/s]\u001b[A\n",
      " 63%|██████▎   | 304/480 [00:00<00:00, 428.75it/s]\u001b[A\n",
      " 72%|███████▏  | 347/480 [00:00<00:00, 427.75it/s]\u001b[A\n",
      " 81%|████████  | 389/480 [00:00<00:00, 426.91it/s]\u001b[A\n",
      " 90%|█████████ | 432/480 [00:01<00:00, 426.87it/s]\u001b[A\n",
      " 99%|█████████▉| 474/480 [00:01<00:00, 425.14it/s]\u001b[A\n",
      " 82%|████████▏ | 53/65 [01:40<00:22,  1.89s/it]/s]\u001b[A\n",
      "  0%|          | 0/480 [00:00<?, ?it/s]\u001b[A\n",
      "  9%|▉         | 43/480 [00:00<00:01, 427.50it/s]\u001b[A\n",
      " 18%|█▊        | 86/480 [00:00<00:00, 426.23it/s]\u001b[A\n",
      " 27%|██▋       | 130/480 [00:00<00:00, 427.04it/s]\u001b[A\n",
      " 36%|███▌      | 173/480 [00:00<00:00, 427.17it/s]\u001b[A\n",
      " 45%|████▌     | 217/480 [00:00<00:00, 427.82it/s]\u001b[A\n",
      " 54%|█████▍    | 260/480 [00:00<00:00, 427.75it/s]\u001b[A\n",
      " 63%|██████▎   | 303/480 [00:00<00:00, 427.22it/s]\u001b[A\n",
      " 72%|███████▏  | 346/480 [00:00<00:00, 426.83it/s]\u001b[A\n",
      " 81%|████████  | 389/480 [00:00<00:00, 426.52it/s]\u001b[A\n",
      " 90%|█████████ | 432/480 [00:01<00:00, 426.17it/s]\u001b[A\n",
      " 99%|█████████▉| 476/480 [00:01<00:00, 426.51it/s]\u001b[A\n",
      " 83%|████████▎ | 54/65 [01:42<00:20,  1.89s/it]/s]\u001b[A\n",
      "  0%|          | 0/480 [00:00<?, ?it/s]\u001b[A\n",
      "  9%|▉         | 44/480 [00:00<00:01, 432.37it/s]\u001b[A\n",
      " 18%|█▊        | 88/480 [00:00<00:00, 432.36it/s]\u001b[A\n",
      " 27%|██▋       | 130/480 [00:00<00:00, 428.11it/s]\u001b[A\n",
      " 36%|███▌      | 173/480 [00:00<00:00, 427.23it/s]\u001b[A\n",
      " 45%|████▌     | 217/480 [00:00<00:00, 428.20it/s]\u001b[A\n",
      " 54%|█████▍    | 260/480 [00:00<00:00, 427.87it/s]\u001b[A\n",
      " 63%|██████▎   | 303/480 [00:00<00:00, 428.17it/s]\u001b[A\n",
      " 72%|███████▏  | 346/480 [00:00<00:00, 427.95it/s]\u001b[A\n",
      " 81%|████████  | 389/480 [00:00<00:00, 427.96it/s]\u001b[A\n",
      " 90%|████████▉ | 431/480 [00:01<00:00, 426.18it/s]\u001b[A\n",
      " 99%|█████████▉| 474/480 [00:01<00:00, 426.12it/s]\u001b[A\n",
      " 85%|████████▍ | 55/65 [01:43<00:18,  1.89s/it]/s]\u001b[A\n",
      "  0%|          | 0/480 [00:00<?, ?it/s]\u001b[A\n",
      "  9%|▉         | 44/480 [00:00<00:01, 430.04it/s]\u001b[A\n",
      " 18%|█▊        | 87/480 [00:00<00:00, 429.77it/s]\u001b[A\n",
      " 27%|██▋       | 130/480 [00:00<00:00, 428.78it/s]\u001b[A\n",
      " 36%|███▌      | 173/480 [00:00<00:00, 427.30it/s]\u001b[A\n",
      " 45%|████▌     | 216/480 [00:00<00:00, 427.79it/s]\u001b[A\n",
      " 54%|█████▍    | 259/480 [00:00<00:00, 427.39it/s]\u001b[A\n",
      " 63%|██████▎   | 302/480 [00:00<00:00, 427.41it/s]\u001b[A\n",
      " 72%|███████▏  | 345/480 [00:00<00:00, 426.68it/s]\u001b[A\n",
      " 81%|████████  | 388/480 [00:00<00:00, 426.85it/s]\u001b[A\n",
      " 90%|████████▉ | 431/480 [00:01<00:00, 426.40it/s]\u001b[A\n",
      " 99%|█████████▉| 474/480 [00:01<00:00, 426.38it/s]\u001b[A\n",
      " 86%|████████▌ | 56/65 [01:45<00:17,  1.89s/it]/s]\u001b[A\n",
      "  0%|          | 0/480 [00:00<?, ?it/s]\u001b[A\n",
      "  9%|▉         | 43/480 [00:00<00:01, 424.20it/s]\u001b[A\n",
      " 18%|█▊        | 84/480 [00:00<00:00, 413.70it/s]\u001b[A\n",
      " 26%|██▋       | 126/480 [00:00<00:00, 415.44it/s]\u001b[A\n",
      " 35%|███▌      | 169/480 [00:00<00:00, 417.64it/s]\u001b[A\n",
      " 44%|████▍     | 212/480 [00:00<00:00, 419.72it/s]\u001b[A\n",
      " 53%|█████▎    | 255/480 [00:00<00:00, 420.11it/s]\u001b[A\n",
      " 62%|██████▏   | 299/480 [00:00<00:00, 421.77it/s]\u001b[A\n",
      " 71%|███████▏  | 343/480 [00:00<00:00, 422.93it/s]\u001b[A\n",
      " 81%|████████  | 387/480 [00:00<00:00, 424.22it/s]\u001b[A\n",
      " 90%|████████▉ | 431/480 [00:01<00:00, 424.88it/s]\u001b[A\n",
      " 99%|█████████▉| 474/480 [00:01<00:00, 424.85it/s]\u001b[A\n",
      " 88%|████████▊ | 57/65 [01:47<00:15,  1.89s/it]/s]\u001b[A\n",
      "  0%|          | 0/480 [00:00<?, ?it/s]\u001b[A\n",
      "  9%|▉         | 44/480 [00:00<00:01, 430.03it/s]\u001b[A\n",
      " 18%|█▊        | 87/480 [00:00<00:00, 429.54it/s]\u001b[A\n",
      " 27%|██▋       | 130/480 [00:00<00:00, 428.20it/s]\u001b[A\n",
      " 36%|███▌      | 173/480 [00:00<00:00, 428.18it/s]\u001b[A\n",
      " 45%|████▌     | 217/480 [00:00<00:00, 428.67it/s]\u001b[A\n",
      " 54%|█████▍    | 260/480 [00:00<00:00, 428.45it/s]\u001b[A\n",
      " 63%|██████▎   | 303/480 [00:00<00:00, 428.23it/s]\u001b[A\n",
      " 71%|███████▏  | 343/480 [00:00<00:00, 424.32it/s]\u001b[A\n",
      " 80%|████████  | 385/480 [00:00<00:00, 423.39it/s]\u001b[A\n",
      " 89%|████████▉ | 427/480 [00:01<00:00, 422.72it/s]\u001b[A\n",
      " 98%|█████████▊| 470/480 [00:01<00:00, 423.00it/s]\u001b[A\n",
      " 89%|████████▉ | 58/65 [01:49<00:13,  1.89s/it]/s]\u001b[A\n",
      "  0%|          | 0/480 [00:00<?, ?it/s]\u001b[A\n",
      "  9%|▉         | 44/480 [00:00<00:01, 431.23it/s]\u001b[A\n",
      " 18%|█▊        | 87/480 [00:00<00:00, 430.36it/s]\u001b[A\n",
      " 26%|██▋       | 127/480 [00:00<00:00, 419.20it/s]\u001b[A\n",
      " 35%|███▌      | 170/480 [00:00<00:00, 420.91it/s]\u001b[A\n",
      " 44%|████▍     | 213/480 [00:00<00:00, 421.69it/s]\u001b[A\n",
      " 53%|█████▎    | 256/480 [00:00<00:00, 423.04it/s]\u001b[A\n",
      " 62%|██████▏   | 299/480 [00:00<00:00, 423.59it/s]\u001b[A\n",
      " 71%|███████   | 341/480 [00:00<00:00, 423.00it/s]\u001b[A\n",
      " 80%|████████  | 384/480 [00:00<00:00, 423.54it/s]\u001b[A\n",
      " 89%|████████▉ | 427/480 [00:01<00:00, 423.47it/s]\u001b[A\n",
      " 98%|█████████▊| 469/480 [00:01<00:00, 423.23it/s]\u001b[A\n",
      " 91%|█████████ | 59/65 [01:51<00:11,  1.89s/it]/s]\u001b[A\n",
      "  0%|          | 0/480 [00:00<?, ?it/s]\u001b[A\n",
      "  9%|▉         | 44/480 [00:00<00:01, 429.85it/s]\u001b[A\n",
      " 18%|█▊        | 87/480 [00:00<00:00, 429.02it/s]\u001b[A\n",
      " 27%|██▋       | 130/480 [00:00<00:00, 427.48it/s]\u001b[A\n",
      " 36%|███▌      | 173/480 [00:00<00:00, 425.81it/s]\u001b[A\n",
      " 45%|████▍     | 215/480 [00:00<00:00, 423.72it/s]\u001b[A\n",
      " 54%|█████▍    | 258/480 [00:00<00:00, 423.22it/s]\u001b[A\n",
      " 63%|██████▎   | 301/480 [00:00<00:00, 423.64it/s]\u001b[A\n",
      " 71%|███████▏  | 343/480 [00:00<00:00, 422.91it/s]\u001b[A\n",
      " 80%|████████  | 386/480 [00:00<00:00, 423.36it/s]\u001b[A\n",
      " 89%|████████▉ | 429/480 [00:01<00:00, 423.46it/s]\u001b[A\n",
      " 98%|█████████▊| 472/480 [00:01<00:00, 423.75it/s]\u001b[A\n",
      " 92%|█████████▏| 60/65 [01:53<00:09,  1.89s/it]/s]\u001b[A\n",
      "  0%|          | 0/480 [00:00<?, ?it/s]\u001b[A\n",
      "  9%|▉         | 44/480 [00:00<00:01, 428.79it/s]\u001b[A\n",
      " 18%|█▊        | 88/480 [00:00<00:00, 431.14it/s]\u001b[A\n",
      " 27%|██▋       | 131/480 [00:00<00:00, 430.32it/s]\u001b[A\n",
      " 36%|███▋      | 174/480 [00:00<00:00, 430.12it/s]\u001b[A\n",
      " 45%|████▌     | 218/480 [00:00<00:00, 430.51it/s]\u001b[A\n",
      " 54%|█████▍    | 261/480 [00:00<00:00, 429.76it/s]\u001b[A\n",
      " 63%|██████▎   | 304/480 [00:00<00:00, 428.91it/s]\u001b[A\n",
      " 72%|███████▏  | 347/480 [00:00<00:00, 429.01it/s]\u001b[A\n",
      " 81%|████████▏ | 390/480 [00:00<00:00, 428.67it/s]\u001b[A\n",
      " 90%|█████████ | 433/480 [00:01<00:00, 428.27it/s]\u001b[A\n",
      " 99%|█████████▉| 475/480 [00:01<00:00, 425.98it/s]\u001b[A\n",
      " 94%|█████████▍| 61/65 [01:55<00:07,  1.89s/it]/s]\u001b[A\n",
      "  0%|          | 0/480 [00:00<?, ?it/s]\u001b[A\n",
      "  9%|▉         | 44/480 [00:00<00:01, 428.91it/s]\u001b[A\n",
      " 18%|█▊        | 88/480 [00:00<00:00, 429.83it/s]\u001b[A\n",
      " 27%|██▋       | 131/480 [00:00<00:00, 428.81it/s]\u001b[A\n",
      " 36%|███▋      | 174/480 [00:00<00:00, 428.78it/s]\u001b[A\n",
      " 45%|████▌     | 218/480 [00:00<00:00, 429.39it/s]\u001b[A\n",
      " 54%|█████▍    | 261/480 [00:00<00:00, 429.45it/s]\u001b[A\n",
      " 63%|██████▎   | 304/480 [00:00<00:00, 428.95it/s]\u001b[A\n",
      " 72%|███████▏  | 347/480 [00:00<00:00, 428.64it/s]\u001b[A\n",
      " 81%|████████▏ | 390/480 [00:00<00:00, 428.22it/s]\u001b[A\n",
      " 90%|█████████ | 433/480 [00:01<00:00, 427.93it/s]\u001b[A\n",
      " 99%|█████████▉| 476/480 [00:01<00:00, 427.94it/s]\u001b[A\n",
      " 95%|█████████▌| 62/65 [01:57<00:05,  1.89s/it]/s]\u001b[A\n",
      "  0%|          | 0/480 [00:00<?, ?it/s]\u001b[A\n",
      "  9%|▉         | 43/480 [00:00<00:01, 423.35it/s]\u001b[A\n",
      " 18%|█▊        | 86/480 [00:00<00:00, 424.44it/s]\u001b[A\n",
      " 27%|██▋       | 129/480 [00:00<00:00, 425.57it/s]\u001b[A\n",
      " 36%|███▌      | 172/480 [00:00<00:00, 425.63it/s]\u001b[A\n",
      " 45%|████▌     | 216/480 [00:00<00:00, 426.94it/s]\u001b[A\n",
      " 54%|█████▍    | 259/480 [00:00<00:00, 426.56it/s]\u001b[A\n",
      " 63%|██████▎   | 302/480 [00:00<00:00, 426.47it/s]\u001b[A\n",
      " 72%|███████▏  | 345/480 [00:00<00:00, 426.35it/s]\u001b[A\n",
      " 81%|████████  | 387/480 [00:00<00:00, 425.39it/s]\u001b[A\n",
      " 90%|████████▉ | 430/480 [00:01<00:00, 425.12it/s]\u001b[A\n",
      " 99%|█████████▊| 473/480 [00:01<00:00, 424.78it/s]\u001b[A\n",
      " 97%|█████████▋| 63/65 [01:59<00:03,  1.89s/it]/s]\u001b[A\n",
      "  0%|          | 0/480 [00:00<?, ?it/s]\u001b[A\n",
      "  9%|▉         | 42/480 [00:00<00:01, 415.24it/s]\u001b[A\n",
      " 18%|█▊        | 85/480 [00:00<00:00, 419.56it/s]\u001b[A\n",
      " 27%|██▋       | 128/480 [00:00<00:00, 421.52it/s]\u001b[A\n",
      " 35%|███▌      | 170/480 [00:00<00:00, 420.80it/s]\u001b[A\n",
      " 44%|████▍     | 213/480 [00:00<00:00, 420.99it/s]\u001b[A\n",
      " 53%|█████▎    | 256/480 [00:00<00:00, 421.35it/s]\u001b[A\n",
      " 62%|██████▏   | 298/480 [00:00<00:00, 420.49it/s]\u001b[A\n",
      " 71%|███████   | 341/480 [00:00<00:00, 420.66it/s]\u001b[A\n",
      " 80%|███████▉  | 383/480 [00:00<00:00, 420.41it/s]\u001b[A\n",
      " 89%|████████▊ | 425/480 [00:01<00:00, 419.75it/s]\u001b[A\n",
      " 97%|█████████▋| 467/480 [00:01<00:00, 419.49it/s]\u001b[A\n",
      " 98%|█████████▊| 64/65 [02:01<00:01,  1.89s/it]/s]\u001b[A\n",
      "  0%|          | 0/480 [00:00<?, ?it/s]\u001b[A\n",
      "  9%|▉         | 43/480 [00:00<00:01, 424.70it/s]\u001b[A\n",
      " 18%|█▊        | 87/480 [00:00<00:00, 427.62it/s]\u001b[A\n",
      " 27%|██▋       | 130/480 [00:00<00:00, 428.35it/s]\u001b[A\n",
      " 36%|███▌      | 172/480 [00:00<00:00, 425.72it/s]\u001b[A\n",
      " 45%|████▍     | 215/480 [00:00<00:00, 425.06it/s]\u001b[A\n",
      " 54%|█████▎    | 257/480 [00:00<00:00, 424.10it/s]\u001b[A\n",
      " 63%|██████▎   | 302/480 [00:00<00:00, 427.04it/s]\u001b[A\n",
      " 72%|███████▏  | 345/480 [00:00<00:00, 426.79it/s]\u001b[A\n",
      " 81%|████████  | 387/480 [00:00<00:00, 425.55it/s]\u001b[A\n",
      " 89%|████████▉ | 429/480 [00:01<00:00, 424.63it/s]\u001b[A\n",
      " 98%|█████████▊| 471/480 [00:01<00:00, 423.46it/s]\u001b[A\n",
      "100%|██████████| 65/65 [02:02<00:00,  1.89s/it]/s]\u001b[A\n"
     ]
    }
   ],
   "source": [
    "threshList = []\n",
    "IoUList = []\n",
    "IoUValList = []\n",
    "for kk in tqdm(range(65)):\n",
    "    thresh = 0.3 + 0.7*(1+kk)/65\n",
    "    threshList.append(thresh)\n",
    "    \n",
    "    meanIoUVal = 0\n",
    "    \n",
    "    preds_val_ws = ModelUNet.WaterShedChangeAll(preds_val, lowThresh = 0.1, highThresh = thresh)\n",
    "    meanIoUVal = np.array([ModelUNet.IoU(preds_val_ws[i], Y_val[i]) for i in range(Y_val.shape[0])])\n",
    "    IoUValList.append(np.mean(meanIoUVal) )\n",
    "    "
   ]
  },
  {
   "cell_type": "code",
   "execution_count": 118,
   "metadata": {},
   "outputs": [
    {
     "data": {
      "text/plain": [
       "[<matplotlib.lines.Line2D at 0x7f13bb099208>]"
      ]
     },
     "execution_count": 118,
     "metadata": {},
     "output_type": "execute_result"
    },
    {
     "data": {
      "image/png": "[encoded data removed]",
      "text/plain": [
       "<Figure size 432x288 with 1 Axes>"
      ]
     },
     "metadata": {},
     "output_type": "display_data"
    }
   ],
   "source": [
    "plt.title('IoU curve')\n",
    "plt.ylabel('IoU')\n",
    "plt.xlabel('threshold')\n",
    "\n",
    "#plt.plot(threshList, IoUList)\n",
    "plt.plot(threshList, IoUValList)"
   ]
  },
  {
   "cell_type": "code",
   "execution_count": 119,
   "metadata": {},
   "outputs": [
    {
     "name": "stdout",
     "output_type": "stream",
     "text": [
      "Thresh: 0.5584615384615383  ExpectedIoU: 0.7743749999999999\n"
     ]
    }
   ],
   "source": [
    "wsThresh = threshList[np.argmax(IoUValList)]\n",
    "print('Thresh: {}  ExpectedIoU: {}'.format(wsThresh, max(IoUValList)))"
   ]
  },
  {
   "cell_type": "markdown",
   "metadata": {},
   "source": [
    "## Threshold optimization"
   ]
  },
  {
   "cell_type": "code",
   "execution_count": 120,
   "metadata": {
    "colab": {
     "base_uri": "https://localhost:8080/",
     "height": 34
    },
    "colab_type": "code",
    "id": "8T71Irhvda5m",
    "outputId": "51b5c269-8f37-4b1a-8053-b376c42030dc"
   },
   "outputs": [
    {
     "name": "stderr",
     "output_type": "stream",
     "text": [
      "100%|██████████| 13/13 [01:22<00:00,  6.31s/it]\n"
     ]
    }
   ],
   "source": [
    "threshList = []\n",
    "IoUList = []\n",
    "IoUValList = []\n",
    "for kk in tqdm(range(13)):\n",
    "    thresh = (1+kk)/13\n",
    "    threshList.append(thresh)\n",
    "    preds_train_t = (preds_train > thresh).astype(np.uint8)\n",
    "    preds_val_t = (preds_val > thresh).astype(np.uint8)\n",
    "    meanIoU = np.array([ModelUNet.IoU(preds_train_t[i], Y_train0[i]) for i in range(Y_train0.shape[0])])\n",
    "    IoUList.append(np.mean(meanIoU) )\n",
    "    meanIoUVal = np.array([ModelUNet.IoU(preds_val_t[i], Y_val[i]) for i in range(Y_val.shape[0])])\n",
    "    IoUValList.append(np.mean(meanIoUVal) )"
   ]
  },
  {
   "cell_type": "code",
   "execution_count": 121,
   "metadata": {
    "colab": {
     "base_uri": "https://localhost:8080/",
     "height": 311
    },
    "colab_type": "code",
    "id": "wg0NipGnddCw",
    "outputId": "c45fb827-da83-4a10-c766-023300ab3329"
   },
   "outputs": [
    {
     "data": {
      "text/plain": [
       "[<matplotlib.lines.Line2D at 0x7f14c04a0c88>]"
      ]
     },
     "execution_count": 121,
     "metadata": {},
     "output_type": "execute_result"
    },
    {
     "data": {
      "image/png": "[encoded data removed]",
      "text/plain": [
       "<Figure size 432x288 with 1 Axes>"
      ]
     },
     "metadata": {},
     "output_type": "display_data"
    }
   ],
   "source": [
    "plt.title('IoU curve')\n",
    "plt.ylabel('IoU')\n",
    "plt.xlabel('threshold')\n",
    "\n",
    "plt.plot(threshList, IoUList)\n",
    "plt.plot(threshList, IoUValList)"
   ]
  },
  {
   "cell_type": "code",
   "execution_count": 122,
   "metadata": {
    "colab": {
     "base_uri": "https://localhost:8080/",
     "height": 34
    },
    "colab_type": "code",
    "id": "cQ_VOkO0de6p",
    "outputId": "b5e9961b-2792-4064-9f30-8daefce31eee"
   },
   "outputs": [
    {
     "name": "stdout",
     "output_type": "stream",
     "text": [
      "Thresh: 0.5384615384615384  ExpectedIoU: 0.7737499999999999\n"
     ]
    }
   ],
   "source": [
    "thresh = threshList[np.argmax(IoUValList)]\n",
    "print('Thresh: {}  ExpectedIoU: {}'.format(thresh, max(IoUValList)))"
   ]
  },
  {
   "cell_type": "code",
   "execution_count": 47,
   "metadata": {
    "colab": {},
    "colab_type": "code",
    "id": "kor6dfuWkRgL"
   },
   "outputs": [],
   "source": [
    "thresh = 0.5"
   ]
  },
  {
   "cell_type": "markdown",
   "metadata": {
    "colab_type": "text",
    "id": "WC_JYxpGKQcj"
   },
   "source": [
    "# Predictions"
   ]
  },
  {
   "cell_type": "code",
   "execution_count": 123,
   "metadata": {},
   "outputs": [
    {
     "name": "stderr",
     "output_type": "stream",
     "text": [
      "  0%|          | 39/18000 [00:00<00:46, 388.90it/s]"
     ]
    },
    {
     "name": "stdout",
     "output_type": "stream",
     "text": [
      "Getting images and masks ... \n"
     ]
    },
    {
     "name": "stderr",
     "output_type": "stream",
     "text": [
      "100%|██████████| 18000/18000 [00:45<00:00, 392.12it/s]\n"
     ]
    }
   ],
   "source": [
    "X_test, d_test = ImageReader.ReadSegmentationImages(testFolder, depthFile, readMasks = False)\n",
    "X_test = X_test/255.0 #(X_test-X_train_mean)/(2*X_train_std)\n",
    "\n",
    "#for i in tqdm(range(len(X_test))):\n",
    "#    X_test[i] = image_datagen.standardize(X_test[i].astype(float))"
   ]
  },
  {
   "cell_type": "code",
   "execution_count": 124,
   "metadata": {
    "colab": {
     "base_uri": "https://localhost:8080/",
     "height": 68
    },
    "colab_type": "code",
    "id": "UQY0LPqMNf3G",
    "outputId": "17457a35-2bd0-422e-cac3-a28224ac61aa"
   },
   "outputs": [
    {
     "name": "stdout",
     "output_type": "stream",
     "text": [
      "3520/3520 [==============================] - 19s 5ms/step\n",
      "480/480 [==============================] - 3s 5ms/step\n",
      "18000/18000 [==============================] - 96s 5ms/step\n"
     ]
    }
   ],
   "source": [
    "model_array = [\n",
    "               #load_model('model-tgs-salt-Resnet.h5', custom_objects={'mean_iou': mean_iou, 'ReflectionPadding2D' : ReflectionPadding2D}),\n",
    "               #load_model('model-tgs-salt-ReflecConv.h5', custom_objects={'mean_iou': mean_iou, 'ReflectionPadding2D' : ReflectionPadding2D}),\n",
    "               #load_model('model-tgs-salt-Incep1.h5', custom_objects={'mean_iou': mean_iou, 'ReflectionPadding2D' : ReflectionPadding2D}),\n",
    "              ]\n",
    "\n",
    "# Predict on train, val and test\n",
    "\n",
    "preds_train = model.predict([X_train0, d_train0], verbose=1)\n",
    "preds_val = model.predict([X_val, d_val], verbose=1)\n",
    "preds_test = model.predict([X_test, d_test], verbose=1)\n",
    "\n",
    "for savedModel in model_array:\n",
    "    preds_train += savedModel.predict([X_train0, d_train0], verbose=1)\n",
    "    preds_val += savedModel.predict([X_val, d_val], verbose=1)\n",
    "    preds_test += savedModel.predict([X_test, d_test], verbose=1)\n",
    "\n",
    "preds_train /= 1+len(model_array)\n",
    "preds_val /= 1+len(model_array)\n",
    "preds_test /= 1+len(model_array)\n",
    "\n",
    "\n",
    "# Threshold predictions\n",
    "preds_train_t = (preds_train > thresh).astype(np.uint8)\n",
    "preds_val_t = (preds_val > thresh).astype(np.uint8)\n",
    "preds_test_t = (preds_test > thresh).astype(np.uint8)\n"
   ]
  },
  {
   "cell_type": "code",
   "execution_count": 125,
   "metadata": {
    "colab": {
     "base_uri": "https://localhost:8080/",
     "height": 34
    },
    "colab_type": "code",
    "id": "ynhnACAcOv19",
    "outputId": "258dcbca-5a36-41fa-8445-a97d02b3f0ff",
    "scrolled": true
   },
   "outputs": [
    {
     "name": "stderr",
     "output_type": "stream",
     "text": [
      "100%|██████████| 18000/18000 [00:41<00:00, 434.73it/s]\n"
     ]
    }
   ],
   "source": [
    "#Watershed predictions\n",
    "preds_test_t = ModelUNet.WaterShedChangeAll(preds_test, lowThresh = 0.1, highThresh = wsThresh)"
   ]
  },
  {
   "cell_type": "code",
   "execution_count": 132,
   "metadata": {
    "colab": {
     "base_uri": "https://localhost:8080/",
     "height": 770
    },
    "colab_type": "code",
    "id": "ttiEeIo-PJcP",
    "outputId": "976df606-8d4b-4bdf-e457-d1c713753a07"
   },
   "outputs": [
    {
     "data": {
      "image/png": "[encoded data removed]",
      "text/plain": [
       "<Figure size 432x288 with 1 Axes>"
      ]
     },
     "metadata": {},
     "output_type": "display_data"
    },
    {
     "data": {
      "image/png": "[encoded data removed]",
      "text/plain": [
       "<Figure size 432x288 with 1 Axes>"
      ]
     },
     "metadata": {},
     "output_type": "display_data"
    },
    {
     "data": {
      "image/png": "[encoded data removed]",
      "text/plain": [
       "<Figure size 432x288 with 1 Axes>"
      ]
     },
     "metadata": {},
     "output_type": "display_data"
    }
   ],
   "source": [
    "# Perform a sanity check on some random training samples\n",
    "ix = np.random.randint(0, len(preds_train_t))\n",
    "plt.imshow(X_train0[ix,:,:,0])\n",
    "plt.show()\n",
    "#plt.imshow(Y_train[ix,:,:,0])\n",
    "tmp = np.squeeze(Y_train0[ix]).astype(np.float32)\n",
    "plt.imshow(np.dstack((tmp,tmp,tmp)))\n",
    "plt.show()\n",
    "tmp = np.squeeze(preds_train_t[ix]).astype(np.float32)\n",
    "plt.imshow(np.dstack((tmp,tmp,tmp)))\n",
    "plt.show()"
   ]
  },
  {
   "cell_type": "code",
   "execution_count": 133,
   "metadata": {
    "colab": {
     "base_uri": "https://localhost:8080/",
     "height": 34
    },
    "colab_type": "code",
    "id": "I-a2-DznPRkG",
    "outputId": "30a99f22-1449-44e4-d816-a09a43a3e5d2"
   },
   "outputs": [
    {
     "data": {
      "text/plain": [
       "0"
      ]
     },
     "execution_count": 133,
     "metadata": {},
     "output_type": "execute_result"
    }
   ],
   "source": [
    "lowPixCount = [imgId for imgId in range(len(preds_test_t)) if preds_test_t[imgId].sum() < 5 and preds_test_t[imgId].sum() > 0]\n",
    "len(lowPixCount)"
   ]
  },
  {
   "cell_type": "code",
   "execution_count": 134,
   "metadata": {
    "colab": {},
    "colab_type": "code",
    "id": "EImEPKhwNiVC"
   },
   "outputs": [],
   "source": [
    "for imId in lowPixCount:\n",
    "    preds_test_t[imId]=np.zeros( (101,101,1) )"
   ]
  },
  {
   "cell_type": "markdown",
   "metadata": {
    "colab_type": "text",
    "id": "3Eggn5qvQEdp"
   },
   "source": [
    "# Prepare Submission"
   ]
  },
  {
   "cell_type": "code",
   "execution_count": 135,
   "metadata": {
    "colab": {
     "base_uri": "https://localhost:8080/",
     "height": 51
    },
    "colab_type": "code",
    "id": "85EJ-_UNQkPw",
    "outputId": "96aae08f-f7e8-4a32-ab3c-9655f55fce48"
   },
   "outputs": [
    {
     "name": "stdout",
     "output_type": "stream",
     "text": [
      "(18000, 101, 101, 1)\n",
      "(18000, 101, 101)\n"
     ]
    }
   ],
   "source": [
    "print(preds_test_t.shape)\n",
    "preds_test = preds_test_t.reshape(preds_test_t.shape[0], preds_test_t.shape[1], preds_test_t.shape[2])\n",
    "print(preds_test.shape)"
   ]
  },
  {
   "cell_type": "code",
   "execution_count": 136,
   "metadata": {
    "colab": {},
    "colab_type": "code",
    "id": "Y5-1fLTJQGDo"
   },
   "outputs": [
    {
     "name": "stderr",
     "output_type": "stream",
     "text": [
      "18000it [05:55, 50.70it/s]\n"
     ]
    }
   ],
   "source": [
    "def RLenc(img, order='F', format=True):\n",
    "    \"\"\"\n",
    "    img is binary mask image, shape (r,c)\n",
    "    order is down-then-right, i.e. Fortran\n",
    "    format determines if the order needs to be preformatted (according to submission rules) or not\n",
    "\n",
    "    returns run length as an array or string (if format is True)\n",
    "    \"\"\"\n",
    "    bytes = img.reshape(img.shape[0] * img.shape[1], order=order)\n",
    "    runs = []  ## list of run lengths\n",
    "    r = 0  ## the current run length\n",
    "    pos = 1  ## count starts from 1 per WK\n",
    "    for c in bytes:\n",
    "        if (c == 0):\n",
    "            if r != 0:\n",
    "                runs.append((pos, r))\n",
    "                pos += r\n",
    "                r = 0\n",
    "            pos += 1\n",
    "        else:\n",
    "            r += 1\n",
    "\n",
    "    # if last run is unsaved (i.e. data ends with 1)\n",
    "    if r != 0:\n",
    "        runs.append((pos, r))\n",
    "        pos += r\n",
    "        r = 0\n",
    "\n",
    "    if format:\n",
    "        z = ''\n",
    "\n",
    "        for rr in runs:\n",
    "            z += '{} {} '.format(rr[0], rr[1])\n",
    "        return z[:-1]\n",
    "    else:\n",
    "        return runs\n",
    "\n",
    "pred_dict = {fn[:-4]:RLenc(np.round(preds_test[i])) for i,fn in tqdm(enumerate(test_ids))}\n",
    "#pred_dict = {fn[:-4]:RLenc(np.round(preds_test[i])) for i,fn in (enumerate(test_ids))}"
   ]
  },
  {
   "cell_type": "code",
   "execution_count": 137,
   "metadata": {
    "colab": {},
    "colab_type": "code",
    "id": "7Nm1w6_RQJqw"
   },
   "outputs": [],
   "source": [
    "sub = pd.DataFrame.from_dict(pred_dict,orient='index')\n",
    "sub.index.names = ['id']\n",
    "sub.columns = ['rle_mask']\n",
    "sub.to_csv('submission.csv')"
   ]
  },
  {
   "cell_type": "code",
   "execution_count": 138,
   "metadata": {
    "colab": {
     "base_uri": "https://localhost:8080/",
     "height": 85
    },
    "colab_type": "code",
    "id": "L5BqBHZbWPe3",
    "outputId": "ddfb96ce-0779-424b-caa9-a8d5e89ba18a"
   },
   "outputs": [
    {
     "name": "stdout",
     "output_type": "stream",
     "text": [
      "creating archive\n",
      "adding with compression mode deflated\n",
      "closing\n",
      "submission.zip\n"
     ]
    }
   ],
   "source": [
    "import zipfile\n",
    "try:\n",
    "    import zlib\n",
    "    compression = zipfile.ZIP_DEFLATED\n",
    "except:\n",
    "    compression = zipfile.ZIP_STORED\n",
    "\n",
    "modes = { zipfile.ZIP_DEFLATED: 'deflated',\n",
    "          zipfile.ZIP_STORED:   'stored',\n",
    "          }\n",
    "\n",
    "print('creating archive')\n",
    "zf = zipfile.ZipFile('submission.zip', mode='w')\n",
    "try:\n",
    "    print('adding with compression mode {}'.format(modes[compression]))\n",
    "    zf.write('submission.csv', compress_type=compression)\n",
    "finally:\n",
    "    print('closing')\n",
    "    zf.close()\n",
    "\n",
    "print('submission.zip')"
   ]
  },
  {
   "cell_type": "code",
   "execution_count": null,
   "metadata": {
    "colab": {},
    "colab_type": "code",
    "id": "nqzGcwV9nPqO"
   },
   "outputs": [],
   "source": []
  },
  {
   "cell_type": "code",
   "execution_count": 139,
   "metadata": {
    "colab": {
     "base_uri": "https://localhost:8080/",
     "height": 34
    },
    "colab_type": "code",
    "id": "xYN4cqUumso9",
    "outputId": "27d0b919-8289-483d-cf86-b086b5390a76"
   },
   "outputs": [
    {
     "name": "stdout",
     "output_type": "stream",
     "text": [
      "Warning: Your Kaggle API key is readable by otherusers on this system! To fix this, you can run'chmod 600 /home/douglas125/.kaggle/kaggle.json'\n",
      "Successfully submitted to TGS Salt Identification Challenge"
     ]
    }
   ],
   "source": [
    "!kaggle competitions submit -c tgs-salt-identification-challenge -f submission.zip -m \"DeepLabv3, initial_lr=1e-4, backbone=mobilenet, watershed\""
   ]
  },
  {
   "cell_type": "code",
   "execution_count": 0,
   "metadata": {
    "colab": {},
    "colab_type": "code",
    "id": "v4duZsutRQqC"
   },
   "outputs": [],
   "source": [
    "from google.colab import files\n",
    "files.download('submission.zip')"
   ]
  }
 ],
 "metadata": {
  "accelerator": "GPU",
  "colab": {
   "collapsed_sections": [
    "yRUBTFaQXB_X"
   ],
   "name": "Kaggle TGS Seismic",
   "provenance": [],
   "version": "0.3.2"
  },
  "kernelspec": {
   "display_name": "Python 3",
   "language": "python",
   "name": "python3"
  },
  "language_info": {
   "codemirror_mode": {
    "name": "ipython",
    "version": 3
   },
   "file_extension": ".py",
   "mimetype": "text/x-python",
   "name": "python",
   "nbconvert_exporter": "python",
   "pygments_lexer": "ipython3",
   "version": "3.6.5"
  }
 },
 "nbformat": 4,
 "nbformat_minor": 1
}
