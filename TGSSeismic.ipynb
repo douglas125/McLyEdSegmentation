{
 "cells": [
  {
   "cell_type": "markdown",
   "metadata": {
    "colab_type": "text",
    "id": "mf2ENBI217Zd"
   },
   "source": [
    "# Kaggle TGS Geoseismic competition"
   ]
  },
  {
   "cell_type": "code",
   "execution_count": 3,
   "metadata": {
    "colab": {},
    "colab_type": "code",
    "id": "YMvFLpBQlBTR"
   },
   "outputs": [],
   "source": [
    "#!pip install -r requirements.txt"
   ]
  },
  {
   "cell_type": "code",
   "execution_count": 1,
   "metadata": {
    "colab": {
     "base_uri": "https://localhost:8080/",
     "height": 318
    },
    "colab_type": "code",
    "id": "tWe1mkDDaGmA",
    "outputId": "ea56e3f6-6995-42ec-92fb-5b53c95782f3"
   },
   "outputs": [
    {
     "name": "stderr",
     "output_type": "stream",
     "text": [
      "/anaconda/envs/py35/lib/python3.5/site-packages/h5py/__init__.py:36: FutureWarning: Conversion of the second argument of issubdtype from `float` to `np.floating` is deprecated. In future, it will be treated as `np.float64 == np.dtype(float).type`.\n",
      "  from ._conv import register_converters as _register_converters\n"
     ]
    },
    {
     "name": "stdout",
     "output_type": "stream",
     "text": [
      "[name: \"/device:CPU:0\"\n",
      "device_type: \"CPU\"\n",
      "memory_limit: 268435456\n",
      "locality {\n",
      "}\n",
      "incarnation: 2782968327026120156\n",
      ", name: \"/device:GPU:0\"\n",
      "device_type: \"GPU\"\n",
      "memory_limit: 11286285517\n",
      "locality {\n",
      "  bus_id: 1\n",
      "  links {\n",
      "  }\n",
      "}\n",
      "incarnation: 4007177297723420039\n",
      "physical_device_desc: \"device: 0, name: Tesla K80, pci bus id: 4029:00:00.0, compute capability: 3.7\"\n",
      "]\n"
     ]
    }
   ],
   "source": [
    "from tensorflow.python.client import device_lib\n",
    "print(device_lib.list_local_devices())"
   ]
  },
  {
   "cell_type": "markdown",
   "metadata": {
    "colab_type": "text",
    "id": "pBETV6aO2d39"
   },
   "source": [
    "# API Credentials\n",
    "\n",
    "To use the Kaggle API, sign up for a Kaggle account at https://www.kaggle.com. Then go to the 'Account' tab of your user profile (https://www.kaggle.com/<username>/account) and select 'Create API Token'. This will trigger the download of kaggle.json, a file containing your API credentials. \n",
    "\n",
    "Place this file on your Google Drive anywhere.\n",
    "\n",
    "With the next snippet you download your credentials to Colab and you can start using Kaggle API"
   ]
  },
  {
   "cell_type": "code",
   "execution_count": 2,
   "metadata": {
    "colab": {
     "base_uri": "https://localhost:8080/",
     "height": 34
    },
    "colab_type": "code",
    "id": "NtqKjNG3Q0Z9",
    "outputId": "97d3685a-30cb-4deb-f4ec-8f25f1f0dc5b"
   },
   "outputs": [
    {
     "name": "stdout",
     "output_type": "stream",
     "text": [
      "datalab\r\n"
     ]
    }
   ],
   "source": [
    "!ls"
   ]
  },
  {
   "cell_type": "code",
   "execution_count": 3,
   "metadata": {
    "colab": {
     "base_uri": "https://localhost:8080/",
     "height": 34
    },
    "colab_type": "code",
    "id": "y5_288BYp6H1",
    "outputId": "7615aa5e-a752-4691-bde4-2f476f6e067c"
   },
   "outputs": [
    {
     "name": "stdout",
     "output_type": "stream",
     "text": [
      "Download 100%.\n"
     ]
    }
   ],
   "source": [
    "from googleapiclient.discovery import build\n",
    "import io, os\n",
    "from googleapiclient.http import MediaIoBaseDownload\n",
    "from google.colab import auth\n",
    "\n",
    "auth.authenticate_user()\n",
    "\n",
    "drive_service = build('drive', 'v3')\n",
    "results = drive_service.files().list(\n",
    "        q=\"name = 'kaggle.json'\", fields=\"files(id)\").execute()\n",
    "kaggle_api_key = results.get('files', [])\n",
    "\n",
    "filename = \"/content/.kaggle/kaggle.json\"\n",
    "os.makedirs(os.path.dirname(filename), exist_ok=True)\n",
    "\n",
    "request = drive_service.files().get_media(fileId=kaggle_api_key[0]['id'])\n",
    "fh = io.FileIO(filename, 'wb')\n",
    "downloader = MediaIoBaseDownload(fh, request)\n",
    "done = False\n",
    "while done is False:\n",
    "    status, done = downloader.next_chunk()\n",
    "    print(\"Download %d%%.\" % int(status.progress() * 100))\n",
    "os.chmod(filename, 600)"
   ]
  },
  {
   "cell_type": "code",
   "execution_count": 0,
   "metadata": {
    "colab": {},
    "colab_type": "code",
    "id": "5l1V_oxXsZ8l"
   },
   "outputs": [],
   "source": [
    "#!kaggle datasets list"
   ]
  },
  {
   "cell_type": "code",
   "execution_count": 4,
   "metadata": {
    "colab": {
     "base_uri": "https://localhost:8080/",
     "height": 34
    },
    "colab_type": "code",
    "id": "L-MSBCgPkI9V",
    "outputId": "292c50a8-867e-435d-f8f6-5912c408e19f"
   },
   "outputs": [
    {
     "name": "stdout",
     "output_type": "stream",
     "text": [
      "Warning: Your Kaggle API key is readable by otherusers on this system! To fix this, you can run'chmod 600 /home/douglas125/.kaggle/kaggle.json'\n",
      "Downloading depths.csv to /home/douglas125/McLyEdSegmentation\n",
      "  0%|                                                | 0.00/322k [00:00<?, ?B/s]\n",
      "100%|████████████████████████████████████████| 322k/322k [00:00<00:00, 45.3MB/s]\n",
      "Downloading sample_submission.csv to /home/douglas125/McLyEdSegmentation\n",
      "  0%|                                                | 0.00/264k [00:00<?, ?B/s]\n",
      "100%|████████████████████████████████████████| 264k/264k [00:00<00:00, 89.5MB/s]\n",
      "Downloading train.csv to /home/douglas125/McLyEdSegmentation\n",
      "  0%|                                                | 0.00/922k [00:00<?, ?B/s]\n",
      "100%|█████████████████████████████████████████| 922k/922k [00:00<00:00, 161MB/s]\n",
      "Downloading test.zip to /home/douglas125/McLyEdSegmentation\n",
      " 92%|█████████████████████████████████████▉   | 151M/163M [00:00<00:00, 133MB/s]\n",
      "100%|█████████████████████████████████████████| 163M/163M [00:01<00:00, 157MB/s]\n",
      "Downloading train.zip to /home/douglas125/McLyEdSegmentation\n",
      " 45%|█████████████████                     | 17.0M/37.9M [00:00<00:00, 66.1MB/s]\n",
      "100%|███████████████████████████████████████| 37.9M/37.9M [00:00<00:00, 124MB/s]\n"
     ]
    }
   ],
   "source": [
    "!kaggle competitions download -c tgs-salt-identification-challenge"
   ]
  },
  {
   "cell_type": "markdown",
   "metadata": {
    "colab_type": "text",
    "id": "-4T8ufsAkQts"
   },
   "source": [
    "Reference: [https://github.com/Kaggle/kaggle-api](https://github.com/Kaggle/kaggle-api)"
   ]
  },
  {
   "cell_type": "code",
   "execution_count": 6,
   "metadata": {
    "colab": {
     "base_uri": "https://localhost:8080/",
     "height": 34
    },
    "colab_type": "code",
    "id": "_fZ-DSopb6Pd",
    "outputId": "97e08c91-9685-4714-9981-061e0c8048f2"
   },
   "outputs": [
    {
     "name": "stdout",
     "output_type": "stream",
     "text": [
      "datalab\r\n"
     ]
    }
   ],
   "source": [
    "!ls /content"
   ]
  },
  {
   "cell_type": "code",
   "execution_count": 0,
   "metadata": {
    "colab": {},
    "colab_type": "code",
    "id": "pZY3IRcrdRqA"
   },
   "outputs": [],
   "source": [
    "#!ls /content#/competitions/tgs-salt-identification-challenge"
   ]
  },
  {
   "cell_type": "code",
   "execution_count": 0,
   "metadata": {
    "colab": {},
    "colab_type": "code",
    "id": "P8iJLspz5PIp"
   },
   "outputs": [],
   "source": [
    "#!mv ~/.kaggle/competitions/tgs-salt-identification-challenge/ /"
   ]
  },
  {
   "cell_type": "code",
   "execution_count": 0,
   "metadata": {
    "colab": {},
    "colab_type": "code",
    "id": "kJQqlQ8c4O-1"
   },
   "outputs": [],
   "source": [
    "#!ls /"
   ]
  },
  {
   "cell_type": "markdown",
   "metadata": {
    "colab_type": "text",
    "id": "wt72EaD62qHM"
   },
   "source": [
    "# Data Exploration"
   ]
  },
  {
   "cell_type": "code",
   "execution_count": 6,
   "metadata": {
    "colab": {
     "base_uri": "https://localhost:8080/",
     "height": 345
    },
    "colab_type": "code",
    "id": "FaCbaUks2TN2",
    "outputId": "e0de925f-e65c-44c8-9b5e-f37620c94932"
   },
   "outputs": [],
   "source": [
    "import zipfile\n",
    "zip_ref = zipfile.ZipFile('train.zip', 'r')\n",
    "zip_ref.extractall('tgs-salt-identification-challenge/trainData')\n",
    "zip_ref.close()"
   ]
  },
  {
   "cell_type": "code",
   "execution_count": 7,
   "metadata": {
    "colab": {},
    "colab_type": "code",
    "id": "T9NE1-oF8UGv"
   },
   "outputs": [],
   "source": [
    "zip_ref = zipfile.ZipFile('test.zip', 'r')\n",
    "zip_ref.extractall('tgs-salt-identification-challenge/testData')\n",
    "zip_ref.close()"
   ]
  },
  {
   "cell_type": "code",
   "execution_count": 1,
   "metadata": {
    "colab": {
     "base_uri": "https://localhost:8080/",
     "height": 34
    },
    "colab_type": "code",
    "id": "bYDGN_2W6Pmp",
    "outputId": "279c496b-97bc-46b9-bf15-a2226bfb5d78"
   },
   "outputs": [
    {
     "name": "stderr",
     "output_type": "stream",
     "text": [
      "/anaconda/envs/py35/lib/python3.5/site-packages/h5py/__init__.py:36: FutureWarning: Conversion of the second argument of issubdtype from `float` to `np.floating` is deprecated. In future, it will be treated as `np.float64 == np.dtype(float).type`.\n",
      "  from ._conv import register_converters as _register_converters\n",
      "Using TensorFlow backend.\n"
     ]
    }
   ],
   "source": [
    "import os\n",
    "\n",
    "import pandas as pd\n",
    "import numpy as np\n",
    "import matplotlib.pyplot as plt\n",
    "%matplotlib inline\n",
    "from keras.preprocessing.image import ImageDataGenerator, array_to_img, img_to_array, load_img\n",
    "from tqdm import tqdm_notebook, tnrange, tqdm\n",
    "\n",
    "from scipy.signal import medfilt2d"
   ]
  },
  {
   "cell_type": "code",
   "execution_count": 2,
   "metadata": {
    "colab": {},
    "colab_type": "code",
    "id": "cWYuS0Zx5xIz"
   },
   "outputs": [],
   "source": [
    "trainFolder = 'tgs-salt-identification-challenge/trainData/'\n",
    "testFolder  = 'tgs-salt-identification-challenge/testData/'"
   ]
  },
  {
   "cell_type": "code",
   "execution_count": 3,
   "metadata": {
    "colab": {
     "base_uri": "https://localhost:8080/",
     "height": 34
    },
    "colab_type": "code",
    "id": "-iTxGqLx2TUh",
    "outputId": "1a0c2f3a-9ab4-4a03-b6e4-2648ebb5ca72"
   },
   "outputs": [
    {
     "name": "stdout",
     "output_type": "stream",
     "text": [
      "images\r\n"
     ]
    }
   ],
   "source": [
    "!ls tgs-salt-identification-challenge/testData/"
   ]
  },
  {
   "cell_type": "code",
   "execution_count": 4,
   "metadata": {
    "colab": {
     "base_uri": "https://localhost:8080/",
     "height": 204
    },
    "colab_type": "code",
    "id": "8KLX-j4vo0rG",
    "outputId": "61797aac-fe00-43dd-c0ef-cce24393977e"
   },
   "outputs": [
    {
     "data": {
      "text/html": [
       "<div>\n",
       "<style scoped>\n",
       "    .dataframe tbody tr th:only-of-type {\n",
       "        vertical-align: middle;\n",
       "    }\n",
       "\n",
       "    .dataframe tbody tr th {\n",
       "        vertical-align: top;\n",
       "    }\n",
       "\n",
       "    .dataframe thead th {\n",
       "        text-align: right;\n",
       "    }\n",
       "</style>\n",
       "<table border=\"1\" class=\"dataframe\">\n",
       "  <thead>\n",
       "    <tr style=\"text-align: right;\">\n",
       "      <th></th>\n",
       "      <th>id</th>\n",
       "      <th>z</th>\n",
       "    </tr>\n",
       "  </thead>\n",
       "  <tbody>\n",
       "    <tr>\n",
       "      <th>0</th>\n",
       "      <td>4ac19fb269</td>\n",
       "      <td>306</td>\n",
       "    </tr>\n",
       "    <tr>\n",
       "      <th>1</th>\n",
       "      <td>1825fadf99</td>\n",
       "      <td>157</td>\n",
       "    </tr>\n",
       "    <tr>\n",
       "      <th>2</th>\n",
       "      <td>f59821d067</td>\n",
       "      <td>305</td>\n",
       "    </tr>\n",
       "    <tr>\n",
       "      <th>3</th>\n",
       "      <td>5b435fad9d</td>\n",
       "      <td>503</td>\n",
       "    </tr>\n",
       "    <tr>\n",
       "      <th>4</th>\n",
       "      <td>e340e7bfca</td>\n",
       "      <td>783</td>\n",
       "    </tr>\n",
       "  </tbody>\n",
       "</table>\n",
       "</div>"
      ],
      "text/plain": [
       "           id    z\n",
       "0  4ac19fb269  306\n",
       "1  1825fadf99  157\n",
       "2  f59821d067  305\n",
       "3  5b435fad9d  503\n",
       "4  e340e7bfca  783"
      ]
     },
     "execution_count": 4,
     "metadata": {},
     "output_type": "execute_result"
    }
   ],
   "source": [
    "depthFile = pd.read_csv('depths.csv' )\n",
    "depthFile.head()"
   ]
  },
  {
   "cell_type": "code",
   "execution_count": 5,
   "metadata": {
    "colab": {
     "base_uri": "https://localhost:8080/",
     "height": 34
    },
    "colab_type": "code",
    "id": "ahZ9hvSDu4VM",
    "outputId": "e073742a-d259-464f-90de-d14cefb75c23"
   },
   "outputs": [
    {
     "data": {
      "text/plain": [
       "306"
      ]
     },
     "execution_count": 5,
     "metadata": {},
     "output_type": "execute_result"
    }
   ],
   "source": [
    "depthFile[depthFile['id'] == '4ac19fb269'].z.tolist()[0]"
   ]
  },
  {
   "cell_type": "code",
   "execution_count": 6,
   "metadata": {
    "colab": {
     "base_uri": "https://localhost:8080/",
     "height": 267
    },
    "colab_type": "code",
    "id": "wZiwNBFp2TSA",
    "outputId": "a41701ea-2d3f-486c-cef9-0229f60a9d11"
   },
   "outputs": [
    {
     "data": {
      "image/png": "[encoded data removed]",
      "text/plain": [
       "<Figure size 3600x1800 with 10 Axes>"
      ]
     },
     "metadata": {},
     "output_type": "display_data"
    }
   ],
   "source": [
    "ids= ['1f1cc6b3a4','5b7c160d0d','6c40978ddf','7dfdf6eeb8','7e5a6e5013']\n",
    "plt.figure(figsize=(50,25))\n",
    "for j, img_name in enumerate(ids):\n",
    "    q = j+1\n",
    "    img = load_img(trainFolder + 'images/' + img_name + '.png')\n",
    "    img_mask = load_img(trainFolder + 'masks/' + img_name + '.png')\n",
    "    \n",
    "    plt.subplot(1,2*(1+len(ids)),q*2-1)\n",
    "    plt.imshow(img)\n",
    "    plt.subplot(1,2*(1+len(ids)),q*2)\n",
    "    plt.imshow(img_mask)\n",
    "plt.show()"
   ]
  },
  {
   "cell_type": "code",
   "execution_count": 7,
   "metadata": {},
   "outputs": [],
   "source": [
    "%load_ext autoreload\n",
    "%autoreload 2\n",
    "\n",
    "import ImageReader"
   ]
  },
  {
   "cell_type": "code",
   "execution_count": 8,
   "metadata": {
    "colab": {},
    "colab_type": "code",
    "id": "0tpME6Io6EmS"
   },
   "outputs": [],
   "source": [
    "train_ids = next(os.walk(trainFolder +\"images\"))[2]\n",
    "test_ids = next(os.walk(testFolder +\"images\"))[2]"
   ]
  },
  {
   "cell_type": "code",
   "execution_count": 9,
   "metadata": {
    "scrolled": true
   },
   "outputs": [
    {
     "name": "stderr",
     "output_type": "stream",
     "text": [
      "  1%|          | 34/4000 [00:00<00:11, 333.85it/s]"
     ]
    },
    {
     "name": "stdout",
     "output_type": "stream",
     "text": [
      "Getting images and masks ... \n"
     ]
    },
    {
     "name": "stderr",
     "output_type": "stream",
     "text": [
      "100%|██████████| 4000/4000 [00:11<00:00, 350.66it/s]\n"
     ]
    },
    {
     "name": "stdout",
     "output_type": "stream",
     "text": [
      "Mean: 120.34612148318793 Std: 41.06966522016213\n"
     ]
    }
   ],
   "source": [
    "X_train, Y_train, depthVals = ImageReader.ReadSegmentationImages(trainFolder, depthFile)\n",
    "X_train_mean = np.mean(X_train)\n",
    "X_train_std = np.std(X_train)\n",
    "print('Mean: {} Std: {}'.format(X_train_mean, X_train_std))\n",
    "X_train = X_train/255.0#(X_train-X_train_mean)/(2*X_train_std)\n",
    "\n",
    "#X_test, d_test = ImageReader.ReadSegmentationImages(testFolder, depthFile, readMasks = False)\n",
    "#X_test = (X_test-X_train_mean)/(2*X_train_std)"
   ]
  },
  {
   "cell_type": "code",
   "execution_count": 27,
   "metadata": {},
   "outputs": [],
   "source": [
    "#Run this line to remove samples without salt\n",
    "imgWithSaltIDs = [imgId for imgId in range(len(Y_train)) if Y_train[imgId].sum() > 0]\n",
    "X_train=X_train[imgWithSaltIDs]\n",
    "Y_train=Y_train[imgWithSaltIDs]\n",
    "depthVals=depthVals[imgWithSaltIDs]"
   ]
  },
  {
   "cell_type": "code",
   "execution_count": 40,
   "metadata": {
    "colab": {
     "base_uri": "https://localhost:8080/",
     "height": 519
    },
    "colab_type": "code",
    "id": "3UoDxmPa7tVk",
    "outputId": "fdcd3a8d-a8aa-482d-fcea-10adb5b25993"
   },
   "outputs": [
    {
     "data": {
      "image/png": "[encoded data removed]",
      "text/plain": [
       "<Figure size 432x288 with 1 Axes>"
      ]
     },
     "metadata": {},
     "output_type": "display_data"
    },
    {
     "data": {
      "image/png": "[encoded data removed]",
      "text/plain": [
       "<Figure size 432x288 with 1 Axes>"
      ]
     },
     "metadata": {},
     "output_type": "display_data"
    }
   ],
   "source": [
    "# Check if training data looks all right\n",
    "ix = np.random.randint(0, len(X_train))\n",
    "#plt.imshow(np.dstack((X_train[ix],X_train[ix],X_train[ix])))\n",
    "plt.imshow(X_train[ix,:,:,0])\n",
    "plt.show()\n",
    "plt.imshow(Y_train[ix,:,:,0])\n",
    "plt.show()"
   ]
  },
  {
   "cell_type": "markdown",
   "metadata": {
    "colab_type": "text",
    "id": "ZCmJsm8qFzdd"
   },
   "source": [
    "# Keras datagen"
   ]
  },
  {
   "cell_type": "code",
   "execution_count": 43,
   "metadata": {
    "colab": {
     "base_uri": "https://localhost:8080/",
     "height": 34
    },
    "colab_type": "code",
    "id": "ayFcz_QDKKQO",
    "outputId": "7f5bbff7-5c8f-47f7-96d9-ffc9e47c3f65"
   },
   "outputs": [
    {
     "name": "stdout",
     "output_type": "stream",
     "text": [
      "(2429, 101, 101, 1), (9, 101, 101, 1)\n"
     ]
    }
   ],
   "source": [
    "valRatio = 0.004\n",
    "nVal = int(len(X_train)*valRatio)\n",
    "X_val = X_train[0:nVal]\n",
    "Y_val = Y_train[0:nVal]\n",
    "d_val = depthVals[0:nVal]\n",
    "\n",
    "X_train0 = X_train[nVal:]\n",
    "Y_train0 = Y_train[nVal:]\n",
    "d_train0 = depthVals[nVal:]\n",
    "X_train0.shape\n",
    "print('{}, {}'.format(X_train0.shape, X_val.shape))"
   ]
  },
  {
   "cell_type": "code",
   "execution_count": 44,
   "metadata": {
    "colab": {
     "base_uri": "https://localhost:8080/",
     "height": 105
    },
    "colab_type": "code",
    "id": "iZWJWDxSF21D",
    "outputId": "5c0f18b3-6109-41e0-c257-fbaa2e87b566"
   },
   "outputs": [],
   "source": [
    "from keras.preprocessing.image import ImageDataGenerator\n",
    "\n",
    "# we create two instances with the same arguments\n",
    "data_gen_argsMask = dict(\n",
    "                     rotation_range=5.0, #1.0,\n",
    "                     #shear_range = 0.001, #0\n",
    "                     zoom_range = 0.03, #0\n",
    "                     width_shift_range=0.35, # 0.03,\n",
    "                     height_shift_range=0.002, #0.3,\n",
    "                     horizontal_flip=True,\n",
    "                     fill_mode = \"reflect\"\n",
    "                     #vertical_flip=True #see if helps\n",
    "                    )\n",
    "\n",
    "data_gen_args = {}\n",
    "for key in data_gen_argsMask:\n",
    "    data_gen_args[key] = data_gen_argsMask[key]\n",
    "    \n",
    "#data_gen_args['featurewise_center'] = True\n",
    "#data_gen_args['featurewise_std_normalization'] = True\n",
    "#data_gen_args['zca_whitening'] = True #this or normalization\n",
    "\n",
    "image_datagen = ImageDataGenerator(**data_gen_args)\n",
    "mask_datagen = ImageDataGenerator(**data_gen_argsMask)\n",
    "depth_datagen = ImageDataGenerator()\n",
    "\n",
    "\n",
    "seed=7\n",
    "# Provide the same seed and keyword arguments to the fit and flow methods\n",
    "image_datagen.fit(X_train0, augment=True, seed=seed)\n",
    "#mask_datagen.fit(Y_train0, augment=True, seed=seed)\n",
    "#depth_datagen.fit(d_train0, augment=False, seed=seed)\n",
    "\n",
    "image_generator = image_datagen.flow(\n",
    "    X_train0,\n",
    "    seed=seed,\n",
    "    batch_size = 32)#32*nGPUs)\n",
    "\n",
    "mask_generator = mask_datagen.flow(\n",
    "    Y_train0,\n",
    "    seed=seed,\n",
    "    batch_size = 32)#32*nGPUs)\n",
    "\n",
    "depth_generator = depth_datagen.flow(\n",
    "    d_train0,\n",
    "    seed=seed,\n",
    "    batch_size = 32)#32*nGPUs)\n",
    "\n",
    "bSize = 32\n",
    "def multi_input_gen(X1, X2, X3):\n",
    "    genX1 = image_datagen.flow(X1, seed=7, batch_size=bSize)\n",
    "    genX2 = depth_datagen.flow(X2, seed=7, batch_size=bSize)\n",
    "    genX3 = mask_datagen.flow( X3, seed=7, batch_size=bSize)\n",
    "    while True:\n",
    "            X1i = genX1.next()\n",
    "            X2i = genX2.next()\n",
    "            X3i = genX3.next()\n",
    "            yield [X1i, X2i], X3i\n",
    "\n",
    "train_generator = multi_input_gen(X_train0, d_train0, Y_train0) #zip( [image_generator, depth_generator] , [mask_generator] )"
   ]
  },
  {
   "cell_type": "code",
   "execution_count": 45,
   "metadata": {},
   "outputs": [
    {
     "name": "stdout",
     "output_type": "stream",
     "text": [
      "429.0\n"
     ]
    },
    {
     "data": {
      "image/png": "[encoded data removed]",
      "text/plain": [
       "<Figure size 432x288 with 1 Axes>"
      ]
     },
     "metadata": {},
     "output_type": "display_data"
    },
    {
     "data": {
      "image/png": "[encoded data removed]",
      "text/plain": [
       "<Figure size 432x288 with 1 Axes>"
      ]
     },
     "metadata": {},
     "output_type": "display_data"
    }
   ],
   "source": [
    "ans = next(train_generator)\n",
    "print(ans[0][1][17,0,0,0])\n",
    "plt.imshow( ans[0][0][17,:,:,0] )\n",
    "plt.show()\n",
    "plt.imshow( ans[1][17,:,:,0] )\n",
    "plt.show()"
   ]
  },
  {
   "cell_type": "markdown",
   "metadata": {
    "colab_type": "text",
    "id": "ZZnJKHYuCfpu"
   },
   "source": [
    "# UNet model"
   ]
  },
  {
   "cell_type": "code",
   "execution_count": 46,
   "metadata": {
    "colab": {},
    "colab_type": "code",
    "id": "eq663ff6-x9k"
   },
   "outputs": [],
   "source": [
    "import ModelUNet\n",
    "\n",
    "from keras.utils import plot_model\n",
    "from keras.models import Model, load_model\n",
    "from keras.layers import Input, ZeroPadding2D, Cropping2D, Add, Conv2D, Concatenate, SeparableConv2D\n",
    "from keras.layers.core import Lambda"
   ]
  },
  {
   "cell_type": "code",
   "execution_count": null,
   "metadata": {},
   "outputs": [],
   "source": []
  },
  {
   "cell_type": "code",
   "execution_count": 15,
   "metadata": {
    "colab": {
     "base_uri": "https://localhost:8080/",
     "height": 2397
    },
    "colab_type": "code",
    "id": "xOna1LTs4hMT",
    "outputId": "0ee5e237-1064-4a1a-b646-e8f8fba3abf7",
    "scrolled": false
   },
   "outputs": [
    {
     "name": "stdout",
     "output_type": "stream",
     "text": [
      "__________________________________________________________________________________________________\n",
      "Layer (type)                    Output Shape         Param #     Connected to                     \n",
      "==================================================================================================\n",
      "input_1 (InputLayer)            (None, 101, 101, 1)  0                                            \n",
      "__________________________________________________________________________________________________\n",
      "zero_padding2d_1 (ZeroPadding2D (None, 128, 128, 1)  0           input_1[0][0]                    \n",
      "__________________________________________________________________________________________________\n",
      "input_2 (InputLayer)            (None, 1, 1, 1)      0                                            \n",
      "__________________________________________________________________________________________________\n",
      "SUNet_d2 (Model)                (None, 128, 128, 1)  2917267     zero_padding2d_1[0][0]           \n",
      "                                                                 input_2[0][0]                    \n",
      "__________________________________________________________________________________________________\n",
      "cropping2d_1 (Cropping2D)       (None, 101, 101, 1)  0           SUNet_d2[1][0]                   \n",
      "==================================================================================================\n",
      "Total params: 2,917,267\n",
      "Trainable params: 2,898,195\n",
      "Non-trainable params: 19,072\n",
      "__________________________________________________________________________________________________\n"
     ]
    }
   ],
   "source": [
    "im_height = 101\n",
    "im_width = 101\n",
    "im_chan = 1\n",
    "\n",
    "\n",
    "inputImg = Input((im_height, im_width, im_chan))\n",
    "inputDepth = Input( (1,1,1) )\n",
    "\n",
    "s=inputImg\n",
    "dd=inputDepth\n",
    "\n",
    "#s = ReflectionPadding2D( padding = ((13, 14), (13, 14)) ) (s)\n",
    "s = ZeroPadding2D( padding = ((13, 14), (13, 14)) ) (s)\n",
    "\n",
    "\n",
    "#unet = ModelUNet.BuildUNet(convFunction = ModelUNet.ApplyConv, nFilter = 12, net_depth=4, nBorderRefinementConvs = 4)\n",
    "unet = ModelUNet.BuildSUNet(convFunction = ModelUNet.ApplySepConv, nFilter = 64, net_depth=2, \n",
    "                            nBorderRefinementConvs = 4, innerConvs = 16, encoderSquash=64)\n",
    "\n",
    "su = unet([s,dd])\n",
    "\n",
    "outputs = su\n",
    "\n",
    "#outputs = Conv2D(1, (1, 1), activation='sigmoid') (outputs) #already in UNet\n",
    "\n",
    "\n",
    "outputs = Cropping2D(cropping=((13, 14), (13, 14)) ) (outputs)\n",
    "\n",
    "model = Model(inputs=[inputImg, inputDepth], outputs=[outputs])\n",
    "\n",
    "model.compile(optimizer='adam', loss=ModelUNet.dice_loss, metrics=[ModelUNet.mean_iou])\n",
    "\n",
    "model.summary()"
   ]
  },
  {
   "cell_type": "markdown",
   "metadata": {},
   "source": [
    "## DeepLabV3+"
   ]
  },
  {
   "cell_type": "code",
   "execution_count": 47,
   "metadata": {
    "scrolled": true
   },
   "outputs": [
    {
     "name": "stdout",
     "output_type": "stream",
     "text": [
      "__________________________________________________________________________________________________\n",
      "Layer (type)                    Output Shape         Param #     Connected to                     \n",
      "==================================================================================================\n",
      "input_4 (InputLayer)            (None, 101, 101, 1)  0                                            \n",
      "__________________________________________________________________________________________________\n",
      "zero_padding2d_8 (ZeroPadding2D (None, 128, 128, 1)  0           input_4[0][0]                    \n",
      "__________________________________________________________________________________________________\n",
      "input_5 (InputLayer)            (None, 1, 1, 1)      0                                            \n",
      "__________________________________________________________________________________________________\n",
      "conv2d_3 (Conv2D)               (None, 128, 128, 3)  6           zero_padding2d_8[0][0]           \n",
      "__________________________________________________________________________________________________\n",
      "lambda_3 (Lambda)               (None, 1, 1, 1)      0           input_5[0][0]                    \n",
      "__________________________________________________________________________________________________\n",
      "deeplabv3p (Model)              (None, 128, 128, 21) 41258213    conv2d_3[0][0]                   \n",
      "__________________________________________________________________________________________________\n",
      "lambda_4 (Lambda)               (None, 128, 128, 1)  0           lambda_3[0][0]                   \n",
      "__________________________________________________________________________________________________\n",
      "concatenate_6 (Concatenate)     (None, 128, 128, 22) 0           deeplabv3p[1][0]                 \n",
      "                                                                 lambda_4[0][0]                   \n",
      "__________________________________________________________________________________________________\n",
      "conv2d_4 (Conv2D)               (None, 128, 128, 1)  23          concatenate_6[0][0]              \n",
      "__________________________________________________________________________________________________\n",
      "cropping2d_2 (Cropping2D)       (None, 101, 101, 1)  0           conv2d_4[0][0]                   \n",
      "==================================================================================================\n",
      "Total params: 41,258,242\n",
      "Trainable params: 41,055,442\n",
      "Non-trainable params: 202,800\n",
      "__________________________________________________________________________________________________\n"
     ]
    }
   ],
   "source": [
    "import DeepLabv3Plus\n",
    "\n",
    "im_height = 101\n",
    "im_width = 101\n",
    "im_chan = 1\n",
    "\n",
    "\n",
    "inputs = Input((im_height, im_width, im_chan))\n",
    "#s = Lambda(lambda x: x / 255) (inputs)\n",
    "s=inputs\n",
    "inputDepth = Input( (1,1,1) )\n",
    "\n",
    "\n",
    "curLayer = inputs#Concatenate()([inputs, depthIn])\n",
    "\n",
    "\n",
    "#s = ReflectionPadding2D( padding = ((13, 14), (13, 14)) ) (s)\n",
    "s = ZeroPadding2D( padding = ((13, 14), (13, 14)) ) (curLayer)\n",
    "s = Conv2D(3, (1, 1), activation='relu') (s) #(1,1)\n",
    "\n",
    "dlmodel = DeepLabv3Plus.Deeplabv3(input_shape=(128, 128, 3), classes=21, backbone='xception') #\n",
    "\n",
    "outputs = dlmodel(s)\n",
    "\n",
    "dd = Lambda(lambda x: x * 0.001) (inputDepth)\n",
    "dd = Lambda(lambda x: ModelUNet._expand(x, 128, 128) )(dd)\n",
    "outputs = Concatenate()([outputs, dd])\n",
    "\n",
    "outputs = Conv2D(1, (1, 1), activation='sigmoid') (outputs)\n",
    "outputs = Cropping2D(cropping=((13, 14), (13, 14)) ) (outputs)\n",
    "\n",
    "#model = Model(inputs=[inputs], outputs=[outputs, outputs])\n",
    "#model.compile(optimizer='adam', loss=['binary_crossentropy', dice_loss], loss_weights=[0.01, 1.2], metrics=[mean_iou])\n",
    "model = Model(inputs=[inputs, inputDepth], outputs=outputs)\n",
    "model.compile(optimizer='adam', loss=[ModelUNet.dice_loss], metrics=[ModelUNet.mean_iou])\n",
    "model.summary()"
   ]
  },
  {
   "cell_type": "markdown",
   "metadata": {},
   "source": [
    "# Dumb Baseline"
   ]
  },
  {
   "cell_type": "code",
   "execution_count": null,
   "metadata": {},
   "outputs": [],
   "source": [
    "im_height = 101\n",
    "im_width = 101\n",
    "im_chan = 1\n",
    "\n",
    "\n",
    "inputs = Input((im_height, im_width, im_chan))\n",
    "#s = Lambda(lambda x: x / 255) (inputs)\n",
    "s=inputs\n",
    "inputDepth = Input( (1,1,1) )\n",
    "\n",
    "dd = Lambda(lambda x: x * 0.001) (inputDepth)\n",
    "dd = Lambda(lambda x: ModelUNet._expand(x, 128, 128) )(dd)\n",
    "s = Concatenate()([s, dd])\n",
    "\n",
    "s = SeparableConv2D(256, (11,11), activation = 'relu', padding = 'same') (s)\n",
    "for k in range(10):\n",
    "    rs = SeparableConv2D(256, (11,11), activation = 'relu', padding = 'same') (s)\n",
    "    rs = SeparableConv2D(256, (11,11), activation = 'relu', padding = 'same') (rs)\n",
    "    s = Add()([s,rs])\n",
    "\n",
    "outputs = Conv2D(1, (1, 1), activation='sigmoid') (s)\n",
    "\n",
    "#model = Model(inputs=[inputs], outputs=[outputs, outputs])\n",
    "#model.compile(optimizer='adam', loss=['binary_crossentropy', dice_loss], loss_weights=[0.01, 1.2], metrics=[mean_iou])\n",
    "model = Model(inputs=[inputs, inputDepth], outputs=outputs)\n",
    "model.compile(optimizer='adam', loss=[ModelUNet.dice_loss], metrics=[ModelUNet.mean_iou])\n",
    "model.summary()"
   ]
  },
  {
   "cell_type": "markdown",
   "metadata": {
    "colab_type": "text",
    "id": "CT0_7k0iW5bh"
   },
   "source": [
    "# Training"
   ]
  },
  {
   "cell_type": "code",
   "execution_count": 48,
   "metadata": {
    "colab": {},
    "colab_type": "code",
    "id": "V6zDpL9pTNb4"
   },
   "outputs": [],
   "source": [
    "import math\n",
    "from keras.callbacks import EarlyStopping, ModelCheckpoint, LearningRateScheduler\n",
    "def step_decay(epoch):\n",
    "    initial_lrate = 0.0005                \n",
    "    drop = 0.6\n",
    "    epochs_drop = 30.0\n",
    "    lrate = initial_lrate * math.pow(drop,  \n",
    "            math.floor((1+epoch)/epochs_drop))\n",
    "    \n",
    "    if (lrate < 5e-7):\n",
    "        lrate = 5e-7\n",
    "      \n",
    "    print('Changing learning rate to {}'.format(lrate))\n",
    "    return lrate\n",
    "lrate = LearningRateScheduler(step_decay)"
   ]
  },
  {
   "cell_type": "code",
   "execution_count": 49,
   "metadata": {
    "colab": {
     "base_uri": "https://localhost:8080/",
     "height": 3179
    },
    "colab_type": "code",
    "id": "dyt7eewqDTIk",
    "outputId": "fd7ee0f3-d0c9-4b50-e00a-445bfe2d98b6",
    "scrolled": true
   },
   "outputs": [
    {
     "name": "stdout",
     "output_type": "stream",
     "text": [
      "Epoch 1/300\n",
      "Changing learning rate to 0.0005\n",
      "76/75 [==============================] - 153s 2s/step - loss: 0.0663 - mean_iou: 0.6205 - val_loss: 0.0680 - val_mean_iou: 0.7187\n",
      "\n",
      "Epoch 00001: val_loss improved from inf to 0.06803, saving model to model-tgs-salt-1.h5\n",
      "9/9 [==============================] - 7s 788ms/step\n",
      "Accurate validation score is 0.34444444444444444. Best so far is 0\n",
      "Saving model-tgs-salt-IV.h5\n",
      "Epoch 2/300\n",
      "Changing learning rate to 0.0005\n",
      "76/75 [==============================] - 100s 1s/step - loss: 0.0362 - mean_iou: 0.7486 - val_loss: 0.0533 - val_mean_iou: 0.7708\n",
      "\n",
      "Epoch 00002: val_loss improved from 0.06803 to 0.05333, saving model to model-tgs-salt-1.h5\n",
      "9/9 [==============================] - 0s 17ms/step\n",
      "Accurate validation score is 0.47777777777777775. Best so far is 0.34444444444444444\n",
      "Saving model-tgs-salt-IV.h5\n",
      "Epoch 3/300\n",
      "Changing learning rate to 0.0005\n",
      "76/75 [==============================] - 100s 1s/step - loss: 0.0322 - mean_iou: 0.7830 - val_loss: 0.0324 - val_mean_iou: 0.7926\n",
      "\n",
      "Epoch 00003: val_loss improved from 0.05333 to 0.03238, saving model to model-tgs-salt-1.h5\n",
      "9/9 [==============================] - 0s 17ms/step\n",
      "Accurate validation score is 0.5444444444444445. Best so far is 0.47777777777777775\n",
      "Saving model-tgs-salt-IV.h5\n",
      "Epoch 4/300\n",
      "Changing learning rate to 0.0005\n",
      "76/75 [==============================] - 100s 1s/step - loss: 0.0267 - mean_iou: 0.8017 - val_loss: 0.0217 - val_mean_iou: 0.8091\n",
      "\n",
      "Epoch 00004: val_loss improved from 0.03238 to 0.02171, saving model to model-tgs-salt-1.h5\n",
      "9/9 [==============================] - 0s 16ms/step\n",
      "Accurate validation score is 0.6222222222222222. Best so far is 0.5444444444444445\n",
      "Saving model-tgs-salt-IV.h5\n",
      "Epoch 5/300\n",
      "Changing learning rate to 0.0005\n",
      "76/75 [==============================] - 100s 1s/step - loss: 0.0261 - mean_iou: 0.8154 - val_loss: 0.0207 - val_mean_iou: 0.8207\n",
      "\n",
      "Epoch 00005: val_loss improved from 0.02171 to 0.02069, saving model to model-tgs-salt-1.h5\n",
      "9/9 [==============================] - 0s 17ms/step\n",
      "Accurate validation score is 0.611111111111111. Best so far is 0.6222222222222222\n",
      "Epoch 6/300\n",
      "Changing learning rate to 0.0005\n",
      "76/75 [==============================] - 100s 1s/step - loss: 0.0230 - mean_iou: 0.8256 - val_loss: 0.0186 - val_mean_iou: 0.8297\n",
      "\n",
      "Epoch 00006: val_loss improved from 0.02069 to 0.01864, saving model to model-tgs-salt-1.h5\n",
      "9/9 [==============================] - 0s 16ms/step\n",
      "Accurate validation score is 0.6777777777777778. Best so far is 0.6222222222222222\n",
      "Saving model-tgs-salt-IV.h5\n",
      "Epoch 7/300\n",
      "Changing learning rate to 0.0005\n",
      "76/75 [==============================] - 100s 1s/step - loss: 0.0228 - mean_iou: 0.8335 - val_loss: 0.0472 - val_mean_iou: 0.8364\n",
      "\n",
      "Epoch 00007: val_loss did not improve from 0.01864\n",
      "9/9 [==============================] - 0s 17ms/step\n",
      "Accurate validation score is 0.5444444444444445. Best so far is 0.6777777777777778\n",
      "Epoch 8/300\n",
      "Changing learning rate to 0.0005\n",
      "76/75 [==============================] - 100s 1s/step - loss: 0.0212 - mean_iou: 0.8395 - val_loss: 0.0517 - val_mean_iou: 0.8426\n",
      "\n",
      "Epoch 00008: val_loss did not improve from 0.01864\n",
      "9/9 [==============================] - 0s 17ms/step\n",
      "Accurate validation score is 0.5555555555555556. Best so far is 0.6777777777777778\n",
      "Epoch 9/300\n",
      "Changing learning rate to 0.0005\n",
      "76/75 [==============================] - 100s 1s/step - loss: 0.0201 - mean_iou: 0.8453 - val_loss: 0.0279 - val_mean_iou: 0.8477\n",
      "\n",
      "Epoch 00009: val_loss did not improve from 0.01864\n",
      "9/9 [==============================] - 0s 16ms/step\n",
      "Accurate validation score is 0.6222222222222222. Best so far is 0.6777777777777778\n",
      "Epoch 10/300\n",
      "Changing learning rate to 0.0005\n",
      "76/75 [==============================] - 101s 1s/step - loss: 0.0187 - mean_iou: 0.8503 - val_loss: 0.0136 - val_mean_iou: 0.8529\n",
      "\n",
      "Epoch 00010: val_loss improved from 0.01864 to 0.01363, saving model to model-tgs-salt-1.h5\n",
      "9/9 [==============================] - 0s 16ms/step\n",
      "Accurate validation score is 0.7111111111111111. Best so far is 0.6777777777777778\n",
      "Saving model-tgs-salt-IV.h5\n",
      "Epoch 11/300\n",
      "Changing learning rate to 0.0005\n",
      "76/75 [==============================] - 100s 1s/step - loss: 0.0178 - mean_iou: 0.8553 - val_loss: 0.0131 - val_mean_iou: 0.8574\n",
      "\n",
      "Epoch 00011: val_loss improved from 0.01363 to 0.01307, saving model to model-tgs-salt-1.h5\n",
      "9/9 [==============================] - 0s 16ms/step\n",
      "Accurate validation score is 0.6444444444444445. Best so far is 0.7111111111111111\n",
      "Epoch 12/300\n",
      "Changing learning rate to 0.0005\n",
      "76/75 [==============================] - 100s 1s/step - loss: 0.0178 - mean_iou: 0.8595 - val_loss: 0.0115 - val_mean_iou: 0.8613\n",
      "\n",
      "Epoch 00012: val_loss improved from 0.01307 to 0.01151, saving model to model-tgs-salt-1.h5\n",
      "9/9 [==============================] - 0s 21ms/step\n",
      "Accurate validation score is 0.7000000000000001. Best so far is 0.7111111111111111\n",
      "Epoch 13/300\n",
      "Changing learning rate to 0.0005\n",
      "76/75 [==============================] - 100s 1s/step - loss: 0.0169 - mean_iou: 0.8632 - val_loss: 0.0108 - val_mean_iou: 0.8649\n",
      "\n",
      "Epoch 00013: val_loss improved from 0.01151 to 0.01082, saving model to model-tgs-salt-1.h5\n",
      "9/9 [==============================] - 0s 22ms/step\n",
      "Accurate validation score is 0.7333333333333333. Best so far is 0.7111111111111111\n",
      "Saving model-tgs-salt-IV.h5\n",
      "Epoch 14/300\n",
      "Changing learning rate to 0.0005\n",
      "76/75 [==============================] - 101s 1s/step - loss: 0.0167 - mean_iou: 0.8666 - val_loss: 0.0177 - val_mean_iou: 0.8680\n",
      "\n",
      "Epoch 00014: val_loss did not improve from 0.01082\n",
      "9/9 [==============================] - 0s 17ms/step\n",
      "Accurate validation score is 0.6333333333333333. Best so far is 0.7333333333333333\n",
      "Epoch 15/300\n",
      "Changing learning rate to 0.0005\n",
      "76/75 [==============================] - 100s 1s/step - loss: 0.0183 - mean_iou: 0.8691 - val_loss: 0.0111 - val_mean_iou: 0.8701\n",
      "\n",
      "Epoch 00015: val_loss did not improve from 0.01082\n",
      "9/9 [==============================] - 0s 17ms/step\n",
      "Accurate validation score is 0.7333333333333333. Best so far is 0.7333333333333333\n",
      "Epoch 16/300\n",
      "Changing learning rate to 0.0005\n",
      "76/75 [==============================] - 100s 1s/step - loss: 0.0160 - mean_iou: 0.8713 - val_loss: 0.0107 - val_mean_iou: 0.8727\n",
      "\n",
      "Epoch 00016: val_loss improved from 0.01082 to 0.01068, saving model to model-tgs-salt-1.h5\n",
      "9/9 [==============================] - 0s 22ms/step\n",
      "Accurate validation score is 0.7555555555555555. Best so far is 0.7333333333333333\n",
      "Saving model-tgs-salt-IV.h5\n",
      "Epoch 17/300\n",
      "Changing learning rate to 0.0005\n",
      "76/75 [==============================] - 100s 1s/step - loss: 0.0184 - mean_iou: 0.8736 - val_loss: 0.0096 - val_mean_iou: 0.8743\n",
      "\n",
      "Epoch 00017: val_loss improved from 0.01068 to 0.00958, saving model to model-tgs-salt-1.h5\n",
      "9/9 [==============================] - 0s 22ms/step\n",
      "Accurate validation score is 0.788888888888889. Best so far is 0.7555555555555555\n",
      "Saving model-tgs-salt-IV.h5\n",
      "Epoch 18/300\n",
      "Changing learning rate to 0.0005\n",
      "76/75 [==============================] - 100s 1s/step - loss: 0.0197 - mean_iou: 0.8750 - val_loss: 0.0120 - val_mean_iou: 0.8754\n",
      "\n",
      "Epoch 00018: val_loss did not improve from 0.00958\n",
      "9/9 [==============================] - 0s 17ms/step\n",
      "Accurate validation score is 0.7333333333333334. Best so far is 0.788888888888889\n",
      "Epoch 19/300\n",
      "Changing learning rate to 0.0005\n",
      "76/75 [==============================] - 100s 1s/step - loss: 0.0160 - mean_iou: 0.8764 - val_loss: 0.0151 - val_mean_iou: 0.8774\n",
      "\n",
      "Epoch 00019: val_loss did not improve from 0.00958\n",
      "9/9 [==============================] - 0s 17ms/step\n",
      "Accurate validation score is 0.7222222222222222. Best so far is 0.788888888888889\n",
      "Epoch 20/300\n",
      "Changing learning rate to 0.0005\n",
      "76/75 [==============================] - 101s 1s/step - loss: 0.0182 - mean_iou: 0.8780 - val_loss: 0.0341 - val_mean_iou: 0.8786\n",
      "\n",
      "Epoch 00020: val_loss did not improve from 0.00958\n",
      "9/9 [==============================] - 0s 17ms/step\n",
      "Accurate validation score is 0.6333333333333334. Best so far is 0.788888888888889\n",
      "Epoch 21/300\n",
      "Changing learning rate to 0.0005\n",
      "76/75 [==============================] - 101s 1s/step - loss: 0.0164 - mean_iou: 0.8794 - val_loss: 0.0115 - val_mean_iou: 0.8801\n",
      "\n",
      "Epoch 00021: val_loss did not improve from 0.00958\n",
      "9/9 [==============================] - 0s 17ms/step\n"
     ]
    },
    {
     "name": "stdout",
     "output_type": "stream",
     "text": [
      "Accurate validation score is 0.7222222222222222. Best so far is 0.788888888888889\n",
      "Epoch 22/300\n",
      "Changing learning rate to 0.0005\n",
      "76/75 [==============================] - 100s 1s/step - loss: 0.0149 - mean_iou: 0.8810 - val_loss: 0.0108 - val_mean_iou: 0.8818\n",
      "\n",
      "Epoch 00022: val_loss did not improve from 0.00958\n",
      "9/9 [==============================] - 0s 17ms/step\n",
      "Accurate validation score is 0.7777777777777778. Best so far is 0.788888888888889\n",
      "Epoch 23/300\n",
      "Changing learning rate to 0.0005\n",
      "76/75 [==============================] - 100s 1s/step - loss: 0.0149 - mean_iou: 0.8825 - val_loss: 0.0184 - val_mean_iou: 0.8833\n",
      "\n",
      "Epoch 00023: val_loss did not improve from 0.00958\n",
      "9/9 [==============================] - 0s 17ms/step\n",
      "Accurate validation score is 0.6666666666666667. Best so far is 0.788888888888889\n",
      "Epoch 24/300\n",
      "Changing learning rate to 0.0005\n",
      "76/75 [==============================] - 100s 1s/step - loss: 0.0137 - mean_iou: 0.8842 - val_loss: 0.0095 - val_mean_iou: 0.8850\n",
      "\n",
      "Epoch 00024: val_loss improved from 0.00958 to 0.00947, saving model to model-tgs-salt-1.h5\n",
      "9/9 [==============================] - 0s 17ms/step\n",
      "Accurate validation score is 0.7111111111111111. Best so far is 0.788888888888889\n",
      "Epoch 25/300\n",
      "Changing learning rate to 0.0005\n",
      "76/75 [==============================] - 100s 1s/step - loss: 0.0146 - mean_iou: 0.8857 - val_loss: 0.0196 - val_mean_iou: 0.8864\n",
      "\n",
      "Epoch 00025: val_loss did not improve from 0.00947\n",
      "9/9 [==============================] - 0s 17ms/step\n",
      "Accurate validation score is 0.711111111111111. Best so far is 0.788888888888889\n",
      "Epoch 26/300\n",
      "Changing learning rate to 0.0005\n",
      "76/75 [==============================] - 100s 1s/step - loss: 0.0165 - mean_iou: 0.8869 - val_loss: 0.0150 - val_mean_iou: 0.8873\n",
      "\n",
      "Epoch 00026: val_loss did not improve from 0.00947\n",
      "9/9 [==============================] - 0s 17ms/step\n",
      "Accurate validation score is 0.6666666666666667. Best so far is 0.788888888888889\n",
      "Epoch 27/300\n",
      "Changing learning rate to 0.0005\n",
      "76/75 [==============================] - 101s 1s/step - loss: 0.0173 - mean_iou: 0.8876 - val_loss: 0.0110 - val_mean_iou: 0.8880\n",
      "\n",
      "Epoch 00027: val_loss did not improve from 0.00947\n",
      "9/9 [==============================] - 0s 17ms/step\n",
      "Accurate validation score is 0.6666666666666667. Best so far is 0.788888888888889\n",
      "Epoch 28/300\n",
      "Changing learning rate to 0.0005\n",
      "76/75 [==============================] - 100s 1s/step - loss: 0.0156 - mean_iou: 0.8886 - val_loss: 0.0124 - val_mean_iou: 0.8890\n",
      "\n",
      "Epoch 00028: val_loss did not improve from 0.00947\n",
      "9/9 [==============================] - 0s 17ms/step\n",
      "Accurate validation score is 0.7111111111111111. Best so far is 0.788888888888889\n",
      "Epoch 29/300\n",
      "Changing learning rate to 0.0005\n",
      "76/75 [==============================] - 101s 1s/step - loss: 0.0137 - mean_iou: 0.8895 - val_loss: 0.0098 - val_mean_iou: 0.8902\n",
      "\n",
      "Epoch 00029: val_loss did not improve from 0.00947\n",
      "9/9 [==============================] - 0s 16ms/step\n",
      "Accurate validation score is 0.7111111111111111. Best so far is 0.788888888888889\n",
      "Epoch 30/300\n",
      "Changing learning rate to 0.0003\n",
      "76/75 [==============================] - 100s 1s/step - loss: 0.0151 - mean_iou: 0.8906 - val_loss: 0.0084 - val_mean_iou: 0.8912\n",
      "\n",
      "Epoch 00030: val_loss improved from 0.00947 to 0.00838, saving model to model-tgs-salt-1.h5\n",
      "9/9 [==============================] - 0s 20ms/step\n",
      "Accurate validation score is 0.7111111111111111. Best so far is 0.788888888888889\n",
      "Epoch 31/300\n",
      "Changing learning rate to 0.0003\n",
      "76/75 [==============================] - 100s 1s/step - loss: 0.0122 - mean_iou: 0.8919 - val_loss: 0.0104 - val_mean_iou: 0.8925\n",
      "\n",
      "Epoch 00031: val_loss did not improve from 0.00838\n",
      "9/9 [==============================] - 0s 16ms/step\n",
      "Accurate validation score is 0.6888888888888889. Best so far is 0.788888888888889\n",
      "Epoch 32/300\n",
      "Changing learning rate to 0.0003\n",
      "76/75 [==============================] - 100s 1s/step - loss: 0.0111 - mean_iou: 0.8932 - val_loss: 0.0099 - val_mean_iou: 0.8939\n",
      "\n",
      "Epoch 00032: val_loss did not improve from 0.00838\n",
      "9/9 [==============================] - 0s 17ms/step\n",
      "Accurate validation score is 0.7111111111111111. Best so far is 0.788888888888889\n",
      "Epoch 33/300\n",
      "Changing learning rate to 0.0003\n",
      "76/75 [==============================] - 100s 1s/step - loss: 0.0108 - mean_iou: 0.8946 - val_loss: 0.0088 - val_mean_iou: 0.8953\n",
      "\n",
      "Epoch 00033: val_loss did not improve from 0.00838\n",
      "9/9 [==============================] - 0s 17ms/step\n",
      "Accurate validation score is 0.7222222222222222. Best so far is 0.788888888888889\n",
      "Epoch 34/300\n",
      "Changing learning rate to 0.0003\n",
      "76/75 [==============================] - 100s 1s/step - loss: 0.0097 - mean_iou: 0.8960 - val_loss: 0.0101 - val_mean_iou: 0.8967\n",
      "\n",
      "Epoch 00034: val_loss did not improve from 0.00838\n",
      "9/9 [==============================] - 0s 16ms/step\n",
      "Accurate validation score is 0.7111111111111111. Best so far is 0.788888888888889\n",
      "Epoch 35/300\n",
      "Changing learning rate to 0.0003\n",
      "76/75 [==============================] - 100s 1s/step - loss: 0.0097 - mean_iou: 0.8974 - val_loss: 0.0087 - val_mean_iou: 0.8981\n",
      "\n",
      "Epoch 00035: val_loss did not improve from 0.00838\n",
      "9/9 [==============================] - 0s 17ms/step\n",
      "Accurate validation score is 0.7444444444444444. Best so far is 0.788888888888889\n",
      "Epoch 36/300\n",
      "Changing learning rate to 0.0003\n",
      "76/75 [==============================] - 100s 1s/step - loss: 0.0098 - mean_iou: 0.8987 - val_loss: 0.0116 - val_mean_iou: 0.8994\n",
      "\n",
      "Epoch 00036: val_loss did not improve from 0.00838\n",
      "9/9 [==============================] - 0s 16ms/step\n",
      "Accurate validation score is 0.7111111111111111. Best so far is 0.788888888888889\n",
      "Epoch 37/300\n",
      "Changing learning rate to 0.0003\n",
      "76/75 [==============================] - 101s 1s/step - loss: 0.0096 - mean_iou: 0.9000 - val_loss: 0.0094 - val_mean_iou: 0.9006\n",
      "\n",
      "Epoch 00037: val_loss did not improve from 0.00838\n",
      "9/9 [==============================] - 0s 17ms/step\n",
      "Accurate validation score is 0.7777777777777778. Best so far is 0.788888888888889\n",
      "Epoch 38/300\n",
      "Changing learning rate to 0.0003\n",
      "76/75 [==============================] - 100s 1s/step - loss: 0.0102 - mean_iou: 0.9012 - val_loss: 0.0090 - val_mean_iou: 0.9017\n",
      "\n",
      "Epoch 00038: val_loss did not improve from 0.00838\n",
      "9/9 [==============================] - 0s 16ms/step\n",
      "Accurate validation score is 0.7444444444444445. Best so far is 0.788888888888889\n",
      "Epoch 39/300\n",
      "Changing learning rate to 0.0003\n",
      "76/75 [==============================] - 100s 1s/step - loss: 0.0106 - mean_iou: 0.9022 - val_loss: 0.0103 - val_mean_iou: 0.9027\n",
      "\n",
      "Epoch 00039: val_loss did not improve from 0.00838\n",
      "9/9 [==============================] - 0s 16ms/step\n",
      "Accurate validation score is 0.7222222222222222. Best so far is 0.788888888888889\n",
      "Epoch 40/300\n",
      "Changing learning rate to 0.0003\n",
      "76/75 [==============================] - 100s 1s/step - loss: 0.0115 - mean_iou: 0.9031 - val_loss: 0.0111 - val_mean_iou: 0.9035\n",
      "\n",
      "Epoch 00040: val_loss did not improve from 0.00838\n",
      "9/9 [==============================] - 0s 17ms/step\n",
      "Accurate validation score is 0.7333333333333334. Best so far is 0.788888888888889\n",
      "Epoch 41/300\n",
      "Changing learning rate to 0.0003\n",
      "76/75 [==============================] - 100s 1s/step - loss: 0.0101 - mean_iou: 0.9040 - val_loss: 0.0110 - val_mean_iou: 0.9045\n",
      "\n",
      "Epoch 00041: val_loss did not improve from 0.00838\n",
      "9/9 [==============================] - 0s 16ms/step\n",
      "Accurate validation score is 0.7444444444444444. Best so far is 0.788888888888889\n",
      "Epoch 42/300\n",
      "Changing learning rate to 0.0003\n",
      "76/75 [==============================] - 100s 1s/step - loss: 0.0111 - mean_iou: 0.9049 - val_loss: 0.0128 - val_mean_iou: 0.9053\n",
      "\n",
      "Epoch 00042: val_loss did not improve from 0.00838\n",
      "9/9 [==============================] - 0s 17ms/step\n",
      "Accurate validation score is 0.7222222222222223. Best so far is 0.788888888888889\n",
      "Epoch 43/300\n",
      "Changing learning rate to 0.0003\n",
      "76/75 [==============================] - 100s 1s/step - loss: 0.0104 - mean_iou: 0.9057 - val_loss: 0.0108 - val_mean_iou: 0.9061\n",
      "\n",
      "Epoch 00043: val_loss did not improve from 0.00838\n",
      "9/9 [==============================] - 0s 17ms/step\n",
      "Accurate validation score is 0.6777777777777778. Best so far is 0.788888888888889\n",
      "Epoch 44/300\n",
      "Changing learning rate to 0.0003\n"
     ]
    },
    {
     "name": "stdout",
     "output_type": "stream",
     "text": [
      "76/75 [==============================] - 100s 1s/step - loss: 0.0093 - mean_iou: 0.9066 - val_loss: 0.0086 - val_mean_iou: 0.9070\n",
      "\n",
      "Epoch 00044: val_loss did not improve from 0.00838\n",
      "9/9 [==============================] - 0s 16ms/step\n",
      "Accurate validation score is 0.7. Best so far is 0.788888888888889\n",
      "Epoch 45/300\n",
      "Changing learning rate to 0.0003\n",
      "76/75 [==============================] - 100s 1s/step - loss: 0.0102 - mean_iou: 0.9074 - val_loss: 0.0086 - val_mean_iou: 0.9078\n",
      "\n",
      "Epoch 00045: val_loss did not improve from 0.00838\n",
      "9/9 [==============================] - 0s 17ms/step\n",
      "Accurate validation score is 0.8111111111111111. Best so far is 0.788888888888889\n",
      "Saving model-tgs-salt-IV.h5\n",
      "Epoch 46/300\n",
      "Changing learning rate to 0.0003\n",
      "76/75 [==============================] - 100s 1s/step - loss: 0.0103 - mean_iou: 0.9082 - val_loss: 0.0099 - val_mean_iou: 0.9085\n",
      "\n",
      "Epoch 00046: val_loss did not improve from 0.00838\n",
      "9/9 [==============================] - 0s 17ms/step\n",
      "Accurate validation score is 0.8. Best so far is 0.8111111111111111\n",
      "Epoch 47/300\n",
      "Changing learning rate to 0.0003\n",
      "76/75 [==============================] - 99s 1s/step - loss: 0.0100 - mean_iou: 0.9089 - val_loss: 0.0134 - val_mean_iou: 0.9093\n",
      "\n",
      "Epoch 00047: val_loss did not improve from 0.00838\n",
      "9/9 [==============================] - 0s 17ms/step\n",
      "Accurate validation score is 0.7111111111111111. Best so far is 0.8111111111111111\n",
      "Epoch 48/300\n",
      "Changing learning rate to 0.0003\n",
      "76/75 [==============================] - 101s 1s/step - loss: 0.0090 - mean_iou: 0.9097 - val_loss: 0.0140 - val_mean_iou: 0.9101\n",
      "\n",
      "Epoch 00048: val_loss did not improve from 0.00838\n",
      "9/9 [==============================] - 0s 16ms/step\n",
      "Accurate validation score is 0.6666666666666666. Best so far is 0.8111111111111111\n",
      "Epoch 49/300\n",
      "Changing learning rate to 0.0003\n",
      "76/75 [==============================] - 100s 1s/step - loss: 0.0091 - mean_iou: 0.9105 - val_loss: 0.0144 - val_mean_iou: 0.9109\n",
      "\n",
      "Epoch 00049: val_loss did not improve from 0.00838\n",
      "9/9 [==============================] - 0s 16ms/step\n",
      "Accurate validation score is 0.6666666666666666. Best so far is 0.8111111111111111\n",
      "Epoch 50/300\n",
      "Changing learning rate to 0.0003\n",
      "76/75 [==============================] - 100s 1s/step - loss: 0.0096 - mean_iou: 0.9112 - val_loss: 0.0173 - val_mean_iou: 0.9116\n",
      "\n",
      "Epoch 00050: val_loss did not improve from 0.00838\n",
      "9/9 [==============================] - 0s 16ms/step\n",
      "Accurate validation score is 0.6444444444444444. Best so far is 0.8111111111111111\n",
      "Epoch 51/300\n",
      "Changing learning rate to 0.0003\n",
      "76/75 [==============================] - 100s 1s/step - loss: 0.0096 - mean_iou: 0.9119 - val_loss: 0.0118 - val_mean_iou: 0.9122\n",
      "\n",
      "Epoch 00051: val_loss did not improve from 0.00838\n",
      "9/9 [==============================] - 0s 17ms/step\n",
      "Accurate validation score is 0.6777777777777778. Best so far is 0.8111111111111111\n",
      "Epoch 52/300\n",
      "Changing learning rate to 0.0003\n",
      "76/75 [==============================] - 100s 1s/step - loss: 0.0090 - mean_iou: 0.9126 - val_loss: 0.0069 - val_mean_iou: 0.9129\n",
      "\n",
      "Epoch 00052: val_loss improved from 0.00838 to 0.00690, saving model to model-tgs-salt-1.h5\n",
      "9/9 [==============================] - 0s 23ms/step\n",
      "Accurate validation score is 0.8555555555555555. Best so far is 0.8111111111111111\n",
      "Saving model-tgs-salt-IV.h5\n",
      "Epoch 53/300\n",
      "Changing learning rate to 0.0003\n",
      "76/75 [==============================] - 100s 1s/step - loss: 0.0084 - mean_iou: 0.9133 - val_loss: 0.0074 - val_mean_iou: 0.9137\n",
      "\n",
      "Epoch 00053: val_loss did not improve from 0.00690\n",
      "9/9 [==============================] - 0s 17ms/step\n",
      "Accurate validation score is 0.8111111111111111. Best so far is 0.8555555555555555\n",
      "Epoch 54/300\n",
      "Changing learning rate to 0.0003\n",
      "76/75 [==============================] - 100s 1s/step - loss: 0.0079 - mean_iou: 0.9140 - val_loss: 0.0070 - val_mean_iou: 0.9144\n",
      "\n",
      "Epoch 00054: val_loss did not improve from 0.00690\n",
      "9/9 [==============================] - 0s 17ms/step\n",
      "Accurate validation score is 0.7888888888888889. Best so far is 0.8555555555555555\n",
      "Epoch 55/300\n",
      "Changing learning rate to 0.0003\n",
      "76/75 [==============================] - 101s 1s/step - loss: 0.0075 - mean_iou: 0.9148 - val_loss: 0.0089 - val_mean_iou: 0.9152\n",
      "\n",
      "Epoch 00055: val_loss did not improve from 0.00690\n",
      "9/9 [==============================] - 0s 17ms/step\n",
      "Accurate validation score is 0.7888888888888889. Best so far is 0.8555555555555555\n",
      "Epoch 56/300\n",
      "Changing learning rate to 0.0003\n",
      "76/75 [==============================] - 101s 1s/step - loss: 0.0071 - mean_iou: 0.9155 - val_loss: 0.0075 - val_mean_iou: 0.9159\n",
      "\n",
      "Epoch 00056: val_loss did not improve from 0.00690\n",
      "9/9 [==============================] - 0s 17ms/step\n",
      "Accurate validation score is 0.8111111111111111. Best so far is 0.8555555555555555\n",
      "Epoch 57/300\n",
      "Changing learning rate to 0.0003\n",
      "76/75 [==============================] - 101s 1s/step - loss: 0.0072 - mean_iou: 0.9163 - val_loss: 0.0078 - val_mean_iou: 0.9167\n",
      "\n",
      "Epoch 00057: val_loss did not improve from 0.00690\n",
      "9/9 [==============================] - 0s 16ms/step\n",
      "Accurate validation score is 0.7888888888888889. Best so far is 0.8555555555555555\n",
      "Epoch 58/300\n",
      "Changing learning rate to 0.0003\n",
      "76/75 [==============================] - 101s 1s/step - loss: 0.0068 - mean_iou: 0.9170 - val_loss: 0.0072 - val_mean_iou: 0.9174\n",
      "\n",
      "Epoch 00058: val_loss did not improve from 0.00690\n",
      "9/9 [==============================] - 0s 17ms/step\n",
      "Accurate validation score is 0.8111111111111111. Best so far is 0.8555555555555555\n",
      "Epoch 59/300\n",
      "Changing learning rate to 0.0003\n",
      "76/75 [==============================] - 100s 1s/step - loss: 0.0072 - mean_iou: 0.9177 - val_loss: 0.0087 - val_mean_iou: 0.9181\n",
      "\n",
      "Epoch 00059: val_loss did not improve from 0.00690\n",
      "9/9 [==============================] - 0s 17ms/step\n",
      "Accurate validation score is 0.8. Best so far is 0.8555555555555555\n",
      "Epoch 60/300\n",
      "Changing learning rate to 0.00017999999999999998\n",
      "76/75 [==============================] - 100s 1s/step - loss: 0.0079 - mean_iou: 0.9183 - val_loss: 0.0078 - val_mean_iou: 0.9187\n",
      "\n",
      "Epoch 00060: val_loss did not improve from 0.00690\n",
      "9/9 [==============================] - 0s 17ms/step\n",
      "Accurate validation score is 0.7555555555555555. Best so far is 0.8555555555555555\n",
      "Epoch 61/300\n",
      "Changing learning rate to 0.00017999999999999998\n",
      "19/75 [======>.......................] - ETA: 1:14 - loss: 0.0071 - mean_iou: 0.9187"
     ]
    },
    {
     "ename": "KeyboardInterrupt",
     "evalue": "",
     "output_type": "error",
     "traceback": [
      "\u001b[0;31m---------------------------------------------------------------------------\u001b[0m",
      "\u001b[0;31mKeyboardInterrupt\u001b[0m                         Traceback (most recent call last)",
      "\u001b[0;32m<ipython-input-49-c364f2588323>\u001b[0m in \u001b[0;36m<module>\u001b[0;34m()\u001b[0m\n\u001b[1;32m      7\u001b[0m results = model.fit_generator(train_generator, epochs=300, steps_per_epoch=len(X_train0) / 32, \n\u001b[1;32m      8\u001b[0m                               \u001b[0mvalidation_data\u001b[0m\u001b[0;34m=\u001b[0m\u001b[0;34m(\u001b[0m \u001b[0;34m[\u001b[0m\u001b[0mX_val\u001b[0m\u001b[0;34m,\u001b[0m \u001b[0md_val\u001b[0m\u001b[0;34m]\u001b[0m\u001b[0;34m,\u001b[0m \u001b[0mY_val\u001b[0m\u001b[0;34m)\u001b[0m\u001b[0;34m,\u001b[0m\u001b[0;34m\u001b[0m\u001b[0m\n\u001b[0;32m----> 9\u001b[0;31m                               callbacks=[earlystopper, checkpointer, lrate, internalEval])\n\u001b[0m",
      "\u001b[0;32m/anaconda/envs/py35/lib/python3.5/site-packages/keras/legacy/interfaces.py\u001b[0m in \u001b[0;36mwrapper\u001b[0;34m(*args, **kwargs)\u001b[0m\n\u001b[1;32m     89\u001b[0m                 warnings.warn('Update your `' + object_name +\n\u001b[1;32m     90\u001b[0m                               '` call to the Keras 2 API: ' + signature, stacklevel=2)\n\u001b[0;32m---> 91\u001b[0;31m             \u001b[0;32mreturn\u001b[0m \u001b[0mfunc\u001b[0m\u001b[0;34m(\u001b[0m\u001b[0;34m*\u001b[0m\u001b[0margs\u001b[0m\u001b[0;34m,\u001b[0m \u001b[0;34m**\u001b[0m\u001b[0mkwargs\u001b[0m\u001b[0;34m)\u001b[0m\u001b[0;34m\u001b[0m\u001b[0m\n\u001b[0m\u001b[1;32m     92\u001b[0m         \u001b[0mwrapper\u001b[0m\u001b[0;34m.\u001b[0m\u001b[0m_original_function\u001b[0m \u001b[0;34m=\u001b[0m \u001b[0mfunc\u001b[0m\u001b[0;34m\u001b[0m\u001b[0m\n\u001b[1;32m     93\u001b[0m         \u001b[0;32mreturn\u001b[0m \u001b[0mwrapper\u001b[0m\u001b[0;34m\u001b[0m\u001b[0m\n",
      "\u001b[0;32m/anaconda/envs/py35/lib/python3.5/site-packages/keras/engine/training.py\u001b[0m in \u001b[0;36mfit_generator\u001b[0;34m(self, generator, steps_per_epoch, epochs, verbose, callbacks, validation_data, validation_steps, class_weight, max_queue_size, workers, use_multiprocessing, shuffle, initial_epoch)\u001b[0m\n\u001b[1;32m   1424\u001b[0m             \u001b[0muse_multiprocessing\u001b[0m\u001b[0;34m=\u001b[0m\u001b[0muse_multiprocessing\u001b[0m\u001b[0;34m,\u001b[0m\u001b[0;34m\u001b[0m\u001b[0m\n\u001b[1;32m   1425\u001b[0m             \u001b[0mshuffle\u001b[0m\u001b[0;34m=\u001b[0m\u001b[0mshuffle\u001b[0m\u001b[0;34m,\u001b[0m\u001b[0;34m\u001b[0m\u001b[0m\n\u001b[0;32m-> 1426\u001b[0;31m             initial_epoch=initial_epoch)\n\u001b[0m\u001b[1;32m   1427\u001b[0m \u001b[0;34m\u001b[0m\u001b[0m\n\u001b[1;32m   1428\u001b[0m     \u001b[0;34m@\u001b[0m\u001b[0minterfaces\u001b[0m\u001b[0;34m.\u001b[0m\u001b[0mlegacy_generator_methods_support\u001b[0m\u001b[0;34m\u001b[0m\u001b[0m\n",
      "\u001b[0;32m/anaconda/envs/py35/lib/python3.5/site-packages/keras/engine/training_generator.py\u001b[0m in \u001b[0;36mfit_generator\u001b[0;34m(model, generator, steps_per_epoch, epochs, verbose, callbacks, validation_data, validation_steps, class_weight, max_queue_size, workers, use_multiprocessing, shuffle, initial_epoch)\u001b[0m\n\u001b[1;32m    189\u001b[0m                 outs = model.train_on_batch(x, y,\n\u001b[1;32m    190\u001b[0m                                             \u001b[0msample_weight\u001b[0m\u001b[0;34m=\u001b[0m\u001b[0msample_weight\u001b[0m\u001b[0;34m,\u001b[0m\u001b[0;34m\u001b[0m\u001b[0m\n\u001b[0;32m--> 191\u001b[0;31m                                             class_weight=class_weight)\n\u001b[0m\u001b[1;32m    192\u001b[0m \u001b[0;34m\u001b[0m\u001b[0m\n\u001b[1;32m    193\u001b[0m                 \u001b[0;32mif\u001b[0m \u001b[0;32mnot\u001b[0m \u001b[0misinstance\u001b[0m\u001b[0;34m(\u001b[0m\u001b[0mouts\u001b[0m\u001b[0;34m,\u001b[0m \u001b[0mlist\u001b[0m\u001b[0;34m)\u001b[0m\u001b[0;34m:\u001b[0m\u001b[0;34m\u001b[0m\u001b[0m\n",
      "\u001b[0;32m/anaconda/envs/py35/lib/python3.5/site-packages/keras/engine/training.py\u001b[0m in \u001b[0;36mtrain_on_batch\u001b[0;34m(self, x, y, sample_weight, class_weight)\u001b[0m\n\u001b[1;32m   1218\u001b[0m             \u001b[0mins\u001b[0m \u001b[0;34m=\u001b[0m \u001b[0mx\u001b[0m \u001b[0;34m+\u001b[0m \u001b[0my\u001b[0m \u001b[0;34m+\u001b[0m \u001b[0msample_weights\u001b[0m\u001b[0;34m\u001b[0m\u001b[0m\n\u001b[1;32m   1219\u001b[0m         \u001b[0mself\u001b[0m\u001b[0;34m.\u001b[0m\u001b[0m_make_train_function\u001b[0m\u001b[0;34m(\u001b[0m\u001b[0;34m)\u001b[0m\u001b[0;34m\u001b[0m\u001b[0m\n\u001b[0;32m-> 1220\u001b[0;31m         \u001b[0moutputs\u001b[0m \u001b[0;34m=\u001b[0m \u001b[0mself\u001b[0m\u001b[0;34m.\u001b[0m\u001b[0mtrain_function\u001b[0m\u001b[0;34m(\u001b[0m\u001b[0mins\u001b[0m\u001b[0;34m)\u001b[0m\u001b[0;34m\u001b[0m\u001b[0m\n\u001b[0m\u001b[1;32m   1221\u001b[0m         \u001b[0;32mif\u001b[0m \u001b[0mlen\u001b[0m\u001b[0;34m(\u001b[0m\u001b[0moutputs\u001b[0m\u001b[0;34m)\u001b[0m \u001b[0;34m==\u001b[0m \u001b[0;36m1\u001b[0m\u001b[0;34m:\u001b[0m\u001b[0;34m\u001b[0m\u001b[0m\n\u001b[1;32m   1222\u001b[0m             \u001b[0;32mreturn\u001b[0m \u001b[0moutputs\u001b[0m\u001b[0;34m[\u001b[0m\u001b[0;36m0\u001b[0m\u001b[0;34m]\u001b[0m\u001b[0;34m\u001b[0m\u001b[0m\n",
      "\u001b[0;32m/anaconda/envs/py35/lib/python3.5/site-packages/keras/backend/tensorflow_backend.py\u001b[0m in \u001b[0;36m__call__\u001b[0;34m(self, inputs)\u001b[0m\n\u001b[1;32m   2659\u001b[0m                 \u001b[0;32mreturn\u001b[0m \u001b[0mself\u001b[0m\u001b[0;34m.\u001b[0m\u001b[0m_legacy_call\u001b[0m\u001b[0;34m(\u001b[0m\u001b[0minputs\u001b[0m\u001b[0;34m)\u001b[0m\u001b[0;34m\u001b[0m\u001b[0m\n\u001b[1;32m   2660\u001b[0m \u001b[0;34m\u001b[0m\u001b[0m\n\u001b[0;32m-> 2661\u001b[0;31m             \u001b[0;32mreturn\u001b[0m \u001b[0mself\u001b[0m\u001b[0;34m.\u001b[0m\u001b[0m_call\u001b[0m\u001b[0;34m(\u001b[0m\u001b[0minputs\u001b[0m\u001b[0;34m)\u001b[0m\u001b[0;34m\u001b[0m\u001b[0m\n\u001b[0m\u001b[1;32m   2662\u001b[0m         \u001b[0;32melse\u001b[0m\u001b[0;34m:\u001b[0m\u001b[0;34m\u001b[0m\u001b[0m\n\u001b[1;32m   2663\u001b[0m             \u001b[0;32mif\u001b[0m \u001b[0mpy_any\u001b[0m\u001b[0;34m(\u001b[0m\u001b[0mis_tensor\u001b[0m\u001b[0;34m(\u001b[0m\u001b[0mx\u001b[0m\u001b[0;34m)\u001b[0m \u001b[0;32mfor\u001b[0m \u001b[0mx\u001b[0m \u001b[0;32min\u001b[0m \u001b[0minputs\u001b[0m\u001b[0;34m)\u001b[0m\u001b[0;34m:\u001b[0m\u001b[0;34m\u001b[0m\u001b[0m\n",
      "\u001b[0;32m/anaconda/envs/py35/lib/python3.5/site-packages/keras/backend/tensorflow_backend.py\u001b[0m in \u001b[0;36m_call\u001b[0;34m(self, inputs)\u001b[0m\n\u001b[1;32m   2629\u001b[0m                                 \u001b[0msymbol_vals\u001b[0m\u001b[0;34m,\u001b[0m\u001b[0;34m\u001b[0m\u001b[0m\n\u001b[1;32m   2630\u001b[0m                                 session)\n\u001b[0;32m-> 2631\u001b[0;31m         \u001b[0mfetched\u001b[0m \u001b[0;34m=\u001b[0m \u001b[0mself\u001b[0m\u001b[0;34m.\u001b[0m\u001b[0m_callable_fn\u001b[0m\u001b[0;34m(\u001b[0m\u001b[0;34m*\u001b[0m\u001b[0marray_vals\u001b[0m\u001b[0;34m)\u001b[0m\u001b[0;34m\u001b[0m\u001b[0m\n\u001b[0m\u001b[1;32m   2632\u001b[0m         \u001b[0;32mreturn\u001b[0m \u001b[0mfetched\u001b[0m\u001b[0;34m[\u001b[0m\u001b[0;34m:\u001b[0m\u001b[0mlen\u001b[0m\u001b[0;34m(\u001b[0m\u001b[0mself\u001b[0m\u001b[0;34m.\u001b[0m\u001b[0moutputs\u001b[0m\u001b[0;34m)\u001b[0m\u001b[0;34m]\u001b[0m\u001b[0;34m\u001b[0m\u001b[0m\n\u001b[1;32m   2633\u001b[0m \u001b[0;34m\u001b[0m\u001b[0m\n",
      "\u001b[0;32m/anaconda/envs/py35/lib/python3.5/site-packages/tensorflow/python/client/session.py\u001b[0m in \u001b[0;36m__call__\u001b[0;34m(self, *args)\u001b[0m\n\u001b[1;32m   1449\u001b[0m         \u001b[0;32mif\u001b[0m \u001b[0mself\u001b[0m\u001b[0;34m.\u001b[0m\u001b[0m_session\u001b[0m\u001b[0;34m.\u001b[0m\u001b[0m_created_with_new_api\u001b[0m\u001b[0;34m:\u001b[0m\u001b[0;34m\u001b[0m\u001b[0m\n\u001b[1;32m   1450\u001b[0m           return tf_session.TF_SessionRunCallable(\n\u001b[0;32m-> 1451\u001b[0;31m               self._session._session, self._handle, args, status, None)\n\u001b[0m\u001b[1;32m   1452\u001b[0m         \u001b[0;32melse\u001b[0m\u001b[0;34m:\u001b[0m\u001b[0;34m\u001b[0m\u001b[0m\n\u001b[1;32m   1453\u001b[0m           return tf_session.TF_DeprecatedSessionRunCallable(\n",
      "\u001b[0;31mKeyboardInterrupt\u001b[0m: "
     ]
    }
   ],
   "source": [
    "earlystopper = EarlyStopping(patience=175, verbose=1)\n",
    "checkpointer = ModelCheckpoint('model-tgs-salt-1.h5', verbose=1, save_best_only=True)\n",
    "internalEval = ModelUNet.IntervalEvaluation( validation_data=( [X_val, d_val], Y_val), interval = 1 )\n",
    "#results = model.fit([X_train0, d_train0], Y_train0, validation_split=0.08, batch_size=16, epochs=100, \n",
    "#                    callbacks=[earlystopper, checkpointer, lrate])\n",
    "\n",
    "results = model.fit_generator(train_generator, epochs=300, steps_per_epoch=len(X_train0) / 32, \n",
    "                              validation_data=( [X_val, d_val], Y_val),\n",
    "                              callbacks=[earlystopper, checkpointer, lrate, internalEval])\n"
   ]
  },
  {
   "cell_type": "code",
   "execution_count": 50,
   "metadata": {},
   "outputs": [
    {
     "data": {
      "text/plain": [
       "[<matplotlib.lines.Line2D at 0x7f4f391c3940>]"
      ]
     },
     "execution_count": 50,
     "metadata": {},
     "output_type": "execute_result"
    },
    {
     "data": {
      "image/png": "[encoded data removed]",
      "text/plain": [
       "<Figure size 432x288 with 1 Axes>"
      ]
     },
     "metadata": {},
     "output_type": "display_data"
    }
   ],
   "source": [
    "plt.plot(internalEval.score_list[4:])"
   ]
  },
  {
   "cell_type": "code",
   "execution_count": 101,
   "metadata": {
    "colab": {
     "base_uri": "https://localhost:8080/",
     "height": 34
    },
    "colab_type": "code",
    "id": "Ll6kIRmGJ2v2",
    "outputId": "8fb91aa3-0315-480f-acb2-543fcc4193fe"
   },
   "outputs": [
    {
     "name": "stdout",
     "output_type": "stream",
     "text": [
      "dict_keys(['val_loss', 'loss', 'val_mean_iou', 'mean_iou'])\n"
     ]
    }
   ],
   "source": [
    "# list all data in history\n",
    "print(results.history.keys())"
   ]
  },
  {
   "cell_type": "code",
   "execution_count": 102,
   "metadata": {
    "colab": {
     "base_uri": "https://localhost:8080/",
     "height": 571
    },
    "colab_type": "code",
    "id": "RWk2IN87A49p",
    "outputId": "5b07b05f-5e05-4b39-a4e3-2dd258fc137d"
   },
   "outputs": [
    {
     "data": {
      "image/png": "[encoded data removed]",
      "text/plain": [
       "<Figure size 432x288 with 1 Axes>"
      ]
     },
     "metadata": {},
     "output_type": "display_data"
    },
    {
     "data": {
      "image/png": "[encoded data removed]",
      "text/plain": [
       "<Figure size 432x288 with 1 Axes>"
      ]
     },
     "metadata": {},
     "output_type": "display_data"
    }
   ],
   "source": [
    "# summarize history for intersestion over union\n",
    "plt.plot(results.history['mean_iou'])\n",
    "plt.plot(results.history['val_mean_iou'])\n",
    "plt.title('model IoU')\n",
    "plt.ylabel('accuracy')\n",
    "plt.xlabel('epoch')\n",
    "plt.legend(['train', 'test'], loc='upper left')\n",
    "plt.show()\n",
    "# summarize history for loss\n",
    "plt.plot(results.history['loss'])\n",
    "plt.plot(results.history['val_loss'])\n",
    "plt.title('model loss')\n",
    "plt.ylabel('loss')\n",
    "plt.xlabel('epoch')\n",
    "plt.legend(['train', 'test'], loc='upper left')\n",
    "plt.show()"
   ]
  },
  {
   "cell_type": "code",
   "execution_count": 109,
   "metadata": {
    "colab": {},
    "colab_type": "code",
    "id": "XW_rfkR1dWKs"
   },
   "outputs": [],
   "source": [
    "model = load_model('model-tgs-salt-IV.h5', custom_objects={'mean_iou': ModelUNet.mean_iou, 'dice_loss' : ModelUNet.dice_loss, \n",
    "                                                           '_expand': ModelUNet._expand, 'relu6': DeepLabv3Plus.relu6, 'BilinearUpsampling': DeepLabv3Plus.BilinearUpsampling }) #, 'ReflectionPadding2D' : ReflectionPadding2D})\n",
    "#model.save('model-tgs-salt-1.h5')"
   ]
  },
  {
   "cell_type": "code",
   "execution_count": 52,
   "metadata": {
    "colab": {},
    "colab_type": "code",
    "id": "qNr4jF7z4gZd"
   },
   "outputs": [],
   "source": [
    "#from google.colab import files\n",
    "#files.download('model-tgs-salt-1.h5')\n",
    "#files.upload()"
   ]
  },
  {
   "cell_type": "code",
   "execution_count": 53,
   "metadata": {},
   "outputs": [],
   "source": [
    "#for i in tqdm(range(len(X_train0))):\n",
    "#    X_train0[i] = image_datagen.standardize(X_train0[i].astype(float))\n",
    "    \n",
    "#for i in tqdm(range(len(X_val))):\n",
    "#    X_val[i] = image_datagen.standardize(X_val[i].astype(float))"
   ]
  },
  {
   "cell_type": "code",
   "execution_count": 51,
   "metadata": {
    "colab": {
     "base_uri": "https://localhost:8080/",
     "height": 51
    },
    "colab_type": "code",
    "id": "8XSdRAqCdYfF",
    "outputId": "e6c5ecde-a26f-4e6c-a61f-f197d85310de"
   },
   "outputs": [
    {
     "name": "stdout",
     "output_type": "stream",
     "text": [
      "2429/2429 [==============================] - 34s 14ms/step\n",
      "9/9 [==============================] - 0s 16ms/step\n"
     ]
    }
   ],
   "source": [
    "preds_train = model.predict([X_train0, d_train0], verbose=1)\n",
    "preds_val = model.predict([X_val,d_val], verbose=1)"
   ]
  },
  {
   "cell_type": "markdown",
   "metadata": {},
   "source": [
    "## Watershed"
   ]
  },
  {
   "cell_type": "code",
   "execution_count": 54,
   "metadata": {},
   "outputs": [],
   "source": [
    "# Perform a sanity check on some random training samples\n",
    "from skimage.morphology import watershed\n",
    "\n",
    "ix = np.random.randint(0, len(preds_val))\n",
    "ix=7"
   ]
  },
  {
   "cell_type": "code",
   "execution_count": 55,
   "metadata": {},
   "outputs": [
    {
     "data": {
      "image/png": "[encoded data removed]",
      "text/plain": [
       "<Figure size 432x288 with 1 Axes>"
      ]
     },
     "metadata": {},
     "output_type": "display_data"
    },
    {
     "data": {
      "image/png": "[encoded data removed]",
      "text/plain": [
       "<Figure size 432x288 with 1 Axes>"
      ]
     },
     "metadata": {},
     "output_type": "display_data"
    },
    {
     "data": {
      "image/png": "[encoded data removed]",
      "text/plain": [
       "<Figure size 432x288 with 1 Axes>"
      ]
     },
     "metadata": {},
     "output_type": "display_data"
    },
    {
     "data": {
      "image/png": "[encoded data removed]",
      "text/plain": [
       "<Figure size 432x288 with 1 Axes>"
      ]
     },
     "metadata": {},
     "output_type": "display_data"
    }
   ],
   "source": [
    "plt.imshow(X_val[ix,:,:,0])\n",
    "plt.show()\n",
    "\n",
    "plt.imshow(Y_val[ix,:,:,0])\n",
    "#tmp = np.squeeze(Y_train[ix]).astype(np.float32)\n",
    "#plt.imshow(np.dstack((tmp,tmp,tmp)))\n",
    "plt.show()\n",
    "\n",
    "#show raw predictions\n",
    "plt.imshow(preds_val[ix,:,:,0])\n",
    "plt.show()\n",
    "\n",
    "#show raw predictions\n",
    "plt.imshow(preds_val[ix,:,:,0] > 0.15)\n",
    "plt.show()"
   ]
  },
  {
   "cell_type": "code",
   "execution_count": 56,
   "metadata": {},
   "outputs": [
    {
     "data": {
      "image/png": "[encoded data removed]",
      "text/plain": [
       "<Figure size 432x288 with 1 Axes>"
      ]
     },
     "metadata": {},
     "output_type": "display_data"
    }
   ],
   "source": [
    "markers = np.zeros_like(preds_val[ix,:,:,0])\n",
    "markers[preds_val[ix,:,:,0] < 0.1] = 2\n",
    "markers[preds_val[ix,:,:,0] > 0.4] = 1\n",
    "plt.imshow(markers)\n",
    "plt.show()"
   ]
  },
  {
   "cell_type": "code",
   "execution_count": 57,
   "metadata": {},
   "outputs": [
    {
     "data": {
      "text/plain": [
       "<matplotlib.image.AxesImage at 0x7f4f3324beb8>"
      ]
     },
     "execution_count": 57,
     "metadata": {},
     "output_type": "execute_result"
    },
    {
     "data": {
      "image/png": "[encoded data removed]",
      "text/plain": [
       "<Figure size 432x288 with 1 Axes>"
      ]
     },
     "metadata": {},
     "output_type": "display_data"
    }
   ],
   "source": [
    "segmentation = watershed(preds_val[ix,:,:,0], markers)\n",
    "segmentation[segmentation == 2] = 0\n",
    "plt.imshow(segmentation)"
   ]
  },
  {
   "cell_type": "code",
   "execution_count": 58,
   "metadata": {},
   "outputs": [
    {
     "data": {
      "text/plain": [
       "array([[0, 0, 0, ..., 0, 0, 0],\n",
       "       [0, 0, 0, ..., 0, 0, 0],\n",
       "       [0, 0, 0, ..., 0, 0, 0],\n",
       "       ...,\n",
       "       [1, 1, 1, ..., 1, 1, 1],\n",
       "       [1, 1, 1, ..., 1, 1, 1],\n",
       "       [1, 1, 1, ..., 1, 1, 1]], dtype=int32)"
      ]
     },
     "execution_count": 58,
     "metadata": {},
     "output_type": "execute_result"
    }
   ],
   "source": [
    "segmentation"
   ]
  },
  {
   "cell_type": "code",
   "execution_count": null,
   "metadata": {},
   "outputs": [],
   "source": []
  },
  {
   "cell_type": "code",
   "execution_count": 59,
   "metadata": {
    "scrolled": true
   },
   "outputs": [
    {
     "name": "stderr",
     "output_type": "stream",
     "text": [
      "  0%|          | 0/65 [00:00<?, ?it/s]\n",
      "  0%|          | 0/9 [00:00<?, ?it/s]\u001b[A\n",
      "100%|██████████| 9/9 [00:00<00:00, 360.06it/s]\u001b[A\n",
      "  0%|          | 0/9 [00:00<?, ?it/s]\u001b[A\n",
      "100%|██████████| 9/9 [00:00<00:00, 332.00it/s]\u001b[A\n",
      "  0%|          | 0/9 [00:00<?, ?it/s]\u001b[A\n",
      "  5%|▍         | 3/65 [00:00<00:02, 21.19it/s]\u001b[A\n",
      "  0%|          | 0/9 [00:00<?, ?it/s]\u001b[A\n",
      "100%|██████████| 9/9 [00:00<00:00, 376.65it/s]\u001b[A\n",
      "  0%|          | 0/9 [00:00<?, ?it/s]\u001b[A\n",
      "100%|██████████| 9/9 [00:00<00:00, 403.99it/s]\u001b[A\n",
      "  0%|          | 0/9 [00:00<?, ?it/s]\u001b[A\n",
      "  9%|▉         | 6/65 [00:00<00:02, 22.67it/s]\u001b[A\n",
      "  0%|          | 0/9 [00:00<?, ?it/s]\u001b[A\n",
      "100%|██████████| 9/9 [00:00<00:00, 409.27it/s]\u001b[A\n",
      "  0%|          | 0/9 [00:00<?, ?it/s]\u001b[A\n",
      "100%|██████████| 9/9 [00:00<00:00, 403.15it/s]\u001b[A\n",
      "  0%|          | 0/9 [00:00<?, ?it/s]\u001b[A\n",
      " 14%|█▍        | 9/65 [00:00<00:02, 23.32it/s]\u001b[A\n",
      "  0%|          | 0/9 [00:00<?, ?it/s]\u001b[A\n",
      "100%|██████████| 9/9 [00:00<00:00, 409.52it/s]\u001b[A\n",
      "  0%|          | 0/9 [00:00<?, ?it/s]\u001b[A\n",
      "100%|██████████| 9/9 [00:00<00:00, 418.48it/s]\u001b[A\n",
      "  0%|          | 0/9 [00:00<?, ?it/s]\u001b[A\n",
      " 18%|█▊        | 12/65 [00:00<00:02, 23.73it/s][A\n",
      "  0%|          | 0/9 [00:00<?, ?it/s]\u001b[A\n",
      "100%|██████████| 9/9 [00:00<00:00, 388.41it/s]\u001b[A\n",
      "  0%|          | 0/9 [00:00<?, ?it/s]\u001b[A\n",
      "100%|██████████| 9/9 [00:00<00:00, 422.09it/s]\u001b[A\n",
      "  0%|          | 0/9 [00:00<?, ?it/s]\u001b[A\n",
      " 23%|██▎       | 15/65 [00:00<00:02, 23.87it/s][A\n",
      "  0%|          | 0/9 [00:00<?, ?it/s]\u001b[A\n",
      "100%|██████████| 9/9 [00:00<00:00, 421.27it/s]\u001b[A\n",
      "  0%|          | 0/9 [00:00<?, ?it/s]\u001b[A\n",
      "100%|██████████| 9/9 [00:00<00:00, 396.68it/s]\u001b[A\n",
      "  0%|          | 0/9 [00:00<?, ?it/s]\u001b[A\n",
      " 28%|██▊       | 18/65 [00:00<00:01, 23.98it/s][A\n",
      "  0%|          | 0/9 [00:00<?, ?it/s]\u001b[A\n",
      "100%|██████████| 9/9 [00:00<00:00, 403.26it/s]\u001b[A\n",
      "  0%|          | 0/9 [00:00<?, ?it/s]\u001b[A\n",
      "100%|██████████| 9/9 [00:00<00:00, 402.59it/s]\u001b[A\n",
      "  0%|          | 0/9 [00:00<?, ?it/s]\u001b[A\n",
      " 32%|███▏      | 21/65 [00:00<00:01, 24.03it/s][A\n",
      "  0%|          | 0/9 [00:00<?, ?it/s]\u001b[A\n",
      "100%|██████████| 9/9 [00:00<00:00, 404.91it/s]\u001b[A\n",
      "  0%|          | 0/9 [00:00<?, ?it/s]\u001b[A\n",
      "100%|██████████| 9/9 [00:00<00:00, 403.60it/s]\u001b[A\n",
      "  0%|          | 0/9 [00:00<?, ?it/s]\u001b[A\n",
      " 37%|███▋      | 24/65 [00:00<00:01, 24.11it/s][A\n",
      "  0%|          | 0/9 [00:00<?, ?it/s]\u001b[A\n",
      "100%|██████████| 9/9 [00:00<00:00, 415.42it/s]\u001b[A\n",
      "  0%|          | 0/9 [00:00<?, ?it/s]\u001b[A\n",
      "100%|██████████| 9/9 [00:00<00:00, 410.36it/s]\u001b[A\n",
      "  0%|          | 0/9 [00:00<?, ?it/s]\u001b[A\n",
      " 42%|████▏     | 27/65 [00:01<00:01, 24.23it/s][A\n",
      "  0%|          | 0/9 [00:00<?, ?it/s]\u001b[A\n",
      "100%|██████████| 9/9 [00:00<00:00, 402.71it/s]\u001b[A\n",
      "  0%|          | 0/9 [00:00<?, ?it/s]\u001b[A\n",
      "100%|██████████| 9/9 [00:00<00:00, 401.42it/s]\u001b[A\n",
      "  0%|          | 0/9 [00:00<?, ?it/s]\u001b[A\n",
      " 46%|████▌     | 30/65 [00:01<00:01, 24.30it/s][A\n",
      "  0%|          | 0/9 [00:00<?, ?it/s]\u001b[A\n",
      "100%|██████████| 9/9 [00:00<00:00, 384.74it/s]\u001b[A\n",
      "  0%|          | 0/9 [00:00<?, ?it/s]\u001b[A\n",
      "100%|██████████| 9/9 [00:00<00:00, 405.53it/s]\u001b[A\n",
      "  0%|          | 0/9 [00:00<?, ?it/s]\u001b[A\n",
      " 51%|█████     | 33/65 [00:01<00:01, 24.29it/s][A\n",
      "  0%|          | 0/9 [00:00<?, ?it/s]\u001b[A\n",
      "100%|██████████| 9/9 [00:00<00:00, 399.45it/s]\u001b[A\n",
      "  0%|          | 0/9 [00:00<?, ?it/s]\u001b[A\n",
      "100%|██████████| 9/9 [00:00<00:00, 410.52it/s]\u001b[A\n",
      "  0%|          | 0/9 [00:00<?, ?it/s]\u001b[A\n",
      " 55%|█████▌    | 36/65 [00:01<00:01, 24.34it/s][A\n",
      "  0%|          | 0/9 [00:00<?, ?it/s]\u001b[A\n",
      "100%|██████████| 9/9 [00:00<00:00, 412.55it/s]\u001b[A\n",
      "  0%|          | 0/9 [00:00<?, ?it/s]\u001b[A\n",
      "100%|██████████| 9/9 [00:00<00:00, 405.06it/s]\u001b[A\n",
      "  0%|          | 0/9 [00:00<?, ?it/s]\u001b[A\n",
      " 60%|██████    | 39/65 [00:01<00:01, 24.39it/s][A\n",
      "  0%|          | 0/9 [00:00<?, ?it/s]\u001b[A\n",
      "100%|██████████| 9/9 [00:00<00:00, 411.59it/s]\u001b[A\n",
      "  0%|          | 0/9 [00:00<?, ?it/s]\u001b[A\n",
      "100%|██████████| 9/9 [00:00<00:00, 417.87it/s]\u001b[A\n",
      "  0%|          | 0/9 [00:00<?, ?it/s]\u001b[A\n",
      " 65%|██████▍   | 42/65 [00:01<00:00, 24.45it/s][A\n",
      "  0%|          | 0/9 [00:00<?, ?it/s]\u001b[A\n",
      "100%|██████████| 9/9 [00:00<00:00, 425.91it/s]\u001b[A\n",
      "  0%|          | 0/9 [00:00<?, ?it/s]\u001b[A\n",
      "100%|██████████| 9/9 [00:00<00:00, 417.03it/s]\u001b[A\n",
      "  0%|          | 0/9 [00:00<?, ?it/s]\u001b[A\n",
      " 69%|██████▉   | 45/65 [00:01<00:00, 24.51it/s][A\n",
      "  0%|          | 0/9 [00:00<?, ?it/s]\u001b[A\n",
      "100%|██████████| 9/9 [00:00<00:00, 412.79it/s]\u001b[A\n",
      "  0%|          | 0/9 [00:00<?, ?it/s]\u001b[A\n",
      "100%|██████████| 9/9 [00:00<00:00, 407.55it/s]\u001b[A\n",
      "  0%|          | 0/9 [00:00<?, ?it/s]\u001b[A\n",
      " 74%|███████▍  | 48/65 [00:01<00:00, 24.55it/s][A\n",
      "  0%|          | 0/9 [00:00<?, ?it/s]\u001b[A\n",
      "100%|██████████| 9/9 [00:00<00:00, 413.81it/s]\u001b[A\n",
      "  0%|          | 0/9 [00:00<?, ?it/s]\u001b[A\n",
      "100%|██████████| 9/9 [00:00<00:00, 414.19it/s]\u001b[A\n",
      "  0%|          | 0/9 [00:00<?, ?it/s]\u001b[A\n",
      " 78%|███████▊  | 51/65 [00:02<00:00, 24.58it/s][A\n",
      "  0%|          | 0/9 [00:00<?, ?it/s]\u001b[A\n",
      "100%|██████████| 9/9 [00:00<00:00, 407.40it/s]\u001b[A\n",
      "  0%|          | 0/9 [00:00<?, ?it/s]\u001b[A\n",
      "100%|██████████| 9/9 [00:00<00:00, 404.30it/s]\u001b[A\n",
      "  0%|          | 0/9 [00:00<?, ?it/s]\u001b[A\n",
      " 83%|████████▎ | 54/65 [00:02<00:00, 24.61it/s][A\n",
      "  0%|          | 0/9 [00:00<?, ?it/s]\u001b[A\n",
      "100%|██████████| 9/9 [00:00<00:00, 386.11it/s]\u001b[A\n",
      "  0%|          | 0/9 [00:00<?, ?it/s]\u001b[A\n",
      "100%|██████████| 9/9 [00:00<00:00, 407.42it/s]\u001b[A\n",
      "  0%|          | 0/9 [00:00<?, ?it/s]\u001b[A\n",
      " 88%|████████▊ | 57/65 [00:02<00:00, 24.60it/s][A\n",
      "  0%|          | 0/9 [00:00<?, ?it/s]\u001b[A\n",
      "100%|██████████| 9/9 [00:00<00:00, 401.24it/s]\u001b[A\n",
      "  0%|          | 0/9 [00:00<?, ?it/s]\u001b[A\n",
      "100%|██████████| 9/9 [00:00<00:00, 401.04it/s]\u001b[A\n",
      "  0%|          | 0/9 [00:00<?, ?it/s]\u001b[A\n",
      " 92%|█████████▏| 60/65 [00:02<00:00, 24.60it/s][A\n",
      "  0%|          | 0/9 [00:00<?, ?it/s]\u001b[A\n",
      "100%|██████████| 9/9 [00:00<00:00, 407.97it/s]\u001b[A\n",
      "  0%|          | 0/9 [00:00<?, ?it/s]\u001b[A\n",
      "100%|██████████| 9/9 [00:00<00:00, 411.83it/s]\u001b[A\n",
      "  0%|          | 0/9 [00:00<?, ?it/s]\u001b[A\n",
      " 97%|█████████▋| 63/65 [00:02<00:00, 24.62it/s][A\n",
      "  0%|          | 0/9 [00:00<?, ?it/s]\u001b[A\n",
      "100%|██████████| 9/9 [00:00<00:00, 410.29it/s]\u001b[A\n",
      "  0%|          | 0/9 [00:00<?, ?it/s]\u001b[A\n",
      "100%|██████████| 65/65 [00:02<00:00, 24.62it/s][A\n"
     ]
    }
   ],
   "source": [
    "threshList = []\n",
    "IoUList = []\n",
    "IoUValList = []\n",
    "for kk in tqdm(range(65)):\n",
    "    thresh = 0.3 + 0.7*(1+kk)/65\n",
    "    threshList.append(thresh)\n",
    "    \n",
    "    meanIoUVal = 0\n",
    "    \n",
    "    preds_val_ws = ModelUNet.WaterShedChangeAll(preds_val, lowThresh = 0.1, highThresh = thresh)\n",
    "    meanIoUVal = np.array([ModelUNet.IoU(preds_val_ws[i], Y_val[i]) for i in range(Y_val.shape[0])])\n",
    "    IoUValList.append(np.mean(meanIoUVal) )\n",
    "    "
   ]
  },
  {
   "cell_type": "code",
   "execution_count": 60,
   "metadata": {},
   "outputs": [
    {
     "data": {
      "text/plain": [
       "[<matplotlib.lines.Line2D at 0x7f4f3325e390>]"
      ]
     },
     "execution_count": 60,
     "metadata": {},
     "output_type": "execute_result"
    },
    {
     "data": {
      "image/png": "[encoded data removed]",
      "text/plain": [
       "<Figure size 432x288 with 1 Axes>"
      ]
     },
     "metadata": {},
     "output_type": "display_data"
    }
   ],
   "source": [
    "plt.title('IoU curve')\n",
    "plt.ylabel('IoU')\n",
    "plt.xlabel('threshold')\n",
    "\n",
    "#plt.plot(threshList, IoUList)\n",
    "plt.plot(threshList, IoUValList)"
   ]
  },
  {
   "cell_type": "code",
   "execution_count": 69,
   "metadata": {},
   "outputs": [
    {
     "name": "stdout",
     "output_type": "stream",
     "text": [
      "Thresh: 0.23076923076923078  ExpectedIoU: 0.8333333333333334\n"
     ]
    }
   ],
   "source": [
    "wsThresh = threshList[np.argmax(IoUValList)]\n",
    "print('Thresh: {}  ExpectedIoU: {}'.format(wsThresh, max(IoUValList)))"
   ]
  },
  {
   "cell_type": "markdown",
   "metadata": {},
   "source": [
    "## Threshold optimization"
   ]
  },
  {
   "cell_type": "code",
   "execution_count": 61,
   "metadata": {
    "colab": {
     "base_uri": "https://localhost:8080/",
     "height": 34
    },
    "colab_type": "code",
    "id": "8T71Irhvda5m",
    "outputId": "51b5c269-8f37-4b1a-8053-b376c42030dc"
   },
   "outputs": [
    {
     "name": "stderr",
     "output_type": "stream",
     "text": [
      "100%|██████████| 13/13 [00:51<00:00,  3.96s/it]\n"
     ]
    }
   ],
   "source": [
    "threshList = []\n",
    "IoUList = []\n",
    "IoUValList = []\n",
    "for kk in tqdm(range(13)):\n",
    "    thresh = (1+kk)/13\n",
    "    threshList.append(thresh)\n",
    "    preds_train_t = (preds_train > thresh).astype(np.uint8)\n",
    "    preds_val_t = (preds_val > thresh).astype(np.uint8)\n",
    "    meanIoU = np.array([ModelUNet.IoU(preds_train_t[i], Y_train0[i]) for i in range(Y_train0.shape[0])])\n",
    "    IoUList.append(np.mean(meanIoU) )\n",
    "    meanIoUVal = np.array([ModelUNet.IoU(preds_val_t[i], Y_val[i]) for i in range(Y_val.shape[0])])\n",
    "    IoUValList.append(np.mean(meanIoUVal) )"
   ]
  },
  {
   "cell_type": "code",
   "execution_count": 62,
   "metadata": {
    "colab": {
     "base_uri": "https://localhost:8080/",
     "height": 311
    },
    "colab_type": "code",
    "id": "wg0NipGnddCw",
    "outputId": "c45fb827-da83-4a10-c766-023300ab3329"
   },
   "outputs": [
    {
     "data": {
      "text/plain": [
       "[<matplotlib.lines.Line2D at 0x7f4f331bc4a8>]"
      ]
     },
     "execution_count": 62,
     "metadata": {},
     "output_type": "execute_result"
    },
    {
     "data": {
      "image/png": "[encoded data removed]",
      "text/plain": [
       "<Figure size 432x288 with 1 Axes>"
      ]
     },
     "metadata": {},
     "output_type": "display_data"
    }
   ],
   "source": [
    "plt.title('IoU curve')\n",
    "plt.ylabel('IoU')\n",
    "plt.xlabel('threshold')\n",
    "\n",
    "plt.plot(threshList, IoUList)\n",
    "plt.plot(threshList, IoUValList)"
   ]
  },
  {
   "cell_type": "code",
   "execution_count": 63,
   "metadata": {
    "colab": {
     "base_uri": "https://localhost:8080/",
     "height": 34
    },
    "colab_type": "code",
    "id": "cQ_VOkO0de6p",
    "outputId": "b5e9961b-2792-4064-9f30-8daefce31eee"
   },
   "outputs": [
    {
     "name": "stdout",
     "output_type": "stream",
     "text": [
      "Thresh: 0.23076923076923078  ExpectedIoU: 0.8333333333333334\n"
     ]
    }
   ],
   "source": [
    "thresh = threshList[np.argmax(IoUValList)]\n",
    "print('Thresh: {}  ExpectedIoU: {}'.format(thresh, max(IoUValList)))"
   ]
  },
  {
   "cell_type": "code",
   "execution_count": 47,
   "metadata": {
    "colab": {},
    "colab_type": "code",
    "id": "kor6dfuWkRgL"
   },
   "outputs": [],
   "source": [
    "thresh = 0.5"
   ]
  },
  {
   "cell_type": "markdown",
   "metadata": {
    "colab_type": "text",
    "id": "WC_JYxpGKQcj"
   },
   "source": [
    "# Predictions"
   ]
  },
  {
   "cell_type": "code",
   "execution_count": 64,
   "metadata": {},
   "outputs": [
    {
     "name": "stderr",
     "output_type": "stream",
     "text": [
      "\r",
      "  0%|          | 0/18000 [00:00<?, ?it/s]"
     ]
    },
    {
     "name": "stdout",
     "output_type": "stream",
     "text": [
      "Getting images and masks ... \n"
     ]
    },
    {
     "name": "stderr",
     "output_type": "stream",
     "text": [
      "100%|██████████| 18000/18000 [08:07<00:00, 36.93it/s]\n"
     ]
    }
   ],
   "source": [
    "X_test, d_test = ImageReader.ReadSegmentationImages(testFolder, depthFile, readMasks = False)\n",
    "X_test = X_test/255.0 #(X_test-X_train_mean)/(2*X_train_std)\n",
    "\n",
    "#for i in tqdm(range(len(X_test))):\n",
    "#    X_test[i] = image_datagen.standardize(X_test[i].astype(float))"
   ]
  },
  {
   "cell_type": "code",
   "execution_count": 65,
   "metadata": {
    "colab": {
     "base_uri": "https://localhost:8080/",
     "height": 68
    },
    "colab_type": "code",
    "id": "UQY0LPqMNf3G",
    "outputId": "17457a35-2bd0-422e-cac3-a28224ac61aa"
   },
   "outputs": [
    {
     "name": "stdout",
     "output_type": "stream",
     "text": [
      "2429/2429 [==============================] - 33s 14ms/step\n",
      "9/9 [==============================] - 0s 16ms/step\n",
      "18000/18000 [==============================] - 252s 14ms/step\n"
     ]
    }
   ],
   "source": [
    "model_array = [\n",
    "               #load_model('model-tgs-salt-Resnet.h5', custom_objects={'mean_iou': mean_iou, 'ReflectionPadding2D' : ReflectionPadding2D}),\n",
    "               #load_model('model-tgs-salt-ReflecConv.h5', custom_objects={'mean_iou': mean_iou, 'ReflectionPadding2D' : ReflectionPadding2D}),\n",
    "               #load_model('model-tgs-salt-Incep1.h5', custom_objects={'mean_iou': mean_iou, 'ReflectionPadding2D' : ReflectionPadding2D}),\n",
    "              ]\n",
    "\n",
    "# Predict on train, val and test\n",
    "\n",
    "preds_train = model.predict([X_train0, d_train0], verbose=1)\n",
    "preds_val = model.predict([X_val, d_val], verbose=1)\n",
    "preds_test = model.predict([X_test, d_test], verbose=1)\n",
    "\n",
    "for savedModel in model_array:\n",
    "    preds_train += savedModel.predict([X_train0, d_train0], verbose=1)\n",
    "    preds_val += savedModel.predict([X_val, d_val], verbose=1)\n",
    "    preds_test += savedModel.predict([X_test, d_test], verbose=1)\n",
    "\n",
    "preds_train /= 1+len(model_array)\n",
    "preds_val /= 1+len(model_array)\n",
    "preds_test /= 1+len(model_array)\n",
    "\n",
    "\n",
    "# Threshold predictions\n",
    "preds_train_t = (preds_train > thresh).astype(np.uint8)\n",
    "preds_val_t = (preds_val > thresh).astype(np.uint8)\n",
    "preds_test_t = (preds_test > thresh).astype(np.uint8)\n"
   ]
  },
  {
   "cell_type": "code",
   "execution_count": 70,
   "metadata": {
    "colab": {
     "base_uri": "https://localhost:8080/",
     "height": 34
    },
    "colab_type": "code",
    "id": "ynhnACAcOv19",
    "outputId": "258dcbca-5a36-41fa-8445-a97d02b3f0ff",
    "scrolled": true
   },
   "outputs": [
    {
     "name": "stderr",
     "output_type": "stream",
     "text": [
      "100%|██████████| 18000/18000 [00:41<00:00, 434.23it/s]\n"
     ]
    }
   ],
   "source": [
    "#Watershed predictions\n",
    "preds_test_t = ModelUNet.WaterShedChangeAll(preds_test, lowThresh = 0.1, highThresh = wsThresh)"
   ]
  },
  {
   "cell_type": "code",
   "execution_count": 71,
   "metadata": {
    "colab": {
     "base_uri": "https://localhost:8080/",
     "height": 770
    },
    "colab_type": "code",
    "id": "ttiEeIo-PJcP",
    "outputId": "976df606-8d4b-4bdf-e457-d1c713753a07"
   },
   "outputs": [
    {
     "data": {
      "image/png": "[encoded data removed]",
      "text/plain": [
       "<Figure size 432x288 with 1 Axes>"
      ]
     },
     "metadata": {},
     "output_type": "display_data"
    },
    {
     "data": {
      "image/png": "[encoded data removed]",
      "text/plain": [
       "<Figure size 432x288 with 1 Axes>"
      ]
     },
     "metadata": {},
     "output_type": "display_data"
    },
    {
     "data": {
      "image/png": "[encoded data removed]",
      "text/plain": [
       "<Figure size 432x288 with 1 Axes>"
      ]
     },
     "metadata": {},
     "output_type": "display_data"
    }
   ],
   "source": [
    "# Perform a sanity check on some random training samples\n",
    "ix = np.random.randint(0, len(preds_train_t))\n",
    "plt.imshow(X_train0[ix,:,:,0])\n",
    "plt.show()\n",
    "#plt.imshow(Y_train[ix,:,:,0])\n",
    "tmp = np.squeeze(Y_train0[ix]).astype(np.float32)\n",
    "plt.imshow(np.dstack((tmp,tmp,tmp)))\n",
    "plt.show()\n",
    "tmp = np.squeeze(preds_train_t[ix]).astype(np.float32)\n",
    "plt.imshow(np.dstack((tmp,tmp,tmp)))\n",
    "plt.show()"
   ]
  },
  {
   "cell_type": "code",
   "execution_count": 72,
   "metadata": {
    "colab": {
     "base_uri": "https://localhost:8080/",
     "height": 34
    },
    "colab_type": "code",
    "id": "I-a2-DznPRkG",
    "outputId": "30a99f22-1449-44e4-d816-a09a43a3e5d2"
   },
   "outputs": [
    {
     "data": {
      "text/plain": [
       "142"
      ]
     },
     "execution_count": 72,
     "metadata": {},
     "output_type": "execute_result"
    }
   ],
   "source": [
    "lowPixCount = [imgId for imgId in range(len(preds_test_t)) if preds_test_t[imgId].sum() < 5 and preds_test_t[imgId].sum() > 0]\n",
    "len(lowPixCount)"
   ]
  },
  {
   "cell_type": "code",
   "execution_count": 68,
   "metadata": {},
   "outputs": [
    {
     "data": {
      "text/plain": [
       "2141"
      ]
     },
     "execution_count": 68,
     "metadata": {},
     "output_type": "execute_result"
    }
   ],
   "source": [
    "testEmptyIDs = [imgId for imgId in range(len(preds_test)) if preds_test[imgId].max() < 0.1]\n",
    "nonSaltTestImgs = X_test[testEmptyIDs]\n",
    "nonSaltTestDpth = d_test[testEmptyIDs]\n",
    "len(testEmptyIDs)"
   ]
  },
  {
   "cell_type": "code",
   "execution_count": 73,
   "metadata": {
    "colab": {},
    "colab_type": "code",
    "id": "EImEPKhwNiVC"
   },
   "outputs": [],
   "source": [
    "for imId in lowPixCount:\n",
    "    preds_test_t[imId]=np.zeros( (101,101,1) )"
   ]
  },
  {
   "cell_type": "markdown",
   "metadata": {
    "colab_type": "text",
    "id": "3Eggn5qvQEdp"
   },
   "source": [
    "# Prepare Submission"
   ]
  },
  {
   "cell_type": "code",
   "execution_count": 74,
   "metadata": {
    "colab": {
     "base_uri": "https://localhost:8080/",
     "height": 51
    },
    "colab_type": "code",
    "id": "85EJ-_UNQkPw",
    "outputId": "96aae08f-f7e8-4a32-ab3c-9655f55fce48"
   },
   "outputs": [
    {
     "name": "stdout",
     "output_type": "stream",
     "text": [
      "(18000, 101, 101, 1)\n",
      "(18000, 101, 101)\n"
     ]
    }
   ],
   "source": [
    "print(preds_test_t.shape)\n",
    "preds_test = preds_test_t.reshape(preds_test_t.shape[0], preds_test_t.shape[1], preds_test_t.shape[2])\n",
    "print(preds_test.shape)"
   ]
  },
  {
   "cell_type": "code",
   "execution_count": 75,
   "metadata": {
    "colab": {},
    "colab_type": "code",
    "id": "Y5-1fLTJQGDo"
   },
   "outputs": [
    {
     "name": "stderr",
     "output_type": "stream",
     "text": [
      "18000it [05:24, 55.46it/s]\n"
     ]
    }
   ],
   "source": [
    "def RLenc(img, order='F', format=True):\n",
    "    \"\"\"\n",
    "    img is binary mask image, shape (r,c)\n",
    "    order is down-then-right, i.e. Fortran\n",
    "    format determines if the order needs to be preformatted (according to submission rules) or not\n",
    "\n",
    "    returns run length as an array or string (if format is True)\n",
    "    \"\"\"\n",
    "    bytes = img.reshape(img.shape[0] * img.shape[1], order=order)\n",
    "    runs = []  ## list of run lengths\n",
    "    r = 0  ## the current run length\n",
    "    pos = 1  ## count starts from 1 per WK\n",
    "    for c in bytes:\n",
    "        if (c == 0):\n",
    "            if r != 0:\n",
    "                runs.append((pos, r))\n",
    "                pos += r\n",
    "                r = 0\n",
    "            pos += 1\n",
    "        else:\n",
    "            r += 1\n",
    "\n",
    "    # if last run is unsaved (i.e. data ends with 1)\n",
    "    if r != 0:\n",
    "        runs.append((pos, r))\n",
    "        pos += r\n",
    "        r = 0\n",
    "\n",
    "    if format:\n",
    "        z = ''\n",
    "\n",
    "        for rr in runs:\n",
    "            z += '{} {} '.format(rr[0], rr[1])\n",
    "        return z[:-1]\n",
    "    else:\n",
    "        return runs\n",
    "\n",
    "pred_dict = {fn[:-4]:RLenc(np.round(preds_test[i])) for i,fn in tqdm(enumerate(test_ids))}\n",
    "#pred_dict = {fn[:-4]:RLenc(np.round(preds_test[i])) for i,fn in (enumerate(test_ids))}"
   ]
  },
  {
   "cell_type": "code",
   "execution_count": 76,
   "metadata": {
    "colab": {},
    "colab_type": "code",
    "id": "7Nm1w6_RQJqw"
   },
   "outputs": [],
   "source": [
    "sub = pd.DataFrame.from_dict(pred_dict,orient='index')\n",
    "sub.index.names = ['id']\n",
    "sub.columns = ['rle_mask']\n",
    "sub.to_csv('submission.csv')"
   ]
  },
  {
   "cell_type": "code",
   "execution_count": 77,
   "metadata": {
    "colab": {
     "base_uri": "https://localhost:8080/",
     "height": 85
    },
    "colab_type": "code",
    "id": "L5BqBHZbWPe3",
    "outputId": "ddfb96ce-0779-424b-caa9-a8d5e89ba18a"
   },
   "outputs": [
    {
     "name": "stdout",
     "output_type": "stream",
     "text": [
      "creating archive\n",
      "adding with compression mode deflated\n",
      "closing\n",
      "submission.zip\n"
     ]
    }
   ],
   "source": [
    "import zipfile\n",
    "try:\n",
    "    import zlib\n",
    "    compression = zipfile.ZIP_DEFLATED\n",
    "except:\n",
    "    compression = zipfile.ZIP_STORED\n",
    "\n",
    "modes = { zipfile.ZIP_DEFLATED: 'deflated',\n",
    "          zipfile.ZIP_STORED:   'stored',\n",
    "          }\n",
    "\n",
    "print('creating archive')\n",
    "zf = zipfile.ZipFile('submission.zip', mode='w')\n",
    "try:\n",
    "    print('adding with compression mode {}'.format(modes[compression]))\n",
    "    zf.write('submission.csv', compress_type=compression)\n",
    "finally:\n",
    "    print('closing')\n",
    "    zf.close()\n",
    "\n",
    "print('submission.zip')"
   ]
  },
  {
   "cell_type": "code",
   "execution_count": null,
   "metadata": {
    "colab": {},
    "colab_type": "code",
    "id": "nqzGcwV9nPqO"
   },
   "outputs": [],
   "source": []
  },
  {
   "cell_type": "code",
   "execution_count": 78,
   "metadata": {
    "colab": {
     "base_uri": "https://localhost:8080/",
     "height": 34
    },
    "colab_type": "code",
    "id": "xYN4cqUumso9",
    "outputId": "27d0b919-8289-483d-cf86-b086b5390a76"
   },
   "outputs": [
    {
     "name": "stdout",
     "output_type": "stream",
     "text": [
      "Warning: Your Kaggle API key is readable by otherusers on this system! To fix this, you can run'chmod 600 /home/douglas125/.kaggle/kaggle.json'\n",
      "Successfully submitted to TGS Salt Identification Challenge"
     ]
    }
   ],
   "source": [
    "!kaggle competitions submit -c tgs-salt-identification-challenge -f submission.zip -m \"DeepLabv3, initial_lr=5e-4, wshed, backbone=xception, removeNoSalt\""
   ]
  },
  {
   "cell_type": "code",
   "execution_count": 0,
   "metadata": {
    "colab": {},
    "colab_type": "code",
    "id": "v4duZsutRQqC"
   },
   "outputs": [],
   "source": [
    "from google.colab import files\n",
    "files.download('submission.zip')"
   ]
  }
 ],
 "metadata": {
  "accelerator": "GPU",
  "colab": {
   "collapsed_sections": [
    "yRUBTFaQXB_X"
   ],
   "name": "Kaggle TGS Seismic",
   "provenance": [],
   "version": "0.3.2"
  },
  "kernelspec": {
   "display_name": "Python [default]",
   "language": "python",
   "name": "python3"
  },
  "language_info": {
   "codemirror_mode": {
    "name": "ipython",
    "version": 3
   },
   "file_extension": ".py",
   "mimetype": "text/x-python",
   "name": "python",
   "nbconvert_exporter": "python",
   "pygments_lexer": "ipython3",
   "version": "3.5.5"
  }
 },
 "nbformat": 4,
 "nbformat_minor": 1
}
