{
 "cells": [
  {
   "cell_type": "markdown",
   "metadata": {
    "colab_type": "text",
    "id": "mf2ENBI217Zd"
   },
   "source": [
    "# Kaggle TGS Geoseismic competition"
   ]
  },
  {
   "cell_type": "code",
   "execution_count": 3,
   "metadata": {
    "colab": {},
    "colab_type": "code",
    "id": "YMvFLpBQlBTR"
   },
   "outputs": [],
   "source": [
    "#!pip install -r requirements.txt"
   ]
  },
  {
   "cell_type": "code",
   "execution_count": 1,
   "metadata": {
    "colab": {
     "base_uri": "https://localhost:8080/",
     "height": 318
    },
    "colab_type": "code",
    "id": "tWe1mkDDaGmA",
    "outputId": "ea56e3f6-6995-42ec-92fb-5b53c95782f3"
   },
   "outputs": [
    {
     "name": "stderr",
     "output_type": "stream",
     "text": [
      "/anaconda/envs/py35/lib/python3.5/site-packages/h5py/__init__.py:36: FutureWarning: Conversion of the second argument of issubdtype from `float` to `np.floating` is deprecated. In future, it will be treated as `np.float64 == np.dtype(float).type`.\n",
      "  from ._conv import register_converters as _register_converters\n"
     ]
    },
    {
     "name": "stdout",
     "output_type": "stream",
     "text": [
      "[name: \"/device:CPU:0\"\n",
      "device_type: \"CPU\"\n",
      "memory_limit: 268435456\n",
      "locality {\n",
      "}\n",
      "incarnation: 2782968327026120156\n",
      ", name: \"/device:GPU:0\"\n",
      "device_type: \"GPU\"\n",
      "memory_limit: 11286285517\n",
      "locality {\n",
      "  bus_id: 1\n",
      "  links {\n",
      "  }\n",
      "}\n",
      "incarnation: 4007177297723420039\n",
      "physical_device_desc: \"device: 0, name: Tesla K80, pci bus id: 4029:00:00.0, compute capability: 3.7\"\n",
      "]\n"
     ]
    }
   ],
   "source": [
    "from tensorflow.python.client import device_lib\n",
    "print(device_lib.list_local_devices())"
   ]
  },
  {
   "cell_type": "markdown",
   "metadata": {
    "colab_type": "text",
    "id": "pBETV6aO2d39"
   },
   "source": [
    "# API Credentials\n",
    "\n",
    "To use the Kaggle API, sign up for a Kaggle account at https://www.kaggle.com. Then go to the 'Account' tab of your user profile (https://www.kaggle.com/<username>/account) and select 'Create API Token'. This will trigger the download of kaggle.json, a file containing your API credentials. \n",
    "\n",
    "Place this file on your Google Drive anywhere.\n",
    "\n",
    "With the next snippet you download your credentials to Colab and you can start using Kaggle API"
   ]
  },
  {
   "cell_type": "code",
   "execution_count": 2,
   "metadata": {
    "colab": {
     "base_uri": "https://localhost:8080/",
     "height": 34
    },
    "colab_type": "code",
    "id": "NtqKjNG3Q0Z9",
    "outputId": "97d3685a-30cb-4deb-f4ec-8f25f1f0dc5b"
   },
   "outputs": [
    {
     "name": "stdout",
     "output_type": "stream",
     "text": [
      "datalab\r\n"
     ]
    }
   ],
   "source": [
    "!ls"
   ]
  },
  {
   "cell_type": "code",
   "execution_count": 3,
   "metadata": {
    "colab": {
     "base_uri": "https://localhost:8080/",
     "height": 34
    },
    "colab_type": "code",
    "id": "y5_288BYp6H1",
    "outputId": "7615aa5e-a752-4691-bde4-2f476f6e067c"
   },
   "outputs": [
    {
     "name": "stdout",
     "output_type": "stream",
     "text": [
      "Download 100%.\n"
     ]
    }
   ],
   "source": [
    "from googleapiclient.discovery import build\n",
    "import io, os\n",
    "from googleapiclient.http import MediaIoBaseDownload\n",
    "from google.colab import auth\n",
    "\n",
    "auth.authenticate_user()\n",
    "\n",
    "drive_service = build('drive', 'v3')\n",
    "results = drive_service.files().list(\n",
    "        q=\"name = 'kaggle.json'\", fields=\"files(id)\").execute()\n",
    "kaggle_api_key = results.get('files', [])\n",
    "\n",
    "filename = \"/content/.kaggle/kaggle.json\"\n",
    "os.makedirs(os.path.dirname(filename), exist_ok=True)\n",
    "\n",
    "request = drive_service.files().get_media(fileId=kaggle_api_key[0]['id'])\n",
    "fh = io.FileIO(filename, 'wb')\n",
    "downloader = MediaIoBaseDownload(fh, request)\n",
    "done = False\n",
    "while done is False:\n",
    "    status, done = downloader.next_chunk()\n",
    "    print(\"Download %d%%.\" % int(status.progress() * 100))\n",
    "os.chmod(filename, 600)"
   ]
  },
  {
   "cell_type": "code",
   "execution_count": 0,
   "metadata": {
    "colab": {},
    "colab_type": "code",
    "id": "5l1V_oxXsZ8l"
   },
   "outputs": [],
   "source": [
    "#!kaggle datasets list"
   ]
  },
  {
   "cell_type": "code",
   "execution_count": 4,
   "metadata": {
    "colab": {
     "base_uri": "https://localhost:8080/",
     "height": 34
    },
    "colab_type": "code",
    "id": "L-MSBCgPkI9V",
    "outputId": "292c50a8-867e-435d-f8f6-5912c408e19f"
   },
   "outputs": [
    {
     "name": "stdout",
     "output_type": "stream",
     "text": [
      "Warning: Your Kaggle API key is readable by otherusers on this system! To fix this, you can run'chmod 600 /home/douglas125/.kaggle/kaggle.json'\n",
      "Downloading depths.csv to /home/douglas125/McLyEdSegmentation\n",
      "  0%|                                                | 0.00/322k [00:00<?, ?B/s]\n",
      "100%|████████████████████████████████████████| 322k/322k [00:00<00:00, 45.3MB/s]\n",
      "Downloading sample_submission.csv to /home/douglas125/McLyEdSegmentation\n",
      "  0%|                                                | 0.00/264k [00:00<?, ?B/s]\n",
      "100%|████████████████████████████████████████| 264k/264k [00:00<00:00, 89.5MB/s]\n",
      "Downloading train.csv to /home/douglas125/McLyEdSegmentation\n",
      "  0%|                                                | 0.00/922k [00:00<?, ?B/s]\n",
      "100%|█████████████████████████████████████████| 922k/922k [00:00<00:00, 161MB/s]\n",
      "Downloading test.zip to /home/douglas125/McLyEdSegmentation\n",
      " 92%|█████████████████████████████████████▉   | 151M/163M [00:00<00:00, 133MB/s]\n",
      "100%|█████████████████████████████████████████| 163M/163M [00:01<00:00, 157MB/s]\n",
      "Downloading train.zip to /home/douglas125/McLyEdSegmentation\n",
      " 45%|█████████████████                     | 17.0M/37.9M [00:00<00:00, 66.1MB/s]\n",
      "100%|███████████████████████████████████████| 37.9M/37.9M [00:00<00:00, 124MB/s]\n"
     ]
    }
   ],
   "source": [
    "!kaggle competitions download -c tgs-salt-identification-challenge"
   ]
  },
  {
   "cell_type": "markdown",
   "metadata": {
    "colab_type": "text",
    "id": "-4T8ufsAkQts"
   },
   "source": [
    "Reference: [https://github.com/Kaggle/kaggle-api](https://github.com/Kaggle/kaggle-api)"
   ]
  },
  {
   "cell_type": "code",
   "execution_count": 6,
   "metadata": {
    "colab": {
     "base_uri": "https://localhost:8080/",
     "height": 34
    },
    "colab_type": "code",
    "id": "_fZ-DSopb6Pd",
    "outputId": "97e08c91-9685-4714-9981-061e0c8048f2"
   },
   "outputs": [
    {
     "name": "stdout",
     "output_type": "stream",
     "text": [
      "datalab\r\n"
     ]
    }
   ],
   "source": [
    "!ls /content"
   ]
  },
  {
   "cell_type": "code",
   "execution_count": 0,
   "metadata": {
    "colab": {},
    "colab_type": "code",
    "id": "pZY3IRcrdRqA"
   },
   "outputs": [],
   "source": [
    "#!ls /content#/competitions/tgs-salt-identification-challenge"
   ]
  },
  {
   "cell_type": "code",
   "execution_count": 0,
   "metadata": {
    "colab": {},
    "colab_type": "code",
    "id": "P8iJLspz5PIp"
   },
   "outputs": [],
   "source": [
    "#!mv ~/.kaggle/competitions/tgs-salt-identification-challenge/ /"
   ]
  },
  {
   "cell_type": "code",
   "execution_count": 0,
   "metadata": {
    "colab": {},
    "colab_type": "code",
    "id": "kJQqlQ8c4O-1"
   },
   "outputs": [],
   "source": [
    "#!ls /"
   ]
  },
  {
   "cell_type": "markdown",
   "metadata": {
    "colab_type": "text",
    "id": "wt72EaD62qHM"
   },
   "source": [
    "# Data Exploration"
   ]
  },
  {
   "cell_type": "code",
   "execution_count": 6,
   "metadata": {
    "colab": {
     "base_uri": "https://localhost:8080/",
     "height": 345
    },
    "colab_type": "code",
    "id": "FaCbaUks2TN2",
    "outputId": "e0de925f-e65c-44c8-9b5e-f37620c94932"
   },
   "outputs": [],
   "source": [
    "import zipfile\n",
    "zip_ref = zipfile.ZipFile('train.zip', 'r')\n",
    "zip_ref.extractall('tgs-salt-identification-challenge/trainData')\n",
    "zip_ref.close()"
   ]
  },
  {
   "cell_type": "code",
   "execution_count": 7,
   "metadata": {
    "colab": {},
    "colab_type": "code",
    "id": "T9NE1-oF8UGv"
   },
   "outputs": [],
   "source": [
    "zip_ref = zipfile.ZipFile('test.zip', 'r')\n",
    "zip_ref.extractall('tgs-salt-identification-challenge/testData')\n",
    "zip_ref.close()"
   ]
  },
  {
   "cell_type": "code",
   "execution_count": 2,
   "metadata": {
    "colab": {
     "base_uri": "https://localhost:8080/",
     "height": 34
    },
    "colab_type": "code",
    "id": "bYDGN_2W6Pmp",
    "outputId": "279c496b-97bc-46b9-bf15-a2226bfb5d78"
   },
   "outputs": [
    {
     "name": "stderr",
     "output_type": "stream",
     "text": [
      "Using TensorFlow backend.\n"
     ]
    }
   ],
   "source": [
    "import os\n",
    "\n",
    "import pandas as pd\n",
    "import numpy as np\n",
    "import matplotlib.pyplot as plt\n",
    "%matplotlib inline\n",
    "from keras.preprocessing.image import ImageDataGenerator, array_to_img, img_to_array, load_img\n",
    "from tqdm import tqdm_notebook, tnrange, tqdm\n",
    "\n",
    "from scipy.signal import medfilt2d"
   ]
  },
  {
   "cell_type": "code",
   "execution_count": 3,
   "metadata": {
    "colab": {},
    "colab_type": "code",
    "id": "cWYuS0Zx5xIz"
   },
   "outputs": [],
   "source": [
    "trainFolder = 'tgs-salt-identification-challenge/trainData/'\n",
    "testFolder  = 'tgs-salt-identification-challenge/testData/'"
   ]
  },
  {
   "cell_type": "code",
   "execution_count": 4,
   "metadata": {
    "colab": {
     "base_uri": "https://localhost:8080/",
     "height": 34
    },
    "colab_type": "code",
    "id": "-iTxGqLx2TUh",
    "outputId": "1a0c2f3a-9ab4-4a03-b6e4-2648ebb5ca72"
   },
   "outputs": [
    {
     "name": "stdout",
     "output_type": "stream",
     "text": [
      "images\r\n"
     ]
    }
   ],
   "source": [
    "!ls tgs-salt-identification-challenge/testData/"
   ]
  },
  {
   "cell_type": "code",
   "execution_count": 5,
   "metadata": {
    "colab": {
     "base_uri": "https://localhost:8080/",
     "height": 204
    },
    "colab_type": "code",
    "id": "8KLX-j4vo0rG",
    "outputId": "61797aac-fe00-43dd-c0ef-cce24393977e"
   },
   "outputs": [
    {
     "data": {
      "text/html": [
       "<div>\n",
       "<style scoped>\n",
       "    .dataframe tbody tr th:only-of-type {\n",
       "        vertical-align: middle;\n",
       "    }\n",
       "\n",
       "    .dataframe tbody tr th {\n",
       "        vertical-align: top;\n",
       "    }\n",
       "\n",
       "    .dataframe thead th {\n",
       "        text-align: right;\n",
       "    }\n",
       "</style>\n",
       "<table border=\"1\" class=\"dataframe\">\n",
       "  <thead>\n",
       "    <tr style=\"text-align: right;\">\n",
       "      <th></th>\n",
       "      <th>id</th>\n",
       "      <th>z</th>\n",
       "    </tr>\n",
       "  </thead>\n",
       "  <tbody>\n",
       "    <tr>\n",
       "      <th>0</th>\n",
       "      <td>4ac19fb269</td>\n",
       "      <td>306</td>\n",
       "    </tr>\n",
       "    <tr>\n",
       "      <th>1</th>\n",
       "      <td>1825fadf99</td>\n",
       "      <td>157</td>\n",
       "    </tr>\n",
       "    <tr>\n",
       "      <th>2</th>\n",
       "      <td>f59821d067</td>\n",
       "      <td>305</td>\n",
       "    </tr>\n",
       "    <tr>\n",
       "      <th>3</th>\n",
       "      <td>5b435fad9d</td>\n",
       "      <td>503</td>\n",
       "    </tr>\n",
       "    <tr>\n",
       "      <th>4</th>\n",
       "      <td>e340e7bfca</td>\n",
       "      <td>783</td>\n",
       "    </tr>\n",
       "  </tbody>\n",
       "</table>\n",
       "</div>"
      ],
      "text/plain": [
       "           id    z\n",
       "0  4ac19fb269  306\n",
       "1  1825fadf99  157\n",
       "2  f59821d067  305\n",
       "3  5b435fad9d  503\n",
       "4  e340e7bfca  783"
      ]
     },
     "execution_count": 5,
     "metadata": {},
     "output_type": "execute_result"
    }
   ],
   "source": [
    "depthFile = pd.read_csv('depths.csv' )\n",
    "depthFile.head()"
   ]
  },
  {
   "cell_type": "code",
   "execution_count": 6,
   "metadata": {
    "colab": {
     "base_uri": "https://localhost:8080/",
     "height": 34
    },
    "colab_type": "code",
    "id": "ahZ9hvSDu4VM",
    "outputId": "e073742a-d259-464f-90de-d14cefb75c23"
   },
   "outputs": [
    {
     "data": {
      "text/plain": [
       "306"
      ]
     },
     "execution_count": 6,
     "metadata": {},
     "output_type": "execute_result"
    }
   ],
   "source": [
    "depthFile[depthFile['id'] == '4ac19fb269'].z.tolist()[0]"
   ]
  },
  {
   "cell_type": "code",
   "execution_count": 7,
   "metadata": {
    "colab": {
     "base_uri": "https://localhost:8080/",
     "height": 267
    },
    "colab_type": "code",
    "id": "wZiwNBFp2TSA",
    "outputId": "a41701ea-2d3f-486c-cef9-0229f60a9d11"
   },
   "outputs": [
    {
     "data": {
      "image/png": "[encoded data removed]",
      "text/plain": [
       "<Figure size 3600x1800 with 10 Axes>"
      ]
     },
     "metadata": {},
     "output_type": "display_data"
    }
   ],
   "source": [
    "ids= ['1f1cc6b3a4','5b7c160d0d','6c40978ddf','7dfdf6eeb8','7e5a6e5013']\n",
    "plt.figure(figsize=(50,25))\n",
    "for j, img_name in enumerate(ids):\n",
    "    q = j+1\n",
    "    img = load_img(trainFolder + 'images/' + img_name + '.png')\n",
    "    img_mask = load_img(trainFolder + 'masks/' + img_name + '.png')\n",
    "    \n",
    "    plt.subplot(1,2*(1+len(ids)),q*2-1)\n",
    "    plt.imshow(img)\n",
    "    plt.subplot(1,2*(1+len(ids)),q*2)\n",
    "    plt.imshow(img_mask)\n",
    "plt.show()"
   ]
  },
  {
   "cell_type": "code",
   "execution_count": 8,
   "metadata": {},
   "outputs": [],
   "source": [
    "%load_ext autoreload\n",
    "%autoreload 2\n",
    "\n",
    "import ImageReader"
   ]
  },
  {
   "cell_type": "code",
   "execution_count": 9,
   "metadata": {
    "colab": {},
    "colab_type": "code",
    "id": "0tpME6Io6EmS"
   },
   "outputs": [],
   "source": [
    "train_ids = next(os.walk(trainFolder +\"images\"))[2]\n",
    "test_ids = next(os.walk(testFolder +\"images\"))[2]"
   ]
  },
  {
   "cell_type": "code",
   "execution_count": 10,
   "metadata": {
    "scrolled": true
   },
   "outputs": [
    {
     "name": "stderr",
     "output_type": "stream",
     "text": [
      "  1%|          | 34/4000 [00:00<00:11, 334.00it/s]"
     ]
    },
    {
     "name": "stdout",
     "output_type": "stream",
     "text": [
      "Getting images and masks ... \n"
     ]
    },
    {
     "name": "stderr",
     "output_type": "stream",
     "text": [
      "100%|██████████| 4000/4000 [00:11<00:00, 340.17it/s]\n"
     ]
    }
   ],
   "source": [
    "X_train, Y_train, depthVals = ImageReader.ReadSegmentationImages(trainFolder, depthFile)"
   ]
  },
  {
   "cell_type": "code",
   "execution_count": 11,
   "metadata": {
    "colab": {
     "base_uri": "https://localhost:8080/",
     "height": 519
    },
    "colab_type": "code",
    "id": "3UoDxmPa7tVk",
    "outputId": "fdcd3a8d-a8aa-482d-fcea-10adb5b25993"
   },
   "outputs": [
    {
     "data": {
      "image/png": "[encoded data removed]",
      "text/plain": [
       "<Figure size 432x288 with 1 Axes>"
      ]
     },
     "metadata": {},
     "output_type": "display_data"
    },
    {
     "data": {
      "image/png": "[encoded data removed]",
      "text/plain": [
       "<Figure size 432x288 with 1 Axes>"
      ]
     },
     "metadata": {},
     "output_type": "display_data"
    }
   ],
   "source": [
    "# Check if training data looks all right\n",
    "ix = np.random.randint(0, len(train_ids))\n",
    "#plt.imshow(np.dstack((X_train[ix],X_train[ix],X_train[ix])))\n",
    "plt.imshow(X_train[ix,:,:,0])\n",
    "plt.show()\n",
    "plt.imshow(Y_train[ix,:,:,0])\n",
    "plt.show()"
   ]
  },
  {
   "cell_type": "markdown",
   "metadata": {
    "colab_type": "text",
    "id": "ZCmJsm8qFzdd"
   },
   "source": [
    "# Keras datagen"
   ]
  },
  {
   "cell_type": "code",
   "execution_count": 12,
   "metadata": {
    "colab": {
     "base_uri": "https://localhost:8080/",
     "height": 34
    },
    "colab_type": "code",
    "id": "ayFcz_QDKKQO",
    "outputId": "7f5bbff7-5c8f-47f7-96d9-ffc9e47c3f65"
   },
   "outputs": [
    {
     "name": "stdout",
     "output_type": "stream",
     "text": [
      "(3920, 101, 101, 1), (80, 101, 101, 1)\n"
     ]
    }
   ],
   "source": [
    "valRatio = 0.02\n",
    "nVal = int(len(X_train)*valRatio)\n",
    "X_val = X_train[0:nVal]\n",
    "Y_val = Y_train[0:nVal]\n",
    "d_val = depthVals[0:nVal]\n",
    "\n",
    "X_train0 = X_train[nVal:]\n",
    "Y_train0 = Y_train[nVal:]\n",
    "d_train0 = depthVals[nVal:]\n",
    "X_train0.shape\n",
    "print('{}, {}'.format(X_train0.shape, X_val.shape))"
   ]
  },
  {
   "cell_type": "code",
   "execution_count": 13,
   "metadata": {
    "colab": {
     "base_uri": "https://localhost:8080/",
     "height": 105
    },
    "colab_type": "code",
    "id": "iZWJWDxSF21D",
    "outputId": "5c0f18b3-6109-41e0-c257-fbaa2e87b566"
   },
   "outputs": [],
   "source": [
    "from keras.preprocessing.image import ImageDataGenerator\n",
    "\n",
    "# we create two instances with the same arguments\n",
    "data_gen_args = dict(#featurewise_center=True,\n",
    "                     #featurewise_std_normalization=True,\n",
    "                     rotation_range=1.0, #1.0,\n",
    "                     #shear_range = 0.001, #0\n",
    "                     zoom_range = 0.13, #0\n",
    "                     width_shift_range=0.025, # 0.03,\n",
    "                     height_shift_range=0.03, #0.3,\n",
    "                     horizontal_flip=True,\n",
    "                     fill_mode = \"reflect\"\n",
    "                     #vertical_flip=True #see if helps\n",
    "                    )\n",
    "\n",
    "image_datagen = ImageDataGenerator(**data_gen_args)\n",
    "mask_datagen = ImageDataGenerator(**data_gen_args)\n",
    "depth_datagen = ImageDataGenerator()\n",
    "seed=7\n",
    "# Provide the same seed and keyword arguments to the fit and flow methods\n",
    "image_datagen.fit(X_train0, augment=True, seed=seed)\n",
    "mask_datagen.fit(Y_train0, augment=True, seed=seed)\n",
    "depth_datagen.fit(d_train0, augment=False, seed=seed)\n",
    "\n",
    "image_generator = image_datagen.flow(\n",
    "    X_train0,\n",
    "    seed=seed,\n",
    "    batch_size = 32)#32*nGPUs)\n",
    "\n",
    "mask_generator = mask_datagen.flow(\n",
    "    Y_train0,\n",
    "    seed=seed,\n",
    "    batch_size = 32)#32*nGPUs)\n",
    "\n",
    "depth_generator = depth_datagen.flow(\n",
    "    d_train0,\n",
    "    seed=seed,\n",
    "    batch_size = 32)#32*nGPUs)\n",
    "\n",
    "bSize = 32\n",
    "def multi_input_gen(X1, X2, X3):\n",
    "    genX1 = image_datagen.flow(X1, seed=7, batch_size=bSize)\n",
    "    genX2 = depth_datagen.flow(X2, seed=7, batch_size=bSize)\n",
    "    genX3 = mask_datagen.flow( X3, seed=7, batch_size=bSize)\n",
    "    while True:\n",
    "            X1i = genX1.next()\n",
    "            X2i = genX2.next()\n",
    "            X3i = genX3.next()\n",
    "            yield [X1i, X2i], X3i\n",
    "\n",
    "train_generator = multi_input_gen(X_train0, d_train0, Y_train0) #zip( [image_generator, depth_generator] , [mask_generator] )"
   ]
  },
  {
   "cell_type": "code",
   "execution_count": 14,
   "metadata": {},
   "outputs": [
    {
     "name": "stdout",
     "output_type": "stream",
     "text": [
      "730.0\n"
     ]
    },
    {
     "data": {
      "image/png": "[encoded data removed]",
      "text/plain": [
       "<Figure size 432x288 with 1 Axes>"
      ]
     },
     "metadata": {},
     "output_type": "display_data"
    },
    {
     "data": {
      "image/png": "[encoded data removed]",
      "text/plain": [
       "<Figure size 432x288 with 1 Axes>"
      ]
     },
     "metadata": {},
     "output_type": "display_data"
    }
   ],
   "source": [
    "ans = next(train_generator)\n",
    "print(ans[0][1][17,0,0,0])\n",
    "plt.imshow( ans[0][0][17,:,:,0] )\n",
    "plt.show()\n",
    "plt.imshow( ans[1][17,:,:,0] )\n",
    "plt.show()\n",
    "#    \n",
    "#    plt.imshow(xx[1][0][0,:,:,0])\n",
    "#    plt.show()\n",
    "#    break"
   ]
  },
  {
   "cell_type": "markdown",
   "metadata": {
    "colab_type": "text",
    "id": "ZZnJKHYuCfpu"
   },
   "source": [
    "# UNet model"
   ]
  },
  {
   "cell_type": "code",
   "execution_count": 15,
   "metadata": {
    "colab": {},
    "colab_type": "code",
    "id": "eq663ff6-x9k"
   },
   "outputs": [],
   "source": [
    "import ModelUNet\n",
    "\n",
    "from keras.utils import plot_model\n",
    "from keras.models import Model, load_model\n",
    "from keras.layers import Input, ZeroPadding2D, Cropping2D\n",
    "from keras.layers.core import Lambda"
   ]
  },
  {
   "cell_type": "code",
   "execution_count": 16,
   "metadata": {
    "colab": {
     "base_uri": "https://localhost:8080/",
     "height": 2397
    },
    "colab_type": "code",
    "id": "xOna1LTs4hMT",
    "outputId": "0ee5e237-1064-4a1a-b646-e8f8fba3abf7",
    "scrolled": false
   },
   "outputs": [
    {
     "name": "stdout",
     "output_type": "stream",
     "text": [
      "__________________________________________________________________________________________________\n",
      "Layer (type)                    Output Shape         Param #     Connected to                     \n",
      "==================================================================================================\n",
      "input_1 (InputLayer)            (None, 101, 101, 1)  0                                            \n",
      "__________________________________________________________________________________________________\n",
      "lambda_1 (Lambda)               (None, 101, 101, 1)  0           input_1[0][0]                    \n",
      "__________________________________________________________________________________________________\n",
      "input_2 (InputLayer)            (None, 1, 1, 1)      0                                            \n",
      "__________________________________________________________________________________________________\n",
      "zero_padding2d_1 (ZeroPadding2D (None, 128, 128, 1)  0           lambda_1[0][0]                   \n",
      "__________________________________________________________________________________________________\n",
      "lambda_2 (Lambda)               (None, 1, 1, 1)      0           input_2[0][0]                    \n",
      "__________________________________________________________________________________________________\n",
      "UNet_d4 (Model)                 (None, 128, 128, 1)  752921      zero_padding2d_1[0][0]           \n",
      "                                                                 lambda_2[0][0]                   \n",
      "__________________________________________________________________________________________________\n",
      "cropping2d_1 (Cropping2D)       (None, 101, 101, 1)  0           UNet_d4[1][0]                    \n",
      "==================================================================================================\n",
      "Total params: 752,921\n",
      "Trainable params: 751,177\n",
      "Non-trainable params: 1,744\n",
      "__________________________________________________________________________________________________\n"
     ]
    }
   ],
   "source": [
    "im_height = 101\n",
    "im_width = 101\n",
    "im_chan = 1\n",
    "\n",
    "\n",
    "inputImg = Input((im_height, im_width, im_chan))\n",
    "inputDepth = Input( (1,1,1) )\n",
    "\n",
    "s = Lambda(lambda x: x / 255) (inputImg)\n",
    "dd = Lambda(lambda x: x * 0.001) (inputDepth)\n",
    "\n",
    "#s = ReflectionPadding2D( padding = ((13, 14), (13, 14)) ) (s)\n",
    "s = ZeroPadding2D( padding = ((13, 14), (13, 14)) ) (s)\n",
    "\n",
    "unet = ModelUNet.BuildUNet(convFunction = ModelUNet.ApplyConv, net_depth=4)\n",
    "s = unet([s,dd])\n",
    "\n",
    "outputs = Cropping2D(cropping=((13, 14), (13, 14)) ) (s)\n",
    "\n",
    "model = Model(inputs=[inputImg, inputDepth], outputs=[outputs])\n",
    "model.compile(optimizer='adam', loss=ModelUNet.dice_loss, metrics=[ModelUNet.mean_iou])\n",
    "\n",
    "model.summary()"
   ]
  },
  {
   "cell_type": "code",
   "execution_count": 17,
   "metadata": {},
   "outputs": [
    {
     "name": "stdout",
     "output_type": "stream",
     "text": [
      "__________________________________________________________________________________________________\n",
      "Layer (type)                    Output Shape         Param #     Connected to                     \n",
      "==================================================================================================\n",
      "input_3 (InputLayer)            (None, 128, 128, 1)  0                                            \n",
      "__________________________________________________________________________________________________\n",
      "conv2d_1 (Conv2D)               (None, 128, 128, 8)  80          input_3[0][0]                    \n",
      "__________________________________________________________________________________________________\n",
      "batch_normalization_1 (BatchNor (None, 128, 128, 8)  32          conv2d_1[0][0]                   \n",
      "__________________________________________________________________________________________________\n",
      "activation_1 (Activation)       (None, 128, 128, 8)  0           batch_normalization_1[0][0]      \n",
      "__________________________________________________________________________________________________\n",
      "conv2d_2 (Conv2D)               (None, 128, 128, 16) 1168        activation_1[0][0]               \n",
      "__________________________________________________________________________________________________\n",
      "batch_normalization_2 (BatchNor (None, 128, 128, 16) 64          conv2d_2[0][0]                   \n",
      "__________________________________________________________________________________________________\n",
      "activation_2 (Activation)       (None, 128, 128, 16) 0           batch_normalization_2[0][0]      \n",
      "__________________________________________________________________________________________________\n",
      "max_pooling2d_1 (MaxPooling2D)  (None, 64, 64, 16)   0           activation_2[0][0]               \n",
      "__________________________________________________________________________________________________\n",
      "conv2d_3 (Conv2D)               (None, 64, 64, 32)   4640        max_pooling2d_1[0][0]            \n",
      "__________________________________________________________________________________________________\n",
      "batch_normalization_3 (BatchNor (None, 64, 64, 32)   128         conv2d_3[0][0]                   \n",
      "__________________________________________________________________________________________________\n",
      "activation_3 (Activation)       (None, 64, 64, 32)   0           batch_normalization_3[0][0]      \n",
      "__________________________________________________________________________________________________\n",
      "max_pooling2d_2 (MaxPooling2D)  (None, 32, 32, 32)   0           activation_3[0][0]               \n",
      "__________________________________________________________________________________________________\n",
      "conv2d_4 (Conv2D)               (None, 32, 32, 64)   18496       max_pooling2d_2[0][0]            \n",
      "__________________________________________________________________________________________________\n",
      "batch_normalization_4 (BatchNor (None, 32, 32, 64)   256         conv2d_4[0][0]                   \n",
      "__________________________________________________________________________________________________\n",
      "activation_4 (Activation)       (None, 32, 32, 64)   0           batch_normalization_4[0][0]      \n",
      "__________________________________________________________________________________________________\n",
      "max_pooling2d_3 (MaxPooling2D)  (None, 16, 16, 64)   0           activation_4[0][0]               \n",
      "__________________________________________________________________________________________________\n",
      "conv2d_5 (Conv2D)               (None, 16, 16, 128)  73856       max_pooling2d_3[0][0]            \n",
      "__________________________________________________________________________________________________\n",
      "batch_normalization_5 (BatchNor (None, 16, 16, 128)  512         conv2d_5[0][0]                   \n",
      "__________________________________________________________________________________________________\n",
      "activation_5 (Activation)       (None, 16, 16, 128)  0           batch_normalization_5[0][0]      \n",
      "__________________________________________________________________________________________________\n",
      "input_4 (InputLayer)            (None, 1, 1, 1)      0                                            \n",
      "__________________________________________________________________________________________________\n",
      "max_pooling2d_4 (MaxPooling2D)  (None, 8, 8, 128)    0           activation_5[0][0]               \n",
      "__________________________________________________________________________________________________\n",
      "lambda_3 (Lambda)               (None, 8, 8, 1)      0           input_4[0][0]                    \n",
      "__________________________________________________________________________________________________\n",
      "concatenate_1 (Concatenate)     (None, 8, 8, 129)    0           max_pooling2d_4[0][0]            \n",
      "                                                                 lambda_3[0][0]                   \n",
      "__________________________________________________________________________________________________\n",
      "conv2d_6 (Conv2D)               (None, 8, 8, 128)    148736      concatenate_1[0][0]              \n",
      "__________________________________________________________________________________________________\n",
      "batch_normalization_6 (BatchNor (None, 8, 8, 128)    512         conv2d_6[0][0]                   \n",
      "__________________________________________________________________________________________________\n",
      "activation_6 (Activation)       (None, 8, 8, 128)    0           batch_normalization_6[0][0]      \n",
      "__________________________________________________________________________________________________\n",
      "conv2d_transpose_1 (Conv2DTrans (None, 16, 16, 128)  65664       activation_6[0][0]               \n",
      "__________________________________________________________________________________________________\n",
      "batch_normalization_7 (BatchNor (None, 16, 16, 128)  512         conv2d_transpose_1[0][0]         \n",
      "__________________________________________________________________________________________________\n",
      "concatenate_2 (Concatenate)     (None, 16, 16, 256)  0           batch_normalization_7[0][0]      \n",
      "                                                                 activation_5[0][0]               \n",
      "__________________________________________________________________________________________________\n",
      "conv2d_7 (Conv2D)               (None, 16, 16, 128)  295040      concatenate_2[0][0]              \n",
      "__________________________________________________________________________________________________\n",
      "batch_normalization_8 (BatchNor (None, 16, 16, 128)  512         conv2d_7[0][0]                   \n",
      "__________________________________________________________________________________________________\n",
      "activation_7 (Activation)       (None, 16, 16, 128)  0           batch_normalization_8[0][0]      \n",
      "__________________________________________________________________________________________________\n",
      "conv2d_transpose_2 (Conv2DTrans (None, 32, 32, 64)   32832       activation_7[0][0]               \n",
      "__________________________________________________________________________________________________\n",
      "batch_normalization_9 (BatchNor (None, 32, 32, 64)   256         conv2d_transpose_2[0][0]         \n",
      "__________________________________________________________________________________________________\n",
      "concatenate_3 (Concatenate)     (None, 32, 32, 128)  0           batch_normalization_9[0][0]      \n",
      "                                                                 activation_4[0][0]               \n",
      "__________________________________________________________________________________________________\n",
      "conv2d_8 (Conv2D)               (None, 32, 32, 64)   73792       concatenate_3[0][0]              \n",
      "__________________________________________________________________________________________________\n",
      "batch_normalization_10 (BatchNo (None, 32, 32, 64)   256         conv2d_8[0][0]                   \n",
      "__________________________________________________________________________________________________\n",
      "activation_8 (Activation)       (None, 32, 32, 64)   0           batch_normalization_10[0][0]     \n",
      "__________________________________________________________________________________________________\n",
      "conv2d_transpose_3 (Conv2DTrans (None, 64, 64, 32)   8224        activation_8[0][0]               \n",
      "__________________________________________________________________________________________________\n",
      "batch_normalization_11 (BatchNo (None, 64, 64, 32)   128         conv2d_transpose_3[0][0]         \n",
      "__________________________________________________________________________________________________\n",
      "concatenate_4 (Concatenate)     (None, 64, 64, 64)   0           batch_normalization_11[0][0]     \n",
      "                                                                 activation_3[0][0]               \n",
      "__________________________________________________________________________________________________\n",
      "conv2d_9 (Conv2D)               (None, 64, 64, 32)   18464       concatenate_4[0][0]              \n",
      "__________________________________________________________________________________________________\n",
      "batch_normalization_12 (BatchNo (None, 64, 64, 32)   128         conv2d_9[0][0]                   \n",
      "__________________________________________________________________________________________________\n",
      "activation_9 (Activation)       (None, 64, 64, 32)   0           batch_normalization_12[0][0]     \n",
      "__________________________________________________________________________________________________\n",
      "conv2d_transpose_4 (Conv2DTrans (None, 128, 128, 16) 2064        activation_9[0][0]               \n",
      "__________________________________________________________________________________________________\n",
      "batch_normalization_13 (BatchNo (None, 128, 128, 16) 64          conv2d_transpose_4[0][0]         \n",
      "__________________________________________________________________________________________________\n",
      "concatenate_5 (Concatenate)     (None, 128, 128, 32) 0           batch_normalization_13[0][0]     \n",
      "                                                                 activation_2[0][0]               \n",
      "__________________________________________________________________________________________________\n",
      "conv2d_10 (Conv2D)              (None, 128, 128, 16) 4624        concatenate_5[0][0]              \n",
      "__________________________________________________________________________________________________\n",
      "batch_normalization_14 (BatchNo (None, 128, 128, 16) 64          conv2d_10[0][0]                  \n",
      "__________________________________________________________________________________________________\n",
      "activation_10 (Activation)      (None, 128, 128, 16) 0           batch_normalization_14[0][0]     \n",
      "__________________________________________________________________________________________________\n",
      "conv2d_11 (Conv2D)              (None, 128, 128, 8)  1160        activation_10[0][0]              \n",
      "__________________________________________________________________________________________________\n",
      "batch_normalization_15 (BatchNo (None, 128, 128, 8)  32          conv2d_11[0][0]                  \n",
      "__________________________________________________________________________________________________\n",
      "activation_11 (Activation)      (None, 128, 128, 8)  0           batch_normalization_15[0][0]     \n",
      "__________________________________________________________________________________________________\n",
      "conv2d_12 (Conv2D)              (None, 128, 128, 8)  584         activation_11[0][0]              \n",
      "__________________________________________________________________________________________________\n",
      "batch_normalization_16 (BatchNo (None, 128, 128, 8)  32          conv2d_12[0][0]                  \n",
      "__________________________________________________________________________________________________\n",
      "activation_12 (Activation)      (None, 128, 128, 8)  0           batch_normalization_16[0][0]     \n",
      "__________________________________________________________________________________________________\n",
      "conv2d_13 (Conv2D)              (None, 128, 128, 1)  9           activation_12[0][0]              \n",
      "==================================================================================================\n",
      "Total params: 752,921\n",
      "Trainable params: 751,177\n",
      "Non-trainable params: 1,744\n",
      "__________________________________________________________________________________________________\n"
     ]
    }
   ],
   "source": [
    "unet.summary()"
   ]
  },
  {
   "cell_type": "markdown",
   "metadata": {
    "colab_type": "text",
    "id": "CT0_7k0iW5bh"
   },
   "source": [
    "# Training"
   ]
  },
  {
   "cell_type": "code",
   "execution_count": 18,
   "metadata": {
    "colab": {},
    "colab_type": "code",
    "id": "V6zDpL9pTNb4"
   },
   "outputs": [],
   "source": [
    "import math\n",
    "from keras.callbacks import EarlyStopping, ModelCheckpoint, LearningRateScheduler\n",
    "def step_decay(epoch):\n",
    "    initial_lrate = 0.0032\n",
    "    drop = 0.955\n",
    "    epochs_drop = 5.0\n",
    "    lrate = initial_lrate * math.pow(drop,  \n",
    "            math.floor((1+epoch)/epochs_drop))\n",
    "    \n",
    "    if (lrate < 4e-5):\n",
    "        lrate = 4e-5\n",
    "      \n",
    "    print('Changing learning rate to {}'.format(lrate))\n",
    "    return lrate\n",
    "lrate = LearningRateScheduler(step_decay)"
   ]
  },
  {
   "cell_type": "code",
   "execution_count": 19,
   "metadata": {
    "colab": {
     "base_uri": "https://localhost:8080/",
     "height": 3179
    },
    "colab_type": "code",
    "id": "dyt7eewqDTIk",
    "outputId": "fd7ee0f3-d0c9-4b50-e00a-445bfe2d98b6",
    "scrolled": true
   },
   "outputs": [
    {
     "name": "stdout",
     "output_type": "stream",
     "text": [
      "Epoch 1/200\n",
      "Changing learning rate to 0.0032\n",
      "123/122 [==============================] - 31s 250ms/step - loss: 0.0767 - mean_iou: 0.5196 - val_loss: 0.0765 - val_mean_iou: 0.5934\n",
      "\n",
      "Epoch 00001: val_loss improved from inf to 0.07650, saving model to model-tgs-salt-1.h5\n",
      "Epoch 2/200\n",
      "Changing learning rate to 0.0032\n",
      "123/122 [==============================] - 23s 191ms/step - loss: 0.0512 - mean_iou: 0.6228 - val_loss: 0.0450 - val_mean_iou: 0.6425\n",
      "\n",
      "Epoch 00002: val_loss improved from 0.07650 to 0.04503, saving model to model-tgs-salt-1.h5\n",
      "Epoch 3/200\n",
      "Changing learning rate to 0.0032\n",
      "123/122 [==============================] - 23s 191ms/step - loss: 0.0504 - mean_iou: 0.6524 - val_loss: 0.1185 - val_mean_iou: 0.6600\n",
      "\n",
      "Epoch 00003: val_loss did not improve from 0.04503\n",
      "Epoch 4/200\n",
      "Changing learning rate to 0.0032\n",
      "123/122 [==============================] - 23s 191ms/step - loss: 0.0448 - mean_iou: 0.6672 - val_loss: 0.0631 - val_mean_iou: 0.6748\n",
      "\n",
      "Epoch 00004: val_loss did not improve from 0.04503\n",
      "Epoch 5/200\n",
      "Changing learning rate to 0.003056\n",
      "123/122 [==============================] - 24s 191ms/step - loss: 0.0432 - mean_iou: 0.6806 - val_loss: 0.0332 - val_mean_iou: 0.6853\n",
      "\n",
      "Epoch 00005: val_loss improved from 0.04503 to 0.03324, saving model to model-tgs-salt-1.h5\n",
      "Epoch 6/200\n",
      "Changing learning rate to 0.003056\n",
      "123/122 [==============================] - 23s 190ms/step - loss: 0.0406 - mean_iou: 0.6908 - val_loss: 0.1075 - val_mean_iou: 0.6954\n",
      "\n",
      "Epoch 00006: val_loss did not improve from 0.03324\n",
      "Epoch 7/200\n",
      "Changing learning rate to 0.003056\n",
      "123/122 [==============================] - 23s 190ms/step - loss: 0.0403 - mean_iou: 0.6986 - val_loss: 0.0276 - val_mean_iou: 0.7023\n",
      "\n",
      "Epoch 00007: val_loss improved from 0.03324 to 0.02760, saving model to model-tgs-salt-1.h5\n",
      "Epoch 8/200\n",
      "Changing learning rate to 0.003056\n",
      "123/122 [==============================] - 23s 190ms/step - loss: 0.0390 - mean_iou: 0.7059 - val_loss: 0.0290 - val_mean_iou: 0.7090\n",
      "\n",
      "Epoch 00008: val_loss did not improve from 0.02760\n",
      "Epoch 9/200\n",
      "Changing learning rate to 0.003056\n",
      "123/122 [==============================] - 23s 191ms/step - loss: 0.0369 - mean_iou: 0.7124 - val_loss: 0.0577 - val_mean_iou: 0.7156\n",
      "\n",
      "Epoch 00009: val_loss did not improve from 0.02760\n",
      "Epoch 10/200\n",
      "Changing learning rate to 0.00291848\n",
      "123/122 [==============================] - 23s 191ms/step - loss: 0.0352 - mean_iou: 0.7184 - val_loss: 0.0327 - val_mean_iou: 0.7215\n",
      "\n",
      "Epoch 00010: val_loss did not improve from 0.02760\n",
      "Epoch 11/200\n",
      "Changing learning rate to 0.00291848\n",
      "123/122 [==============================] - 23s 191ms/step - loss: 0.0346 - mean_iou: 0.7247 - val_loss: 0.0271 - val_mean_iou: 0.7274\n",
      "\n",
      "Epoch 00011: val_loss improved from 0.02760 to 0.02710, saving model to model-tgs-salt-1.h5\n",
      "Epoch 12/200\n",
      "Changing learning rate to 0.00291848\n",
      "123/122 [==============================] - 23s 191ms/step - loss: 0.0342 - mean_iou: 0.7301 - val_loss: 0.0293 - val_mean_iou: 0.7322\n",
      "\n",
      "Epoch 00012: val_loss did not improve from 0.02710\n",
      "Epoch 13/200\n",
      "Changing learning rate to 0.00291848\n",
      "123/122 [==============================] - 23s 190ms/step - loss: 0.0332 - mean_iou: 0.7340 - val_loss: 0.0351 - val_mean_iou: 0.7364\n",
      "\n",
      "Epoch 00013: val_loss did not improve from 0.02710\n",
      "Epoch 14/200\n",
      "Changing learning rate to 0.00291848\n",
      "123/122 [==============================] - 23s 190ms/step - loss: 0.0332 - mean_iou: 0.7381 - val_loss: 0.0188 - val_mean_iou: 0.7403\n",
      "\n",
      "Epoch 00014: val_loss improved from 0.02710 to 0.01882, saving model to model-tgs-salt-1.h5\n",
      "Epoch 15/200\n",
      "Changing learning rate to 0.0027871484\n",
      "123/122 [==============================] - 23s 191ms/step - loss: 0.0306 - mean_iou: 0.7425 - val_loss: 0.0230 - val_mean_iou: 0.7445\n",
      "\n",
      "Epoch 00015: val_loss did not improve from 0.01882\n",
      "Epoch 16/200\n",
      "Changing learning rate to 0.0027871484\n",
      "123/122 [==============================] - 23s 191ms/step - loss: 0.0311 - mean_iou: 0.7466 - val_loss: 0.0286 - val_mean_iou: 0.7484\n",
      "\n",
      "Epoch 00016: val_loss did not improve from 0.01882\n",
      "Epoch 17/200\n",
      "Changing learning rate to 0.0027871484\n",
      "123/122 [==============================] - 23s 191ms/step - loss: 0.0314 - mean_iou: 0.7496 - val_loss: 0.0394 - val_mean_iou: 0.7512\n",
      "\n",
      "Epoch 00017: val_loss did not improve from 0.01882\n",
      "Epoch 18/200\n",
      "Changing learning rate to 0.0027871484\n",
      "123/122 [==============================] - 23s 191ms/step - loss: 0.0297 - mean_iou: 0.7528 - val_loss: 0.0208 - val_mean_iou: 0.7544\n",
      "\n",
      "Epoch 00018: val_loss did not improve from 0.01882\n",
      "Epoch 19/200\n",
      "Changing learning rate to 0.0027871484\n",
      "123/122 [==============================] - 23s 190ms/step - loss: 0.0284 - mean_iou: 0.7662 - val_loss: 0.0268 - val_mean_iou: 0.7675\n",
      "\n",
      "Epoch 00023: val_loss did not improve from 0.01882\n",
      "Epoch 24/200\n",
      "Changing learning rate to 0.002661726722\n",
      "123/122 [==============================] - 23s 190ms/step - loss: 0.0281 - mean_iou: 0.7687 - val_loss: 0.0201 - val_mean_iou: 0.7697\n",
      "\n",
      "Epoch 00024: val_loss did not improve from 0.01882\n",
      "Epoch 25/200\n",
      "Changing learning rate to 0.00254194901951\n",
      "123/122 [==============================] - 23s 191ms/step - loss: 0.0276 - mean_iou: 0.7708 - val_loss: 0.0190 - val_mean_iou: 0.7719\n",
      "\n",
      "Epoch 00025: val_loss did not improve from 0.01882\n",
      "Epoch 26/200\n",
      "Changing learning rate to 0.00254194901951\n",
      "123/122 [==============================] - 23s 191ms/step - loss: 0.0266 - mean_iou: 0.7730 - val_loss: 0.0287 - val_mean_iou: 0.7741\n",
      "\n",
      "Epoch 00026: val_loss did not improve from 0.01882\n",
      "Epoch 27/200\n",
      "Changing learning rate to 0.00254194901951\n",
      "123/122 [==============================] - 23s 189ms/step - loss: 0.0266 - mean_iou: 0.7752 - val_loss: 0.0230 - val_mean_iou: 0.7762\n",
      "\n",
      "Epoch 00027: val_loss did not improve from 0.01882\n",
      "Epoch 28/200\n",
      "Changing learning rate to 0.00254194901951\n",
      "123/122 [==============================] - 23s 187ms/step - loss: 0.0275 - mean_iou: 0.7771 - val_loss: 0.0209 - val_mean_iou: 0.7779\n",
      "\n",
      "Epoch 00028: val_loss did not improve from 0.01882\n",
      "Epoch 29/200\n",
      "Changing learning rate to 0.00254194901951\n",
      "123/122 [==============================] - 23s 187ms/step - loss: 0.0257 - mean_iou: 0.7790 - val_loss: 0.0209 - val_mean_iou: 0.7800\n",
      "\n",
      "Epoch 00029: val_loss did not improve from 0.01882\n",
      "Epoch 30/200\n",
      "Changing learning rate to 0.0024275613136320495\n",
      "123/122 [==============================] - 23s 188ms/step - loss: 0.0263 - mean_iou: 0.7810 - val_loss: 0.0370 - val_mean_iou: 0.7817\n",
      "\n",
      "Epoch 00030: val_loss did not improve from 0.01882\n",
      "Epoch 31/200\n",
      "Changing learning rate to 0.0024275613136320495\n",
      "123/122 [==============================] - 23s 187ms/step - loss: 0.0264 - mean_iou: 0.7825 - val_loss: 0.0194 - val_mean_iou: 0.7833\n",
      "\n",
      "Epoch 00031: val_loss did not improve from 0.01882\n",
      "Epoch 32/200\n",
      "Changing learning rate to 0.0024275613136320495\n",
      "123/122 [==============================] - 23s 188ms/step - loss: 0.0257 - mean_iou: 0.7841 - val_loss: 0.0224 - val_mean_iou: 0.7849\n",
      "\n",
      "Epoch 00032: val_loss did not improve from 0.01882\n",
      "Epoch 33/200\n",
      "Changing learning rate to 0.0024275613136320495\n",
      "123/122 [==============================] - 23s 188ms/step - loss: 0.0256 - mean_iou: 0.7856 - val_loss: 0.0225 - val_mean_iou: 0.7865\n",
      "\n",
      "Epoch 00033: val_loss did not improve from 0.01882\n",
      "Epoch 34/200\n",
      "Changing learning rate to 0.0024275613136320495\n",
      "123/122 [==============================] - 23s 188ms/step - loss: 0.0255 - mean_iou: 0.7872 - val_loss: 0.0221 - val_mean_iou: 0.7879\n",
      "\n",
      "Epoch 00034: val_loss did not improve from 0.01882\n",
      "Epoch 35/200\n",
      "Changing learning rate to 0.0023183210545186074\n",
      "123/122 [==============================] - 23s 188ms/step - loss: 0.0245 - mean_iou: 0.7888 - val_loss: 0.0209 - val_mean_iou: 0.7895\n",
      "\n",
      "Epoch 00035: val_loss did not improve from 0.01882\n",
      "Epoch 36/200\n",
      "Changing learning rate to 0.0023183210545186074\n",
      "123/122 [==============================] - 23s 188ms/step - loss: 0.0234 - mean_iou: 0.7904 - val_loss: 0.0174 - val_mean_iou: 0.7912\n",
      "\n",
      "Epoch 00036: val_loss improved from 0.01882 to 0.01742, saving model to model-tgs-salt-1.h5\n",
      "Epoch 37/200\n",
      "Changing learning rate to 0.0023183210545186074\n",
      "123/122 [==============================] - 23s 188ms/step - loss: 0.0240 - mean_iou: 0.7919 - val_loss: 0.0229 - val_mean_iou: 0.7927\n",
      "\n",
      "Epoch 00037: val_loss did not improve from 0.01742\n",
      "Epoch 38/200\n",
      "Changing learning rate to 0.0023183210545186074\n"
     ]
    },
    {
     "name": "stdout",
     "output_type": "stream",
     "text": [
      "123/122 [==============================] - 23s 188ms/step - loss: 0.0239 - mean_iou: 0.7933 - val_loss: 0.0217 - val_mean_iou: 0.7941\n",
      "\n",
      "Epoch 00038: val_loss did not improve from 0.01742\n",
      "Epoch 39/200\n",
      "Changing learning rate to 0.0023183210545186074\n",
      "123/122 [==============================] - 23s 187ms/step - loss: 0.0241 - mean_iou: 0.7947 - val_loss: 0.0255 - val_mean_iou: 0.7954\n",
      "\n",
      "Epoch 00039: val_loss did not improve from 0.01742\n",
      "Epoch 40/200\n",
      "Changing learning rate to 0.0022139966070652698\n",
      "123/122 [==============================] - 23s 188ms/step - loss: 0.0235 - mean_iou: 0.7960 - val_loss: 0.0255 - val_mean_iou: 0.7967\n",
      "\n",
      "Epoch 00040: val_loss did not improve from 0.01742\n",
      "Epoch 41/200\n",
      "Changing learning rate to 0.0022139966070652698\n",
      "123/122 [==============================] - 23s 190ms/step - loss: 0.0231 - mean_iou: 0.7974 - val_loss: 0.0237 - val_mean_iou: 0.7980\n",
      "\n",
      "Epoch 00041: val_loss did not improve from 0.01742\n",
      "Epoch 42/200\n",
      "Changing learning rate to 0.0022139966070652698\n",
      "123/122 [==============================] - 23s 190ms/step - loss: 0.0223 - mean_iou: 0.7987 - val_loss: 0.0216 - val_mean_iou: 0.7993\n",
      "\n",
      "Epoch 00042: val_loss did not improve from 0.01742\n",
      "Epoch 43/200\n",
      "Changing learning rate to 0.0022139966070652698\n",
      "123/122 [==============================] - 23s 191ms/step - loss: 0.0226 - mean_iou: 0.8000 - val_loss: 0.0191 - val_mean_iou: 0.8006\n",
      "\n",
      "Epoch 00043: val_loss did not improve from 0.01742\n",
      "Epoch 44/200\n",
      "Changing learning rate to 0.0022139966070652698\n",
      "123/122 [==============================] - 23s 191ms/step - loss: 0.0235 - mean_iou: 0.8012 - val_loss: 0.0220 - val_mean_iou: 0.8017\n",
      "\n",
      "Epoch 00044: val_loss did not improve from 0.01742\n",
      "Epoch 45/200\n",
      "Changing learning rate to 0.0021143667597473327\n",
      "123/122 [==============================] - 23s 191ms/step - loss: 0.0236 - mean_iou: 0.8023 - val_loss: 0.0213 - val_mean_iou: 0.8028\n",
      "\n",
      "Epoch 00045: val_loss did not improve from 0.01742\n",
      "Epoch 46/200\n",
      "Changing learning rate to 0.0021143667597473327\n",
      "123/122 [==============================] - 23s 191ms/step - loss: 0.0218 - mean_iou: 0.8034 - val_loss: 0.0245 - val_mean_iou: 0.8040\n",
      "\n",
      "Epoch 00046: val_loss did not improve from 0.01742\n",
      "Epoch 47/200\n",
      "Changing learning rate to 0.0021143667597473327\n",
      "123/122 [==============================] - 24s 191ms/step - loss: 0.0220 - mean_iou: 0.8045 - val_loss: 0.0242 - val_mean_iou: 0.8051\n",
      "\n",
      "Epoch 00047: val_loss did not improve from 0.01742\n",
      "Epoch 48/200\n",
      "Changing learning rate to 0.0021143667597473327\n",
      "123/122 [==============================] - 24s 191ms/step - loss: 0.0215 - mean_iou: 0.8057 - val_loss: 0.0218 - val_mean_iou: 0.8063\n",
      "\n",
      "Epoch 00048: val_loss did not improve from 0.01742\n",
      "Epoch 49/200\n",
      "Changing learning rate to 0.0021143667597473327\n",
      "123/122 [==============================] - 23s 190ms/step - loss: 0.0214 - mean_iou: 0.8068 - val_loss: 0.0224 - val_mean_iou: 0.8074\n",
      "\n",
      "Epoch 00049: val_loss did not improve from 0.01742\n",
      "Epoch 50/200\n",
      "Changing learning rate to 0.0020192202555587026\n",
      "123/122 [==============================] - 23s 190ms/step - loss: 0.0216 - mean_iou: 0.8079 - val_loss: 0.0202 - val_mean_iou: 0.8085\n",
      "\n",
      "Epoch 00050: val_loss did not improve from 0.01742\n",
      "Epoch 51/200\n",
      "Changing learning rate to 0.0020192202555587026\n",
      "123/122 [==============================] - 23s 190ms/step - loss: 0.0215 - mean_iou: 0.8090 - val_loss: 0.0228 - val_mean_iou: 0.8095\n",
      "\n",
      "Epoch 00051: val_loss did not improve from 0.01742\n",
      "Epoch 52/200\n",
      "Changing learning rate to 0.0020192202555587026\n",
      "123/122 [==============================] - 23s 190ms/step - loss: 0.0202 - mean_iou: 0.8101 - val_loss: 0.0209 - val_mean_iou: 0.8107\n",
      "\n",
      "Epoch 00052: val_loss did not improve from 0.01742\n",
      "Epoch 53/200\n",
      "Changing learning rate to 0.0020192202555587026\n",
      "123/122 [==============================] - 23s 191ms/step - loss: 0.0208 - mean_iou: 0.8113 - val_loss: 0.0171 - val_mean_iou: 0.8117\n",
      "\n",
      "Epoch 00053: val_loss improved from 0.01742 to 0.01713, saving model to model-tgs-salt-1.h5\n",
      "Epoch 54/200\n",
      "Changing learning rate to 0.0020192202555587026\n",
      "123/122 [==============================] - 23s 190ms/step - loss: 0.0199 - mean_iou: 0.8122 - val_loss: 0.0236 - val_mean_iou: 0.8128\n",
      "\n",
      "Epoch 00054: val_loss did not improve from 0.01713\n",
      "Epoch 55/200\n",
      "Changing learning rate to 0.0019283553440585608\n",
      "123/122 [==============================] - 23s 190ms/step - loss: 0.0209 - mean_iou: 0.8133 - val_loss: 0.0185 - val_mean_iou: 0.8138\n",
      "\n",
      "Epoch 00055: val_loss did not improve from 0.01713\n",
      "Epoch 56/200\n",
      "Changing learning rate to 0.0019283553440585608\n",
      "123/122 [==============================] - 23s 190ms/step - loss: 0.0204 - mean_iou: 0.8142 - val_loss: 0.0255 - val_mean_iou: 0.8147\n",
      "\n",
      "Epoch 00056: val_loss did not improve from 0.01713\n",
      "Epoch 57/200\n",
      "Changing learning rate to 0.0019283553440585608\n",
      "123/122 [==============================] - 23s 190ms/step - loss: 0.0200 - mean_iou: 0.8152 - val_loss: 0.0231 - val_mean_iou: 0.8157\n",
      "\n",
      "Epoch 00057: val_loss did not improve from 0.01713\n",
      "Epoch 58/200\n",
      "Changing learning rate to 0.0019283553440585608\n",
      "123/122 [==============================] - 23s 190ms/step - loss: 0.0204 - mean_iou: 0.8161 - val_loss: 0.0218 - val_mean_iou: 0.8166\n",
      "\n",
      "Epoch 00058: val_loss did not improve from 0.01713\n",
      "Epoch 59/200\n",
      "Changing learning rate to 0.0019283553440585608\n",
      "123/122 [==============================] - 23s 190ms/step - loss: 0.0198 - mean_iou: 0.8171 - val_loss: 0.0234 - val_mean_iou: 0.8175\n",
      "\n",
      "Epoch 00059: val_loss did not improve from 0.01713\n",
      "Epoch 60/200\n",
      "Changing learning rate to 0.0018415793535759254\n",
      "123/122 [==============================] - 23s 190ms/step - loss: 0.0197 - mean_iou: 0.8179 - val_loss: 0.0213 - val_mean_iou: 0.8184\n",
      "\n",
      "Epoch 00060: val_loss did not improve from 0.01713\n",
      "Epoch 61/200\n",
      "Changing learning rate to 0.0018415793535759254\n",
      "123/122 [==============================] - 23s 190ms/step - loss: 0.0192 - mean_iou: 0.8189 - val_loss: 0.0221 - val_mean_iou: 0.8193\n",
      "\n",
      "Epoch 00061: val_loss did not improve from 0.01713\n",
      "Epoch 62/200\n",
      "Changing learning rate to 0.0018415793535759254\n",
      "123/122 [==============================] - 23s 190ms/step - loss: 0.0186 - mean_iou: 0.8198 - val_loss: 0.0220 - val_mean_iou: 0.8203\n",
      "\n",
      "Epoch 00062: val_loss did not improve from 0.01713\n",
      "Epoch 63/200\n",
      "Changing learning rate to 0.0018415793535759254\n",
      "123/122 [==============================] - 23s 190ms/step - loss: 0.0189 - mean_iou: 0.8207 - val_loss: 0.0216 - val_mean_iou: 0.8212\n",
      "\n",
      "Epoch 00063: val_loss did not improve from 0.01713\n",
      "Epoch 64/200\n",
      "Changing learning rate to 0.0018415793535759254\n",
      "123/122 [==============================] - 23s 191ms/step - loss: 0.0188 - mean_iou: 0.8216 - val_loss: 0.0227 - val_mean_iou: 0.8221\n",
      "\n",
      "Epoch 00064: val_loss did not improve from 0.01713\n",
      "Epoch 65/200\n",
      "Changing learning rate to 0.0017587082826650087\n",
      "123/122 [==============================] - 23s 190ms/step - loss: 0.0195 - mean_iou: 0.8225 - val_loss: 0.0224 - val_mean_iou: 0.8229\n",
      "\n",
      "Epoch 00065: val_loss did not improve from 0.01713\n",
      "Epoch 66/200\n",
      "Changing learning rate to 0.0017587082826650087\n",
      "123/122 [==============================] - 23s 190ms/step - loss: 0.0183 - mean_iou: 0.8233 - val_loss: 0.0292 - val_mean_iou: 0.8237\n",
      "\n",
      "Epoch 00066: val_loss did not improve from 0.01713\n",
      "Epoch 67/200\n",
      "Changing learning rate to 0.0017587082826650087\n",
      "123/122 [==============================] - 23s 190ms/step - loss: 0.0189 - mean_iou: 0.8241 - val_loss: 0.0228 - val_mean_iou: 0.8245\n",
      "\n",
      "Epoch 00067: val_loss did not improve from 0.01713\n",
      "Epoch 68/200\n",
      "Changing learning rate to 0.0017587082826650087\n",
      "123/122 [==============================] - 23s 190ms/step - loss: 0.0184 - mean_iou: 0.8249 - val_loss: 0.0208 - val_mean_iou: 0.8253\n",
      "\n",
      "Epoch 00068: val_loss did not improve from 0.01713\n",
      "Epoch 69/200\n",
      "Changing learning rate to 0.0017587082826650087\n",
      "123/122 [==============================] - 23s 190ms/step - loss: 0.0190 - mean_iou: 0.8257 - val_loss: 0.0245 - val_mean_iou: 0.8261\n",
      "\n",
      "Epoch 00069: val_loss did not improve from 0.01713\n",
      "Epoch 70/200\n",
      "Changing learning rate to 0.0016795664099450833\n",
      "123/122 [==============================] - 23s 190ms/step - loss: 0.0178 - mean_iou: 0.8265 - val_loss: 0.0234 - val_mean_iou: 0.8269\n",
      "\n",
      "Epoch 00070: val_loss did not improve from 0.01713\n",
      "Epoch 71/200\n",
      "Changing learning rate to 0.0016795664099450833\n"
     ]
    },
    {
     "name": "stdout",
     "output_type": "stream",
     "text": [
      "123/122 [==============================] - 23s 190ms/step - loss: 0.0183 - mean_iou: 0.8273 - val_loss: 0.0207 - val_mean_iou: 0.8276\n",
      "\n",
      "Epoch 00071: val_loss did not improve from 0.01713\n",
      "Epoch 72/200\n",
      "Changing learning rate to 0.0016795664099450833\n",
      "123/122 [==============================] - 23s 190ms/step - loss: 0.0177 - mean_iou: 0.8280 - val_loss: 0.0208 - val_mean_iou: 0.8284\n",
      "\n",
      "Epoch 00072: val_loss did not improve from 0.01713\n",
      "Epoch 73/200\n",
      "Changing learning rate to 0.0016795664099450833\n",
      "123/122 [==============================] - 23s 190ms/step - loss: 0.0168 - mean_iou: 0.8289 - val_loss: 0.0225 - val_mean_iou: 0.8293\n",
      "\n",
      "Epoch 00073: val_loss did not improve from 0.01713\n",
      "Epoch 74/200\n",
      "Changing learning rate to 0.0016795664099450833\n",
      "123/122 [==============================] - 23s 190ms/step - loss: 0.0185 - mean_iou: 0.8296 - val_loss: 0.0197 - val_mean_iou: 0.8300\n",
      "\n",
      "Epoch 00074: val_loss did not improve from 0.01713\n",
      "Epoch 75/200\n",
      "Changing learning rate to 0.0016039859214975543\n",
      "123/122 [==============================] - 23s 191ms/step - loss: 0.0176 - mean_iou: 0.8303 - val_loss: 0.0211 - val_mean_iou: 0.8307\n",
      "\n",
      "Epoch 00075: val_loss did not improve from 0.01713\n",
      "Epoch 76/200\n",
      "Changing learning rate to 0.0016039859214975543\n",
      "123/122 [==============================] - 23s 190ms/step - loss: 0.0174 - mean_iou: 0.8311 - val_loss: 0.0265 - val_mean_iou: 0.8314\n",
      "\n",
      "Epoch 00076: val_loss did not improve from 0.01713\n",
      "Epoch 77/200\n",
      "Changing learning rate to 0.0016039859214975543\n",
      "123/122 [==============================] - 23s 190ms/step - loss: 0.0171 - mean_iou: 0.8318 - val_loss: 0.0223 - val_mean_iou: 0.8322\n",
      "\n",
      "Epoch 00077: val_loss did not improve from 0.01713\n",
      "Epoch 78/200\n",
      "Changing learning rate to 0.0016039859214975543\n",
      "123/122 [==============================] - 23s 190ms/step - loss: 0.0169 - mean_iou: 0.8326 - val_loss: 0.0204 - val_mean_iou: 0.8329\n",
      "\n",
      "Epoch 00078: val_loss did not improve from 0.01713\n",
      "Epoch 00078: early stopping\n"
     ]
    }
   ],
   "source": [
    "earlystopper = EarlyStopping(patience=35, verbose=1)\n",
    "checkpointer = ModelCheckpoint('model-tgs-salt-1.h5', verbose=1, save_best_only=True)\n",
    "#results = model.fit([X_train0, d_train0], Y_train0, validation_split=0.08, batch_size=16, epochs=100, \n",
    "#                    callbacks=[earlystopper, checkpointer, lrate])\n",
    "\n",
    "results = model.fit_generator(train_generator, epochs=200, steps_per_epoch=len(X_train0) / 32, \n",
    "                              validation_data=( [X_val, d_val], Y_val),\n",
    "                              callbacks=[earlystopper, checkpointer, lrate])\n"
   ]
  },
  {
   "cell_type": "code",
   "execution_count": 46,
   "metadata": {
    "colab": {
     "base_uri": "https://localhost:8080/",
     "height": 34
    },
    "colab_type": "code",
    "id": "Ll6kIRmGJ2v2",
    "outputId": "8fb91aa3-0315-480f-acb2-543fcc4193fe"
   },
   "outputs": [
    {
     "name": "stdout",
     "output_type": "stream",
     "text": [
      "dict_keys(['val_loss', 'val_mean_iou', 'loss', 'mean_iou'])\n"
     ]
    }
   ],
   "source": [
    "# list all data in history\n",
    "print(results.history.keys())"
   ]
  },
  {
   "cell_type": "code",
   "execution_count": 47,
   "metadata": {
    "colab": {
     "base_uri": "https://localhost:8080/",
     "height": 571
    },
    "colab_type": "code",
    "id": "RWk2IN87A49p",
    "outputId": "5b07b05f-5e05-4b39-a4e3-2dd258fc137d"
   },
   "outputs": [
    {
     "data": {
      "image/png": "[encoded data removed]",
      "text/plain": [
       "<matplotlib.figure.Figure at 0x7f3e9a9b1208>"
      ]
     },
     "metadata": {
      "tags": []
     },
     "output_type": "display_data"
    },
    {
     "data": {
      "image/png": "[encoded data removed]",
      "text/plain": [
       "<matplotlib.figure.Figure at 0x7f3e9aa7ae80>"
      ]
     },
     "metadata": {
      "tags": []
     },
     "output_type": "display_data"
    }
   ],
   "source": [
    "# summarize history for intersestion over union\n",
    "plt.plot(results.history['mean_iou'])\n",
    "plt.plot(results.history['val_mean_iou'])\n",
    "plt.title('model IoU')\n",
    "plt.ylabel('accuracy')\n",
    "plt.xlabel('epoch')\n",
    "plt.legend(['train', 'test'], loc='upper left')\n",
    "plt.show()\n",
    "# summarize history for loss\n",
    "plt.plot(results.history['loss'])\n",
    "plt.plot(results.history['val_loss'])\n",
    "plt.title('model loss')\n",
    "plt.ylabel('loss')\n",
    "plt.xlabel('epoch')\n",
    "plt.legend(['train', 'test'], loc='upper left')\n",
    "plt.show()"
   ]
  },
  {
   "cell_type": "code",
   "execution_count": 40,
   "metadata": {
    "colab": {},
    "colab_type": "code",
    "id": "WCNIv44tdRzN"
   },
   "outputs": [],
   "source": []
  },
  {
   "cell_type": "code",
   "execution_count": 0,
   "metadata": {
    "colab": {},
    "colab_type": "code",
    "id": "XW_rfkR1dWKs"
   },
   "outputs": [],
   "source": [
    "model = load_model('model-tgs-salt-1.h5', custom_objects={'mean_iou': mean_iou, 'relu6':relu6,'BilinearUpsampling':BilinearUpsampling, 'dice_loss' : dice_loss}) #, 'ReflectionPadding2D' : ReflectionPadding2D})\n",
    "#model.save('model-tgs-salt-1.h5')"
   ]
  },
  {
   "cell_type": "code",
   "execution_count": 0,
   "metadata": {
    "colab": {},
    "colab_type": "code",
    "id": "qNr4jF7z4gZd"
   },
   "outputs": [],
   "source": [
    "#from google.colab import files\n",
    "#files.download('model-tgs-salt-1.h5')\n",
    "#files.upload()"
   ]
  },
  {
   "cell_type": "code",
   "execution_count": 42,
   "metadata": {
    "colab": {
     "base_uri": "https://localhost:8080/",
     "height": 51
    },
    "colab_type": "code",
    "id": "8XSdRAqCdYfF",
    "outputId": "e6c5ecde-a26f-4e6c-a61f-f197d85310de"
   },
   "outputs": [
    {
     "name": "stdout",
     "output_type": "stream",
     "text": [
      "3920/3920 [==============================] - 8s 2ms/step\n",
      "80/80 [==============================] - 0s 2ms/step\n"
     ]
    }
   ],
   "source": [
    "preds_train = model.predict([X_train0, d_train0], verbose=1)\n",
    "preds_val = model.predict([X_val, d_val], verbose=1)"
   ]
  },
  {
   "cell_type": "code",
   "execution_count": 43,
   "metadata": {
    "colab": {
     "base_uri": "https://localhost:8080/",
     "height": 34
    },
    "colab_type": "code",
    "id": "8T71Irhvda5m",
    "outputId": "51b5c269-8f37-4b1a-8053-b376c42030dc"
   },
   "outputs": [
    {
     "name": "stderr",
     "output_type": "stream",
     "text": [
      "100%|██████████| 11/11 [01:09<00:00,  6.35s/it]\n"
     ]
    }
   ],
   "source": [
    "threshList = []\n",
    "IoUList = []\n",
    "IoUValList = []\n",
    "for kk in tqdm(range(21)):\n",
    "    thresh = (1+kk)/21\n",
    "    threshList.append(thresh)\n",
    "    preds_train_t = (preds_train > thresh).astype(np.uint8)\n",
    "    preds_val_t = (preds_val > thresh).astype(np.uint8)\n",
    "    meanIoU = np.array([ModelUNet.IoU(preds_train_t[i], Y_train0[i]) for i in range(Y_train0.shape[0])])\n",
    "    IoUList.append(np.mean(meanIoU) )\n",
    "    meanIoUVal = np.array([ModelUNet.IoU(preds_val_t[i], Y_val[i]) for i in range(Y_val.shape[0])])\n",
    "    IoUValList.append(np.mean(meanIoUVal) )"
   ]
  },
  {
   "cell_type": "code",
   "execution_count": 44,
   "metadata": {
    "colab": {
     "base_uri": "https://localhost:8080/",
     "height": 311
    },
    "colab_type": "code",
    "id": "wg0NipGnddCw",
    "outputId": "c45fb827-da83-4a10-c766-023300ab3329"
   },
   "outputs": [
    {
     "data": {
      "text/plain": [
       "[<matplotlib.lines.Line2D at 0x7f4e294cdcc0>]"
      ]
     },
     "execution_count": 44,
     "metadata": {},
     "output_type": "execute_result"
    },
    {
     "data": {
      "image/png": "[encoded data removed]",
      "text/plain": [
       "<Figure size 432x288 with 1 Axes>"
      ]
     },
     "metadata": {},
     "output_type": "display_data"
    }
   ],
   "source": [
    "plt.title('IoU curve')\n",
    "plt.ylabel('IoU')\n",
    "plt.xlabel('threshold')\n",
    "\n",
    "plt.plot(threshList, IoUList)\n",
    "plt.plot(threshList, IoUValList)"
   ]
  },
  {
   "cell_type": "code",
   "execution_count": 45,
   "metadata": {
    "colab": {
     "base_uri": "https://localhost:8080/",
     "height": 34
    },
    "colab_type": "code",
    "id": "cQ_VOkO0de6p",
    "outputId": "b5e9961b-2792-4064-9f30-8daefce31eee"
   },
   "outputs": [
    {
     "name": "stdout",
     "output_type": "stream",
     "text": [
      "Thresh: 0.9090909090909091  ExpectedIoU: 0.608061224489796\n"
     ]
    }
   ],
   "source": [
    "thresh = threshList[np.argmax(IoUValList)]\n",
    "print('Thresh: {}  ExpectedIoU: {}'.format(thresh, max(IoUValList)))"
   ]
  },
  {
   "cell_type": "code",
   "execution_count": 47,
   "metadata": {
    "colab": {},
    "colab_type": "code",
    "id": "kor6dfuWkRgL"
   },
   "outputs": [],
   "source": [
    "thresh = 0.5"
   ]
  },
  {
   "cell_type": "markdown",
   "metadata": {
    "colab_type": "text",
    "id": "WC_JYxpGKQcj"
   },
   "source": [
    "# Predictions"
   ]
  },
  {
   "cell_type": "code",
   "execution_count": 50,
   "metadata": {},
   "outputs": [
    {
     "name": "stderr",
     "output_type": "stream",
     "text": [
      "  0%|          | 36/18000 [00:00<00:50, 357.64it/s]"
     ]
    },
    {
     "name": "stdout",
     "output_type": "stream",
     "text": [
      "Getting images and masks ... \n"
     ]
    },
    {
     "name": "stderr",
     "output_type": "stream",
     "text": [
      "100%|██████████| 18000/18000 [00:47<00:00, 375.91it/s]\n"
     ]
    }
   ],
   "source": [
    "X_test, d_test = ImageReader.ReadSegmentationImages(testFolder, depthFile, readMasks = False)"
   ]
  },
  {
   "cell_type": "code",
   "execution_count": 52,
   "metadata": {
    "colab": {
     "base_uri": "https://localhost:8080/",
     "height": 68
    },
    "colab_type": "code",
    "id": "UQY0LPqMNf3G",
    "outputId": "17457a35-2bd0-422e-cac3-a28224ac61aa"
   },
   "outputs": [
    {
     "name": "stdout",
     "output_type": "stream",
     "text": [
      "3920/3920 [==============================] - 7s 2ms/step\n",
      "80/80 [==============================] - 0s 2ms/step\n",
      "18000/18000 [==============================] - 34s 2ms/step\n"
     ]
    }
   ],
   "source": [
    "model_array = [\n",
    "               #load_model('model-tgs-salt-Resnet.h5', custom_objects={'mean_iou': mean_iou, 'ReflectionPadding2D' : ReflectionPadding2D}),\n",
    "               #load_model('model-tgs-salt-ReflecConv.h5', custom_objects={'mean_iou': mean_iou, 'ReflectionPadding2D' : ReflectionPadding2D}),\n",
    "               #load_model('model-tgs-salt-Incep1.h5', custom_objects={'mean_iou': mean_iou, 'ReflectionPadding2D' : ReflectionPadding2D}),\n",
    "              ]\n",
    "\n",
    "# Predict on train, val and test\n",
    "\n",
    "preds_train = model.predict([X_train0, d_train0], verbose=1)\n",
    "preds_val = model.predict([X_val, d_val], verbose=1)\n",
    "preds_test = model.predict([X_test, d_test], verbose=1)\n",
    "\n",
    "for savedModel in model_array:\n",
    "    preds_train += savedModel.predict([X_train0, d_train0], verbose=1)\n",
    "    preds_val += savedModel.predict([X_val, d_val], verbose=1)\n",
    "    preds_test += savedModel.predict([X_test, d_test], verbose=1)\n",
    "\n",
    "preds_train /= 1+len(model_array)\n",
    "preds_val /= 1+len(model_array)\n",
    "preds_test /= 1+len(model_array)\n",
    "\n",
    "\n",
    "# Threshold predictions\n",
    "preds_train_t = (preds_train > thresh).astype(np.uint8)\n",
    "preds_val_t = (preds_val > thresh).astype(np.uint8)\n",
    "preds_test_t = (preds_test > thresh).astype(np.uint8)\n"
   ]
  },
  {
   "cell_type": "code",
   "execution_count": 53,
   "metadata": {
    "colab": {
     "base_uri": "https://localhost:8080/",
     "height": 34
    },
    "colab_type": "code",
    "id": "ynhnACAcOv19",
    "outputId": "258dcbca-5a36-41fa-8445-a97d02b3f0ff"
   },
   "outputs": [
    {
     "data": {
      "text/plain": [
       "(18000, 101, 101, 1)"
      ]
     },
     "execution_count": 53,
     "metadata": {},
     "output_type": "execute_result"
    }
   ],
   "source": [
    "preds_test_t.shape"
   ]
  },
  {
   "cell_type": "code",
   "execution_count": 54,
   "metadata": {
    "colab": {
     "base_uri": "https://localhost:8080/",
     "height": 770
    },
    "colab_type": "code",
    "id": "ttiEeIo-PJcP",
    "outputId": "976df606-8d4b-4bdf-e457-d1c713753a07"
   },
   "outputs": [
    {
     "data": {
      "image/png": "[encoded data removed]",
      "text/plain": [
       "<Figure size 432x288 with 1 Axes>"
      ]
     },
     "metadata": {},
     "output_type": "display_data"
    },
    {
     "data": {
      "image/png": "[encoded data removed]",
      "text/plain": [
       "<Figure size 432x288 with 1 Axes>"
      ]
     },
     "metadata": {},
     "output_type": "display_data"
    },
    {
     "data": {
      "image/png": "[encoded data removed]",
      "text/plain": [
       "<Figure size 432x288 with 1 Axes>"
      ]
     },
     "metadata": {},
     "output_type": "display_data"
    }
   ],
   "source": [
    "# Perform a sanity check on some random training samples\n",
    "ix = np.random.randint(0, len(preds_train_t))\n",
    "plt.imshow(X_train[ix,:,:,0])\n",
    "plt.show()\n",
    "#plt.imshow(Y_train[ix,:,:,0])\n",
    "tmp = np.squeeze(Y_train[ix]).astype(np.float32)\n",
    "plt.imshow(np.dstack((tmp,tmp,tmp)))\n",
    "plt.show()\n",
    "tmp = np.squeeze(preds_train_t[ix]).astype(np.float32)\n",
    "plt.imshow(np.dstack((tmp,tmp,tmp)))\n",
    "plt.show()"
   ]
  },
  {
   "cell_type": "code",
   "execution_count": 55,
   "metadata": {
    "colab": {
     "base_uri": "https://localhost:8080/",
     "height": 34
    },
    "colab_type": "code",
    "id": "I-a2-DznPRkG",
    "outputId": "30a99f22-1449-44e4-d816-a09a43a3e5d2"
   },
   "outputs": [
    {
     "data": {
      "text/plain": [
       "409"
      ]
     },
     "execution_count": 55,
     "metadata": {},
     "output_type": "execute_result"
    }
   ],
   "source": [
    "lowPixCount = [imgId for imgId in range(len(preds_test_t)) if preds_test_t[imgId].sum() < 10 and preds_test_t[imgId].sum() > 0]\n",
    "len(lowPixCount)"
   ]
  },
  {
   "cell_type": "code",
   "execution_count": 0,
   "metadata": {
    "colab": {},
    "colab_type": "code",
    "id": "EImEPKhwNiVC"
   },
   "outputs": [],
   "source": [
    "for imId in lowPixCount:\n",
    "    preds_test_t[imId]=np.zeros( (101,101,1) )"
   ]
  },
  {
   "cell_type": "markdown",
   "metadata": {
    "colab_type": "text",
    "id": "3Eggn5qvQEdp"
   },
   "source": [
    "# Prepare Submission"
   ]
  },
  {
   "cell_type": "code",
   "execution_count": 36,
   "metadata": {
    "colab": {
     "base_uri": "https://localhost:8080/",
     "height": 51
    },
    "colab_type": "code",
    "id": "85EJ-_UNQkPw",
    "outputId": "96aae08f-f7e8-4a32-ab3c-9655f55fce48"
   },
   "outputs": [
    {
     "name": "stdout",
     "output_type": "stream",
     "text": [
      "(18000, 101, 101, 1)\n",
      "(18000, 101, 101)\n"
     ]
    }
   ],
   "source": [
    "print(preds_test_t.shape)\n",
    "preds_test = preds_test_t.reshape(preds_test_t.shape[0], preds_test_t.shape[1], preds_test_t.shape[2])\n",
    "print(preds_test.shape)"
   ]
  },
  {
   "cell_type": "code",
   "execution_count": 0,
   "metadata": {
    "colab": {},
    "colab_type": "code",
    "id": "Y5-1fLTJQGDo"
   },
   "outputs": [],
   "source": [
    "def RLenc(img, order='F', format=True):\n",
    "    \"\"\"\n",
    "    img is binary mask image, shape (r,c)\n",
    "    order is down-then-right, i.e. Fortran\n",
    "    format determines if the order needs to be preformatted (according to submission rules) or not\n",
    "\n",
    "    returns run length as an array or string (if format is True)\n",
    "    \"\"\"\n",
    "    bytes = img.reshape(img.shape[0] * img.shape[1], order=order)\n",
    "    runs = []  ## list of run lengths\n",
    "    r = 0  ## the current run length\n",
    "    pos = 1  ## count starts from 1 per WK\n",
    "    for c in bytes:\n",
    "        if (c == 0):\n",
    "            if r != 0:\n",
    "                runs.append((pos, r))\n",
    "                pos += r\n",
    "                r = 0\n",
    "            pos += 1\n",
    "        else:\n",
    "            r += 1\n",
    "\n",
    "    # if last run is unsaved (i.e. data ends with 1)\n",
    "    if r != 0:\n",
    "        runs.append((pos, r))\n",
    "        pos += r\n",
    "        r = 0\n",
    "\n",
    "    if format:\n",
    "        z = ''\n",
    "\n",
    "        for rr in runs:\n",
    "            z += '{} {} '.format(rr[0], rr[1])\n",
    "        return z[:-1]\n",
    "    else:\n",
    "        return runs\n",
    "\n",
    "#pred_dict = {fn[:-4]:RLenc(np.round(preds_test[i])) for i,fn in tqdm(enumerate(test_ids))}\n",
    "pred_dict = {fn[:-4]:RLenc(np.round(preds_test[i])) for i,fn in (enumerate(test_ids))}"
   ]
  },
  {
   "cell_type": "code",
   "execution_count": 0,
   "metadata": {
    "colab": {},
    "colab_type": "code",
    "id": "7Nm1w6_RQJqw"
   },
   "outputs": [],
   "source": [
    "sub = pd.DataFrame.from_dict(pred_dict,orient='index')\n",
    "sub.index.names = ['id']\n",
    "sub.columns = ['rle_mask']\n",
    "sub.to_csv('submission.csv')"
   ]
  },
  {
   "cell_type": "code",
   "execution_count": 39,
   "metadata": {
    "colab": {
     "base_uri": "https://localhost:8080/",
     "height": 85
    },
    "colab_type": "code",
    "id": "L5BqBHZbWPe3",
    "outputId": "ddfb96ce-0779-424b-caa9-a8d5e89ba18a"
   },
   "outputs": [
    {
     "name": "stdout",
     "output_type": "stream",
     "text": [
      "creating archive\n",
      "adding with compression mode deflated\n",
      "closing\n",
      "submission.zip\n"
     ]
    }
   ],
   "source": [
    "import zipfile\n",
    "try:\n",
    "    import zlib\n",
    "    compression = zipfile.ZIP_DEFLATED\n",
    "except:\n",
    "    compression = zipfile.ZIP_STORED\n",
    "\n",
    "modes = { zipfile.ZIP_DEFLATED: 'deflated',\n",
    "          zipfile.ZIP_STORED:   'stored',\n",
    "          }\n",
    "\n",
    "print('creating archive')\n",
    "zf = zipfile.ZipFile('submission.zip', mode='w')\n",
    "try:\n",
    "    print('adding with compression mode {}'.format(modes[compression]))\n",
    "    zf.write('submission.csv', compress_type=compression)\n",
    "finally:\n",
    "    print('closing')\n",
    "    zf.close()\n",
    "\n",
    "print('submission.zip')"
   ]
  },
  {
   "cell_type": "code",
   "execution_count": 0,
   "metadata": {
    "colab": {},
    "colab_type": "code",
    "id": "nqzGcwV9nPqO"
   },
   "outputs": [],
   "source": []
  },
  {
   "cell_type": "code",
   "execution_count": 40,
   "metadata": {
    "colab": {
     "base_uri": "https://localhost:8080/",
     "height": 34
    },
    "colab_type": "code",
    "id": "xYN4cqUumso9",
    "outputId": "27d0b919-8289-483d-cf86-b086b5390a76"
   },
   "outputs": [
    {
     "name": "stdout",
     "output_type": "stream",
     "text": [
      "Successfully submitted to TGS Salt Identification Challenge"
     ]
    }
   ],
   "source": [
    "!kaggle competitions submit -c tgs-salt-identification-challenge -f submission.zip -m \"Deeplab xception + median filter on input\""
   ]
  },
  {
   "cell_type": "code",
   "execution_count": 0,
   "metadata": {
    "colab": {},
    "colab_type": "code",
    "id": "v4duZsutRQqC"
   },
   "outputs": [],
   "source": [
    "from google.colab import files\n",
    "files.download('submission.zip')"
   ]
  }
 ],
 "metadata": {
  "accelerator": "GPU",
  "colab": {
   "collapsed_sections": [
    "yRUBTFaQXB_X"
   ],
   "name": "Kaggle TGS Seismic",
   "provenance": [],
   "version": "0.3.2"
  },
  "kernelspec": {
   "display_name": "Python [default]",
   "language": "python",
   "name": "python3"
  },
  "language_info": {
   "codemirror_mode": {
    "name": "ipython",
    "version": 3
   },
   "file_extension": ".py",
   "mimetype": "text/x-python",
   "name": "python",
   "nbconvert_exporter": "python",
   "pygments_lexer": "ipython3",
   "version": "3.5.5"
  }
 },
 "nbformat": 4,
 "nbformat_minor": 1
}
