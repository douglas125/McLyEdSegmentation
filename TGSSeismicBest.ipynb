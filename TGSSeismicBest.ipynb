{
 "cells": [
  {
   "cell_type": "markdown",
   "metadata": {
    "colab_type": "text",
    "id": "mf2ENBI217Zd"
   },
   "source": [
    "# Kaggle TGS Geoseismic competition"
   ]
  },
  {
   "cell_type": "code",
   "execution_count": 0,
   "metadata": {
    "colab": {},
    "colab_type": "code",
    "id": "rj16RaitOMtB"
   },
   "outputs": [],
   "source": [
    "!wget -q https://raw.githubusercontent.com/douglas125/McLyEdSegmentation/master/DeepLabv3Plus.py\n",
    "!wget -q https://raw.githubusercontent.com/douglas125/McLyEdSegmentation/master/ImageReader.py\n",
    "!wget -q https://raw.githubusercontent.com/douglas125/McLyEdSegmentation/master/ModelUNet.py\n",
    "!wget -q https://raw.githubusercontent.com/douglas125/McLyEdSegmentation/master/models.py\n",
    "!wget -q https://raw.githubusercontent.com/douglas125/McLyEdSegmentation/master/requirements.txt"
   ]
  },
  {
   "cell_type": "code",
   "execution_count": 0,
   "metadata": {
    "colab": {},
    "colab_type": "code",
    "id": "YMvFLpBQlBTR"
   },
   "outputs": [],
   "source": [
    "!pip install -r requirements.txt"
   ]
  },
  {
   "cell_type": "code",
   "execution_count": 4,
   "metadata": {
    "colab": {
     "base_uri": "https://localhost:8080/",
     "height": 34
    },
    "colab_type": "code",
    "executionInfo": {
     "elapsed": 26962,
     "status": "ok",
     "timestamp": 1534524503707,
     "user": {
      "displayName": "Luiz Edmundo Mizutani",
      "photoUrl": "//lh3.googleusercontent.com/-Rw_nbV34Ht4/AAAAAAAAAAI/AAAAAAAAPVQ/alhcabwDDGU/s50-c-k-no/photo.jpg",
      "userId": "115383070328375888392"
     },
     "user_tz": 180
    },
    "id": "y5_288BYp6H1",
    "outputId": "a83f065c-ab01-41fb-9264-14a555b71c13"
   },
   "outputs": [
    {
     "name": "stdout",
     "output_type": "stream",
     "text": [
      "Download 100%.\n"
     ]
    }
   ],
   "source": [
    "from googleapiclient.discovery import build\n",
    "import io, os\n",
    "from googleapiclient.http import MediaIoBaseDownload\n",
    "from google.colab import auth\n",
    "\n",
    "auth.authenticate_user()\n",
    "\n",
    "drive_service = build('drive', 'v3')\n",
    "results = drive_service.files().list(\n",
    "        q=\"name = 'kaggle.json'\", fields=\"files(id)\").execute()\n",
    "kaggle_api_key = results.get('files', [])\n",
    "\n",
    "filename = \"/content/.kaggle/kaggle.json\"\n",
    "os.makedirs(os.path.dirname(filename), exist_ok=True)\n",
    "\n",
    "request = drive_service.files().get_media(fileId=kaggle_api_key[0]['id'])\n",
    "fh = io.FileIO(filename, 'wb')\n",
    "downloader = MediaIoBaseDownload(fh, request)\n",
    "done = False\n",
    "while done is False:\n",
    "    status, done = downloader.next_chunk()\n",
    "    print(\"Download %d%%.\" % int(status.progress() * 100))\n",
    "os.chmod(filename, 600)"
   ]
  },
  {
   "cell_type": "code",
   "execution_count": 0,
   "metadata": {
    "colab": {},
    "colab_type": "code",
    "id": "5l1V_oxXsZ8l"
   },
   "outputs": [],
   "source": [
    "!mkdir ~/.kaggle\n",
    "!cp /content/.kaggle/kaggle.json ~/.kaggle/kaggle.json"
   ]
  },
  {
   "cell_type": "code",
   "execution_count": 0,
   "metadata": {
    "colab": {},
    "colab_type": "code",
    "id": "L-MSBCgPkI9V"
   },
   "outputs": [],
   "source": [
    "!kaggle competitions download -c tgs-salt-identification-challenge"
   ]
  },
  {
   "cell_type": "markdown",
   "metadata": {
    "colab_type": "text",
    "id": "wt72EaD62qHM"
   },
   "source": [
    "# Data Exploration"
   ]
  },
  {
   "cell_type": "code",
   "execution_count": 0,
   "metadata": {
    "colab": {},
    "colab_type": "code",
    "id": "FaCbaUks2TN2"
   },
   "outputs": [],
   "source": [
    "import zipfile\n",
    "zip_ref = zipfile.ZipFile('train.zip', 'r')\n",
    "zip_ref.extractall('tgs-salt-identification-challenge/trainData')\n",
    "zip_ref.close()"
   ]
  },
  {
   "cell_type": "code",
   "execution_count": 0,
   "metadata": {
    "colab": {},
    "colab_type": "code",
    "id": "T9NE1-oF8UGv"
   },
   "outputs": [],
   "source": [
    "zip_ref = zipfile.ZipFile('test.zip', 'r')\n",
    "zip_ref.extractall('tgs-salt-identification-challenge/testData')\n",
    "zip_ref.close()"
   ]
  },
  {
   "cell_type": "code",
   "execution_count": 8,
   "metadata": {
    "colab": {
     "base_uri": "https://localhost:8080/",
     "height": 34
    },
    "colab_type": "code",
    "executionInfo": {
     "elapsed": 732,
     "status": "ok",
     "timestamp": 1534524523775,
     "user": {
      "displayName": "Luiz Edmundo Mizutani",
      "photoUrl": "//lh3.googleusercontent.com/-Rw_nbV34Ht4/AAAAAAAAAAI/AAAAAAAAPVQ/alhcabwDDGU/s50-c-k-no/photo.jpg",
      "userId": "115383070328375888392"
     },
     "user_tz": 180
    },
    "id": "bYDGN_2W6Pmp",
    "outputId": "336b4717-fda8-4836-afc0-7d530205c87a"
   },
   "outputs": [
    {
     "name": "stderr",
     "output_type": "stream",
     "text": [
      "Using TensorFlow backend.\n"
     ]
    }
   ],
   "source": [
    "import os\n",
    "\n",
    "import pandas as pd\n",
    "import numpy as np\n",
    "import matplotlib.pyplot as plt\n",
    "%matplotlib inline\n",
    "from keras.preprocessing.image import ImageDataGenerator, array_to_img, img_to_array, load_img\n",
    "from tqdm import tqdm_notebook, tnrange, tqdm\n",
    "\n",
    "from scipy.signal import medfilt2d"
   ]
  },
  {
   "cell_type": "code",
   "execution_count": 0,
   "metadata": {
    "colab": {},
    "colab_type": "code",
    "id": "cWYuS0Zx5xIz"
   },
   "outputs": [],
   "source": [
    "trainFolder = 'tgs-salt-identification-challenge/trainData/'\n",
    "testFolder  = 'tgs-salt-identification-challenge/testData/'"
   ]
  },
  {
   "cell_type": "code",
   "execution_count": 0,
   "metadata": {
    "colab": {},
    "colab_type": "code",
    "id": "8KLX-j4vo0rG"
   },
   "outputs": [],
   "source": [
    "depthFile = pd.read_csv('depths.csv' )\n",
    "depthFile.head()"
   ]
  },
  {
   "cell_type": "code",
   "execution_count": 0,
   "metadata": {
    "colab": {},
    "colab_type": "code",
    "id": "RNxJvWDeOI-0"
   },
   "outputs": [],
   "source": [
    "%load_ext autoreload\n",
    "%autoreload 2\n",
    "\n",
    "import ImageReader"
   ]
  },
  {
   "cell_type": "code",
   "execution_count": 0,
   "metadata": {
    "colab": {},
    "colab_type": "code",
    "id": "0tpME6Io6EmS"
   },
   "outputs": [],
   "source": [
    "train_ids = next(os.walk(trainFolder +\"images\"))[2]\n",
    "test_ids = next(os.walk(testFolder +\"images\"))[2]"
   ]
  },
  {
   "cell_type": "code",
   "execution_count": 0,
   "metadata": {
    "colab": {},
    "colab_type": "code",
    "id": "0hclQ21IlIzw"
   },
   "outputs": [],
   "source": [
    "ImageReader.ignoreList = []"
   ]
  },
  {
   "cell_type": "code",
   "execution_count": 13,
   "metadata": {
    "colab": {
     "base_uri": "https://localhost:8080/",
     "height": 68
    },
    "colab_type": "code",
    "executionInfo": {
     "elapsed": 18417,
     "status": "ok",
     "timestamp": 1534524547054,
     "user": {
      "displayName": "Luiz Edmundo Mizutani",
      "photoUrl": "//lh3.googleusercontent.com/-Rw_nbV34Ht4/AAAAAAAAAAI/AAAAAAAAPVQ/alhcabwDDGU/s50-c-k-no/photo.jpg",
      "userId": "115383070328375888392"
     },
     "user_tz": 180
    },
    "id": "jVUL1iEOOI-7",
    "outputId": "21d78250-be77-458c-a1d7-8a25db87d330"
   },
   "outputs": [
    {
     "name": "stderr",
     "output_type": "stream",
     "text": [
      "  0%|          | 19/4000 [00:00<00:21, 188.58it/s]"
     ]
    },
    {
     "name": "stdout",
     "output_type": "stream",
     "text": [
      "Getting images and masks ... \n"
     ]
    },
    {
     "name": "stderr",
     "output_type": "stream",
     "text": [
      "100%|██████████| 4000/4000 [00:16<00:00, 239.23it/s]\n"
     ]
    },
    {
     "name": "stdout",
     "output_type": "stream",
     "text": [
      "Mean: 120.34612148318793 Std: 41.0696652201621\n"
     ]
    }
   ],
   "source": [
    "X_train, Y_train, depthVals = ImageReader.ReadSegmentationImages(trainFolder, depthFile)\n",
    "X_train = X_train/255.0"
   ]
  },
  {
   "cell_type": "markdown",
   "metadata": {
    "colab_type": "text",
    "id": "ZCmJsm8qFzdd"
   },
   "source": [
    "# Keras datagen"
   ]
  },
  {
   "cell_type": "code",
   "execution_count": 14,
   "metadata": {
    "colab": {
     "base_uri": "https://localhost:8080/",
     "height": 34
    },
    "colab_type": "code",
    "executionInfo": {
     "elapsed": 836,
     "status": "ok",
     "timestamp": 1534524548002,
     "user": {
      "displayName": "Luiz Edmundo Mizutani",
      "photoUrl": "//lh3.googleusercontent.com/-Rw_nbV34Ht4/AAAAAAAAAAI/AAAAAAAAPVQ/alhcabwDDGU/s50-c-k-no/photo.jpg",
      "userId": "115383070328375888392"
     },
     "user_tz": 180
    },
    "id": "ayFcz_QDKKQO",
    "outputId": "25f6d559-d008-4619-95fe-e2c6cad7a3b4"
   },
   "outputs": [
    {
     "name": "stdout",
     "output_type": "stream",
     "text": [
      "(3840, 101, 101, 1), (160, 101, 101, 1), (160, 1, 1, 1)\n"
     ]
    }
   ],
   "source": [
    "valRatio = 0.04\n",
    "nVal = int(len(X_train)*valRatio)\n",
    "X_val = X_train[0:nVal]\n",
    "Y_val = Y_train[0:nVal]\n",
    "d_val = depthVals[0:nVal]\n",
    "\n",
    "X_train0 = X_train[nVal:]\n",
    "Y_train0 = Y_train[nVal:]\n",
    "d_train0 = depthVals[nVal:]\n",
    "X_train0.shape\n",
    "print('{}, {}, {}'.format(X_train0.shape, X_val.shape, d_val.shape))"
   ]
  },
  {
   "cell_type": "code",
   "execution_count": 0,
   "metadata": {
    "colab": {},
    "colab_type": "code",
    "id": "iZWJWDxSF21D"
   },
   "outputs": [],
   "source": [
    "from keras.preprocessing.image import ImageDataGenerator\n",
    "\n",
    "# we create two instances with the same arguments\n",
    "data_gen_argsMask = dict(\n",
    "                     rotation_range=3.0, #1.0,\n",
    "                     #shear_range = 0.001, #0\n",
    "                     zoom_range = 0.013, #0\n",
    "                     width_shift_range=0.11, # 0.03,\n",
    "                     height_shift_range=0.2, #0.3,\n",
    "                     horizontal_flip=True,\n",
    "                     cval=0,\n",
    "                     fill_mode = \"reflect\"  #reflect\n",
    "                     #vertical_flip=True #see if helps\n",
    "                    )\n",
    "\n",
    "data_gen_args = {}\n",
    "for key in data_gen_argsMask:\n",
    "    data_gen_args[key] = data_gen_argsMask[key]\n",
    "    \n",
    "#data_gen_args['featurewise_center'] = True\n",
    "#data_gen_args['featurewise_std_normalization'] = True\n",
    "#data_gen_args['zca_whitening'] = True #this or normalization\n",
    "\n",
    "image_datagen = ImageDataGenerator(**data_gen_args)\n",
    "mask_datagen = ImageDataGenerator(**data_gen_argsMask)\n",
    "depth_datagen = ImageDataGenerator()\n",
    "\n",
    "\n",
    "seed=7\n",
    "# Provide the same seed and keyword arguments to the fit and flow methods\n",
    "image_datagen.fit(X_train0, augment=True, seed=seed)\n",
    "#mask_datagen.fit(Y_train0, augment=True, seed=seed)\n",
    "#depth_datagen.fit(d_train0, augment=False, seed=seed)\n",
    "\n",
    "image_generator = image_datagen.flow(\n",
    "    X_train0,\n",
    "    seed=seed,\n",
    "    batch_size = 32)#32*nGPUs)\n",
    "\n",
    "mask_generator = mask_datagen.flow(\n",
    "    Y_train0,\n",
    "    seed=seed,\n",
    "    batch_size = 32)#32*nGPUs)\n",
    "\n",
    "depth_generator = depth_datagen.flow(\n",
    "    d_train0,\n",
    "    seed=seed,\n",
    "    batch_size = 32)#32*nGPUs)\n",
    "\n",
    "bSize = 32\n",
    "def multi_input_gen(X1, X2, X3):\n",
    "    genX1 = image_datagen.flow(X1, seed=7, batch_size=bSize)\n",
    "    genX2 = depth_datagen.flow(X2, seed=7, batch_size=bSize)\n",
    "    genX3 = mask_datagen.flow( X3, seed=7, batch_size=bSize)\n",
    "    while True:\n",
    "            X1i = genX1.next()\n",
    "            X2i = genX2.next()\n",
    "            X3i = genX3.next()\n",
    "            yield [X1i, X2i], X3i\n",
    "\n",
    "train_generator = multi_input_gen(X_train0, d_train0, Y_train0) #zip( [image_generator, depth_generator] , [mask_generator] )"
   ]
  },
  {
   "cell_type": "markdown",
   "metadata": {
    "colab_type": "text",
    "id": "Prx4narUOI_6"
   },
   "source": [
    "## DeepLabV3+"
   ]
  },
  {
   "cell_type": "code",
   "execution_count": 0,
   "metadata": {
    "colab": {},
    "colab_type": "code",
    "id": "eq663ff6-x9k"
   },
   "outputs": [],
   "source": [
    "from keras.utils import plot_model\n",
    "from keras.models import Model, load_model\n",
    "from keras.layers import Input, ZeroPadding2D, Cropping2D, Add, Conv2D, Concatenate\n",
    "from keras.layers.core import Lambda"
   ]
  },
  {
   "cell_type": "code",
   "execution_count": 17,
   "metadata": {
    "colab": {
     "base_uri": "https://localhost:8080/",
     "height": 527
    },
    "colab_type": "code",
    "executionInfo": {
     "elapsed": 25035,
     "status": "ok",
     "timestamp": 1534524799053,
     "user": {
      "displayName": "Luiz Edmundo Mizutani",
      "photoUrl": "//lh3.googleusercontent.com/-Rw_nbV34Ht4/AAAAAAAAAAI/AAAAAAAAPVQ/alhcabwDDGU/s50-c-k-no/photo.jpg",
      "userId": "115383070328375888392"
     },
     "user_tz": 180
    },
    "id": "NwMRZIvsOI_7",
    "outputId": "5dc22797-ee63-4b62-c25e-de8aa7efa248"
   },
   "outputs": [
    {
     "name": "stdout",
     "output_type": "stream",
     "text": [
      "Downloading data from https://github.com/bonlime/keras-deeplab-v3-plus/releases/download/1.1/deeplabv3_mobilenetv2_tf_dim_ordering_tf_kernels.h5\n",
      "8986624/8986568 [==============================] - 1s 0us/step\n",
      "__________________________________________________________________________________________________\n",
      "Layer (type)                    Output Shape         Param #     Connected to                     \n",
      "==================================================================================================\n",
      "input_1 (InputLayer)            (None, 101, 101, 1)  0                                            \n",
      "__________________________________________________________________________________________________\n",
      "zero_padding2d_1 (ZeroPadding2D (None, 128, 128, 1)  0           input_1[0][0]                    \n",
      "__________________________________________________________________________________________________\n",
      "input_2 (InputLayer)            (None, 1, 1, 1)      0                                            \n",
      "__________________________________________________________________________________________________\n",
      "conv2d_1 (Conv2D)               (None, 128, 128, 3)  6           zero_padding2d_1[0][0]           \n",
      "__________________________________________________________________________________________________\n",
      "lambda_1 (Lambda)               (None, 1, 1, 1)      0           input_2[0][0]                    \n",
      "__________________________________________________________________________________________________\n",
      "deeplabv3p (Model)              (None, 128, 128, 21) 2146645     conv2d_1[0][0]                   \n",
      "__________________________________________________________________________________________________\n",
      "lambda_2 (Lambda)               (None, 128, 128, 1)  0           lambda_1[0][0]                   \n",
      "__________________________________________________________________________________________________\n",
      "concatenate_2 (Concatenate)     (None, 128, 128, 22) 0           deeplabv3p[1][0]                 \n",
      "                                                                 lambda_2[0][0]                   \n",
      "__________________________________________________________________________________________________\n",
      "conv2d_2 (Conv2D)               (None, 128, 128, 1)  23          concatenate_2[0][0]              \n",
      "__________________________________________________________________________________________________\n",
      "cropping2d_1 (Cropping2D)       (None, 101, 101, 1)  0           conv2d_2[0][0]                   \n",
      "==================================================================================================\n",
      "Total params: 2,146,674\n",
      "Trainable params: 2,113,586\n",
      "Non-trainable params: 33,088\n",
      "__________________________________________________________________________________________________\n"
     ]
    }
   ],
   "source": [
    "import DeepLabv3Plus\n",
    "import ModelUNet\n",
    "\n",
    "im_height = 101\n",
    "im_width = 101\n",
    "im_chan = 1\n",
    "\n",
    "\n",
    "inputs = Input((im_height, im_width, im_chan))\n",
    "#s = Lambda(lambda x: x / 255) (inputs)\n",
    "s=inputs\n",
    "inputDepth = Input( (1,1,1) )\n",
    "\n",
    "\n",
    "curLayer = inputs#Concatenate()([inputs, depthIn])\n",
    "\n",
    "\n",
    "#s = ReflectionPadding2D( padding = ((13, 14), (13, 14)) ) (s)\n",
    "s = ZeroPadding2D( padding = ((13, 14), (13, 14)) ) (curLayer)\n",
    "s = Conv2D(3, (1, 1), activation='relu') (s) #(1,1)\n",
    "\n",
    "dlmodel = DeepLabv3Plus.Deeplabv3(input_shape=(128, 128, 3), classes=21, backbone='xception') #xception\n",
    "\n",
    "outputs = dlmodel(s)\n",
    "\n",
    "dd = Lambda(lambda x: x * 0.001) (inputDepth)\n",
    "dd = Lambda(lambda x: ModelUNet._expand(x, 128, 128) )(dd)\n",
    "outputs = Concatenate()([outputs, dd])\n",
    "\n",
    "outputs = Conv2D(1, (1, 1), activation='sigmoid') (outputs)\n",
    "outputs = Cropping2D(cropping=((13, 14), (13, 14)) ) (outputs)\n",
    "\n",
    "#model = Model(inputs=[inputs], outputs=[outputs, outputs])\n",
    "#model.compile(optimizer='adam', loss=['binary_crossentropy', dice_loss], loss_weights=[0.01, 1.2], metrics=[mean_iou])\n",
    "model = Model(inputs=[inputs, inputDepth], outputs=outputs)\n",
    "model.compile(optimizer='adam', loss=[ModelUNet.dice_loss], metrics=[ModelUNet.mean_iou])\n",
    "model.summary()"
   ]
  },
  {
   "cell_type": "markdown",
   "metadata": {
    "colab_type": "text",
    "id": "CT0_7k0iW5bh"
   },
   "source": [
    "# Training"
   ]
  },
  {
   "cell_type": "code",
   "execution_count": 0,
   "metadata": {
    "colab": {},
    "colab_type": "code",
    "id": "V6zDpL9pTNb4"
   },
   "outputs": [],
   "source": [
    "import math\n",
    "from keras.callbacks import EarlyStopping, ModelCheckpoint, LearningRateScheduler\n",
    "def step_decay(epoch):\n",
    "    initial_lrate = 1e-3               \n",
    "    drop = 0.6\n",
    "    epochs_drop = 25\n",
    "    lrate = initial_lrate * math.pow(drop,  \n",
    "            math.floor((1+epoch)/epochs_drop))\n",
    "    \n",
    "    if (lrate < 1e-6):\n",
    "        lrate = 1e-6\n",
    "      \n",
    "    print('Changing learning rate to {}'.format(lrate))\n",
    "    return lrate\n",
    "lrate = LearningRateScheduler(step_decay)"
   ]
  },
  {
   "cell_type": "code",
   "execution_count": 0,
   "metadata": {
    "colab": {},
    "colab_type": "code",
    "id": "dyt7eewqDTIk"
   },
   "outputs": [],
   "source": [
    "earlystopper = EarlyStopping(patience=90, verbose=1)\n",
    "checkpointer = ModelCheckpoint('model-tgs-salt-1.h5', verbose=1, save_best_only=True)\n",
    "internalEval = ModelUNet.IntervalEvaluation( validation_data=( [X_val, d_val], Y_val), interval = 1 )\n",
    "#results = model.fit([X_train0, d_train0], Y_train0, validation_split=0.08, batch_size=16, epochs=100, \n",
    "#                    callbacks=[earlystopper, checkpointer, lrate])\n",
    "\n",
    "results = model.fit_generator(train_generator, epochs=250, steps_per_epoch=len(X_train0) / 32, \n",
    "                              validation_data=( [X_val, d_val], Y_val),\n",
    "                              callbacks=[earlystopper, checkpointer, lrate, internalEval])\n"
   ]
  },
  {
   "cell_type": "code",
   "execution_count": 0,
   "metadata": {
    "colab": {},
    "colab_type": "code",
    "id": "whTe0g6POJAI"
   },
   "outputs": [],
   "source": [
    "plt.plot(internalEval.score_list[4:])"
   ]
  },
  {
   "cell_type": "code",
   "execution_count": 0,
   "metadata": {
    "colab": {
     "base_uri": "https://localhost:8080/",
     "height": 34
    },
    "colab_type": "code",
    "id": "Ll6kIRmGJ2v2",
    "outputId": "8fb91aa3-0315-480f-acb2-543fcc4193fe"
   },
   "outputs": [
    {
     "name": "stdout",
     "output_type": "stream",
     "text": [
      "dict_keys(['val_loss', 'loss', 'val_mean_iou', 'mean_iou'])\n"
     ]
    }
   ],
   "source": [
    "# list all data in history\n",
    "print(results.history.keys())"
   ]
  },
  {
   "cell_type": "code",
   "execution_count": 74,
   "metadata": {
    "colab": {
     "base_uri": "https://localhost:8080/",
     "height": 571
    },
    "colab_type": "code",
    "executionInfo": {
     "elapsed": 1365,
     "status": "ok",
     "timestamp": 1534551169906,
     "user": {
      "displayName": "Luiz Edmundo Mizutani",
      "photoUrl": "//lh3.googleusercontent.com/-Rw_nbV34Ht4/AAAAAAAAAAI/AAAAAAAAPVQ/alhcabwDDGU/s50-c-k-no/photo.jpg",
      "userId": "115383070328375888392"
     },
     "user_tz": 180
    },
    "id": "RWk2IN87A49p",
    "outputId": "7cb0e06f-e176-4f3a-c7bc-c02ab82b19e9"
   },
   "outputs": [
    {
     "data": {
      "image/png": "[encoded data removed]",
      "text/plain": [
       "<matplotlib.figure.Figure at 0x7f7041ccbba8>"
      ]
     },
     "metadata": {
      "tags": []
     },
     "output_type": "display_data"
    },
    {
     "data": {
      "image/png": "[encoded data removed]",
      "text/plain": [
       "<matplotlib.figure.Figure at 0x7f7041d71ef0>"
      ]
     },
     "metadata": {
      "tags": []
     },
     "output_type": "display_data"
    }
   ],
   "source": [
    "# summarize history for intersestion over union\n",
    "plt.plot(results.history['mean_iou'])\n",
    "plt.plot(results.history['val_mean_iou'])\n",
    "plt.title('model IoU')\n",
    "plt.ylabel('accuracy')\n",
    "plt.xlabel('epoch')\n",
    "plt.legend(['train', 'test'], loc='upper left')\n",
    "plt.show()\n",
    "# summarize history for loss\n",
    "plt.plot(results.history['loss'])\n",
    "plt.plot(results.history['val_loss'])\n",
    "plt.title('model loss')\n",
    "plt.ylabel('loss')\n",
    "plt.xlabel('epoch')\n",
    "plt.legend(['train', 'test'], loc='upper left')\n",
    "plt.show()"
   ]
  },
  {
   "cell_type": "code",
   "execution_count": 0,
   "metadata": {
    "colab": {},
    "colab_type": "code",
    "id": "i5wSipENVOKh"
   },
   "outputs": [],
   "source": [
    "!pip install -U -q PyDrive\n",
    "from pydrive.auth import GoogleAuth\n",
    "from pydrive.drive import GoogleDrive\n",
    "from google.colab import auth\n",
    "from oauth2client.client import GoogleCredentials\n",
    "\n",
    "# Authenticate and create the PyDrive client.\n",
    "# This only needs to be done once in a notebook.\n",
    "auth.authenticate_user()\n",
    "gauth = GoogleAuth()\n",
    "gauth.credentials = GoogleCredentials.get_application_default()\n",
    "drive = GoogleDrive(gauth)\n",
    "\n",
    "saved_model = drive.CreateFile({'id': '1tixSI8-5xHGAko3KXSEdksTb466xSOwQ'}) #1Qfmpxsf8Yqz30Qkip8oyuGug6QC-jqUX\n",
    "saved_model.GetContentFile('model-tgs-salt-IV.h5')"
   ]
  },
  {
   "cell_type": "code",
   "execution_count": 0,
   "metadata": {
    "colab": {},
    "colab_type": "code",
    "id": "XW_rfkR1dWKs"
   },
   "outputs": [],
   "source": [
    "model = load_model('model-tgs-salt-IV.h5', custom_objects={'mean_iou': ModelUNet.mean_iou, 'dice_loss' : ModelUNet.dice_loss, 'ModelUNet': ModelUNet,\n",
    "                                                           '_expand': ModelUNet._expand, 'relu6': DeepLabv3Plus.relu6, 'BilinearUpsampling': DeepLabv3Plus.BilinearUpsampling }) #, 'ReflectionPadding2D' : ReflectionPadding2D})\n",
    "#model.save('model-tgs-salt-1.h5')"
   ]
  },
  {
   "cell_type": "code",
   "execution_count": 0,
   "metadata": {
    "colab": {},
    "colab_type": "code",
    "id": "qNr4jF7z4gZd"
   },
   "outputs": [],
   "source": [
    "#from google.colab import files\n",
    "#files.download('model-tgs-salt-1.h5')\n",
    "#files.upload()"
   ]
  },
  {
   "cell_type": "code",
   "execution_count": 0,
   "metadata": {
    "colab": {},
    "colab_type": "code",
    "id": "_p5pvS2vOJAd"
   },
   "outputs": [],
   "source": [
    "#for i in tqdm(range(len(X_train0))):\n",
    "#    X_train0[i] = image_datagen.standardize(X_train0[i].astype(float))\n",
    "    \n",
    "#for i in tqdm(range(len(X_val))):\n",
    "#    X_val[i] = image_datagen.standardize(X_val[i].astype(float))"
   ]
  },
  {
   "cell_type": "code",
   "execution_count": 75,
   "metadata": {
    "colab": {
     "base_uri": "https://localhost:8080/",
     "height": 51
    },
    "colab_type": "code",
    "executionInfo": {
     "elapsed": 25879,
     "status": "ok",
     "timestamp": 1534551500367,
     "user": {
      "displayName": "Luiz Edmundo Mizutani",
      "photoUrl": "//lh3.googleusercontent.com/-Rw_nbV34Ht4/AAAAAAAAAAI/AAAAAAAAPVQ/alhcabwDDGU/s50-c-k-no/photo.jpg",
      "userId": "115383070328375888392"
     },
     "user_tz": 180
    },
    "id": "8XSdRAqCdYfF",
    "outputId": "3441f3b4-5f69-46e2-82af-dc1e7fb27c5c"
   },
   "outputs": [
    {
     "name": "stdout",
     "output_type": "stream",
     "text": [
      "3840/3840 [==============================] - 24s 6ms/step\n",
      "160/160 [==============================] - 1s 6ms/step\n"
     ]
    }
   ],
   "source": [
    "preds_train = model.predict([X_train0, d_train0], verbose=1)\n",
    "preds_val = model.predict([X_val,d_val], verbose=1)"
   ]
  },
  {
   "cell_type": "markdown",
   "metadata": {
    "colab_type": "text",
    "id": "wPgBdWWyOJAk"
   },
   "source": [
    "## Watershed"
   ]
  },
  {
   "cell_type": "code",
   "execution_count": 0,
   "metadata": {
    "colab": {},
    "colab_type": "code",
    "id": "B2FGuv-4OJAl"
   },
   "outputs": [],
   "source": [
    "# Perform a sanity check on some random training samples\n",
    "from skimage.morphology import watershed\n",
    "\n",
    "ix = np.random.randint(0, len(preds_val))\n",
    "ix=64"
   ]
  },
  {
   "cell_type": "code",
   "execution_count": 77,
   "metadata": {
    "colab": {
     "base_uri": "https://localhost:8080/",
     "height": 268
    },
    "colab_type": "code",
    "executionInfo": {
     "elapsed": 775,
     "status": "ok",
     "timestamp": 1534551502523,
     "user": {
      "displayName": "Luiz Edmundo Mizutani",
      "photoUrl": "//lh3.googleusercontent.com/-Rw_nbV34Ht4/AAAAAAAAAAI/AAAAAAAAPVQ/alhcabwDDGU/s50-c-k-no/photo.jpg",
      "userId": "115383070328375888392"
     },
     "user_tz": 180
    },
    "id": "bDMOpFyGOJAv",
    "outputId": "26f49587-0800-4581-819f-8bde4efbe80a"
   },
   "outputs": [
    {
     "data": {
      "image/png": "[encoded data removed]",
      "text/plain": [
       "<matplotlib.figure.Figure at 0x7f7041e27128>"
      ]
     },
     "metadata": {
      "tags": []
     },
     "output_type": "display_data"
    }
   ],
   "source": [
    "markers = np.zeros_like(preds_val[ix,:,:,0])\n",
    "markers[preds_val[ix,:,:,0] < 0.1] = 2\n",
    "markers[preds_val[ix,:,:,0] > 0.4] = 1\n",
    "plt.imshow(markers)\n",
    "plt.show()"
   ]
  },
  {
   "cell_type": "code",
   "execution_count": 78,
   "metadata": {
    "colab": {
     "base_uri": "https://localhost:8080/",
     "height": 285
    },
    "colab_type": "code",
    "executionInfo": {
     "elapsed": 891,
     "status": "ok",
     "timestamp": 1534551504084,
     "user": {
      "displayName": "Luiz Edmundo Mizutani",
      "photoUrl": "//lh3.googleusercontent.com/-Rw_nbV34Ht4/AAAAAAAAAAI/AAAAAAAAPVQ/alhcabwDDGU/s50-c-k-no/photo.jpg",
      "userId": "115383070328375888392"
     },
     "user_tz": 180
    },
    "id": "Z0j512-MOJA4",
    "outputId": "5f5fd82a-28a8-4ff7-923b-192c57a774bf"
   },
   "outputs": [
    {
     "data": {
      "text/plain": [
       "<matplotlib.image.AxesImage at 0x7f7041efbf60>"
      ]
     },
     "execution_count": 78,
     "metadata": {
      "tags": []
     },
     "output_type": "execute_result"
    },
    {
     "data": {
      "image/png": "[encoded data removed]",
      "text/plain": [
       "<matplotlib.figure.Figure at 0x7f7041d94c88>"
      ]
     },
     "metadata": {
      "tags": []
     },
     "output_type": "display_data"
    }
   ],
   "source": [
    "segmentation = watershed(preds_val[ix,:,:,0], markers)\n",
    "segmentation[segmentation == 2] = 0\n",
    "plt.imshow(segmentation)"
   ]
  },
  {
   "cell_type": "code",
   "execution_count": 0,
   "metadata": {
    "colab": {},
    "colab_type": "code",
    "id": "C0sfwhc4OJA9",
    "outputId": "4f3fe2c9-d6e7-4e02-e1cf-6a39a415ca2f"
   },
   "outputs": [
    {
     "data": {
      "text/plain": [
       "array([[1, 1, 1, ..., 0, 0, 0],\n",
       "       [1, 1, 1, ..., 0, 0, 0],\n",
       "       [1, 1, 1, ..., 0, 0, 0],\n",
       "       ...,\n",
       "       [0, 0, 0, ..., 0, 0, 0],\n",
       "       [0, 0, 0, ..., 0, 0, 0],\n",
       "       [0, 0, 0, ..., 0, 0, 0]], dtype=int32)"
      ]
     },
     "execution_count": 116,
     "metadata": {
      "tags": []
     },
     "output_type": "execute_result"
    }
   ],
   "source": [
    "segmentation"
   ]
  },
  {
   "cell_type": "code",
   "execution_count": 79,
   "metadata": {
    "colab": {
     "base_uri": "https://localhost:8080/",
     "height": 7769
    },
    "colab_type": "code",
    "executionInfo": {
     "elapsed": 59788,
     "status": "ok",
     "timestamp": 1534551564177,
     "user": {
      "displayName": "Luiz Edmundo Mizutani",
      "photoUrl": "//lh3.googleusercontent.com/-Rw_nbV34Ht4/AAAAAAAAAAI/AAAAAAAAPVQ/alhcabwDDGU/s50-c-k-no/photo.jpg",
      "userId": "115383070328375888392"
     },
     "user_tz": 180
    },
    "id": "pUU418ukOJBG",
    "outputId": "5ae4803c-a42b-47ff-bcf5-c112e8831042"
   },
   "outputs": [
    {
     "name": "stderr",
     "output_type": "stream",
     "text": [
      "  0%|          | 0/65 [00:00<?, ?it/s]\n",
      "  0%|          | 0/160 [00:00<?, ?it/s]\u001b[A\n",
      " 19%|█▉        | 31/160 [00:00<00:00, 303.96it/s]\u001b[A\n",
      " 37%|███▋      | 59/160 [00:00<00:00, 291.39it/s]\u001b[A\n",
      " 54%|█████▍    | 87/160 [00:00<00:00, 286.86it/s]\u001b[A\n",
      " 73%|███████▎  | 117/160 [00:00<00:00, 288.82it/s]\u001b[A\n",
      " 92%|█████████▏| 147/160 [00:00<00:00, 290.24it/s]\u001b[A\n",
      "  2%|▏         | 1/65 [00:00<00:59,  1.08it/s]\n",
      "  0%|          | 0/160 [00:00<?, ?it/s]\u001b[A\n",
      " 20%|██        | 32/160 [00:00<00:00, 313.56it/s]\u001b[A\n",
      " 39%|███▉      | 62/160 [00:00<00:00, 304.15it/s]\u001b[A\n",
      " 57%|█████▋    | 91/160 [00:00<00:00, 297.71it/s]\u001b[A\n",
      " 75%|███████▌  | 120/160 [00:00<00:00, 293.57it/s]\u001b[A\n",
      " 92%|█████████▏| 147/160 [00:00<00:00, 288.51it/s]\u001b[A\n",
      "  3%|▎         | 2/65 [00:01<00:58,  1.08it/s]\n",
      "  0%|          | 0/160 [00:00<?, ?it/s]\u001b[A\n",
      " 19%|█▉        | 30/160 [00:00<00:00, 293.21it/s]\u001b[A\n",
      " 34%|███▍      | 54/160 [00:00<00:00, 264.06it/s]\u001b[A\n",
      " 52%|█████▏    | 83/160 [00:00<00:00, 271.01it/s]\u001b[A\n",
      " 71%|███████   | 113/160 [00:00<00:00, 276.22it/s]\u001b[A\n",
      " 88%|████████▊ | 141/160 [00:00<00:00, 276.24it/s]\u001b[A\n",
      "  5%|▍         | 3/65 [00:02<00:57,  1.09it/s]\n",
      "  0%|          | 0/160 [00:00<?, ?it/s]\u001b[A\n",
      " 19%|█▉        | 31/160 [00:00<00:00, 298.49it/s]\u001b[A\n",
      " 39%|███▉      | 62/160 [00:00<00:00, 300.22it/s]\u001b[A\n",
      " 57%|█████▊    | 92/160 [00:00<00:00, 299.02it/s]\u001b[A\n",
      " 76%|███████▌  | 121/160 [00:00<00:00, 294.87it/s]\u001b[A\n",
      " 91%|█████████▏| 146/160 [00:00<00:00, 284.65it/s]\u001b[A\n",
      "  6%|▌         | 4/65 [00:03<00:56,  1.09it/s]\n",
      "  0%|          | 0/160 [00:00<?, ?it/s]\u001b[A\n",
      " 19%|█▉        | 30/160 [00:00<00:00, 294.61it/s]\u001b[A\n",
      " 38%|███▊      | 60/160 [00:00<00:00, 293.63it/s]\u001b[A\n",
      " 56%|█████▋    | 90/160 [00:00<00:00, 292.78it/s]\u001b[A\n",
      " 75%|███████▌  | 120/160 [00:00<00:00, 293.06it/s]\u001b[A\n",
      " 93%|█████████▎| 149/160 [00:00<00:00, 292.21it/s]\u001b[A\n",
      "  8%|▊         | 5/65 [00:04<00:55,  1.09it/s]\n",
      "  0%|          | 0/160 [00:00<?, ?it/s]\u001b[A\n",
      " 20%|██        | 32/160 [00:00<00:00, 314.63it/s]\u001b[A\n",
      " 39%|███▉      | 62/160 [00:00<00:00, 304.70it/s]\u001b[A\n",
      " 57%|█████▊    | 92/160 [00:00<00:00, 301.09it/s]\u001b[A\n",
      " 76%|███████▌  | 121/160 [00:00<00:00, 297.32it/s]\u001b[A\n",
      " 94%|█████████▍| 150/160 [00:00<00:00, 295.41it/s]\u001b[A\n",
      "  9%|▉         | 6/65 [00:05<00:53,  1.09it/s]\n",
      "  0%|          | 0/160 [00:00<?, ?it/s]\u001b[A\n",
      " 19%|█▉        | 31/160 [00:00<00:00, 301.66it/s]\u001b[A\n",
      " 37%|███▋      | 59/160 [00:00<00:00, 288.65it/s]\u001b[A\n",
      " 53%|█████▎    | 85/160 [00:00<00:00, 278.53it/s]\u001b[A\n",
      " 72%|███████▎  | 116/160 [00:00<00:00, 284.00it/s]\u001b[A\n",
      " 91%|█████████ | 145/160 [00:00<00:00, 283.71it/s]\u001b[A\n",
      " 11%|█         | 7/65 [00:06<00:53,  1.09it/s]\n",
      "  0%|          | 0/160 [00:00<?, ?it/s]\u001b[A\n",
      " 19%|█▉        | 31/160 [00:00<00:00, 303.29it/s]\u001b[A\n",
      " 38%|███▊      | 61/160 [00:00<00:00, 298.23it/s]\u001b[A\n",
      " 56%|█████▌    | 89/160 [00:00<00:00, 291.53it/s]\u001b[A\n",
      " 74%|███████▍  | 118/160 [00:00<00:00, 290.31it/s]\u001b[A\n",
      " 93%|█████████▎| 149/160 [00:00<00:00, 292.55it/s]\u001b[A\n",
      " 12%|█▏        | 8/65 [00:07<00:52,  1.09it/s]\n",
      "  0%|          | 0/160 [00:00<?, ?it/s]\u001b[A\n",
      " 20%|██        | 32/160 [00:00<00:00, 309.50it/s]\u001b[A\n",
      " 39%|███▉      | 62/160 [00:00<00:00, 301.25it/s]\u001b[A\n",
      " 56%|█████▋    | 90/160 [00:00<00:00, 291.63it/s]\u001b[A\n",
      " 75%|███████▌  | 120/160 [00:00<00:00, 292.10it/s]\u001b[A\n",
      " 94%|█████████▍| 150/160 [00:00<00:00, 291.86it/s]\u001b[A\n",
      " 14%|█▍        | 9/65 [00:08<00:51,  1.10it/s]\n",
      "  0%|          | 0/160 [00:00<?, ?it/s]\u001b[A\n",
      " 16%|█▋        | 26/160 [00:00<00:00, 251.11it/s]\u001b[A\n",
      " 34%|███▍      | 55/160 [00:00<00:00, 269.85it/s]\u001b[A\n",
      " 53%|█████▎    | 85/160 [00:00<00:00, 278.06it/s]\u001b[A\n",
      " 71%|███████   | 113/160 [00:00<00:00, 276.38it/s]\u001b[A\n",
      " 89%|████████▉ | 143/160 [00:00<00:00, 280.69it/s]\u001b[A\n",
      " 15%|█▌        | 10/65 [00:09<00:50,  1.09it/s]\n",
      "  0%|          | 0/160 [00:00<?, ?it/s]\u001b[A\n",
      " 19%|█▉        | 31/160 [00:00<00:00, 303.14it/s]\u001b[A\n",
      " 37%|███▋      | 59/160 [00:00<00:00, 288.10it/s]\u001b[A\n",
      " 56%|█████▌    | 89/160 [00:00<00:00, 289.52it/s]\u001b[A\n",
      " 71%|███████▏  | 114/160 [00:00<00:00, 279.73it/s]\u001b[A\n",
      " 89%|████████▉ | 142/160 [00:00<00:00, 279.47it/s]\u001b[A\n",
      " 17%|█▋        | 11/65 [00:10<00:49,  1.09it/s]\n",
      "  0%|          | 0/160 [00:00<?, ?it/s]\u001b[A\n",
      " 20%|██        | 32/160 [00:00<00:00, 311.84it/s]\u001b[A\n",
      " 39%|███▉      | 62/160 [00:00<00:00, 303.31it/s]\u001b[A\n",
      " 57%|█████▋    | 91/160 [00:00<00:00, 296.92it/s]\u001b[A\n",
      " 76%|███████▌  | 121/160 [00:00<00:00, 296.97it/s]\u001b[A\n",
      " 93%|█████████▎| 149/160 [00:00<00:00, 292.51it/s]\u001b[A\n",
      " 18%|█▊        | 12/65 [00:10<00:48,  1.09it/s]\n",
      "  0%|          | 0/160 [00:00<?, ?it/s]\u001b[A\n",
      " 19%|█▉        | 30/160 [00:00<00:00, 295.40it/s]\u001b[A\n",
      " 37%|███▋      | 59/160 [00:00<00:00, 289.60it/s]\u001b[A\n",
      " 54%|█████▍    | 86/160 [00:00<00:00, 279.22it/s]\u001b[A\n",
      " 72%|███████▏  | 115/160 [00:00<00:00, 281.17it/s]\u001b[A\n",
      " 90%|█████████ | 144/160 [00:00<00:00, 280.93it/s]\u001b[A\n",
      " 20%|██        | 13/65 [00:11<00:47,  1.09it/s]\n",
      "  0%|          | 0/160 [00:00<?, ?it/s]\u001b[A\n",
      " 19%|█▉        | 30/160 [00:00<00:00, 280.40it/s]\u001b[A\n",
      " 34%|███▍      | 55/160 [00:00<00:00, 268.14it/s]\u001b[A\n",
      " 51%|█████▏    | 82/160 [00:00<00:00, 266.56it/s]\u001b[A\n",
      " 69%|██████▉   | 110/160 [00:00<00:00, 269.46it/s]\u001b[A\n",
      " 87%|████████▋ | 139/160 [00:00<00:00, 271.27it/s]\u001b[A\n",
      " 22%|██▏       | 14/65 [00:12<00:46,  1.09it/s]\n",
      "  0%|          | 0/160 [00:00<?, ?it/s]\u001b[A\n",
      " 20%|██        | 32/160 [00:00<00:00, 306.81it/s]\u001b[A\n",
      " 37%|███▋      | 59/160 [00:00<00:00, 288.17it/s]\u001b[A\n",
      " 56%|█████▌    | 89/160 [00:00<00:00, 290.65it/s]\u001b[A\n",
      " 74%|███████▍  | 119/160 [00:00<00:00, 292.59it/s]\u001b[A\n",
      " 89%|████████▉ | 142/160 [00:00<00:00, 279.55it/s]\u001b[A\n",
      " 23%|██▎       | 15/65 [00:13<00:45,  1.09it/s]\n",
      "  0%|          | 0/160 [00:00<?, ?it/s]\u001b[A\n",
      " 19%|█▉        | 30/160 [00:00<00:00, 290.31it/s]\u001b[A\n",
      " 37%|███▋      | 59/160 [00:00<00:00, 288.60it/s]\u001b[A\n",
      " 55%|█████▌    | 88/160 [00:00<00:00, 285.74it/s]\u001b[A\n",
      " 72%|███████▎  | 116/160 [00:00<00:00, 284.36it/s]\u001b[A\n",
      " 90%|█████████ | 144/160 [00:00<00:00, 283.06it/s]\u001b[A\n",
      " 25%|██▍       | 16/65 [00:14<00:44,  1.09it/s]\n",
      "  0%|          | 0/160 [00:00<?, ?it/s]\u001b[A\n",
      " 19%|█▉        | 31/160 [00:00<00:00, 298.91it/s]\u001b[A\n",
      " 38%|███▊      | 60/160 [00:00<00:00, 293.21it/s]\u001b[A\n",
      " 56%|█████▋    | 90/160 [00:00<00:00, 293.67it/s]\u001b[A\n",
      " 75%|███████▌  | 120/160 [00:00<00:00, 293.46it/s]\u001b[A\n",
      " 94%|█████████▍| 151/160 [00:00<00:00, 294.63it/s]\u001b[A\n",
      " 26%|██▌       | 17/65 [00:15<00:43,  1.09it/s]\n",
      "  0%|          | 0/160 [00:00<?, ?it/s]\u001b[A\n",
      " 20%|██        | 32/160 [00:00<00:00, 304.26it/s]\u001b[A\n",
      " 34%|███▍      | 55/160 [00:00<00:00, 267.50it/s]\u001b[A\n",
      " 53%|█████▎    | 85/160 [00:00<00:00, 276.95it/s]\u001b[A\n",
      " 71%|███████▏  | 114/160 [00:00<00:00, 278.24it/s]\u001b[A\n",
      " 89%|████████▉ | 143/160 [00:00<00:00, 279.46it/s]\u001b[A\n",
      " 28%|██▊       | 18/65 [00:16<00:43,  1.09it/s]\n",
      "  0%|          | 0/160 [00:00<?, ?it/s]\u001b[A\n",
      " 19%|█▉        | 31/160 [00:00<00:00, 304.48it/s]\u001b[A\n",
      " 37%|███▋      | 59/160 [00:00<00:00, 290.09it/s]\u001b[A\n",
      " 55%|█████▌    | 88/160 [00:00<00:00, 289.60it/s]\u001b[A\n",
      " 74%|███████▍  | 118/160 [00:00<00:00, 291.43it/s]\u001b[A\n",
      " 92%|█████████▏| 147/160 [00:00<00:00, 289.32it/s]\u001b[A\n",
      " 29%|██▉       | 19/65 [00:17<00:42,  1.09it/s]\n",
      "  0%|          | 0/160 [00:00<?, ?it/s]\u001b[A\n",
      " 20%|██        | 32/160 [00:00<00:00, 309.87it/s]\u001b[A\n",
      " 38%|███▊      | 61/160 [00:00<00:00, 297.41it/s]\u001b[A\n",
      " 56%|█████▌    | 89/160 [00:00<00:00, 290.79it/s]\u001b[A\n",
      " 72%|███████▎  | 116/160 [00:00<00:00, 284.13it/s]\u001b[A\n",
      " 91%|█████████▏| 146/160 [00:00<00:00, 285.80it/s]\u001b[A\n",
      " 31%|███       | 20/65 [00:18<00:41,  1.09it/s]\n",
      "  0%|          | 0/160 [00:00<?, ?it/s]\u001b[A\n",
      " 18%|█▊        | 29/160 [00:00<00:00, 285.88it/s]\u001b[A\n",
      " 37%|███▋      | 59/160 [00:00<00:00, 290.06it/s]\u001b[A\n",
      " 56%|█████▌    | 89/160 [00:00<00:00, 291.37it/s]\u001b[A\n",
      " 74%|███████▍  | 118/160 [00:00<00:00, 290.42it/s]\u001b[A\n",
      " 92%|█████████▎| 148/160 [00:00<00:00, 290.67it/s]\u001b[A\n",
      " 32%|███▏      | 21/65 [00:19<00:40,  1.09it/s]\n",
      "  0%|          | 0/160 [00:00<?, ?it/s]\u001b[A\n",
      " 20%|██        | 32/160 [00:00<00:00, 309.11it/s]\u001b[A\n",
      " 39%|███▉      | 62/160 [00:00<00:00, 300.74it/s]\u001b[A\n",
      " 55%|█████▌    | 88/160 [00:00<00:00, 286.41it/s]\u001b[A\n",
      " 73%|███████▎  | 117/160 [00:00<00:00, 286.69it/s]\u001b[A\n",
      " 92%|█████████▏| 147/160 [00:00<00:00, 287.94it/s]\u001b[A\n",
      " 34%|███▍      | 22/65 [00:20<00:39,  1.09it/s]\n",
      "  0%|          | 0/160 [00:00<?, ?it/s]\u001b[A\n",
      " 18%|█▊        | 29/160 [00:00<00:00, 281.40it/s]\u001b[A\n",
      " 37%|███▋      | 59/160 [00:00<00:00, 290.47it/s]\u001b[A\n",
      " 56%|█████▌    | 89/160 [00:00<00:00, 292.46it/s]\u001b[A\n",
      " 75%|███████▌  | 120/160 [00:00<00:00, 294.83it/s]\u001b[A\n",
      " 93%|█████████▎| 149/160 [00:00<00:00, 293.22it/s]\u001b[A\n",
      " 35%|███▌      | 23/65 [00:21<00:38,  1.09it/s]\n",
      "  0%|          | 0/160 [00:00<?, ?it/s]\u001b[A\n",
      " 20%|██        | 32/160 [00:00<00:00, 309.68it/s]\u001b[A\n",
      " 36%|███▋      | 58/160 [00:00<00:00, 283.18it/s]\u001b[A\n",
      " 55%|█████▌    | 88/160 [00:00<00:00, 284.28it/s]\u001b[A\n",
      " 74%|███████▍  | 118/160 [00:00<00:00, 287.20it/s]\u001b[A\n",
      " 91%|█████████▏| 146/160 [00:00<00:00, 285.56it/s]\u001b[A\n",
      " 37%|███▋      | 24/65 [00:21<00:37,  1.09it/s]\n",
      "  0%|          | 0/160 [00:00<?, ?it/s]\u001b[A\n",
      " 18%|█▊        | 28/160 [00:00<00:00, 271.25it/s]\u001b[A\n",
      " 36%|███▌      | 57/160 [00:00<00:00, 278.58it/s]\u001b[A\n",
      " 53%|█████▎    | 85/160 [00:00<00:00, 278.35it/s]\u001b[A\n",
      " 72%|███████▏  | 115/160 [00:00<00:00, 282.92it/s]\u001b[A\n",
      " 90%|█████████ | 144/160 [00:00<00:00, 283.85it/s]\u001b[A\n",
      " 38%|███▊      | 25/65 [00:22<00:36,  1.09it/s]\n",
      "  0%|          | 0/160 [00:00<?, ?it/s]\u001b[A\n",
      " 19%|█▉        | 31/160 [00:00<00:00, 304.58it/s]\u001b[A\n",
      " 37%|███▋      | 59/160 [00:00<00:00, 291.47it/s]\u001b[A\n",
      " 54%|█████▍    | 87/160 [00:00<00:00, 287.80it/s]\u001b[A\n",
      " 71%|███████   | 113/160 [00:00<00:00, 278.19it/s]\u001b[A\n",
      " 85%|████████▌ | 136/160 [00:00<00:00, 268.69it/s]\u001b[A\n",
      " 40%|████      | 26/65 [00:23<00:35,  1.09it/s]\n",
      "  0%|          | 0/160 [00:00<?, ?it/s]\u001b[A\n",
      " 19%|█▉        | 31/160 [00:00<00:00, 301.98it/s]\u001b[A\n",
      " 39%|███▉      | 62/160 [00:00<00:00, 303.01it/s]\u001b[A\n",
      " 57%|█████▊    | 92/160 [00:00<00:00, 299.33it/s]\u001b[A\n",
      " 76%|███████▌  | 121/160 [00:00<00:00, 296.14it/s]\u001b[A\n",
      " 94%|█████████▍| 151/160 [00:00<00:00, 295.72it/s]\u001b[A\n",
      " 42%|████▏     | 27/65 [00:24<00:34,  1.09it/s]\n",
      "  0%|          | 0/160 [00:00<?, ?it/s]\u001b[A\n",
      " 20%|██        | 32/160 [00:00<00:00, 309.08it/s]\u001b[A\n",
      " 38%|███▊      | 61/160 [00:00<00:00, 298.28it/s]\u001b[A\n",
      " 57%|█████▊    | 92/160 [00:00<00:00, 300.13it/s]\u001b[A\n",
      " 76%|███████▌  | 121/160 [00:00<00:00, 296.50it/s]\u001b[A\n",
      " 94%|█████████▍| 150/160 [00:00<00:00, 294.25it/s]\u001b[A\n",
      " 43%|████▎     | 28/65 [00:25<00:33,  1.10it/s]\n",
      "  0%|          | 0/160 [00:00<?, ?it/s]\u001b[A\n",
      " 20%|██        | 32/160 [00:00<00:00, 313.50it/s]\u001b[A\n",
      " 37%|███▋      | 59/160 [00:00<00:00, 287.72it/s]\u001b[A\n",
      " 55%|█████▌    | 88/160 [00:00<00:00, 287.83it/s]\u001b[A\n",
      " 74%|███████▍  | 118/160 [00:00<00:00, 290.16it/s]\u001b[A\n",
      " 92%|█████████▎| 148/160 [00:00<00:00, 290.59it/s]\u001b[A\n",
      " 45%|████▍     | 29/65 [00:26<00:32,  1.10it/s]\n",
      "  0%|          | 0/160 [00:00<?, ?it/s]\u001b[A\n",
      " 20%|██        | 32/160 [00:00<00:00, 314.23it/s]\u001b[A\n",
      " 39%|███▉      | 62/160 [00:00<00:00, 303.89it/s]\u001b[A\n",
      " 57%|█████▊    | 92/160 [00:00<00:00, 300.04it/s]\u001b[A\n",
      " 77%|███████▋  | 123/160 [00:00<00:00, 300.90it/s]\u001b[A\n",
      " 96%|█████████▌| 153/160 [00:00<00:00, 298.60it/s]\u001b[A\n",
      " 46%|████▌     | 30/65 [00:27<00:31,  1.10it/s]\n",
      "  0%|          | 0/160 [00:00<?, ?it/s]\u001b[A\n",
      " 20%|██        | 32/160 [00:00<00:00, 310.48it/s]\u001b[A\n",
      " 39%|███▉      | 63/160 [00:00<00:00, 307.41it/s]\u001b[A\n",
      " 58%|█████▊    | 93/160 [00:00<00:00, 303.24it/s]\u001b[A\n",
      " 77%|███████▋  | 123/160 [00:00<00:00, 302.26it/s]\u001b[A\n",
      " 96%|█████████▋| 154/160 [00:00<00:00, 302.86it/s]\u001b[A\n",
      " 48%|████▊     | 31/65 [00:28<00:30,  1.10it/s]\n",
      "  0%|          | 0/160 [00:00<?, ?it/s]\u001b[A\n",
      " 16%|█▋        | 26/160 [00:00<00:00, 254.63it/s]\u001b[A\n",
      " 34%|███▍      | 54/160 [00:00<00:00, 265.46it/s]\u001b[A\n",
      " 52%|█████▎    | 84/160 [00:00<00:00, 274.98it/s]\u001b[A\n",
      " 71%|███████▏  | 114/160 [00:00<00:00, 279.01it/s]\u001b[A\n",
      " 91%|█████████ | 145/160 [00:00<00:00, 283.65it/s]\u001b[A\n",
      " 49%|████▉     | 32/65 [00:29<00:30,  1.10it/s]\n",
      "  0%|          | 0/160 [00:00<?, ?it/s]\u001b[A\n",
      " 19%|█▉        | 31/160 [00:00<00:00, 302.19it/s]\u001b[A\n",
      " 38%|███▊      | 60/160 [00:00<00:00, 294.40it/s]\u001b[A\n",
      " 56%|█████▌    | 89/160 [00:00<00:00, 291.59it/s]\u001b[A\n",
      " 72%|███████▏  | 115/160 [00:00<00:00, 283.37it/s]\u001b[A\n",
      " 91%|█████████ | 145/160 [00:00<00:00, 285.16it/s]\u001b[A\n",
      " 51%|█████     | 33/65 [00:30<00:29,  1.10it/s]\n",
      "  0%|          | 0/160 [00:00<?, ?it/s]\u001b[A\n",
      " 20%|██        | 32/160 [00:00<00:00, 307.93it/s]\u001b[A\n",
      " 39%|███▉      | 63/160 [00:00<00:00, 304.82it/s]\u001b[A\n",
      " 57%|█████▋    | 91/160 [00:00<00:00, 296.28it/s]\u001b[A\n",
      " 76%|███████▋  | 122/160 [00:00<00:00, 298.41it/s]\u001b[A\n",
      " 95%|█████████▌| 152/160 [00:00<00:00, 296.79it/s]\u001b[A\n",
      " 52%|█████▏    | 34/65 [00:30<00:28,  1.10it/s]\n",
      "  0%|          | 0/160 [00:00<?, ?it/s]\u001b[A\n",
      " 21%|██        | 33/160 [00:00<00:00, 319.30it/s]\u001b[A\n",
      " 40%|████      | 64/160 [00:00<00:00, 310.52it/s]\u001b[A\n",
      " 57%|█████▊    | 92/160 [00:00<00:00, 298.41it/s]\u001b[A\n",
      " 76%|███████▋  | 122/160 [00:00<00:00, 298.65it/s]\u001b[A\n",
      " 95%|█████████▌| 152/160 [00:00<00:00, 297.49it/s]\u001b[A\n",
      " 54%|█████▍    | 35/65 [00:31<00:27,  1.10it/s]\n",
      "  0%|          | 0/160 [00:00<?, ?it/s]\u001b[A\n",
      " 20%|██        | 32/160 [00:00<00:00, 307.98it/s]\u001b[A\n",
      " 37%|███▋      | 59/160 [00:00<00:00, 288.33it/s]\u001b[A\n",
      " 56%|█████▋    | 90/160 [00:00<00:00, 292.48it/s]\u001b[A\n",
      " 75%|███████▌  | 120/160 [00:00<00:00, 292.17it/s]\u001b[A\n",
      " 93%|█████████▎| 149/160 [00:00<00:00, 290.72it/s]\u001b[A\n",
      " 55%|█████▌    | 36/65 [00:32<00:26,  1.10it/s]\n",
      "  0%|          | 0/160 [00:00<?, ?it/s]\u001b[A\n",
      " 20%|██        | 32/160 [00:00<00:00, 308.25it/s]\u001b[A\n",
      " 38%|███▊      | 61/160 [00:00<00:00, 295.37it/s]\u001b[A\n",
      " 57%|█████▋    | 91/160 [00:00<00:00, 294.35it/s]\u001b[A\n",
      " 76%|███████▌  | 121/160 [00:00<00:00, 294.81it/s]\u001b[A\n",
      " 94%|█████████▍| 151/160 [00:00<00:00, 292.61it/s]\u001b[A\n",
      " 57%|█████▋    | 37/65 [00:33<00:25,  1.10it/s]\n",
      "  0%|          | 0/160 [00:00<?, ?it/s]\u001b[A\n",
      " 19%|█▉        | 31/160 [00:00<00:00, 303.15it/s]\u001b[A\n",
      " 38%|███▊      | 61/160 [00:00<00:00, 300.03it/s]\u001b[A\n",
      " 56%|█████▋    | 90/160 [00:00<00:00, 295.51it/s]\u001b[A\n",
      " 75%|███████▌  | 120/160 [00:00<00:00, 296.19it/s]\u001b[A\n",
      " 94%|█████████▍| 150/160 [00:00<00:00, 295.55it/s]\u001b[A\n",
      " 58%|█████▊    | 38/65 [00:34<00:24,  1.10it/s]\n",
      "  0%|          | 0/160 [00:00<?, ?it/s]\u001b[A\n",
      " 20%|██        | 32/160 [00:00<00:00, 307.18it/s]\u001b[A\n",
      " 39%|███▉      | 62/160 [00:00<00:00, 302.82it/s]\u001b[A\n",
      " 57%|█████▊    | 92/160 [00:00<00:00, 300.84it/s]\u001b[A\n",
      " 77%|███████▋  | 123/160 [00:00<00:00, 302.46it/s]\u001b[A\n",
      " 96%|█████████▌| 153/160 [00:00<00:00, 301.38it/s]\u001b[A\n",
      " 60%|██████    | 39/65 [00:35<00:23,  1.10it/s]\n",
      "  0%|          | 0/160 [00:00<?, ?it/s]\u001b[A\n",
      " 19%|█▉        | 31/160 [00:00<00:00, 304.03it/s]\u001b[A\n",
      " 39%|███▉      | 62/160 [00:00<00:00, 304.57it/s]\u001b[A\n",
      " 58%|█████▊    | 93/160 [00:00<00:00, 304.43it/s]\u001b[A\n",
      " 74%|███████▍  | 118/160 [00:00<00:00, 289.44it/s]\u001b[A\n",
      " 92%|█████████▏| 147/160 [00:00<00:00, 288.39it/s]\u001b[A\n",
      " 62%|██████▏   | 40/65 [00:36<00:22,  1.10it/s]\n",
      "  0%|          | 0/160 [00:00<?, ?it/s]\u001b[A\n",
      " 20%|██        | 32/160 [00:00<00:00, 308.15it/s]\u001b[A\n",
      " 39%|███▉      | 62/160 [00:00<00:00, 302.54it/s]\u001b[A\n",
      " 57%|█████▋    | 91/160 [00:00<00:00, 297.82it/s]\u001b[A\n",
      " 75%|███████▌  | 120/160 [00:00<00:00, 294.82it/s]\u001b[A\n",
      " 93%|█████████▎| 149/160 [00:00<00:00, 291.96it/s]\u001b[A\n",
      " 63%|██████▎   | 41/65 [00:37<00:21,  1.10it/s]\n",
      "  0%|          | 0/160 [00:00<?, ?it/s]\u001b[A\n",
      " 19%|█▉        | 30/160 [00:00<00:00, 293.61it/s]\u001b[A\n",
      " 38%|███▊      | 60/160 [00:00<00:00, 292.82it/s]\u001b[A\n",
      " 55%|█████▌    | 88/160 [00:00<00:00, 287.39it/s]\u001b[A\n",
      " 74%|███████▍  | 119/160 [00:00<00:00, 291.55it/s]\u001b[A\n",
      " 94%|█████████▍| 150/160 [00:00<00:00, 294.07it/s]\u001b[A\n",
      " 65%|██████▍   | 42/65 [00:38<00:20,  1.10it/s]\n",
      "  0%|          | 0/160 [00:00<?, ?it/s]\u001b[A\n",
      " 19%|█▉        | 31/160 [00:00<00:00, 305.14it/s]\u001b[A\n",
      " 36%|███▋      | 58/160 [00:00<00:00, 284.74it/s]\u001b[A\n",
      " 55%|█████▌    | 88/160 [00:00<00:00, 289.04it/s]\u001b[A\n",
      " 73%|███████▎  | 117/160 [00:00<00:00, 289.42it/s]\u001b[A\n",
      " 92%|█████████▏| 147/160 [00:00<00:00, 291.29it/s]\u001b[A\n",
      " 66%|██████▌   | 43/65 [00:38<00:19,  1.10it/s]\n",
      "  0%|          | 0/160 [00:00<?, ?it/s]\u001b[A\n",
      " 19%|█▉        | 31/160 [00:00<00:00, 302.37it/s]\u001b[A\n",
      " 39%|███▉      | 62/160 [00:00<00:00, 304.81it/s]\u001b[A\n",
      " 57%|█████▋    | 91/160 [00:00<00:00, 297.89it/s]\u001b[A\n",
      " 76%|███████▋  | 122/160 [00:00<00:00, 297.18it/s]\u001b[A\n",
      " 94%|█████████▍| 151/160 [00:00<00:00, 295.68it/s]\u001b[A\n",
      " 68%|██████▊   | 44/65 [00:39<00:19,  1.10it/s]\n",
      "  0%|          | 0/160 [00:00<?, ?it/s]\u001b[A\n",
      " 20%|██        | 32/160 [00:00<00:00, 311.28it/s]\u001b[A\n",
      " 39%|███▉      | 62/160 [00:00<00:00, 301.96it/s]\u001b[A\n",
      " 57%|█████▊    | 92/160 [00:00<00:00, 298.26it/s]\u001b[A\n",
      " 76%|███████▋  | 122/160 [00:00<00:00, 296.70it/s]\u001b[A\n",
      " 94%|█████████▍| 151/160 [00:00<00:00, 294.14it/s]\u001b[A\n",
      " 69%|██████▉   | 45/65 [00:40<00:18,  1.10it/s]\n",
      "  0%|          | 0/160 [00:00<?, ?it/s]\u001b[A\n",
      " 19%|█▉        | 31/160 [00:00<00:00, 304.46it/s]\u001b[A\n",
      " 38%|███▊      | 60/160 [00:00<00:00, 296.26it/s]\u001b[A\n",
      " 56%|█████▋    | 90/160 [00:00<00:00, 295.26it/s]\u001b[A\n",
      " 75%|███████▌  | 120/160 [00:00<00:00, 295.39it/s]\u001b[A\n",
      " 94%|█████████▍| 151/160 [00:00<00:00, 296.75it/s]\u001b[A\n",
      " 71%|███████   | 46/65 [00:41<00:17,  1.10it/s]\n",
      "  0%|          | 0/160 [00:00<?, ?it/s]\u001b[A\n",
      " 20%|██        | 32/160 [00:00<00:00, 309.88it/s]\u001b[A\n",
      " 38%|███▊      | 61/160 [00:00<00:00, 298.62it/s]\u001b[A\n",
      " 56%|█████▋    | 90/160 [00:00<00:00, 295.01it/s]\u001b[A\n",
      " 72%|███████▏  | 115/160 [00:00<00:00, 281.37it/s]\u001b[A\n",
      " 91%|█████████▏| 146/160 [00:00<00:00, 285.99it/s]\u001b[A\n",
      " 72%|███████▏  | 47/65 [00:42<00:16,  1.10it/s]\n",
      "  0%|          | 0/160 [00:00<?, ?it/s]\u001b[A\n",
      " 19%|█▉        | 30/160 [00:00<00:00, 292.99it/s]\u001b[A\n",
      " 38%|███▊      | 61/160 [00:00<00:00, 297.77it/s]\u001b[A\n",
      " 56%|█████▋    | 90/160 [00:00<00:00, 294.33it/s]\u001b[A\n",
      " 75%|███████▌  | 120/160 [00:00<00:00, 295.13it/s]\u001b[A\n",
      " 94%|█████████▍| 151/160 [00:00<00:00, 296.99it/s]\u001b[A\n",
      " 74%|███████▍  | 48/65 [00:43<00:15,  1.10it/s]\n",
      "  0%|          | 0/160 [00:00<?, ?it/s]\u001b[A\n",
      " 19%|█▉        | 30/160 [00:00<00:00, 293.19it/s]\u001b[A\n",
      " 37%|███▋      | 59/160 [00:00<00:00, 290.45it/s]\u001b[A\n",
      " 55%|█████▌    | 88/160 [00:00<00:00, 289.39it/s]\u001b[A\n",
      " 74%|███████▍  | 118/160 [00:00<00:00, 290.57it/s]\u001b[A\n",
      " 92%|█████████▎| 148/160 [00:00<00:00, 291.85it/s]\u001b[A\n",
      " 75%|███████▌  | 49/65 [00:44<00:14,  1.10it/s]\n",
      "  0%|          | 0/160 [00:00<?, ?it/s]\u001b[A\n",
      " 19%|█▉        | 30/160 [00:00<00:00, 294.75it/s]\u001b[A\n",
      " 34%|███▍      | 54/160 [00:00<00:00, 267.69it/s]\u001b[A\n",
      " 52%|█████▏    | 83/160 [00:00<00:00, 272.27it/s]\u001b[A\n",
      " 71%|███████   | 113/160 [00:00<00:00, 277.83it/s]\u001b[A\n",
      " 89%|████████▉ | 142/160 [00:00<00:00, 279.82it/s]\u001b[A\n",
      " 77%|███████▋  | 50/65 [00:45<00:13,  1.10it/s]\n",
      "  0%|          | 0/160 [00:00<?, ?it/s]\u001b[A\n",
      " 19%|█▉        | 31/160 [00:00<00:00, 304.59it/s]\u001b[A\n",
      " 38%|███▊      | 60/160 [00:00<00:00, 296.66it/s]\u001b[A\n",
      " 56%|█████▋    | 90/160 [00:00<00:00, 295.59it/s]\u001b[A\n",
      " 76%|███████▌  | 121/160 [00:00<00:00, 298.56it/s]\u001b[A\n",
      " 91%|█████████▏| 146/160 [00:00<00:00, 287.09it/s]\u001b[A\n",
      " 78%|███████▊  | 51/65 [00:46<00:12,  1.10it/s]\n",
      "  0%|          | 0/160 [00:00<?, ?it/s]\u001b[A\n",
      " 20%|██        | 32/160 [00:00<00:00, 305.92it/s]\u001b[A\n",
      " 39%|███▉      | 62/160 [00:00<00:00, 303.36it/s]\u001b[A\n",
      " 57%|█████▊    | 92/160 [00:00<00:00, 299.88it/s]\u001b[A\n",
      " 77%|███████▋  | 123/160 [00:00<00:00, 301.08it/s]\u001b[A\n",
      " 96%|█████████▌| 153/160 [00:00<00:00, 300.61it/s]\u001b[A\n",
      " 80%|████████  | 52/65 [00:47<00:11,  1.10it/s]\n",
      "  0%|          | 0/160 [00:00<?, ?it/s]\u001b[A\n",
      " 18%|█▊        | 29/160 [00:00<00:00, 284.79it/s]\u001b[A\n",
      " 37%|███▋      | 59/160 [00:00<00:00, 289.43it/s]\u001b[A\n",
      " 55%|█████▌    | 88/160 [00:00<00:00, 288.46it/s]\u001b[A\n",
      " 73%|███████▎  | 117/160 [00:00<00:00, 288.59it/s]\u001b[A\n",
      " 92%|█████████▏| 147/160 [00:00<00:00, 290.77it/s]\u001b[A\n",
      " 82%|████████▏ | 53/65 [00:47<00:10,  1.10it/s]\n",
      "  0%|          | 0/160 [00:00<?, ?it/s]\u001b[A\n",
      " 20%|██        | 32/160 [00:00<00:00, 309.16it/s]\u001b[A\n",
      " 39%|███▉      | 62/160 [00:00<00:00, 302.90it/s]\u001b[A\n",
      " 55%|█████▌    | 88/160 [00:00<00:00, 288.27it/s]\u001b[A\n",
      " 73%|███████▎  | 117/160 [00:00<00:00, 286.93it/s]\u001b[A\n",
      " 91%|█████████▏| 146/160 [00:00<00:00, 286.82it/s]\u001b[A\n",
      " 83%|████████▎ | 54/65 [00:48<00:09,  1.10it/s]\n",
      "  0%|          | 0/160 [00:00<?, ?it/s]\u001b[A\n",
      " 20%|██        | 32/160 [00:00<00:00, 309.14it/s]\u001b[A\n",
      " 39%|███▉      | 62/160 [00:00<00:00, 302.07it/s]\u001b[A\n",
      " 57%|█████▋    | 91/160 [00:00<00:00, 295.85it/s]\u001b[A\n",
      " 75%|███████▌  | 120/160 [00:00<00:00, 292.12it/s]\u001b[A\n",
      " 93%|█████████▎| 149/160 [00:00<00:00, 291.55it/s]\u001b[A\n",
      " 85%|████████▍ | 55/65 [00:49<00:09,  1.10it/s]\n",
      "  0%|          | 0/160 [00:00<?, ?it/s]\u001b[A\n",
      " 19%|█▉        | 30/160 [00:00<00:00, 291.10it/s]\u001b[A\n",
      " 38%|███▊      | 60/160 [00:00<00:00, 292.72it/s]\u001b[A\n",
      " 56%|█████▌    | 89/160 [00:00<00:00, 290.53it/s]\u001b[A\n",
      " 74%|███████▍  | 119/160 [00:00<00:00, 290.51it/s]\u001b[A\n",
      " 93%|█████████▎| 149/160 [00:00<00:00, 291.88it/s]\u001b[A\n",
      " 86%|████████▌ | 56/65 [00:50<00:08,  1.10it/s]\n",
      "  0%|          | 0/160 [00:00<?, ?it/s]\u001b[A\n",
      " 18%|█▊        | 28/160 [00:00<00:00, 270.95it/s]\u001b[A\n",
      " 36%|███▋      | 58/160 [00:00<00:00, 283.19it/s]\u001b[A\n",
      " 54%|█████▍    | 87/160 [00:00<00:00, 283.92it/s]\u001b[A\n",
      " 71%|███████▏  | 114/160 [00:00<00:00, 279.92it/s]\u001b[A\n",
      " 90%|█████████ | 144/160 [00:00<00:00, 282.51it/s]\u001b[A\n",
      " 88%|████████▊ | 57/65 [00:51<00:07,  1.10it/s]\n",
      "  0%|          | 0/160 [00:00<?, ?it/s]\u001b[A\n",
      " 19%|█▉        | 31/160 [00:00<00:00, 300.40it/s]\u001b[A\n",
      " 38%|███▊      | 60/160 [00:00<00:00, 294.56it/s]\u001b[A\n",
      " 56%|█████▋    | 90/160 [00:00<00:00, 293.90it/s]\u001b[A\n",
      " 72%|███████▎  | 116/160 [00:00<00:00, 284.27it/s]\u001b[A\n",
      " 91%|█████████▏| 146/160 [00:00<00:00, 285.35it/s]\u001b[A\n",
      " 89%|████████▉ | 58/65 [00:52<00:06,  1.10it/s]\n",
      "  0%|          | 0/160 [00:00<?, ?it/s]\u001b[A\n",
      " 19%|█▉        | 31/160 [00:00<00:00, 305.69it/s]\u001b[A\n",
      " 38%|███▊      | 60/160 [00:00<00:00, 293.77it/s]\u001b[A\n",
      " 56%|█████▌    | 89/160 [00:00<00:00, 291.50it/s]\u001b[A\n",
      " 74%|███████▍  | 118/160 [00:00<00:00, 290.57it/s]\u001b[A\n",
      " 92%|█████████▎| 148/160 [00:00<00:00, 291.80it/s]\u001b[A\n",
      " 91%|█████████ | 59/65 [00:53<00:05,  1.10it/s]\n",
      "  0%|          | 0/160 [00:00<?, ?it/s]\u001b[A\n",
      " 19%|█▉        | 31/160 [00:00<00:00, 297.48it/s]\u001b[A\n",
      " 38%|███▊      | 60/160 [00:00<00:00, 289.05it/s]\u001b[A\n",
      " 56%|█████▌    | 89/160 [00:00<00:00, 288.08it/s]\u001b[A\n",
      " 74%|███████▍  | 118/160 [00:00<00:00, 288.21it/s]\u001b[A\n",
      " 92%|█████████▎| 148/160 [00:00<00:00, 289.82it/s]\u001b[A\n",
      " 92%|█████████▏| 60/65 [00:54<00:04,  1.10it/s]\n",
      "  0%|          | 0/160 [00:00<?, ?it/s]\u001b[A\n",
      " 19%|█▉        | 30/160 [00:00<00:00, 290.32it/s]\u001b[A\n",
      " 35%|███▌      | 56/160 [00:00<00:00, 272.64it/s]\u001b[A\n",
      " 53%|█████▎    | 85/160 [00:00<00:00, 277.00it/s]\u001b[A\n",
      " 71%|███████▏  | 114/160 [00:00<00:00, 279.47it/s]\u001b[A\n",
      " 89%|████████▉ | 143/160 [00:00<00:00, 279.30it/s]\u001b[A\n",
      " 94%|█████████▍| 61/65 [00:55<00:03,  1.10it/s]\n",
      "  0%|          | 0/160 [00:00<?, ?it/s]\u001b[A\n",
      " 19%|█▉        | 30/160 [00:00<00:00, 291.04it/s]\u001b[A\n",
      " 38%|███▊      | 60/160 [00:00<00:00, 293.90it/s]\u001b[A\n",
      " 56%|█████▋    | 90/160 [00:00<00:00, 293.26it/s]\u001b[A\n",
      " 76%|███████▌  | 121/160 [00:00<00:00, 295.84it/s]\u001b[A\n",
      " 92%|█████████▏| 147/160 [00:00<00:00, 288.14it/s]\u001b[A\n",
      " 95%|█████████▌| 62/65 [00:56<00:02,  1.10it/s]\n",
      "  0%|          | 0/160 [00:00<?, ?it/s]\u001b[A\n",
      " 19%|█▉        | 30/160 [00:00<00:00, 291.92it/s]\u001b[A\n",
      " 38%|███▊      | 60/160 [00:00<00:00, 294.43it/s]\u001b[A\n",
      " 56%|█████▋    | 90/160 [00:00<00:00, 293.96it/s]\u001b[A\n",
      " 76%|███████▌  | 121/160 [00:00<00:00, 297.19it/s]\u001b[A\n",
      " 94%|█████████▍| 150/160 [00:00<00:00, 293.66it/s]\u001b[A\n",
      " 97%|█████████▋| 63/65 [00:57<00:01,  1.10it/s]\n",
      "  0%|          | 0/160 [00:00<?, ?it/s]\u001b[A\n",
      " 19%|█▉        | 31/160 [00:00<00:00, 302.03it/s]\u001b[A\n",
      " 38%|███▊      | 61/160 [00:00<00:00, 295.54it/s]\u001b[A\n",
      " 56%|█████▌    | 89/160 [00:00<00:00, 291.02it/s]\u001b[A\n",
      " 74%|███████▍  | 119/160 [00:00<00:00, 291.66it/s]\u001b[A\n",
      " 92%|█████████▎| 148/160 [00:00<00:00, 291.18it/s]\u001b[A\n",
      " 98%|█████████▊| 64/65 [00:57<00:00,  1.10it/s]\n",
      "  0%|          | 0/160 [00:00<?, ?it/s]\u001b[A\n",
      " 18%|█▊        | 29/160 [00:00<00:00, 282.51it/s]\u001b[A\n",
      " 37%|███▋      | 59/160 [00:00<00:00, 291.11it/s]\u001b[A\n",
      " 52%|█████▎    | 84/160 [00:00<00:00, 275.14it/s]\u001b[A\n",
      " 71%|███████   | 113/160 [00:00<00:00, 277.92it/s]\u001b[A\n",
      " 89%|████████▉ | 142/160 [00:00<00:00, 279.13it/s]\u001b[A\n",
      "100%|██████████| 65/65 [00:58<00:00,  1.10it/s]\n"
     ]
    }
   ],
   "source": [
    "threshList = []\n",
    "IoUList = []\n",
    "IoUValList = []\n",
    "for kk in tqdm(range(65)):\n",
    "    thresh = 0.3 + 0.7*(1+kk)/65\n",
    "    threshList.append(thresh)\n",
    "    \n",
    "    meanIoUVal = 0\n",
    "    \n",
    "    preds_val_ws = ModelUNet.WaterShedChangeAll(preds_val, lowThresh = 0.1, highThresh = thresh)\n",
    "    meanIoUVal = np.array([ModelUNet.IoU(preds_val_ws[i], Y_val[i]) for i in range(Y_val.shape[0])])\n",
    "    IoUValList.append(np.mean(meanIoUVal) )\n",
    "    "
   ]
  },
  {
   "cell_type": "code",
   "execution_count": 80,
   "metadata": {
    "colab": {
     "base_uri": "https://localhost:8080/",
     "height": 311
    },
    "colab_type": "code",
    "executionInfo": {
     "elapsed": 762,
     "status": "ok",
     "timestamp": 1534551565179,
     "user": {
      "displayName": "Luiz Edmundo Mizutani",
      "photoUrl": "//lh3.googleusercontent.com/-Rw_nbV34Ht4/AAAAAAAAAAI/AAAAAAAAPVQ/alhcabwDDGU/s50-c-k-no/photo.jpg",
      "userId": "115383070328375888392"
     },
     "user_tz": 180
    },
    "id": "GizYIqjvOJBK",
    "outputId": "9619ebaa-215a-446c-c790-f4122b47ec12"
   },
   "outputs": [
    {
     "data": {
      "text/plain": [
       "[<matplotlib.lines.Line2D at 0x7f7041ec9518>]"
      ]
     },
     "execution_count": 80,
     "metadata": {
      "tags": []
     },
     "output_type": "execute_result"
    },
    {
     "data": {
      "image/png": "[encoded data removed]",
      "text/plain": [
       "<matplotlib.figure.Figure at 0x7f7041ec9550>"
      ]
     },
     "metadata": {
      "tags": []
     },
     "output_type": "display_data"
    }
   ],
   "source": [
    "plt.title('IoU curve')\n",
    "plt.ylabel('IoU')\n",
    "plt.xlabel('threshold')\n",
    "\n",
    "#plt.plot(threshList, IoUList)\n",
    "plt.plot(threshList, IoUValList)"
   ]
  },
  {
   "cell_type": "code",
   "execution_count": 81,
   "metadata": {
    "colab": {
     "base_uri": "https://localhost:8080/",
     "height": 34
    },
    "colab_type": "code",
    "executionInfo": {
     "elapsed": 618,
     "status": "ok",
     "timestamp": 1534551566022,
     "user": {
      "displayName": "Luiz Edmundo Mizutani",
      "photoUrl": "//lh3.googleusercontent.com/-Rw_nbV34Ht4/AAAAAAAAAAI/AAAAAAAAPVQ/alhcabwDDGU/s50-c-k-no/photo.jpg",
      "userId": "115383070328375888392"
     },
     "user_tz": 180
    },
    "id": "67s2TbHOOJBR",
    "outputId": "c59386bb-aead-4d38-c482-168d3043dd2e"
   },
   "outputs": [
    {
     "name": "stdout",
     "output_type": "stream",
     "text": [
      "Thresh: 0.5692307692307692  ExpectedIoU: 0.8275\n"
     ]
    }
   ],
   "source": [
    "wsThresh = threshList[np.argmax(IoUValList)]\n",
    "print('Thresh: {}  ExpectedIoU: {}'.format(wsThresh, max(IoUValList)))"
   ]
  },
  {
   "cell_type": "markdown",
   "metadata": {
    "colab_type": "text",
    "id": "T0f8hubjOJBV"
   },
   "source": [
    "## Threshold optimization"
   ]
  },
  {
   "cell_type": "code",
   "execution_count": 82,
   "metadata": {
    "colab": {
     "base_uri": "https://localhost:8080/",
     "height": 34
    },
    "colab_type": "code",
    "executionInfo": {
     "elapsed": 104051,
     "status": "ok",
     "timestamp": 1534551671270,
     "user": {
      "displayName": "Luiz Edmundo Mizutani",
      "photoUrl": "//lh3.googleusercontent.com/-Rw_nbV34Ht4/AAAAAAAAAAI/AAAAAAAAPVQ/alhcabwDDGU/s50-c-k-no/photo.jpg",
      "userId": "115383070328375888392"
     },
     "user_tz": 180
    },
    "id": "8T71Irhvda5m",
    "outputId": "c09982e9-3a95-4ed9-ff15-65be10c07a5f"
   },
   "outputs": [
    {
     "name": "stderr",
     "output_type": "stream",
     "text": [
      "100%|██████████| 13/13 [01:43<00:00,  7.95s/it]\n"
     ]
    }
   ],
   "source": [
    "threshList = []\n",
    "IoUList = []\n",
    "IoUValList = []\n",
    "for kk in tqdm(range(13)):\n",
    "    thresh = (1+kk)/13\n",
    "    threshList.append(thresh)\n",
    "    preds_train_t = (preds_train > thresh).astype(np.uint8)\n",
    "    preds_val_t = (preds_val > thresh).astype(np.uint8)\n",
    "    meanIoU = np.array([ModelUNet.IoU(preds_train_t[i], Y_train0[i]) for i in range(Y_train0.shape[0])])\n",
    "    IoUList.append(np.mean(meanIoU) )\n",
    "    meanIoUVal = np.array([ModelUNet.IoU(preds_val_t[i], Y_val[i]) for i in range(Y_val.shape[0])])\n",
    "    IoUValList.append(np.mean(meanIoUVal) )"
   ]
  },
  {
   "cell_type": "code",
   "execution_count": 83,
   "metadata": {
    "colab": {
     "base_uri": "https://localhost:8080/",
     "height": 311
    },
    "colab_type": "code",
    "executionInfo": {
     "elapsed": 918,
     "status": "ok",
     "timestamp": 1534551672382,
     "user": {
      "displayName": "Luiz Edmundo Mizutani",
      "photoUrl": "//lh3.googleusercontent.com/-Rw_nbV34Ht4/AAAAAAAAAAI/AAAAAAAAPVQ/alhcabwDDGU/s50-c-k-no/photo.jpg",
      "userId": "115383070328375888392"
     },
     "user_tz": 180
    },
    "id": "wg0NipGnddCw",
    "outputId": "58dc82c1-88b2-43c2-e98c-5767ddd9372b"
   },
   "outputs": [
    {
     "data": {
      "text/plain": [
       "[<matplotlib.lines.Line2D at 0x7f7041f93f60>]"
      ]
     },
     "execution_count": 83,
     "metadata": {
      "tags": []
     },
     "output_type": "execute_result"
    },
    {
     "data": {
      "image/png": "[encoded data removed]",
      "text/plain": [
       "<matplotlib.figure.Figure at 0x7f7041f3d4e0>"
      ]
     },
     "metadata": {
      "tags": []
     },
     "output_type": "display_data"
    }
   ],
   "source": [
    "plt.title('IoU curve')\n",
    "plt.ylabel('IoU')\n",
    "plt.xlabel('threshold')\n",
    "\n",
    "plt.plot(threshList, IoUList)\n",
    "plt.plot(threshList, IoUValList)"
   ]
  },
  {
   "cell_type": "code",
   "execution_count": 84,
   "metadata": {
    "colab": {
     "base_uri": "https://localhost:8080/",
     "height": 34
    },
    "colab_type": "code",
    "executionInfo": {
     "elapsed": 633,
     "status": "ok",
     "timestamp": 1534551673207,
     "user": {
      "displayName": "Luiz Edmundo Mizutani",
      "photoUrl": "//lh3.googleusercontent.com/-Rw_nbV34Ht4/AAAAAAAAAAI/AAAAAAAAPVQ/alhcabwDDGU/s50-c-k-no/photo.jpg",
      "userId": "115383070328375888392"
     },
     "user_tz": 180
    },
    "id": "cQ_VOkO0de6p",
    "outputId": "95c673fd-9f13-40a3-aa72-776614bff454"
   },
   "outputs": [
    {
     "name": "stdout",
     "output_type": "stream",
     "text": [
      "Thresh: 0.6923076923076923  ExpectedIoU: 0.825\n"
     ]
    }
   ],
   "source": [
    "thresh = threshList[np.argmax(IoUValList)]\n",
    "print('Thresh: {}  ExpectedIoU: {}'.format(thresh, max(IoUValList)))"
   ]
  },
  {
   "cell_type": "code",
   "execution_count": 0,
   "metadata": {
    "colab": {},
    "colab_type": "code",
    "id": "kor6dfuWkRgL"
   },
   "outputs": [],
   "source": [
    "thresh = 0.5"
   ]
  },
  {
   "cell_type": "markdown",
   "metadata": {
    "colab_type": "text",
    "id": "WC_JYxpGKQcj"
   },
   "source": [
    "# Predictions"
   ]
  },
  {
   "cell_type": "code",
   "execution_count": 0,
   "metadata": {
    "colab": {},
    "colab_type": "code",
    "id": "LvSeY71Trolu"
   },
   "outputs": [],
   "source": [
    "X_test, d_test = ImageReader.ReadSegmentationImages(testFolder, depthFile, readMasks = False)\n",
    "X_test = X_test/255.0 #(X_test-X_train_mean)/(2*X_train_std)\n",
    "\n",
    "#for i in tqdm(range(len(X_test))):\n",
    "#    X_test[i] = image_datagen.standardize(X_test[i].astype(float))"
   ]
  },
  {
   "cell_type": "code",
   "execution_count": 85,
   "metadata": {
    "colab": {
     "base_uri": "https://localhost:8080/",
     "height": 68
    },
    "colab_type": "code",
    "executionInfo": {
     "elapsed": 139930,
     "status": "ok",
     "timestamp": 1534551814182,
     "user": {
      "displayName": "Luiz Edmundo Mizutani",
      "photoUrl": "//lh3.googleusercontent.com/-Rw_nbV34Ht4/AAAAAAAAAAI/AAAAAAAAPVQ/alhcabwDDGU/s50-c-k-no/photo.jpg",
      "userId": "115383070328375888392"
     },
     "user_tz": 180
    },
    "id": "UQY0LPqMNf3G",
    "outputId": "645cb12e-a164-42b0-ae36-26ac88474c8e"
   },
   "outputs": [
    {
     "name": "stdout",
     "output_type": "stream",
     "text": [
      "3840/3840 [==============================] - 24s 6ms/step\n",
      "160/160 [==============================] - 1s 6ms/step\n",
      "18000/18000 [==============================] - 113s 6ms/step\n"
     ]
    }
   ],
   "source": [
    "# Predict on train, val and test\n",
    "\n",
    "preds_train = model.predict([X_train0, d_train0], verbose=1)\n",
    "preds_val = model.predict([X_val, d_val], verbose=1)\n",
    "preds_test = model.predict([X_test, d_test], verbose=1)\n",
    "\n",
    "\n",
    "# Threshold predictions\n",
    "preds_train_t = (preds_train > thresh).astype(np.uint8)\n",
    "preds_val_t = (preds_val > thresh).astype(np.uint8)\n",
    "preds_test_t = (preds_test > thresh).astype(np.uint8)\n"
   ]
  },
  {
   "cell_type": "code",
   "execution_count": 33,
   "metadata": {
    "colab": {
     "base_uri": "https://localhost:8080/",
     "height": 34
    },
    "colab_type": "code",
    "executionInfo": {
     "elapsed": 12564,
     "status": "ok",
     "timestamp": 1534486609494,
     "user": {
      "displayName": "Luiz Edmundo Mizutani",
      "photoUrl": "//lh3.googleusercontent.com/-Rw_nbV34Ht4/AAAAAAAAAAI/AAAAAAAAPVQ/alhcabwDDGU/s50-c-k-no/photo.jpg",
      "userId": "115383070328375888392"
     },
     "user_tz": 180
    },
    "id": "jix-7pr6R0MV",
    "outputId": "ab45de96-4c65-4709-950c-479b429a2ba0"
   },
   "outputs": [
    {
     "name": "stdout",
     "output_type": "stream",
     "text": [
      "18000/18000 [==============================] - 270s 15ms/step\n"
     ]
    }
   ],
   "source": [
    "preds_test = model.predict([X_test, d_test], verbose=1)\n",
    "preds_test_t = (preds_test > 0.5).astype(np.uint8)"
   ]
  },
  {
   "cell_type": "code",
   "execution_count": 86,
   "metadata": {
    "colab": {
     "base_uri": "https://localhost:8080/",
     "height": 34
    },
    "colab_type": "code",
    "executionInfo": {
     "elapsed": 58271,
     "status": "ok",
     "timestamp": 1534551872695,
     "user": {
      "displayName": "Luiz Edmundo Mizutani",
      "photoUrl": "//lh3.googleusercontent.com/-Rw_nbV34Ht4/AAAAAAAAAAI/AAAAAAAAPVQ/alhcabwDDGU/s50-c-k-no/photo.jpg",
      "userId": "115383070328375888392"
     },
     "user_tz": 180
    },
    "id": "ynhnACAcOv19",
    "outputId": "b4aea0be-4b95-4b66-8d5f-7d322b79ac76"
   },
   "outputs": [
    {
     "name": "stderr",
     "output_type": "stream",
     "text": [
      "100%|██████████| 18000/18000 [00:57<00:00, 313.69it/s]\n"
     ]
    }
   ],
   "source": [
    "#Watershed predictions\n",
    "preds_test_t = ModelUNet.WaterShedChangeAll(preds_test, lowThresh = 0.1, highThresh = wsThresh)"
   ]
  },
  {
   "cell_type": "code",
   "execution_count": 0,
   "metadata": {
    "colab": {
     "base_uri": "https://localhost:8080/",
     "height": 34
    },
    "colab_type": "code",
    "id": "I-a2-DznPRkG",
    "outputId": "30a99f22-1449-44e4-d816-a09a43a3e5d2"
   },
   "outputs": [
    {
     "data": {
      "text/plain": [
       "0"
      ]
     },
     "execution_count": 133,
     "metadata": {
      "tags": []
     },
     "output_type": "execute_result"
    }
   ],
   "source": [
    "lowPixCount = [imgId for imgId in range(len(preds_test_t)) if preds_test_t[imgId].sum() < 5 and preds_test_t[imgId].sum() > 0]\n",
    "len(lowPixCount)"
   ]
  },
  {
   "cell_type": "code",
   "execution_count": 0,
   "metadata": {
    "colab": {},
    "colab_type": "code",
    "id": "EImEPKhwNiVC"
   },
   "outputs": [],
   "source": [
    "for imId in lowPixCount:\n",
    "    preds_test_t[imId]=np.zeros( (101,101,1) )"
   ]
  },
  {
   "cell_type": "markdown",
   "metadata": {
    "colab_type": "text",
    "id": "3Eggn5qvQEdp"
   },
   "source": [
    "# Prepare Submission"
   ]
  },
  {
   "cell_type": "code",
   "execution_count": 87,
   "metadata": {
    "colab": {
     "base_uri": "https://localhost:8080/",
     "height": 51
    },
    "colab_type": "code",
    "executionInfo": {
     "elapsed": 447,
     "status": "ok",
     "timestamp": 1534551873527,
     "user": {
      "displayName": "Luiz Edmundo Mizutani",
      "photoUrl": "//lh3.googleusercontent.com/-Rw_nbV34Ht4/AAAAAAAAAAI/AAAAAAAAPVQ/alhcabwDDGU/s50-c-k-no/photo.jpg",
      "userId": "115383070328375888392"
     },
     "user_tz": 180
    },
    "id": "85EJ-_UNQkPw",
    "outputId": "7d33a48d-475c-425a-fc7d-008315537905"
   },
   "outputs": [
    {
     "name": "stdout",
     "output_type": "stream",
     "text": [
      "(18000, 101, 101, 1)\n",
      "(18000, 101, 101)\n"
     ]
    }
   ],
   "source": [
    "print(preds_test_t.shape)\n",
    "preds_test = preds_test_t.reshape(preds_test_t.shape[0], preds_test_t.shape[1], preds_test_t.shape[2])\n",
    "print(preds_test.shape)"
   ]
  },
  {
   "cell_type": "code",
   "execution_count": 88,
   "metadata": {
    "colab": {
     "base_uri": "https://localhost:8080/",
     "height": 34
    },
    "colab_type": "code",
    "executionInfo": {
     "elapsed": 437563,
     "status": "ok",
     "timestamp": 1534552311444,
     "user": {
      "displayName": "Luiz Edmundo Mizutani",
      "photoUrl": "//lh3.googleusercontent.com/-Rw_nbV34Ht4/AAAAAAAAAAI/AAAAAAAAPVQ/alhcabwDDGU/s50-c-k-no/photo.jpg",
      "userId": "115383070328375888392"
     },
     "user_tz": 180
    },
    "id": "Y5-1fLTJQGDo",
    "outputId": "0c2e9fa2-159e-47ea-b8b1-dd13c3f8c732"
   },
   "outputs": [
    {
     "name": "stderr",
     "output_type": "stream",
     "text": [
      "18000it [07:16, 41.19it/s]\n"
     ]
    }
   ],
   "source": [
    "def RLenc(img, order='F', format=True):\n",
    "    \"\"\"\n",
    "    img is binary mask image, shape (r,c)\n",
    "    order is down-then-right, i.e. Fortran\n",
    "    format determines if the order needs to be preformatted (according to submission rules) or not\n",
    "\n",
    "    returns run length as an array or string (if format is True)\n",
    "    \"\"\"\n",
    "    bytes = img.reshape(img.shape[0] * img.shape[1], order=order)\n",
    "    runs = []  ## list of run lengths\n",
    "    r = 0  ## the current run length\n",
    "    pos = 1  ## count starts from 1 per WK\n",
    "    for c in bytes:\n",
    "        if (c == 0):\n",
    "            if r != 0:\n",
    "                runs.append((pos, r))\n",
    "                pos += r\n",
    "                r = 0\n",
    "            pos += 1\n",
    "        else:\n",
    "            r += 1\n",
    "\n",
    "    # if last run is unsaved (i.e. data ends with 1)\n",
    "    if r != 0:\n",
    "        runs.append((pos, r))\n",
    "        pos += r\n",
    "        r = 0\n",
    "\n",
    "    if format:\n",
    "        z = ''\n",
    "\n",
    "        for rr in runs:\n",
    "            z += '{} {} '.format(rr[0], rr[1])\n",
    "        return z[:-1]\n",
    "    else:\n",
    "        return runs\n",
    "\n",
    "pred_dict = {fn[:-4]:RLenc(np.round(preds_test[i])) for i,fn in tqdm(enumerate(test_ids))}\n",
    "#pred_dict = {fn[:-4]:RLenc(np.round(preds_test[i])) for i,fn in (enumerate(test_ids))}"
   ]
  },
  {
   "cell_type": "code",
   "execution_count": 0,
   "metadata": {
    "colab": {},
    "colab_type": "code",
    "id": "7Nm1w6_RQJqw"
   },
   "outputs": [],
   "source": [
    "sub = pd.DataFrame.from_dict(pred_dict,orient='index')\n",
    "sub.index.names = ['id']\n",
    "sub.columns = ['rle_mask']\n",
    "sub.to_csv('submission.csv')"
   ]
  },
  {
   "cell_type": "code",
   "execution_count": 90,
   "metadata": {
    "colab": {
     "base_uri": "https://localhost:8080/",
     "height": 85
    },
    "colab_type": "code",
    "executionInfo": {
     "elapsed": 1220,
     "status": "ok",
     "timestamp": 1534552314746,
     "user": {
      "displayName": "Luiz Edmundo Mizutani",
      "photoUrl": "//lh3.googleusercontent.com/-Rw_nbV34Ht4/AAAAAAAAAAI/AAAAAAAAPVQ/alhcabwDDGU/s50-c-k-no/photo.jpg",
      "userId": "115383070328375888392"
     },
     "user_tz": 180
    },
    "id": "L5BqBHZbWPe3",
    "outputId": "9bbce49a-5d16-47ed-ce55-63846d1bc59e"
   },
   "outputs": [
    {
     "name": "stdout",
     "output_type": "stream",
     "text": [
      "creating archive\n",
      "adding with compression mode deflated\n",
      "closing\n",
      "submission.zip\n"
     ]
    }
   ],
   "source": [
    "import zipfile\n",
    "try:\n",
    "    import zlib\n",
    "    compression = zipfile.ZIP_DEFLATED\n",
    "except:\n",
    "    compression = zipfile.ZIP_STORED\n",
    "\n",
    "modes = { zipfile.ZIP_DEFLATED: 'deflated',\n",
    "          zipfile.ZIP_STORED:   'stored',\n",
    "          }\n",
    "\n",
    "print('creating archive')\n",
    "zf = zipfile.ZipFile('submission.zip', mode='w')\n",
    "try:\n",
    "    print('adding with compression mode {}'.format(modes[compression]))\n",
    "    zf.write('submission.csv', compress_type=compression)\n",
    "finally:\n",
    "    print('closing')\n",
    "    zf.close()\n",
    "\n",
    "print('submission.zip')"
   ]
  },
  {
   "cell_type": "code",
   "execution_count": 91,
   "metadata": {
    "colab": {
     "base_uri": "https://localhost:8080/",
     "height": 34
    },
    "colab_type": "code",
    "executionInfo": {
     "elapsed": 3725,
     "status": "ok",
     "timestamp": 1534552319298,
     "user": {
      "displayName": "Luiz Edmundo Mizutani",
      "photoUrl": "//lh3.googleusercontent.com/-Rw_nbV34Ht4/AAAAAAAAAAI/AAAAAAAAPVQ/alhcabwDDGU/s50-c-k-no/photo.jpg",
      "userId": "115383070328375888392"
     },
     "user_tz": 180
    },
    "id": "xYN4cqUumso9",
    "outputId": "ed63931e-683b-41e9-d662-0f640c523969"
   },
   "outputs": [
    {
     "name": "stdout",
     "output_type": "stream",
     "text": [
      "Successfully submitted to TGS Salt Identification Challenge"
     ]
    }
   ],
   "source": [
    "!kaggle competitions submit -c tgs-salt-identification-challenge -f submission.zip -m \"DeepLabv3, initial_lr=1e-3, backbone=xception, watershed\""
   ]
  },
  {
   "cell_type": "code",
   "execution_count": 72,
   "metadata": {
    "colab": {
     "base_uri": "https://localhost:8080/",
     "height": 34
    },
    "colab_type": "code",
    "executionInfo": {
     "elapsed": 5473,
     "status": "ok",
     "timestamp": 1534551166701,
     "user": {
      "displayName": "Luiz Edmundo Mizutani",
      "photoUrl": "//lh3.googleusercontent.com/-Rw_nbV34Ht4/AAAAAAAAAAI/AAAAAAAAPVQ/alhcabwDDGU/s50-c-k-no/photo.jpg",
      "userId": "115383070328375888392"
     },
     "user_tz": 180
    },
    "id": "HfKV1zNdyZKD",
    "outputId": "4376c708-db2b-4b34-84b8-7a8d6f681c39"
   },
   "outputs": [
    {
     "name": "stdout",
     "output_type": "stream",
     "text": [
      "Uploaded file with ID 1F5nNy6X_zLQB7nNpSasTBl3zWgBiHYwR\n"
     ]
    }
   ],
   "source": [
    "# Install the PyDrive wrapper & import libraries.\n",
    "# This only needs to be done once in a notebook.\n",
    "!pip install -U -q PyDrive\n",
    "from pydrive.auth import GoogleAuth\n",
    "from pydrive.drive import GoogleDrive\n",
    "from google.colab import auth\n",
    "from oauth2client.client import GoogleCredentials\n",
    "\n",
    "# Authenticate and create the PyDrive client.\n",
    "# This only needs to be done once in a notebook.\n",
    "auth.authenticate_user()\n",
    "gauth = GoogleAuth()\n",
    "gauth.credentials = GoogleCredentials.get_application_default()\n",
    "drive = GoogleDrive(gauth)\n",
    "\n",
    "# Create & upload a file.\n",
    "uploaded = drive.CreateFile({'title': 'model-tgs-salt-IV.h5'})\n",
    "uploaded.SetContentFile('model-tgs-salt-IV.h5')\n",
    "uploaded.Upload()\n",
    "print('Uploaded file with ID {}'.format(uploaded.get('id')))"
   ]
  }
 ],
 "metadata": {
  "accelerator": "GPU",
  "colab": {
   "collapsed_sections": [
    "yRUBTFaQXB_X"
   ],
   "name": "TGSSeismic2.ipynb",
   "provenance": [],
   "version": "0.3.2"
  },
  "kernelspec": {
   "display_name": "Python 3",
   "language": "python",
   "name": "python3"
  },
  "language_info": {
   "codemirror_mode": {
    "name": "ipython",
    "version": 3
   },
   "file_extension": ".py",
   "mimetype": "text/x-python",
   "name": "python",
   "nbconvert_exporter": "python",
   "pygments_lexer": "ipython3",
   "version": "3.6.5"
  }
 },
 "nbformat": 4,
 "nbformat_minor": 1
}
