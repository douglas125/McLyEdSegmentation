{
 "cells": [
  {
   "cell_type": "markdown",
   "metadata": {
    "colab_type": "text",
    "id": "mf2ENBI217Zd"
   },
   "source": [
    "# Kaggle TGS Geoseismic competition"
   ]
  },
  {
   "cell_type": "code",
   "execution_count": null,
   "metadata": {},
   "outputs": [],
   "source": [
    "!wget -q https://raw.githubusercontent.com/douglas125/McLyEdSegmentation/master/DeepLabv3Plus.py\n",
    "!wget -q https://raw.githubusercontent.com/douglas125/McLyEdSegmentation/master/ImageReader.py\n",
    "!wget -q https://raw.githubusercontent.com/douglas125/McLyEdSegmentation/master/ModelUNet.py\n",
    "!wget -q https://raw.githubusercontent.com/douglas125/McLyEdSegmentation/master/models.py\n",
    "!wget -q https://raw.githubusercontent.com/douglas125/McLyEdSegmentation/master/requirements.txt\n",
    "!wget -q https://raw.githubusercontent.com/douglas125/McLyEdSegmentation/master/LinkNet.py"
   ]
  },
  {
   "cell_type": "code",
   "execution_count": 1,
   "metadata": {
    "colab": {},
    "colab_type": "code",
    "id": "YMvFLpBQlBTR"
   },
   "outputs": [],
   "source": [
    "!pip install -r requirements.txt"
   ]
  },
  {
   "cell_type": "code",
   "execution_count": 1,
   "metadata": {
    "colab": {
     "base_uri": "https://localhost:8080/",
     "height": 318
    },
    "colab_type": "code",
    "id": "tWe1mkDDaGmA",
    "outputId": "ea56e3f6-6995-42ec-92fb-5b53c95782f3"
   },
   "outputs": [
    {
     "name": "stderr",
     "output_type": "stream",
     "text": [
      "/anaconda/envs/py35/lib/python3.5/site-packages/h5py/__init__.py:36: FutureWarning: Conversion of the second argument of issubdtype from `float` to `np.floating` is deprecated. In future, it will be treated as `np.float64 == np.dtype(float).type`.\n",
      "  from ._conv import register_converters as _register_converters\n"
     ]
    },
    {
     "name": "stdout",
     "output_type": "stream",
     "text": [
      "[name: \"/device:CPU:0\"\n",
      "device_type: \"CPU\"\n",
      "memory_limit: 268435456\n",
      "locality {\n",
      "}\n",
      "incarnation: 8188585273154669277\n",
      ", name: \"/device:GPU:0\"\n",
      "device_type: \"GPU\"\n",
      "memory_limit: 11280308634\n",
      "locality {\n",
      "  bus_id: 1\n",
      "  links {\n",
      "  }\n",
      "}\n",
      "incarnation: 11032256937816566186\n",
      "physical_device_desc: \"device: 0, name: Tesla K80, pci bus id: 27a3:00:00.0, compute capability: 3.7\"\n",
      "]\n"
     ]
    }
   ],
   "source": [
    "from tensorflow.python.client import device_lib\n",
    "print(device_lib.list_local_devices())"
   ]
  },
  {
   "cell_type": "markdown",
   "metadata": {
    "colab_type": "text",
    "id": "pBETV6aO2d39"
   },
   "source": [
    "# API Credentials\n",
    "\n",
    "To use the Kaggle API, sign up for a Kaggle account at https://www.kaggle.com. Then go to the 'Account' tab of your user profile (https://www.kaggle.com/<username>/account) and select 'Create API Token'. This will trigger the download of kaggle.json, a file containing your API credentials. \n",
    "\n",
    "Place this file on your Google Drive anywhere.\n",
    "\n",
    "With the next snippet you download your credentials to Colab and you can start using Kaggle API"
   ]
  },
  {
   "cell_type": "code",
   "execution_count": 3,
   "metadata": {
    "colab": {
     "base_uri": "https://localhost:8080/",
     "height": 34
    },
    "colab_type": "code",
    "id": "y5_288BYp6H1",
    "outputId": "7615aa5e-a752-4691-bde4-2f476f6e067c"
   },
   "outputs": [
    {
     "name": "stdout",
     "output_type": "stream",
     "text": [
      "Download 100%.\n"
     ]
    }
   ],
   "source": [
    "from googleapiclient.discovery import build\n",
    "import io, os\n",
    "from googleapiclient.http import MediaIoBaseDownload\n",
    "from google.colab import auth\n",
    "\n",
    "auth.authenticate_user()\n",
    "\n",
    "drive_service = build('drive', 'v3')\n",
    "results = drive_service.files().list(\n",
    "        q=\"name = 'kaggle.json'\", fields=\"files(id)\").execute()\n",
    "kaggle_api_key = results.get('files', [])\n",
    "\n",
    "filename = \"/content/.kaggle/kaggle.json\"\n",
    "os.makedirs(os.path.dirname(filename), exist_ok=True)\n",
    "\n",
    "request = drive_service.files().get_media(fileId=kaggle_api_key[0]['id'])\n",
    "fh = io.FileIO(filename, 'wb')\n",
    "downloader = MediaIoBaseDownload(fh, request)\n",
    "done = False\n",
    "while done is False:\n",
    "    status, done = downloader.next_chunk()\n",
    "    print(\"Download %d%%.\" % int(status.progress() * 100))\n",
    "os.chmod(filename, 600)\n",
    "\n",
    "!mkdir ~/.kaggle\n",
    "!cp /content/.kaggle/kaggle.json ~/.kaggle/kaggle.json"
   ]
  },
  {
   "cell_type": "code",
   "execution_count": 4,
   "metadata": {
    "colab": {},
    "colab_type": "code",
    "id": "5l1V_oxXsZ8l"
   },
   "outputs": [],
   "source": [
    "#!kaggle datasets list"
   ]
  },
  {
   "cell_type": "code",
   "execution_count": 5,
   "metadata": {
    "colab": {
     "base_uri": "https://localhost:8080/",
     "height": 34
    },
    "colab_type": "code",
    "id": "L-MSBCgPkI9V",
    "outputId": "292c50a8-867e-435d-f8f6-5912c408e19f"
   },
   "outputs": [
    {
     "name": "stdout",
     "output_type": "stream",
     "text": [
      "Warning: Your Kaggle API key is readable by otherusers on this system! To fix this, you can run'chmod 600 /home/douglas125/.kaggle/kaggle.json'\n",
      "Downloading depths.csv to /home/douglas125/McLyEdSegmentation\n",
      "  0%|                                                | 0.00/322k [00:00<?, ?B/s]\n",
      "100%|████████████████████████████████████████| 322k/322k [00:00<00:00, 15.6MB/s]\n",
      "Downloading sample_submission.csv to /home/douglas125/McLyEdSegmentation\n",
      "  0%|                                                | 0.00/264k [00:00<?, ?B/s]\n",
      "100%|████████████████████████████████████████| 264k/264k [00:00<00:00, 47.1MB/s]\n",
      "Downloading train.csv to /home/douglas125/McLyEdSegmentation\n",
      "  0%|                                                | 0.00/922k [00:00<?, ?B/s]\n",
      "100%|████████████████████████████████████████| 922k/922k [00:00<00:00, 70.0MB/s]\n",
      "Downloading test.zip to /home/douglas125/McLyEdSegmentation\n",
      " 95%|██████████████████████████████████████▉  | 155M/163M [00:01<00:00, 131MB/s]\n",
      "100%|█████████████████████████████████████████| 163M/163M [00:01<00:00, 122MB/s]\n",
      "Downloading train.zip to /home/douglas125/McLyEdSegmentation\n",
      " 76%|█████████████████████████████         | 29.0M/37.9M [00:00<00:00, 70.4MB/s]\n",
      "100%|███████████████████████████████████████| 37.9M/37.9M [00:00<00:00, 104MB/s]\n"
     ]
    }
   ],
   "source": [
    "!kaggle competitions download -c tgs-salt-identification-challenge"
   ]
  },
  {
   "cell_type": "markdown",
   "metadata": {
    "colab_type": "text",
    "id": "-4T8ufsAkQts"
   },
   "source": [
    "Reference: [https://github.com/Kaggle/kaggle-api](https://github.com/Kaggle/kaggle-api)"
   ]
  },
  {
   "cell_type": "markdown",
   "metadata": {
    "colab_type": "text",
    "id": "wt72EaD62qHM"
   },
   "source": [
    "# Data Exploration"
   ]
  },
  {
   "cell_type": "code",
   "execution_count": 7,
   "metadata": {
    "colab": {
     "base_uri": "https://localhost:8080/",
     "height": 345
    },
    "colab_type": "code",
    "id": "FaCbaUks2TN2",
    "outputId": "e0de925f-e65c-44c8-9b5e-f37620c94932"
   },
   "outputs": [],
   "source": [
    "import zipfile\n",
    "zip_ref = zipfile.ZipFile('train.zip', 'r')\n",
    "zip_ref.extractall('tgs-salt-identification-challenge/trainData')\n",
    "zip_ref.close()"
   ]
  },
  {
   "cell_type": "code",
   "execution_count": 8,
   "metadata": {
    "colab": {},
    "colab_type": "code",
    "id": "T9NE1-oF8UGv"
   },
   "outputs": [],
   "source": [
    "zip_ref = zipfile.ZipFile('test.zip', 'r')\n",
    "zip_ref.extractall('tgs-salt-identification-challenge/testData')\n",
    "zip_ref.close()"
   ]
  },
  {
   "cell_type": "code",
   "execution_count": 1,
   "metadata": {
    "colab": {
     "base_uri": "https://localhost:8080/",
     "height": 34
    },
    "colab_type": "code",
    "id": "bYDGN_2W6Pmp",
    "outputId": "279c496b-97bc-46b9-bf15-a2226bfb5d78"
   },
   "outputs": [
    {
     "name": "stderr",
     "output_type": "stream",
     "text": [
      "C:\\Users\\Douglas\\Anaconda3\\lib\\site-packages\\h5py\\__init__.py:36: FutureWarning: Conversion of the second argument of issubdtype from `float` to `np.floating` is deprecated. In future, it will be treated as `np.float64 == np.dtype(float).type`.\n",
      "  from ._conv import register_converters as _register_converters\n",
      "Using TensorFlow backend.\n"
     ]
    }
   ],
   "source": [
    "import os\n",
    "\n",
    "import pandas as pd\n",
    "import numpy as np\n",
    "import matplotlib.pyplot as plt\n",
    "%matplotlib inline\n",
    "from keras.preprocessing.image import ImageDataGenerator, array_to_img, img_to_array, load_img\n",
    "from tqdm import tqdm_notebook, tnrange, tqdm\n",
    "\n",
    "from scipy.signal import medfilt2d"
   ]
  },
  {
   "cell_type": "code",
   "execution_count": 2,
   "metadata": {
    "colab": {},
    "colab_type": "code",
    "id": "cWYuS0Zx5xIz"
   },
   "outputs": [],
   "source": [
    "trainFolder = 'tgs-salt-identification-challenge/trainData/'\n",
    "testFolder  = 'tgs-salt-identification-challenge/testData/'"
   ]
  },
  {
   "cell_type": "code",
   "execution_count": 3,
   "metadata": {
    "colab": {
     "base_uri": "https://localhost:8080/",
     "height": 34
    },
    "colab_type": "code",
    "id": "-iTxGqLx2TUh",
    "outputId": "1a0c2f3a-9ab4-4a03-b6e4-2648ebb5ca72"
   },
   "outputs": [
    {
     "name": "stderr",
     "output_type": "stream",
     "text": [
      "'ls' nÆo ‚ reconhecido como um comando interno\n",
      "ou externo, um programa oper vel ou um arquivo em lotes.\n"
     ]
    }
   ],
   "source": [
    "!ls tgs-salt-identification-challenge/testData/"
   ]
  },
  {
   "cell_type": "code",
   "execution_count": 4,
   "metadata": {
    "colab": {
     "base_uri": "https://localhost:8080/",
     "height": 204
    },
    "colab_type": "code",
    "id": "8KLX-j4vo0rG",
    "outputId": "61797aac-fe00-43dd-c0ef-cce24393977e"
   },
   "outputs": [
    {
     "data": {
      "text/html": [
       "<div>\n",
       "<style scoped>\n",
       "    .dataframe tbody tr th:only-of-type {\n",
       "        vertical-align: middle;\n",
       "    }\n",
       "\n",
       "    .dataframe tbody tr th {\n",
       "        vertical-align: top;\n",
       "    }\n",
       "\n",
       "    .dataframe thead th {\n",
       "        text-align: right;\n",
       "    }\n",
       "</style>\n",
       "<table border=\"1\" class=\"dataframe\">\n",
       "  <thead>\n",
       "    <tr style=\"text-align: right;\">\n",
       "      <th></th>\n",
       "      <th>id</th>\n",
       "      <th>z</th>\n",
       "    </tr>\n",
       "  </thead>\n",
       "  <tbody>\n",
       "    <tr>\n",
       "      <th>0</th>\n",
       "      <td>4ac19fb269</td>\n",
       "      <td>306</td>\n",
       "    </tr>\n",
       "    <tr>\n",
       "      <th>1</th>\n",
       "      <td>1825fadf99</td>\n",
       "      <td>157</td>\n",
       "    </tr>\n",
       "    <tr>\n",
       "      <th>2</th>\n",
       "      <td>f59821d067</td>\n",
       "      <td>305</td>\n",
       "    </tr>\n",
       "    <tr>\n",
       "      <th>3</th>\n",
       "      <td>5b435fad9d</td>\n",
       "      <td>503</td>\n",
       "    </tr>\n",
       "    <tr>\n",
       "      <th>4</th>\n",
       "      <td>e340e7bfca</td>\n",
       "      <td>783</td>\n",
       "    </tr>\n",
       "  </tbody>\n",
       "</table>\n",
       "</div>"
      ],
      "text/plain": [
       "           id    z\n",
       "0  4ac19fb269  306\n",
       "1  1825fadf99  157\n",
       "2  f59821d067  305\n",
       "3  5b435fad9d  503\n",
       "4  e340e7bfca  783"
      ]
     },
     "execution_count": 4,
     "metadata": {},
     "output_type": "execute_result"
    }
   ],
   "source": [
    "depthFile = pd.read_csv('depths.csv' )\n",
    "depthFile.head()"
   ]
  },
  {
   "cell_type": "code",
   "execution_count": 5,
   "metadata": {
    "colab": {
     "base_uri": "https://localhost:8080/",
     "height": 34
    },
    "colab_type": "code",
    "id": "ahZ9hvSDu4VM",
    "outputId": "e073742a-d259-464f-90de-d14cefb75c23"
   },
   "outputs": [
    {
     "data": {
      "text/plain": [
       "306"
      ]
     },
     "execution_count": 5,
     "metadata": {},
     "output_type": "execute_result"
    }
   ],
   "source": [
    "depthFile[depthFile['id'] == '4ac19fb269'].z.tolist()[0]"
   ]
  },
  {
   "cell_type": "code",
   "execution_count": 6,
   "metadata": {
    "colab": {
     "base_uri": "https://localhost:8080/",
     "height": 267
    },
    "colab_type": "code",
    "id": "wZiwNBFp2TSA",
    "outputId": "a41701ea-2d3f-486c-cef9-0229f60a9d11"
   },
   "outputs": [
    {
     "data": {
      "image/png": "[encoded data removed]",
      "text/plain": [
       "<Figure size 3600x1800 with 10 Axes>"
      ]
     },
     "metadata": {},
     "output_type": "display_data"
    }
   ],
   "source": [
    "ids= ['1f1cc6b3a4','5b7c160d0d','6c40978ddf','7dfdf6eeb8','7e5a6e5013']\n",
    "plt.figure(figsize=(50,25))\n",
    "for j, img_name in enumerate(ids):\n",
    "    q = j+1\n",
    "    img = load_img(trainFolder + 'images/' + img_name + '.png')\n",
    "    img_mask = load_img(trainFolder + 'masks/' + img_name + '.png')\n",
    "    \n",
    "    plt.subplot(1,2*(1+len(ids)),q*2-1)\n",
    "    plt.imshow(img)\n",
    "    plt.subplot(1,2*(1+len(ids)),q*2)\n",
    "    plt.imshow(img_mask)\n",
    "plt.show()"
   ]
  },
  {
   "cell_type": "code",
   "execution_count": 7,
   "metadata": {},
   "outputs": [],
   "source": [
    "%load_ext autoreload\n",
    "%autoreload 2\n",
    "\n",
    "import ImageReader"
   ]
  },
  {
   "cell_type": "code",
   "execution_count": 8,
   "metadata": {
    "colab": {},
    "colab_type": "code",
    "id": "0tpME6Io6EmS"
   },
   "outputs": [],
   "source": [
    "train_ids = next(os.walk(trainFolder +\"images\"))[2]\n",
    "test_ids = next(os.walk(testFolder +\"images\"))[2]"
   ]
  },
  {
   "cell_type": "code",
   "execution_count": null,
   "metadata": {},
   "outputs": [],
   "source": []
  },
  {
   "cell_type": "code",
   "execution_count": 10,
   "metadata": {
    "scrolled": true
   },
   "outputs": [
    {
     "name": "stdout",
     "output_type": "stream",
     "text": [
      "Getting images and masks ... \n"
     ]
    },
    {
     "name": "stderr",
     "output_type": "stream",
     "text": [
      "100%|█████████████████████████████████████████████████████████████████████████████| 4444/4444 [00:16<00:00, 269.38it/s]\n"
     ]
    },
    {
     "name": "stdout",
     "output_type": "stream",
     "text": [
      "Ignored 0 files\n",
      "Mean: 120.07334081364219 Std: 41.49536224150379\n"
     ]
    }
   ],
   "source": [
    "X_train, Y_train, depthVals = ImageReader.ReadSegmentationImages(trainFolder, depthFile)\n",
    "X_train_mean = np.mean(X_train)\n",
    "X_train_std = np.std(X_train)\n",
    "print('Mean: {} Std: {}'.format(X_train_mean, X_train_std))\n",
    "X_train = X_train/255.0#(X_train-X_train_mean)/(2*X_train_std)\n",
    "\n",
    "#X_test, d_test = ImageReader.ReadSegmentationImages(testFolder, depthFile, readMasks = False)\n",
    "#X_test = (X_test-X_train_mean)/(2*X_train_std)"
   ]
  },
  {
   "cell_type": "code",
   "execution_count": 10,
   "metadata": {},
   "outputs": [
    {
     "data": {
      "text/plain": [
       "['95e0620119.png',\n",
       " '63c62f219c.png',\n",
       " 'a1db1ba4e9.png',\n",
       " '99fddf686c.png',\n",
       " 'cc924f5758.png',\n",
       " 'f90d686e01.png',\n",
       " '14d1b7816a.png',\n",
       " 'e146c20d21.png',\n",
       " 'af29e02e15.png',\n",
       " '75fb042981.png']"
      ]
     },
     "execution_count": 10,
     "metadata": {},
     "output_type": "execute_result"
    }
   ],
   "source": [
    "#import pickle\n",
    "#with open('test_ids.pkl', 'rb') as f:\n",
    "#    test_ids_linux = pickle.load(f)\n",
    "\n",
    "#test_ids_linux[0:10]    "
   ]
  },
  {
   "cell_type": "code",
   "execution_count": 103,
   "metadata": {},
   "outputs": [],
   "source": []
  },
  {
   "cell_type": "code",
   "execution_count": 11,
   "metadata": {},
   "outputs": [
    {
     "name": "stdout",
     "output_type": "stream",
     "text": [
      "Getting images and masks ... \n"
     ]
    },
    {
     "name": "stderr",
     "output_type": "stream",
     "text": [
      "100%|███████████████████████████████████████████████████████████████████████████| 18000/18000 [00:54<00:00, 329.13it/s]\n"
     ]
    },
    {
     "name": "stdout",
     "output_type": "stream",
     "text": [
      "Ignored 0 files\n"
     ]
    }
   ],
   "source": [
    "#read test data along with some predictions\n",
    "X_test, d_test = ImageReader.ReadSegmentationImages(testFolder, depthFile, readMasks = False)#, presetImgIds = test_ids_linux)\n",
    "X_test = X_test/255.0 #(X_test-X_train_mean)/(2*X_train_std)\n",
    "#test_ids = test_ids_linux"
   ]
  },
  {
   "cell_type": "code",
   "execution_count": 12,
   "metadata": {},
   "outputs": [
    {
     "data": {
      "text/plain": [
       "(18000, 101, 101, 1)"
      ]
     },
     "execution_count": 12,
     "metadata": {},
     "output_type": "execute_result"
    }
   ],
   "source": [
    "y_test_pred = np.load('pred.npy')\n",
    "y_test_pred.shape"
   ]
  },
  {
   "cell_type": "code",
   "execution_count": 452,
   "metadata": {
    "colab": {
     "base_uri": "https://localhost:8080/",
     "height": 519
    },
    "colab_type": "code",
    "id": "3UoDxmPa7tVk",
    "outputId": "fdcd3a8d-a8aa-482d-fcea-10adb5b25993"
   },
   "outputs": [
    {
     "data": {
      "image/png": "[encoded data removed]",
      "text/plain": [
       "<Figure size 432x288 with 1 Axes>"
      ]
     },
     "metadata": {},
     "output_type": "display_data"
    },
    {
     "data": {
      "image/png": "[encoded data removed]",
      "text/plain": [
       "<Figure size 432x288 with 1 Axes>"
      ]
     },
     "metadata": {},
     "output_type": "display_data"
    }
   ],
   "source": [
    "# Check if training data looks all right\n",
    "ix = np.random.randint(0, len(X_train))\n",
    "#plt.imshow(np.dstack((X_train[ix],X_train[ix],X_train[ix])))\n",
    "plt.imshow(X_train[ix,:,:,0])\n",
    "plt.show()\n",
    "plt.imshow(Y_train[ix,:,:,0])\n",
    "plt.show()"
   ]
  },
  {
   "cell_type": "code",
   "execution_count": 497,
   "metadata": {},
   "outputs": [
    {
     "data": {
      "image/png": "[encoded data removed]",
      "text/plain": [
       "<Figure size 432x288 with 1 Axes>"
      ]
     },
     "metadata": {},
     "output_type": "display_data"
    },
    {
     "data": {
      "image/png": "[encoded data removed]",
      "text/plain": [
       "<Figure size 432x288 with 1 Axes>"
      ]
     },
     "metadata": {},
     "output_type": "display_data"
    }
   ],
   "source": [
    "# Check if test data looks all right\n",
    "ix = np.random.randint(0, len(X_test))\n",
    "#plt.imshow(np.dstack((X_train[ix],X_train[ix],X_train[ix])))\n",
    "plt.imshow(X_test[ix,:,:,0])\n",
    "plt.show()\n",
    "plt.imshow(y_test_pred[ix,:,:,0]>0.5)\n",
    "plt.show()"
   ]
  },
  {
   "cell_type": "markdown",
   "metadata": {
    "colab_type": "text",
    "id": "ZCmJsm8qFzdd"
   },
   "source": [
    "# Keras datagen"
   ]
  },
  {
   "cell_type": "code",
   "execution_count": 11,
   "metadata": {},
   "outputs": [
    {
     "name": "stderr",
     "output_type": "stream",
     "text": [
      "100%|███████████████████████████████████████████████████████████████████████████| 3908/3908 [00:00<00:00, 28124.96it/s]\n"
     ]
    }
   ],
   "source": [
    "#shuffle data\n",
    "for k in tqdm(range( len(X_train) )):\n",
    "    getId0 = np.random.randint(len(X_train))\n",
    "    getId1 = np.random.randint(len(X_train))\n",
    "    \n",
    "    temp = X_train[getId0]\n",
    "    X_train[getId0] = X_train[getId1]\n",
    "    X_train[getId1] = temp\n",
    "\n",
    "    temp = Y_train[getId0]\n",
    "    Y_train[getId0] = Y_train[getId1]\n",
    "    Y_train[getId1] = temp\n",
    "\n",
    "    temp = depthVals[getId0]\n",
    "    depthVals[getId0] = depthVals[getId1]\n",
    "    depthVals[getId1] = temp\n"
   ]
  },
  {
   "cell_type": "code",
   "execution_count": 61,
   "metadata": {
    "colab": {
     "base_uri": "https://localhost:8080/",
     "height": 34
    },
    "colab_type": "code",
    "id": "ayFcz_QDKKQO",
    "outputId": "7f5bbff7-5c8f-47f7-96d9-ffc9e47c3f65"
   },
   "outputs": [
    {
     "name": "stdout",
     "output_type": "stream",
     "text": [
      "(3322, 101, 101, 1), (586, 101, 101, 1)\n"
     ]
    }
   ],
   "source": [
    "valRatio = 0.035\n",
    "\n",
    "\n",
    "nVal = int(len(X_train)*valRatio)\n",
    "X_val = X_train[0:nVal]\n",
    "Y_val = Y_train[0:nVal]\n",
    "d_val = depthVals[0:nVal]\n",
    "\n",
    "X_train0 = X_train[nVal:]\n",
    "Y_train0 = Y_train[nVal:]\n",
    "d_train0 = depthVals[nVal:]\n",
    "X_train0.shape\n",
    "print('{}, {}'.format(X_train0.shape, X_val.shape))"
   ]
  },
  {
   "cell_type": "code",
   "execution_count": 62,
   "metadata": {
    "colab": {
     "base_uri": "https://localhost:8080/",
     "height": 105
    },
    "colab_type": "code",
    "id": "iZWJWDxSF21D",
    "outputId": "5c0f18b3-6109-41e0-c257-fbaa2e87b566"
   },
   "outputs": [],
   "source": [
    "from keras.preprocessing.image import ImageDataGenerator\n",
    "from skimage.transform import rescale, resize, downscale_local_mean\n",
    "\n",
    "\n",
    "# we create two instances with the same arguments\n",
    "data_gen_argsMask = dict(\n",
    "                     rotation_range=3.0, #1.0,\n",
    "                     #shear_range = 0.001, #0\n",
    "                     zoom_range = 0.013, #0\n",
    "                     width_shift_range=0.11, # 0.03,\n",
    "                     height_shift_range=0.2, #0.3,\n",
    "                     horizontal_flip=True,\n",
    "                     cval=0,\n",
    "                     fill_mode = \"reflect\"  #reflect\n",
    "                     #vertical_flip=True #see if helps\n",
    "                    )\n",
    "\n",
    "data_gen_args = {}\n",
    "for key in data_gen_argsMask:\n",
    "    data_gen_args[key] = data_gen_argsMask[key]\n",
    "    \n",
    "#data_gen_args['featurewise_center'] = True\n",
    "#data_gen_args['featurewise_std_normalization'] = True\n",
    "#data_gen_args['zca_whitening'] = True #this or normalization\n",
    "\n",
    "image_datagen = ImageDataGenerator(**data_gen_args)\n",
    "mask_datagen = ImageDataGenerator(**data_gen_argsMask)\n",
    "depth_datagen = ImageDataGenerator()\n",
    "\n",
    "\n",
    "seed=7\n",
    "# Provide the same seed and keyword arguments to the fit and flow methods\n",
    "image_datagen.fit(X_train0, augment=True, seed=seed)\n",
    "#mask_datagen.fit(Y_train0, augment=True, seed=seed)\n",
    "#depth_datagen.fit(d_train0, augment=False, seed=seed)\n",
    "\n",
    "image_generator = image_datagen.flow(\n",
    "    X_train0,\n",
    "    seed=seed,\n",
    "    batch_size = 32)#32*nGPUs)\n",
    "\n",
    "mask_generator = mask_datagen.flow(\n",
    "    Y_train0,\n",
    "    seed=seed,\n",
    "    batch_size = 32)#32*nGPUs)\n",
    "\n",
    "depth_generator = depth_datagen.flow(\n",
    "    d_train0,\n",
    "    seed=seed,\n",
    "    batch_size = 32)#32*nGPUs)\n",
    "\n",
    "bSize = 32\n",
    "\n",
    "#maximum random crop image size\n",
    "randomCropMaxSize=120\n",
    "def multi_input_gen(X1, X2, X3):\n",
    "    genX1 = image_datagen.flow(X1, seed=7, batch_size=bSize)\n",
    "    genX2 = depth_datagen.flow(X2, seed=7, batch_size=bSize)\n",
    "    genX3 = mask_datagen.flow( X3, seed=7, batch_size=bSize)\n",
    "    while True:\n",
    "        X1i = genX1.next()\n",
    "        X2i = genX2.next()\n",
    "        X3i = genX3.next()\n",
    "        \n",
    "        #random crops\n",
    "        for kk in range(len(X1i)):\n",
    "            rSize = np.random.randint(101, randomCropMaxSize)\n",
    "            new_shape = [rSize, rSize]\n",
    "            cropPosition = [np.random.randint(rSize-100), np.random.randint(rSize-100)]\n",
    "            X1i[kk] = ResizeAndCrop(X1i[kk], new_shape, cropPosition)\n",
    "            X3i[kk] = ResizeAndCrop(X3i[kk], new_shape, cropPosition)>0.5\n",
    "        \n",
    "        yield [X1i, X2i], X3i\n",
    "\n",
    "def multi_input_genAE(X1, X2):\n",
    "    genX1 = image_datagen.flow(X1, seed=7, batch_size=bSize)\n",
    "    genX2 = depth_datagen.flow(X2, seed=7, batch_size=bSize)\n",
    "    while True:\n",
    "        X1i = genX1.next()\n",
    "        X2i = genX2.next()\n",
    "        \n",
    "        #random crops\n",
    "        for kk in range(len(X1i)):\n",
    "            rSize = np.random.randint(101, randomCropMaxSize)\n",
    "            new_shape = [rSize, rSize]\n",
    "            cropPosition = [np.random.randint(rSize-100), np.random.randint(rSize-100)]\n",
    "            X1i[kk] = ResizeAndCrop(X1i[kk], new_shape, cropPosition)\n",
    "        \n",
    "        yield [X1i, X2i], X1i        \n",
    "        \n",
    "def ResizeAndCrop(img, newShape, cropPos):\n",
    "    img_resized = resize(img, newShape, mode='reflect')\n",
    "    ans = img_resized[cropPos[0]:cropPos[0]+img.shape[0], cropPos[1]:cropPos[1]+img.shape[1]]\n",
    "    return ans\n",
    "\n",
    "train_generator = multi_input_gen(X_train0, d_train0, Y_train0) \n",
    "all_generator = multi_input_genAE(X_train0+X_test, d_train0+d_test)"
   ]
  },
  {
   "cell_type": "code",
   "execution_count": 86,
   "metadata": {},
   "outputs": [
    {
     "name": "stdout",
     "output_type": "stream",
     "text": [
      "666.0\n"
     ]
    },
    {
     "data": {
      "image/png": "[encoded data removed]",
      "text/plain": [
       "<Figure size 432x288 with 1 Axes>"
      ]
     },
     "metadata": {},
     "output_type": "display_data"
    },
    {
     "data": {
      "image/png": "[encoded data removed]",
      "text/plain": [
       "<Figure size 432x288 with 1 Axes>"
      ]
     },
     "metadata": {},
     "output_type": "display_data"
    }
   ],
   "source": [
    "ans = next(train_generator)\n",
    "print(ans[0][1][17,0,0,0])\n",
    "plt.imshow( ans[0][0][17,:,:,0] )\n",
    "plt.show()\n",
    "plt.imshow( ans[1][17,:,:,0] )\n",
    "plt.show()"
   ]
  },
  {
   "cell_type": "code",
   "execution_count": 15,
   "metadata": {},
   "outputs": [],
   "source": []
  },
  {
   "cell_type": "code",
   "execution_count": 47,
   "metadata": {},
   "outputs": [
    {
     "data": {
      "text/plain": [
       "<matplotlib.image.AxesImage at 0x1719a9cdf28>"
      ]
     },
     "execution_count": 47,
     "metadata": {},
     "output_type": "execute_result"
    },
    {
     "data": {
      "image/png": "[encoded data removed]",
      "text/plain": [
       "<Figure size 432x288 with 1 Axes>"
      ]
     },
     "metadata": {},
     "output_type": "display_data"
    }
   ],
   "source": [
    "#resizedImg = ResizeAndCrop(ans[0][0][17,:,:], [120,120], [10,10])\n",
    "resizedImg = ResizeAndCrop(ans[1][17,:,:], [120,120], [10,10])>0\n",
    "resizedImg.shape\n",
    "plt.imshow( resizedImg[:,:,0] )"
   ]
  },
  {
   "cell_type": "code",
   "execution_count": 30,
   "metadata": {},
   "outputs": [],
   "source": []
  },
  {
   "cell_type": "markdown",
   "metadata": {
    "colab_type": "text",
    "id": "ZZnJKHYuCfpu"
   },
   "source": [
    "# UNet model"
   ]
  },
  {
   "cell_type": "code",
   "execution_count": 1,
   "metadata": {
    "colab": {},
    "colab_type": "code",
    "id": "eq663ff6-x9k"
   },
   "outputs": [
    {
     "name": "stderr",
     "output_type": "stream",
     "text": [
      "C:\\Users\\Douglas\\Anaconda3\\lib\\site-packages\\h5py\\__init__.py:36: FutureWarning: Conversion of the second argument of issubdtype from `float` to `np.floating` is deprecated. In future, it will be treated as `np.float64 == np.dtype(float).type`.\n",
      "  from ._conv import register_converters as _register_converters\n",
      "Using TensorFlow backend.\n"
     ]
    }
   ],
   "source": [
    "import ModelUNet\n",
    "import DeepLabv3Plus\n",
    "from keras.utils import plot_model\n",
    "from keras.models import Model, load_model\n",
    "from keras.layers import Input, ZeroPadding2D, Cropping2D, Add, Conv2D, Concatenate, SeparableConv2D, MaxPooling2D\n",
    "from keras.layers.core import Lambda"
   ]
  },
  {
   "cell_type": "code",
   "execution_count": 2,
   "metadata": {},
   "outputs": [],
   "source": [
    "def BuildUNetEncoder(convFunction, nFilter = 8, net_depth = 4, input_img_shape = (128,128,1), encoderSquash = 0, nBorderRefinementConvs = 2 ):\n",
    "    inputImg = Input(input_img_shape)\n",
    "    inputDepth = Input( (1,1,1) )\n",
    "\n",
    "    uLayers = []\n",
    "\n",
    "    curLayer = inputImg\n",
    "    curLayer = convFunction(curLayer, nFilter)\n",
    "    for k in range(net_depth):\n",
    "        curLayer = convFunction(curLayer, (2**(1+k))*nFilter)\n",
    "        if encoderSquash > 0:\n",
    "            squashedLayer = Conv2D(encoderSquash, (1,1), activation=None, padding='same') (curLayer)\n",
    "            uLayers.append(squashedLayer)\n",
    "        else:\n",
    "            uLayers.append(curLayer)\n",
    "            \n",
    "        curLayer = MaxPooling2D((2, 2)) (curLayer)\n",
    "\n",
    "    #take depth into account in the deepest layer\n",
    "    dim1 = input_img_shape[0] // (2**(net_depth))\n",
    "    dim2 = input_img_shape[1] // (2**(net_depth))\n",
    "\n",
    "    depthIn = Lambda(lambda x: ModelUNet._expand(x, dim1, dim2) )(inputDepth)\n",
    "    curLayer = Concatenate()([curLayer, depthIn])\n",
    "    \n",
    "    curLayer = convFunction(curLayer, (2**net_depth)*nFilter)\n",
    "    uLayers.append(curLayer)\n",
    "    \n",
    "    model = Model(inputs=[inputImg, inputDepth], outputs=uLayers, name='UNet_enc_{}'.format(net_depth) )\n",
    "    return model"
   ]
  },
  {
   "cell_type": "code",
   "execution_count": 3,
   "metadata": {},
   "outputs": [],
   "source": [
    "#m=BuildUNetEncoder(ModelUNet.ApplyDC, nFilter = 8, net_depth = 3, input_img_shape = (128,128,1))\n",
    "#m.summary()"
   ]
  },
  {
   "cell_type": "code",
   "execution_count": 4,
   "metadata": {},
   "outputs": [],
   "source": [
    "from keras.layers import Conv2DTranspose, BatchNormalization\n",
    "def UNetDecoder(uLayers, convFunction, nFilter = 8, net_depth = 4, input_img_shape = (128,128,1), encoderSquash = 0, nBorderRefinementConvs = 2):\n",
    "    \"\"\"\n",
    "    Builds UNet decoder for image segmentation\n",
    "    \"\"\"\n",
    "    curLayer = uLayers[-1]\n",
    "    for k in range(net_depth):\n",
    "        curLayer = Conv2DTranspose((2**(net_depth-k))*nFilter, (2, 2), strides=(2, 2), padding='same') (curLayer)\n",
    "        curLayer = BatchNormalization() (curLayer)\n",
    "        curLayer = Concatenate()([curLayer, uLayers[net_depth-k-1] ])\n",
    "        curLayer = convFunction(curLayer, (2**(net_depth-k))*nFilter)\n",
    "\n",
    "    for k in range(nBorderRefinementConvs):\n",
    "        curLayer = convFunction(curLayer, nFilter)\n",
    "    \n",
    "    return curLayer\n",
    "\n",
    "\n",
    "def UNetDecoderAE(uLayers, convFunction, nFilter = 8, net_depth = 4, input_img_shape = (128,128,1), encoderSquash = 0, nBorderRefinementConvs = 2):\n",
    "    \"\"\"\n",
    "    Builds UNet decoder for autoencoder training\n",
    "    \"\"\"\n",
    "    curLayer = uLayers[-1]\n",
    "    for k in range(net_depth):\n",
    "        curLayer = Conv2DTranspose((2**(net_depth-k))*nFilter, (2, 2), strides=(2, 2), padding='same') (curLayer)\n",
    "        curLayer = BatchNormalization() (curLayer)\n",
    "        #curLayer = Concatenate()([curLayer, uLayers[net_depth-k-1] ])\n",
    "        curLayer = convFunction(curLayer, (2**(net_depth-k))*nFilter)\n",
    "\n",
    "    for k in range(nBorderRefinementConvs):\n",
    "        curLayer = convFunction(curLayer, nFilter)\n",
    "    \n",
    "    return curLayer    "
   ]
  },
  {
   "cell_type": "code",
   "execution_count": 5,
   "metadata": {},
   "outputs": [],
   "source": [
    "unetEnc = BuildUNetEncoder(ModelUNet.ApplyDC, nFilter = 8, net_depth = 3, input_img_shape = (128,128,1))"
   ]
  },
  {
   "cell_type": "code",
   "execution_count": 8,
   "metadata": {},
   "outputs": [
    {
     "name": "stdout",
     "output_type": "stream",
     "text": [
      "__________________________________________________________________________________________________\n",
      "Layer (type)                    Output Shape         Param #     Connected to                     \n",
      "==================================================================================================\n",
      "input_7 (InputLayer)            (None, 101, 101, 1)  0                                            \n",
      "__________________________________________________________________________________________________\n",
      "zero_padding2d_3 (ZeroPadding2D (None, 128, 128, 1)  0           input_7[0][0]                    \n",
      "__________________________________________________________________________________________________\n",
      "input_8 (InputLayer)            (None, 1, 1, 1)      0                                            \n",
      "__________________________________________________________________________________________________\n",
      "UNet_enc_3 (Model)              [(None, 128, 128, 24 223268      zero_padding2d_3[0][0]           \n",
      "                                                                 input_8[0][0]                    \n",
      "__________________________________________________________________________________________________\n",
      "conv2d_transpose_7 (Conv2DTrans (None, 32, 32, 64)   24640       UNet_enc_3[3][3]                 \n",
      "__________________________________________________________________________________________________\n",
      "batch_normalization_37 (BatchNo (None, 32, 32, 64)   256         conv2d_transpose_7[0][0]         \n",
      "__________________________________________________________________________________________________\n",
      "conv2d_63 (Conv2D)              (None, 32, 32, 64)   36928       batch_normalization_37[0][0]     \n",
      "__________________________________________________________________________________________________\n",
      "batch_normalization_38 (BatchNo (None, 32, 32, 64)   256         conv2d_63[0][0]                  \n",
      "__________________________________________________________________________________________________\n",
      "conv2d_64 (Conv2D)              (None, 32, 32, 32)   18464       batch_normalization_38[0][0]     \n",
      "__________________________________________________________________________________________________\n",
      "conv2d_65 (Conv2D)              (None, 32, 32, 32)   18464       batch_normalization_38[0][0]     \n",
      "__________________________________________________________________________________________________\n",
      "conv2d_66 (Conv2D)              (None, 32, 32, 32)   18464       batch_normalization_38[0][0]     \n",
      "__________________________________________________________________________________________________\n",
      "concatenate_17 (Concatenate)    (None, 32, 32, 96)   0           conv2d_64[0][0]                  \n",
      "                                                                 conv2d_65[0][0]                  \n",
      "                                                                 conv2d_66[0][0]                  \n",
      "__________________________________________________________________________________________________\n",
      "batch_normalization_39 (BatchNo (None, 32, 32, 96)   384         concatenate_17[0][0]             \n",
      "__________________________________________________________________________________________________\n",
      "conv2d_transpose_8 (Conv2DTrans (None, 64, 64, 32)   12320       batch_normalization_39[0][0]     \n",
      "__________________________________________________________________________________________________\n",
      "batch_normalization_40 (BatchNo (None, 64, 64, 32)   128         conv2d_transpose_8[0][0]         \n",
      "__________________________________________________________________________________________________\n",
      "conv2d_67 (Conv2D)              (None, 64, 64, 32)   9248        batch_normalization_40[0][0]     \n",
      "__________________________________________________________________________________________________\n",
      "batch_normalization_41 (BatchNo (None, 64, 64, 32)   128         conv2d_67[0][0]                  \n",
      "__________________________________________________________________________________________________\n",
      "conv2d_68 (Conv2D)              (None, 64, 64, 16)   4624        batch_normalization_41[0][0]     \n",
      "__________________________________________________________________________________________________\n",
      "conv2d_69 (Conv2D)              (None, 64, 64, 16)   4624        batch_normalization_41[0][0]     \n",
      "__________________________________________________________________________________________________\n",
      "conv2d_70 (Conv2D)              (None, 64, 64, 16)   4624        batch_normalization_41[0][0]     \n",
      "__________________________________________________________________________________________________\n",
      "concatenate_18 (Concatenate)    (None, 64, 64, 48)   0           conv2d_68[0][0]                  \n",
      "                                                                 conv2d_69[0][0]                  \n",
      "                                                                 conv2d_70[0][0]                  \n",
      "__________________________________________________________________________________________________\n",
      "batch_normalization_42 (BatchNo (None, 64, 64, 48)   192         concatenate_18[0][0]             \n",
      "__________________________________________________________________________________________________\n",
      "conv2d_transpose_9 (Conv2DTrans (None, 128, 128, 16) 3088        batch_normalization_42[0][0]     \n",
      "__________________________________________________________________________________________________\n",
      "batch_normalization_43 (BatchNo (None, 128, 128, 16) 64          conv2d_transpose_9[0][0]         \n",
      "__________________________________________________________________________________________________\n",
      "conv2d_71 (Conv2D)              (None, 128, 128, 16) 2320        batch_normalization_43[0][0]     \n",
      "__________________________________________________________________________________________________\n",
      "batch_normalization_44 (BatchNo (None, 128, 128, 16) 64          conv2d_71[0][0]                  \n",
      "__________________________________________________________________________________________________\n",
      "conv2d_72 (Conv2D)              (None, 128, 128, 8)  1160        batch_normalization_44[0][0]     \n",
      "__________________________________________________________________________________________________\n",
      "conv2d_73 (Conv2D)              (None, 128, 128, 8)  1160        batch_normalization_44[0][0]     \n",
      "__________________________________________________________________________________________________\n",
      "conv2d_74 (Conv2D)              (None, 128, 128, 8)  1160        batch_normalization_44[0][0]     \n",
      "__________________________________________________________________________________________________\n",
      "concatenate_19 (Concatenate)    (None, 128, 128, 24) 0           conv2d_72[0][0]                  \n",
      "                                                                 conv2d_73[0][0]                  \n",
      "                                                                 conv2d_74[0][0]                  \n",
      "__________________________________________________________________________________________________\n",
      "batch_normalization_45 (BatchNo (None, 128, 128, 24) 96          concatenate_19[0][0]             \n",
      "__________________________________________________________________________________________________\n",
      "conv2d_75 (Conv2D)              (None, 128, 128, 8)  1736        batch_normalization_45[0][0]     \n",
      "__________________________________________________________________________________________________\n",
      "batch_normalization_46 (BatchNo (None, 128, 128, 8)  32          conv2d_75[0][0]                  \n",
      "__________________________________________________________________________________________________\n",
      "conv2d_76 (Conv2D)              (None, 128, 128, 4)  292         batch_normalization_46[0][0]     \n",
      "__________________________________________________________________________________________________\n",
      "conv2d_77 (Conv2D)              (None, 128, 128, 4)  292         batch_normalization_46[0][0]     \n",
      "__________________________________________________________________________________________________\n",
      "conv2d_78 (Conv2D)              (None, 128, 128, 4)  292         batch_normalization_46[0][0]     \n",
      "__________________________________________________________________________________________________\n",
      "concatenate_20 (Concatenate)    (None, 128, 128, 12) 0           conv2d_76[0][0]                  \n",
      "                                                                 conv2d_77[0][0]                  \n",
      "                                                                 conv2d_78[0][0]                  \n",
      "__________________________________________________________________________________________________\n",
      "batch_normalization_47 (BatchNo (None, 128, 128, 12) 48          concatenate_20[0][0]             \n",
      "__________________________________________________________________________________________________\n",
      "conv2d_79 (Conv2D)              (None, 128, 128, 8)  872         batch_normalization_47[0][0]     \n",
      "__________________________________________________________________________________________________\n",
      "batch_normalization_48 (BatchNo (None, 128, 128, 8)  32          conv2d_79[0][0]                  \n",
      "__________________________________________________________________________________________________\n",
      "conv2d_80 (Conv2D)              (None, 128, 128, 4)  292         batch_normalization_48[0][0]     \n",
      "__________________________________________________________________________________________________\n",
      "conv2d_81 (Conv2D)              (None, 128, 128, 4)  292         batch_normalization_48[0][0]     \n",
      "__________________________________________________________________________________________________\n",
      "conv2d_82 (Conv2D)              (None, 128, 128, 4)  292         batch_normalization_48[0][0]     \n",
      "__________________________________________________________________________________________________\n",
      "concatenate_21 (Concatenate)    (None, 128, 128, 12) 0           conv2d_80[0][0]                  \n",
      "                                                                 conv2d_81[0][0]                  \n",
      "                                                                 conv2d_82[0][0]                  \n",
      "__________________________________________________________________________________________________\n",
      "batch_normalization_49 (BatchNo (None, 128, 128, 12) 48          concatenate_21[0][0]             \n",
      "__________________________________________________________________________________________________\n",
      "conv2d_83 (Conv2D)              (None, 128, 128, 1)  13          batch_normalization_49[0][0]     \n",
      "__________________________________________________________________________________________________\n",
      "cropping2d_2 (Cropping2D)       (None, 101, 101, 1)  0           conv2d_83[0][0]                  \n",
      "==================================================================================================\n",
      "Total params: 390,657\n",
      "Trainable params: 388,873\n",
      "Non-trainable params: 1,784\n",
      "__________________________________________________________________________________________________\n"
     ]
    }
   ],
   "source": [
    "im_height = 101\n",
    "im_width = 101\n",
    "im_chan = 1\n",
    "\n",
    "\n",
    "inputImg = Input((im_height, im_width, im_chan))\n",
    "inputDepth = Input( (1,1,1) )\n",
    "\n",
    "s=inputImg\n",
    "dd=inputDepth\n",
    "\n",
    "#s = ReflectionPadding2D( padding = ((13, 14), (13, 14)) ) (s)\n",
    "s = ZeroPadding2D( padding = ((13, 14), (13, 14)) ) (s)\n",
    "\n",
    "su = unetEnc([s,dd])\n",
    "su = UNetDecoderAE(su, ModelUNet.ApplyDC, nFilter = 8, net_depth = 3, input_img_shape = (128,128,1))\n",
    "\n",
    "outputs = su\n",
    "outputs = Conv2D(1, (1,1))(outputs)\n",
    "outputs = Cropping2D(cropping=((13, 14), (13, 14)) ) (outputs)\n",
    "\n",
    "modelAE = Model(inputs=[inputImg, inputDepth], outputs=outputs)\n",
    "modelAE.compile(optimizer='adam', loss='mean_squared_error')#, metrics=[ModelUNet.mean_iou])\n",
    "modelAE.summary()"
   ]
  },
  {
   "cell_type": "code",
   "execution_count": 7,
   "metadata": {},
   "outputs": [
    {
     "name": "stdout",
     "output_type": "stream",
     "text": [
      "__________________________________________________________________________________________________\n",
      "Layer (type)                    Output Shape         Param #     Connected to                     \n",
      "==================================================================================================\n",
      "input_5 (InputLayer)            (None, 101, 101, 1)  0                                            \n",
      "__________________________________________________________________________________________________\n",
      "zero_padding2d_2 (ZeroPadding2D (None, 128, 128, 1)  0           input_5[0][0]                    \n",
      "__________________________________________________________________________________________________\n",
      "input_6 (InputLayer)            (None, 1, 1, 1)      0                                            \n",
      "__________________________________________________________________________________________________\n",
      "UNet_enc_3 (Model)              [(None, 128, 128, 24 223268      zero_padding2d_2[0][0]           \n",
      "                                                                 input_6[0][0]                    \n",
      "__________________________________________________________________________________________________\n",
      "conv2d_transpose_4 (Conv2DTrans (None, 32, 32, 64)   24640       UNet_enc_3[2][3]                 \n",
      "__________________________________________________________________________________________________\n",
      "batch_normalization_24 (BatchNo (None, 32, 32, 64)   256         conv2d_transpose_4[0][0]         \n",
      "__________________________________________________________________________________________________\n",
      "conv2d_42 (Conv2D)              (None, 32, 32, 64)   36928       batch_normalization_24[0][0]     \n",
      "__________________________________________________________________________________________________\n",
      "batch_normalization_25 (BatchNo (None, 32, 32, 64)   256         conv2d_42[0][0]                  \n",
      "__________________________________________________________________________________________________\n",
      "conv2d_43 (Conv2D)              (None, 32, 32, 32)   18464       batch_normalization_25[0][0]     \n",
      "__________________________________________________________________________________________________\n",
      "conv2d_44 (Conv2D)              (None, 32, 32, 32)   18464       batch_normalization_25[0][0]     \n",
      "__________________________________________________________________________________________________\n",
      "conv2d_45 (Conv2D)              (None, 32, 32, 32)   18464       batch_normalization_25[0][0]     \n",
      "__________________________________________________________________________________________________\n",
      "concatenate_12 (Concatenate)    (None, 32, 32, 96)   0           conv2d_43[0][0]                  \n",
      "                                                                 conv2d_44[0][0]                  \n",
      "                                                                 conv2d_45[0][0]                  \n",
      "__________________________________________________________________________________________________\n",
      "batch_normalization_26 (BatchNo (None, 32, 32, 96)   384         concatenate_12[0][0]             \n",
      "__________________________________________________________________________________________________\n",
      "conv2d_transpose_5 (Conv2DTrans (None, 64, 64, 32)   12320       batch_normalization_26[0][0]     \n",
      "__________________________________________________________________________________________________\n",
      "batch_normalization_27 (BatchNo (None, 64, 64, 32)   128         conv2d_transpose_5[0][0]         \n",
      "__________________________________________________________________________________________________\n",
      "conv2d_46 (Conv2D)              (None, 64, 64, 32)   9248        batch_normalization_27[0][0]     \n",
      "__________________________________________________________________________________________________\n",
      "batch_normalization_28 (BatchNo (None, 64, 64, 32)   128         conv2d_46[0][0]                  \n",
      "__________________________________________________________________________________________________\n",
      "conv2d_47 (Conv2D)              (None, 64, 64, 16)   4624        batch_normalization_28[0][0]     \n",
      "__________________________________________________________________________________________________\n",
      "conv2d_48 (Conv2D)              (None, 64, 64, 16)   4624        batch_normalization_28[0][0]     \n",
      "__________________________________________________________________________________________________\n",
      "conv2d_49 (Conv2D)              (None, 64, 64, 16)   4624        batch_normalization_28[0][0]     \n",
      "__________________________________________________________________________________________________\n",
      "concatenate_13 (Concatenate)    (None, 64, 64, 48)   0           conv2d_47[0][0]                  \n",
      "                                                                 conv2d_48[0][0]                  \n",
      "                                                                 conv2d_49[0][0]                  \n",
      "__________________________________________________________________________________________________\n",
      "batch_normalization_29 (BatchNo (None, 64, 64, 48)   192         concatenate_13[0][0]             \n",
      "__________________________________________________________________________________________________\n",
      "conv2d_transpose_6 (Conv2DTrans (None, 128, 128, 16) 3088        batch_normalization_29[0][0]     \n",
      "__________________________________________________________________________________________________\n",
      "batch_normalization_30 (BatchNo (None, 128, 128, 16) 64          conv2d_transpose_6[0][0]         \n",
      "__________________________________________________________________________________________________\n",
      "conv2d_50 (Conv2D)              (None, 128, 128, 16) 2320        batch_normalization_30[0][0]     \n",
      "__________________________________________________________________________________________________\n",
      "batch_normalization_31 (BatchNo (None, 128, 128, 16) 64          conv2d_50[0][0]                  \n",
      "__________________________________________________________________________________________________\n",
      "conv2d_51 (Conv2D)              (None, 128, 128, 8)  1160        batch_normalization_31[0][0]     \n",
      "__________________________________________________________________________________________________\n",
      "conv2d_52 (Conv2D)              (None, 128, 128, 8)  1160        batch_normalization_31[0][0]     \n",
      "__________________________________________________________________________________________________\n",
      "conv2d_53 (Conv2D)              (None, 128, 128, 8)  1160        batch_normalization_31[0][0]     \n",
      "__________________________________________________________________________________________________\n",
      "concatenate_14 (Concatenate)    (None, 128, 128, 24) 0           conv2d_51[0][0]                  \n",
      "                                                                 conv2d_52[0][0]                  \n",
      "                                                                 conv2d_53[0][0]                  \n",
      "__________________________________________________________________________________________________\n",
      "batch_normalization_32 (BatchNo (None, 128, 128, 24) 96          concatenate_14[0][0]             \n",
      "__________________________________________________________________________________________________\n",
      "conv2d_54 (Conv2D)              (None, 128, 128, 8)  1736        batch_normalization_32[0][0]     \n",
      "__________________________________________________________________________________________________\n",
      "batch_normalization_33 (BatchNo (None, 128, 128, 8)  32          conv2d_54[0][0]                  \n",
      "__________________________________________________________________________________________________\n",
      "conv2d_55 (Conv2D)              (None, 128, 128, 4)  292         batch_normalization_33[0][0]     \n",
      "__________________________________________________________________________________________________\n",
      "conv2d_56 (Conv2D)              (None, 128, 128, 4)  292         batch_normalization_33[0][0]     \n",
      "__________________________________________________________________________________________________\n",
      "conv2d_57 (Conv2D)              (None, 128, 128, 4)  292         batch_normalization_33[0][0]     \n",
      "__________________________________________________________________________________________________\n",
      "concatenate_15 (Concatenate)    (None, 128, 128, 12) 0           conv2d_55[0][0]                  \n",
      "                                                                 conv2d_56[0][0]                  \n",
      "                                                                 conv2d_57[0][0]                  \n",
      "__________________________________________________________________________________________________\n",
      "batch_normalization_34 (BatchNo (None, 128, 128, 12) 48          concatenate_15[0][0]             \n",
      "__________________________________________________________________________________________________\n",
      "conv2d_58 (Conv2D)              (None, 128, 128, 8)  872         batch_normalization_34[0][0]     \n",
      "__________________________________________________________________________________________________\n",
      "batch_normalization_35 (BatchNo (None, 128, 128, 8)  32          conv2d_58[0][0]                  \n",
      "__________________________________________________________________________________________________\n",
      "conv2d_59 (Conv2D)              (None, 128, 128, 4)  292         batch_normalization_35[0][0]     \n",
      "__________________________________________________________________________________________________\n",
      "conv2d_60 (Conv2D)              (None, 128, 128, 4)  292         batch_normalization_35[0][0]     \n",
      "__________________________________________________________________________________________________\n",
      "conv2d_61 (Conv2D)              (None, 128, 128, 4)  292         batch_normalization_35[0][0]     \n",
      "__________________________________________________________________________________________________\n",
      "concatenate_16 (Concatenate)    (None, 128, 128, 12) 0           conv2d_59[0][0]                  \n",
      "                                                                 conv2d_60[0][0]                  \n",
      "                                                                 conv2d_61[0][0]                  \n",
      "__________________________________________________________________________________________________\n",
      "batch_normalization_36 (BatchNo (None, 128, 128, 12) 48          concatenate_16[0][0]             \n",
      "__________________________________________________________________________________________________\n",
      "conv2d_62 (Conv2D)              (None, 128, 128, 1)  13          batch_normalization_36[0][0]     \n",
      "__________________________________________________________________________________________________\n",
      "cropping2d_1 (Cropping2D)       (None, 101, 101, 1)  0           conv2d_62[0][0]                  \n",
      "==================================================================================================\n",
      "Total params: 390,657\n",
      "Trainable params: 388,873\n",
      "Non-trainable params: 1,784\n",
      "__________________________________________________________________________________________________\n"
     ]
    }
   ],
   "source": [
    "im_height = 101\n",
    "im_width = 101\n",
    "im_chan = 1\n",
    "\n",
    "\n",
    "inputImg = Input((im_height, im_width, im_chan))\n",
    "inputDepth = Input( (1,1,1) )\n",
    "\n",
    "s=inputImg\n",
    "dd=inputDepth\n",
    "\n",
    "#s = ReflectionPadding2D( padding = ((13, 14), (13, 14)) ) (s)\n",
    "s = ZeroPadding2D( padding = ((13, 14), (13, 14)) ) (s)\n",
    "\n",
    "su = unetEnc([s,dd])\n",
    "su = UNetDecoderAE(su, ModelUNet.ApplyDC, nFilter = 8, net_depth = 3, input_img_shape = (128,128,1))\n",
    "\n",
    "outputs = su\n",
    "outputs = Conv2D(1, (1,1), activation='sigmoid')(outputs)\n",
    "outputs = Cropping2D(cropping=((13, 14), (13, 14)) ) (outputs)\n",
    "\n",
    "modelSeg = Model(inputs=[inputImg, inputDepth], outputs=outputs)\n",
    "modelSeg.compile(optimizer='adam', loss=ModelUNet.dice_loss, metrics=[ModelUNet.mean_iou])\n",
    "modelSeg.summary()"
   ]
  },
  {
   "cell_type": "code",
   "execution_count": null,
   "metadata": {},
   "outputs": [],
   "source": []
  },
  {
   "cell_type": "markdown",
   "metadata": {},
   "source": [
    "# LinkNet"
   ]
  },
  {
   "cell_type": "code",
   "execution_count": null,
   "metadata": {},
   "outputs": [],
   "source": [
    "import LinkNet\n",
    "!mkdir checkpoints\n",
    "wFile = 'https://github.com/davidtvs/Keras-LinkNet/raw/master/checkpoints/linknet_encoder_weights.h5'\n",
    "LinkNet._downloadFile(wFile, 'checkpoints/linknet_encoder_weights.h5')\n",
    "ln = LinkNet.LinkNet(2, input_shape=(128,128,3))\n",
    "m = ln.get_model(pretrained_encoder=True)\n",
    "m.summary()"
   ]
  },
  {
   "cell_type": "markdown",
   "metadata": {},
   "source": [
    "## DeepLabV3+"
   ]
  },
  {
   "cell_type": "code",
   "execution_count": 2,
   "metadata": {
    "scrolled": true
   },
   "outputs": [
    {
     "ename": "AttributeError",
     "evalue": "module 'keras.utils.conv_utils' has no attribute 'normalize_data_format'",
     "output_type": "error",
     "traceback": [
      "\u001b[1;31m---------------------------------------------------------------------------\u001b[0m",
      "\u001b[1;31mAttributeError\u001b[0m                            Traceback (most recent call last)",
      "\u001b[1;32m<ipython-input-2-5a19722340a8>\u001b[0m in \u001b[0;36m<module>\u001b[1;34m()\u001b[0m\n\u001b[0;32m     38\u001b[0m     \u001b[1;32mreturn\u001b[0m \u001b[0mmodel\u001b[0m\u001b[1;33m\u001b[0m\u001b[0m\n\u001b[0;32m     39\u001b[0m \u001b[1;33m\u001b[0m\u001b[0m\n\u001b[1;32m---> 40\u001b[1;33m \u001b[0mmodel\u001b[0m \u001b[1;33m=\u001b[0m \u001b[0mresetModel\u001b[0m\u001b[1;33m(\u001b[0m\u001b[1;33m)\u001b[0m\u001b[1;33m\u001b[0m\u001b[0m\n\u001b[0m\u001b[0;32m     41\u001b[0m \u001b[0mmodel\u001b[0m\u001b[1;33m.\u001b[0m\u001b[0msummary\u001b[0m\u001b[1;33m(\u001b[0m\u001b[1;33m)\u001b[0m\u001b[1;33m\u001b[0m\u001b[0m\n",
      "\u001b[1;32m<ipython-input-2-5a19722340a8>\u001b[0m in \u001b[0;36mresetModel\u001b[1;34m()\u001b[0m\n\u001b[0;32m     24\u001b[0m     \u001b[0ms\u001b[0m \u001b[1;33m=\u001b[0m \u001b[0mConv2D\u001b[0m\u001b[1;33m(\u001b[0m\u001b[1;36m3\u001b[0m\u001b[1;33m,\u001b[0m \u001b[1;33m(\u001b[0m\u001b[1;36m1\u001b[0m\u001b[1;33m,\u001b[0m \u001b[1;36m1\u001b[0m\u001b[1;33m)\u001b[0m\u001b[1;33m,\u001b[0m \u001b[0mactivation\u001b[0m\u001b[1;33m=\u001b[0m\u001b[1;34m'relu'\u001b[0m\u001b[1;33m)\u001b[0m \u001b[1;33m(\u001b[0m\u001b[0ms\u001b[0m\u001b[1;33m)\u001b[0m \u001b[1;31m#(1,1)\u001b[0m\u001b[1;33m\u001b[0m\u001b[0m\n\u001b[0;32m     25\u001b[0m \u001b[1;33m\u001b[0m\u001b[0m\n\u001b[1;32m---> 26\u001b[1;33m     \u001b[0mdlmodel\u001b[0m \u001b[1;33m=\u001b[0m \u001b[0mDeepLabv3Plus\u001b[0m\u001b[1;33m.\u001b[0m\u001b[0mDeeplabv3\u001b[0m\u001b[1;33m(\u001b[0m\u001b[0minput_shape\u001b[0m\u001b[1;33m=\u001b[0m\u001b[1;33m(\u001b[0m\u001b[1;36m128\u001b[0m\u001b[1;33m,\u001b[0m \u001b[1;36m128\u001b[0m\u001b[1;33m,\u001b[0m \u001b[1;36m3\u001b[0m\u001b[1;33m)\u001b[0m\u001b[1;33m,\u001b[0m \u001b[0mclasses\u001b[0m\u001b[1;33m=\u001b[0m\u001b[1;36m21\u001b[0m\u001b[1;33m,\u001b[0m \u001b[0mbackbone\u001b[0m\u001b[1;33m=\u001b[0m\u001b[1;34m'xception'\u001b[0m\u001b[1;33m)\u001b[0m \u001b[1;31m#\u001b[0m\u001b[1;33m\u001b[0m\u001b[0m\n\u001b[0m\u001b[0;32m     27\u001b[0m     \u001b[1;31m#dlmodel = ln.get_model(pretrained_encoder=True)\u001b[0m\u001b[1;33m\u001b[0m\u001b[1;33m\u001b[0m\u001b[0m\n\u001b[0;32m     28\u001b[0m \u001b[1;33m\u001b[0m\u001b[0m\n",
      "\u001b[1;32m~\\Desktop\\Py\\McLyEdSegmentation\\DeepLabv3Plus.py\u001b[0m in \u001b[0;36mDeeplabv3\u001b[1;34m(weights, input_tensor, input_shape, classes, backbone, OS, alpha)\u001b[0m\n\u001b[0;32m    450\u001b[0m     \u001b[0mb4\u001b[0m \u001b[1;33m=\u001b[0m \u001b[0mBatchNormalization\u001b[0m\u001b[1;33m(\u001b[0m\u001b[0mname\u001b[0m\u001b[1;33m=\u001b[0m\u001b[1;34m'image_pooling_BN'\u001b[0m\u001b[1;33m,\u001b[0m \u001b[0mepsilon\u001b[0m\u001b[1;33m=\u001b[0m\u001b[1;36m1e-5\u001b[0m\u001b[1;33m)\u001b[0m\u001b[1;33m(\u001b[0m\u001b[0mb4\u001b[0m\u001b[1;33m)\u001b[0m\u001b[1;33m\u001b[0m\u001b[0m\n\u001b[0;32m    451\u001b[0m     \u001b[0mb4\u001b[0m \u001b[1;33m=\u001b[0m \u001b[0mActivation\u001b[0m\u001b[1;33m(\u001b[0m\u001b[0mNonLinearActivation\u001b[0m\u001b[1;33m)\u001b[0m\u001b[1;33m(\u001b[0m\u001b[0mb4\u001b[0m\u001b[1;33m)\u001b[0m\u001b[1;33m\u001b[0m\u001b[0m\n\u001b[1;32m--> 452\u001b[1;33m     \u001b[0mb4\u001b[0m \u001b[1;33m=\u001b[0m \u001b[0mBilinearUpsampling\u001b[0m\u001b[1;33m(\u001b[0m\u001b[1;33m(\u001b[0m\u001b[0mint\u001b[0m\u001b[1;33m(\u001b[0m\u001b[0mnp\u001b[0m\u001b[1;33m.\u001b[0m\u001b[0mceil\u001b[0m\u001b[1;33m(\u001b[0m\u001b[0minput_shape\u001b[0m\u001b[1;33m[\u001b[0m\u001b[1;36m0\u001b[0m\u001b[1;33m]\u001b[0m \u001b[1;33m/\u001b[0m \u001b[0mOS\u001b[0m\u001b[1;33m)\u001b[0m\u001b[1;33m)\u001b[0m\u001b[1;33m,\u001b[0m \u001b[0mint\u001b[0m\u001b[1;33m(\u001b[0m\u001b[0mnp\u001b[0m\u001b[1;33m.\u001b[0m\u001b[0mceil\u001b[0m\u001b[1;33m(\u001b[0m\u001b[0minput_shape\u001b[0m\u001b[1;33m[\u001b[0m\u001b[1;36m1\u001b[0m\u001b[1;33m]\u001b[0m \u001b[1;33m/\u001b[0m \u001b[0mOS\u001b[0m\u001b[1;33m)\u001b[0m\u001b[1;33m)\u001b[0m\u001b[1;33m)\u001b[0m\u001b[1;33m)\u001b[0m\u001b[1;33m(\u001b[0m\u001b[0mb4\u001b[0m\u001b[1;33m)\u001b[0m\u001b[1;33m\u001b[0m\u001b[0m\n\u001b[0m\u001b[0;32m    453\u001b[0m \u001b[1;33m\u001b[0m\u001b[0m\n\u001b[0;32m    454\u001b[0m     \u001b[1;31m# simple 1x1\u001b[0m\u001b[1;33m\u001b[0m\u001b[1;33m\u001b[0m\u001b[0m\n",
      "\u001b[1;32m~\\Desktop\\Py\\McLyEdSegmentation\\DeepLabv3Plus.py\u001b[0m in \u001b[0;36m__init__\u001b[1;34m(self, upsampling, output_size, data_format, **kwargs)\u001b[0m\n\u001b[0;32m     65\u001b[0m         \u001b[0msuper\u001b[0m\u001b[1;33m(\u001b[0m\u001b[0mBilinearUpsampling\u001b[0m\u001b[1;33m,\u001b[0m \u001b[0mself\u001b[0m\u001b[1;33m)\u001b[0m\u001b[1;33m.\u001b[0m\u001b[0m__init__\u001b[0m\u001b[1;33m(\u001b[0m\u001b[1;33m**\u001b[0m\u001b[0mkwargs\u001b[0m\u001b[1;33m)\u001b[0m\u001b[1;33m\u001b[0m\u001b[0m\n\u001b[0;32m     66\u001b[0m \u001b[1;33m\u001b[0m\u001b[0m\n\u001b[1;32m---> 67\u001b[1;33m         \u001b[0mself\u001b[0m\u001b[1;33m.\u001b[0m\u001b[0mdata_format\u001b[0m \u001b[1;33m=\u001b[0m \u001b[0mconv_utils\u001b[0m\u001b[1;33m.\u001b[0m\u001b[0mnormalize_data_format\u001b[0m\u001b[1;33m(\u001b[0m\u001b[0mdata_format\u001b[0m\u001b[1;33m)\u001b[0m\u001b[1;33m\u001b[0m\u001b[0m\n\u001b[0m\u001b[0;32m     68\u001b[0m         \u001b[0mself\u001b[0m\u001b[1;33m.\u001b[0m\u001b[0minput_spec\u001b[0m \u001b[1;33m=\u001b[0m \u001b[0mInputSpec\u001b[0m\u001b[1;33m(\u001b[0m\u001b[0mndim\u001b[0m\u001b[1;33m=\u001b[0m\u001b[1;36m4\u001b[0m\u001b[1;33m)\u001b[0m\u001b[1;33m\u001b[0m\u001b[0m\n\u001b[0;32m     69\u001b[0m         \u001b[1;32mif\u001b[0m \u001b[0moutput_size\u001b[0m\u001b[1;33m:\u001b[0m\u001b[1;33m\u001b[0m\u001b[0m\n",
      "\u001b[1;31mAttributeError\u001b[0m: module 'keras.utils.conv_utils' has no attribute 'normalize_data_format'"
     ]
    }
   ],
   "source": [
    "def resetModel():\n",
    "    import DeepLabv3Plus\n",
    "\n",
    "    im_height = 101\n",
    "    im_width = 101\n",
    "    im_chan = 1\n",
    "\n",
    "\n",
    "    inputs = Input((im_height, im_width, im_chan))\n",
    "    #s = Lambda(lambda x: x / 255) (inputs)\n",
    "    s=inputs\n",
    "    inputDepth = Input( (1,1,1) )\n",
    "\n",
    "\n",
    "    curLayer = inputs#Concatenate()([inputs, depthIn])\n",
    "\n",
    "\n",
    "    #s = ReflectionPadding2D( padding = ((13, 14), (13, 14)) ) (s)\n",
    "    s = ZeroPadding2D( padding = ((13, 14), (13, 14)) ) (curLayer)\n",
    "    dd = Lambda(lambda x: x * 0.001) (inputDepth)\n",
    "    dd = Lambda(lambda x: ModelUNet._expand(x, 128, 128) )(dd)\n",
    "    s = Concatenate()([s, dd])\n",
    "    \n",
    "    s = Conv2D(3, (1, 1), activation='relu') (s) #(1,1)\n",
    "\n",
    "    dlmodel = DeepLabv3Plus.Deeplabv3(input_shape=(128, 128, 3), classes=21, backbone='xception') #\n",
    "    #dlmodel = ln.get_model(pretrained_encoder=True)\n",
    "\n",
    "    outputs = dlmodel(s)\n",
    "\n",
    "    #outputs = Concatenate()([outputs, dd])\n",
    "    \n",
    "    #morphologic opening\n",
    "    morphsize=(7,7)\n",
    "    morph = outputs\n",
    "    for k in range(4):\n",
    "        #erosion\n",
    "        morph = Lambda(lambda x: -x)(morph)\n",
    "        morph = MaxPooling2D( pool_size=morphsize, strides = (1,1), padding='same')(morph)\n",
    "        morph = Lambda(lambda x: -x)(morph)\n",
    "        \n",
    "        #dilation\n",
    "        morph = MaxPooling2D( pool_size=morphsize, strides = (1,1), padding='same')(morph)\n",
    "    \n",
    "    #morphologic closing\n",
    "    for k in range(4):\n",
    "        #dilation\n",
    "        morph = MaxPooling2D( pool_size=morphsize, strides = (1,1), padding='same')(morph)\n",
    "        \n",
    "        #erosion\n",
    "        morph = Lambda(lambda x: -x)(morph)\n",
    "        morph = MaxPooling2D( pool_size=morphsize, strides = (1,1), padding='same')(morph)\n",
    "        morph = Lambda(lambda x: -x)(morph)\n",
    "        \n",
    "        \n",
    "    outputs = morph\n",
    "    \n",
    "\n",
    "    outputs = Conv2D(1, (1, 1), activation='sigmoid') (outputs)\n",
    "    outputs = Cropping2D(cropping=((13, 14), (13, 14)) ) (outputs)\n",
    "\n",
    "    model = Model(inputs=[inputs, inputDepth], outputs=outputs)\n",
    "    model.compile(optimizer='adam', loss=[ModelUNet.dice_loss], metrics=[ModelUNet.mean_iou])\n",
    "    return model\n",
    "\n",
    "model = resetModel()\n",
    "model.summary()"
   ]
  },
  {
   "cell_type": "markdown",
   "metadata": {
    "colab_type": "text",
    "id": "CT0_7k0iW5bh"
   },
   "source": [
    "# Training"
   ]
  },
  {
   "cell_type": "code",
   "execution_count": 17,
   "metadata": {
    "colab": {},
    "colab_type": "code",
    "id": "V6zDpL9pTNb4"
   },
   "outputs": [],
   "source": [
    "import math\n",
    "from keras.callbacks import EarlyStopping, ModelCheckpoint, LearningRateScheduler\n",
    "def step_decay(epoch):\n",
    "    initial_lrate = 0.001                \n",
    "    drop = 0.6\n",
    "    epochs_drop = 30.0\n",
    "    lrate = initial_lrate * math.pow(drop,  \n",
    "            math.floor((1+epoch)/epochs_drop))\n",
    "    \n",
    "    if (lrate < 5e-6):\n",
    "        lrate = 5e-6\n",
    "      \n",
    "    print('Changing learning rate to {}'.format(lrate))\n",
    "    return lrate\n",
    "lrate = LearningRateScheduler(step_decay)"
   ]
  },
  {
   "cell_type": "code",
   "execution_count": null,
   "metadata": {},
   "outputs": [],
   "source": []
  },
  {
   "cell_type": "code",
   "execution_count": null,
   "metadata": {},
   "outputs": [],
   "source": [
    "resultsAE = modelAE.fit_generator(all_generator, epochs=350, steps_per_epoch=len(X_train0+X_test) / 32, \n",
    "                                  #validation_data=( [X_val, d_val], Y_val),\n",
    "                                  callbacks=[lrate])"
   ]
  },
  {
   "cell_type": "code",
   "execution_count": null,
   "metadata": {},
   "outputs": [],
   "source": []
  },
  {
   "cell_type": "code",
   "execution_count": 23,
   "metadata": {
    "colab": {
     "base_uri": "https://localhost:8080/",
     "height": 3179
    },
    "colab_type": "code",
    "id": "dyt7eewqDTIk",
    "outputId": "fd7ee0f3-d0c9-4b50-e00a-445bfe2d98b6",
    "scrolled": true
   },
   "outputs": [
    {
     "name": "stdout",
     "output_type": "stream",
     "text": [
      "Epoch 1/150\n",
      "Changing learning rate to 0.0005\n",
      "104/103 [==============================] - 252s 2s/step - loss: 0.0683 - mean_iou: 0.6085 - val_loss: 0.0374 - val_mean_iou: 0.7085\n",
      "\n",
      "Epoch 00001: val_loss improved from inf to 0.03739, saving model to model-tgs-salt-1f-0.h5\n",
      "586/586 [==============================] - 32s 54ms/step\n",
      "Accurate validation score is 0.6039249146757679. Best so far is 0\n",
      "Saving model-tgs-salt-IV.h5\n",
      "Epoch 2/150\n",
      "Changing learning rate to 0.0005\n",
      "104/103 [==============================] - 137s 1s/step - loss: 0.0376 - mean_iou: 0.7350 - val_loss: 0.0322 - val_mean_iou: 0.7541\n",
      "\n",
      "Epoch 00002: val_loss improved from 0.03739 to 0.03221, saving model to model-tgs-salt-1f-0.h5\n",
      "Epoch 3/150\n",
      "Changing learning rate to 0.0005\n",
      "104/103 [==============================] - 138s 1s/step - loss: 0.0336 - mean_iou: 0.7671 - val_loss: 0.0364 - val_mean_iou: 0.7740\n",
      "\n",
      "Epoch 00003: val_loss did not improve from 0.03221\n",
      "Epoch 4/150\n",
      "Changing learning rate to 0.0005\n",
      "104/103 [==============================] - 138s 1s/step - loss: 0.0257 - mean_iou: 0.7831 - val_loss: 0.0259 - val_mean_iou: 0.7915\n",
      "\n",
      "Epoch 00004: val_loss improved from 0.03221 to 0.02594, saving model to model-tgs-salt-1f-0.h5\n",
      "Epoch 5/150\n",
      "Changing learning rate to 0.0005\n",
      "104/103 [==============================] - 139s 1s/step - loss: 0.0244 - mean_iou: 0.7990 - val_loss: 0.0250 - val_mean_iou: 0.8046\n",
      "\n",
      "Epoch 00005: val_loss improved from 0.02594 to 0.02497, saving model to model-tgs-salt-1f-0.h5\n",
      "Epoch 6/150\n",
      "Changing learning rate to 0.0005\n",
      "104/103 [==============================] - 139s 1s/step - loss: 0.0235 - mean_iou: 0.8090 - val_loss: 0.0296 - val_mean_iou: 0.8135\n",
      "\n",
      "Epoch 00006: val_loss did not improve from 0.02497\n",
      "586/586 [==============================] - 8s 14ms/step\n",
      "Accurate validation score is 0.6854948805460751. Best so far is 0.6039249146757679\n",
      "Saving model-tgs-salt-IV.h5\n",
      "Epoch 7/150\n",
      "Changing learning rate to 0.0005\n",
      "104/103 [==============================] - 139s 1s/step - loss: 0.0208 - mean_iou: 0.8184 - val_loss: 0.0227 - val_mean_iou: 0.8229\n",
      "\n",
      "Epoch 00007: val_loss improved from 0.02497 to 0.02268, saving model to model-tgs-salt-1f-0.h5\n",
      "Epoch 8/150\n",
      "Changing learning rate to 0.0005\n",
      "104/103 [==============================] - 139s 1s/step - loss: 0.0225 - mean_iou: 0.8263 - val_loss: 0.0313 - val_mean_iou: 0.8285\n",
      "\n",
      "Epoch 00008: val_loss did not improve from 0.02268\n",
      "Epoch 9/150\n",
      "Changing learning rate to 0.0005\n",
      "104/103 [==============================] - 139s 1s/step - loss: 0.0202 - mean_iou: 0.8310 - val_loss: 0.0419 - val_mean_iou: 0.8333\n",
      "\n",
      "Epoch 00009: val_loss did not improve from 0.02268\n",
      "Epoch 10/150\n",
      "Changing learning rate to 0.0005\n",
      "104/103 [==============================] - 139s 1s/step - loss: 0.0183 - mean_iou: 0.8353 - val_loss: 0.0247 - val_mean_iou: 0.8381\n",
      "\n",
      "Epoch 00010: val_loss did not improve from 0.02268\n",
      "Epoch 11/150\n",
      "Changing learning rate to 0.0005\n",
      "104/103 [==============================] - 139s 1s/step - loss: 0.0155 - mean_iou: 0.8412 - val_loss: 0.0184 - val_mean_iou: 0.8442\n",
      "\n",
      "Epoch 00011: val_loss improved from 0.02268 to 0.01839, saving model to model-tgs-salt-1f-0.h5\n",
      "586/586 [==============================] - 8s 14ms/step\n",
      "Accurate validation score is 0.7549488054607509. Best so far is 0.6854948805460751\n",
      "Saving model-tgs-salt-IV.h5\n",
      "Epoch 12/150\n",
      "Changing learning rate to 0.0005\n",
      "104/103 [==============================] - 139s 1s/step - loss: 0.0174 - mean_iou: 0.8465 - val_loss: 0.0200 - val_mean_iou: 0.8486\n",
      "\n",
      "Epoch 00012: val_loss did not improve from 0.01839\n",
      "Epoch 13/150\n",
      "Changing learning rate to 0.0005\n",
      "104/103 [==============================] - 139s 1s/step - loss: 0.0165 - mean_iou: 0.8506 - val_loss: 0.0219 - val_mean_iou: 0.8527\n",
      "\n",
      "Epoch 00013: val_loss did not improve from 0.01839\n",
      "Epoch 14/150\n",
      "Changing learning rate to 0.0005\n",
      "104/103 [==============================] - 139s 1s/step - loss: 0.0148 - mean_iou: 0.8549 - val_loss: 0.0174 - val_mean_iou: 0.8567\n",
      "\n",
      "Epoch 00014: val_loss improved from 0.01839 to 0.01736, saving model to model-tgs-salt-1f-0.h5\n",
      "Epoch 15/150\n",
      "Changing learning rate to 0.0005\n",
      "104/103 [==============================] - 139s 1s/step - loss: 0.0132 - mean_iou: 0.8588 - val_loss: 0.0163 - val_mean_iou: 0.8607\n",
      "\n",
      "Epoch 00015: val_loss improved from 0.01736 to 0.01630, saving model to model-tgs-salt-1f-0.h5\n",
      "Epoch 16/150\n",
      "Changing learning rate to 0.0005\n",
      "104/103 [==============================] - 139s 1s/step - loss: 0.0139 - mean_iou: 0.8623 - val_loss: 0.0170 - val_mean_iou: 0.8641\n",
      "\n",
      "Epoch 00016: val_loss did not improve from 0.01630\n",
      "586/586 [==============================] - 8s 14ms/step\n",
      "Accurate validation score is 0.7839590443686008. Best so far is 0.7549488054607509\n",
      "Saving model-tgs-salt-IV.h5\n",
      "Epoch 17/150\n",
      "Changing learning rate to 0.0005\n",
      "104/103 [==============================] - 139s 1s/step - loss: 0.0122 - mean_iou: 0.8659 - val_loss: 0.0118 - val_mean_iou: 0.8677\n",
      "\n",
      "Epoch 00017: val_loss improved from 0.01630 to 0.01178, saving model to model-tgs-salt-1f-0.h5\n",
      "Epoch 18/150\n",
      "Changing learning rate to 0.0005\n",
      "104/103 [==============================] - 139s 1s/step - loss: 0.0128 - mean_iou: 0.8693 - val_loss: 0.0133 - val_mean_iou: 0.8706\n",
      "\n",
      "Epoch 00018: val_loss did not improve from 0.01178\n",
      "Epoch 19/150\n",
      "Changing learning rate to 0.0005\n",
      "104/103 [==============================] - 139s 1s/step - loss: 0.0106 - mean_iou: 0.8721 - val_loss: 0.0131 - val_mean_iou: 0.8738\n",
      "\n",
      "Epoch 00019: val_loss did not improve from 0.01178\n",
      "Epoch 20/150\n",
      "Changing learning rate to 0.0005\n",
      "104/103 [==============================] - 139s 1s/step - loss: 0.0098 - mean_iou: 0.8754 - val_loss: 0.0164 - val_mean_iou: 0.8770\n",
      "\n",
      "Epoch 00020: val_loss did not improve from 0.01178\n",
      "Epoch 21/150\n",
      "Changing learning rate to 0.0005\n",
      "104/103 [==============================] - 139s 1s/step - loss: 0.0119 - mean_iou: 0.8783 - val_loss: 0.0137 - val_mean_iou: 0.8794\n",
      "\n",
      "Epoch 00021: val_loss did not improve from 0.01178\n",
      "586/586 [==============================] - 8s 14ms/step\n",
      "Accurate validation score is 0.7901023890784983. Best so far is 0.7839590443686008\n",
      "Saving model-tgs-salt-IV.h5\n",
      "Epoch 22/150\n",
      "Changing learning rate to 0.0005\n",
      "104/103 [==============================] - 139s 1s/step - loss: 0.0128 - mean_iou: 0.8803 - val_loss: 0.0244 - val_mean_iou: 0.8811\n",
      "\n",
      "Epoch 00022: val_loss did not improve from 0.01178\n",
      "Epoch 23/150\n",
      "Changing learning rate to 0.0005\n",
      "104/103 [==============================] - 139s 1s/step - loss: 0.0137 - mean_iou: 0.8817 - val_loss: 0.0150 - val_mean_iou: 0.8825\n",
      "\n",
      "Epoch 00023: val_loss did not improve from 0.01178\n",
      "Epoch 24/150\n",
      "Changing learning rate to 0.0005\n",
      "104/103 [==============================] - 139s 1s/step - loss: 0.0100 - mean_iou: 0.8836 - val_loss: 0.0121 - val_mean_iou: 0.8848\n",
      "\n",
      "Epoch 00024: val_loss did not improve from 0.01178\n",
      "Epoch 25/150\n",
      "Changing learning rate to 0.0005\n",
      "104/103 [==============================] - 139s 1s/step - loss: 0.0090 - mean_iou: 0.8858 - val_loss: 0.0119 - val_mean_iou: 0.8870\n",
      "\n",
      "Epoch 00025: val_loss did not improve from 0.01178\n",
      "Epoch 26/150\n",
      "Changing learning rate to 0.0005\n",
      "104/103 [==============================] - 139s 1s/step - loss: 0.0106 - mean_iou: 0.8879 - val_loss: 0.0144 - val_mean_iou: 0.8888\n",
      "\n",
      "Epoch 00026: val_loss did not improve from 0.01178\n",
      "586/586 [==============================] - 8s 14ms/step\n",
      "Accurate validation score is 0.7957337883959045. Best so far is 0.7901023890784983\n",
      "Saving model-tgs-salt-IV.h5\n",
      "Epoch 27/150\n",
      "Changing learning rate to 0.0005\n",
      "104/103 [==============================] - 139s 1s/step - loss: 0.0150 - mean_iou: 0.8894 - val_loss: 0.0484 - val_mean_iou: 0.8892\n",
      "\n",
      "Epoch 00027: val_loss did not improve from 0.01178\n",
      "Epoch 28/150\n",
      "Changing learning rate to 0.0005\n",
      "104/103 [==============================] - 139s 1s/step - loss: 0.0119 - mean_iou: 0.8895 - val_loss: 0.0169 - val_mean_iou: 0.8902\n",
      "\n",
      "Epoch 00028: val_loss did not improve from 0.01178\n",
      "Epoch 29/150\n",
      "Changing learning rate to 0.0005\n",
      "104/103 [==============================] - 139s 1s/step - loss: 0.0110 - mean_iou: 0.8909 - val_loss: 0.0118 - val_mean_iou: 0.8915\n",
      "\n",
      "Epoch 00029: val_loss did not improve from 0.01178\n",
      "Epoch 30/150\n",
      "Changing learning rate to 0.0003\n",
      "104/103 [==============================] - 139s 1s/step - loss: 0.0081 - mean_iou: 0.8924 - val_loss: 0.0095 - val_mean_iou: 0.8934\n"
     ]
    },
    {
     "name": "stdout",
     "output_type": "stream",
     "text": [
      "\n",
      "Epoch 00030: val_loss improved from 0.01178 to 0.00955, saving model to model-tgs-salt-1f-0.h5\n",
      "Epoch 31/150\n",
      "Changing learning rate to 0.0003\n",
      "104/103 [==============================] - 139s 1s/step - loss: 0.0061 - mean_iou: 0.8944 - val_loss: 0.0083 - val_mean_iou: 0.8954\n",
      "\n",
      "Epoch 00031: val_loss improved from 0.00955 to 0.00831, saving model to model-tgs-salt-1f-0.h5\n",
      "586/586 [==============================] - 8s 14ms/step\n",
      "Accurate validation score is 0.8496587030716723. Best so far is 0.7957337883959045\n",
      "Saving model-tgs-salt-IV.h5\n",
      "Epoch 32/150\n",
      "Changing learning rate to 0.0003\n",
      "104/103 [==============================] - 139s 1s/step - loss: 0.0056 - mean_iou: 0.8965 - val_loss: 0.0089 - val_mean_iou: 0.8975\n",
      "\n",
      "Epoch 00032: val_loss did not improve from 0.00831\n",
      "Epoch 33/150\n",
      "Changing learning rate to 0.0003\n",
      "104/103 [==============================] - 139s 1s/step - loss: 0.0052 - mean_iou: 0.8985 - val_loss: 0.0084 - val_mean_iou: 0.8995\n",
      "\n",
      "Epoch 00033: val_loss did not improve from 0.00831\n",
      "Epoch 34/150\n",
      "Changing learning rate to 0.0003\n",
      "104/103 [==============================] - 139s 1s/step - loss: 0.0063 - mean_iou: 0.9004 - val_loss: 0.0085 - val_mean_iou: 0.9012\n",
      "\n",
      "Epoch 00034: val_loss did not improve from 0.00831\n",
      "Epoch 35/150\n",
      "Changing learning rate to 0.0003\n",
      "104/103 [==============================] - 139s 1s/step - loss: 0.0065 - mean_iou: 0.9021 - val_loss: 0.0094 - val_mean_iou: 0.9028\n",
      "\n",
      "Epoch 00035: val_loss did not improve from 0.00831\n",
      "Epoch 36/150\n",
      "Changing learning rate to 0.0003\n",
      "104/103 [==============================] - 139s 1s/step - loss: 0.0067 - mean_iou: 0.9036 - val_loss: 0.0102 - val_mean_iou: 0.9042\n",
      "\n",
      "Epoch 00036: val_loss did not improve from 0.00831\n",
      "586/586 [==============================] - 8s 14ms/step\n",
      "Accurate validation score is 0.8319112627986348. Best so far is 0.8496587030716723\n",
      "Epoch 37/150\n",
      "Changing learning rate to 0.0003\n",
      "104/103 [==============================] - 139s 1s/step - loss: 0.0077 - mean_iou: 0.9048 - val_loss: 0.0097 - val_mean_iou: 0.9055\n",
      "\n",
      "Epoch 00037: val_loss did not improve from 0.00831\n",
      "Epoch 38/150\n",
      "Changing learning rate to 0.0003\n",
      "104/103 [==============================] - 139s 1s/step - loss: 0.0062 - mean_iou: 0.9062 - val_loss: 0.0080 - val_mean_iou: 0.9069\n",
      "\n",
      "Epoch 00038: val_loss improved from 0.00831 to 0.00796, saving model to model-tgs-salt-1f-0.h5\n",
      "Epoch 39/150\n",
      "Changing learning rate to 0.0003\n",
      "104/103 [==============================] - 139s 1s/step - loss: 0.0060 - mean_iou: 0.9076 - val_loss: 0.0118 - val_mean_iou: 0.9082\n",
      "\n",
      "Epoch 00039: val_loss did not improve from 0.00796\n",
      "Epoch 40/150\n",
      "Changing learning rate to 0.0003\n",
      "104/103 [==============================] - 139s 1s/step - loss: 0.0065 - mean_iou: 0.9088 - val_loss: 0.0083 - val_mean_iou: 0.9094\n",
      "\n",
      "Epoch 00040: val_loss did not improve from 0.00796\n",
      "Epoch 41/150\n",
      "Changing learning rate to 0.0003\n",
      "104/103 [==============================] - 139s 1s/step - loss: 0.0052 - mean_iou: 0.9100 - val_loss: 0.0102 - val_mean_iou: 0.9107\n",
      "\n",
      "Epoch 00041: val_loss did not improve from 0.00796\n",
      "586/586 [==============================] - 8s 14ms/step\n",
      "Accurate validation score is 0.8343003412969283. Best so far is 0.8496587030716723\n",
      "Epoch 42/150\n",
      "Changing learning rate to 0.0003\n",
      "104/103 [==============================] - 139s 1s/step - loss: 0.0069 - mean_iou: 0.9112 - val_loss: 0.0095 - val_mean_iou: 0.9117\n",
      "\n",
      "Epoch 00042: val_loss did not improve from 0.00796\n",
      "Epoch 43/150\n",
      "Changing learning rate to 0.0003\n",
      "104/103 [==============================] - 139s 1s/step - loss: 0.0054 - mean_iou: 0.9123 - val_loss: 0.0075 - val_mean_iou: 0.9129\n",
      "\n",
      "Epoch 00043: val_loss improved from 0.00796 to 0.00751, saving model to model-tgs-salt-1f-0.h5\n",
      "Epoch 44/150\n",
      "Changing learning rate to 0.0003\n",
      "104/103 [==============================] - 139s 1s/step - loss: 0.0055 - mean_iou: 0.9134 - val_loss: 0.0076 - val_mean_iou: 0.9140\n",
      "\n",
      "Epoch 00044: val_loss did not improve from 0.00751\n",
      "Epoch 45/150\n",
      "Changing learning rate to 0.0003\n",
      "104/103 [==============================] - 139s 1s/step - loss: 0.0044 - mean_iou: 0.9146 - val_loss: 0.0070 - val_mean_iou: 0.9152\n",
      "\n",
      "Epoch 00045: val_loss improved from 0.00751 to 0.00696, saving model to model-tgs-salt-1f-0.h5\n",
      "Epoch 46/150\n",
      "Changing learning rate to 0.0003\n",
      "104/103 [==============================] - 139s 1s/step - loss: 0.0044 - mean_iou: 0.9158 - val_loss: 0.0065 - val_mean_iou: 0.9164\n",
      "\n",
      "Epoch 00046: val_loss improved from 0.00696 to 0.00650, saving model to model-tgs-salt-1f-0.h5\n",
      "586/586 [==============================] - 8s 14ms/step\n",
      "Accurate validation score is 0.8665529010238908. Best so far is 0.8496587030716723\n",
      "Saving model-tgs-salt-IV.h5\n",
      "Epoch 47/150\n",
      "Changing learning rate to 0.0003\n",
      "104/103 [==============================] - 139s 1s/step - loss: 0.0059 - mean_iou: 0.9168 - val_loss: 0.0078 - val_mean_iou: 0.9173\n",
      "\n",
      "Epoch 00047: val_loss did not improve from 0.00650\n",
      "Epoch 48/150\n",
      "Changing learning rate to 0.0003\n",
      "104/103 [==============================] - 139s 1s/step - loss: 0.0048 - mean_iou: 0.9178 - val_loss: 0.0067 - val_mean_iou: 0.9183\n",
      "\n",
      "Epoch 00048: val_loss did not improve from 0.00650\n",
      "Epoch 49/150\n",
      "Changing learning rate to 0.0003\n",
      "104/103 [==============================] - 139s 1s/step - loss: 0.0039 - mean_iou: 0.9189 - val_loss: 0.0067 - val_mean_iou: 0.9194\n",
      "\n",
      "Epoch 00049: val_loss did not improve from 0.00650\n",
      "Epoch 50/150\n",
      "Changing learning rate to 0.0003\n",
      "104/103 [==============================] - 139s 1s/step - loss: 0.0061 - mean_iou: 0.9199 - val_loss: 0.0109 - val_mean_iou: 0.9202\n",
      "\n",
      "Epoch 00050: val_loss did not improve from 0.00650\n",
      "Epoch 51/150\n",
      "Changing learning rate to 0.0003\n",
      "104/103 [==============================] - 139s 1s/step - loss: 0.0056 - mean_iou: 0.9206 - val_loss: 0.0099 - val_mean_iou: 0.9210\n",
      "\n",
      "Epoch 00051: val_loss did not improve from 0.00650\n",
      "586/586 [==============================] - 8s 14ms/step\n",
      "Accurate validation score is 0.8373720136518772. Best so far is 0.8665529010238908\n",
      "Epoch 52/150\n",
      "Changing learning rate to 0.0003\n",
      "104/103 [==============================] - 139s 1s/step - loss: 0.0111 - mean_iou: 0.9212 - val_loss: 0.0126 - val_mean_iou: 0.9212\n",
      "\n",
      "Epoch 00052: val_loss did not improve from 0.00650\n",
      "Epoch 53/150\n",
      "Changing learning rate to 0.0003\n",
      "104/103 [==============================] - 139s 1s/step - loss: 0.0071 - mean_iou: 0.9215 - val_loss: 0.0083 - val_mean_iou: 0.9218\n",
      "\n",
      "Epoch 00053: val_loss did not improve from 0.00650\n",
      "Epoch 54/150\n",
      "Changing learning rate to 0.0003\n",
      "104/103 [==============================] - 139s 1s/step - loss: 0.0054 - mean_iou: 0.9222 - val_loss: 0.0077 - val_mean_iou: 0.9226\n",
      "\n",
      "Epoch 00054: val_loss did not improve from 0.00650\n",
      "Epoch 55/150\n",
      "Changing learning rate to 0.0003\n",
      "104/103 [==============================] - 139s 1s/step - loss: 0.0052 - mean_iou: 0.9230 - val_loss: 0.0075 - val_mean_iou: 0.9234\n",
      "\n",
      "Epoch 00055: val_loss did not improve from 0.00650\n",
      "Epoch 56/150\n",
      "Changing learning rate to 0.0003\n",
      "104/103 [==============================] - 139s 1s/step - loss: 0.0072 - mean_iou: 0.9237 - val_loss: 0.0140 - val_mean_iou: 0.9239\n",
      "\n",
      "Epoch 00056: val_loss did not improve from 0.00650\n",
      "586/586 [==============================] - 8s 14ms/step\n",
      "Accurate validation score is 0.7967576791808872. Best so far is 0.8665529010238908\n",
      "Epoch 57/150\n",
      "Changing learning rate to 0.0003\n",
      "104/103 [==============================] - 139s 1s/step - loss: 0.0085 - mean_iou: 0.9240 - val_loss: 0.0085 - val_mean_iou: 0.9243\n",
      "\n",
      "Epoch 00057: val_loss did not improve from 0.00650\n",
      "Epoch 58/150\n",
      "Changing learning rate to 0.0003\n",
      "104/103 [==============================] - 139s 1s/step - loss: 0.0056 - mean_iou: 0.9246 - val_loss: 0.0070 - val_mean_iou: 0.9249\n",
      "\n",
      "Epoch 00058: val_loss did not improve from 0.00650\n",
      "Epoch 59/150\n",
      "Changing learning rate to 0.0003\n",
      "104/103 [==============================] - 139s 1s/step - loss: 0.0068 - mean_iou: 0.9252 - val_loss: 0.0092 - val_mean_iou: 0.9254\n",
      "\n",
      "Epoch 00059: val_loss did not improve from 0.00650\n",
      "Epoch 60/150\n",
      "Changing learning rate to 0.00017999999999999998\n",
      "104/103 [==============================] - 139s 1s/step - loss: 0.0042 - mean_iou: 0.9258 - val_loss: 0.0072 - val_mean_iou: 0.9262\n",
      "\n",
      "Epoch 00060: val_loss did not improve from 0.00650\n",
      "Epoch 61/150\n",
      "Changing learning rate to 0.00017999999999999998\n",
      "104/103 [==============================] - 139s 1s/step - loss: 0.0042 - mean_iou: 0.9265 - val_loss: 0.0066 - val_mean_iou: 0.9269\n",
      "\n",
      "Epoch 00061: val_loss did not improve from 0.00650\n",
      "586/586 [==============================] - 8s 14ms/step\n",
      "Accurate validation score is 0.8684300341296929. Best so far is 0.8665529010238908\n",
      "Saving model-tgs-salt-IV.h5\n",
      "Epoch 00061: early stopping\n",
      "Epoch 1/150\n",
      "Changing learning rate to 0.0005\n",
      "104/103 [==============================] - 271s 3s/step - loss: 0.0677 - mean_iou: 0.5827 - val_loss: 0.0402 - val_mean_iou: 0.7012\n",
      "\n",
      "Epoch 00001: val_loss improved from inf to 0.04022, saving model to model-tgs-salt-1f-1.h5\n",
      "586/586 [==============================] - 38s 65ms/step\n",
      "Accurate validation score is 0.5307167235494881. Best so far is 0\n",
      "Saving model-tgs-salt-IV.h5\n",
      "Epoch 2/150\n",
      "Changing learning rate to 0.0005\n",
      "104/103 [==============================] - 137s 1s/step - loss: 0.0346 - mean_iou: 0.7357 - val_loss: 0.0327 - val_mean_iou: 0.7557\n",
      "\n",
      "Epoch 00002: val_loss improved from 0.04022 to 0.03266, saving model to model-tgs-salt-1f-1.h5\n",
      "Epoch 3/150\n",
      "Changing learning rate to 0.0005\n",
      "104/103 [==============================] - 138s 1s/step - loss: 0.0297 - mean_iou: 0.7708 - val_loss: 0.0381 - val_mean_iou: 0.7824\n",
      "\n",
      "Epoch 00003: val_loss did not improve from 0.03266\n",
      "Epoch 4/150\n",
      "Changing learning rate to 0.0005\n",
      "104/103 [==============================] - 138s 1s/step - loss: 0.0281 - mean_iou: 0.7905 - val_loss: 0.0273 - val_mean_iou: 0.7969\n",
      "\n",
      "Epoch 00004: val_loss improved from 0.03266 to 0.02730, saving model to model-tgs-salt-1f-1.h5\n",
      "Epoch 5/150\n",
      "Changing learning rate to 0.0005\n",
      "104/103 [==============================] - 138s 1s/step - loss: 0.0234 - mean_iou: 0.8049 - val_loss: 0.0298 - val_mean_iou: 0.8113\n",
      "\n",
      "Epoch 00005: val_loss did not improve from 0.02730\n",
      "Epoch 6/150\n",
      "Changing learning rate to 0.0005\n",
      "104/103 [==============================] - 138s 1s/step - loss: 0.0219 - mean_iou: 0.8168 - val_loss: 0.0214 - val_mean_iou: 0.8217\n",
      "\n",
      "Epoch 00006: val_loss improved from 0.02730 to 0.02136, saving model to model-tgs-salt-1f-1.h5\n",
      "586/586 [==============================] - 8s 14ms/step\n",
      "Accurate validation score is 0.7295221843003412. Best so far is 0.5307167235494881\n",
      "Saving model-tgs-salt-IV.h5\n",
      "Epoch 7/150\n",
      "Changing learning rate to 0.0005\n",
      "104/103 [==============================] - 139s 1s/step - loss: 0.0181 - mean_iou: 0.8265 - val_loss: 0.0206 - val_mean_iou: 0.8317\n",
      "\n",
      "Epoch 00007: val_loss improved from 0.02136 to 0.02058, saving model to model-tgs-salt-1f-1.h5\n",
      "Epoch 8/150\n",
      "Changing learning rate to 0.0005\n",
      "104/103 [==============================] - 139s 1s/step - loss: 0.0213 - mean_iou: 0.8353 - val_loss: 0.0354 - val_mean_iou: 0.8367\n",
      "\n",
      "Epoch 00008: val_loss did not improve from 0.02058\n",
      "Epoch 9/150\n",
      "Changing learning rate to 0.0005\n",
      "104/103 [==============================] - 139s 1s/step - loss: 0.0236 - mean_iou: 0.8371 - val_loss: 0.0229 - val_mean_iou: 0.8391\n",
      "\n",
      "Epoch 00009: val_loss did not improve from 0.02058\n",
      "Epoch 10/150\n",
      "Changing learning rate to 0.0005\n",
      "104/103 [==============================] - 139s 1s/step - loss: 0.0194 - mean_iou: 0.8415 - val_loss: 0.0228 - val_mean_iou: 0.8439\n",
      "\n",
      "Epoch 00010: val_loss did not improve from 0.02058\n",
      "Epoch 11/150\n",
      "Changing learning rate to 0.0005\n",
      "104/103 [==============================] - 139s 1s/step - loss: 0.0191 - mean_iou: 0.8458 - val_loss: 0.0224 - val_mean_iou: 0.8479\n",
      "\n",
      "Epoch 00011: val_loss did not improve from 0.02058\n",
      "586/586 [==============================] - 8s 14ms/step\n",
      "Accurate validation score is 0.7182593856655289. Best so far is 0.7295221843003412\n",
      "Epoch 12/150\n",
      "Changing learning rate to 0.0005\n",
      "104/103 [==============================] - 139s 1s/step - loss: 0.0152 - mean_iou: 0.8501 - val_loss: 0.0151 - val_mean_iou: 0.8529\n",
      "\n",
      "Epoch 00012: val_loss improved from 0.02058 to 0.01508, saving model to model-tgs-salt-1f-1.h5\n",
      "Epoch 13/150\n",
      "Changing learning rate to 0.0005\n",
      "104/103 [==============================] - 139s 1s/step - loss: 0.0141 - mean_iou: 0.8554 - val_loss: 0.0182 - val_mean_iou: 0.8575\n",
      "\n",
      "Epoch 00013: val_loss did not improve from 0.01508\n",
      "Epoch 14/150\n",
      "Changing learning rate to 0.0005\n",
      "104/103 [==============================] - 139s 1s/step - loss: 0.0199 - mean_iou: 0.8589 - val_loss: 0.0315 - val_mean_iou: 0.8593\n",
      "\n",
      "Epoch 00014: val_loss did not improve from 0.01508\n",
      "Epoch 15/150\n",
      "Changing learning rate to 0.0005\n",
      "104/103 [==============================] - 139s 1s/step - loss: 0.0171 - mean_iou: 0.8602 - val_loss: 0.0262 - val_mean_iou: 0.8614\n",
      "\n",
      "Epoch 00015: val_loss did not improve from 0.01508\n",
      "Epoch 16/150\n",
      "Changing learning rate to 0.0005\n",
      "104/103 [==============================] - 139s 1s/step - loss: 0.0174 - mean_iou: 0.8624 - val_loss: 0.0271 - val_mean_iou: 0.8635\n",
      "\n",
      "Epoch 00016: val_loss did not improve from 0.01508\n",
      "586/586 [==============================] - 8s 14ms/step\n",
      "Accurate validation score is 0.7230375426621161. Best so far is 0.7295221843003412\n",
      "Epoch 17/150\n",
      "Changing learning rate to 0.0005\n",
      "104/103 [==============================] - 139s 1s/step - loss: 0.0147 - mean_iou: 0.8645 - val_loss: 0.0155 - val_mean_iou: 0.8661\n",
      "\n",
      "Epoch 00017: val_loss did not improve from 0.01508\n",
      "Epoch 18/150\n",
      "Changing learning rate to 0.0005\n",
      "104/103 [==============================] - 139s 1s/step - loss: 0.0136 - mean_iou: 0.8676 - val_loss: 0.0187 - val_mean_iou: 0.8689\n",
      "\n",
      "Epoch 00018: val_loss did not improve from 0.01508\n",
      "Epoch 19/150\n",
      "Changing learning rate to 0.0005\n",
      "104/103 [==============================] - 139s 1s/step - loss: 0.0140 - mean_iou: 0.8700 - val_loss: 0.0163 - val_mean_iou: 0.8711\n",
      "\n",
      "Epoch 00019: val_loss did not improve from 0.01508\n",
      "Epoch 20/150\n",
      "Changing learning rate to 0.0005\n",
      "104/103 [==============================] - 139s 1s/step - loss: 0.0149 - mean_iou: 0.8722 - val_loss: 0.0178 - val_mean_iou: 0.8731\n",
      "\n",
      "Epoch 00020: val_loss did not improve from 0.01508\n",
      "Epoch 21/150\n",
      "Changing learning rate to 0.0005\n",
      "104/103 [==============================] - 139s 1s/step - loss: 0.0127 - mean_iou: 0.8742 - val_loss: 0.0275 - val_mean_iou: 0.8752\n",
      "\n",
      "Epoch 00021: val_loss did not improve from 0.01508\n",
      "586/586 [==============================] - 8s 14ms/step\n",
      "Accurate validation score is 0.674061433447099. Best so far is 0.7295221843003412\n",
      "Epoch 22/150\n",
      "Changing learning rate to 0.0005\n",
      "104/103 [==============================] - 139s 1s/step - loss: 0.0121 - mean_iou: 0.8761 - val_loss: 0.0153 - val_mean_iou: 0.8772\n",
      "\n",
      "Epoch 00022: val_loss did not improve from 0.01508\n",
      "Epoch 23/150\n",
      "Changing learning rate to 0.0005\n",
      "104/103 [==============================] - 139s 1s/step - loss: 0.0130 - mean_iou: 0.8781 - val_loss: 0.0165 - val_mean_iou: 0.8791\n",
      "\n",
      "Epoch 00023: val_loss did not improve from 0.01508\n",
      "Epoch 24/150\n",
      "Changing learning rate to 0.0005\n",
      "104/103 [==============================] - 139s 1s/step - loss: 0.0116 - mean_iou: 0.8801 - val_loss: 0.0193 - val_mean_iou: 0.8811\n",
      "\n",
      "Epoch 00024: val_loss did not improve from 0.01508\n",
      "Epoch 25/150\n",
      "Changing learning rate to 0.0005\n",
      "104/103 [==============================] - 139s 1s/step - loss: 0.0104 - mean_iou: 0.8821 - val_loss: 0.0231 - val_mean_iou: 0.8830\n",
      "\n",
      "Epoch 00025: val_loss did not improve from 0.01508\n",
      "Epoch 26/150\n",
      "Changing learning rate to 0.0005\n",
      "104/103 [==============================] - 139s 1s/step - loss: 0.0131 - mean_iou: 0.8835 - val_loss: 0.0156 - val_mean_iou: 0.8843\n",
      "\n",
      "Epoch 00026: val_loss did not improve from 0.01508\n",
      "586/586 [==============================] - 8s 14ms/step\n",
      "Accurate validation score is 0.7448805460750854. Best so far is 0.7295221843003412\n",
      "Saving model-tgs-salt-IV.h5\n",
      "Epoch 27/150\n",
      "Changing learning rate to 0.0005\n",
      "104/103 [==============================] - 139s 1s/step - loss: 0.0131 - mean_iou: 0.8851 - val_loss: 0.0344 - val_mean_iou: 0.8855\n",
      "\n",
      "Epoch 00027: val_loss did not improve from 0.01508\n",
      "Epoch 00027: early stopping\n",
      "Epoch 1/150\n",
      "Changing learning rate to 0.0005\n",
      "  2/103 [..............................] - ETA: 2:07:10 - loss: 0.4916 - mean_iou: 0.0698    "
     ]
    },
    {
     "ename": "ResourceExhaustedError",
     "evalue": "OOM when allocating tensor with shape[10368,3,3,2048] and type float on /job:localhost/replica:0/task:0/device:GPU:0 by allocator GPU_0_bfc\n\t [[Node: training_6/Adam/gradients/deeplabv3p_7/aspp3_depthwise/depthwise_grad/DepthwiseConv2dNativeBackpropInput-0-0-TransposeNCHWToNHWC-LayoutOptimizer = Transpose[T=DT_FLOAT, Tperm=DT_INT32, _device=\"/job:localhost/replica:0/task:0/device:GPU:0\"](training_6/Adam/gradients/deeplabv3p_7/aspp3_depthwise/depthwise_grad/DepthwiseConv2dNativeBackpropInput, PermConstNCHWToNHWC-LayoutOptimizer)]]\nHint: If you want to see a list of allocated tensors when OOM happens, add report_tensor_allocations_upon_oom to RunOptions for current allocation info.\n",
     "output_type": "error",
     "traceback": [
      "\u001b[0;31m---------------------------------------------------------------------------\u001b[0m",
      "\u001b[0;31mResourceExhaustedError\u001b[0m                    Traceback (most recent call last)",
      "\u001b[0;32m<ipython-input-23-4b7b0e430fb4>\u001b[0m in \u001b[0;36m<module>\u001b[0;34m()\u001b[0m\n\u001b[1;32m      9\u001b[0m     results = model.fit_generator(train_generator, epochs=150, steps_per_epoch=len(X_train0) / 32, \n\u001b[1;32m     10\u001b[0m                                   \u001b[0mvalidation_data\u001b[0m\u001b[0;34m=\u001b[0m\u001b[0;34m(\u001b[0m \u001b[0;34m[\u001b[0m\u001b[0mX_val\u001b[0m\u001b[0;34m,\u001b[0m \u001b[0md_val\u001b[0m\u001b[0;34m]\u001b[0m\u001b[0;34m,\u001b[0m \u001b[0mY_val\u001b[0m\u001b[0;34m)\u001b[0m\u001b[0;34m,\u001b[0m\u001b[0;34m\u001b[0m\u001b[0m\n\u001b[0;32m---> 11\u001b[0;31m                                   callbacks=[earlystopper, checkpointer, lrate, internalEval])\n\u001b[0m",
      "\u001b[0;32m/anaconda/envs/py35/lib/python3.5/site-packages/keras/legacy/interfaces.py\u001b[0m in \u001b[0;36mwrapper\u001b[0;34m(*args, **kwargs)\u001b[0m\n\u001b[1;32m     89\u001b[0m                 warnings.warn('Update your `' + object_name +\n\u001b[1;32m     90\u001b[0m                               '` call to the Keras 2 API: ' + signature, stacklevel=2)\n\u001b[0;32m---> 91\u001b[0;31m             \u001b[0;32mreturn\u001b[0m \u001b[0mfunc\u001b[0m\u001b[0;34m(\u001b[0m\u001b[0;34m*\u001b[0m\u001b[0margs\u001b[0m\u001b[0;34m,\u001b[0m \u001b[0;34m**\u001b[0m\u001b[0mkwargs\u001b[0m\u001b[0;34m)\u001b[0m\u001b[0;34m\u001b[0m\u001b[0m\n\u001b[0m\u001b[1;32m     92\u001b[0m         \u001b[0mwrapper\u001b[0m\u001b[0;34m.\u001b[0m\u001b[0m_original_function\u001b[0m \u001b[0;34m=\u001b[0m \u001b[0mfunc\u001b[0m\u001b[0;34m\u001b[0m\u001b[0m\n\u001b[1;32m     93\u001b[0m         \u001b[0;32mreturn\u001b[0m \u001b[0mwrapper\u001b[0m\u001b[0;34m\u001b[0m\u001b[0m\n",
      "\u001b[0;32m/anaconda/envs/py35/lib/python3.5/site-packages/keras/engine/training.py\u001b[0m in \u001b[0;36mfit_generator\u001b[0;34m(self, generator, steps_per_epoch, epochs, verbose, callbacks, validation_data, validation_steps, class_weight, max_queue_size, workers, use_multiprocessing, shuffle, initial_epoch)\u001b[0m\n\u001b[1;32m   1424\u001b[0m             \u001b[0muse_multiprocessing\u001b[0m\u001b[0;34m=\u001b[0m\u001b[0muse_multiprocessing\u001b[0m\u001b[0;34m,\u001b[0m\u001b[0;34m\u001b[0m\u001b[0m\n\u001b[1;32m   1425\u001b[0m             \u001b[0mshuffle\u001b[0m\u001b[0;34m=\u001b[0m\u001b[0mshuffle\u001b[0m\u001b[0;34m,\u001b[0m\u001b[0;34m\u001b[0m\u001b[0m\n\u001b[0;32m-> 1426\u001b[0;31m             initial_epoch=initial_epoch)\n\u001b[0m\u001b[1;32m   1427\u001b[0m \u001b[0;34m\u001b[0m\u001b[0m\n\u001b[1;32m   1428\u001b[0m     \u001b[0;34m@\u001b[0m\u001b[0minterfaces\u001b[0m\u001b[0;34m.\u001b[0m\u001b[0mlegacy_generator_methods_support\u001b[0m\u001b[0;34m\u001b[0m\u001b[0m\n",
      "\u001b[0;32m/anaconda/envs/py35/lib/python3.5/site-packages/keras/engine/training_generator.py\u001b[0m in \u001b[0;36mfit_generator\u001b[0;34m(model, generator, steps_per_epoch, epochs, verbose, callbacks, validation_data, validation_steps, class_weight, max_queue_size, workers, use_multiprocessing, shuffle, initial_epoch)\u001b[0m\n\u001b[1;32m    189\u001b[0m                 outs = model.train_on_batch(x, y,\n\u001b[1;32m    190\u001b[0m                                             \u001b[0msample_weight\u001b[0m\u001b[0;34m=\u001b[0m\u001b[0msample_weight\u001b[0m\u001b[0;34m,\u001b[0m\u001b[0;34m\u001b[0m\u001b[0m\n\u001b[0;32m--> 191\u001b[0;31m                                             class_weight=class_weight)\n\u001b[0m\u001b[1;32m    192\u001b[0m \u001b[0;34m\u001b[0m\u001b[0m\n\u001b[1;32m    193\u001b[0m                 \u001b[0;32mif\u001b[0m \u001b[0;32mnot\u001b[0m \u001b[0misinstance\u001b[0m\u001b[0;34m(\u001b[0m\u001b[0mouts\u001b[0m\u001b[0;34m,\u001b[0m \u001b[0mlist\u001b[0m\u001b[0;34m)\u001b[0m\u001b[0;34m:\u001b[0m\u001b[0;34m\u001b[0m\u001b[0m\n",
      "\u001b[0;32m/anaconda/envs/py35/lib/python3.5/site-packages/keras/engine/training.py\u001b[0m in \u001b[0;36mtrain_on_batch\u001b[0;34m(self, x, y, sample_weight, class_weight)\u001b[0m\n\u001b[1;32m   1218\u001b[0m             \u001b[0mins\u001b[0m \u001b[0;34m=\u001b[0m \u001b[0mx\u001b[0m \u001b[0;34m+\u001b[0m \u001b[0my\u001b[0m \u001b[0;34m+\u001b[0m \u001b[0msample_weights\u001b[0m\u001b[0;34m\u001b[0m\u001b[0m\n\u001b[1;32m   1219\u001b[0m         \u001b[0mself\u001b[0m\u001b[0;34m.\u001b[0m\u001b[0m_make_train_function\u001b[0m\u001b[0;34m(\u001b[0m\u001b[0;34m)\u001b[0m\u001b[0;34m\u001b[0m\u001b[0m\n\u001b[0;32m-> 1220\u001b[0;31m         \u001b[0moutputs\u001b[0m \u001b[0;34m=\u001b[0m \u001b[0mself\u001b[0m\u001b[0;34m.\u001b[0m\u001b[0mtrain_function\u001b[0m\u001b[0;34m(\u001b[0m\u001b[0mins\u001b[0m\u001b[0;34m)\u001b[0m\u001b[0;34m\u001b[0m\u001b[0m\n\u001b[0m\u001b[1;32m   1221\u001b[0m         \u001b[0;32mif\u001b[0m \u001b[0mlen\u001b[0m\u001b[0;34m(\u001b[0m\u001b[0moutputs\u001b[0m\u001b[0;34m)\u001b[0m \u001b[0;34m==\u001b[0m \u001b[0;36m1\u001b[0m\u001b[0;34m:\u001b[0m\u001b[0;34m\u001b[0m\u001b[0m\n\u001b[1;32m   1222\u001b[0m             \u001b[0;32mreturn\u001b[0m \u001b[0moutputs\u001b[0m\u001b[0;34m[\u001b[0m\u001b[0;36m0\u001b[0m\u001b[0;34m]\u001b[0m\u001b[0;34m\u001b[0m\u001b[0m\n",
      "\u001b[0;32m/anaconda/envs/py35/lib/python3.5/site-packages/keras/backend/tensorflow_backend.py\u001b[0m in \u001b[0;36m__call__\u001b[0;34m(self, inputs)\u001b[0m\n\u001b[1;32m   2659\u001b[0m                 \u001b[0;32mreturn\u001b[0m \u001b[0mself\u001b[0m\u001b[0;34m.\u001b[0m\u001b[0m_legacy_call\u001b[0m\u001b[0;34m(\u001b[0m\u001b[0minputs\u001b[0m\u001b[0;34m)\u001b[0m\u001b[0;34m\u001b[0m\u001b[0m\n\u001b[1;32m   2660\u001b[0m \u001b[0;34m\u001b[0m\u001b[0m\n\u001b[0;32m-> 2661\u001b[0;31m             \u001b[0;32mreturn\u001b[0m \u001b[0mself\u001b[0m\u001b[0;34m.\u001b[0m\u001b[0m_call\u001b[0m\u001b[0;34m(\u001b[0m\u001b[0minputs\u001b[0m\u001b[0;34m)\u001b[0m\u001b[0;34m\u001b[0m\u001b[0m\n\u001b[0m\u001b[1;32m   2662\u001b[0m         \u001b[0;32melse\u001b[0m\u001b[0;34m:\u001b[0m\u001b[0;34m\u001b[0m\u001b[0m\n\u001b[1;32m   2663\u001b[0m             \u001b[0;32mif\u001b[0m \u001b[0mpy_any\u001b[0m\u001b[0;34m(\u001b[0m\u001b[0mis_tensor\u001b[0m\u001b[0;34m(\u001b[0m\u001b[0mx\u001b[0m\u001b[0;34m)\u001b[0m \u001b[0;32mfor\u001b[0m \u001b[0mx\u001b[0m \u001b[0;32min\u001b[0m \u001b[0minputs\u001b[0m\u001b[0;34m)\u001b[0m\u001b[0;34m:\u001b[0m\u001b[0;34m\u001b[0m\u001b[0m\n",
      "\u001b[0;32m/anaconda/envs/py35/lib/python3.5/site-packages/keras/backend/tensorflow_backend.py\u001b[0m in \u001b[0;36m_call\u001b[0;34m(self, inputs)\u001b[0m\n\u001b[1;32m   2629\u001b[0m                                 \u001b[0msymbol_vals\u001b[0m\u001b[0;34m,\u001b[0m\u001b[0;34m\u001b[0m\u001b[0m\n\u001b[1;32m   2630\u001b[0m                                 session)\n\u001b[0;32m-> 2631\u001b[0;31m         \u001b[0mfetched\u001b[0m \u001b[0;34m=\u001b[0m \u001b[0mself\u001b[0m\u001b[0;34m.\u001b[0m\u001b[0m_callable_fn\u001b[0m\u001b[0;34m(\u001b[0m\u001b[0;34m*\u001b[0m\u001b[0marray_vals\u001b[0m\u001b[0;34m)\u001b[0m\u001b[0;34m\u001b[0m\u001b[0m\n\u001b[0m\u001b[1;32m   2632\u001b[0m         \u001b[0;32mreturn\u001b[0m \u001b[0mfetched\u001b[0m\u001b[0;34m[\u001b[0m\u001b[0;34m:\u001b[0m\u001b[0mlen\u001b[0m\u001b[0;34m(\u001b[0m\u001b[0mself\u001b[0m\u001b[0;34m.\u001b[0m\u001b[0moutputs\u001b[0m\u001b[0;34m)\u001b[0m\u001b[0;34m]\u001b[0m\u001b[0;34m\u001b[0m\u001b[0m\n\u001b[1;32m   2633\u001b[0m \u001b[0;34m\u001b[0m\u001b[0m\n",
      "\u001b[0;32m/anaconda/envs/py35/lib/python3.5/site-packages/tensorflow/python/client/session.py\u001b[0m in \u001b[0;36m__call__\u001b[0;34m(self, *args, **kwargs)\u001b[0m\n\u001b[1;32m   1380\u001b[0m           ret = tf_session.TF_SessionRunCallable(\n\u001b[1;32m   1381\u001b[0m               \u001b[0mself\u001b[0m\u001b[0;34m.\u001b[0m\u001b[0m_session\u001b[0m\u001b[0;34m.\u001b[0m\u001b[0m_session\u001b[0m\u001b[0;34m,\u001b[0m \u001b[0mself\u001b[0m\u001b[0;34m.\u001b[0m\u001b[0m_handle\u001b[0m\u001b[0;34m,\u001b[0m \u001b[0margs\u001b[0m\u001b[0;34m,\u001b[0m \u001b[0mstatus\u001b[0m\u001b[0;34m,\u001b[0m\u001b[0;34m\u001b[0m\u001b[0m\n\u001b[0;32m-> 1382\u001b[0;31m               run_metadata_ptr)\n\u001b[0m\u001b[1;32m   1383\u001b[0m         \u001b[0;32mif\u001b[0m \u001b[0mrun_metadata\u001b[0m\u001b[0;34m:\u001b[0m\u001b[0;34m\u001b[0m\u001b[0m\n\u001b[1;32m   1384\u001b[0m           \u001b[0mproto_data\u001b[0m \u001b[0;34m=\u001b[0m \u001b[0mtf_session\u001b[0m\u001b[0;34m.\u001b[0m\u001b[0mTF_GetBuffer\u001b[0m\u001b[0;34m(\u001b[0m\u001b[0mrun_metadata_ptr\u001b[0m\u001b[0;34m)\u001b[0m\u001b[0;34m\u001b[0m\u001b[0m\n",
      "\u001b[0;32m/anaconda/envs/py35/lib/python3.5/site-packages/tensorflow/python/framework/errors_impl.py\u001b[0m in \u001b[0;36m__exit__\u001b[0;34m(self, type_arg, value_arg, traceback_arg)\u001b[0m\n\u001b[1;32m    517\u001b[0m             \u001b[0;32mNone\u001b[0m\u001b[0;34m,\u001b[0m \u001b[0;32mNone\u001b[0m\u001b[0;34m,\u001b[0m\u001b[0;34m\u001b[0m\u001b[0m\n\u001b[1;32m    518\u001b[0m             \u001b[0mcompat\u001b[0m\u001b[0;34m.\u001b[0m\u001b[0mas_text\u001b[0m\u001b[0;34m(\u001b[0m\u001b[0mc_api\u001b[0m\u001b[0;34m.\u001b[0m\u001b[0mTF_Message\u001b[0m\u001b[0;34m(\u001b[0m\u001b[0mself\u001b[0m\u001b[0;34m.\u001b[0m\u001b[0mstatus\u001b[0m\u001b[0;34m.\u001b[0m\u001b[0mstatus\u001b[0m\u001b[0;34m)\u001b[0m\u001b[0;34m)\u001b[0m\u001b[0;34m,\u001b[0m\u001b[0;34m\u001b[0m\u001b[0m\n\u001b[0;32m--> 519\u001b[0;31m             c_api.TF_GetCode(self.status.status))\n\u001b[0m\u001b[1;32m    520\u001b[0m     \u001b[0;31m# Delete the underlying status object from memory otherwise it stays alive\u001b[0m\u001b[0;34m\u001b[0m\u001b[0;34m\u001b[0m\u001b[0m\n\u001b[1;32m    521\u001b[0m     \u001b[0;31m# as there is a reference to status from this from the traceback due to\u001b[0m\u001b[0;34m\u001b[0m\u001b[0;34m\u001b[0m\u001b[0m\n",
      "\u001b[0;31mResourceExhaustedError\u001b[0m: OOM when allocating tensor with shape[10368,3,3,2048] and type float on /job:localhost/replica:0/task:0/device:GPU:0 by allocator GPU_0_bfc\n\t [[Node: training_6/Adam/gradients/deeplabv3p_7/aspp3_depthwise/depthwise_grad/DepthwiseConv2dNativeBackpropInput-0-0-TransposeNCHWToNHWC-LayoutOptimizer = Transpose[T=DT_FLOAT, Tperm=DT_INT32, _device=\"/job:localhost/replica:0/task:0/device:GPU:0\"](training_6/Adam/gradients/deeplabv3p_7/aspp3_depthwise/depthwise_grad/DepthwiseConv2dNativeBackpropInput, PermConstNCHWToNHWC-LayoutOptimizer)]]\nHint: If you want to see a list of allocated tensors when OOM happens, add report_tensor_allocations_upon_oom to RunOptions for current allocation info.\n"
     ]
    }
   ],
   "source": [
    "for k in range(1):\n",
    "    #model = resetModel()\n",
    "    earlystopper = EarlyStopping(patience=115, verbose=1)\n",
    "    checkpointer = ModelCheckpoint('model-tgs-salt-1f-{}.h5'.format(k), verbose=1, save_best_only=True)\n",
    "    internalEval = ModelUNet.IntervalEvaluation( validation_data=( [X_val, d_val], Y_val), interval = 5 )\n",
    "    #results = model.fit([X_train0, d_train0], Y_train0, validation_split=0.08, batch_size=16, epochs=100, \n",
    "    #                    callbacks=[earlystopper, checkpointer, lrate])\n",
    "\n",
    "    results = modelSeg.fit_generator(train_generator, epochs=350, steps_per_epoch=len(X_train0) / 32, \n",
    "                                  validation_data=( [X_val, d_val], Y_val),\n",
    "                                  callbacks=[earlystopper, checkpointer, lrate, internalEval])\n"
   ]
  },
  {
   "cell_type": "code",
   "execution_count": null,
   "metadata": {},
   "outputs": [],
   "source": [
    "plt.plot(internalEval.score_list[4:])"
   ]
  },
  {
   "cell_type": "code",
   "execution_count": null,
   "metadata": {
    "colab": {
     "base_uri": "https://localhost:8080/",
     "height": 34
    },
    "colab_type": "code",
    "id": "Ll6kIRmGJ2v2",
    "outputId": "8fb91aa3-0315-480f-acb2-543fcc4193fe"
   },
   "outputs": [],
   "source": [
    "# list all data in history\n",
    "print(results.history.keys())"
   ]
  },
  {
   "cell_type": "code",
   "execution_count": null,
   "metadata": {
    "colab": {
     "base_uri": "https://localhost:8080/",
     "height": 571
    },
    "colab_type": "code",
    "id": "RWk2IN87A49p",
    "outputId": "5b07b05f-5e05-4b39-a4e3-2dd258fc137d"
   },
   "outputs": [],
   "source": [
    "# summarize history for intersestion over union\n",
    "plt.plot(results.history['mean_iou'])\n",
    "plt.plot(results.history['val_mean_iou'])\n",
    "plt.title('model IoU')\n",
    "plt.ylabel('accuracy')\n",
    "plt.xlabel('epoch')\n",
    "plt.legend(['train', 'test'], loc='upper left')\n",
    "plt.show()\n",
    "# summarize history for loss\n",
    "plt.plot(results.history['loss'])\n",
    "plt.plot(results.history['val_loss'])\n",
    "plt.title('model loss')\n",
    "plt.ylabel('loss')\n",
    "plt.xlabel('epoch')\n",
    "plt.legend(['train', 'test'], loc='upper left')\n",
    "plt.show()"
   ]
  },
  {
   "cell_type": "code",
   "execution_count": 18,
   "metadata": {
    "colab": {},
    "colab_type": "code",
    "id": "XW_rfkR1dWKs"
   },
   "outputs": [],
   "source": [
    "model = load_model('model-tgs-salt-1f-1.h5', custom_objects={'ModelUNet':ModelUNet, 'mean_iou': ModelUNet.mean_iou, 'dice_loss' : ModelUNet.dice_loss, \n",
    "                                                           '_expand': ModelUNet._expand, 'relu6': DeepLabv3Plus.relu6, 'BilinearUpsampling': DeepLabv3Plus.BilinearUpsampling }) #, 'ReflectionPadding2D' : ReflectionPadding2D})\n",
    "#model.save('model-tgs-salt-1.h5')"
   ]
  },
  {
   "cell_type": "code",
   "execution_count": null,
   "metadata": {
    "colab": {},
    "colab_type": "code",
    "id": "qNr4jF7z4gZd"
   },
   "outputs": [],
   "source": [
    "#from google.colab import files\n",
    "#files.download('model-tgs-salt-1.h5')\n",
    "#files.upload()"
   ]
  },
  {
   "cell_type": "code",
   "execution_count": null,
   "metadata": {},
   "outputs": [],
   "source": [
    "#for i in tqdm(range(len(X_train0))):\n",
    "#    X_train0[i] = image_datagen.standardize(X_train0[i].astype(float))\n",
    "    \n",
    "#for i in tqdm(range(len(X_val))):\n",
    "#    X_val[i] = image_datagen.standardize(X_val[i].astype(float))"
   ]
  },
  {
   "cell_type": "code",
   "execution_count": 19,
   "metadata": {
    "colab": {
     "base_uri": "https://localhost:8080/",
     "height": 51
    },
    "colab_type": "code",
    "id": "8XSdRAqCdYfF",
    "outputId": "e6c5ecde-a26f-4e6c-a61f-f197d85310de"
   },
   "outputs": [
    {
     "name": "stdout",
     "output_type": "stream",
     "text": [
      "3322/3322 [==============================] - 51s 15ms/step\n",
      "586/586 [==============================] - 8s 14ms/step\n"
     ]
    }
   ],
   "source": [
    "preds_train = model.predict([X_train0, d_train0], verbose=1)\n",
    "preds_val = model.predict([X_val,d_val], verbose=1)"
   ]
  },
  {
   "cell_type": "markdown",
   "metadata": {},
   "source": [
    "## Watershed"
   ]
  },
  {
   "cell_type": "code",
   "execution_count": 194,
   "metadata": {
    "scrolled": true
   },
   "outputs": [
    {
     "name": "stderr",
     "output_type": "stream",
     "text": [
      "  0%|          | 0/65 [00:00<?, ?it/s]\n",
      "  0%|          | 0/10 [00:00<?, ?it/s]\u001b[A\n",
      "100%|██████████| 10/10 [00:00<00:00, 405.66it/s]\u001b[A\n",
      "  0%|          | 0/10 [00:00<?, ?it/s]\u001b[A\n",
      "100%|██████████| 10/10 [00:00<00:00, 415.50it/s]\u001b[A\n",
      "  0%|          | 0/10 [00:00<?, ?it/s]\u001b[A\n",
      "  5%|▍         | 3/65 [00:00<00:02, 23.16it/s]s]\u001b[A\n",
      "  0%|          | 0/10 [00:00<?, ?it/s]\u001b[A\n",
      "100%|██████████| 10/10 [00:00<00:00, 419.81it/s]\u001b[A\n",
      "  0%|          | 0/10 [00:00<?, ?it/s]\u001b[A\n",
      "100%|██████████| 10/10 [00:00<00:00, 426.22it/s]\u001b[A\n",
      "  0%|          | 0/10 [00:00<?, ?it/s]\u001b[A\n",
      "  9%|▉         | 6/65 [00:00<00:02, 23.10it/s]s]\u001b[A\n",
      "  0%|          | 0/10 [00:00<?, ?it/s]\u001b[A\n",
      "100%|██████████| 10/10 [00:00<00:00, 420.81it/s]\u001b[A\n",
      "  0%|          | 0/10 [00:00<?, ?it/s]\u001b[A\n",
      "100%|██████████| 10/10 [00:00<00:00, 413.86it/s]\u001b[A\n",
      "  0%|          | 0/10 [00:00<?, ?it/s]\u001b[A\n",
      " 14%|█▍        | 9/65 [00:00<00:02, 23.07it/s]s]\u001b[A\n",
      "  0%|          | 0/10 [00:00<?, ?it/s]\u001b[A\n",
      "100%|██████████| 10/10 [00:00<00:00, 417.50it/s]\u001b[A\n",
      "  0%|          | 0/10 [00:00<?, ?it/s]\u001b[A\n",
      "100%|██████████| 10/10 [00:00<00:00, 406.09it/s]\u001b[A\n",
      "  0%|          | 0/10 [00:00<?, ?it/s]\u001b[A\n",
      " 18%|█▊        | 12/65 [00:00<00:02, 23.12it/s]]\u001b[A\n",
      "  0%|          | 0/10 [00:00<?, ?it/s]\u001b[A\n",
      "100%|██████████| 10/10 [00:00<00:00, 422.77it/s]\u001b[A\n",
      "  0%|          | 0/10 [00:00<?, ?it/s]\u001b[A\n",
      "100%|██████████| 10/10 [00:00<00:00, 399.73it/s]\u001b[A\n",
      "  0%|          | 0/10 [00:00<?, ?it/s]\u001b[A\n",
      " 23%|██▎       | 15/65 [00:00<00:02, 23.08it/s]]\u001b[A\n",
      "  0%|          | 0/10 [00:00<?, ?it/s]\u001b[A\n",
      "100%|██████████| 10/10 [00:00<00:00, 418.24it/s]\u001b[A\n",
      "  0%|          | 0/10 [00:00<?, ?it/s]\u001b[A\n",
      "100%|██████████| 10/10 [00:00<00:00, 418.69it/s]\u001b[A\n",
      "  0%|          | 0/10 [00:00<?, ?it/s]\u001b[A\n",
      " 28%|██▊       | 18/65 [00:00<00:02, 23.14it/s]]\u001b[A\n",
      "  0%|          | 0/10 [00:00<?, ?it/s]\u001b[A\n",
      "100%|██████████| 10/10 [00:00<00:00, 411.35it/s]\u001b[A\n",
      "  0%|          | 0/10 [00:00<?, ?it/s]\u001b[A\n",
      "100%|██████████| 10/10 [00:00<00:00, 410.82it/s]\u001b[A\n",
      "  0%|          | 0/10 [00:00<?, ?it/s]\u001b[A\n",
      " 32%|███▏      | 21/65 [00:00<00:01, 23.14it/s]]\u001b[A\n",
      "  0%|          | 0/10 [00:00<?, ?it/s]\u001b[A\n",
      "100%|██████████| 10/10 [00:00<00:00, 416.30it/s]\u001b[A\n",
      "  0%|          | 0/10 [00:00<?, ?it/s]\u001b[A\n",
      "100%|██████████| 10/10 [00:00<00:00, 416.55it/s]\u001b[A\n",
      "  0%|          | 0/10 [00:00<?, ?it/s]\u001b[A\n",
      " 37%|███▋      | 24/65 [00:01<00:01, 23.17it/s]]\u001b[A\n",
      "  0%|          | 0/10 [00:00<?, ?it/s]\u001b[A\n",
      "100%|██████████| 10/10 [00:00<00:00, 418.81it/s]\u001b[A\n",
      "  0%|          | 0/10 [00:00<?, ?it/s]\u001b[A\n",
      "100%|██████████| 10/10 [00:00<00:00, 408.98it/s]\u001b[A\n",
      "  0%|          | 0/10 [00:00<?, ?it/s]\u001b[A\n",
      " 42%|████▏     | 27/65 [00:01<00:01, 23.17it/s]]\u001b[A\n",
      "  0%|          | 0/10 [00:00<?, ?it/s]\u001b[A\n",
      "100%|██████████| 10/10 [00:00<00:00, 423.11it/s]\u001b[A\n",
      "  0%|          | 0/10 [00:00<?, ?it/s]\u001b[A\n",
      "100%|██████████| 10/10 [00:00<00:00, 414.60it/s]\u001b[A\n",
      "  0%|          | 0/10 [00:00<?, ?it/s]\u001b[A\n",
      " 46%|████▌     | 30/65 [00:01<00:01, 23.20it/s]]\u001b[A\n",
      "  0%|          | 0/10 [00:00<?, ?it/s]\u001b[A\n",
      "100%|██████████| 10/10 [00:00<00:00, 396.58it/s]\u001b[A\n",
      "  0%|          | 0/10 [00:00<?, ?it/s]\u001b[A\n",
      "100%|██████████| 10/10 [00:00<00:00, 418.61it/s]\u001b[A\n",
      "  0%|          | 0/10 [00:00<?, ?it/s]\u001b[A\n",
      " 51%|█████     | 33/65 [00:01<00:01, 23.20it/s]]\u001b[A\n",
      "  0%|          | 0/10 [00:00<?, ?it/s]\u001b[A\n",
      "100%|██████████| 10/10 [00:00<00:00, 422.36it/s]\u001b[A\n",
      "  0%|          | 0/10 [00:00<?, ?it/s]\u001b[A\n",
      "100%|██████████| 10/10 [00:00<00:00, 418.66it/s]\u001b[A\n",
      "  0%|          | 0/10 [00:00<?, ?it/s]\u001b[A\n",
      " 55%|█████▌    | 36/65 [00:01<00:01, 23.22it/s]]\u001b[A\n",
      "  0%|          | 0/10 [00:00<?, ?it/s]\u001b[A\n",
      "100%|██████████| 10/10 [00:00<00:00, 415.51it/s]\u001b[A\n",
      "  0%|          | 0/10 [00:00<?, ?it/s]\u001b[A\n",
      "100%|██████████| 10/10 [00:00<00:00, 418.38it/s]\u001b[A\n",
      "  0%|          | 0/10 [00:00<?, ?it/s]\u001b[A\n",
      " 60%|██████    | 39/65 [00:01<00:01, 23.24it/s]]\u001b[A\n",
      "  0%|          | 0/10 [00:00<?, ?it/s]\u001b[A\n",
      "100%|██████████| 10/10 [00:00<00:00, 425.83it/s]\u001b[A\n",
      "  0%|          | 0/10 [00:00<?, ?it/s]\u001b[A\n",
      "100%|██████████| 10/10 [00:00<00:00, 424.60it/s]\u001b[A\n",
      "  0%|          | 0/10 [00:00<?, ?it/s]\u001b[A\n",
      " 65%|██████▍   | 42/65 [00:01<00:00, 23.25it/s]]\u001b[A\n",
      "  0%|          | 0/10 [00:00<?, ?it/s]\u001b[A\n",
      "100%|██████████| 10/10 [00:00<00:00, 412.11it/s]\u001b[A\n",
      "  0%|          | 0/10 [00:00<?, ?it/s]\u001b[A\n",
      "100%|██████████| 10/10 [00:00<00:00, 410.82it/s]\u001b[A\n",
      "  0%|          | 0/10 [00:00<?, ?it/s]\u001b[A\n",
      " 69%|██████▉   | 45/65 [00:01<00:00, 23.24it/s]]\u001b[A\n",
      "  0%|          | 0/10 [00:00<?, ?it/s]\u001b[A\n",
      "100%|██████████| 10/10 [00:00<00:00, 408.49it/s]\u001b[A\n",
      "  0%|          | 0/10 [00:00<?, ?it/s]\u001b[A\n",
      "100%|██████████| 10/10 [00:00<00:00, 410.33it/s]\u001b[A\n",
      "  0%|          | 0/10 [00:00<?, ?it/s]\u001b[A\n",
      " 74%|███████▍  | 48/65 [00:02<00:00, 23.24it/s]]\u001b[A\n",
      "  0%|          | 0/10 [00:00<?, ?it/s]\u001b[A\n",
      "100%|██████████| 10/10 [00:00<00:00, 409.47it/s]\u001b[A\n",
      "  0%|          | 0/10 [00:00<?, ?it/s]\u001b[A\n",
      "100%|██████████| 10/10 [00:00<00:00, 412.23it/s]\u001b[A\n",
      "  0%|          | 0/10 [00:00<?, ?it/s]\u001b[A\n",
      " 78%|███████▊  | 51/65 [00:02<00:00, 23.24it/s]]\u001b[A\n",
      "  0%|          | 0/10 [00:00<?, ?it/s]\u001b[A\n",
      "100%|██████████| 10/10 [00:00<00:00, 413.82it/s]\u001b[A\n",
      "  0%|          | 0/10 [00:00<?, ?it/s]\u001b[A\n",
      "100%|██████████| 10/10 [00:00<00:00, 411.18it/s]\u001b[A\n",
      "  0%|          | 0/10 [00:00<?, ?it/s]\u001b[A\n",
      " 83%|████████▎ | 54/65 [00:02<00:00, 23.23it/s]]\u001b[A\n",
      "  0%|          | 0/10 [00:00<?, ?it/s]\u001b[A\n",
      "100%|██████████| 10/10 [00:00<00:00, 404.84it/s]\u001b[A\n",
      "  0%|          | 0/10 [00:00<?, ?it/s]\u001b[A\n",
      "100%|██████████| 10/10 [00:00<00:00, 415.29it/s]\u001b[A\n",
      "  0%|          | 0/10 [00:00<?, ?it/s]\u001b[A\n",
      " 88%|████████▊ | 57/65 [00:02<00:00, 23.19it/s]]\u001b[A\n",
      "  0%|          | 0/10 [00:00<?, ?it/s]\u001b[A\n",
      "100%|██████████| 10/10 [00:00<00:00, 402.22it/s]\u001b[A\n",
      "  0%|          | 0/10 [00:00<?, ?it/s]\u001b[A\n",
      "100%|██████████| 10/10 [00:00<00:00, 402.03it/s]\u001b[A\n",
      "  0%|          | 0/10 [00:00<?, ?it/s]\u001b[A\n",
      " 92%|█████████▏| 60/65 [00:02<00:00, 23.18it/s]]\u001b[A\n",
      "  0%|          | 0/10 [00:00<?, ?it/s]\u001b[A\n",
      "100%|██████████| 10/10 [00:00<00:00, 416.50it/s]\u001b[A\n",
      "  0%|          | 0/10 [00:00<?, ?it/s]\u001b[A\n",
      "100%|██████████| 10/10 [00:00<00:00, 420.65it/s]\u001b[A\n",
      "  0%|          | 0/10 [00:00<?, ?it/s]\u001b[A\n",
      " 97%|█████████▋| 63/65 [00:02<00:00, 23.17it/s]]\u001b[A\n",
      "  0%|          | 0/10 [00:00<?, ?it/s]\u001b[A\n",
      "100%|██████████| 10/10 [00:00<00:00, 422.34it/s]\u001b[A\n",
      "  0%|          | 0/10 [00:00<?, ?it/s]\u001b[A\n",
      "100%|██████████| 65/65 [00:02<00:00, 23.18it/s]]\u001b[A\n"
     ]
    }
   ],
   "source": [
    "threshList = []\n",
    "IoUList = []\n",
    "IoUValList = []\n",
    "for kk in tqdm(range(65)):\n",
    "    thresh = 0.3 + 0.7*(1+kk)/65\n",
    "    threshList.append(thresh)\n",
    "    \n",
    "    meanIoUVal = 0\n",
    "    \n",
    "    preds_val_ws = ModelUNet.WaterShedChangeAll(preds_val, lowThresh = 0.1, highThresh = thresh)\n",
    "    meanIoUVal = np.array([ModelUNet.IoU(preds_val_ws[i], Y_val[i]) for i in range(Y_val.shape[0])])\n",
    "    IoUValList.append(np.mean(meanIoUVal) )\n",
    "    "
   ]
  },
  {
   "cell_type": "code",
   "execution_count": 195,
   "metadata": {},
   "outputs": [
    {
     "data": {
      "text/plain": [
       "[<matplotlib.lines.Line2D at 0x7fa784d40eb8>]"
      ]
     },
     "execution_count": 195,
     "metadata": {},
     "output_type": "execute_result"
    },
    {
     "data": {
      "image/png": "[encoded data removed]",
      "text/plain": [
       "<Figure size 432x288 with 1 Axes>"
      ]
     },
     "metadata": {},
     "output_type": "display_data"
    }
   ],
   "source": [
    "plt.title('IoU curve')\n",
    "plt.ylabel('IoU')\n",
    "plt.xlabel('threshold')\n",
    "\n",
    "#plt.plot(threshList, IoUList)\n",
    "plt.plot(threshList, IoUValList)"
   ]
  },
  {
   "cell_type": "code",
   "execution_count": 196,
   "metadata": {},
   "outputs": [
    {
     "name": "stdout",
     "output_type": "stream",
     "text": [
      "Thresh: 0.31076923076923074  ExpectedIoU: 0.8800000000000001\n"
     ]
    }
   ],
   "source": [
    "wsThresh = threshList[np.argmax(IoUValList)]\n",
    "print('Thresh: {}  ExpectedIoU: {}'.format(wsThresh, max(IoUValList)))"
   ]
  },
  {
   "cell_type": "markdown",
   "metadata": {},
   "source": [
    "## Threshold optimization"
   ]
  },
  {
   "cell_type": "code",
   "execution_count": 20,
   "metadata": {
    "colab": {
     "base_uri": "https://localhost:8080/",
     "height": 34
    },
    "colab_type": "code",
    "id": "8T71Irhvda5m",
    "outputId": "51b5c269-8f37-4b1a-8053-b376c42030dc"
   },
   "outputs": [
    {
     "name": "stderr",
     "output_type": "stream",
     "text": [
      "100%|██████████| 13/13 [01:21<00:00,  6.27s/it]\n"
     ]
    }
   ],
   "source": [
    "threshList = []\n",
    "IoUList = []\n",
    "IoUValList = []\n",
    "for kk in tqdm(range(13)):\n",
    "    thresh = (1+kk)/13\n",
    "    threshList.append(thresh)\n",
    "    preds_train_t = (preds_train > thresh).astype(np.uint8)\n",
    "    preds_val_t = (preds_val > thresh).astype(np.uint8)\n",
    "    meanIoU = np.array([ModelUNet.IoU(preds_train_t[i], Y_train0[i]) for i in range(Y_train0.shape[0])])\n",
    "    IoUList.append(np.mean(meanIoU) )\n",
    "    meanIoUVal = np.array([ModelUNet.IoU(preds_val_t[i], Y_val[i]) for i in range(Y_val.shape[0])])\n",
    "    IoUValList.append(np.mean(meanIoUVal) )"
   ]
  },
  {
   "cell_type": "code",
   "execution_count": 21,
   "metadata": {
    "colab": {
     "base_uri": "https://localhost:8080/",
     "height": 311
    },
    "colab_type": "code",
    "id": "wg0NipGnddCw",
    "outputId": "c45fb827-da83-4a10-c766-023300ab3329"
   },
   "outputs": [
    {
     "data": {
      "text/plain": [
       "[<matplotlib.lines.Line2D at 0x7f2f8c25be80>]"
      ]
     },
     "execution_count": 21,
     "metadata": {},
     "output_type": "execute_result"
    },
    {
     "data": {
      "image/png": "[encoded data removed]",
      "text/plain": [
       "<Figure size 432x288 with 1 Axes>"
      ]
     },
     "metadata": {},
     "output_type": "display_data"
    }
   ],
   "source": [
    "plt.title('IoU curve')\n",
    "plt.ylabel('IoU')\n",
    "plt.xlabel('threshold')\n",
    "\n",
    "plt.plot(threshList, IoUList)\n",
    "plt.plot(threshList, IoUValList)"
   ]
  },
  {
   "cell_type": "code",
   "execution_count": 22,
   "metadata": {
    "colab": {
     "base_uri": "https://localhost:8080/",
     "height": 34
    },
    "colab_type": "code",
    "id": "cQ_VOkO0de6p",
    "outputId": "b5e9961b-2792-4064-9f30-8daefce31eee"
   },
   "outputs": [
    {
     "name": "stdout",
     "output_type": "stream",
     "text": [
      "Thresh: 0.5384615384615384  ExpectedIoU: 0.8058020477815699\n"
     ]
    }
   ],
   "source": [
    "thresh = threshList[np.argmax(IoUValList)]\n",
    "print('Thresh: {}  ExpectedIoU: {}'.format(thresh, max(IoUValList)))"
   ]
  },
  {
   "cell_type": "code",
   "execution_count": 23,
   "metadata": {
    "colab": {},
    "colab_type": "code",
    "id": "kor6dfuWkRgL"
   },
   "outputs": [],
   "source": [
    "thresh = 0.5"
   ]
  },
  {
   "cell_type": "markdown",
   "metadata": {},
   "source": [
    "# Joint Optimization of Pixel Count and Threshold"
   ]
  },
  {
   "cell_type": "code",
   "execution_count": 24,
   "metadata": {},
   "outputs": [],
   "source": [
    "def AdapThresh(pred_logits, threshPixels, thresh, threshL, threshH):\n",
    "    pred_t = np.zeros_like(pred_logits)\n",
    "    for i in range(len(pred_logits)):\n",
    "        pred_t[i] = (pred_logits[i] > thresh).astype(np.uint8)\n",
    "        if pred_t[i].sum() > threshPixels:\n",
    "            pred_t[i] = (pred_logits[i] > threshL).astype(np.uint8)\n",
    "        else:\n",
    "            pred_t[i] = (pred_logits[i] > threshH).astype(np.uint8)\n",
    "    return pred_t\n",
    "\n",
    "def ComputeIoU(pred_logits, G0, threshPixels, thresh, threshL, threshH):\n",
    "    pred_t = AdapThresh(pred_logits, threshPixels, thresh, threshL, threshH)\n",
    "    meanIoUVal = np.array([ModelUNet.IoU(pred_t[i].astype(np.uint8), G0[i].astype(np.uint8)) for i in range(G0.shape[0])])\n",
    "    return np.mean(meanIoUVal)"
   ]
  },
  {
   "cell_type": "code",
   "execution_count": 25,
   "metadata": {},
   "outputs": [
    {
     "name": "stderr",
     "output_type": "stream",
     "text": [
      "  0%|          | 1/3000 [00:01<1:12:20,  1.45s/it]"
     ]
    },
    {
     "name": "stdout",
     "output_type": "stream",
     "text": [
      "Best mean IoU improved to 0.7856810244470314\n"
     ]
    },
    {
     "name": "stderr",
     "output_type": "stream",
     "text": [
      "\r",
      "  0%|          | 2/3000 [00:02<1:11:59,  1.44s/it]"
     ]
    },
    {
     "name": "stdout",
     "output_type": "stream",
     "text": [
      "Best mean IoU improved to 0.8232828870779977\n"
     ]
    },
    {
     "name": "stderr",
     "output_type": "stream",
     "text": [
      "  0%|          | 5/3000 [00:07<1:11:51,  1.44s/it]"
     ]
    },
    {
     "name": "stdout",
     "output_type": "stream",
     "text": [
      "Best mean IoU improved to 0.8307334109429568\n"
     ]
    },
    {
     "name": "stderr",
     "output_type": "stream",
     "text": [
      "\r",
      "  0%|          | 6/3000 [00:08<1:11:52,  1.44s/it]"
     ]
    },
    {
     "name": "stdout",
     "output_type": "stream",
     "text": [
      "Best mean IoU improved to 0.8318975552968567\n"
     ]
    },
    {
     "name": "stderr",
     "output_type": "stream",
     "text": [
      "  0%|          | 10/3000 [00:14<1:11:52,  1.44s/it]"
     ]
    },
    {
     "name": "stdout",
     "output_type": "stream",
     "text": [
      "Best mean IoU improved to 0.8320139697322468\n"
     ]
    },
    {
     "name": "stderr",
     "output_type": "stream",
     "text": [
      "  1%|          | 20/3000 [00:28<1:11:35,  1.44s/it]"
     ]
    },
    {
     "name": "stdout",
     "output_type": "stream",
     "text": [
      "Best mean IoU improved to 0.8403958090803261\n"
     ]
    },
    {
     "name": "stderr",
     "output_type": "stream",
     "text": [
      "  2%|▏         | 68/3000 [01:37<1:10:24,  1.44s/it]"
     ]
    },
    {
     "ename": "KeyboardInterrupt",
     "evalue": "",
     "output_type": "error",
     "traceback": [
      "\u001b[0;31m---------------------------------------------------------------------------\u001b[0m",
      "\u001b[0;31mKeyboardInterrupt\u001b[0m                         Traceback (most recent call last)",
      "\u001b[0;32m<ipython-input-25-2631830a5458>\u001b[0m in \u001b[0;36m<module>\u001b[0;34m()\u001b[0m\n\u001b[1;32m      9\u001b[0m     \u001b[0mthreshH\u001b[0m \u001b[0;34m=\u001b[0m \u001b[0mthreshM\u001b[0m \u001b[0;34m+\u001b[0m \u001b[0;34m(\u001b[0m\u001b[0;36m1\u001b[0m \u001b[0;34m-\u001b[0m \u001b[0mthreshM\u001b[0m\u001b[0;34m)\u001b[0m\u001b[0;34m*\u001b[0m\u001b[0mnp\u001b[0m\u001b[0;34m.\u001b[0m\u001b[0mrandom\u001b[0m\u001b[0;34m.\u001b[0m\u001b[0mrandom\u001b[0m\u001b[0;34m(\u001b[0m\u001b[0;34m)\u001b[0m\u001b[0;34m\u001b[0m\u001b[0m\n\u001b[1;32m     10\u001b[0m \u001b[0;34m\u001b[0m\u001b[0m\n\u001b[0;32m---> 11\u001b[0;31m     \u001b[0mmeanIoU\u001b[0m \u001b[0;34m=\u001b[0m \u001b[0mComputeIoU\u001b[0m\u001b[0;34m(\u001b[0m\u001b[0mpreds_val\u001b[0m\u001b[0;34m,\u001b[0m \u001b[0mY_val\u001b[0m\u001b[0;34m,\u001b[0m \u001b[0mthreshPix\u001b[0m\u001b[0;34m,\u001b[0m \u001b[0mthreshM\u001b[0m\u001b[0;34m,\u001b[0m \u001b[0mthreshL\u001b[0m\u001b[0;34m,\u001b[0m \u001b[0mthreshH\u001b[0m\u001b[0;34m)\u001b[0m\u001b[0;34m\u001b[0m\u001b[0m\n\u001b[0m\u001b[1;32m     12\u001b[0m     \u001b[0;32mif\u001b[0m \u001b[0mmeanIoU\u001b[0m \u001b[0;34m>\u001b[0m \u001b[0mbestSoFar\u001b[0m\u001b[0;34m:\u001b[0m\u001b[0;34m\u001b[0m\u001b[0m\n\u001b[1;32m     13\u001b[0m         \u001b[0mbestSoFar\u001b[0m \u001b[0;34m=\u001b[0m \u001b[0mmeanIoU\u001b[0m\u001b[0;34m\u001b[0m\u001b[0m\n",
      "\u001b[0;32m<ipython-input-24-628c8fdf80a5>\u001b[0m in \u001b[0;36mComputeIoU\u001b[0;34m(pred_logits, G0, threshPixels, thresh, threshL, threshH)\u001b[0m\n\u001b[1;32m     11\u001b[0m \u001b[0;32mdef\u001b[0m \u001b[0mComputeIoU\u001b[0m\u001b[0;34m(\u001b[0m\u001b[0mpred_logits\u001b[0m\u001b[0;34m,\u001b[0m \u001b[0mG0\u001b[0m\u001b[0;34m,\u001b[0m \u001b[0mthreshPixels\u001b[0m\u001b[0;34m,\u001b[0m \u001b[0mthresh\u001b[0m\u001b[0;34m,\u001b[0m \u001b[0mthreshL\u001b[0m\u001b[0;34m,\u001b[0m \u001b[0mthreshH\u001b[0m\u001b[0;34m)\u001b[0m\u001b[0;34m:\u001b[0m\u001b[0;34m\u001b[0m\u001b[0m\n\u001b[1;32m     12\u001b[0m     \u001b[0mpred_t\u001b[0m \u001b[0;34m=\u001b[0m \u001b[0mAdapThresh\u001b[0m\u001b[0;34m(\u001b[0m\u001b[0mpred_logits\u001b[0m\u001b[0;34m,\u001b[0m \u001b[0mthreshPixels\u001b[0m\u001b[0;34m,\u001b[0m \u001b[0mthresh\u001b[0m\u001b[0;34m,\u001b[0m \u001b[0mthreshL\u001b[0m\u001b[0;34m,\u001b[0m \u001b[0mthreshH\u001b[0m\u001b[0;34m)\u001b[0m\u001b[0;34m\u001b[0m\u001b[0m\n\u001b[0;32m---> 13\u001b[0;31m     \u001b[0mmeanIoUVal\u001b[0m \u001b[0;34m=\u001b[0m \u001b[0mnp\u001b[0m\u001b[0;34m.\u001b[0m\u001b[0marray\u001b[0m\u001b[0;34m(\u001b[0m\u001b[0;34m[\u001b[0m\u001b[0mModelUNet\u001b[0m\u001b[0;34m.\u001b[0m\u001b[0mIoU\u001b[0m\u001b[0;34m(\u001b[0m\u001b[0mpred_t\u001b[0m\u001b[0;34m[\u001b[0m\u001b[0mi\u001b[0m\u001b[0;34m]\u001b[0m\u001b[0;34m.\u001b[0m\u001b[0mastype\u001b[0m\u001b[0;34m(\u001b[0m\u001b[0mnp\u001b[0m\u001b[0;34m.\u001b[0m\u001b[0muint8\u001b[0m\u001b[0;34m)\u001b[0m\u001b[0;34m,\u001b[0m \u001b[0mG0\u001b[0m\u001b[0;34m[\u001b[0m\u001b[0mi\u001b[0m\u001b[0;34m]\u001b[0m\u001b[0;34m.\u001b[0m\u001b[0mastype\u001b[0m\u001b[0;34m(\u001b[0m\u001b[0mnp\u001b[0m\u001b[0;34m.\u001b[0m\u001b[0muint8\u001b[0m\u001b[0;34m)\u001b[0m\u001b[0;34m)\u001b[0m \u001b[0;32mfor\u001b[0m \u001b[0mi\u001b[0m \u001b[0;32min\u001b[0m \u001b[0mrange\u001b[0m\u001b[0;34m(\u001b[0m\u001b[0mG0\u001b[0m\u001b[0;34m.\u001b[0m\u001b[0mshape\u001b[0m\u001b[0;34m[\u001b[0m\u001b[0;36m0\u001b[0m\u001b[0;34m]\u001b[0m\u001b[0;34m)\u001b[0m\u001b[0;34m]\u001b[0m\u001b[0;34m)\u001b[0m\u001b[0;34m\u001b[0m\u001b[0m\n\u001b[0m\u001b[1;32m     14\u001b[0m     \u001b[0;32mreturn\u001b[0m \u001b[0mnp\u001b[0m\u001b[0;34m.\u001b[0m\u001b[0mmean\u001b[0m\u001b[0;34m(\u001b[0m\u001b[0mmeanIoUVal\u001b[0m\u001b[0;34m)\u001b[0m\u001b[0;34m\u001b[0m\u001b[0m\n",
      "\u001b[0;32m<ipython-input-24-628c8fdf80a5>\u001b[0m in \u001b[0;36m<listcomp>\u001b[0;34m(.0)\u001b[0m\n\u001b[1;32m     11\u001b[0m \u001b[0;32mdef\u001b[0m \u001b[0mComputeIoU\u001b[0m\u001b[0;34m(\u001b[0m\u001b[0mpred_logits\u001b[0m\u001b[0;34m,\u001b[0m \u001b[0mG0\u001b[0m\u001b[0;34m,\u001b[0m \u001b[0mthreshPixels\u001b[0m\u001b[0;34m,\u001b[0m \u001b[0mthresh\u001b[0m\u001b[0;34m,\u001b[0m \u001b[0mthreshL\u001b[0m\u001b[0;34m,\u001b[0m \u001b[0mthreshH\u001b[0m\u001b[0;34m)\u001b[0m\u001b[0;34m:\u001b[0m\u001b[0;34m\u001b[0m\u001b[0m\n\u001b[1;32m     12\u001b[0m     \u001b[0mpred_t\u001b[0m \u001b[0;34m=\u001b[0m \u001b[0mAdapThresh\u001b[0m\u001b[0;34m(\u001b[0m\u001b[0mpred_logits\u001b[0m\u001b[0;34m,\u001b[0m \u001b[0mthreshPixels\u001b[0m\u001b[0;34m,\u001b[0m \u001b[0mthresh\u001b[0m\u001b[0;34m,\u001b[0m \u001b[0mthreshL\u001b[0m\u001b[0;34m,\u001b[0m \u001b[0mthreshH\u001b[0m\u001b[0;34m)\u001b[0m\u001b[0;34m\u001b[0m\u001b[0m\n\u001b[0;32m---> 13\u001b[0;31m     \u001b[0mmeanIoUVal\u001b[0m \u001b[0;34m=\u001b[0m \u001b[0mnp\u001b[0m\u001b[0;34m.\u001b[0m\u001b[0marray\u001b[0m\u001b[0;34m(\u001b[0m\u001b[0;34m[\u001b[0m\u001b[0mModelUNet\u001b[0m\u001b[0;34m.\u001b[0m\u001b[0mIoU\u001b[0m\u001b[0;34m(\u001b[0m\u001b[0mpred_t\u001b[0m\u001b[0;34m[\u001b[0m\u001b[0mi\u001b[0m\u001b[0;34m]\u001b[0m\u001b[0;34m.\u001b[0m\u001b[0mastype\u001b[0m\u001b[0;34m(\u001b[0m\u001b[0mnp\u001b[0m\u001b[0;34m.\u001b[0m\u001b[0muint8\u001b[0m\u001b[0;34m)\u001b[0m\u001b[0;34m,\u001b[0m \u001b[0mG0\u001b[0m\u001b[0;34m[\u001b[0m\u001b[0mi\u001b[0m\u001b[0;34m]\u001b[0m\u001b[0;34m.\u001b[0m\u001b[0mastype\u001b[0m\u001b[0;34m(\u001b[0m\u001b[0mnp\u001b[0m\u001b[0;34m.\u001b[0m\u001b[0muint8\u001b[0m\u001b[0;34m)\u001b[0m\u001b[0;34m)\u001b[0m \u001b[0;32mfor\u001b[0m \u001b[0mi\u001b[0m \u001b[0;32min\u001b[0m \u001b[0mrange\u001b[0m\u001b[0;34m(\u001b[0m\u001b[0mG0\u001b[0m\u001b[0;34m.\u001b[0m\u001b[0mshape\u001b[0m\u001b[0;34m[\u001b[0m\u001b[0;36m0\u001b[0m\u001b[0;34m]\u001b[0m\u001b[0;34m)\u001b[0m\u001b[0;34m]\u001b[0m\u001b[0;34m)\u001b[0m\u001b[0;34m\u001b[0m\u001b[0m\n\u001b[0m\u001b[1;32m     14\u001b[0m     \u001b[0;32mreturn\u001b[0m \u001b[0mnp\u001b[0m\u001b[0;34m.\u001b[0m\u001b[0mmean\u001b[0m\u001b[0;34m(\u001b[0m\u001b[0mmeanIoUVal\u001b[0m\u001b[0;34m)\u001b[0m\u001b[0;34m\u001b[0m\u001b[0m\n",
      "\u001b[0;32m~/McLyEdSegmentation/ModelUNet.py\u001b[0m in \u001b[0;36mIoU\u001b[0;34m(y_true_in, y_pred_in, print_table)\u001b[0m\n\u001b[1;32m    430\u001b[0m     \u001b[0;31m# Compute areas (needed for finding the union between all objects)\u001b[0m\u001b[0;34m\u001b[0m\u001b[0;34m\u001b[0m\u001b[0m\n\u001b[1;32m    431\u001b[0m     \u001b[0marea_true\u001b[0m \u001b[0;34m=\u001b[0m \u001b[0mnp\u001b[0m\u001b[0;34m.\u001b[0m\u001b[0mhistogram\u001b[0m\u001b[0;34m(\u001b[0m\u001b[0mlabels\u001b[0m\u001b[0;34m,\u001b[0m \u001b[0mbins\u001b[0m \u001b[0;34m=\u001b[0m \u001b[0mtrue_objects\u001b[0m\u001b[0;34m)\u001b[0m\u001b[0;34m[\u001b[0m\u001b[0;36m0\u001b[0m\u001b[0;34m]\u001b[0m\u001b[0;34m\u001b[0m\u001b[0m\n\u001b[0;32m--> 432\u001b[0;31m     \u001b[0marea_pred\u001b[0m \u001b[0;34m=\u001b[0m \u001b[0mnp\u001b[0m\u001b[0;34m.\u001b[0m\u001b[0mhistogram\u001b[0m\u001b[0;34m(\u001b[0m\u001b[0my_pred\u001b[0m\u001b[0;34m,\u001b[0m \u001b[0mbins\u001b[0m \u001b[0;34m=\u001b[0m \u001b[0mpred_objects\u001b[0m\u001b[0;34m)\u001b[0m\u001b[0;34m[\u001b[0m\u001b[0;36m0\u001b[0m\u001b[0;34m]\u001b[0m\u001b[0;34m\u001b[0m\u001b[0m\n\u001b[0m\u001b[1;32m    433\u001b[0m     \u001b[0marea_true\u001b[0m \u001b[0;34m=\u001b[0m \u001b[0mnp\u001b[0m\u001b[0;34m.\u001b[0m\u001b[0mexpand_dims\u001b[0m\u001b[0;34m(\u001b[0m\u001b[0marea_true\u001b[0m\u001b[0;34m,\u001b[0m \u001b[0;34m-\u001b[0m\u001b[0;36m1\u001b[0m\u001b[0;34m)\u001b[0m\u001b[0;34m\u001b[0m\u001b[0m\n\u001b[1;32m    434\u001b[0m     \u001b[0marea_pred\u001b[0m \u001b[0;34m=\u001b[0m \u001b[0mnp\u001b[0m\u001b[0;34m.\u001b[0m\u001b[0mexpand_dims\u001b[0m\u001b[0;34m(\u001b[0m\u001b[0marea_pred\u001b[0m\u001b[0;34m,\u001b[0m \u001b[0;36m0\u001b[0m\u001b[0;34m)\u001b[0m\u001b[0;34m\u001b[0m\u001b[0m\n",
      "\u001b[0;32m/anaconda/envs/py35/lib/python3.5/site-packages/numpy/lib/function_base.py\u001b[0m in \u001b[0;36mhistogram\u001b[0;34m(***failed resolving arguments***)\u001b[0m\n\u001b[1;32m    779\u001b[0m             \u001b[0;31m# Only include values in the right range\u001b[0m\u001b[0;34m\u001b[0m\u001b[0;34m\u001b[0m\u001b[0m\n\u001b[1;32m    780\u001b[0m             \u001b[0mkeep\u001b[0m \u001b[0;34m=\u001b[0m \u001b[0;34m(\u001b[0m\u001b[0mtmp_a\u001b[0m \u001b[0;34m>=\u001b[0m \u001b[0mfirst_edge\u001b[0m\u001b[0;34m)\u001b[0m\u001b[0;34m\u001b[0m\u001b[0m\n\u001b[0;32m--> 781\u001b[0;31m             \u001b[0mkeep\u001b[0m \u001b[0;34m&=\u001b[0m \u001b[0;34m(\u001b[0m\u001b[0mtmp_a\u001b[0m \u001b[0;34m<=\u001b[0m \u001b[0mlast_edge\u001b[0m\u001b[0;34m)\u001b[0m\u001b[0;34m\u001b[0m\u001b[0m\n\u001b[0m\u001b[1;32m    782\u001b[0m             \u001b[0;32mif\u001b[0m \u001b[0;32mnot\u001b[0m \u001b[0mnp\u001b[0m\u001b[0;34m.\u001b[0m\u001b[0mlogical_and\u001b[0m\u001b[0;34m.\u001b[0m\u001b[0mreduce\u001b[0m\u001b[0;34m(\u001b[0m\u001b[0mkeep\u001b[0m\u001b[0;34m)\u001b[0m\u001b[0;34m:\u001b[0m\u001b[0;34m\u001b[0m\u001b[0m\n\u001b[1;32m    783\u001b[0m                 \u001b[0mtmp_a\u001b[0m \u001b[0;34m=\u001b[0m \u001b[0mtmp_a\u001b[0m\u001b[0;34m[\u001b[0m\u001b[0mkeep\u001b[0m\u001b[0;34m]\u001b[0m\u001b[0;34m\u001b[0m\u001b[0m\n",
      "\u001b[0;31mKeyboardInterrupt\u001b[0m: "
     ]
    }
   ],
   "source": [
    "#threshold pixels, threshold value, threshold low (high pix count), threshold high (low pix count)\n",
    "parameters = []\n",
    "nRuns = 3000\n",
    "bestSoFar = 0\n",
    "for k in tqdm(range(nRuns)):\n",
    "    threshPix = np.random.randint(1,101*30)\n",
    "    threshM = 0.3+0.7*np.random.random()\n",
    "    threshL = threshM*np.random.random()\n",
    "    threshH = threshM + (1 - threshM)*np.random.random()\n",
    "    \n",
    "    meanIoU = ComputeIoU(preds_val, Y_val, threshPix, threshM, threshL, threshH)\n",
    "    if meanIoU > bestSoFar:\n",
    "        bestSoFar = meanIoU\n",
    "        print('Best mean IoU improved to {}'.format(bestSoFar))\n",
    "    parameters.append([threshPix, threshM, threshL, threshH, meanIoU])\n",
    "    \n",
    "parameters = np.array(parameters)\n",
    "\n",
    "bestparams = np.array([parameters[q] for q in range(len(parameters)) if parameters[q,4] == bestSoFar])\n",
    "\n",
    "#print('Best set of parameters: {}'.format(parameters[ np.argmax(parameters,0)[4] ]))\n",
    "print('Best set of parameters: {}'.format(bestparams[:,0:4]))\n",
    "print(np.argmax(parameters,0))\n",
    "#print(parameters)\n"
   ]
  },
  {
   "cell_type": "code",
   "execution_count": 26,
   "metadata": {},
   "outputs": [
    {
     "ename": "TypeError",
     "evalue": "list indices must be integers or slices, not tuple",
     "output_type": "error",
     "traceback": [
      "\u001b[0;31m---------------------------------------------------------------------------\u001b[0m",
      "\u001b[0;31mTypeError\u001b[0m                                 Traceback (most recent call last)",
      "\u001b[0;32m<ipython-input-26-c4765d66d8f6>\u001b[0m in \u001b[0;36m<module>\u001b[0;34m()\u001b[0m\n\u001b[1;32m      3\u001b[0m \u001b[0mplt\u001b[0m\u001b[0;34m.\u001b[0m\u001b[0mxlabel\u001b[0m\u001b[0;34m(\u001b[0m\u001b[0;34m'Expected IoU'\u001b[0m\u001b[0;34m)\u001b[0m\u001b[0;34m\u001b[0m\u001b[0m\n\u001b[1;32m      4\u001b[0m \u001b[0;34m\u001b[0m\u001b[0m\n\u001b[0;32m----> 5\u001b[0;31m \u001b[0mplt\u001b[0m\u001b[0;34m.\u001b[0m\u001b[0mhist\u001b[0m\u001b[0;34m(\u001b[0m\u001b[0mparameters\u001b[0m\u001b[0;34m[\u001b[0m\u001b[0;34m:\u001b[0m\u001b[0;34m,\u001b[0m\u001b[0;36m4\u001b[0m\u001b[0;34m]\u001b[0m\u001b[0;34m,\u001b[0m \u001b[0mbins\u001b[0m\u001b[0;34m=\u001b[0m\u001b[0;36m50\u001b[0m\u001b[0;34m)\u001b[0m\u001b[0;34m\u001b[0m\u001b[0m\n\u001b[0m",
      "\u001b[0;31mTypeError\u001b[0m: list indices must be integers or slices, not tuple"
     ]
    },
    {
     "data": {
      "image/png": "[encoded data removed]",
      "text/plain": [
       "<Figure size 432x288 with 1 Axes>"
      ]
     },
     "metadata": {},
     "output_type": "display_data"
    }
   ],
   "source": [
    "plt.title('IoU histogram')\n",
    "plt.ylabel('Number of parameter combinations')\n",
    "plt.xlabel('Expected IoU')\n",
    "\n",
    "plt.hist(parameters[:,4], bins=50)"
   ]
  },
  {
   "cell_type": "code",
   "execution_count": 178,
   "metadata": {},
   "outputs": [],
   "source": [
    "threshPixels=2.73000000e+02 \n",
    "threshM= 4.09481043e-01 \n",
    "threshL= 1.72299956e-01 \n",
    "threshH= 8.70076138e-01"
   ]
  },
  {
   "cell_type": "markdown",
   "metadata": {
    "colab_type": "text",
    "id": "WC_JYxpGKQcj"
   },
   "source": [
    "# Predictions"
   ]
  },
  {
   "cell_type": "code",
   "execution_count": 24,
   "metadata": {
    "scrolled": true
   },
   "outputs": [
    {
     "name": "stderr",
     "output_type": "stream",
     "text": [
      "  0%|          | 39/18000 [00:00<00:46, 386.11it/s]"
     ]
    },
    {
     "name": "stdout",
     "output_type": "stream",
     "text": [
      "Getting images and masks ... \n"
     ]
    },
    {
     "name": "stderr",
     "output_type": "stream",
     "text": [
      "100%|██████████| 18000/18000 [00:46<00:00, 387.38it/s]\n"
     ]
    },
    {
     "name": "stdout",
     "output_type": "stream",
     "text": [
      "Ignored 92 files\n"
     ]
    }
   ],
   "source": [
    "#X_test, d_test = ImageReader.ReadSegmentationImages(testFolder, depthFile, readMasks = False)\n",
    "#X_test = X_test/255.0 #(X_test-X_train_mean)/(2*X_train_std)\n",
    "\n",
    "#for i in tqdm(range(len(X_test))):\n",
    "#    X_test[i] = image_datagen.standardize(X_test[i].astype(float))"
   ]
  },
  {
   "cell_type": "code",
   "execution_count": 26,
   "metadata": {
    "colab": {
     "base_uri": "https://localhost:8080/",
     "height": 68
    },
    "colab_type": "code",
    "id": "UQY0LPqMNf3G",
    "outputId": "17457a35-2bd0-422e-cac3-a28224ac61aa"
   },
   "outputs": [
    {
     "name": "stdout",
     "output_type": "stream",
     "text": [
      "3322/3322 [==============================] - 45s 14ms/step\n",
      "586/586 [==============================] - 8s 14ms/step\n",
      "18000/18000 [==============================] - 247s 14ms/step\n",
      "3322/3322 [==============================] - 85s 26ms/step\n",
      "586/586 [==============================] - 8s 14ms/step\n",
      "18000/18000 [==============================] - 248s 14ms/step\n",
      "3322/3322 [==============================] - 85s 25ms/step\n",
      "586/586 [==============================] - 8s 14ms/step\n",
      "18000/18000 [==============================] - 248s 14ms/step\n",
      "3322/3322 [==============================] - 84s 25ms/step\n",
      "586/586 [==============================] - 8s 14ms/step\n",
      "18000/18000 [==============================] - 248s 14ms/step\n",
      "3322/3322 [==============================] - 84s 25ms/step\n",
      "586/586 [==============================] - 8s 14ms/step\n",
      "18000/18000 [==============================] - 247s 14ms/step\n",
      "3322/3322 [==============================] - 84s 25ms/step\n",
      "586/586 [==============================] - 8s 14ms/step\n",
      "18000/18000 [==============================] - 247s 14ms/step\n",
      "3322/3322 [==============================] - 83s 25ms/step\n",
      "586/586 [==============================] - 8s 14ms/step\n",
      "18000/18000 [==============================] - 247s 14ms/step\n"
     ]
    }
   ],
   "source": [
    "cObjs = {'ModelUNet' : ModelUNet, 'mean_iou': ModelUNet.mean_iou, 'dice_loss' : ModelUNet.dice_loss, '_expand': ModelUNet._expand, 'relu6': DeepLabv3Plus.relu6, 'BilinearUpsampling': DeepLabv3Plus.BilinearUpsampling }\n",
    "model_array = [\n",
    "               load_model('model-tgs-salt-1f-0.h5', custom_objects=cObjs), #, 'ReflectionPadding2D' : ReflectionPadding2D})\n",
    "               load_model('model-tgs-salt-1e-0.h5', custom_objects=cObjs), #, 'ReflectionPadding2D' : ReflectionPadding2D})\n",
    "               load_model('model-tgs-salt-1e-1.h5', custom_objects=cObjs), #, 'ReflectionPadding2D' : ReflectionPadding2D})\n",
    "               load_model('model-tgs-salt-1c.h5', custom_objects=cObjs), #, 'ReflectionPadding2D' : ReflectionPadding2D})\n",
    "               load_model('model-tgs-salt-1d.h5', custom_objects=cObjs), #, 'ReflectionPadding2D' : ReflectionPadding2D})\n",
    "               load_model('model-tgs-salt-1a.h5', custom_objects=cObjs) #, 'ReflectionPadding2D' : ReflectionPadding2D})\n",
    "               #load_model('model-tgs-salt-XcepDiv255_785.h5', custom_objects={'ModelUNet' : ModelUNet, 'mean_iou': ModelUNet.mean_iou, 'dice_loss' : ModelUNet.dice_loss, '_expand': ModelUNet._expand, 'relu6': DeepLabv3Plus.relu6, 'BilinearUpsampling': DeepLabv3Plus.BilinearUpsampling }), #, 'ReflectionPadding2D' : ReflectionPadding2D})\n",
    "               #load_model('model-tgs-salt-IVDLabDiv255_795.h5', custom_objects={'ModelUNet' : ModelUNet, 'mean_iou': ModelUNet.mean_iou, 'dice_loss' : ModelUNet.dice_loss, '_expand': ModelUNet._expand, 'relu6': DeepLabv3Plus.relu6, 'BilinearUpsampling': DeepLabv3Plus.BilinearUpsampling }), #, 'ReflectionPadding2D' : ReflectionPadding2D})\n",
    "               #load_model('model-tgs-salt-DeeplabDiv255rmsprop785.h5', custom_objects={'ModelUNet' : ModelUNet, 'mean_iou': ModelUNet.mean_iou, 'dice_loss' : ModelUNet.dice_loss, '_expand': ModelUNet._expand, 'relu6': DeepLabv3Plus.relu6, 'BilinearUpsampling': DeepLabv3Plus.BilinearUpsampling }), #, 'ReflectionPadding2D' : ReflectionPadding2D})\n",
    "               #load_model('model-tgs-salt-DeeplabDiv255_805.h5', custom_objects={'ModelUNet' : ModelUNet, 'mean_iou': ModelUNet.mean_iou, 'dice_loss' : ModelUNet.dice_loss, '_expand': ModelUNet._expand, 'relu6': DeepLabv3Plus.relu6, 'BilinearUpsampling': DeepLabv3Plus.BilinearUpsampling }) #, 'ReflectionPadding2D' : ReflectionPadding2D})\n",
    "               #load_model('model-tgs-salt-Resnet.h5', custom_objects={'mean_iou': mean_iou, 'ReflectionPadding2D' : ReflectionPadding2D}),\n",
    "               #load_model('model-tgs-salt-ReflecConv.h5', custom_objects={'mean_iou': mean_iou, 'ReflectionPadding2D' : ReflectionPadding2D}),\n",
    "               #load_model('model-tgs-salt-Incep1.h5', custom_objects={'mean_iou': mean_iou, 'ReflectionPadding2D' : ReflectionPadding2D}),\n",
    "              ]\n",
    "\n",
    "# Predict on train, val and test\n",
    "\n",
    "preds_train = model.predict([X_train0, d_train0], verbose=1)\n",
    "preds_val = model.predict([X_val, d_val], verbose=1)\n",
    "preds_test = model.predict([X_test, d_test], verbose=1)\n",
    "\n",
    "for savedModel in model_array:\n",
    "    preds_train += savedModel.predict([X_train0, d_train0], verbose=1)\n",
    "    preds_val += savedModel.predict([X_val, d_val], verbose=1)\n",
    "    preds_test += savedModel.predict([X_test, d_test], verbose=1)\n",
    "\n",
    "preds_train /= 1+len(model_array)\n",
    "preds_val /= 1+len(model_array)\n",
    "preds_test /= 1+len(model_array)\n",
    "\n",
    "\n",
    "# Threshold predictions\n",
    "preds_train_t = (preds_train > thresh).astype(np.uint8)\n",
    "preds_val_t = (preds_val > thresh).astype(np.uint8)\n",
    "preds_test_t = (preds_test > thresh).astype(np.uint8)\n"
   ]
  },
  {
   "cell_type": "code",
   "execution_count": 180,
   "metadata": {
    "colab": {
     "base_uri": "https://localhost:8080/",
     "height": 34
    },
    "colab_type": "code",
    "id": "ynhnACAcOv19",
    "outputId": "258dcbca-5a36-41fa-8445-a97d02b3f0ff",
    "scrolled": true
   },
   "outputs": [],
   "source": [
    "#Watershed predictions\n",
    "#preds_test_t = ModelUNet.WaterShedChangeAll(preds_test, lowThresh = 0.1, highThresh = wsThresh)"
   ]
  },
  {
   "cell_type": "code",
   "execution_count": 181,
   "metadata": {},
   "outputs": [],
   "source": [
    "#quadruple-threshold preds\n",
    "preds_test_t = AdapThresh(preds_test, threshPixels, threshM, threshL, threshH)"
   ]
  },
  {
   "cell_type": "code",
   "execution_count": 182,
   "metadata": {
    "colab": {
     "base_uri": "https://localhost:8080/",
     "height": 770
    },
    "colab_type": "code",
    "id": "ttiEeIo-PJcP",
    "outputId": "976df606-8d4b-4bdf-e457-d1c713753a07"
   },
   "outputs": [
    {
     "data": {
      "image/png": "[encoded data removed]",
      "text/plain": [
       "<Figure size 432x288 with 1 Axes>"
      ]
     },
     "metadata": {},
     "output_type": "display_data"
    },
    {
     "data": {
      "image/png": "[encoded data removed]",
      "text/plain": [
       "<Figure size 432x288 with 1 Axes>"
      ]
     },
     "metadata": {},
     "output_type": "display_data"
    },
    {
     "data": {
      "image/png": "[encoded data removed]",
      "text/plain": [
       "<Figure size 432x288 with 1 Axes>"
      ]
     },
     "metadata": {},
     "output_type": "display_data"
    }
   ],
   "source": [
    "# Perform a sanity check on some random training samples\n",
    "ix = np.random.randint(0, len(preds_train_t))\n",
    "plt.imshow(X_train0[ix,:,:,0])\n",
    "plt.show()\n",
    "#plt.imshow(Y_train[ix,:,:,0])\n",
    "tmp = np.squeeze(Y_train0[ix]).astype(np.float32)\n",
    "plt.imshow(np.dstack((tmp,tmp,tmp)))\n",
    "plt.show()\n",
    "tmp = np.squeeze(preds_train_t[ix]).astype(np.float32)\n",
    "plt.imshow(np.dstack((tmp,tmp,tmp)))\n",
    "plt.show()"
   ]
  },
  {
   "cell_type": "code",
   "execution_count": 27,
   "metadata": {
    "colab": {
     "base_uri": "https://localhost:8080/",
     "height": 34
    },
    "colab_type": "code",
    "id": "I-a2-DznPRkG",
    "outputId": "30a99f22-1449-44e4-d816-a09a43a3e5d2"
   },
   "outputs": [
    {
     "data": {
      "text/plain": [
       "56"
      ]
     },
     "execution_count": 27,
     "metadata": {},
     "output_type": "execute_result"
    }
   ],
   "source": [
    "lowPixCount = [imgId for imgId in range(len(preds_test_t)) if preds_test_t[imgId].sum() < 5 and preds_test_t[imgId].sum() > 0]\n",
    "len(lowPixCount)"
   ]
  },
  {
   "cell_type": "code",
   "execution_count": 184,
   "metadata": {},
   "outputs": [
    {
     "data": {
      "text/plain": [
       "6239"
      ]
     },
     "execution_count": 184,
     "metadata": {},
     "output_type": "execute_result"
    }
   ],
   "source": [
    "testEmptyIDs = [imgId for imgId in range(len(preds_test)) if preds_test[imgId].max() < 0.1]\n",
    "nonSaltTestImgs = X_test[testEmptyIDs]\n",
    "nonSaltTestDpth = d_test[testEmptyIDs]\n",
    "len(testEmptyIDs)"
   ]
  },
  {
   "cell_type": "code",
   "execution_count": 28,
   "metadata": {
    "colab": {},
    "colab_type": "code",
    "id": "EImEPKhwNiVC"
   },
   "outputs": [],
   "source": [
    "for imId in lowPixCount:\n",
    "    preds_test_t[imId]=np.zeros( (101,101,1) )"
   ]
  },
  {
   "cell_type": "markdown",
   "metadata": {
    "colab_type": "text",
    "id": "3Eggn5qvQEdp"
   },
   "source": [
    "# Prepare Submission"
   ]
  },
  {
   "cell_type": "code",
   "execution_count": 29,
   "metadata": {
    "colab": {
     "base_uri": "https://localhost:8080/",
     "height": 51
    },
    "colab_type": "code",
    "id": "85EJ-_UNQkPw",
    "outputId": "96aae08f-f7e8-4a32-ab3c-9655f55fce48"
   },
   "outputs": [
    {
     "name": "stdout",
     "output_type": "stream",
     "text": [
      "(18000, 101, 101, 1)\n",
      "(18000, 101, 101)\n"
     ]
    }
   ],
   "source": [
    "print(preds_test_t.shape)\n",
    "preds_test = preds_test_t.reshape(preds_test_t.shape[0], preds_test_t.shape[1], preds_test_t.shape[2])\n",
    "print(preds_test.shape)"
   ]
  },
  {
   "cell_type": "code",
   "execution_count": 30,
   "metadata": {
    "colab": {},
    "colab_type": "code",
    "id": "Y5-1fLTJQGDo"
   },
   "outputs": [
    {
     "name": "stderr",
     "output_type": "stream",
     "text": [
      "18000it [04:46, 62.89it/s]\n"
     ]
    }
   ],
   "source": [
    "def RLenc(img, order='F', format=True):\n",
    "    \"\"\"\n",
    "    img is binary mask image, shape (r,c)\n",
    "    order is down-then-right, i.e. Fortran\n",
    "    format determines if the order needs to be preformatted (according to submission rules) or not\n",
    "\n",
    "    returns run length as an array or string (if format is True)\n",
    "    \"\"\"\n",
    "    bytes = img.reshape(img.shape[0] * img.shape[1], order=order)\n",
    "    runs = []  ## list of run lengths\n",
    "    r = 0  ## the current run length\n",
    "    pos = 1  ## count starts from 1 per WK\n",
    "    for c in bytes:\n",
    "        if (c == 0):\n",
    "            if r != 0:\n",
    "                runs.append((pos, r))\n",
    "                pos += r\n",
    "                r = 0\n",
    "            pos += 1\n",
    "        else:\n",
    "            r += 1\n",
    "\n",
    "    # if last run is unsaved (i.e. data ends with 1)\n",
    "    if r != 0:\n",
    "        runs.append((pos, r))\n",
    "        pos += r\n",
    "        r = 0\n",
    "\n",
    "    if format:\n",
    "        z = ''\n",
    "\n",
    "        for rr in runs:\n",
    "            z += '{} {} '.format(rr[0], rr[1])\n",
    "        return z[:-1]\n",
    "    else:\n",
    "        return runs\n",
    "\n",
    "pred_dict = {fn[:-4]:RLenc(np.round(preds_test[i])) for i,fn in tqdm(enumerate(test_ids))}\n",
    "#pred_dict = {fn[:-4]:RLenc(np.round(preds_test[i])) for i,fn in (enumerate(test_ids))}"
   ]
  },
  {
   "cell_type": "code",
   "execution_count": 31,
   "metadata": {
    "colab": {},
    "colab_type": "code",
    "id": "7Nm1w6_RQJqw"
   },
   "outputs": [],
   "source": [
    "sub = pd.DataFrame.from_dict(pred_dict,orient='index')\n",
    "sub.index.names = ['id']\n",
    "sub.columns = ['rle_mask']\n",
    "sub.to_csv('submission.csv')"
   ]
  },
  {
   "cell_type": "code",
   "execution_count": 32,
   "metadata": {
    "colab": {
     "base_uri": "https://localhost:8080/",
     "height": 85
    },
    "colab_type": "code",
    "id": "L5BqBHZbWPe3",
    "outputId": "ddfb96ce-0779-424b-caa9-a8d5e89ba18a"
   },
   "outputs": [
    {
     "name": "stdout",
     "output_type": "stream",
     "text": [
      "creating archive\n",
      "adding with compression mode deflated\n",
      "closing\n",
      "submission.zip\n"
     ]
    }
   ],
   "source": [
    "import zipfile\n",
    "try:\n",
    "    import zlib\n",
    "    compression = zipfile.ZIP_DEFLATED\n",
    "except:\n",
    "    compression = zipfile.ZIP_STORED\n",
    "\n",
    "modes = { zipfile.ZIP_DEFLATED: 'deflated',\n",
    "          zipfile.ZIP_STORED:   'stored',\n",
    "          }\n",
    "\n",
    "print('creating archive')\n",
    "zf = zipfile.ZipFile('submission.zip', mode='w')\n",
    "try:\n",
    "    print('adding with compression mode {}'.format(modes[compression]))\n",
    "    zf.write('submission.csv', compress_type=compression)\n",
    "finally:\n",
    "    print('closing')\n",
    "    zf.close()\n",
    "\n",
    "print('submission.zip')"
   ]
  },
  {
   "cell_type": "code",
   "execution_count": null,
   "metadata": {
    "colab": {},
    "colab_type": "code",
    "id": "nqzGcwV9nPqO"
   },
   "outputs": [],
   "source": []
  },
  {
   "cell_type": "code",
   "execution_count": 33,
   "metadata": {
    "colab": {
     "base_uri": "https://localhost:8080/",
     "height": 34
    },
    "colab_type": "code",
    "id": "xYN4cqUumso9",
    "outputId": "27d0b919-8289-483d-cf86-b086b5390a76"
   },
   "outputs": [
    {
     "name": "stdout",
     "output_type": "stream",
     "text": [
      "Warning: Your Kaggle API key is readable by otherusers on this system! To fix this, you can run'chmod 600 /home/douglas125/.kaggle/kaggle.json'\n",
      "Successfully submitted to TGS Salt Identification Challenge"
     ]
    }
   ],
   "source": [
    "!kaggle competitions submit -c tgs-salt-identification-challenge -f submission.zip -m \"DeepLabv3, initial_lr=.0005, thresh, backbone=xception, randomcrops\""
   ]
  },
  {
   "cell_type": "code",
   "execution_count": 0,
   "metadata": {
    "colab": {},
    "colab_type": "code",
    "id": "v4duZsutRQqC"
   },
   "outputs": [],
   "source": [
    "from google.colab import files\n",
    "files.download('submission.zip')"
   ]
  }
 ],
 "metadata": {
  "accelerator": "GPU",
  "colab": {
   "collapsed_sections": [
    "yRUBTFaQXB_X"
   ],
   "name": "Kaggle TGS Seismic",
   "provenance": [],
   "version": "0.3.2"
  },
  "kernelspec": {
   "display_name": "Python 3",
   "language": "python",
   "name": "python3"
  },
  "language_info": {
   "codemirror_mode": {
    "name": "ipython",
    "version": 3
   },
   "file_extension": ".py",
   "mimetype": "text/x-python",
   "name": "python",
   "nbconvert_exporter": "python",
   "pygments_lexer": "ipython3",
   "version": "3.6.5"
  }
 },
 "nbformat": 4,
 "nbformat_minor": 1
}
