{
 "cells": [
  {
   "cell_type": "markdown",
   "metadata": {
    "colab_type": "text",
    "id": "mf2ENBI217Zd"
   },
   "source": [
    "# Kaggle TGS Geoseismic competition"
   ]
  },
  {
   "cell_type": "code",
   "execution_count": 3,
   "metadata": {
    "colab": {},
    "colab_type": "code",
    "id": "YMvFLpBQlBTR"
   },
   "outputs": [],
   "source": [
    "#!pip install -r requirements.txt"
   ]
  },
  {
   "cell_type": "code",
   "execution_count": 1,
   "metadata": {
    "colab": {
     "base_uri": "https://localhost:8080/",
     "height": 318
    },
    "colab_type": "code",
    "id": "tWe1mkDDaGmA",
    "outputId": "ea56e3f6-6995-42ec-92fb-5b53c95782f3"
   },
   "outputs": [
    {
     "name": "stderr",
     "output_type": "stream",
     "text": [
      "/anaconda/envs/py35/lib/python3.5/site-packages/h5py/__init__.py:36: FutureWarning: Conversion of the second argument of issubdtype from `float` to `np.floating` is deprecated. In future, it will be treated as `np.float64 == np.dtype(float).type`.\n",
      "  from ._conv import register_converters as _register_converters\n"
     ]
    },
    {
     "name": "stdout",
     "output_type": "stream",
     "text": [
      "[name: \"/device:CPU:0\"\n",
      "device_type: \"CPU\"\n",
      "memory_limit: 268435456\n",
      "locality {\n",
      "}\n",
      "incarnation: 2782968327026120156\n",
      ", name: \"/device:GPU:0\"\n",
      "device_type: \"GPU\"\n",
      "memory_limit: 11286285517\n",
      "locality {\n",
      "  bus_id: 1\n",
      "  links {\n",
      "  }\n",
      "}\n",
      "incarnation: 4007177297723420039\n",
      "physical_device_desc: \"device: 0, name: Tesla K80, pci bus id: 4029:00:00.0, compute capability: 3.7\"\n",
      "]\n"
     ]
    }
   ],
   "source": [
    "from tensorflow.python.client import device_lib\n",
    "print(device_lib.list_local_devices())"
   ]
  },
  {
   "cell_type": "markdown",
   "metadata": {
    "colab_type": "text",
    "id": "pBETV6aO2d39"
   },
   "source": [
    "# API Credentials\n",
    "\n",
    "To use the Kaggle API, sign up for a Kaggle account at https://www.kaggle.com. Then go to the 'Account' tab of your user profile (https://www.kaggle.com/<username>/account) and select 'Create API Token'. This will trigger the download of kaggle.json, a file containing your API credentials. \n",
    "\n",
    "Place this file on your Google Drive anywhere.\n",
    "\n",
    "With the next snippet you download your credentials to Colab and you can start using Kaggle API"
   ]
  },
  {
   "cell_type": "code",
   "execution_count": 2,
   "metadata": {
    "colab": {
     "base_uri": "https://localhost:8080/",
     "height": 34
    },
    "colab_type": "code",
    "id": "NtqKjNG3Q0Z9",
    "outputId": "97d3685a-30cb-4deb-f4ec-8f25f1f0dc5b"
   },
   "outputs": [
    {
     "name": "stdout",
     "output_type": "stream",
     "text": [
      "datalab\r\n"
     ]
    }
   ],
   "source": [
    "!ls"
   ]
  },
  {
   "cell_type": "code",
   "execution_count": 3,
   "metadata": {
    "colab": {
     "base_uri": "https://localhost:8080/",
     "height": 34
    },
    "colab_type": "code",
    "id": "y5_288BYp6H1",
    "outputId": "7615aa5e-a752-4691-bde4-2f476f6e067c"
   },
   "outputs": [
    {
     "name": "stdout",
     "output_type": "stream",
     "text": [
      "Download 100%.\n"
     ]
    }
   ],
   "source": [
    "from googleapiclient.discovery import build\n",
    "import io, os\n",
    "from googleapiclient.http import MediaIoBaseDownload\n",
    "from google.colab import auth\n",
    "\n",
    "auth.authenticate_user()\n",
    "\n",
    "drive_service = build('drive', 'v3')\n",
    "results = drive_service.files().list(\n",
    "        q=\"name = 'kaggle.json'\", fields=\"files(id)\").execute()\n",
    "kaggle_api_key = results.get('files', [])\n",
    "\n",
    "filename = \"/content/.kaggle/kaggle.json\"\n",
    "os.makedirs(os.path.dirname(filename), exist_ok=True)\n",
    "\n",
    "request = drive_service.files().get_media(fileId=kaggle_api_key[0]['id'])\n",
    "fh = io.FileIO(filename, 'wb')\n",
    "downloader = MediaIoBaseDownload(fh, request)\n",
    "done = False\n",
    "while done is False:\n",
    "    status, done = downloader.next_chunk()\n",
    "    print(\"Download %d%%.\" % int(status.progress() * 100))\n",
    "os.chmod(filename, 600)"
   ]
  },
  {
   "cell_type": "code",
   "execution_count": 0,
   "metadata": {
    "colab": {},
    "colab_type": "code",
    "id": "5l1V_oxXsZ8l"
   },
   "outputs": [],
   "source": [
    "#!kaggle datasets list"
   ]
  },
  {
   "cell_type": "code",
   "execution_count": 4,
   "metadata": {
    "colab": {
     "base_uri": "https://localhost:8080/",
     "height": 34
    },
    "colab_type": "code",
    "id": "L-MSBCgPkI9V",
    "outputId": "292c50a8-867e-435d-f8f6-5912c408e19f"
   },
   "outputs": [
    {
     "name": "stdout",
     "output_type": "stream",
     "text": [
      "Warning: Your Kaggle API key is readable by otherusers on this system! To fix this, you can run'chmod 600 /home/douglas125/.kaggle/kaggle.json'\n",
      "Downloading depths.csv to /home/douglas125/McLyEdSegmentation\n",
      "  0%|                                                | 0.00/322k [00:00<?, ?B/s]\n",
      "100%|████████████████████████████████████████| 322k/322k [00:00<00:00, 45.3MB/s]\n",
      "Downloading sample_submission.csv to /home/douglas125/McLyEdSegmentation\n",
      "  0%|                                                | 0.00/264k [00:00<?, ?B/s]\n",
      "100%|████████████████████████████████████████| 264k/264k [00:00<00:00, 89.5MB/s]\n",
      "Downloading train.csv to /home/douglas125/McLyEdSegmentation\n",
      "  0%|                                                | 0.00/922k [00:00<?, ?B/s]\n",
      "100%|█████████████████████████████████████████| 922k/922k [00:00<00:00, 161MB/s]\n",
      "Downloading test.zip to /home/douglas125/McLyEdSegmentation\n",
      " 92%|█████████████████████████████████████▉   | 151M/163M [00:00<00:00, 133MB/s]\n",
      "100%|█████████████████████████████████████████| 163M/163M [00:01<00:00, 157MB/s]\n",
      "Downloading train.zip to /home/douglas125/McLyEdSegmentation\n",
      " 45%|█████████████████                     | 17.0M/37.9M [00:00<00:00, 66.1MB/s]\n",
      "100%|███████████████████████████████████████| 37.9M/37.9M [00:00<00:00, 124MB/s]\n"
     ]
    }
   ],
   "source": [
    "!kaggle competitions download -c tgs-salt-identification-challenge"
   ]
  },
  {
   "cell_type": "markdown",
   "metadata": {
    "colab_type": "text",
    "id": "-4T8ufsAkQts"
   },
   "source": [
    "Reference: [https://github.com/Kaggle/kaggle-api](https://github.com/Kaggle/kaggle-api)"
   ]
  },
  {
   "cell_type": "code",
   "execution_count": 6,
   "metadata": {
    "colab": {
     "base_uri": "https://localhost:8080/",
     "height": 34
    },
    "colab_type": "code",
    "id": "_fZ-DSopb6Pd",
    "outputId": "97e08c91-9685-4714-9981-061e0c8048f2"
   },
   "outputs": [
    {
     "name": "stdout",
     "output_type": "stream",
     "text": [
      "datalab\r\n"
     ]
    }
   ],
   "source": [
    "!ls /content"
   ]
  },
  {
   "cell_type": "code",
   "execution_count": 0,
   "metadata": {
    "colab": {},
    "colab_type": "code",
    "id": "pZY3IRcrdRqA"
   },
   "outputs": [],
   "source": [
    "#!ls /content#/competitions/tgs-salt-identification-challenge"
   ]
  },
  {
   "cell_type": "code",
   "execution_count": 0,
   "metadata": {
    "colab": {},
    "colab_type": "code",
    "id": "P8iJLspz5PIp"
   },
   "outputs": [],
   "source": [
    "#!mv ~/.kaggle/competitions/tgs-salt-identification-challenge/ /"
   ]
  },
  {
   "cell_type": "code",
   "execution_count": 0,
   "metadata": {
    "colab": {},
    "colab_type": "code",
    "id": "kJQqlQ8c4O-1"
   },
   "outputs": [],
   "source": [
    "#!ls /"
   ]
  },
  {
   "cell_type": "markdown",
   "metadata": {
    "colab_type": "text",
    "id": "wt72EaD62qHM"
   },
   "source": [
    "# Data Exploration"
   ]
  },
  {
   "cell_type": "code",
   "execution_count": 6,
   "metadata": {
    "colab": {
     "base_uri": "https://localhost:8080/",
     "height": 345
    },
    "colab_type": "code",
    "id": "FaCbaUks2TN2",
    "outputId": "e0de925f-e65c-44c8-9b5e-f37620c94932"
   },
   "outputs": [],
   "source": [
    "import zipfile\n",
    "zip_ref = zipfile.ZipFile('train.zip', 'r')\n",
    "zip_ref.extractall('tgs-salt-identification-challenge/trainData')\n",
    "zip_ref.close()"
   ]
  },
  {
   "cell_type": "code",
   "execution_count": 7,
   "metadata": {
    "colab": {},
    "colab_type": "code",
    "id": "T9NE1-oF8UGv"
   },
   "outputs": [],
   "source": [
    "zip_ref = zipfile.ZipFile('test.zip', 'r')\n",
    "zip_ref.extractall('tgs-salt-identification-challenge/testData')\n",
    "zip_ref.close()"
   ]
  },
  {
   "cell_type": "code",
   "execution_count": 1,
   "metadata": {
    "colab": {
     "base_uri": "https://localhost:8080/",
     "height": 34
    },
    "colab_type": "code",
    "id": "bYDGN_2W6Pmp",
    "outputId": "279c496b-97bc-46b9-bf15-a2226bfb5d78"
   },
   "outputs": [
    {
     "name": "stderr",
     "output_type": "stream",
     "text": [
      "/anaconda/envs/py35/lib/python3.5/site-packages/h5py/__init__.py:36: FutureWarning: Conversion of the second argument of issubdtype from `float` to `np.floating` is deprecated. In future, it will be treated as `np.float64 == np.dtype(float).type`.\n",
      "  from ._conv import register_converters as _register_converters\n",
      "Using TensorFlow backend.\n"
     ]
    }
   ],
   "source": [
    "import os\n",
    "\n",
    "import pandas as pd\n",
    "import numpy as np\n",
    "import matplotlib.pyplot as plt\n",
    "%matplotlib inline\n",
    "from keras.preprocessing.image import ImageDataGenerator, array_to_img, img_to_array, load_img\n",
    "from tqdm import tqdm_notebook, tnrange, tqdm\n",
    "\n",
    "from scipy.signal import medfilt2d"
   ]
  },
  {
   "cell_type": "code",
   "execution_count": 2,
   "metadata": {
    "colab": {},
    "colab_type": "code",
    "id": "cWYuS0Zx5xIz"
   },
   "outputs": [],
   "source": [
    "trainFolder = 'tgs-salt-identification-challenge/trainData/'\n",
    "testFolder  = 'tgs-salt-identification-challenge/testData/'"
   ]
  },
  {
   "cell_type": "code",
   "execution_count": 3,
   "metadata": {
    "colab": {
     "base_uri": "https://localhost:8080/",
     "height": 34
    },
    "colab_type": "code",
    "id": "-iTxGqLx2TUh",
    "outputId": "1a0c2f3a-9ab4-4a03-b6e4-2648ebb5ca72"
   },
   "outputs": [
    {
     "name": "stdout",
     "output_type": "stream",
     "text": [
      "images\r\n"
     ]
    }
   ],
   "source": [
    "!ls tgs-salt-identification-challenge/testData/"
   ]
  },
  {
   "cell_type": "code",
   "execution_count": 4,
   "metadata": {
    "colab": {
     "base_uri": "https://localhost:8080/",
     "height": 204
    },
    "colab_type": "code",
    "id": "8KLX-j4vo0rG",
    "outputId": "61797aac-fe00-43dd-c0ef-cce24393977e"
   },
   "outputs": [
    {
     "data": {
      "text/html": [
       "<div>\n",
       "<style scoped>\n",
       "    .dataframe tbody tr th:only-of-type {\n",
       "        vertical-align: middle;\n",
       "    }\n",
       "\n",
       "    .dataframe tbody tr th {\n",
       "        vertical-align: top;\n",
       "    }\n",
       "\n",
       "    .dataframe thead th {\n",
       "        text-align: right;\n",
       "    }\n",
       "</style>\n",
       "<table border=\"1\" class=\"dataframe\">\n",
       "  <thead>\n",
       "    <tr style=\"text-align: right;\">\n",
       "      <th></th>\n",
       "      <th>id</th>\n",
       "      <th>z</th>\n",
       "    </tr>\n",
       "  </thead>\n",
       "  <tbody>\n",
       "    <tr>\n",
       "      <th>0</th>\n",
       "      <td>4ac19fb269</td>\n",
       "      <td>306</td>\n",
       "    </tr>\n",
       "    <tr>\n",
       "      <th>1</th>\n",
       "      <td>1825fadf99</td>\n",
       "      <td>157</td>\n",
       "    </tr>\n",
       "    <tr>\n",
       "      <th>2</th>\n",
       "      <td>f59821d067</td>\n",
       "      <td>305</td>\n",
       "    </tr>\n",
       "    <tr>\n",
       "      <th>3</th>\n",
       "      <td>5b435fad9d</td>\n",
       "      <td>503</td>\n",
       "    </tr>\n",
       "    <tr>\n",
       "      <th>4</th>\n",
       "      <td>e340e7bfca</td>\n",
       "      <td>783</td>\n",
       "    </tr>\n",
       "  </tbody>\n",
       "</table>\n",
       "</div>"
      ],
      "text/plain": [
       "           id    z\n",
       "0  4ac19fb269  306\n",
       "1  1825fadf99  157\n",
       "2  f59821d067  305\n",
       "3  5b435fad9d  503\n",
       "4  e340e7bfca  783"
      ]
     },
     "execution_count": 4,
     "metadata": {},
     "output_type": "execute_result"
    }
   ],
   "source": [
    "depthFile = pd.read_csv('depths.csv' )\n",
    "depthFile.head()"
   ]
  },
  {
   "cell_type": "code",
   "execution_count": 5,
   "metadata": {
    "colab": {
     "base_uri": "https://localhost:8080/",
     "height": 34
    },
    "colab_type": "code",
    "id": "ahZ9hvSDu4VM",
    "outputId": "e073742a-d259-464f-90de-d14cefb75c23"
   },
   "outputs": [
    {
     "data": {
      "text/plain": [
       "306"
      ]
     },
     "execution_count": 5,
     "metadata": {},
     "output_type": "execute_result"
    }
   ],
   "source": [
    "depthFile[depthFile['id'] == '4ac19fb269'].z.tolist()[0]"
   ]
  },
  {
   "cell_type": "code",
   "execution_count": 6,
   "metadata": {
    "colab": {
     "base_uri": "https://localhost:8080/",
     "height": 267
    },
    "colab_type": "code",
    "id": "wZiwNBFp2TSA",
    "outputId": "a41701ea-2d3f-486c-cef9-0229f60a9d11"
   },
   "outputs": [
    {
     "data": {
      "image/png": "[encoded data removed]",
      "text/plain": [
       "<Figure size 3600x1800 with 10 Axes>"
      ]
     },
     "metadata": {},
     "output_type": "display_data"
    }
   ],
   "source": [
    "ids= ['1f1cc6b3a4','5b7c160d0d','6c40978ddf','7dfdf6eeb8','7e5a6e5013']\n",
    "plt.figure(figsize=(50,25))\n",
    "for j, img_name in enumerate(ids):\n",
    "    q = j+1\n",
    "    img = load_img(trainFolder + 'images/' + img_name + '.png')\n",
    "    img_mask = load_img(trainFolder + 'masks/' + img_name + '.png')\n",
    "    \n",
    "    plt.subplot(1,2*(1+len(ids)),q*2-1)\n",
    "    plt.imshow(img)\n",
    "    plt.subplot(1,2*(1+len(ids)),q*2)\n",
    "    plt.imshow(img_mask)\n",
    "plt.show()"
   ]
  },
  {
   "cell_type": "code",
   "execution_count": 7,
   "metadata": {},
   "outputs": [],
   "source": [
    "%load_ext autoreload\n",
    "%autoreload 2\n",
    "\n",
    "import ImageReader"
   ]
  },
  {
   "cell_type": "code",
   "execution_count": 8,
   "metadata": {
    "colab": {},
    "colab_type": "code",
    "id": "0tpME6Io6EmS"
   },
   "outputs": [],
   "source": [
    "train_ids = next(os.walk(trainFolder +\"images\"))[2]\n",
    "test_ids = next(os.walk(testFolder +\"images\"))[2]"
   ]
  },
  {
   "cell_type": "code",
   "execution_count": 9,
   "metadata": {
    "scrolled": true
   },
   "outputs": [
    {
     "name": "stderr",
     "output_type": "stream",
     "text": [
      "  1%|          | 35/4000 [00:00<00:11, 340.83it/s]"
     ]
    },
    {
     "name": "stdout",
     "output_type": "stream",
     "text": [
      "Getting images and masks ... \n"
     ]
    },
    {
     "name": "stderr",
     "output_type": "stream",
     "text": [
      "100%|██████████| 4000/4000 [00:11<00:00, 340.87it/s]\n"
     ]
    }
   ],
   "source": [
    "X_train, Y_train, depthVals = ImageReader.ReadSegmentationImages(trainFolder, depthFile)"
   ]
  },
  {
   "cell_type": "code",
   "execution_count": 17,
   "metadata": {
    "colab": {
     "base_uri": "https://localhost:8080/",
     "height": 519
    },
    "colab_type": "code",
    "id": "3UoDxmPa7tVk",
    "outputId": "fdcd3a8d-a8aa-482d-fcea-10adb5b25993"
   },
   "outputs": [
    {
     "data": {
      "image/png": "[encoded data removed]",
      "text/plain": [
       "<Figure size 432x288 with 1 Axes>"
      ]
     },
     "metadata": {},
     "output_type": "display_data"
    },
    {
     "data": {
      "image/png": "[encoded data removed]",
      "text/plain": [
       "<Figure size 432x288 with 1 Axes>"
      ]
     },
     "metadata": {},
     "output_type": "display_data"
    }
   ],
   "source": [
    "# Check if training data looks all right\n",
    "ix = np.random.randint(0, len(train_ids))\n",
    "#plt.imshow(np.dstack((X_train[ix],X_train[ix],X_train[ix])))\n",
    "plt.imshow(X_train[ix,:,:,0])\n",
    "plt.show()\n",
    "plt.imshow(Y_train[ix,:,:,0])\n",
    "plt.show()"
   ]
  },
  {
   "cell_type": "markdown",
   "metadata": {
    "colab_type": "text",
    "id": "ZCmJsm8qFzdd"
   },
   "source": [
    "# Keras datagen"
   ]
  },
  {
   "cell_type": "code",
   "execution_count": 18,
   "metadata": {
    "colab": {
     "base_uri": "https://localhost:8080/",
     "height": 34
    },
    "colab_type": "code",
    "id": "ayFcz_QDKKQO",
    "outputId": "7f5bbff7-5c8f-47f7-96d9-ffc9e47c3f65"
   },
   "outputs": [
    {
     "name": "stdout",
     "output_type": "stream",
     "text": [
      "(3920, 101, 101, 1), (80, 101, 101, 1)\n"
     ]
    }
   ],
   "source": [
    "valRatio = 0.02\n",
    "nVal = int(len(X_train)*valRatio)\n",
    "X_val = X_train[0:nVal]\n",
    "Y_val = Y_train[0:nVal]\n",
    "d_val = depthVals[0:nVal]\n",
    "\n",
    "X_train0 = X_train[nVal:]\n",
    "Y_train0 = Y_train[nVal:]\n",
    "d_train0 = depthVals[nVal:]\n",
    "X_train0.shape\n",
    "print('{}, {}'.format(X_train0.shape, X_val.shape))"
   ]
  },
  {
   "cell_type": "code",
   "execution_count": 20,
   "metadata": {
    "colab": {
     "base_uri": "https://localhost:8080/",
     "height": 105
    },
    "colab_type": "code",
    "id": "iZWJWDxSF21D",
    "outputId": "5c0f18b3-6109-41e0-c257-fbaa2e87b566"
   },
   "outputs": [],
   "source": [
    "from keras.preprocessing.image import ImageDataGenerator\n",
    "\n",
    "# we create two instances with the same arguments\n",
    "data_gen_argsMask = dict(\n",
    "                     rotation_range=1.0, #1.0,\n",
    "                     #shear_range = 0.001, #0\n",
    "                     zoom_range = 0.013, #0\n",
    "                     width_shift_range=11, # 0.03,\n",
    "                     height_shift_range=3, #0.3,\n",
    "                     horizontal_flip=True,\n",
    "                     fill_mode = \"reflect\"\n",
    "                     #vertical_flip=True #see if helps\n",
    "                    )\n",
    "\n",
    "data_gen_args = {}\n",
    "for key in data_gen_argsMask:\n",
    "    data_gen_args[key] = data_gen_argsMask[key]\n",
    "    \n",
    "#data_gen_args['featurewise_center'] = True\n",
    "#data_gen_args['featurewise_std_normalization'] = True\n",
    "#data_gen_args['zca_whitening'] = True #this or normalization\n",
    "\n",
    "image_datagen = ImageDataGenerator(**data_gen_args)\n",
    "mask_datagen = ImageDataGenerator(**data_gen_argsMask)\n",
    "depth_datagen = ImageDataGenerator()\n",
    "\n",
    "\n",
    "seed=7\n",
    "# Provide the same seed and keyword arguments to the fit and flow methods\n",
    "image_datagen.fit(X_train0, augment=True, seed=seed)\n",
    "#mask_datagen.fit(Y_train0, augment=True, seed=seed)\n",
    "#depth_datagen.fit(d_train0, augment=False, seed=seed)\n",
    "\n",
    "image_generator = image_datagen.flow(\n",
    "    X_train0,\n",
    "    seed=seed,\n",
    "    batch_size = 32)#32*nGPUs)\n",
    "\n",
    "mask_generator = mask_datagen.flow(\n",
    "    Y_train0,\n",
    "    seed=seed,\n",
    "    batch_size = 32)#32*nGPUs)\n",
    "\n",
    "depth_generator = depth_datagen.flow(\n",
    "    d_train0,\n",
    "    seed=seed,\n",
    "    batch_size = 32)#32*nGPUs)\n",
    "\n",
    "bSize = 32\n",
    "def multi_input_gen(X1, X2, X3):\n",
    "    genX1 = image_datagen.flow(X1, seed=7, batch_size=bSize)\n",
    "    genX2 = depth_datagen.flow(X2, seed=7, batch_size=bSize)\n",
    "    genX3 = mask_datagen.flow( X3, seed=7, batch_size=bSize)\n",
    "    while True:\n",
    "            X1i = genX1.next()\n",
    "            X2i = genX2.next()\n",
    "            X3i = genX3.next()\n",
    "            yield [X1i, X2i], X3i\n",
    "\n",
    "train_generator = multi_input_gen(X_train0, d_train0, Y_train0) #zip( [image_generator, depth_generator] , [mask_generator] )"
   ]
  },
  {
   "cell_type": "code",
   "execution_count": 21,
   "metadata": {},
   "outputs": [
    {
     "name": "stdout",
     "output_type": "stream",
     "text": [
      "730.0\n"
     ]
    },
    {
     "data": {
      "image/png": "[encoded data removed]",
      "text/plain": [
       "<Figure size 432x288 with 1 Axes>"
      ]
     },
     "metadata": {},
     "output_type": "display_data"
    },
    {
     "data": {
      "image/png": "[encoded data removed]",
      "text/plain": [
       "<Figure size 432x288 with 1 Axes>"
      ]
     },
     "metadata": {},
     "output_type": "display_data"
    }
   ],
   "source": [
    "ans = next(train_generator)\n",
    "print(ans[0][1][17,0,0,0])\n",
    "plt.imshow( ans[0][0][17,:,:,0] )\n",
    "plt.show()\n",
    "plt.imshow( ans[1][17,:,:,0] )\n",
    "plt.show()"
   ]
  },
  {
   "cell_type": "markdown",
   "metadata": {
    "colab_type": "text",
    "id": "ZZnJKHYuCfpu"
   },
   "source": [
    "# UNet model"
   ]
  },
  {
   "cell_type": "code",
   "execution_count": 22,
   "metadata": {
    "colab": {},
    "colab_type": "code",
    "id": "eq663ff6-x9k"
   },
   "outputs": [],
   "source": [
    "import ModelUNet\n",
    "\n",
    "from keras.utils import plot_model\n",
    "from keras.models import Model, load_model\n",
    "from keras.layers import Input, ZeroPadding2D, Cropping2D\n",
    "from keras.layers.core import Lambda"
   ]
  },
  {
   "cell_type": "code",
   "execution_count": 27,
   "metadata": {
    "colab": {
     "base_uri": "https://localhost:8080/",
     "height": 2397
    },
    "colab_type": "code",
    "id": "xOna1LTs4hMT",
    "outputId": "0ee5e237-1064-4a1a-b646-e8f8fba3abf7",
    "scrolled": false
   },
   "outputs": [
    {
     "name": "stdout",
     "output_type": "stream",
     "text": [
      "__________________________________________________________________________________________________\n",
      "Layer (type)                    Output Shape         Param #     Connected to                     \n",
      "==================================================================================================\n",
      "input_5 (InputLayer)            (None, 101, 101, 1)  0                                            \n",
      "__________________________________________________________________________________________________\n",
      "input_6 (InputLayer)            (None, 1, 1, 1)      0                                            \n",
      "__________________________________________________________________________________________________\n",
      "zero_padding2d_2 (ZeroPadding2D (None, 128, 128, 1)  0           input_5[0][0]                    \n",
      "__________________________________________________________________________________________________\n",
      "lambda_3 (Lambda)               (None, 1, 1, 1)      0           input_6[0][0]                    \n",
      "__________________________________________________________________________________________________\n",
      "UNet_d4 (Model)                 (None, 128, 128, 1)  1174691     zero_padding2d_2[0][0]           \n",
      "                                                                 lambda_3[0][0]                   \n",
      "__________________________________________________________________________________________________\n",
      "cropping2d_2 (Cropping2D)       (None, 101, 101, 1)  0           UNet_d4[1][0]                    \n",
      "==================================================================================================\n",
      "Total params: 1,174,691\n",
      "Trainable params: 1,172,511\n",
      "Non-trainable params: 2,180\n",
      "__________________________________________________________________________________________________\n"
     ]
    }
   ],
   "source": [
    "im_height = 101\n",
    "im_width = 101\n",
    "im_chan = 1\n",
    "\n",
    "\n",
    "inputImg = Input((im_height, im_width, im_chan))\n",
    "inputDepth = Input( (1,1,1) )\n",
    "\n",
    "#s = Lambda(lambda x: x / 255) (inputImg)\n",
    "s = inputImg\n",
    "\n",
    "dd = Lambda(lambda x: x * 0.001) (inputDepth)\n",
    "\n",
    "#s = ReflectionPadding2D( padding = ((13, 14), (13, 14)) ) (s)\n",
    "s = ZeroPadding2D( padding = ((13, 14), (13, 14)) ) (s)\n",
    "\n",
    "unet = ModelUNet.BuildUNet(convFunction = ModelUNet.ApplyConv, nFilter = 10, net_depth=4)\n",
    "s = unet([s,dd])\n",
    "\n",
    "outputs = Cropping2D(cropping=((13, 14), (13, 14)) ) (s)\n",
    "\n",
    "model = Model(inputs=[inputImg, inputDepth], outputs=[outputs])\n",
    "model.compile(optimizer='adam', loss=ModelUNet.dice_loss, metrics=[ModelUNet.mean_iou])\n",
    "\n",
    "model.summary()"
   ]
  },
  {
   "cell_type": "code",
   "execution_count": 28,
   "metadata": {
    "scrolled": true
   },
   "outputs": [
    {
     "name": "stdout",
     "output_type": "stream",
     "text": [
      "__________________________________________________________________________________________________\n",
      "Layer (type)                    Output Shape         Param #     Connected to                     \n",
      "==================================================================================================\n",
      "input_7 (InputLayer)            (None, 128, 128, 1)  0                                            \n",
      "__________________________________________________________________________________________________\n",
      "conv2d_98 (Conv2D)              (None, 128, 128, 10) 100         input_7[0][0]                    \n",
      "__________________________________________________________________________________________________\n",
      "batch_normalization_65 (BatchNo (None, 128, 128, 10) 40          conv2d_98[0][0]                  \n",
      "__________________________________________________________________________________________________\n",
      "activation_1 (Activation)       (None, 128, 128, 10) 0           batch_normalization_65[0][0]     \n",
      "__________________________________________________________________________________________________\n",
      "conv2d_99 (Conv2D)              (None, 128, 128, 20) 1820        activation_1[0][0]               \n",
      "__________________________________________________________________________________________________\n",
      "batch_normalization_66 (BatchNo (None, 128, 128, 20) 80          conv2d_99[0][0]                  \n",
      "__________________________________________________________________________________________________\n",
      "activation_2 (Activation)       (None, 128, 128, 20) 0           batch_normalization_66[0][0]     \n",
      "__________________________________________________________________________________________________\n",
      "max_pooling2d_5 (MaxPooling2D)  (None, 64, 64, 20)   0           activation_2[0][0]               \n",
      "__________________________________________________________________________________________________\n",
      "conv2d_100 (Conv2D)             (None, 64, 64, 40)   7240        max_pooling2d_5[0][0]            \n",
      "__________________________________________________________________________________________________\n",
      "batch_normalization_67 (BatchNo (None, 64, 64, 40)   160         conv2d_100[0][0]                 \n",
      "__________________________________________________________________________________________________\n",
      "activation_3 (Activation)       (None, 64, 64, 40)   0           batch_normalization_67[0][0]     \n",
      "__________________________________________________________________________________________________\n",
      "max_pooling2d_6 (MaxPooling2D)  (None, 32, 32, 40)   0           activation_3[0][0]               \n",
      "__________________________________________________________________________________________________\n",
      "conv2d_101 (Conv2D)             (None, 32, 32, 80)   28880       max_pooling2d_6[0][0]            \n",
      "__________________________________________________________________________________________________\n",
      "batch_normalization_68 (BatchNo (None, 32, 32, 80)   320         conv2d_101[0][0]                 \n",
      "__________________________________________________________________________________________________\n",
      "activation_4 (Activation)       (None, 32, 32, 80)   0           batch_normalization_68[0][0]     \n",
      "__________________________________________________________________________________________________\n",
      "max_pooling2d_7 (MaxPooling2D)  (None, 16, 16, 80)   0           activation_4[0][0]               \n",
      "__________________________________________________________________________________________________\n",
      "conv2d_102 (Conv2D)             (None, 16, 16, 160)  115360      max_pooling2d_7[0][0]            \n",
      "__________________________________________________________________________________________________\n",
      "batch_normalization_69 (BatchNo (None, 16, 16, 160)  640         conv2d_102[0][0]                 \n",
      "__________________________________________________________________________________________________\n",
      "activation_5 (Activation)       (None, 16, 16, 160)  0           batch_normalization_69[0][0]     \n",
      "__________________________________________________________________________________________________\n",
      "input_8 (InputLayer)            (None, 1, 1, 1)      0                                            \n",
      "__________________________________________________________________________________________________\n",
      "max_pooling2d_8 (MaxPooling2D)  (None, 8, 8, 160)    0           activation_5[0][0]               \n",
      "__________________________________________________________________________________________________\n",
      "lambda_4 (Lambda)               (None, 8, 8, 1)      0           input_8[0][0]                    \n",
      "__________________________________________________________________________________________________\n",
      "concatenate_18 (Concatenate)    (None, 8, 8, 161)    0           max_pooling2d_8[0][0]            \n",
      "                                                                 lambda_4[0][0]                   \n",
      "__________________________________________________________________________________________________\n",
      "conv2d_103 (Conv2D)             (None, 8, 8, 160)    232000      concatenate_18[0][0]             \n",
      "__________________________________________________________________________________________________\n",
      "batch_normalization_70 (BatchNo (None, 8, 8, 160)    640         conv2d_103[0][0]                 \n",
      "__________________________________________________________________________________________________\n",
      "activation_6 (Activation)       (None, 8, 8, 160)    0           batch_normalization_70[0][0]     \n",
      "__________________________________________________________________________________________________\n",
      "conv2d_transpose_5 (Conv2DTrans (None, 16, 16, 160)  102560      activation_6[0][0]               \n",
      "__________________________________________________________________________________________________\n",
      "batch_normalization_71 (BatchNo (None, 16, 16, 160)  640         conv2d_transpose_5[0][0]         \n",
      "__________________________________________________________________________________________________\n",
      "concatenate_19 (Concatenate)    (None, 16, 16, 320)  0           batch_normalization_71[0][0]     \n",
      "                                                                 activation_5[0][0]               \n",
      "__________________________________________________________________________________________________\n",
      "conv2d_104 (Conv2D)             (None, 16, 16, 160)  460960      concatenate_19[0][0]             \n",
      "__________________________________________________________________________________________________\n",
      "batch_normalization_72 (BatchNo (None, 16, 16, 160)  640         conv2d_104[0][0]                 \n",
      "__________________________________________________________________________________________________\n",
      "activation_7 (Activation)       (None, 16, 16, 160)  0           batch_normalization_72[0][0]     \n",
      "__________________________________________________________________________________________________\n",
      "conv2d_transpose_6 (Conv2DTrans (None, 32, 32, 80)   51280       activation_7[0][0]               \n",
      "__________________________________________________________________________________________________\n",
      "batch_normalization_73 (BatchNo (None, 32, 32, 80)   320         conv2d_transpose_6[0][0]         \n",
      "__________________________________________________________________________________________________\n",
      "concatenate_20 (Concatenate)    (None, 32, 32, 160)  0           batch_normalization_73[0][0]     \n",
      "                                                                 activation_4[0][0]               \n",
      "__________________________________________________________________________________________________\n",
      "conv2d_105 (Conv2D)             (None, 32, 32, 80)   115280      concatenate_20[0][0]             \n",
      "__________________________________________________________________________________________________\n",
      "batch_normalization_74 (BatchNo (None, 32, 32, 80)   320         conv2d_105[0][0]                 \n",
      "__________________________________________________________________________________________________\n",
      "activation_8 (Activation)       (None, 32, 32, 80)   0           batch_normalization_74[0][0]     \n",
      "__________________________________________________________________________________________________\n",
      "conv2d_transpose_7 (Conv2DTrans (None, 64, 64, 40)   12840       activation_8[0][0]               \n",
      "__________________________________________________________________________________________________\n",
      "batch_normalization_75 (BatchNo (None, 64, 64, 40)   160         conv2d_transpose_7[0][0]         \n",
      "__________________________________________________________________________________________________\n",
      "concatenate_21 (Concatenate)    (None, 64, 64, 80)   0           batch_normalization_75[0][0]     \n",
      "                                                                 activation_3[0][0]               \n",
      "__________________________________________________________________________________________________\n",
      "conv2d_106 (Conv2D)             (None, 64, 64, 40)   28840       concatenate_21[0][0]             \n",
      "__________________________________________________________________________________________________\n",
      "batch_normalization_76 (BatchNo (None, 64, 64, 40)   160         conv2d_106[0][0]                 \n",
      "__________________________________________________________________________________________________\n",
      "activation_9 (Activation)       (None, 64, 64, 40)   0           batch_normalization_76[0][0]     \n",
      "__________________________________________________________________________________________________\n",
      "conv2d_transpose_8 (Conv2DTrans (None, 128, 128, 20) 3220        activation_9[0][0]               \n",
      "__________________________________________________________________________________________________\n",
      "batch_normalization_77 (BatchNo (None, 128, 128, 20) 80          conv2d_transpose_8[0][0]         \n",
      "__________________________________________________________________________________________________\n",
      "concatenate_22 (Concatenate)    (None, 128, 128, 40) 0           batch_normalization_77[0][0]     \n",
      "                                                                 activation_2[0][0]               \n",
      "__________________________________________________________________________________________________\n",
      "conv2d_107 (Conv2D)             (None, 128, 128, 20) 7220        concatenate_22[0][0]             \n",
      "__________________________________________________________________________________________________\n",
      "batch_normalization_78 (BatchNo (None, 128, 128, 20) 80          conv2d_107[0][0]                 \n",
      "__________________________________________________________________________________________________\n",
      "activation_10 (Activation)      (None, 128, 128, 20) 0           batch_normalization_78[0][0]     \n",
      "__________________________________________________________________________________________________\n",
      "conv2d_108 (Conv2D)             (None, 128, 128, 10) 1810        activation_10[0][0]              \n",
      "__________________________________________________________________________________________________\n",
      "batch_normalization_79 (BatchNo (None, 128, 128, 10) 40          conv2d_108[0][0]                 \n",
      "__________________________________________________________________________________________________\n",
      "activation_11 (Activation)      (None, 128, 128, 10) 0           batch_normalization_79[0][0]     \n",
      "__________________________________________________________________________________________________\n",
      "conv2d_109 (Conv2D)             (None, 128, 128, 10) 910         activation_11[0][0]              \n",
      "__________________________________________________________________________________________________\n",
      "batch_normalization_80 (BatchNo (None, 128, 128, 10) 40          conv2d_109[0][0]                 \n",
      "__________________________________________________________________________________________________\n",
      "activation_12 (Activation)      (None, 128, 128, 10) 0           batch_normalization_80[0][0]     \n",
      "__________________________________________________________________________________________________\n",
      "conv2d_110 (Conv2D)             (None, 128, 128, 1)  11          activation_12[0][0]              \n",
      "==================================================================================================\n",
      "Total params: 1,174,691\n",
      "Trainable params: 1,172,511\n",
      "Non-trainable params: 2,180\n",
      "__________________________________________________________________________________________________\n"
     ]
    }
   ],
   "source": [
    "unet.summary()"
   ]
  },
  {
   "cell_type": "markdown",
   "metadata": {
    "colab_type": "text",
    "id": "CT0_7k0iW5bh"
   },
   "source": [
    "# Training"
   ]
  },
  {
   "cell_type": "code",
   "execution_count": 45,
   "metadata": {
    "colab": {},
    "colab_type": "code",
    "id": "V6zDpL9pTNb4"
   },
   "outputs": [],
   "source": [
    "import math\n",
    "from keras.callbacks import EarlyStopping, ModelCheckpoint, LearningRateScheduler\n",
    "def step_decay(epoch):\n",
    "    initial_lrate = 0.0032\n",
    "    drop = 0.945\n",
    "    epochs_drop = 5.0\n",
    "    lrate = initial_lrate * math.pow(drop,  \n",
    "            math.floor((1+epoch)/epochs_drop))\n",
    "    \n",
    "    if (lrate < 4e-5):\n",
    "        lrate = 4e-5\n",
    "      \n",
    "    print('Changing learning rate to {}'.format(lrate))\n",
    "    return lrate\n",
    "lrate = LearningRateScheduler(step_decay)"
   ]
  },
  {
   "cell_type": "code",
   "execution_count": 46,
   "metadata": {
    "colab": {
     "base_uri": "https://localhost:8080/",
     "height": 3179
    },
    "colab_type": "code",
    "id": "dyt7eewqDTIk",
    "outputId": "fd7ee0f3-d0c9-4b50-e00a-445bfe2d98b6",
    "scrolled": true
   },
   "outputs": [
    {
     "name": "stdout",
     "output_type": "stream",
     "text": [
      "Epoch 1/200\n",
      "Changing learning rate to 0.00032\n",
      "123/122 [==============================] - 31s 253ms/step - loss: 0.0116 - mean_iou: 0.8573 - val_loss: 0.0219 - val_mean_iou: 0.8578\n",
      "\n",
      "Epoch 00001: val_loss improved from inf to 0.02188, saving model to model-tgs-salt-1.h5\n",
      "Epoch 2/200\n",
      "Changing learning rate to 0.00032\n",
      "123/122 [==============================] - 31s 252ms/step - loss: 0.0113 - mean_iou: 0.8582 - val_loss: 0.0207 - val_mean_iou: 0.8586\n",
      "\n",
      "Epoch 00002: val_loss improved from 0.02188 to 0.02065, saving model to model-tgs-salt-1.h5\n",
      "Epoch 3/200\n",
      "Changing learning rate to 0.00032\n",
      "123/122 [==============================] - 31s 254ms/step - loss: 0.0109 - mean_iou: 0.8590 - val_loss: 0.0214 - val_mean_iou: 0.8594\n",
      "\n",
      "Epoch 00003: val_loss did not improve from 0.02065\n",
      "Epoch 4/200\n",
      "Changing learning rate to 0.00032\n",
      "123/122 [==============================] - 31s 254ms/step - loss: 0.0111 - mean_iou: 0.8598 - val_loss: 0.0227 - val_mean_iou: 0.8602\n",
      "\n",
      "Epoch 00004: val_loss did not improve from 0.02065\n",
      "Epoch 5/200\n",
      "Changing learning rate to 0.00030240000000000003\n",
      "123/122 [==============================] - 31s 254ms/step - loss: 0.0109 - mean_iou: 0.8606 - val_loss: 0.0234 - val_mean_iou: 0.8610\n",
      "\n",
      "Epoch 00005: val_loss did not improve from 0.02065\n",
      "Epoch 6/200\n",
      "Changing learning rate to 0.00030240000000000003\n",
      "123/122 [==============================] - 31s 254ms/step - loss: 0.0109 - mean_iou: 0.8614 - val_loss: 0.0226 - val_mean_iou: 0.8618\n",
      "\n",
      "Epoch 00006: val_loss did not improve from 0.02065\n",
      "Epoch 7/200\n",
      "Changing learning rate to 0.00030240000000000003\n",
      "123/122 [==============================] - 31s 254ms/step - loss: 0.0107 - mean_iou: 0.8622 - val_loss: 0.0226 - val_mean_iou: 0.8626\n",
      "\n",
      "Epoch 00007: val_loss did not improve from 0.02065\n",
      "Epoch 8/200\n",
      "Changing learning rate to 0.00030240000000000003\n",
      "123/122 [==============================] - 31s 254ms/step - loss: 0.0104 - mean_iou: 0.8630 - val_loss: 0.0214 - val_mean_iou: 0.8634\n",
      "\n",
      "Epoch 00008: val_loss did not improve from 0.02065\n",
      "Epoch 9/200\n",
      "Changing learning rate to 0.00030240000000000003\n",
      "123/122 [==============================] - 31s 254ms/step - loss: 0.0113 - mean_iou: 0.8637 - val_loss: 0.0221 - val_mean_iou: 0.8641\n",
      "\n",
      "Epoch 00009: val_loss did not improve from 0.02065\n",
      "Epoch 10/200\n",
      "Changing learning rate to 0.000285768\n",
      "123/122 [==============================] - 31s 253ms/step - loss: 0.0100 - mean_iou: 0.8645 - val_loss: 0.0228 - val_mean_iou: 0.8649\n",
      "\n",
      "Epoch 00010: val_loss did not improve from 0.02065\n",
      "Epoch 11/200\n",
      "Changing learning rate to 0.000285768\n",
      "123/122 [==============================] - 31s 255ms/step - loss: 0.0106 - mean_iou: 0.8652 - val_loss: 0.0216 - val_mean_iou: 0.8656\n",
      "\n",
      "Epoch 00011: val_loss did not improve from 0.02065\n",
      "Epoch 12/200\n",
      "Changing learning rate to 0.000285768\n",
      "123/122 [==============================] - 31s 252ms/step - loss: 0.0100 - mean_iou: 0.8660 - val_loss: 0.0237 - val_mean_iou: 0.8663\n",
      "\n",
      "Epoch 00012: val_loss did not improve from 0.02065\n",
      "Epoch 13/200\n",
      "Changing learning rate to 0.000285768\n",
      "123/122 [==============================] - 31s 254ms/step - loss: 0.0105 - mean_iou: 0.8667 - val_loss: 0.0208 - val_mean_iou: 0.8670\n",
      "\n",
      "Epoch 00013: val_loss did not improve from 0.02065\n",
      "Epoch 14/200\n",
      "Changing learning rate to 0.000285768\n",
      "123/122 [==============================] - 31s 253ms/step - loss: 0.0106 - mean_iou: 0.8673 - val_loss: 0.0225 - val_mean_iou: 0.8677\n",
      "\n",
      "Epoch 00014: val_loss did not improve from 0.02065\n",
      "Epoch 15/200\n",
      "Changing learning rate to 0.00027005076\n",
      "123/122 [==============================] - 31s 254ms/step - loss: 0.0103 - mean_iou: 0.8680 - val_loss: 0.0216 - val_mean_iou: 0.8684\n",
      "\n",
      "Epoch 00015: val_loss did not improve from 0.02065\n",
      "Epoch 16/200\n",
      "Changing learning rate to 0.00027005076\n",
      "123/122 [==============================] - 31s 254ms/step - loss: 0.0099 - mean_iou: 0.8687 - val_loss: 0.0228 - val_mean_iou: 0.8690\n",
      "\n",
      "Epoch 00016: val_loss did not improve from 0.02065\n",
      "Epoch 17/200\n",
      "Changing learning rate to 0.00027005076\n",
      "123/122 [==============================] - 31s 253ms/step - loss: 0.0103 - mean_iou: 0.8694 - val_loss: 0.0209 - val_mean_iou: 0.8697\n",
      "\n",
      "Epoch 00017: val_loss did not improve from 0.02065\n",
      "Epoch 18/200\n",
      "Changing learning rate to 0.00027005076\n",
      "123/122 [==============================] - 31s 254ms/step - loss: 0.0098 - mean_iou: 0.8700 - val_loss: 0.0217 - val_mean_iou: 0.8703\n",
      "\n",
      "Epoch 00018: val_loss did not improve from 0.02065\n",
      "Epoch 19/200\n",
      "Changing learning rate to 0.00027005076\n",
      "123/122 [==============================] - 31s 254ms/step - loss: 0.0106 - mean_iou: 0.8706 - val_loss: 0.0229 - val_mean_iou: 0.8710\n",
      "\n",
      "Epoch 00019: val_loss did not improve from 0.02065\n",
      "Epoch 20/200\n",
      "Changing learning rate to 0.00025519796819999997\n",
      "123/122 [==============================] - 31s 254ms/step - loss: 0.0102 - mean_iou: 0.8713 - val_loss: 0.0227 - val_mean_iou: 0.8716\n",
      "\n",
      "Epoch 00020: val_loss did not improve from 0.02065\n",
      "Epoch 21/200\n",
      "Changing learning rate to 0.00025519796819999997\n",
      "123/122 [==============================] - 31s 252ms/step - loss: 0.0098 - mean_iou: 0.8719 - val_loss: 0.0226 - val_mean_iou: 0.8722\n",
      "\n",
      "Epoch 00021: val_loss did not improve from 0.02065\n",
      "Epoch 22/200\n",
      "Changing learning rate to 0.00025519796819999997\n",
      "123/122 [==============================] - 31s 253ms/step - loss: 0.0096 - mean_iou: 0.8725 - val_loss: 0.0229 - val_mean_iou: 0.8728\n",
      "\n",
      "Epoch 00022: val_loss did not improve from 0.02065\n",
      "Epoch 23/200\n",
      "Changing learning rate to 0.00025519796819999997\n",
      "123/122 [==============================] - 31s 253ms/step - loss: 0.0097 - mean_iou: 0.8731 - val_loss: 0.0224 - val_mean_iou: 0.8734\n",
      "\n",
      "Epoch 00023: val_loss did not improve from 0.02065\n",
      "Epoch 24/200\n",
      "Changing learning rate to 0.00025519796819999997\n",
      "123/122 [==============================] - 31s 252ms/step - loss: 0.0096 - mean_iou: 0.8737 - val_loss: 0.0219 - val_mean_iou: 0.8740\n",
      "\n",
      "Epoch 00024: val_loss did not improve from 0.02065\n",
      "Epoch 25/200\n",
      "Changing learning rate to 0.00024116207994899995\n",
      "123/122 [==============================] - 31s 251ms/step - loss: 0.0094 - mean_iou: 0.8743 - val_loss: 0.0218 - val_mean_iou: 0.8746\n",
      "\n",
      "Epoch 00025: val_loss did not improve from 0.02065\n",
      "Epoch 26/200\n",
      "Changing learning rate to 0.00024116207994899995\n",
      "123/122 [==============================] - 31s 249ms/step - loss: 0.0097 - mean_iou: 0.8749 - val_loss: 0.0221 - val_mean_iou: 0.8752\n",
      "\n",
      "Epoch 00026: val_loss did not improve from 0.02065\n",
      "Epoch 27/200\n",
      "Changing learning rate to 0.00024116207994899995\n",
      "123/122 [==============================] - 31s 249ms/step - loss: 0.0101 - mean_iou: 0.8755 - val_loss: 0.0217 - val_mean_iou: 0.8757\n",
      "\n",
      "Epoch 00027: val_loss did not improve from 0.02065\n",
      "Epoch 28/200\n",
      "Changing learning rate to 0.00024116207994899995\n",
      "123/122 [==============================] - 31s 248ms/step - loss: 0.0090 - mean_iou: 0.8760 - val_loss: 0.0204 - val_mean_iou: 0.8763\n",
      "\n",
      "Epoch 00028: val_loss improved from 0.02065 to 0.02042, saving model to model-tgs-salt-1.h5\n",
      "Epoch 29/200\n",
      "Changing learning rate to 0.00024116207994899995\n",
      "123/122 [==============================] - 31s 249ms/step - loss: 0.0097 - mean_iou: 0.8766 - val_loss: 0.0209 - val_mean_iou: 0.8768\n",
      "\n",
      "Epoch 00029: val_loss did not improve from 0.02042\n",
      "Epoch 30/200\n",
      "Changing learning rate to 0.00022789816555180496\n",
      "123/122 [==============================] - 31s 249ms/step - loss: 0.0095 - mean_iou: 0.8771 - val_loss: 0.0211 - val_mean_iou: 0.8774\n",
      "\n",
      "Epoch 00030: val_loss did not improve from 0.02042\n",
      "Epoch 31/200\n",
      "Changing learning rate to 0.00022789816555180496\n",
      "123/122 [==============================] - 31s 250ms/step - loss: 0.0095 - mean_iou: 0.8777 - val_loss: 0.0223 - val_mean_iou: 0.8779\n",
      "\n",
      "Epoch 00031: val_loss did not improve from 0.02042\n",
      "Epoch 32/200\n",
      "Changing learning rate to 0.00022789816555180496\n",
      "123/122 [==============================] - 31s 249ms/step - loss: 0.0089 - mean_iou: 0.8782 - val_loss: 0.0221 - val_mean_iou: 0.8785\n",
      "\n",
      "Epoch 00032: val_loss did not improve from 0.02042\n",
      "Epoch 33/200\n",
      "Changing learning rate to 0.00022789816555180496\n",
      "123/122 [==============================] - 31s 250ms/step - loss: 0.0092 - mean_iou: 0.8787 - val_loss: 0.0213 - val_mean_iou: 0.8790\n",
      "\n",
      "Epoch 00033: val_loss did not improve from 0.02042\n",
      "Epoch 34/200\n",
      "Changing learning rate to 0.00022789816555180496\n"
     ]
    },
    {
     "name": "stdout",
     "output_type": "stream",
     "text": [
      "123/122 [==============================] - 31s 250ms/step - loss: 0.0088 - mean_iou: 0.8793 - val_loss: 0.0209 - val_mean_iou: 0.8795\n",
      "\n",
      "Epoch 00034: val_loss did not improve from 0.02042\n",
      "Epoch 35/200\n",
      "Changing learning rate to 0.00021536376644645566\n",
      "123/122 [==============================] - 31s 249ms/step - loss: 0.0091 - mean_iou: 0.8798 - val_loss: 0.0211 - val_mean_iou: 0.8800\n",
      "\n",
      "Epoch 00035: val_loss did not improve from 0.02042\n",
      "Epoch 36/200\n",
      "Changing learning rate to 0.00021536376644645566\n",
      "123/122 [==============================] - 31s 250ms/step - loss: 0.0092 - mean_iou: 0.8803 - val_loss: 0.0220 - val_mean_iou: 0.8806\n",
      "\n",
      "Epoch 00036: val_loss did not improve from 0.02042\n",
      "Epoch 37/200\n",
      "Changing learning rate to 0.00021536376644645566\n",
      "123/122 [==============================] - 31s 250ms/step - loss: 0.0087 - mean_iou: 0.8808 - val_loss: 0.0239 - val_mean_iou: 0.8811\n",
      "\n",
      "Epoch 00037: val_loss did not improve from 0.02042\n",
      "Epoch 38/200\n",
      "Changing learning rate to 0.00021536376644645566\n",
      "123/122 [==============================] - 31s 248ms/step - loss: 0.0091 - mean_iou: 0.8813 - val_loss: 0.0235 - val_mean_iou: 0.8816\n",
      "\n",
      "Epoch 00038: val_loss did not improve from 0.02042\n",
      "Epoch 39/200\n",
      "Changing learning rate to 0.00021536376644645566\n",
      "123/122 [==============================] - 31s 248ms/step - loss: 0.0091 - mean_iou: 0.8818 - val_loss: 0.0230 - val_mean_iou: 0.8820\n",
      "\n",
      "Epoch 00039: val_loss did not improve from 0.02042\n",
      "Epoch 40/200\n",
      "Changing learning rate to 0.0002035187592919006\n",
      "123/122 [==============================] - 31s 249ms/step - loss: 0.0088 - mean_iou: 0.8823 - val_loss: 0.0229 - val_mean_iou: 0.8825\n",
      "\n",
      "Epoch 00040: val_loss did not improve from 0.02042\n",
      "Epoch 41/200\n",
      "Changing learning rate to 0.0002035187592919006\n",
      "123/122 [==============================] - 31s 249ms/step - loss: 0.0087 - mean_iou: 0.8828 - val_loss: 0.0213 - val_mean_iou: 0.8830\n",
      "\n",
      "Epoch 00041: val_loss did not improve from 0.02042\n",
      "Epoch 42/200\n",
      "Changing learning rate to 0.0002035187592919006\n",
      "123/122 [==============================] - 31s 249ms/step - loss: 0.0087 - mean_iou: 0.8832 - val_loss: 0.0230 - val_mean_iou: 0.8835\n",
      "\n",
      "Epoch 00042: val_loss did not improve from 0.02042\n",
      "Epoch 43/200\n",
      "Changing learning rate to 0.0002035187592919006\n",
      "123/122 [==============================] - 31s 249ms/step - loss: 0.0089 - mean_iou: 0.8837 - val_loss: 0.0221 - val_mean_iou: 0.8840\n",
      "\n",
      "Epoch 00043: val_loss did not improve from 0.02042\n",
      "Epoch 44/200\n",
      "Changing learning rate to 0.0002035187592919006\n",
      "123/122 [==============================] - 31s 249ms/step - loss: 0.0085 - mean_iou: 0.8842 - val_loss: 0.0217 - val_mean_iou: 0.8844\n",
      "\n",
      "Epoch 00044: val_loss did not improve from 0.02042\n",
      "Epoch 45/200\n",
      "Changing learning rate to 0.00019232522753084602\n",
      "123/122 [==============================] - 31s 249ms/step - loss: 0.0088 - mean_iou: 0.8846 - val_loss: 0.0217 - val_mean_iou: 0.8849\n",
      "\n",
      "Epoch 00045: val_loss did not improve from 0.02042\n",
      "Epoch 46/200\n",
      "Changing learning rate to 0.00019232522753084602\n",
      "123/122 [==============================] - 30s 248ms/step - loss: 0.0087 - mean_iou: 0.8851 - val_loss: 0.0219 - val_mean_iou: 0.8853\n",
      "\n",
      "Epoch 00046: val_loss did not improve from 0.02042\n",
      "Epoch 47/200\n",
      "Changing learning rate to 0.00019232522753084602\n",
      "123/122 [==============================] - 31s 249ms/step - loss: 0.0093 - mean_iou: 0.8855 - val_loss: 0.0217 - val_mean_iou: 0.8857\n",
      "\n",
      "Epoch 00047: val_loss did not improve from 0.02042\n",
      "Epoch 48/200\n",
      "Changing learning rate to 0.00019232522753084602\n",
      "123/122 [==============================] - 31s 250ms/step - loss: 0.0082 - mean_iou: 0.8860 - val_loss: 0.0222 - val_mean_iou: 0.8862\n",
      "\n",
      "Epoch 00048: val_loss did not improve from 0.02042\n",
      "Epoch 49/200\n",
      "Changing learning rate to 0.00019232522753084602\n",
      "123/122 [==============================] - 31s 249ms/step - loss: 0.0087 - mean_iou: 0.8864 - val_loss: 0.0225 - val_mean_iou: 0.8866\n",
      "\n",
      "Epoch 00049: val_loss did not improve from 0.02042\n",
      "Epoch 50/200\n",
      "Changing learning rate to 0.0001817473400166495\n",
      "123/122 [==============================] - 31s 249ms/step - loss: 0.0083 - mean_iou: 0.8868 - val_loss: 0.0218 - val_mean_iou: 0.8871\n",
      "\n",
      "Epoch 00050: val_loss did not improve from 0.02042\n",
      "Epoch 51/200\n",
      "Changing learning rate to 0.0001817473400166495\n",
      "123/122 [==============================] - 31s 249ms/step - loss: 0.0092 - mean_iou: 0.8872 - val_loss: 0.0221 - val_mean_iou: 0.8875\n",
      "\n",
      "Epoch 00051: val_loss did not improve from 0.02042\n",
      "Epoch 52/200\n",
      "Changing learning rate to 0.0001817473400166495\n",
      "123/122 [==============================] - 31s 252ms/step - loss: 0.0081 - mean_iou: 0.8877 - val_loss: 0.0215 - val_mean_iou: 0.8879\n",
      "\n",
      "Epoch 00052: val_loss did not improve from 0.02042\n",
      "Epoch 53/200\n",
      "Changing learning rate to 0.0001817473400166495\n",
      "123/122 [==============================] - 31s 253ms/step - loss: 0.0082 - mean_iou: 0.8881 - val_loss: 0.0219 - val_mean_iou: 0.8883\n",
      "\n",
      "Epoch 00053: val_loss did not improve from 0.02042\n",
      "Epoch 54/200\n",
      "Changing learning rate to 0.0001817473400166495\n",
      "123/122 [==============================] - 31s 254ms/step - loss: 0.0084 - mean_iou: 0.8885 - val_loss: 0.0225 - val_mean_iou: 0.8887\n",
      "\n",
      "Epoch 00054: val_loss did not improve from 0.02042\n",
      "Epoch 55/200\n",
      "Changing learning rate to 0.0001717512363157338\n",
      "123/122 [==============================] - 31s 255ms/step - loss: 0.0083 - mean_iou: 0.8889 - val_loss: 0.0223 - val_mean_iou: 0.8891\n",
      "\n",
      "Epoch 00055: val_loss did not improve from 0.02042\n",
      "Epoch 56/200\n",
      "Changing learning rate to 0.0001717512363157338\n",
      "123/122 [==============================] - 31s 254ms/step - loss: 0.0082 - mean_iou: 0.8893 - val_loss: 0.0232 - val_mean_iou: 0.8895\n",
      "\n",
      "Epoch 00056: val_loss did not improve from 0.02042\n",
      "Epoch 57/200\n",
      "Changing learning rate to 0.0001717512363157338\n",
      "123/122 [==============================] - 31s 254ms/step - loss: 0.0083 - mean_iou: 0.8897 - val_loss: 0.0226 - val_mean_iou: 0.8899\n",
      "\n",
      "Epoch 00057: val_loss did not improve from 0.02042\n",
      "Epoch 58/200\n",
      "Changing learning rate to 0.0001717512363157338\n",
      "123/122 [==============================] - 31s 254ms/step - loss: 0.0086 - mean_iou: 0.8901 - val_loss: 0.0241 - val_mean_iou: 0.8903\n",
      "\n",
      "Epoch 00058: val_loss did not improve from 0.02042\n",
      "Epoch 59/200\n",
      "Changing learning rate to 0.0001717512363157338\n",
      "123/122 [==============================] - 31s 255ms/step - loss: 0.0083 - mean_iou: 0.8905 - val_loss: 0.0230 - val_mean_iou: 0.8907\n",
      "\n",
      "Epoch 00059: val_loss did not improve from 0.02042\n",
      "Epoch 60/200\n",
      "Changing learning rate to 0.00016230491831836842\n",
      "123/122 [==============================] - 31s 254ms/step - loss: 0.0080 - mean_iou: 0.8909 - val_loss: 0.0227 - val_mean_iou: 0.8911\n",
      "\n",
      "Epoch 00060: val_loss did not improve from 0.02042\n",
      "Epoch 61/200\n",
      "Changing learning rate to 0.00016230491831836842\n",
      "123/122 [==============================] - 31s 254ms/step - loss: 0.0081 - mean_iou: 0.8912 - val_loss: 0.0224 - val_mean_iou: 0.8914\n",
      "\n",
      "Epoch 00061: val_loss did not improve from 0.02042\n",
      "Epoch 62/200\n",
      "Changing learning rate to 0.00016230491831836842\n",
      "123/122 [==============================] - 31s 253ms/step - loss: 0.0079 - mean_iou: 0.8916 - val_loss: 0.0230 - val_mean_iou: 0.8918\n",
      "\n",
      "Epoch 00062: val_loss did not improve from 0.02042\n",
      "Epoch 63/200\n",
      "Changing learning rate to 0.00016230491831836842\n",
      "123/122 [==============================] - 31s 254ms/step - loss: 0.0079 - mean_iou: 0.8920 - val_loss: 0.0229 - val_mean_iou: 0.8922\n",
      "\n",
      "Epoch 00063: val_loss did not improve from 0.02042\n",
      "Epoch 64/200\n",
      "Changing learning rate to 0.00016230491831836842\n",
      "123/122 [==============================] - 31s 253ms/step - loss: 0.0087 - mean_iou: 0.8924 - val_loss: 0.0233 - val_mean_iou: 0.8925\n",
      "\n",
      "Epoch 00064: val_loss did not improve from 0.02042\n",
      "Epoch 65/200\n",
      "Changing learning rate to 0.00015337814781085814\n",
      "123/122 [==============================] - 31s 254ms/step - loss: 0.0081 - mean_iou: 0.8927 - val_loss: 0.0234 - val_mean_iou: 0.8929\n",
      "\n",
      "Epoch 00065: val_loss did not improve from 0.02042\n",
      "Epoch 66/200\n",
      "Changing learning rate to 0.00015337814781085814\n",
      "123/122 [==============================] - 31s 253ms/step - loss: 0.0076 - mean_iou: 0.8931 - val_loss: 0.0239 - val_mean_iou: 0.8933\n",
      "\n",
      "Epoch 00066: val_loss did not improve from 0.02042\n",
      "Epoch 67/200\n",
      "Changing learning rate to 0.00015337814781085814\n"
     ]
    },
    {
     "name": "stdout",
     "output_type": "stream",
     "text": [
      "123/122 [==============================] - 31s 254ms/step - loss: 0.0080 - mean_iou: 0.8934 - val_loss: 0.0217 - val_mean_iou: 0.8936\n",
      "\n",
      "Epoch 00067: val_loss did not improve from 0.02042\n",
      "Epoch 68/200\n",
      "Changing learning rate to 0.00015337814781085814\n",
      "123/122 [==============================] - 31s 253ms/step - loss: 0.0083 - mean_iou: 0.8938 - val_loss: 0.0231 - val_mean_iou: 0.8940\n",
      "\n",
      "Epoch 00068: val_loss did not improve from 0.02042\n",
      "Epoch 69/200\n",
      "Changing learning rate to 0.00015337814781085814\n",
      "123/122 [==============================] - 31s 254ms/step - loss: 0.0084 - mean_iou: 0.8941 - val_loss: 0.0234 - val_mean_iou: 0.8943\n",
      "\n",
      "Epoch 00069: val_loss did not improve from 0.02042\n",
      "Epoch 70/200\n",
      "Changing learning rate to 0.00014494234968126093\n",
      "123/122 [==============================] - 31s 254ms/step - loss: 0.0077 - mean_iou: 0.8945 - val_loss: 0.0233 - val_mean_iou: 0.8946\n",
      "\n",
      "Epoch 00070: val_loss did not improve from 0.02042\n",
      "Epoch 71/200\n",
      "Changing learning rate to 0.00014494234968126093\n",
      "123/122 [==============================] - 31s 253ms/step - loss: 0.0081 - mean_iou: 0.8948 - val_loss: 0.0238 - val_mean_iou: 0.8950\n",
      "\n",
      "Epoch 00071: val_loss did not improve from 0.02042\n",
      "Epoch 72/200\n",
      "Changing learning rate to 0.00014494234968126093\n",
      "123/122 [==============================] - 31s 255ms/step - loss: 0.0077 - mean_iou: 0.8951 - val_loss: 0.0233 - val_mean_iou: 0.8953\n",
      "\n",
      "Epoch 00072: val_loss did not improve from 0.02042\n",
      "Epoch 73/200\n",
      "Changing learning rate to 0.00014494234968126093\n",
      "123/122 [==============================] - 31s 254ms/step - loss: 0.0079 - mean_iou: 0.8955 - val_loss: 0.0234 - val_mean_iou: 0.8956\n",
      "\n",
      "Epoch 00073: val_loss did not improve from 0.02042\n",
      "Epoch 74/200\n",
      "Changing learning rate to 0.00014494234968126093\n",
      "123/122 [==============================] - 31s 253ms/step - loss: 0.0082 - mean_iou: 0.8958 - val_loss: 0.0230 - val_mean_iou: 0.8959\n",
      "\n",
      "Epoch 00074: val_loss did not improve from 0.02042\n",
      "Epoch 75/200\n",
      "Changing learning rate to 0.00013697052044879158\n",
      "123/122 [==============================] - 31s 253ms/step - loss: 0.0080 - mean_iou: 0.8961 - val_loss: 0.0225 - val_mean_iou: 0.8963\n",
      "\n",
      "Epoch 00075: val_loss did not improve from 0.02042\n",
      "Epoch 76/200\n",
      "Changing learning rate to 0.00013697052044879158\n",
      "123/122 [==============================] - 31s 254ms/step - loss: 0.0072 - mean_iou: 0.8964 - val_loss: 0.0229 - val_mean_iou: 0.8966\n",
      "\n",
      "Epoch 00076: val_loss did not improve from 0.02042\n",
      "Epoch 77/200\n",
      "Changing learning rate to 0.00013697052044879158\n",
      "123/122 [==============================] - 31s 255ms/step - loss: 0.0079 - mean_iou: 0.8968 - val_loss: 0.0226 - val_mean_iou: 0.8969\n",
      "\n",
      "Epoch 00077: val_loss did not improve from 0.02042\n",
      "Epoch 78/200\n",
      "Changing learning rate to 0.00013697052044879158\n",
      "123/122 [==============================] - 31s 254ms/step - loss: 0.0075 - mean_iou: 0.8971 - val_loss: 0.0226 - val_mean_iou: 0.8972\n",
      "\n",
      "Epoch 00078: val_loss did not improve from 0.02042\n",
      "Epoch 79/200\n",
      "Changing learning rate to 0.00013697052044879158\n",
      "123/122 [==============================] - 31s 254ms/step - loss: 0.0081 - mean_iou: 0.8974 - val_loss: 0.0226 - val_mean_iou: 0.8975\n",
      "\n",
      "Epoch 00079: val_loss did not improve from 0.02042\n",
      "Epoch 80/200\n",
      "Changing learning rate to 0.00012943714182410803\n",
      "123/122 [==============================] - 31s 253ms/step - loss: 0.0077 - mean_iou: 0.8977 - val_loss: 0.0234 - val_mean_iou: 0.8979\n",
      "\n",
      "Epoch 00080: val_loss did not improve from 0.02042\n",
      "Epoch 81/200\n",
      "Changing learning rate to 0.00012943714182410803\n",
      "123/122 [==============================] - 31s 254ms/step - loss: 0.0082 - mean_iou: 0.8980 - val_loss: 0.0225 - val_mean_iou: 0.8981\n",
      "\n",
      "Epoch 00081: val_loss did not improve from 0.02042\n",
      "Epoch 82/200\n",
      "Changing learning rate to 0.00012943714182410803\n",
      "123/122 [==============================] - 31s 254ms/step - loss: 0.0075 - mean_iou: 0.8983 - val_loss: 0.0230 - val_mean_iou: 0.8984\n",
      "\n",
      "Epoch 00082: val_loss did not improve from 0.02042\n",
      "Epoch 83/200\n",
      "Changing learning rate to 0.00012943714182410803\n",
      "123/122 [==============================] - 31s 255ms/step - loss: 0.0077 - mean_iou: 0.8986 - val_loss: 0.0226 - val_mean_iou: 0.8987\n",
      "\n",
      "Epoch 00083: val_loss did not improve from 0.02042\n",
      "Epoch 84/200\n",
      "Changing learning rate to 0.00012943714182410803\n",
      "123/122 [==============================] - 31s 254ms/step - loss: 0.0077 - mean_iou: 0.8989 - val_loss: 0.0230 - val_mean_iou: 0.8990\n",
      "\n",
      "Epoch 00084: val_loss did not improve from 0.02042\n",
      "Epoch 85/200\n",
      "Changing learning rate to 0.0001223180990237821\n",
      "123/122 [==============================] - 31s 254ms/step - loss: 0.0073 - mean_iou: 0.8992 - val_loss: 0.0231 - val_mean_iou: 0.8993\n",
      "\n",
      "Epoch 00085: val_loss did not improve from 0.02042\n",
      "Epoch 86/200\n",
      "Changing learning rate to 0.0001223180990237821\n",
      "123/122 [==============================] - 31s 253ms/step - loss: 0.0076 - mean_iou: 0.8995 - val_loss: 0.0229 - val_mean_iou: 0.8996\n",
      "\n",
      "Epoch 00086: val_loss did not improve from 0.02042\n",
      "Epoch 87/200\n",
      "Changing learning rate to 0.0001223180990237821\n",
      "123/122 [==============================] - 31s 254ms/step - loss: 0.0075 - mean_iou: 0.8998 - val_loss: 0.0229 - val_mean_iou: 0.8999\n",
      "\n",
      "Epoch 00087: val_loss did not improve from 0.02042\n",
      "Epoch 88/200\n",
      "Changing learning rate to 0.0001223180990237821\n",
      "123/122 [==============================] - 31s 254ms/step - loss: 0.0075 - mean_iou: 0.9001 - val_loss: 0.0232 - val_mean_iou: 0.9002\n",
      "\n",
      "Epoch 00088: val_loss did not improve from 0.02042\n",
      "Epoch 89/200\n",
      "Changing learning rate to 0.0001223180990237821\n",
      "123/122 [==============================] - 31s 252ms/step - loss: 0.0072 - mean_iou: 0.9003 - val_loss: 0.0221 - val_mean_iou: 0.9005\n",
      "\n",
      "Epoch 00089: val_loss did not improve from 0.02042\n",
      "Epoch 90/200\n",
      "Changing learning rate to 0.00011559060357747406\n",
      "123/122 [==============================] - 31s 249ms/step - loss: 0.0075 - mean_iou: 0.9006 - val_loss: 0.0232 - val_mean_iou: 0.9008\n",
      "\n",
      "Epoch 00090: val_loss did not improve from 0.02042\n",
      "Epoch 91/200\n",
      "Changing learning rate to 0.00011559060357747406\n",
      "123/122 [==============================] - 31s 249ms/step - loss: 0.0078 - mean_iou: 0.9009 - val_loss: 0.0233 - val_mean_iou: 0.9011\n",
      "\n",
      "Epoch 00091: val_loss did not improve from 0.02042\n",
      "Epoch 92/200\n",
      "Changing learning rate to 0.00011559060357747406\n",
      "123/122 [==============================] - 31s 252ms/step - loss: 0.0076 - mean_iou: 0.9012 - val_loss: 0.0224 - val_mean_iou: 0.9013\n",
      "\n",
      "Epoch 00092: val_loss did not improve from 0.02042\n",
      "Epoch 93/200\n",
      "Changing learning rate to 0.00011559060357747406\n",
      "123/122 [==============================] - 31s 253ms/step - loss: 0.0075 - mean_iou: 0.9015 - val_loss: 0.0228 - val_mean_iou: 0.9016\n",
      "\n",
      "Epoch 00093: val_loss did not improve from 0.02042\n",
      "Epoch 94/200\n",
      "Changing learning rate to 0.00011559060357747406\n",
      "  8/122 [>.............................] - ETA: 28s - loss: 0.0070 - mean_iou: 0.9016"
     ]
    },
    {
     "ename": "KeyboardInterrupt",
     "evalue": "",
     "output_type": "error",
     "traceback": [
      "\u001b[0;31m---------------------------------------------------------------------------\u001b[0m",
      "\u001b[0;31mKeyboardInterrupt\u001b[0m                         Traceback (most recent call last)",
      "\u001b[0;32m<ipython-input-46-26c467aa95dc>\u001b[0m in \u001b[0;36m<module>\u001b[0;34m()\u001b[0m\n\u001b[1;32m      6\u001b[0m results = model.fit_generator(train_generator, epochs=200, steps_per_epoch=len(X_train0) / 32, \n\u001b[1;32m      7\u001b[0m                               \u001b[0mvalidation_data\u001b[0m\u001b[0;34m=\u001b[0m\u001b[0;34m(\u001b[0m \u001b[0;34m[\u001b[0m\u001b[0mX_val\u001b[0m\u001b[0;34m,\u001b[0m \u001b[0md_val\u001b[0m\u001b[0;34m]\u001b[0m\u001b[0;34m,\u001b[0m \u001b[0mY_val\u001b[0m\u001b[0;34m)\u001b[0m\u001b[0;34m,\u001b[0m\u001b[0;34m\u001b[0m\u001b[0m\n\u001b[0;32m----> 8\u001b[0;31m                               callbacks=[earlystopper, checkpointer, lrate])\n\u001b[0m",
      "\u001b[0;32m/anaconda/envs/py35/lib/python3.5/site-packages/keras/legacy/interfaces.py\u001b[0m in \u001b[0;36mwrapper\u001b[0;34m(*args, **kwargs)\u001b[0m\n\u001b[1;32m     89\u001b[0m                 warnings.warn('Update your `' + object_name +\n\u001b[1;32m     90\u001b[0m                               '` call to the Keras 2 API: ' + signature, stacklevel=2)\n\u001b[0;32m---> 91\u001b[0;31m             \u001b[0;32mreturn\u001b[0m \u001b[0mfunc\u001b[0m\u001b[0;34m(\u001b[0m\u001b[0;34m*\u001b[0m\u001b[0margs\u001b[0m\u001b[0;34m,\u001b[0m \u001b[0;34m**\u001b[0m\u001b[0mkwargs\u001b[0m\u001b[0;34m)\u001b[0m\u001b[0;34m\u001b[0m\u001b[0m\n\u001b[0m\u001b[1;32m     92\u001b[0m         \u001b[0mwrapper\u001b[0m\u001b[0;34m.\u001b[0m\u001b[0m_original_function\u001b[0m \u001b[0;34m=\u001b[0m \u001b[0mfunc\u001b[0m\u001b[0;34m\u001b[0m\u001b[0m\n\u001b[1;32m     93\u001b[0m         \u001b[0;32mreturn\u001b[0m \u001b[0mwrapper\u001b[0m\u001b[0;34m\u001b[0m\u001b[0m\n",
      "\u001b[0;32m/anaconda/envs/py35/lib/python3.5/site-packages/keras/engine/training.py\u001b[0m in \u001b[0;36mfit_generator\u001b[0;34m(self, generator, steps_per_epoch, epochs, verbose, callbacks, validation_data, validation_steps, class_weight, max_queue_size, workers, use_multiprocessing, shuffle, initial_epoch)\u001b[0m\n\u001b[1;32m   1424\u001b[0m             \u001b[0muse_multiprocessing\u001b[0m\u001b[0;34m=\u001b[0m\u001b[0muse_multiprocessing\u001b[0m\u001b[0;34m,\u001b[0m\u001b[0;34m\u001b[0m\u001b[0m\n\u001b[1;32m   1425\u001b[0m             \u001b[0mshuffle\u001b[0m\u001b[0;34m=\u001b[0m\u001b[0mshuffle\u001b[0m\u001b[0;34m,\u001b[0m\u001b[0;34m\u001b[0m\u001b[0m\n\u001b[0;32m-> 1426\u001b[0;31m             initial_epoch=initial_epoch)\n\u001b[0m\u001b[1;32m   1427\u001b[0m \u001b[0;34m\u001b[0m\u001b[0m\n\u001b[1;32m   1428\u001b[0m     \u001b[0;34m@\u001b[0m\u001b[0minterfaces\u001b[0m\u001b[0;34m.\u001b[0m\u001b[0mlegacy_generator_methods_support\u001b[0m\u001b[0;34m\u001b[0m\u001b[0m\n",
      "\u001b[0;32m/anaconda/envs/py35/lib/python3.5/site-packages/keras/engine/training_generator.py\u001b[0m in \u001b[0;36mfit_generator\u001b[0;34m(model, generator, steps_per_epoch, epochs, verbose, callbacks, validation_data, validation_steps, class_weight, max_queue_size, workers, use_multiprocessing, shuffle, initial_epoch)\u001b[0m\n\u001b[1;32m    189\u001b[0m                 outs = model.train_on_batch(x, y,\n\u001b[1;32m    190\u001b[0m                                             \u001b[0msample_weight\u001b[0m\u001b[0;34m=\u001b[0m\u001b[0msample_weight\u001b[0m\u001b[0;34m,\u001b[0m\u001b[0;34m\u001b[0m\u001b[0m\n\u001b[0;32m--> 191\u001b[0;31m                                             class_weight=class_weight)\n\u001b[0m\u001b[1;32m    192\u001b[0m \u001b[0;34m\u001b[0m\u001b[0m\n\u001b[1;32m    193\u001b[0m                 \u001b[0;32mif\u001b[0m \u001b[0;32mnot\u001b[0m \u001b[0misinstance\u001b[0m\u001b[0;34m(\u001b[0m\u001b[0mouts\u001b[0m\u001b[0;34m,\u001b[0m \u001b[0mlist\u001b[0m\u001b[0;34m)\u001b[0m\u001b[0;34m:\u001b[0m\u001b[0;34m\u001b[0m\u001b[0m\n",
      "\u001b[0;32m/anaconda/envs/py35/lib/python3.5/site-packages/keras/engine/training.py\u001b[0m in \u001b[0;36mtrain_on_batch\u001b[0;34m(self, x, y, sample_weight, class_weight)\u001b[0m\n\u001b[1;32m   1218\u001b[0m             \u001b[0mins\u001b[0m \u001b[0;34m=\u001b[0m \u001b[0mx\u001b[0m \u001b[0;34m+\u001b[0m \u001b[0my\u001b[0m \u001b[0;34m+\u001b[0m \u001b[0msample_weights\u001b[0m\u001b[0;34m\u001b[0m\u001b[0m\n\u001b[1;32m   1219\u001b[0m         \u001b[0mself\u001b[0m\u001b[0;34m.\u001b[0m\u001b[0m_make_train_function\u001b[0m\u001b[0;34m(\u001b[0m\u001b[0;34m)\u001b[0m\u001b[0;34m\u001b[0m\u001b[0m\n\u001b[0;32m-> 1220\u001b[0;31m         \u001b[0moutputs\u001b[0m \u001b[0;34m=\u001b[0m \u001b[0mself\u001b[0m\u001b[0;34m.\u001b[0m\u001b[0mtrain_function\u001b[0m\u001b[0;34m(\u001b[0m\u001b[0mins\u001b[0m\u001b[0;34m)\u001b[0m\u001b[0;34m\u001b[0m\u001b[0m\n\u001b[0m\u001b[1;32m   1221\u001b[0m         \u001b[0;32mif\u001b[0m \u001b[0mlen\u001b[0m\u001b[0;34m(\u001b[0m\u001b[0moutputs\u001b[0m\u001b[0;34m)\u001b[0m \u001b[0;34m==\u001b[0m \u001b[0;36m1\u001b[0m\u001b[0;34m:\u001b[0m\u001b[0;34m\u001b[0m\u001b[0m\n\u001b[1;32m   1222\u001b[0m             \u001b[0;32mreturn\u001b[0m \u001b[0moutputs\u001b[0m\u001b[0;34m[\u001b[0m\u001b[0;36m0\u001b[0m\u001b[0;34m]\u001b[0m\u001b[0;34m\u001b[0m\u001b[0m\n",
      "\u001b[0;32m/anaconda/envs/py35/lib/python3.5/site-packages/keras/backend/tensorflow_backend.py\u001b[0m in \u001b[0;36m__call__\u001b[0;34m(self, inputs)\u001b[0m\n\u001b[1;32m   2659\u001b[0m                 \u001b[0;32mreturn\u001b[0m \u001b[0mself\u001b[0m\u001b[0;34m.\u001b[0m\u001b[0m_legacy_call\u001b[0m\u001b[0;34m(\u001b[0m\u001b[0minputs\u001b[0m\u001b[0;34m)\u001b[0m\u001b[0;34m\u001b[0m\u001b[0m\n\u001b[1;32m   2660\u001b[0m \u001b[0;34m\u001b[0m\u001b[0m\n\u001b[0;32m-> 2661\u001b[0;31m             \u001b[0;32mreturn\u001b[0m \u001b[0mself\u001b[0m\u001b[0;34m.\u001b[0m\u001b[0m_call\u001b[0m\u001b[0;34m(\u001b[0m\u001b[0minputs\u001b[0m\u001b[0;34m)\u001b[0m\u001b[0;34m\u001b[0m\u001b[0m\n\u001b[0m\u001b[1;32m   2662\u001b[0m         \u001b[0;32melse\u001b[0m\u001b[0;34m:\u001b[0m\u001b[0;34m\u001b[0m\u001b[0m\n\u001b[1;32m   2663\u001b[0m             \u001b[0;32mif\u001b[0m \u001b[0mpy_any\u001b[0m\u001b[0;34m(\u001b[0m\u001b[0mis_tensor\u001b[0m\u001b[0;34m(\u001b[0m\u001b[0mx\u001b[0m\u001b[0;34m)\u001b[0m \u001b[0;32mfor\u001b[0m \u001b[0mx\u001b[0m \u001b[0;32min\u001b[0m \u001b[0minputs\u001b[0m\u001b[0;34m)\u001b[0m\u001b[0;34m:\u001b[0m\u001b[0;34m\u001b[0m\u001b[0m\n",
      "\u001b[0;32m/anaconda/envs/py35/lib/python3.5/site-packages/keras/backend/tensorflow_backend.py\u001b[0m in \u001b[0;36m_call\u001b[0;34m(self, inputs)\u001b[0m\n\u001b[1;32m   2629\u001b[0m                                 \u001b[0msymbol_vals\u001b[0m\u001b[0;34m,\u001b[0m\u001b[0;34m\u001b[0m\u001b[0m\n\u001b[1;32m   2630\u001b[0m                                 session)\n\u001b[0;32m-> 2631\u001b[0;31m         \u001b[0mfetched\u001b[0m \u001b[0;34m=\u001b[0m \u001b[0mself\u001b[0m\u001b[0;34m.\u001b[0m\u001b[0m_callable_fn\u001b[0m\u001b[0;34m(\u001b[0m\u001b[0;34m*\u001b[0m\u001b[0marray_vals\u001b[0m\u001b[0;34m)\u001b[0m\u001b[0;34m\u001b[0m\u001b[0m\n\u001b[0m\u001b[1;32m   2632\u001b[0m         \u001b[0;32mreturn\u001b[0m \u001b[0mfetched\u001b[0m\u001b[0;34m[\u001b[0m\u001b[0;34m:\u001b[0m\u001b[0mlen\u001b[0m\u001b[0;34m(\u001b[0m\u001b[0mself\u001b[0m\u001b[0;34m.\u001b[0m\u001b[0moutputs\u001b[0m\u001b[0;34m)\u001b[0m\u001b[0;34m]\u001b[0m\u001b[0;34m\u001b[0m\u001b[0m\n\u001b[1;32m   2633\u001b[0m \u001b[0;34m\u001b[0m\u001b[0m\n",
      "\u001b[0;32m/anaconda/envs/py35/lib/python3.5/site-packages/tensorflow/python/client/session.py\u001b[0m in \u001b[0;36m__call__\u001b[0;34m(self, *args)\u001b[0m\n\u001b[1;32m   1449\u001b[0m         \u001b[0;32mif\u001b[0m \u001b[0mself\u001b[0m\u001b[0;34m.\u001b[0m\u001b[0m_session\u001b[0m\u001b[0;34m.\u001b[0m\u001b[0m_created_with_new_api\u001b[0m\u001b[0;34m:\u001b[0m\u001b[0;34m\u001b[0m\u001b[0m\n\u001b[1;32m   1450\u001b[0m           return tf_session.TF_SessionRunCallable(\n\u001b[0;32m-> 1451\u001b[0;31m               self._session._session, self._handle, args, status, None)\n\u001b[0m\u001b[1;32m   1452\u001b[0m         \u001b[0;32melse\u001b[0m\u001b[0;34m:\u001b[0m\u001b[0;34m\u001b[0m\u001b[0m\n\u001b[1;32m   1453\u001b[0m           return tf_session.TF_DeprecatedSessionRunCallable(\n",
      "\u001b[0;31mKeyboardInterrupt\u001b[0m: "
     ]
    }
   ],
   "source": [
    "earlystopper = EarlyStopping(patience=75, verbose=1)\n",
    "checkpointer = ModelCheckpoint('model-tgs-salt-1.h5', verbose=1, save_best_only=True)\n",
    "#results = model.fit([X_train0, d_train0], Y_train0, validation_split=0.08, batch_size=16, epochs=100, \n",
    "#                    callbacks=[earlystopper, checkpointer, lrate])\n",
    "\n",
    "results = model.fit_generator(train_generator, epochs=200, steps_per_epoch=len(X_train0) / 32, \n",
    "                              validation_data=( [X_val, d_val], Y_val),\n",
    "                              callbacks=[earlystopper, checkpointer, lrate])\n"
   ]
  },
  {
   "cell_type": "code",
   "execution_count": 37,
   "metadata": {
    "colab": {
     "base_uri": "https://localhost:8080/",
     "height": 34
    },
    "colab_type": "code",
    "id": "Ll6kIRmGJ2v2",
    "outputId": "8fb91aa3-0315-480f-acb2-543fcc4193fe"
   },
   "outputs": [
    {
     "name": "stdout",
     "output_type": "stream",
     "text": [
      "dict_keys(['val_loss', 'loss', 'val_mean_iou', 'mean_iou'])\n"
     ]
    }
   ],
   "source": [
    "# list all data in history\n",
    "print(results.history.keys())"
   ]
  },
  {
   "cell_type": "code",
   "execution_count": 38,
   "metadata": {
    "colab": {
     "base_uri": "https://localhost:8080/",
     "height": 571
    },
    "colab_type": "code",
    "id": "RWk2IN87A49p",
    "outputId": "5b07b05f-5e05-4b39-a4e3-2dd258fc137d"
   },
   "outputs": [
    {
     "data": {
      "image/png": "[encoded data removed]",
      "text/plain": [
       "<Figure size 432x288 with 1 Axes>"
      ]
     },
     "metadata": {},
     "output_type": "display_data"
    },
    {
     "data": {
      "image/png": "[encoded data removed]",
      "text/plain": [
       "<Figure size 432x288 with 1 Axes>"
      ]
     },
     "metadata": {},
     "output_type": "display_data"
    }
   ],
   "source": [
    "# summarize history for intersestion over union\n",
    "plt.plot(results.history['mean_iou'])\n",
    "plt.plot(results.history['val_mean_iou'])\n",
    "plt.title('model IoU')\n",
    "plt.ylabel('accuracy')\n",
    "plt.xlabel('epoch')\n",
    "plt.legend(['train', 'test'], loc='upper left')\n",
    "plt.show()\n",
    "# summarize history for loss\n",
    "plt.plot(results.history['loss'])\n",
    "plt.plot(results.history['val_loss'])\n",
    "plt.title('model loss')\n",
    "plt.ylabel('loss')\n",
    "plt.xlabel('epoch')\n",
    "plt.legend(['train', 'test'], loc='upper left')\n",
    "plt.show()"
   ]
  },
  {
   "cell_type": "code",
   "execution_count": null,
   "metadata": {
    "colab": {},
    "colab_type": "code",
    "id": "WCNIv44tdRzN"
   },
   "outputs": [],
   "source": []
  },
  {
   "cell_type": "code",
   "execution_count": 51,
   "metadata": {
    "colab": {},
    "colab_type": "code",
    "id": "XW_rfkR1dWKs"
   },
   "outputs": [],
   "source": [
    "model = load_model('model-tgs-salt-1.h5', custom_objects={'mean_iou': ModelUNet.mean_iou, 'dice_loss' : ModelUNet.dice_loss,  '_expand': ModelUNet._expand}) #, 'ReflectionPadding2D' : ReflectionPadding2D})\n",
    "#model.save('model-tgs-salt-1.h5')"
   ]
  },
  {
   "cell_type": "code",
   "execution_count": 52,
   "metadata": {
    "colab": {},
    "colab_type": "code",
    "id": "qNr4jF7z4gZd"
   },
   "outputs": [],
   "source": [
    "#from google.colab import files\n",
    "#files.download('model-tgs-salt-1.h5')\n",
    "#files.upload()"
   ]
  },
  {
   "cell_type": "code",
   "execution_count": 53,
   "metadata": {},
   "outputs": [],
   "source": [
    "#for i in tqdm(range(len(X_train0))):\n",
    "#    X_train0[i] = image_datagen.standardize(X_train0[i].astype(float))\n",
    "    \n",
    "#for i in tqdm(range(len(X_val))):\n",
    "#    X_val[i] = image_datagen.standardize(X_val[i].astype(float))"
   ]
  },
  {
   "cell_type": "code",
   "execution_count": 54,
   "metadata": {
    "colab": {
     "base_uri": "https://localhost:8080/",
     "height": 51
    },
    "colab_type": "code",
    "id": "8XSdRAqCdYfF",
    "outputId": "e6c5ecde-a26f-4e6c-a61f-f197d85310de"
   },
   "outputs": [
    {
     "name": "stdout",
     "output_type": "stream",
     "text": [
      "3920/3920 [==============================] - 12s 3ms/step\n",
      "80/80 [==============================] - 0s 3ms/step\n"
     ]
    }
   ],
   "source": [
    "preds_train = model.predict([X_train0, d_train0], verbose=1)\n",
    "preds_val = model.predict([X_val, d_val], verbose=1)"
   ]
  },
  {
   "cell_type": "code",
   "execution_count": 55,
   "metadata": {
    "colab": {
     "base_uri": "https://localhost:8080/",
     "height": 34
    },
    "colab_type": "code",
    "id": "8T71Irhvda5m",
    "outputId": "51b5c269-8f37-4b1a-8053-b376c42030dc"
   },
   "outputs": [
    {
     "name": "stderr",
     "output_type": "stream",
     "text": [
      "100%|██████████| 13/13 [01:26<00:00,  6.63s/it]\n"
     ]
    }
   ],
   "source": [
    "threshList = []\n",
    "IoUList = []\n",
    "IoUValList = []\n",
    "for kk in tqdm(range(13)):\n",
    "    thresh = (1+kk)/13\n",
    "    threshList.append(thresh)\n",
    "    preds_train_t = (preds_train > thresh).astype(np.uint8)\n",
    "    preds_val_t = (preds_val > thresh).astype(np.uint8)\n",
    "    meanIoU = np.array([ModelUNet.IoU(preds_train_t[i], Y_train0[i]) for i in range(Y_train0.shape[0])])\n",
    "    IoUList.append(np.mean(meanIoU) )\n",
    "    meanIoUVal = np.array([ModelUNet.IoU(preds_val_t[i], Y_val[i]) for i in range(Y_val.shape[0])])\n",
    "    IoUValList.append(np.mean(meanIoUVal) )"
   ]
  },
  {
   "cell_type": "code",
   "execution_count": 56,
   "metadata": {
    "colab": {
     "base_uri": "https://localhost:8080/",
     "height": 311
    },
    "colab_type": "code",
    "id": "wg0NipGnddCw",
    "outputId": "c45fb827-da83-4a10-c766-023300ab3329"
   },
   "outputs": [
    {
     "data": {
      "text/plain": [
       "[<matplotlib.lines.Line2D at 0x7f2a54925da0>]"
      ]
     },
     "execution_count": 56,
     "metadata": {},
     "output_type": "execute_result"
    },
    {
     "data": {
      "image/png": "[encoded data removed]",
      "text/plain": [
       "<Figure size 432x288 with 1 Axes>"
      ]
     },
     "metadata": {},
     "output_type": "display_data"
    }
   ],
   "source": [
    "plt.title('IoU curve')\n",
    "plt.ylabel('IoU')\n",
    "plt.xlabel('threshold')\n",
    "\n",
    "plt.plot(threshList, IoUList)\n",
    "plt.plot(threshList, IoUValList)"
   ]
  },
  {
   "cell_type": "code",
   "execution_count": 57,
   "metadata": {
    "colab": {
     "base_uri": "https://localhost:8080/",
     "height": 34
    },
    "colab_type": "code",
    "id": "cQ_VOkO0de6p",
    "outputId": "b5e9961b-2792-4064-9f30-8daefce31eee"
   },
   "outputs": [
    {
     "name": "stdout",
     "output_type": "stream",
     "text": [
      "Thresh: 0.6153846153846154  ExpectedIoU: 0.8087500000000001\n"
     ]
    }
   ],
   "source": [
    "thresh = threshList[np.argmax(IoUValList)]\n",
    "print('Thresh: {}  ExpectedIoU: {}'.format(thresh, max(IoUValList)))"
   ]
  },
  {
   "cell_type": "code",
   "execution_count": 47,
   "metadata": {
    "colab": {},
    "colab_type": "code",
    "id": "kor6dfuWkRgL"
   },
   "outputs": [],
   "source": [
    "thresh = 0.5"
   ]
  },
  {
   "cell_type": "markdown",
   "metadata": {
    "colab_type": "text",
    "id": "WC_JYxpGKQcj"
   },
   "source": [
    "# Predictions"
   ]
  },
  {
   "cell_type": "code",
   "execution_count": 58,
   "metadata": {},
   "outputs": [
    {
     "name": "stderr",
     "output_type": "stream",
     "text": [
      "  0%|          | 38/18000 [00:00<00:47, 379.17it/s]"
     ]
    },
    {
     "name": "stdout",
     "output_type": "stream",
     "text": [
      "Getting images and masks ... \n"
     ]
    },
    {
     "name": "stderr",
     "output_type": "stream",
     "text": [
      "100%|██████████| 18000/18000 [00:47<00:00, 378.07it/s]\n"
     ]
    }
   ],
   "source": [
    "X_test, d_test = ImageReader.ReadSegmentationImages(testFolder, depthFile, readMasks = False)"
   ]
  },
  {
   "cell_type": "code",
   "execution_count": 59,
   "metadata": {},
   "outputs": [],
   "source": [
    "#for i in tqdm(range(len(X_test))):\n",
    "#    X_test[i] = image_datagen.standardize(X_test[i].astype(float))"
   ]
  },
  {
   "cell_type": "code",
   "execution_count": 60,
   "metadata": {
    "colab": {
     "base_uri": "https://localhost:8080/",
     "height": 68
    },
    "colab_type": "code",
    "id": "UQY0LPqMNf3G",
    "outputId": "17457a35-2bd0-422e-cac3-a28224ac61aa"
   },
   "outputs": [
    {
     "name": "stdout",
     "output_type": "stream",
     "text": [
      "3920/3920 [==============================] - 10s 3ms/step\n",
      "80/80 [==============================] - 0s 3ms/step\n",
      "18000/18000 [==============================] - 45s 3ms/step\n"
     ]
    }
   ],
   "source": [
    "model_array = [\n",
    "               #load_model('model-tgs-salt-Resnet.h5', custom_objects={'mean_iou': mean_iou, 'ReflectionPadding2D' : ReflectionPadding2D}),\n",
    "               #load_model('model-tgs-salt-ReflecConv.h5', custom_objects={'mean_iou': mean_iou, 'ReflectionPadding2D' : ReflectionPadding2D}),\n",
    "               #load_model('model-tgs-salt-Incep1.h5', custom_objects={'mean_iou': mean_iou, 'ReflectionPadding2D' : ReflectionPadding2D}),\n",
    "              ]\n",
    "\n",
    "# Predict on train, val and test\n",
    "\n",
    "preds_train = model.predict([X_train0, d_train0], verbose=1)\n",
    "preds_val = model.predict([X_val, d_val], verbose=1)\n",
    "preds_test = model.predict([X_test, d_test], verbose=1)\n",
    "\n",
    "for savedModel in model_array:\n",
    "    preds_train += savedModel.predict([X_train0, d_train0], verbose=1)\n",
    "    preds_val += savedModel.predict([X_val, d_val], verbose=1)\n",
    "    preds_test += savedModel.predict([X_test, d_test], verbose=1)\n",
    "\n",
    "preds_train /= 1+len(model_array)\n",
    "preds_val /= 1+len(model_array)\n",
    "preds_test /= 1+len(model_array)\n",
    "\n",
    "\n",
    "# Threshold predictions\n",
    "preds_train_t = (preds_train > thresh).astype(np.uint8)\n",
    "preds_val_t = (preds_val > thresh).astype(np.uint8)\n",
    "preds_test_t = (preds_test > thresh).astype(np.uint8)\n"
   ]
  },
  {
   "cell_type": "code",
   "execution_count": 61,
   "metadata": {
    "colab": {
     "base_uri": "https://localhost:8080/",
     "height": 34
    },
    "colab_type": "code",
    "id": "ynhnACAcOv19",
    "outputId": "258dcbca-5a36-41fa-8445-a97d02b3f0ff"
   },
   "outputs": [
    {
     "data": {
      "text/plain": [
       "(18000, 101, 101, 1)"
      ]
     },
     "execution_count": 61,
     "metadata": {},
     "output_type": "execute_result"
    }
   ],
   "source": [
    "preds_test_t.shape"
   ]
  },
  {
   "cell_type": "code",
   "execution_count": 70,
   "metadata": {
    "colab": {
     "base_uri": "https://localhost:8080/",
     "height": 770
    },
    "colab_type": "code",
    "id": "ttiEeIo-PJcP",
    "outputId": "976df606-8d4b-4bdf-e457-d1c713753a07"
   },
   "outputs": [
    {
     "data": {
      "image/png": "[encoded data removed]",
      "text/plain": [
       "<Figure size 432x288 with 1 Axes>"
      ]
     },
     "metadata": {},
     "output_type": "display_data"
    },
    {
     "data": {
      "image/png": "[encoded data removed]",
      "text/plain": [
       "<Figure size 432x288 with 1 Axes>"
      ]
     },
     "metadata": {},
     "output_type": "display_data"
    },
    {
     "data": {
      "image/png": "[encoded data removed]",
      "text/plain": [
       "<Figure size 432x288 with 1 Axes>"
      ]
     },
     "metadata": {},
     "output_type": "display_data"
    }
   ],
   "source": [
    "# Perform a sanity check on some random training samples\n",
    "ix = np.random.randint(0, len(preds_train_t))\n",
    "plt.imshow(X_train[ix,:,:,0])\n",
    "plt.show()\n",
    "#plt.imshow(Y_train[ix,:,:,0])\n",
    "tmp = np.squeeze(Y_train[ix]).astype(np.float32)\n",
    "plt.imshow(np.dstack((tmp,tmp,tmp)))\n",
    "plt.show()\n",
    "tmp = np.squeeze(preds_train_t[ix]).astype(np.float32)\n",
    "plt.imshow(np.dstack((tmp,tmp,tmp)))\n",
    "plt.show()"
   ]
  },
  {
   "cell_type": "code",
   "execution_count": 71,
   "metadata": {
    "colab": {
     "base_uri": "https://localhost:8080/",
     "height": 34
    },
    "colab_type": "code",
    "id": "I-a2-DznPRkG",
    "outputId": "30a99f22-1449-44e4-d816-a09a43a3e5d2"
   },
   "outputs": [
    {
     "data": {
      "text/plain": [
       "0"
      ]
     },
     "execution_count": 71,
     "metadata": {},
     "output_type": "execute_result"
    }
   ],
   "source": [
    "lowPixCount = [imgId for imgId in range(len(preds_test_t)) if preds_test_t[imgId].sum() < 5 and preds_test_t[imgId].sum() > 0]\n",
    "len(lowPixCount)"
   ]
  },
  {
   "cell_type": "code",
   "execution_count": 64,
   "metadata": {
    "colab": {},
    "colab_type": "code",
    "id": "EImEPKhwNiVC"
   },
   "outputs": [],
   "source": [
    "for imId in lowPixCount:\n",
    "    preds_test_t[imId]=np.zeros( (101,101,1) )"
   ]
  },
  {
   "cell_type": "markdown",
   "metadata": {
    "colab_type": "text",
    "id": "3Eggn5qvQEdp"
   },
   "source": [
    "# Prepare Submission"
   ]
  },
  {
   "cell_type": "code",
   "execution_count": 72,
   "metadata": {
    "colab": {
     "base_uri": "https://localhost:8080/",
     "height": 51
    },
    "colab_type": "code",
    "id": "85EJ-_UNQkPw",
    "outputId": "96aae08f-f7e8-4a32-ab3c-9655f55fce48"
   },
   "outputs": [
    {
     "name": "stdout",
     "output_type": "stream",
     "text": [
      "(18000, 101, 101, 1)\n",
      "(18000, 101, 101)\n"
     ]
    }
   ],
   "source": [
    "print(preds_test_t.shape)\n",
    "preds_test = preds_test_t.reshape(preds_test_t.shape[0], preds_test_t.shape[1], preds_test_t.shape[2])\n",
    "print(preds_test.shape)"
   ]
  },
  {
   "cell_type": "code",
   "execution_count": 73,
   "metadata": {
    "colab": {},
    "colab_type": "code",
    "id": "Y5-1fLTJQGDo"
   },
   "outputs": [],
   "source": [
    "def RLenc(img, order='F', format=True):\n",
    "    \"\"\"\n",
    "    img is binary mask image, shape (r,c)\n",
    "    order is down-then-right, i.e. Fortran\n",
    "    format determines if the order needs to be preformatted (according to submission rules) or not\n",
    "\n",
    "    returns run length as an array or string (if format is True)\n",
    "    \"\"\"\n",
    "    bytes = img.reshape(img.shape[0] * img.shape[1], order=order)\n",
    "    runs = []  ## list of run lengths\n",
    "    r = 0  ## the current run length\n",
    "    pos = 1  ## count starts from 1 per WK\n",
    "    for c in bytes:\n",
    "        if (c == 0):\n",
    "            if r != 0:\n",
    "                runs.append((pos, r))\n",
    "                pos += r\n",
    "                r = 0\n",
    "            pos += 1\n",
    "        else:\n",
    "            r += 1\n",
    "\n",
    "    # if last run is unsaved (i.e. data ends with 1)\n",
    "    if r != 0:\n",
    "        runs.append((pos, r))\n",
    "        pos += r\n",
    "        r = 0\n",
    "\n",
    "    if format:\n",
    "        z = ''\n",
    "\n",
    "        for rr in runs:\n",
    "            z += '{} {} '.format(rr[0], rr[1])\n",
    "        return z[:-1]\n",
    "    else:\n",
    "        return runs\n",
    "\n",
    "#pred_dict = {fn[:-4]:RLenc(np.round(preds_test[i])) for i,fn in tqdm(enumerate(test_ids))}\n",
    "pred_dict = {fn[:-4]:RLenc(np.round(preds_test[i])) for i,fn in (enumerate(test_ids))}"
   ]
  },
  {
   "cell_type": "code",
   "execution_count": 74,
   "metadata": {
    "colab": {},
    "colab_type": "code",
    "id": "7Nm1w6_RQJqw"
   },
   "outputs": [],
   "source": [
    "sub = pd.DataFrame.from_dict(pred_dict,orient='index')\n",
    "sub.index.names = ['id']\n",
    "sub.columns = ['rle_mask']\n",
    "sub.to_csv('submission.csv')"
   ]
  },
  {
   "cell_type": "code",
   "execution_count": 75,
   "metadata": {
    "colab": {
     "base_uri": "https://localhost:8080/",
     "height": 85
    },
    "colab_type": "code",
    "id": "L5BqBHZbWPe3",
    "outputId": "ddfb96ce-0779-424b-caa9-a8d5e89ba18a"
   },
   "outputs": [
    {
     "name": "stdout",
     "output_type": "stream",
     "text": [
      "creating archive\n",
      "adding with compression mode deflated\n",
      "closing\n",
      "submission.zip\n"
     ]
    }
   ],
   "source": [
    "import zipfile\n",
    "try:\n",
    "    import zlib\n",
    "    compression = zipfile.ZIP_DEFLATED\n",
    "except:\n",
    "    compression = zipfile.ZIP_STORED\n",
    "\n",
    "modes = { zipfile.ZIP_DEFLATED: 'deflated',\n",
    "          zipfile.ZIP_STORED:   'stored',\n",
    "          }\n",
    "\n",
    "print('creating archive')\n",
    "zf = zipfile.ZipFile('submission.zip', mode='w')\n",
    "try:\n",
    "    print('adding with compression mode {}'.format(modes[compression]))\n",
    "    zf.write('submission.csv', compress_type=compression)\n",
    "finally:\n",
    "    print('closing')\n",
    "    zf.close()\n",
    "\n",
    "print('submission.zip')"
   ]
  },
  {
   "cell_type": "code",
   "execution_count": null,
   "metadata": {
    "colab": {},
    "colab_type": "code",
    "id": "nqzGcwV9nPqO"
   },
   "outputs": [],
   "source": []
  },
  {
   "cell_type": "code",
   "execution_count": 76,
   "metadata": {
    "colab": {
     "base_uri": "https://localhost:8080/",
     "height": 34
    },
    "colab_type": "code",
    "id": "xYN4cqUumso9",
    "outputId": "27d0b919-8289-483d-cf86-b086b5390a76"
   },
   "outputs": [
    {
     "name": "stdout",
     "output_type": "stream",
     "text": [
      "Warning: Your Kaggle API key is readable by otherusers on this system! To fix this, you can run'chmod 600 /home/douglas125/.kaggle/kaggle.json'\n",
      "Successfully submitted to TGS Salt Identification Challenge"
     ]
    }
   ],
   "source": [
    "!kaggle competitions submit -c tgs-salt-identification-challenge -f submission.zip -m \"Customizable UNet with mean/std correction\""
   ]
  },
  {
   "cell_type": "code",
   "execution_count": 0,
   "metadata": {
    "colab": {},
    "colab_type": "code",
    "id": "v4duZsutRQqC"
   },
   "outputs": [],
   "source": [
    "from google.colab import files\n",
    "files.download('submission.zip')"
   ]
  }
 ],
 "metadata": {
  "accelerator": "GPU",
  "colab": {
   "collapsed_sections": [
    "yRUBTFaQXB_X"
   ],
   "name": "Kaggle TGS Seismic",
   "provenance": [],
   "version": "0.3.2"
  },
  "kernelspec": {
   "display_name": "Python [default]",
   "language": "python",
   "name": "python3"
  },
  "language_info": {
   "codemirror_mode": {
    "name": "ipython",
    "version": 3
   },
   "file_extension": ".py",
   "mimetype": "text/x-python",
   "name": "python",
   "nbconvert_exporter": "python",
   "pygments_lexer": "ipython3",
   "version": "3.5.5"
  }
 },
 "nbformat": 4,
 "nbformat_minor": 1
}
