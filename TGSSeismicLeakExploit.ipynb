{
  "nbformat": 4,
  "nbformat_minor": 0,
  "metadata": {
    "colab": {
      "name": "TGSSeismicLeakExploit.ipynb",
      "version": "0.3.2",
      "provenance": [],
      "collapsed_sections": [
        "yRUBTFaQXB_X"
      ]
    },
    "kernelspec": {
      "display_name": "Python 3",
      "language": "python",
      "name": "python3"
    },
    "accelerator": "GPU"
  },
  "cells": [
    {
      "metadata": {
        "id": "mf2ENBI217Zd",
        "colab_type": "text"
      },
      "cell_type": "markdown",
      "source": [
        "# Kaggle TGS Geoseismic competition"
      ]
    },
    {
      "metadata": {
        "id": "rj16RaitOMtB",
        "colab_type": "code",
        "colab": {
          "base_uri": "https://localhost:8080/",
          "height": 187
        },
        "outputId": "497dfa13-8a98-4223-f6ac-c32747eb864a"
      },
      "cell_type": "code",
      "source": [
        "!wget -q https://raw.githubusercontent.com/douglas125/McLyEdSegmentation/master/DeepLabv3Plus.py\n",
        "!wget -q https://raw.githubusercontent.com/douglas125/McLyEdSegmentation/master/ImageReader.py\n",
        "!wget -q https://raw.githubusercontent.com/douglas125/McLyEdSegmentation/master/ModelUNet.py\n",
        "!wget -q https://raw.githubusercontent.com/douglas125/McLyEdSegmentation/master/models.py\n",
        "!wget -q https://raw.githubusercontent.com/douglas125/McLyEdSegmentation/master/requirements.txt"
      ],
      "execution_count": 1,
      "outputs": [
        {
          "output_type": "stream",
          "text": [
            "\n",
            "Redirecting output to ‘wget-log’.\n",
            "\n",
            "Redirecting output to ‘wget-log.1’.\n",
            "\n",
            "Redirecting output to ‘wget-log.2’.\n",
            "\n",
            "Redirecting output to ‘wget-log.3’.\n",
            "\n",
            "Redirecting output to ‘wget-log.4’.\n"
          ],
          "name": "stdout"
        }
      ]
    },
    {
      "metadata": {
        "id": "YMvFLpBQlBTR",
        "colab_type": "code",
        "colab": {
          "base_uri": "https://localhost:8080/",
          "height": 782
        },
        "outputId": "b6f41d89-0706-4f2d-9413-7eadc2fb1076"
      },
      "cell_type": "code",
      "source": [
        "!pip install -r requirements.txt"
      ],
      "execution_count": 2,
      "outputs": [
        {
          "output_type": "stream",
          "text": [
            "Requirement already satisfied: tqdm in /usr/local/lib/python3.6/dist-packages (from -r requirements.txt (line 1)) (4.26.0)\n",
            "Collecting kaggle (from -r requirements.txt (line 2))\n",
            "\u001b[?25l  Downloading https://files.pythonhosted.org/packages/c6/78/832b9a9ec6b3baf8ec566e1f0a695f2fd08d2c94a6797257a106304bfc3c/kaggle-1.4.7.1.tar.gz (52kB)\n",
            "\u001b[K    100% |████████████████████████████████| 61kB 2.8MB/s \n",
            "\u001b[?25hRequirement already satisfied: keras in /usr/local/lib/python3.6/dist-packages (from -r requirements.txt (line 3)) (2.1.6)\n",
            "Requirement already satisfied: pandas in /usr/local/lib/python3.6/dist-packages (from -r requirements.txt (line 4)) (0.22.0)\n",
            "Requirement already satisfied: numpy in /usr/local/lib/python3.6/dist-packages (from -r requirements.txt (line 5)) (1.14.6)\n",
            "Requirement already satisfied: scipy in /usr/local/lib/python3.6/dist-packages (from -r requirements.txt (line 6)) (0.19.1)\n",
            "Requirement already satisfied: matplotlib in /usr/local/lib/python3.6/dist-packages (from -r requirements.txt (line 7)) (2.1.2)\n",
            "Collecting pydot (from -r requirements.txt (line 8))\n",
            "\u001b[?25l  Downloading https://files.pythonhosted.org/packages/c3/f1/e61d6dfe6c1768ed2529761a68f70939e2569da043e9f15a8d84bf56cadf/pydot-1.2.4.tar.gz (132kB)\n",
            "\u001b[K    100% |████████████████████████████████| 133kB 4.7MB/s \n",
            "\u001b[?25hRequirement already satisfied: scikit-image in /usr/local/lib/python3.6/dist-packages (from -r requirements.txt (line 9)) (0.13.1)\n",
            "Requirement already satisfied: urllib3<1.23.0,>=1.15 in /usr/local/lib/python3.6/dist-packages (from kaggle->-r requirements.txt (line 2)) (1.22)\n",
            "Requirement already satisfied: six>=1.10 in /usr/local/lib/python3.6/dist-packages (from kaggle->-r requirements.txt (line 2)) (1.11.0)\n",
            "Requirement already satisfied: certifi in /usr/local/lib/python3.6/dist-packages (from kaggle->-r requirements.txt (line 2)) (2018.8.24)\n",
            "Requirement already satisfied: python-dateutil in /usr/local/lib/python3.6/dist-packages (from kaggle->-r requirements.txt (line 2)) (2.5.3)\n",
            "Requirement already satisfied: requests in /usr/local/lib/python3.6/dist-packages (from kaggle->-r requirements.txt (line 2)) (2.18.4)\n",
            "Collecting python-slugify (from kaggle->-r requirements.txt (line 2))\n",
            "  Downloading https://files.pythonhosted.org/packages/00/ad/c778a6df614b6217c30fe80045b365bfa08b5dd3cb02e8b37a6d25126781/python-slugify-1.2.6.tar.gz\n",
            "Requirement already satisfied: h5py in /usr/local/lib/python3.6/dist-packages (from keras->-r requirements.txt (line 3)) (2.8.0)\n",
            "Requirement already satisfied: pyyaml in /usr/local/lib/python3.6/dist-packages (from keras->-r requirements.txt (line 3)) (3.13)\n",
            "Requirement already satisfied: pytz>=2011k in /usr/local/lib/python3.6/dist-packages (from pandas->-r requirements.txt (line 4)) (2018.5)\n",
            "Requirement already satisfied: pyparsing!=2.0.4,!=2.1.2,!=2.1.6,>=2.0.1 in /usr/local/lib/python3.6/dist-packages (from matplotlib->-r requirements.txt (line 7)) (2.2.1)\n",
            "Requirement already satisfied: cycler>=0.10 in /usr/local/lib/python3.6/dist-packages (from matplotlib->-r requirements.txt (line 7)) (0.10.0)\n",
            "Requirement already satisfied: PyWavelets>=0.4.0 in /usr/local/lib/python3.6/dist-packages (from scikit-image->-r requirements.txt (line 9)) (1.0.1)\n",
            "Requirement already satisfied: networkx>=1.8 in /usr/local/lib/python3.6/dist-packages (from scikit-image->-r requirements.txt (line 9)) (2.2)\n",
            "Requirement already satisfied: pillow>=2.1.0 in /usr/local/lib/python3.6/dist-packages (from scikit-image->-r requirements.txt (line 9)) (4.0.0)\n",
            "Requirement already satisfied: chardet<3.1.0,>=3.0.2 in /usr/local/lib/python3.6/dist-packages (from requests->kaggle->-r requirements.txt (line 2)) (3.0.4)\n",
            "Requirement already satisfied: idna<2.7,>=2.5 in /usr/local/lib/python3.6/dist-packages (from requests->kaggle->-r requirements.txt (line 2)) (2.6)\n",
            "Collecting Unidecode>=0.04.16 (from python-slugify->kaggle->-r requirements.txt (line 2))\n",
            "\u001b[?25l  Downloading https://files.pythonhosted.org/packages/59/ef/67085e30e8bbcdd76e2f0a4ad8151c13a2c5bce77c85f8cad6e1f16fb141/Unidecode-1.0.22-py2.py3-none-any.whl (235kB)\n",
            "\u001b[K    100% |████████████████████████████████| 235kB 5.4MB/s \n",
            "\u001b[?25hRequirement already satisfied: decorator>=4.3.0 in /usr/local/lib/python3.6/dist-packages (from networkx>=1.8->scikit-image->-r requirements.txt (line 9)) (4.3.0)\n",
            "Requirement already satisfied: olefile in /usr/local/lib/python3.6/dist-packages (from pillow>=2.1.0->scikit-image->-r requirements.txt (line 9)) (0.46)\n",
            "Building wheels for collected packages: kaggle, pydot, python-slugify\n",
            "  Running setup.py bdist_wheel for kaggle ... \u001b[?25l-\b \b\\\b \bdone\n",
            "\u001b[?25h  Stored in directory: /root/.cache/pip/wheels/44/2c/df/22a6eeb780c36c28190faef6252b739fdc47145fd87a6642d4\n",
            "  Running setup.py bdist_wheel for pydot ... \u001b[?25l-\b \bdone\n",
            "\u001b[?25h  Stored in directory: /root/.cache/pip/wheels/6a/a5/14/25541ebcdeaf97a37b6d05c7ff15f5bd20f5e91b99d313e5b4\n",
            "  Running setup.py bdist_wheel for python-slugify ... \u001b[?25l-\b \bdone\n",
            "\u001b[?25h  Stored in directory: /root/.cache/pip/wheels/e3/65/da/2045deea3098ed7471eca0e2460cfbd3fdfe8c1d6fa6fcac92\n",
            "Successfully built kaggle pydot python-slugify\n",
            "Installing collected packages: Unidecode, python-slugify, kaggle, pydot\n",
            "Successfully installed Unidecode-1.0.22 kaggle-1.4.7.1 pydot-1.2.4 python-slugify-1.2.6\n"
          ],
          "name": "stdout"
        }
      ]
    },
    {
      "metadata": {
        "id": "y5_288BYp6H1",
        "colab_type": "code",
        "colab": {
          "base_uri": "https://localhost:8080/",
          "height": 34
        },
        "outputId": "268c1c95-8ee0-43e9-9de2-c7fc58a6a71a"
      },
      "cell_type": "code",
      "source": [
        "from googleapiclient.discovery import build\n",
        "import io, os\n",
        "from googleapiclient.http import MediaIoBaseDownload\n",
        "from google.colab import auth\n",
        "\n",
        "auth.authenticate_user()\n",
        "\n",
        "drive_service = build('drive', 'v3')\n",
        "results = drive_service.files().list(\n",
        "        q=\"name = 'kaggle.json'\", fields=\"files(id)\").execute()\n",
        "kaggle_api_key = results.get('files', [])\n",
        "\n",
        "filename = \"/content/.kaggle/kaggle.json\"\n",
        "os.makedirs(os.path.dirname(filename), exist_ok=True)\n",
        "\n",
        "request = drive_service.files().get_media(fileId=kaggle_api_key[0]['id'])\n",
        "fh = io.FileIO(filename, 'wb')\n",
        "downloader = MediaIoBaseDownload(fh, request)\n",
        "done = False\n",
        "while done is False:\n",
        "    status, done = downloader.next_chunk()\n",
        "    print(\"Download %d%%.\" % int(status.progress() * 100))\n",
        "os.chmod(filename, 600)"
      ],
      "execution_count": 3,
      "outputs": [
        {
          "output_type": "stream",
          "text": [
            "Download 100%.\n"
          ],
          "name": "stdout"
        }
      ]
    },
    {
      "metadata": {
        "id": "5l1V_oxXsZ8l",
        "colab_type": "code",
        "colab": {}
      },
      "cell_type": "code",
      "source": [
        "!mkdir ~/.kaggle\n",
        "!cp /content/.kaggle/kaggle.json ~/.kaggle/kaggle.json"
      ],
      "execution_count": 0,
      "outputs": []
    },
    {
      "metadata": {
        "id": "L-MSBCgPkI9V",
        "colab_type": "code",
        "colab": {
          "base_uri": "https://localhost:8080/",
          "height": 272
        },
        "outputId": "09091204-9934-4cd9-aae1-13d2c9e1a95a"
      },
      "cell_type": "code",
      "source": [
        "!kaggle competitions download -c tgs-salt-identification-challenge"
      ],
      "execution_count": 5,
      "outputs": [
        {
          "output_type": "stream",
          "text": [
            "Downloading depths.csv to /content\n",
            "\r  0% 0.00/322k [00:00<?, ?B/s]\n",
            "100% 322k/322k [00:00<00:00, 60.1MB/s]\n",
            "Downloading sample_submission.csv to /content\n",
            "  0% 0.00/264k [00:00<?, ?B/s]\n",
            "100% 264k/264k [00:00<00:00, 76.0MB/s]\n",
            "Downloading train.csv to /content\n",
            "  0% 0.00/922k [00:00<?, ?B/s]\n",
            "100% 922k/922k [00:00<00:00, 121MB/s]\n",
            "Downloading test.zip to /content\n",
            " 99% 161M/163M [00:01<00:00, 109MB/s]\n",
            "100% 163M/163M [00:01<00:00, 111MB/s]\n",
            "Downloading train.zip to /content\n",
            " 76% 29.0M/37.9M [00:00<00:00, 58.1MB/s]\n",
            "100% 37.9M/37.9M [00:00<00:00, 155MB/s] \n"
          ],
          "name": "stdout"
        }
      ]
    },
    {
      "metadata": {
        "id": "wt72EaD62qHM",
        "colab_type": "text"
      },
      "cell_type": "markdown",
      "source": [
        "# Data Exploration"
      ]
    },
    {
      "metadata": {
        "id": "FaCbaUks2TN2",
        "colab_type": "code",
        "colab": {}
      },
      "cell_type": "code",
      "source": [
        "import zipfile\n",
        "zip_ref = zipfile.ZipFile('train.zip', 'r')\n",
        "zip_ref.extractall('tgs-salt-identification-challenge/trainData')\n",
        "zip_ref.close()"
      ],
      "execution_count": 0,
      "outputs": []
    },
    {
      "metadata": {
        "id": "T9NE1-oF8UGv",
        "colab_type": "code",
        "colab": {}
      },
      "cell_type": "code",
      "source": [
        "zip_ref = zipfile.ZipFile('test.zip', 'r')\n",
        "zip_ref.extractall('tgs-salt-identification-challenge/testData')\n",
        "zip_ref.close()"
      ],
      "execution_count": 0,
      "outputs": []
    },
    {
      "metadata": {
        "id": "bYDGN_2W6Pmp",
        "colab_type": "code",
        "colab": {
          "base_uri": "https://localhost:8080/",
          "height": 34
        },
        "outputId": "2211697f-9e9c-4676-9b03-35c311f88ed4"
      },
      "cell_type": "code",
      "source": [
        "import os\n",
        "\n",
        "import pandas as pd\n",
        "import numpy as np\n",
        "import matplotlib.pyplot as plt\n",
        "%matplotlib inline\n",
        "from keras.preprocessing.image import ImageDataGenerator, array_to_img, img_to_array, load_img\n",
        "from tqdm import tqdm_notebook, tnrange, tqdm\n",
        "\n",
        "from scipy.signal import medfilt2d"
      ],
      "execution_count": 8,
      "outputs": [
        {
          "output_type": "stream",
          "text": [
            "Using TensorFlow backend.\n"
          ],
          "name": "stderr"
        }
      ]
    },
    {
      "metadata": {
        "id": "cWYuS0Zx5xIz",
        "colab_type": "code",
        "colab": {}
      },
      "cell_type": "code",
      "source": [
        "trainFolder = 'tgs-salt-identification-challenge/trainData/'\n",
        "testFolder  = 'tgs-salt-identification-challenge/testData/'"
      ],
      "execution_count": 0,
      "outputs": []
    },
    {
      "metadata": {
        "id": "8KLX-j4vo0rG",
        "colab_type": "code",
        "colab": {
          "base_uri": "https://localhost:8080/",
          "height": 204
        },
        "outputId": "67467de4-0588-462d-e47e-111d69e60fb1"
      },
      "cell_type": "code",
      "source": [
        "depthFile = pd.read_csv('depths.csv' )\n",
        "depthFile.head()"
      ],
      "execution_count": 10,
      "outputs": [
        {
          "output_type": "execute_result",
          "data": {
            "text/html": [
              "<div>\n",
              "<style scoped>\n",
              "    .dataframe tbody tr th:only-of-type {\n",
              "        vertical-align: middle;\n",
              "    }\n",
              "\n",
              "    .dataframe tbody tr th {\n",
              "        vertical-align: top;\n",
              "    }\n",
              "\n",
              "    .dataframe thead th {\n",
              "        text-align: right;\n",
              "    }\n",
              "</style>\n",
              "<table border=\"1\" class=\"dataframe\">\n",
              "  <thead>\n",
              "    <tr style=\"text-align: right;\">\n",
              "      <th></th>\n",
              "      <th>id</th>\n",
              "      <th>z</th>\n",
              "    </tr>\n",
              "  </thead>\n",
              "  <tbody>\n",
              "    <tr>\n",
              "      <th>0</th>\n",
              "      <td>4ac19fb269</td>\n",
              "      <td>306</td>\n",
              "    </tr>\n",
              "    <tr>\n",
              "      <th>1</th>\n",
              "      <td>1825fadf99</td>\n",
              "      <td>157</td>\n",
              "    </tr>\n",
              "    <tr>\n",
              "      <th>2</th>\n",
              "      <td>f59821d067</td>\n",
              "      <td>305</td>\n",
              "    </tr>\n",
              "    <tr>\n",
              "      <th>3</th>\n",
              "      <td>5b435fad9d</td>\n",
              "      <td>503</td>\n",
              "    </tr>\n",
              "    <tr>\n",
              "      <th>4</th>\n",
              "      <td>e340e7bfca</td>\n",
              "      <td>783</td>\n",
              "    </tr>\n",
              "  </tbody>\n",
              "</table>\n",
              "</div>"
            ],
            "text/plain": [
              "           id    z\n",
              "0  4ac19fb269  306\n",
              "1  1825fadf99  157\n",
              "2  f59821d067  305\n",
              "3  5b435fad9d  503\n",
              "4  e340e7bfca  783"
            ]
          },
          "metadata": {
            "tags": []
          },
          "execution_count": 10
        }
      ]
    },
    {
      "metadata": {
        "id": "RNxJvWDeOI-0",
        "colab_type": "code",
        "colab": {}
      },
      "cell_type": "code",
      "source": [
        "%load_ext autoreload\n",
        "%autoreload 2\n",
        "\n",
        "import ImageReader"
      ],
      "execution_count": 0,
      "outputs": []
    },
    {
      "metadata": {
        "id": "0tpME6Io6EmS",
        "colab_type": "code",
        "colab": {}
      },
      "cell_type": "code",
      "source": [
        "train_ids = next(os.walk(trainFolder +\"images\"))[2]\n",
        "test_ids = next(os.walk(testFolder +\"images\"))[2]"
      ],
      "execution_count": 0,
      "outputs": []
    },
    {
      "metadata": {
        "id": "0hclQ21IlIzw",
        "colab_type": "code",
        "colab": {}
      },
      "cell_type": "code",
      "source": [
        "ImageReader.ignoreList = []"
      ],
      "execution_count": 0,
      "outputs": []
    },
    {
      "metadata": {
        "id": "jVUL1iEOOI-7",
        "colab_type": "code",
        "colab": {
          "base_uri": "https://localhost:8080/",
          "height": 68
        },
        "outputId": "56e97e5a-a7a4-4b04-d056-50e9ab8205c8"
      },
      "cell_type": "code",
      "source": [
        "X_train, Y_train, depthVals = ImageReader.ReadSegmentationImages(trainFolder, depthFile)\n",
        "X_train = X_train/255.0"
      ],
      "execution_count": 14,
      "outputs": [
        {
          "output_type": "stream",
          "text": [
            "  0%|          | 18/4000 [00:00<00:23, 172.49it/s]"
          ],
          "name": "stderr"
        },
        {
          "output_type": "stream",
          "text": [
            "Getting images and masks ... \n"
          ],
          "name": "stdout"
        },
        {
          "output_type": "stream",
          "text": [
            "100%|██████████| 4000/4000 [00:17<00:00, 230.52it/s]\n"
          ],
          "name": "stderr"
        },
        {
          "output_type": "stream",
          "text": [
            "Ignored 0 files\n"
          ],
          "name": "stdout"
        }
      ]
    },
    {
      "metadata": {
        "id": "ZCmJsm8qFzdd",
        "colab_type": "text"
      },
      "cell_type": "markdown",
      "source": [
        "# Keras datagen"
      ]
    },
    {
      "metadata": {
        "id": "ayFcz_QDKKQO",
        "colab_type": "code",
        "colab": {
          "base_uri": "https://localhost:8080/",
          "height": 34
        },
        "outputId": "6ed03561-014f-4f77-d58f-20b9a5338f5c"
      },
      "cell_type": "code",
      "source": [
        "valRatio = 0.03\n",
        "nVal = int(len(X_train)*valRatio)\n",
        "X_val = X_train[0:nVal]\n",
        "Y_val = Y_train[0:nVal]\n",
        "d_val = depthVals[0:nVal]\n",
        "\n",
        "X_train0 = X_train[nVal:]\n",
        "Y_train0 = Y_train[nVal:]\n",
        "d_train0 = depthVals[nVal:]\n",
        "X_train0.shape\n",
        "print('{}, {}, {}'.format(X_train0.shape, X_val.shape, d_val.shape))"
      ],
      "execution_count": 17,
      "outputs": [
        {
          "output_type": "stream",
          "text": [
            "(3880, 101, 101, 1), (120, 101, 101, 1), (120, 1, 1, 1)\n"
          ],
          "name": "stdout"
        }
      ]
    },
    {
      "metadata": {
        "id": "iZWJWDxSF21D",
        "colab_type": "code",
        "colab": {}
      },
      "cell_type": "code",
      "source": [
        "from keras.preprocessing.image import ImageDataGenerator\n",
        "\n",
        "# we create two instances with the same arguments\n",
        "data_gen_argsMask = dict(\n",
        "                     rotation_range=0.0, #1.0,\n",
        "                     #shear_range = 0.001, #0\n",
        "                     zoom_range = 0.00, #0\n",
        "                     width_shift_range=0.001, # 0.03,\n",
        "                     height_shift_range=0.001, #0.3,\n",
        "                     horizontal_flip=True,\n",
        "                     cval=0,\n",
        "                     fill_mode = \"reflect\"  #reflect\n",
        "                     #vertical_flip=True #see if helps\n",
        "                    )\n",
        "\n",
        "data_gen_args = {}\n",
        "for key in data_gen_argsMask:\n",
        "    data_gen_args[key] = data_gen_argsMask[key]\n",
        "    \n",
        "#data_gen_args['featurewise_center'] = True\n",
        "#data_gen_args['featurewise_std_normalization'] = True\n",
        "#data_gen_args['zca_whitening'] = True #this or normalization\n",
        "\n",
        "image_datagen = ImageDataGenerator(**data_gen_args)\n",
        "mask_datagen = ImageDataGenerator(**data_gen_argsMask)\n",
        "depth_datagen = ImageDataGenerator()\n",
        "\n",
        "\n",
        "seed=7\n",
        "# Provide the same seed and keyword arguments to the fit and flow methods\n",
        "image_datagen.fit(X_train0, augment=True, seed=seed)\n",
        "#mask_datagen.fit(Y_train0, augment=True, seed=seed)\n",
        "#depth_datagen.fit(d_train0, augment=False, seed=seed)\n",
        "\n",
        "image_generator = image_datagen.flow(\n",
        "    X_train0,\n",
        "    seed=seed,\n",
        "    batch_size = 32)#32*nGPUs)\n",
        "\n",
        "mask_generator = mask_datagen.flow(\n",
        "    Y_train0,\n",
        "    seed=seed,\n",
        "    batch_size = 32)#32*nGPUs)\n",
        "\n",
        "depth_generator = depth_datagen.flow(\n",
        "    d_train0,\n",
        "    seed=seed,\n",
        "    batch_size = 32)#32*nGPUs)\n",
        "\n",
        "bSize = 32\n",
        "def multi_input_gen(X1, X2, X3):\n",
        "    genX1 = image_datagen.flow(X1, seed=7, batch_size=bSize)\n",
        "    genX2 = depth_datagen.flow(X2, seed=7, batch_size=bSize)\n",
        "    genX3 = mask_datagen.flow( X3, seed=7, batch_size=bSize)\n",
        "    while True:\n",
        "            X1i = genX1.next()\n",
        "            \n",
        "            #try to exploit data structure by adding 4 channels:\n",
        "            #left cols to right and vice-versa, bottom lines to up and vice-versa\n",
        "            xaug = np.zeros( (X1i.shape[0],X1i.shape[1],X1i.shape[2],4) )\n",
        "            dist=10\n",
        "            xaug[:,-dist:,:,0] = X1i[:,:dist,:,0] #top to bottom\n",
        "            xaug[:,:dist:,:,1] = X1i[:,-dist:,:,0] #bottom to top\n",
        "            xaug[:,:,-dist:,2] = X1i[:,:,:dist,0] #left to right\n",
        "            xaug[:,:,:dist,3] = X1i[:,:,-dist:,0] #right to left\n",
        "            \n",
        "            X1i = np.concatenate([X1i, xaug],axis=3)\n",
        "            #print(imgtop.shape)\n",
        "            #print(X1i.shape)\n",
        "            \n",
        "            X2i = genX2.next()\n",
        "            X3i = genX3.next()\n",
        "            yield [X1i, X2i], X3i\n",
        "\n",
        "train_generator = multi_input_gen(X_train0, d_train0, Y_train0) #zip( [image_generator, depth_generator] , [mask_generator] )"
      ],
      "execution_count": 0,
      "outputs": []
    },
    {
      "metadata": {
        "id": "sbO3R0dIsrZE",
        "colab_type": "code",
        "colab": {
          "base_uri": "https://localhost:8080/",
          "height": 804
        },
        "outputId": "d56e4ea6-aae3-4e5d-fab5-e7c4082ac6ce"
      },
      "cell_type": "code",
      "source": [
        "ans = next(train_generator)\n",
        "print(ans[0][1][17,0,0,0])\n",
        "plt.imshow( ans[0][0][17,:,:,0], vmin=0, vmax=1)\n",
        "plt.show()\n",
        "\n",
        "plt.imshow( ans[0][0][17,:,:,4], vmin=0, vmax=1)\n",
        "plt.show()\n",
        "\n",
        "plt.imshow( ans[1][17,:,:,0] )\n",
        "plt.show()"
      ],
      "execution_count": 25,
      "outputs": [
        {
          "output_type": "stream",
          "text": [
            "(32, 101, 101, 5)\n",
            "427.0\n"
          ],
          "name": "stdout"
        },
        {
          "output_type": "display_data",
          "data": {
            "image/png": "[encoded data removed]",
            "text/plain": [
              "<matplotlib.figure.Figure at 0x7fcd18e677b8>"
            ]
          },
          "metadata": {
            "tags": []
          }
        },
        {
          "output_type": "display_data",
          "data": {
            "image/png": "[encoded data removed]",
            "text/plain": [
              "<matplotlib.figure.Figure at 0x7fccf31c00f0>"
            ]
          },
          "metadata": {
            "tags": []
          }
        },
        {
          "output_type": "display_data",
          "data": {
            "image/png": "[encoded data removed]",
            "text/plain": [
              "<matplotlib.figure.Figure at 0x7fccf31a7e48>"
            ]
          },
          "metadata": {
            "tags": []
          }
        }
      ]
    },
    {
      "metadata": {
        "id": "Xho5QIoKsrZI",
        "colab_type": "code",
        "colab": {}
      },
      "cell_type": "code",
      "source": [
        ""
      ],
      "execution_count": 0,
      "outputs": []
    },
    {
      "metadata": {
        "id": "Tq4lOJA0srZM",
        "colab_type": "code",
        "colab": {}
      },
      "cell_type": "code",
      "source": [
        "def augment(X1i):\n",
        "    #try to exploit data structure by adding 4 channels:\n",
        "    #left cols to right and vice-versa, bottom lines to up and vice-versa\n",
        "    xaug = np.zeros( (X1i.shape[0],X1i.shape[1],X1i.shape[2],4) )\n",
        "    dist=10\n",
        "    xaug[:,-dist:,:,0] = X1i[:,:dist,:,0] #top to bottom\n",
        "    xaug[:,:dist:,:,1] = X1i[:,-dist:,:,0] #bottom to top\n",
        "    xaug[:,:,-dist:,2] = X1i[:,:,:dist,0] #left to right\n",
        "    xaug[:,:,:dist,3] = X1i[:,:,-dist:,0] #right to left\n",
        "\n",
        "    ans = np.concatenate([X1i, xaug],axis=3)\n",
        "\n",
        "    return ans"
      ],
      "execution_count": 0,
      "outputs": []
    },
    {
      "metadata": {
        "id": "ATKeNMbksrZN",
        "colab_type": "code",
        "colab": {
          "base_uri": "https://localhost:8080/",
          "height": 34
        },
        "outputId": "f1d1df40-414a-4455-fe2e-1d7d2ff53465"
      },
      "cell_type": "code",
      "source": [
        "X_val_aug = augment(X_val)\n",
        "X_val_aug.shape"
      ],
      "execution_count": 30,
      "outputs": [
        {
          "output_type": "execute_result",
          "data": {
            "text/plain": [
              "(120, 101, 101, 5)"
            ]
          },
          "metadata": {
            "tags": []
          },
          "execution_count": 30
        }
      ]
    },
    {
      "metadata": {
        "id": "IMQ00RC0srZR",
        "colab_type": "code",
        "colab": {}
      },
      "cell_type": "code",
      "source": [
        ""
      ],
      "execution_count": 0,
      "outputs": []
    },
    {
      "metadata": {
        "id": "Prx4narUOI_6",
        "colab_type": "text"
      },
      "cell_type": "markdown",
      "source": [
        "## DeepLabV3+"
      ]
    },
    {
      "metadata": {
        "id": "eq663ff6-x9k",
        "colab_type": "code",
        "colab": {}
      },
      "cell_type": "code",
      "source": [
        "from keras.utils import plot_model\n",
        "from keras.models import Model, load_model\n",
        "from keras.layers import Input, ZeroPadding2D, Cropping2D, Add, Conv2D, Concatenate\n",
        "from keras.layers.core import Lambda"
      ],
      "execution_count": 0,
      "outputs": []
    },
    {
      "metadata": {
        "id": "NwMRZIvsOI_7",
        "colab_type": "code",
        "colab": {
          "base_uri": "https://localhost:8080/",
          "height": 527
        },
        "outputId": "89217b4a-cbc8-43f4-f061-6b6b29d02b73"
      },
      "cell_type": "code",
      "source": [
        "import DeepLabv3Plus\n",
        "import ModelUNet\n",
        "\n",
        "im_height = 101\n",
        "im_width = 101\n",
        "im_chan = 5\n",
        "\n",
        "\n",
        "inputs = Input((im_height, im_width, im_chan))\n",
        "#s = Lambda(lambda x: x / 255) (inputs)\n",
        "s=inputs\n",
        "inputDepth = Input( (1,1,1) )\n",
        "\n",
        "\n",
        "curLayer = inputs#Concatenate()([inputs, depthIn])\n",
        "\n",
        "\n",
        "#s = ReflectionPadding2D( padding = ((13, 14), (13, 14)) ) (s)\n",
        "s = ZeroPadding2D( padding = ((13, 14), (13, 14)) ) (curLayer)\n",
        "s = Conv2D(3, (1, 1), activation='relu') (s) #(1,1)\n",
        "\n",
        "dlmodel = DeepLabv3Plus.Deeplabv3(input_shape=(128, 128, 3), classes=21, backbone='xception') #xception\n",
        "\n",
        "outputs = dlmodel(s)\n",
        "\n",
        "dd = Lambda(lambda x: x * 0.001) (inputDepth)\n",
        "dd = Lambda(lambda x: ModelUNet._expand(x, 128, 128) )(dd)\n",
        "outputs = Concatenate()([outputs, dd])\n",
        "\n",
        "outputs = Conv2D(1, (1, 1), activation='sigmoid') (outputs)\n",
        "outputs = Cropping2D(cropping=((13, 14), (13, 14)) ) (outputs)\n",
        "\n",
        "#model = Model(inputs=[inputs], outputs=[outputs, outputs])\n",
        "#model.compile(optimizer='adam', loss=['binary_crossentropy', dice_loss], loss_weights=[0.01, 1.2], metrics=[mean_iou])\n",
        "model = Model(inputs=[inputs, inputDepth], outputs=outputs)\n",
        "model.compile(optimizer='adam', loss=[ModelUNet.dice_loss], metrics=[ModelUNet.mean_iou])\n",
        "model.summary()"
      ],
      "execution_count": 21,
      "outputs": [
        {
          "output_type": "stream",
          "text": [
            "Downloading data from https://github.com/bonlime/keras-deeplab-v3-plus/releases/download/1.1/deeplabv3_xception_tf_dim_ordering_tf_kernels.h5\n",
            "166100992/166096424 [==============================] - 3s 0us/step\n",
            "__________________________________________________________________________________________________\n",
            "Layer (type)                    Output Shape         Param #     Connected to                     \n",
            "==================================================================================================\n",
            "input_1 (InputLayer)            (None, 101, 101, 5)  0                                            \n",
            "__________________________________________________________________________________________________\n",
            "zero_padding2d_1 (ZeroPadding2D (None, 128, 128, 5)  0           input_1[0][0]                    \n",
            "__________________________________________________________________________________________________\n",
            "input_2 (InputLayer)            (None, 1, 1, 1)      0                                            \n",
            "__________________________________________________________________________________________________\n",
            "conv2d_1 (Conv2D)               (None, 128, 128, 3)  18          zero_padding2d_1[0][0]           \n",
            "__________________________________________________________________________________________________\n",
            "lambda_1 (Lambda)               (None, 1, 1, 1)      0           input_2[0][0]                    \n",
            "__________________________________________________________________________________________________\n",
            "deeplabv3p (Model)              (None, 128, 128, 21) 41258213    conv2d_1[0][0]                   \n",
            "__________________________________________________________________________________________________\n",
            "lambda_2 (Lambda)               (None, 128, 128, 1)  0           lambda_1[0][0]                   \n",
            "__________________________________________________________________________________________________\n",
            "concatenate_3 (Concatenate)     (None, 128, 128, 22) 0           deeplabv3p[1][0]                 \n",
            "                                                                 lambda_2[0][0]                   \n",
            "__________________________________________________________________________________________________\n",
            "conv2d_2 (Conv2D)               (None, 128, 128, 1)  23          concatenate_3[0][0]              \n",
            "__________________________________________________________________________________________________\n",
            "cropping2d_1 (Cropping2D)       (None, 101, 101, 1)  0           conv2d_2[0][0]                   \n",
            "==================================================================================================\n",
            "Total params: 41,258,254\n",
            "Trainable params: 41,055,454\n",
            "Non-trainable params: 202,800\n",
            "__________________________________________________________________________________________________\n"
          ],
          "name": "stdout"
        }
      ]
    },
    {
      "metadata": {
        "id": "CT0_7k0iW5bh",
        "colab_type": "text"
      },
      "cell_type": "markdown",
      "source": [
        "# Training"
      ]
    },
    {
      "metadata": {
        "id": "V6zDpL9pTNb4",
        "colab_type": "code",
        "colab": {}
      },
      "cell_type": "code",
      "source": [
        "import math\n",
        "from keras.callbacks import EarlyStopping, ModelCheckpoint, LearningRateScheduler\n",
        "def step_decay(epoch):\n",
        "    initial_lrate = 1e-3               \n",
        "    drop = 0.6\n",
        "    epochs_drop = 25\n",
        "    lrate = initial_lrate * math.pow(drop,  \n",
        "            math.floor((1+epoch)/epochs_drop))\n",
        "    \n",
        "    if (lrate < 1e-6):\n",
        "        lrate = 1e-6\n",
        "      \n",
        "    print('Changing learning rate to {}'.format(lrate))\n",
        "    return lrate\n",
        "lrate = LearningRateScheduler(step_decay)"
      ],
      "execution_count": 0,
      "outputs": []
    },
    {
      "metadata": {
        "id": "dyt7eewqDTIk",
        "colab_type": "code",
        "colab": {
          "base_uri": "https://localhost:8080/",
          "height": 1458
        },
        "outputId": "fae0ccde-3925-4b2d-b6e9-eae7b98db892"
      },
      "cell_type": "code",
      "source": [
        "earlystopper = EarlyStopping(patience=90, verbose=1)\n",
        "checkpointer = ModelCheckpoint('model-tgs-salt-1.h5', verbose=1, save_best_only=True)\n",
        "internalEval = ModelUNet.IntervalEvaluation( validation_data=( [X_val_aug, d_val], Y_val), interval = 1 )\n",
        "#results = model.fit([X_train0, d_train0], Y_train0, validation_split=0.08, batch_size=16, epochs=100, \n",
        "#                    callbacks=[earlystopper, checkpointer, lrate])\n",
        "\n",
        "results = model.fit_generator(train_generator, epochs=250, steps_per_epoch=len(X_train0) / 32, \n",
        "                              validation_data=( [X_val_aug, d_val], Y_val),\n",
        "                              callbacks=[earlystopper, checkpointer, lrate, internalEval])\n"
      ],
      "execution_count": 36,
      "outputs": [
        {
          "output_type": "stream",
          "text": [
            "Epoch 1/250\n",
            "Changing learning rate to 0.0001\n",
            " 10/121 [=>............................] - ETA: 2:33 - loss: 0.0044 - mean_iou: 0.9257"
          ],
          "name": "stdout"
        },
        {
          "output_type": "error",
          "ename": "KeyboardInterrupt",
          "evalue": "ignored",
          "traceback": [
            "\u001b[0;31m---------------------------------------------------------------------------\u001b[0m",
            "\u001b[0;31mKeyboardInterrupt\u001b[0m                         Traceback (most recent call last)",
            "\u001b[0;32m<ipython-input-36-1d0cc33bf582>\u001b[0m in \u001b[0;36m<module>\u001b[0;34m()\u001b[0m\n\u001b[1;32m      7\u001b[0m results = model.fit_generator(train_generator, epochs=250, steps_per_epoch=len(X_train0) / 32, \n\u001b[1;32m      8\u001b[0m                               \u001b[0mvalidation_data\u001b[0m\u001b[0;34m=\u001b[0m\u001b[0;34m(\u001b[0m \u001b[0;34m[\u001b[0m\u001b[0mX_val_aug\u001b[0m\u001b[0;34m,\u001b[0m \u001b[0md_val\u001b[0m\u001b[0;34m]\u001b[0m\u001b[0;34m,\u001b[0m \u001b[0mY_val\u001b[0m\u001b[0;34m)\u001b[0m\u001b[0;34m,\u001b[0m\u001b[0;34m\u001b[0m\u001b[0m\n\u001b[0;32m----> 9\u001b[0;31m                               callbacks=[earlystopper, checkpointer, lrate, internalEval])\n\u001b[0m",
            "\u001b[0;32m/usr/local/lib/python3.6/dist-packages/keras/legacy/interfaces.py\u001b[0m in \u001b[0;36mwrapper\u001b[0;34m(*args, **kwargs)\u001b[0m\n\u001b[1;32m     89\u001b[0m                 warnings.warn('Update your `' + object_name +\n\u001b[1;32m     90\u001b[0m                               '` call to the Keras 2 API: ' + signature, stacklevel=2)\n\u001b[0;32m---> 91\u001b[0;31m             \u001b[0;32mreturn\u001b[0m \u001b[0mfunc\u001b[0m\u001b[0;34m(\u001b[0m\u001b[0;34m*\u001b[0m\u001b[0margs\u001b[0m\u001b[0;34m,\u001b[0m \u001b[0;34m**\u001b[0m\u001b[0mkwargs\u001b[0m\u001b[0;34m)\u001b[0m\u001b[0;34m\u001b[0m\u001b[0m\n\u001b[0m\u001b[1;32m     92\u001b[0m         \u001b[0mwrapper\u001b[0m\u001b[0;34m.\u001b[0m\u001b[0m_original_function\u001b[0m \u001b[0;34m=\u001b[0m \u001b[0mfunc\u001b[0m\u001b[0;34m\u001b[0m\u001b[0m\n\u001b[1;32m     93\u001b[0m         \u001b[0;32mreturn\u001b[0m \u001b[0mwrapper\u001b[0m\u001b[0;34m\u001b[0m\u001b[0m\n",
            "\u001b[0;32m/usr/local/lib/python3.6/dist-packages/keras/engine/training.py\u001b[0m in \u001b[0;36mfit_generator\u001b[0;34m(self, generator, steps_per_epoch, epochs, verbose, callbacks, validation_data, validation_steps, class_weight, max_queue_size, workers, use_multiprocessing, shuffle, initial_epoch)\u001b[0m\n\u001b[1;32m   2228\u001b[0m                     outs = self.train_on_batch(x, y,\n\u001b[1;32m   2229\u001b[0m                                                \u001b[0msample_weight\u001b[0m\u001b[0;34m=\u001b[0m\u001b[0msample_weight\u001b[0m\u001b[0;34m,\u001b[0m\u001b[0;34m\u001b[0m\u001b[0m\n\u001b[0;32m-> 2230\u001b[0;31m                                                class_weight=class_weight)\n\u001b[0m\u001b[1;32m   2231\u001b[0m \u001b[0;34m\u001b[0m\u001b[0m\n\u001b[1;32m   2232\u001b[0m                     \u001b[0;32mif\u001b[0m \u001b[0;32mnot\u001b[0m \u001b[0misinstance\u001b[0m\u001b[0;34m(\u001b[0m\u001b[0mouts\u001b[0m\u001b[0;34m,\u001b[0m \u001b[0mlist\u001b[0m\u001b[0;34m)\u001b[0m\u001b[0;34m:\u001b[0m\u001b[0;34m\u001b[0m\u001b[0m\n",
            "\u001b[0;32m/usr/local/lib/python3.6/dist-packages/keras/engine/training.py\u001b[0m in \u001b[0;36mtrain_on_batch\u001b[0;34m(self, x, y, sample_weight, class_weight)\u001b[0m\n\u001b[1;32m   1881\u001b[0m             \u001b[0mins\u001b[0m \u001b[0;34m=\u001b[0m \u001b[0mx\u001b[0m \u001b[0;34m+\u001b[0m \u001b[0my\u001b[0m \u001b[0;34m+\u001b[0m \u001b[0msample_weights\u001b[0m\u001b[0;34m\u001b[0m\u001b[0m\n\u001b[1;32m   1882\u001b[0m         \u001b[0mself\u001b[0m\u001b[0;34m.\u001b[0m\u001b[0m_make_train_function\u001b[0m\u001b[0;34m(\u001b[0m\u001b[0;34m)\u001b[0m\u001b[0;34m\u001b[0m\u001b[0m\n\u001b[0;32m-> 1883\u001b[0;31m         \u001b[0moutputs\u001b[0m \u001b[0;34m=\u001b[0m \u001b[0mself\u001b[0m\u001b[0;34m.\u001b[0m\u001b[0mtrain_function\u001b[0m\u001b[0;34m(\u001b[0m\u001b[0mins\u001b[0m\u001b[0;34m)\u001b[0m\u001b[0;34m\u001b[0m\u001b[0m\n\u001b[0m\u001b[1;32m   1884\u001b[0m         \u001b[0;32mif\u001b[0m \u001b[0mlen\u001b[0m\u001b[0;34m(\u001b[0m\u001b[0moutputs\u001b[0m\u001b[0;34m)\u001b[0m \u001b[0;34m==\u001b[0m \u001b[0;36m1\u001b[0m\u001b[0;34m:\u001b[0m\u001b[0;34m\u001b[0m\u001b[0m\n\u001b[1;32m   1885\u001b[0m             \u001b[0;32mreturn\u001b[0m \u001b[0moutputs\u001b[0m\u001b[0;34m[\u001b[0m\u001b[0;36m0\u001b[0m\u001b[0;34m]\u001b[0m\u001b[0;34m\u001b[0m\u001b[0m\n",
            "\u001b[0;32m/usr/local/lib/python3.6/dist-packages/keras/backend/tensorflow_backend.py\u001b[0m in \u001b[0;36m__call__\u001b[0;34m(self, inputs)\u001b[0m\n\u001b[1;32m   2480\u001b[0m         \u001b[0msession\u001b[0m \u001b[0;34m=\u001b[0m \u001b[0mget_session\u001b[0m\u001b[0;34m(\u001b[0m\u001b[0;34m)\u001b[0m\u001b[0;34m\u001b[0m\u001b[0m\n\u001b[1;32m   2481\u001b[0m         updated = session.run(fetches=fetches, feed_dict=feed_dict,\n\u001b[0;32m-> 2482\u001b[0;31m                               **self.session_kwargs)\n\u001b[0m\u001b[1;32m   2483\u001b[0m         \u001b[0;32mreturn\u001b[0m \u001b[0mupdated\u001b[0m\u001b[0;34m[\u001b[0m\u001b[0;34m:\u001b[0m\u001b[0mlen\u001b[0m\u001b[0;34m(\u001b[0m\u001b[0mself\u001b[0m\u001b[0;34m.\u001b[0m\u001b[0moutputs\u001b[0m\u001b[0;34m)\u001b[0m\u001b[0;34m]\u001b[0m\u001b[0;34m\u001b[0m\u001b[0m\n\u001b[1;32m   2484\u001b[0m \u001b[0;34m\u001b[0m\u001b[0m\n",
            "\u001b[0;32m/usr/local/lib/python3.6/dist-packages/tensorflow/python/client/session.py\u001b[0m in \u001b[0;36mrun\u001b[0;34m(self, fetches, feed_dict, options, run_metadata)\u001b[0m\n\u001b[1;32m    885\u001b[0m     \u001b[0;32mtry\u001b[0m\u001b[0;34m:\u001b[0m\u001b[0;34m\u001b[0m\u001b[0m\n\u001b[1;32m    886\u001b[0m       result = self._run(None, fetches, feed_dict, options_ptr,\n\u001b[0;32m--> 887\u001b[0;31m                          run_metadata_ptr)\n\u001b[0m\u001b[1;32m    888\u001b[0m       \u001b[0;32mif\u001b[0m \u001b[0mrun_metadata\u001b[0m\u001b[0;34m:\u001b[0m\u001b[0;34m\u001b[0m\u001b[0m\n\u001b[1;32m    889\u001b[0m         \u001b[0mproto_data\u001b[0m \u001b[0;34m=\u001b[0m \u001b[0mtf_session\u001b[0m\u001b[0;34m.\u001b[0m\u001b[0mTF_GetBuffer\u001b[0m\u001b[0;34m(\u001b[0m\u001b[0mrun_metadata_ptr\u001b[0m\u001b[0;34m)\u001b[0m\u001b[0;34m\u001b[0m\u001b[0m\n",
            "\u001b[0;32m/usr/local/lib/python3.6/dist-packages/tensorflow/python/client/session.py\u001b[0m in \u001b[0;36m_run\u001b[0;34m(self, handle, fetches, feed_dict, options, run_metadata)\u001b[0m\n\u001b[1;32m   1108\u001b[0m     \u001b[0;32mif\u001b[0m \u001b[0mfinal_fetches\u001b[0m \u001b[0;32mor\u001b[0m \u001b[0mfinal_targets\u001b[0m \u001b[0;32mor\u001b[0m \u001b[0;34m(\u001b[0m\u001b[0mhandle\u001b[0m \u001b[0;32mand\u001b[0m \u001b[0mfeed_dict_tensor\u001b[0m\u001b[0;34m)\u001b[0m\u001b[0;34m:\u001b[0m\u001b[0;34m\u001b[0m\u001b[0m\n\u001b[1;32m   1109\u001b[0m       results = self._do_run(handle, final_targets, final_fetches,\n\u001b[0;32m-> 1110\u001b[0;31m                              feed_dict_tensor, options, run_metadata)\n\u001b[0m\u001b[1;32m   1111\u001b[0m     \u001b[0;32melse\u001b[0m\u001b[0;34m:\u001b[0m\u001b[0;34m\u001b[0m\u001b[0m\n\u001b[1;32m   1112\u001b[0m       \u001b[0mresults\u001b[0m \u001b[0;34m=\u001b[0m \u001b[0;34m[\u001b[0m\u001b[0;34m]\u001b[0m\u001b[0;34m\u001b[0m\u001b[0m\n",
            "\u001b[0;32m/usr/local/lib/python3.6/dist-packages/tensorflow/python/client/session.py\u001b[0m in \u001b[0;36m_do_run\u001b[0;34m(self, handle, target_list, fetch_list, feed_dict, options, run_metadata)\u001b[0m\n\u001b[1;32m   1284\u001b[0m     \u001b[0;32mif\u001b[0m \u001b[0mhandle\u001b[0m \u001b[0;32mis\u001b[0m \u001b[0;32mNone\u001b[0m\u001b[0;34m:\u001b[0m\u001b[0;34m\u001b[0m\u001b[0m\n\u001b[1;32m   1285\u001b[0m       return self._do_call(_run_fn, feeds, fetches, targets, options,\n\u001b[0;32m-> 1286\u001b[0;31m                            run_metadata)\n\u001b[0m\u001b[1;32m   1287\u001b[0m     \u001b[0;32melse\u001b[0m\u001b[0;34m:\u001b[0m\u001b[0;34m\u001b[0m\u001b[0m\n\u001b[1;32m   1288\u001b[0m       \u001b[0;32mreturn\u001b[0m \u001b[0mself\u001b[0m\u001b[0;34m.\u001b[0m\u001b[0m_do_call\u001b[0m\u001b[0;34m(\u001b[0m\u001b[0m_prun_fn\u001b[0m\u001b[0;34m,\u001b[0m \u001b[0mhandle\u001b[0m\u001b[0;34m,\u001b[0m \u001b[0mfeeds\u001b[0m\u001b[0;34m,\u001b[0m \u001b[0mfetches\u001b[0m\u001b[0;34m)\u001b[0m\u001b[0;34m\u001b[0m\u001b[0m\n",
            "\u001b[0;32m/usr/local/lib/python3.6/dist-packages/tensorflow/python/client/session.py\u001b[0m in \u001b[0;36m_do_call\u001b[0;34m(self, fn, *args)\u001b[0m\n\u001b[1;32m   1290\u001b[0m   \u001b[0;32mdef\u001b[0m \u001b[0m_do_call\u001b[0m\u001b[0;34m(\u001b[0m\u001b[0mself\u001b[0m\u001b[0;34m,\u001b[0m \u001b[0mfn\u001b[0m\u001b[0;34m,\u001b[0m \u001b[0;34m*\u001b[0m\u001b[0margs\u001b[0m\u001b[0;34m)\u001b[0m\u001b[0;34m:\u001b[0m\u001b[0;34m\u001b[0m\u001b[0m\n\u001b[1;32m   1291\u001b[0m     \u001b[0;32mtry\u001b[0m\u001b[0;34m:\u001b[0m\u001b[0;34m\u001b[0m\u001b[0m\n\u001b[0;32m-> 1292\u001b[0;31m       \u001b[0;32mreturn\u001b[0m \u001b[0mfn\u001b[0m\u001b[0;34m(\u001b[0m\u001b[0;34m*\u001b[0m\u001b[0margs\u001b[0m\u001b[0;34m)\u001b[0m\u001b[0;34m\u001b[0m\u001b[0m\n\u001b[0m\u001b[1;32m   1293\u001b[0m     \u001b[0;32mexcept\u001b[0m \u001b[0merrors\u001b[0m\u001b[0;34m.\u001b[0m\u001b[0mOpError\u001b[0m \u001b[0;32mas\u001b[0m \u001b[0me\u001b[0m\u001b[0;34m:\u001b[0m\u001b[0;34m\u001b[0m\u001b[0m\n\u001b[1;32m   1294\u001b[0m       \u001b[0mmessage\u001b[0m \u001b[0;34m=\u001b[0m \u001b[0mcompat\u001b[0m\u001b[0;34m.\u001b[0m\u001b[0mas_text\u001b[0m\u001b[0;34m(\u001b[0m\u001b[0me\u001b[0m\u001b[0;34m.\u001b[0m\u001b[0mmessage\u001b[0m\u001b[0;34m)\u001b[0m\u001b[0;34m\u001b[0m\u001b[0m\n",
            "\u001b[0;32m/usr/local/lib/python3.6/dist-packages/tensorflow/python/client/session.py\u001b[0m in \u001b[0;36m_run_fn\u001b[0;34m(feed_dict, fetch_list, target_list, options, run_metadata)\u001b[0m\n\u001b[1;32m   1275\u001b[0m       \u001b[0mself\u001b[0m\u001b[0;34m.\u001b[0m\u001b[0m_extend_graph\u001b[0m\u001b[0;34m(\u001b[0m\u001b[0;34m)\u001b[0m\u001b[0;34m\u001b[0m\u001b[0m\n\u001b[1;32m   1276\u001b[0m       return self._call_tf_sessionrun(\n\u001b[0;32m-> 1277\u001b[0;31m           options, feed_dict, fetch_list, target_list, run_metadata)\n\u001b[0m\u001b[1;32m   1278\u001b[0m \u001b[0;34m\u001b[0m\u001b[0m\n\u001b[1;32m   1279\u001b[0m     \u001b[0;32mdef\u001b[0m \u001b[0m_prun_fn\u001b[0m\u001b[0;34m(\u001b[0m\u001b[0mhandle\u001b[0m\u001b[0;34m,\u001b[0m \u001b[0mfeed_dict\u001b[0m\u001b[0;34m,\u001b[0m \u001b[0mfetch_list\u001b[0m\u001b[0;34m)\u001b[0m\u001b[0;34m:\u001b[0m\u001b[0;34m\u001b[0m\u001b[0m\n",
            "\u001b[0;32m/usr/local/lib/python3.6/dist-packages/tensorflow/python/client/session.py\u001b[0m in \u001b[0;36m_call_tf_sessionrun\u001b[0;34m(self, options, feed_dict, fetch_list, target_list, run_metadata)\u001b[0m\n\u001b[1;32m   1365\u001b[0m     return tf_session.TF_SessionRun_wrapper(\n\u001b[1;32m   1366\u001b[0m         \u001b[0mself\u001b[0m\u001b[0;34m.\u001b[0m\u001b[0m_session\u001b[0m\u001b[0;34m,\u001b[0m \u001b[0moptions\u001b[0m\u001b[0;34m,\u001b[0m \u001b[0mfeed_dict\u001b[0m\u001b[0;34m,\u001b[0m \u001b[0mfetch_list\u001b[0m\u001b[0;34m,\u001b[0m \u001b[0mtarget_list\u001b[0m\u001b[0;34m,\u001b[0m\u001b[0;34m\u001b[0m\u001b[0m\n\u001b[0;32m-> 1367\u001b[0;31m         run_metadata)\n\u001b[0m\u001b[1;32m   1368\u001b[0m \u001b[0;34m\u001b[0m\u001b[0m\n\u001b[1;32m   1369\u001b[0m   \u001b[0;32mdef\u001b[0m \u001b[0m_call_tf_sessionprun\u001b[0m\u001b[0;34m(\u001b[0m\u001b[0mself\u001b[0m\u001b[0;34m,\u001b[0m \u001b[0mhandle\u001b[0m\u001b[0;34m,\u001b[0m \u001b[0mfeed_dict\u001b[0m\u001b[0;34m,\u001b[0m \u001b[0mfetch_list\u001b[0m\u001b[0;34m)\u001b[0m\u001b[0;34m:\u001b[0m\u001b[0;34m\u001b[0m\u001b[0m\n",
            "\u001b[0;31mKeyboardInterrupt\u001b[0m: "
          ]
        }
      ]
    },
    {
      "metadata": {
        "id": "whTe0g6POJAI",
        "colab_type": "code",
        "colab": {
          "base_uri": "https://localhost:8080/",
          "height": 282
        },
        "outputId": "da4dbe87-51ae-4455-b099-237edc6447df"
      },
      "cell_type": "code",
      "source": [
        "plt.plot(internalEval.score_list[4:])"
      ],
      "execution_count": 33,
      "outputs": [
        {
          "output_type": "execute_result",
          "data": {
            "text/plain": [
              "[<matplotlib.lines.Line2D at 0x7fccca378390>]"
            ]
          },
          "metadata": {
            "tags": []
          },
          "execution_count": 33
        },
        {
          "output_type": "display_data",
          "data": {
            "image/png": "[encoded data removed]",
            "text/plain": [
              "<matplotlib.figure.Figure at 0x7fccc9e09908>"
            ]
          },
          "metadata": {
            "tags": []
          }
        }
      ]
    },
    {
      "metadata": {
        "id": "Ll6kIRmGJ2v2",
        "colab_type": "code",
        "colab": {
          "base_uri": "https://localhost:8080/",
          "height": 34
        },
        "outputId": "6d178011-6a76-477c-9627-14aeec443bf0"
      },
      "cell_type": "code",
      "source": [
        "# list all data in history\n",
        "print(results.history.keys())"
      ],
      "execution_count": 34,
      "outputs": [
        {
          "output_type": "stream",
          "text": [
            "dict_keys(['val_loss', 'val_mean_iou', 'loss', 'mean_iou'])\n"
          ],
          "name": "stdout"
        }
      ]
    },
    {
      "metadata": {
        "id": "RWk2IN87A49p",
        "colab_type": "code",
        "colab": {
          "base_uri": "https://localhost:8080/",
          "height": 571
        },
        "outputId": "fd7217a7-56a7-4e44-e0ce-17b932cda065"
      },
      "cell_type": "code",
      "source": [
        "# summarize history for intersestion over union\n",
        "plt.plot(results.history['mean_iou'])\n",
        "plt.plot(results.history['val_mean_iou'])\n",
        "plt.title('model IoU')\n",
        "plt.ylabel('accuracy')\n",
        "plt.xlabel('epoch')\n",
        "plt.legend(['train', 'test'], loc='upper left')\n",
        "plt.show()\n",
        "# summarize history for loss\n",
        "plt.plot(results.history['loss'])\n",
        "plt.plot(results.history['val_loss'])\n",
        "plt.title('model loss')\n",
        "plt.ylabel('loss')\n",
        "plt.xlabel('epoch')\n",
        "plt.legend(['train', 'test'], loc='upper left')\n",
        "plt.show()"
      ],
      "execution_count": 37,
      "outputs": [
        {
          "output_type": "display_data",
          "data": {
            "image/png": "[encoded data removed]",
            "text/plain": [
              "<matplotlib.figure.Figure at 0x7fccca125fd0>"
            ]
          },
          "metadata": {
            "tags": []
          }
        },
        {
          "output_type": "display_data",
          "data": {
            "image/png": "[encoded data removed]",
            "text/plain": [
              "<matplotlib.figure.Figure at 0x7fcd18e675c0>"
            ]
          },
          "metadata": {
            "tags": []
          }
        }
      ]
    },
    {
      "metadata": {
        "id": "i5wSipENVOKh",
        "colab_type": "code",
        "colab": {}
      },
      "cell_type": "code",
      "source": [
        "!pip install -U -q PyDrive\n",
        "from pydrive.auth import GoogleAuth\n",
        "from pydrive.drive import GoogleDrive\n",
        "from google.colab import auth\n",
        "from oauth2client.client import GoogleCredentials\n",
        "\n",
        "# Authenticate and create the PyDrive client.\n",
        "# This only needs to be done once in a notebook.\n",
        "auth.authenticate_user()\n",
        "gauth = GoogleAuth()\n",
        "gauth.credentials = GoogleCredentials.get_application_default()\n",
        "drive = GoogleDrive(gauth)\n",
        "\n",
        "saved_model = drive.CreateFile({'id': '1tixSI8-5xHGAko3KXSEdksTb466xSOwQ'}) #1Qfmpxsf8Yqz30Qkip8oyuGug6QC-jqUX\n",
        "saved_model.GetContentFile('model-tgs-salt-IV.h5')"
      ],
      "execution_count": 0,
      "outputs": []
    },
    {
      "metadata": {
        "id": "XW_rfkR1dWKs",
        "colab_type": "code",
        "colab": {}
      },
      "cell_type": "code",
      "source": [
        "model = load_model('model-tgs-salt-IV.h5', custom_objects={'mean_iou': ModelUNet.mean_iou, 'dice_loss' : ModelUNet.dice_loss, 'ModelUNet': ModelUNet,\n",
        "                                                           '_expand': ModelUNet._expand, 'relu6': DeepLabv3Plus.relu6, 'BilinearUpsampling': DeepLabv3Plus.BilinearUpsampling }) #, 'ReflectionPadding2D' : ReflectionPadding2D})\n",
        "#model.save('model-tgs-salt-1.h5')"
      ],
      "execution_count": 0,
      "outputs": []
    },
    {
      "metadata": {
        "id": "qNr4jF7z4gZd",
        "colab_type": "code",
        "colab": {}
      },
      "cell_type": "code",
      "source": [
        "#from google.colab import files\n",
        "#files.download('model-tgs-salt-1.h5')\n",
        "#files.upload()"
      ],
      "execution_count": 0,
      "outputs": []
    },
    {
      "metadata": {
        "id": "_p5pvS2vOJAd",
        "colab_type": "code",
        "colab": {}
      },
      "cell_type": "code",
      "source": [
        "#for i in tqdm(range(len(X_train0))):\n",
        "#    X_train0[i] = image_datagen.standardize(X_train0[i].astype(float))\n",
        "    \n",
        "#for i in tqdm(range(len(X_val))):\n",
        "#    X_val[i] = image_datagen.standardize(X_val[i].astype(float))"
      ],
      "execution_count": 0,
      "outputs": []
    },
    {
      "metadata": {
        "id": "8XSdRAqCdYfF",
        "colab_type": "code",
        "colab": {
          "base_uri": "https://localhost:8080/",
          "height": 51
        },
        "outputId": "7260c70e-fd7a-4816-c75f-9595f775e798"
      },
      "cell_type": "code",
      "source": [
        "X_train0 = augment(X_train0)\n",
        "X_val = augment(X_val)\n",
        "preds_train = model.predict([X_train0, d_train0], verbose=1)\n",
        "preds_val = model.predict([X_val,d_val], verbose=1)"
      ],
      "execution_count": 42,
      "outputs": [
        {
          "output_type": "stream",
          "text": [
            "3880/3880 [==============================] - 54s 14ms/step\n",
            "120/120 [==============================] - 1s 12ms/step\n"
          ],
          "name": "stdout"
        }
      ]
    },
    {
      "metadata": {
        "id": "wPgBdWWyOJAk",
        "colab_type": "text"
      },
      "cell_type": "markdown",
      "source": [
        "## Watershed"
      ]
    },
    {
      "metadata": {
        "id": "B2FGuv-4OJAl",
        "colab_type": "code",
        "colab": {}
      },
      "cell_type": "code",
      "source": [
        "# Perform a sanity check on some random training samples\n",
        "from skimage.morphology import watershed\n",
        "\n",
        "ix = np.random.randint(0, len(preds_val))\n",
        "ix=64"
      ],
      "execution_count": 0,
      "outputs": []
    },
    {
      "metadata": {
        "id": "bDMOpFyGOJAv",
        "colab_type": "code",
        "colab": {
          "base_uri": "https://localhost:8080/",
          "height": 268
        },
        "outputId": "26f49587-0800-4581-819f-8bde4efbe80a"
      },
      "cell_type": "code",
      "source": [
        "markers = np.zeros_like(preds_val[ix,:,:,0])\n",
        "markers[preds_val[ix,:,:,0] < 0.1] = 2\n",
        "markers[preds_val[ix,:,:,0] > 0.4] = 1\n",
        "plt.imshow(markers)\n",
        "plt.show()"
      ],
      "execution_count": 0,
      "outputs": [
        {
          "output_type": "display_data",
          "data": {
            "image/png": "[encoded data removed]",
            "text/plain": [
              "<matplotlib.figure.Figure at 0x7f7041e27128>"
            ]
          },
          "metadata": {
            "tags": []
          }
        }
      ]
    },
    {
      "metadata": {
        "id": "Z0j512-MOJA4",
        "colab_type": "code",
        "colab": {
          "base_uri": "https://localhost:8080/",
          "height": 285
        },
        "outputId": "5f5fd82a-28a8-4ff7-923b-192c57a774bf"
      },
      "cell_type": "code",
      "source": [
        "segmentation = watershed(preds_val[ix,:,:,0], markers)\n",
        "segmentation[segmentation == 2] = 0\n",
        "plt.imshow(segmentation)"
      ],
      "execution_count": 0,
      "outputs": [
        {
          "output_type": "execute_result",
          "data": {
            "text/plain": [
              "<matplotlib.image.AxesImage at 0x7f7041efbf60>"
            ]
          },
          "metadata": {
            "tags": []
          },
          "execution_count": 78
        },
        {
          "output_type": "display_data",
          "data": {
            "image/png": "[encoded data removed]",
            "text/plain": [
              "<matplotlib.figure.Figure at 0x7f7041d94c88>"
            ]
          },
          "metadata": {
            "tags": []
          }
        }
      ]
    },
    {
      "metadata": {
        "id": "C0sfwhc4OJA9",
        "colab_type": "code",
        "colab": {},
        "outputId": "4f3fe2c9-d6e7-4e02-e1cf-6a39a415ca2f"
      },
      "cell_type": "code",
      "source": [
        "segmentation"
      ],
      "execution_count": 0,
      "outputs": [
        {
          "output_type": "execute_result",
          "data": {
            "text/plain": [
              "array([[1, 1, 1, ..., 0, 0, 0],\n",
              "       [1, 1, 1, ..., 0, 0, 0],\n",
              "       [1, 1, 1, ..., 0, 0, 0],\n",
              "       ...,\n",
              "       [0, 0, 0, ..., 0, 0, 0],\n",
              "       [0, 0, 0, ..., 0, 0, 0],\n",
              "       [0, 0, 0, ..., 0, 0, 0]], dtype=int32)"
            ]
          },
          "metadata": {
            "tags": []
          },
          "execution_count": 116
        }
      ]
    },
    {
      "metadata": {
        "id": "pUU418ukOJBG",
        "colab_type": "code",
        "colab": {
          "base_uri": "https://localhost:8080/",
          "height": 7769
        },
        "outputId": "5ae4803c-a42b-47ff-bcf5-c112e8831042"
      },
      "cell_type": "code",
      "source": [
        "threshList = []\n",
        "IoUList = []\n",
        "IoUValList = []\n",
        "for kk in tqdm(range(65)):\n",
        "    thresh = 0.3 + 0.7*(1+kk)/65\n",
        "    threshList.append(thresh)\n",
        "    \n",
        "    meanIoUVal = 0\n",
        "    \n",
        "    preds_val_ws = ModelUNet.WaterShedChangeAll(preds_val, lowThresh = 0.1, highThresh = thresh)\n",
        "    meanIoUVal = np.array([ModelUNet.IoU(preds_val_ws[i], Y_val[i]) for i in range(Y_val.shape[0])])\n",
        "    IoUValList.append(np.mean(meanIoUVal) )\n",
        "    "
      ],
      "execution_count": 0,
      "outputs": [
        {
          "output_type": "stream",
          "text": [
            "  0%|          | 0/65 [00:00<?, ?it/s]\n",
            "  0%|          | 0/160 [00:00<?, ?it/s]\u001b[A\n",
            " 19%|█▉        | 31/160 [00:00<00:00, 303.96it/s]\u001b[A\n",
            " 37%|███▋      | 59/160 [00:00<00:00, 291.39it/s]\u001b[A\n",
            " 54%|█████▍    | 87/160 [00:00<00:00, 286.86it/s]\u001b[A\n",
            " 73%|███████▎  | 117/160 [00:00<00:00, 288.82it/s]\u001b[A\n",
            " 92%|█████████▏| 147/160 [00:00<00:00, 290.24it/s]\u001b[A\n",
            "  2%|▏         | 1/65 [00:00<00:59,  1.08it/s]\n",
            "  0%|          | 0/160 [00:00<?, ?it/s]\u001b[A\n",
            " 20%|██        | 32/160 [00:00<00:00, 313.56it/s]\u001b[A\n",
            " 39%|███▉      | 62/160 [00:00<00:00, 304.15it/s]\u001b[A\n",
            " 57%|█████▋    | 91/160 [00:00<00:00, 297.71it/s]\u001b[A\n",
            " 75%|███████▌  | 120/160 [00:00<00:00, 293.57it/s]\u001b[A\n",
            " 92%|█████████▏| 147/160 [00:00<00:00, 288.51it/s]\u001b[A\n",
            "  3%|▎         | 2/65 [00:01<00:58,  1.08it/s]\n",
            "  0%|          | 0/160 [00:00<?, ?it/s]\u001b[A\n",
            " 19%|█▉        | 30/160 [00:00<00:00, 293.21it/s]\u001b[A\n",
            " 34%|███▍      | 54/160 [00:00<00:00, 264.06it/s]\u001b[A\n",
            " 52%|█████▏    | 83/160 [00:00<00:00, 271.01it/s]\u001b[A\n",
            " 71%|███████   | 113/160 [00:00<00:00, 276.22it/s]\u001b[A\n",
            " 88%|████████▊ | 141/160 [00:00<00:00, 276.24it/s]\u001b[A\n",
            "  5%|▍         | 3/65 [00:02<00:57,  1.09it/s]\n",
            "  0%|          | 0/160 [00:00<?, ?it/s]\u001b[A\n",
            " 19%|█▉        | 31/160 [00:00<00:00, 298.49it/s]\u001b[A\n",
            " 39%|███▉      | 62/160 [00:00<00:00, 300.22it/s]\u001b[A\n",
            " 57%|█████▊    | 92/160 [00:00<00:00, 299.02it/s]\u001b[A\n",
            " 76%|███████▌  | 121/160 [00:00<00:00, 294.87it/s]\u001b[A\n",
            " 91%|█████████▏| 146/160 [00:00<00:00, 284.65it/s]\u001b[A\n",
            "  6%|▌         | 4/65 [00:03<00:56,  1.09it/s]\n",
            "  0%|          | 0/160 [00:00<?, ?it/s]\u001b[A\n",
            " 19%|█▉        | 30/160 [00:00<00:00, 294.61it/s]\u001b[A\n",
            " 38%|███▊      | 60/160 [00:00<00:00, 293.63it/s]\u001b[A\n",
            " 56%|█████▋    | 90/160 [00:00<00:00, 292.78it/s]\u001b[A\n",
            " 75%|███████▌  | 120/160 [00:00<00:00, 293.06it/s]\u001b[A\n",
            " 93%|█████████▎| 149/160 [00:00<00:00, 292.21it/s]\u001b[A\n",
            "  8%|▊         | 5/65 [00:04<00:55,  1.09it/s]\n",
            "  0%|          | 0/160 [00:00<?, ?it/s]\u001b[A\n",
            " 20%|██        | 32/160 [00:00<00:00, 314.63it/s]\u001b[A\n",
            " 39%|███▉      | 62/160 [00:00<00:00, 304.70it/s]\u001b[A\n",
            " 57%|█████▊    | 92/160 [00:00<00:00, 301.09it/s]\u001b[A\n",
            " 76%|███████▌  | 121/160 [00:00<00:00, 297.32it/s]\u001b[A\n",
            " 94%|█████████▍| 150/160 [00:00<00:00, 295.41it/s]\u001b[A\n",
            "  9%|▉         | 6/65 [00:05<00:53,  1.09it/s]\n",
            "  0%|          | 0/160 [00:00<?, ?it/s]\u001b[A\n",
            " 19%|█▉        | 31/160 [00:00<00:00, 301.66it/s]\u001b[A\n",
            " 37%|███▋      | 59/160 [00:00<00:00, 288.65it/s]\u001b[A\n",
            " 53%|█████▎    | 85/160 [00:00<00:00, 278.53it/s]\u001b[A\n",
            " 72%|███████▎  | 116/160 [00:00<00:00, 284.00it/s]\u001b[A\n",
            " 91%|█████████ | 145/160 [00:00<00:00, 283.71it/s]\u001b[A\n",
            " 11%|█         | 7/65 [00:06<00:53,  1.09it/s]\n",
            "  0%|          | 0/160 [00:00<?, ?it/s]\u001b[A\n",
            " 19%|█▉        | 31/160 [00:00<00:00, 303.29it/s]\u001b[A\n",
            " 38%|███▊      | 61/160 [00:00<00:00, 298.23it/s]\u001b[A\n",
            " 56%|█████▌    | 89/160 [00:00<00:00, 291.53it/s]\u001b[A\n",
            " 74%|███████▍  | 118/160 [00:00<00:00, 290.31it/s]\u001b[A\n",
            " 93%|█████████▎| 149/160 [00:00<00:00, 292.55it/s]\u001b[A\n",
            " 12%|█▏        | 8/65 [00:07<00:52,  1.09it/s]\n",
            "  0%|          | 0/160 [00:00<?, ?it/s]\u001b[A\n",
            " 20%|██        | 32/160 [00:00<00:00, 309.50it/s]\u001b[A\n",
            " 39%|███▉      | 62/160 [00:00<00:00, 301.25it/s]\u001b[A\n",
            " 56%|█████▋    | 90/160 [00:00<00:00, 291.63it/s]\u001b[A\n",
            " 75%|███████▌  | 120/160 [00:00<00:00, 292.10it/s]\u001b[A\n",
            " 94%|█████████▍| 150/160 [00:00<00:00, 291.86it/s]\u001b[A\n",
            " 14%|█▍        | 9/65 [00:08<00:51,  1.10it/s]\n",
            "  0%|          | 0/160 [00:00<?, ?it/s]\u001b[A\n",
            " 16%|█▋        | 26/160 [00:00<00:00, 251.11it/s]\u001b[A\n",
            " 34%|███▍      | 55/160 [00:00<00:00, 269.85it/s]\u001b[A\n",
            " 53%|█████▎    | 85/160 [00:00<00:00, 278.06it/s]\u001b[A\n",
            " 71%|███████   | 113/160 [00:00<00:00, 276.38it/s]\u001b[A\n",
            " 89%|████████▉ | 143/160 [00:00<00:00, 280.69it/s]\u001b[A\n",
            " 15%|█▌        | 10/65 [00:09<00:50,  1.09it/s]\n",
            "  0%|          | 0/160 [00:00<?, ?it/s]\u001b[A\n",
            " 19%|█▉        | 31/160 [00:00<00:00, 303.14it/s]\u001b[A\n",
            " 37%|███▋      | 59/160 [00:00<00:00, 288.10it/s]\u001b[A\n",
            " 56%|█████▌    | 89/160 [00:00<00:00, 289.52it/s]\u001b[A\n",
            " 71%|███████▏  | 114/160 [00:00<00:00, 279.73it/s]\u001b[A\n",
            " 89%|████████▉ | 142/160 [00:00<00:00, 279.47it/s]\u001b[A\n",
            " 17%|█▋        | 11/65 [00:10<00:49,  1.09it/s]\n",
            "  0%|          | 0/160 [00:00<?, ?it/s]\u001b[A\n",
            " 20%|██        | 32/160 [00:00<00:00, 311.84it/s]\u001b[A\n",
            " 39%|███▉      | 62/160 [00:00<00:00, 303.31it/s]\u001b[A\n",
            " 57%|█████▋    | 91/160 [00:00<00:00, 296.92it/s]\u001b[A\n",
            " 76%|███████▌  | 121/160 [00:00<00:00, 296.97it/s]\u001b[A\n",
            " 93%|█████████▎| 149/160 [00:00<00:00, 292.51it/s]\u001b[A\n",
            " 18%|█▊        | 12/65 [00:10<00:48,  1.09it/s]\n",
            "  0%|          | 0/160 [00:00<?, ?it/s]\u001b[A\n",
            " 19%|█▉        | 30/160 [00:00<00:00, 295.40it/s]\u001b[A\n",
            " 37%|███▋      | 59/160 [00:00<00:00, 289.60it/s]\u001b[A\n",
            " 54%|█████▍    | 86/160 [00:00<00:00, 279.22it/s]\u001b[A\n",
            " 72%|███████▏  | 115/160 [00:00<00:00, 281.17it/s]\u001b[A\n",
            " 90%|█████████ | 144/160 [00:00<00:00, 280.93it/s]\u001b[A\n",
            " 20%|██        | 13/65 [00:11<00:47,  1.09it/s]\n",
            "  0%|          | 0/160 [00:00<?, ?it/s]\u001b[A\n",
            " 19%|█▉        | 30/160 [00:00<00:00, 280.40it/s]\u001b[A\n",
            " 34%|███▍      | 55/160 [00:00<00:00, 268.14it/s]\u001b[A\n",
            " 51%|█████▏    | 82/160 [00:00<00:00, 266.56it/s]\u001b[A\n",
            " 69%|██████▉   | 110/160 [00:00<00:00, 269.46it/s]\u001b[A\n",
            " 87%|████████▋ | 139/160 [00:00<00:00, 271.27it/s]\u001b[A\n",
            " 22%|██▏       | 14/65 [00:12<00:46,  1.09it/s]\n",
            "  0%|          | 0/160 [00:00<?, ?it/s]\u001b[A\n",
            " 20%|██        | 32/160 [00:00<00:00, 306.81it/s]\u001b[A\n",
            " 37%|███▋      | 59/160 [00:00<00:00, 288.17it/s]\u001b[A\n",
            " 56%|█████▌    | 89/160 [00:00<00:00, 290.65it/s]\u001b[A\n",
            " 74%|███████▍  | 119/160 [00:00<00:00, 292.59it/s]\u001b[A\n",
            " 89%|████████▉ | 142/160 [00:00<00:00, 279.55it/s]\u001b[A\n",
            " 23%|██▎       | 15/65 [00:13<00:45,  1.09it/s]\n",
            "  0%|          | 0/160 [00:00<?, ?it/s]\u001b[A\n",
            " 19%|█▉        | 30/160 [00:00<00:00, 290.31it/s]\u001b[A\n",
            " 37%|███▋      | 59/160 [00:00<00:00, 288.60it/s]\u001b[A\n",
            " 55%|█████▌    | 88/160 [00:00<00:00, 285.74it/s]\u001b[A\n",
            " 72%|███████▎  | 116/160 [00:00<00:00, 284.36it/s]\u001b[A\n",
            " 90%|█████████ | 144/160 [00:00<00:00, 283.06it/s]\u001b[A\n",
            " 25%|██▍       | 16/65 [00:14<00:44,  1.09it/s]\n",
            "  0%|          | 0/160 [00:00<?, ?it/s]\u001b[A\n",
            " 19%|█▉        | 31/160 [00:00<00:00, 298.91it/s]\u001b[A\n",
            " 38%|███▊      | 60/160 [00:00<00:00, 293.21it/s]\u001b[A\n",
            " 56%|█████▋    | 90/160 [00:00<00:00, 293.67it/s]\u001b[A\n",
            " 75%|███████▌  | 120/160 [00:00<00:00, 293.46it/s]\u001b[A\n",
            " 94%|█████████▍| 151/160 [00:00<00:00, 294.63it/s]\u001b[A\n",
            " 26%|██▌       | 17/65 [00:15<00:43,  1.09it/s]\n",
            "  0%|          | 0/160 [00:00<?, ?it/s]\u001b[A\n",
            " 20%|██        | 32/160 [00:00<00:00, 304.26it/s]\u001b[A\n",
            " 34%|███▍      | 55/160 [00:00<00:00, 267.50it/s]\u001b[A\n",
            " 53%|█████▎    | 85/160 [00:00<00:00, 276.95it/s]\u001b[A\n",
            " 71%|███████▏  | 114/160 [00:00<00:00, 278.24it/s]\u001b[A\n",
            " 89%|████████▉ | 143/160 [00:00<00:00, 279.46it/s]\u001b[A\n",
            " 28%|██▊       | 18/65 [00:16<00:43,  1.09it/s]\n",
            "  0%|          | 0/160 [00:00<?, ?it/s]\u001b[A\n",
            " 19%|█▉        | 31/160 [00:00<00:00, 304.48it/s]\u001b[A\n",
            " 37%|███▋      | 59/160 [00:00<00:00, 290.09it/s]\u001b[A\n",
            " 55%|█████▌    | 88/160 [00:00<00:00, 289.60it/s]\u001b[A\n",
            " 74%|███████▍  | 118/160 [00:00<00:00, 291.43it/s]\u001b[A\n",
            " 92%|█████████▏| 147/160 [00:00<00:00, 289.32it/s]\u001b[A\n",
            " 29%|██▉       | 19/65 [00:17<00:42,  1.09it/s]\n",
            "  0%|          | 0/160 [00:00<?, ?it/s]\u001b[A\n",
            " 20%|██        | 32/160 [00:00<00:00, 309.87it/s]\u001b[A\n",
            " 38%|███▊      | 61/160 [00:00<00:00, 297.41it/s]\u001b[A\n",
            " 56%|█████▌    | 89/160 [00:00<00:00, 290.79it/s]\u001b[A\n",
            " 72%|███████▎  | 116/160 [00:00<00:00, 284.13it/s]\u001b[A\n",
            " 91%|█████████▏| 146/160 [00:00<00:00, 285.80it/s]\u001b[A\n",
            " 31%|███       | 20/65 [00:18<00:41,  1.09it/s]\n",
            "  0%|          | 0/160 [00:00<?, ?it/s]\u001b[A\n",
            " 18%|█▊        | 29/160 [00:00<00:00, 285.88it/s]\u001b[A\n",
            " 37%|███▋      | 59/160 [00:00<00:00, 290.06it/s]\u001b[A\n",
            " 56%|█████▌    | 89/160 [00:00<00:00, 291.37it/s]\u001b[A\n",
            " 74%|███████▍  | 118/160 [00:00<00:00, 290.42it/s]\u001b[A\n",
            " 92%|█████████▎| 148/160 [00:00<00:00, 290.67it/s]\u001b[A\n",
            " 32%|███▏      | 21/65 [00:19<00:40,  1.09it/s]\n",
            "  0%|          | 0/160 [00:00<?, ?it/s]\u001b[A\n",
            " 20%|██        | 32/160 [00:00<00:00, 309.11it/s]\u001b[A\n",
            " 39%|███▉      | 62/160 [00:00<00:00, 300.74it/s]\u001b[A\n",
            " 55%|█████▌    | 88/160 [00:00<00:00, 286.41it/s]\u001b[A\n",
            " 73%|███████▎  | 117/160 [00:00<00:00, 286.69it/s]\u001b[A\n",
            " 92%|█████████▏| 147/160 [00:00<00:00, 287.94it/s]\u001b[A\n",
            " 34%|███▍      | 22/65 [00:20<00:39,  1.09it/s]\n",
            "  0%|          | 0/160 [00:00<?, ?it/s]\u001b[A\n",
            " 18%|█▊        | 29/160 [00:00<00:00, 281.40it/s]\u001b[A\n",
            " 37%|███▋      | 59/160 [00:00<00:00, 290.47it/s]\u001b[A\n",
            " 56%|█████▌    | 89/160 [00:00<00:00, 292.46it/s]\u001b[A\n",
            " 75%|███████▌  | 120/160 [00:00<00:00, 294.83it/s]\u001b[A\n",
            " 93%|█████████▎| 149/160 [00:00<00:00, 293.22it/s]\u001b[A\n",
            " 35%|███▌      | 23/65 [00:21<00:38,  1.09it/s]\n",
            "  0%|          | 0/160 [00:00<?, ?it/s]\u001b[A\n",
            " 20%|██        | 32/160 [00:00<00:00, 309.68it/s]\u001b[A\n",
            " 36%|███▋      | 58/160 [00:00<00:00, 283.18it/s]\u001b[A\n",
            " 55%|█████▌    | 88/160 [00:00<00:00, 284.28it/s]\u001b[A\n",
            " 74%|███████▍  | 118/160 [00:00<00:00, 287.20it/s]\u001b[A\n",
            " 91%|█████████▏| 146/160 [00:00<00:00, 285.56it/s]\u001b[A\n",
            " 37%|███▋      | 24/65 [00:21<00:37,  1.09it/s]\n",
            "  0%|          | 0/160 [00:00<?, ?it/s]\u001b[A\n",
            " 18%|█▊        | 28/160 [00:00<00:00, 271.25it/s]\u001b[A\n",
            " 36%|███▌      | 57/160 [00:00<00:00, 278.58it/s]\u001b[A\n",
            " 53%|█████▎    | 85/160 [00:00<00:00, 278.35it/s]\u001b[A\n",
            " 72%|███████▏  | 115/160 [00:00<00:00, 282.92it/s]\u001b[A\n",
            " 90%|█████████ | 144/160 [00:00<00:00, 283.85it/s]\u001b[A\n",
            " 38%|███▊      | 25/65 [00:22<00:36,  1.09it/s]\n",
            "  0%|          | 0/160 [00:00<?, ?it/s]\u001b[A\n",
            " 19%|█▉        | 31/160 [00:00<00:00, 304.58it/s]\u001b[A\n",
            " 37%|███▋      | 59/160 [00:00<00:00, 291.47it/s]\u001b[A\n",
            " 54%|█████▍    | 87/160 [00:00<00:00, 287.80it/s]\u001b[A\n",
            " 71%|███████   | 113/160 [00:00<00:00, 278.19it/s]\u001b[A\n",
            " 85%|████████▌ | 136/160 [00:00<00:00, 268.69it/s]\u001b[A\n",
            " 40%|████      | 26/65 [00:23<00:35,  1.09it/s]\n",
            "  0%|          | 0/160 [00:00<?, ?it/s]\u001b[A\n",
            " 19%|█▉        | 31/160 [00:00<00:00, 301.98it/s]\u001b[A\n",
            " 39%|███▉      | 62/160 [00:00<00:00, 303.01it/s]\u001b[A\n",
            " 57%|█████▊    | 92/160 [00:00<00:00, 299.33it/s]\u001b[A\n",
            " 76%|███████▌  | 121/160 [00:00<00:00, 296.14it/s]\u001b[A\n",
            " 94%|█████████▍| 151/160 [00:00<00:00, 295.72it/s]\u001b[A\n",
            " 42%|████▏     | 27/65 [00:24<00:34,  1.09it/s]\n",
            "  0%|          | 0/160 [00:00<?, ?it/s]\u001b[A\n",
            " 20%|██        | 32/160 [00:00<00:00, 309.08it/s]\u001b[A\n",
            " 38%|███▊      | 61/160 [00:00<00:00, 298.28it/s]\u001b[A\n",
            " 57%|█████▊    | 92/160 [00:00<00:00, 300.13it/s]\u001b[A\n",
            " 76%|███████▌  | 121/160 [00:00<00:00, 296.50it/s]\u001b[A\n",
            " 94%|█████████▍| 150/160 [00:00<00:00, 294.25it/s]\u001b[A\n",
            " 43%|████▎     | 28/65 [00:25<00:33,  1.10it/s]\n",
            "  0%|          | 0/160 [00:00<?, ?it/s]\u001b[A\n",
            " 20%|██        | 32/160 [00:00<00:00, 313.50it/s]\u001b[A\n",
            " 37%|███▋      | 59/160 [00:00<00:00, 287.72it/s]\u001b[A\n",
            " 55%|█████▌    | 88/160 [00:00<00:00, 287.83it/s]\u001b[A\n",
            " 74%|███████▍  | 118/160 [00:00<00:00, 290.16it/s]\u001b[A\n",
            " 92%|█████████▎| 148/160 [00:00<00:00, 290.59it/s]\u001b[A\n",
            " 45%|████▍     | 29/65 [00:26<00:32,  1.10it/s]\n",
            "  0%|          | 0/160 [00:00<?, ?it/s]\u001b[A\n",
            " 20%|██        | 32/160 [00:00<00:00, 314.23it/s]\u001b[A\n",
            " 39%|███▉      | 62/160 [00:00<00:00, 303.89it/s]\u001b[A\n",
            " 57%|█████▊    | 92/160 [00:00<00:00, 300.04it/s]\u001b[A\n",
            " 77%|███████▋  | 123/160 [00:00<00:00, 300.90it/s]\u001b[A\n",
            " 96%|█████████▌| 153/160 [00:00<00:00, 298.60it/s]\u001b[A\n",
            " 46%|████▌     | 30/65 [00:27<00:31,  1.10it/s]\n",
            "  0%|          | 0/160 [00:00<?, ?it/s]\u001b[A\n",
            " 20%|██        | 32/160 [00:00<00:00, 310.48it/s]\u001b[A\n",
            " 39%|███▉      | 63/160 [00:00<00:00, 307.41it/s]\u001b[A\n",
            " 58%|█████▊    | 93/160 [00:00<00:00, 303.24it/s]\u001b[A\n",
            " 77%|███████▋  | 123/160 [00:00<00:00, 302.26it/s]\u001b[A\n",
            " 96%|█████████▋| 154/160 [00:00<00:00, 302.86it/s]\u001b[A\n",
            " 48%|████▊     | 31/65 [00:28<00:30,  1.10it/s]\n",
            "  0%|          | 0/160 [00:00<?, ?it/s]\u001b[A\n",
            " 16%|█▋        | 26/160 [00:00<00:00, 254.63it/s]\u001b[A\n",
            " 34%|███▍      | 54/160 [00:00<00:00, 265.46it/s]\u001b[A\n",
            " 52%|█████▎    | 84/160 [00:00<00:00, 274.98it/s]\u001b[A\n",
            " 71%|███████▏  | 114/160 [00:00<00:00, 279.01it/s]\u001b[A\n",
            " 91%|█████████ | 145/160 [00:00<00:00, 283.65it/s]\u001b[A\n",
            " 49%|████▉     | 32/65 [00:29<00:30,  1.10it/s]\n",
            "  0%|          | 0/160 [00:00<?, ?it/s]\u001b[A\n",
            " 19%|█▉        | 31/160 [00:00<00:00, 302.19it/s]\u001b[A\n",
            " 38%|███▊      | 60/160 [00:00<00:00, 294.40it/s]\u001b[A\n",
            " 56%|█████▌    | 89/160 [00:00<00:00, 291.59it/s]\u001b[A\n",
            " 72%|███████▏  | 115/160 [00:00<00:00, 283.37it/s]\u001b[A\n",
            " 91%|█████████ | 145/160 [00:00<00:00, 285.16it/s]\u001b[A\n",
            " 51%|█████     | 33/65 [00:30<00:29,  1.10it/s]\n",
            "  0%|          | 0/160 [00:00<?, ?it/s]\u001b[A\n",
            " 20%|██        | 32/160 [00:00<00:00, 307.93it/s]\u001b[A\n",
            " 39%|███▉      | 63/160 [00:00<00:00, 304.82it/s]\u001b[A\n",
            " 57%|█████▋    | 91/160 [00:00<00:00, 296.28it/s]\u001b[A\n",
            " 76%|███████▋  | 122/160 [00:00<00:00, 298.41it/s]\u001b[A\n",
            " 95%|█████████▌| 152/160 [00:00<00:00, 296.79it/s]\u001b[A\n",
            " 52%|█████▏    | 34/65 [00:30<00:28,  1.10it/s]\n",
            "  0%|          | 0/160 [00:00<?, ?it/s]\u001b[A\n",
            " 21%|██        | 33/160 [00:00<00:00, 319.30it/s]\u001b[A\n",
            " 40%|████      | 64/160 [00:00<00:00, 310.52it/s]\u001b[A\n",
            " 57%|█████▊    | 92/160 [00:00<00:00, 298.41it/s]\u001b[A\n",
            " 76%|███████▋  | 122/160 [00:00<00:00, 298.65it/s]\u001b[A\n",
            " 95%|█████████▌| 152/160 [00:00<00:00, 297.49it/s]\u001b[A\n",
            " 54%|█████▍    | 35/65 [00:31<00:27,  1.10it/s]\n",
            "  0%|          | 0/160 [00:00<?, ?it/s]\u001b[A\n",
            " 20%|██        | 32/160 [00:00<00:00, 307.98it/s]\u001b[A\n",
            " 37%|███▋      | 59/160 [00:00<00:00, 288.33it/s]\u001b[A\n",
            " 56%|█████▋    | 90/160 [00:00<00:00, 292.48it/s]\u001b[A\n",
            " 75%|███████▌  | 120/160 [00:00<00:00, 292.17it/s]\u001b[A\n",
            " 93%|█████████▎| 149/160 [00:00<00:00, 290.72it/s]\u001b[A\n",
            " 55%|█████▌    | 36/65 [00:32<00:26,  1.10it/s]\n",
            "  0%|          | 0/160 [00:00<?, ?it/s]\u001b[A\n",
            " 20%|██        | 32/160 [00:00<00:00, 308.25it/s]\u001b[A\n",
            " 38%|███▊      | 61/160 [00:00<00:00, 295.37it/s]\u001b[A\n",
            " 57%|█████▋    | 91/160 [00:00<00:00, 294.35it/s]\u001b[A\n",
            " 76%|███████▌  | 121/160 [00:00<00:00, 294.81it/s]\u001b[A\n",
            " 94%|█████████▍| 151/160 [00:00<00:00, 292.61it/s]\u001b[A\n",
            " 57%|█████▋    | 37/65 [00:33<00:25,  1.10it/s]\n",
            "  0%|          | 0/160 [00:00<?, ?it/s]\u001b[A\n",
            " 19%|█▉        | 31/160 [00:00<00:00, 303.15it/s]\u001b[A\n",
            " 38%|███▊      | 61/160 [00:00<00:00, 300.03it/s]\u001b[A\n",
            " 56%|█████▋    | 90/160 [00:00<00:00, 295.51it/s]\u001b[A\n",
            " 75%|███████▌  | 120/160 [00:00<00:00, 296.19it/s]\u001b[A\n",
            " 94%|█████████▍| 150/160 [00:00<00:00, 295.55it/s]\u001b[A\n",
            " 58%|█████▊    | 38/65 [00:34<00:24,  1.10it/s]\n",
            "  0%|          | 0/160 [00:00<?, ?it/s]\u001b[A\n",
            " 20%|██        | 32/160 [00:00<00:00, 307.18it/s]\u001b[A\n",
            " 39%|███▉      | 62/160 [00:00<00:00, 302.82it/s]\u001b[A\n",
            " 57%|█████▊    | 92/160 [00:00<00:00, 300.84it/s]\u001b[A\n",
            " 77%|███████▋  | 123/160 [00:00<00:00, 302.46it/s]\u001b[A\n",
            " 96%|█████████▌| 153/160 [00:00<00:00, 301.38it/s]\u001b[A\n",
            " 60%|██████    | 39/65 [00:35<00:23,  1.10it/s]\n",
            "  0%|          | 0/160 [00:00<?, ?it/s]\u001b[A\n",
            " 19%|█▉        | 31/160 [00:00<00:00, 304.03it/s]\u001b[A\n",
            " 39%|███▉      | 62/160 [00:00<00:00, 304.57it/s]\u001b[A\n",
            " 58%|█████▊    | 93/160 [00:00<00:00, 304.43it/s]\u001b[A\n",
            " 74%|███████▍  | 118/160 [00:00<00:00, 289.44it/s]\u001b[A\n",
            " 92%|█████████▏| 147/160 [00:00<00:00, 288.39it/s]\u001b[A\n",
            " 62%|██████▏   | 40/65 [00:36<00:22,  1.10it/s]\n",
            "  0%|          | 0/160 [00:00<?, ?it/s]\u001b[A\n",
            " 20%|██        | 32/160 [00:00<00:00, 308.15it/s]\u001b[A\n",
            " 39%|███▉      | 62/160 [00:00<00:00, 302.54it/s]\u001b[A\n",
            " 57%|█████▋    | 91/160 [00:00<00:00, 297.82it/s]\u001b[A\n",
            " 75%|███████▌  | 120/160 [00:00<00:00, 294.82it/s]\u001b[A\n",
            " 93%|█████████▎| 149/160 [00:00<00:00, 291.96it/s]\u001b[A\n",
            " 63%|██████▎   | 41/65 [00:37<00:21,  1.10it/s]\n",
            "  0%|          | 0/160 [00:00<?, ?it/s]\u001b[A\n",
            " 19%|█▉        | 30/160 [00:00<00:00, 293.61it/s]\u001b[A\n",
            " 38%|███▊      | 60/160 [00:00<00:00, 292.82it/s]\u001b[A\n",
            " 55%|█████▌    | 88/160 [00:00<00:00, 287.39it/s]\u001b[A\n",
            " 74%|███████▍  | 119/160 [00:00<00:00, 291.55it/s]\u001b[A\n",
            " 94%|█████████▍| 150/160 [00:00<00:00, 294.07it/s]\u001b[A\n",
            " 65%|██████▍   | 42/65 [00:38<00:20,  1.10it/s]\n",
            "  0%|          | 0/160 [00:00<?, ?it/s]\u001b[A\n",
            " 19%|█▉        | 31/160 [00:00<00:00, 305.14it/s]\u001b[A\n",
            " 36%|███▋      | 58/160 [00:00<00:00, 284.74it/s]\u001b[A\n",
            " 55%|█████▌    | 88/160 [00:00<00:00, 289.04it/s]\u001b[A\n",
            " 73%|███████▎  | 117/160 [00:00<00:00, 289.42it/s]\u001b[A\n",
            " 92%|█████████▏| 147/160 [00:00<00:00, 291.29it/s]\u001b[A\n",
            " 66%|██████▌   | 43/65 [00:38<00:19,  1.10it/s]\n",
            "  0%|          | 0/160 [00:00<?, ?it/s]\u001b[A\n",
            " 19%|█▉        | 31/160 [00:00<00:00, 302.37it/s]\u001b[A\n",
            " 39%|███▉      | 62/160 [00:00<00:00, 304.81it/s]\u001b[A\n",
            " 57%|█████▋    | 91/160 [00:00<00:00, 297.89it/s]\u001b[A\n",
            " 76%|███████▋  | 122/160 [00:00<00:00, 297.18it/s]\u001b[A\n",
            " 94%|█████████▍| 151/160 [00:00<00:00, 295.68it/s]\u001b[A\n",
            " 68%|██████▊   | 44/65 [00:39<00:19,  1.10it/s]\n",
            "  0%|          | 0/160 [00:00<?, ?it/s]\u001b[A\n",
            " 20%|██        | 32/160 [00:00<00:00, 311.28it/s]\u001b[A\n",
            " 39%|███▉      | 62/160 [00:00<00:00, 301.96it/s]\u001b[A\n",
            " 57%|█████▊    | 92/160 [00:00<00:00, 298.26it/s]\u001b[A\n",
            " 76%|███████▋  | 122/160 [00:00<00:00, 296.70it/s]\u001b[A\n",
            " 94%|█████████▍| 151/160 [00:00<00:00, 294.14it/s]\u001b[A\n",
            " 69%|██████▉   | 45/65 [00:40<00:18,  1.10it/s]\n",
            "  0%|          | 0/160 [00:00<?, ?it/s]\u001b[A\n",
            " 19%|█▉        | 31/160 [00:00<00:00, 304.46it/s]\u001b[A\n",
            " 38%|███▊      | 60/160 [00:00<00:00, 296.26it/s]\u001b[A\n",
            " 56%|█████▋    | 90/160 [00:00<00:00, 295.26it/s]\u001b[A\n",
            " 75%|███████▌  | 120/160 [00:00<00:00, 295.39it/s]\u001b[A\n",
            " 94%|█████████▍| 151/160 [00:00<00:00, 296.75it/s]\u001b[A\n",
            " 71%|███████   | 46/65 [00:41<00:17,  1.10it/s]\n",
            "  0%|          | 0/160 [00:00<?, ?it/s]\u001b[A\n",
            " 20%|██        | 32/160 [00:00<00:00, 309.88it/s]\u001b[A\n",
            " 38%|███▊      | 61/160 [00:00<00:00, 298.62it/s]\u001b[A\n",
            " 56%|█████▋    | 90/160 [00:00<00:00, 295.01it/s]\u001b[A\n",
            " 72%|███████▏  | 115/160 [00:00<00:00, 281.37it/s]\u001b[A\n",
            " 91%|█████████▏| 146/160 [00:00<00:00, 285.99it/s]\u001b[A\n",
            " 72%|███████▏  | 47/65 [00:42<00:16,  1.10it/s]\n",
            "  0%|          | 0/160 [00:00<?, ?it/s]\u001b[A\n",
            " 19%|█▉        | 30/160 [00:00<00:00, 292.99it/s]\u001b[A\n",
            " 38%|███▊      | 61/160 [00:00<00:00, 297.77it/s]\u001b[A\n",
            " 56%|█████▋    | 90/160 [00:00<00:00, 294.33it/s]\u001b[A\n",
            " 75%|███████▌  | 120/160 [00:00<00:00, 295.13it/s]\u001b[A\n",
            " 94%|█████████▍| 151/160 [00:00<00:00, 296.99it/s]\u001b[A\n",
            " 74%|███████▍  | 48/65 [00:43<00:15,  1.10it/s]\n",
            "  0%|          | 0/160 [00:00<?, ?it/s]\u001b[A\n",
            " 19%|█▉        | 30/160 [00:00<00:00, 293.19it/s]\u001b[A\n",
            " 37%|███▋      | 59/160 [00:00<00:00, 290.45it/s]\u001b[A\n",
            " 55%|█████▌    | 88/160 [00:00<00:00, 289.39it/s]\u001b[A\n",
            " 74%|███████▍  | 118/160 [00:00<00:00, 290.57it/s]\u001b[A\n",
            " 92%|█████████▎| 148/160 [00:00<00:00, 291.85it/s]\u001b[A\n",
            " 75%|███████▌  | 49/65 [00:44<00:14,  1.10it/s]\n",
            "  0%|          | 0/160 [00:00<?, ?it/s]\u001b[A\n",
            " 19%|█▉        | 30/160 [00:00<00:00, 294.75it/s]\u001b[A\n",
            " 34%|███▍      | 54/160 [00:00<00:00, 267.69it/s]\u001b[A\n",
            " 52%|█████▏    | 83/160 [00:00<00:00, 272.27it/s]\u001b[A\n",
            " 71%|███████   | 113/160 [00:00<00:00, 277.83it/s]\u001b[A\n",
            " 89%|████████▉ | 142/160 [00:00<00:00, 279.82it/s]\u001b[A\n",
            " 77%|███████▋  | 50/65 [00:45<00:13,  1.10it/s]\n",
            "  0%|          | 0/160 [00:00<?, ?it/s]\u001b[A\n",
            " 19%|█▉        | 31/160 [00:00<00:00, 304.59it/s]\u001b[A\n",
            " 38%|███▊      | 60/160 [00:00<00:00, 296.66it/s]\u001b[A\n",
            " 56%|█████▋    | 90/160 [00:00<00:00, 295.59it/s]\u001b[A\n",
            " 76%|███████▌  | 121/160 [00:00<00:00, 298.56it/s]\u001b[A\n",
            " 91%|█████████▏| 146/160 [00:00<00:00, 287.09it/s]\u001b[A\n",
            " 78%|███████▊  | 51/65 [00:46<00:12,  1.10it/s]\n",
            "  0%|          | 0/160 [00:00<?, ?it/s]\u001b[A\n",
            " 20%|██        | 32/160 [00:00<00:00, 305.92it/s]\u001b[A\n",
            " 39%|███▉      | 62/160 [00:00<00:00, 303.36it/s]\u001b[A\n",
            " 57%|█████▊    | 92/160 [00:00<00:00, 299.88it/s]\u001b[A\n",
            " 77%|███████▋  | 123/160 [00:00<00:00, 301.08it/s]\u001b[A\n",
            " 96%|█████████▌| 153/160 [00:00<00:00, 300.61it/s]\u001b[A\n",
            " 80%|████████  | 52/65 [00:47<00:11,  1.10it/s]\n",
            "  0%|          | 0/160 [00:00<?, ?it/s]\u001b[A\n",
            " 18%|█▊        | 29/160 [00:00<00:00, 284.79it/s]\u001b[A\n",
            " 37%|███▋      | 59/160 [00:00<00:00, 289.43it/s]\u001b[A\n",
            " 55%|█████▌    | 88/160 [00:00<00:00, 288.46it/s]\u001b[A\n",
            " 73%|███████▎  | 117/160 [00:00<00:00, 288.59it/s]\u001b[A\n",
            " 92%|█████████▏| 147/160 [00:00<00:00, 290.77it/s]\u001b[A\n",
            " 82%|████████▏ | 53/65 [00:47<00:10,  1.10it/s]\n",
            "  0%|          | 0/160 [00:00<?, ?it/s]\u001b[A\n",
            " 20%|██        | 32/160 [00:00<00:00, 309.16it/s]\u001b[A\n",
            " 39%|███▉      | 62/160 [00:00<00:00, 302.90it/s]\u001b[A\n",
            " 55%|█████▌    | 88/160 [00:00<00:00, 288.27it/s]\u001b[A\n",
            " 73%|███████▎  | 117/160 [00:00<00:00, 286.93it/s]\u001b[A\n",
            " 91%|█████████▏| 146/160 [00:00<00:00, 286.82it/s]\u001b[A\n",
            " 83%|████████▎ | 54/65 [00:48<00:09,  1.10it/s]\n",
            "  0%|          | 0/160 [00:00<?, ?it/s]\u001b[A\n",
            " 20%|██        | 32/160 [00:00<00:00, 309.14it/s]\u001b[A\n",
            " 39%|███▉      | 62/160 [00:00<00:00, 302.07it/s]\u001b[A\n",
            " 57%|█████▋    | 91/160 [00:00<00:00, 295.85it/s]\u001b[A\n",
            " 75%|███████▌  | 120/160 [00:00<00:00, 292.12it/s]\u001b[A\n",
            " 93%|█████████▎| 149/160 [00:00<00:00, 291.55it/s]\u001b[A\n",
            " 85%|████████▍ | 55/65 [00:49<00:09,  1.10it/s]\n",
            "  0%|          | 0/160 [00:00<?, ?it/s]\u001b[A\n",
            " 19%|█▉        | 30/160 [00:00<00:00, 291.10it/s]\u001b[A\n",
            " 38%|███▊      | 60/160 [00:00<00:00, 292.72it/s]\u001b[A\n",
            " 56%|█████▌    | 89/160 [00:00<00:00, 290.53it/s]\u001b[A\n",
            " 74%|███████▍  | 119/160 [00:00<00:00, 290.51it/s]\u001b[A\n",
            " 93%|█████████▎| 149/160 [00:00<00:00, 291.88it/s]\u001b[A\n",
            " 86%|████████▌ | 56/65 [00:50<00:08,  1.10it/s]\n",
            "  0%|          | 0/160 [00:00<?, ?it/s]\u001b[A\n",
            " 18%|█▊        | 28/160 [00:00<00:00, 270.95it/s]\u001b[A\n",
            " 36%|███▋      | 58/160 [00:00<00:00, 283.19it/s]\u001b[A\n",
            " 54%|█████▍    | 87/160 [00:00<00:00, 283.92it/s]\u001b[A\n",
            " 71%|███████▏  | 114/160 [00:00<00:00, 279.92it/s]\u001b[A\n",
            " 90%|█████████ | 144/160 [00:00<00:00, 282.51it/s]\u001b[A\n",
            " 88%|████████▊ | 57/65 [00:51<00:07,  1.10it/s]\n",
            "  0%|          | 0/160 [00:00<?, ?it/s]\u001b[A\n",
            " 19%|█▉        | 31/160 [00:00<00:00, 300.40it/s]\u001b[A\n",
            " 38%|███▊      | 60/160 [00:00<00:00, 294.56it/s]\u001b[A\n",
            " 56%|█████▋    | 90/160 [00:00<00:00, 293.90it/s]\u001b[A\n",
            " 72%|███████▎  | 116/160 [00:00<00:00, 284.27it/s]\u001b[A\n",
            " 91%|█████████▏| 146/160 [00:00<00:00, 285.35it/s]\u001b[A\n",
            " 89%|████████▉ | 58/65 [00:52<00:06,  1.10it/s]\n",
            "  0%|          | 0/160 [00:00<?, ?it/s]\u001b[A\n",
            " 19%|█▉        | 31/160 [00:00<00:00, 305.69it/s]\u001b[A\n",
            " 38%|███▊      | 60/160 [00:00<00:00, 293.77it/s]\u001b[A\n",
            " 56%|█████▌    | 89/160 [00:00<00:00, 291.50it/s]\u001b[A\n",
            " 74%|███████▍  | 118/160 [00:00<00:00, 290.57it/s]\u001b[A\n",
            " 92%|█████████▎| 148/160 [00:00<00:00, 291.80it/s]\u001b[A\n",
            " 91%|█████████ | 59/65 [00:53<00:05,  1.10it/s]\n",
            "  0%|          | 0/160 [00:00<?, ?it/s]\u001b[A\n",
            " 19%|█▉        | 31/160 [00:00<00:00, 297.48it/s]\u001b[A\n",
            " 38%|███▊      | 60/160 [00:00<00:00, 289.05it/s]\u001b[A\n",
            " 56%|█████▌    | 89/160 [00:00<00:00, 288.08it/s]\u001b[A\n",
            " 74%|███████▍  | 118/160 [00:00<00:00, 288.21it/s]\u001b[A\n",
            " 92%|█████████▎| 148/160 [00:00<00:00, 289.82it/s]\u001b[A\n",
            " 92%|█████████▏| 60/65 [00:54<00:04,  1.10it/s]\n",
            "  0%|          | 0/160 [00:00<?, ?it/s]\u001b[A\n",
            " 19%|█▉        | 30/160 [00:00<00:00, 290.32it/s]\u001b[A\n",
            " 35%|███▌      | 56/160 [00:00<00:00, 272.64it/s]\u001b[A\n",
            " 53%|█████▎    | 85/160 [00:00<00:00, 277.00it/s]\u001b[A\n",
            " 71%|███████▏  | 114/160 [00:00<00:00, 279.47it/s]\u001b[A\n",
            " 89%|████████▉ | 143/160 [00:00<00:00, 279.30it/s]\u001b[A\n",
            " 94%|█████████▍| 61/65 [00:55<00:03,  1.10it/s]\n",
            "  0%|          | 0/160 [00:00<?, ?it/s]\u001b[A\n",
            " 19%|█▉        | 30/160 [00:00<00:00, 291.04it/s]\u001b[A\n",
            " 38%|███▊      | 60/160 [00:00<00:00, 293.90it/s]\u001b[A\n",
            " 56%|█████▋    | 90/160 [00:00<00:00, 293.26it/s]\u001b[A\n",
            " 76%|███████▌  | 121/160 [00:00<00:00, 295.84it/s]\u001b[A\n",
            " 92%|█████████▏| 147/160 [00:00<00:00, 288.14it/s]\u001b[A\n",
            " 95%|█████████▌| 62/65 [00:56<00:02,  1.10it/s]\n",
            "  0%|          | 0/160 [00:00<?, ?it/s]\u001b[A\n",
            " 19%|█▉        | 30/160 [00:00<00:00, 291.92it/s]\u001b[A\n",
            " 38%|███▊      | 60/160 [00:00<00:00, 294.43it/s]\u001b[A\n",
            " 56%|█████▋    | 90/160 [00:00<00:00, 293.96it/s]\u001b[A\n",
            " 76%|███████▌  | 121/160 [00:00<00:00, 297.19it/s]\u001b[A\n",
            " 94%|█████████▍| 150/160 [00:00<00:00, 293.66it/s]\u001b[A\n",
            " 97%|█████████▋| 63/65 [00:57<00:01,  1.10it/s]\n",
            "  0%|          | 0/160 [00:00<?, ?it/s]\u001b[A\n",
            " 19%|█▉        | 31/160 [00:00<00:00, 302.03it/s]\u001b[A\n",
            " 38%|███▊      | 61/160 [00:00<00:00, 295.54it/s]\u001b[A\n",
            " 56%|█████▌    | 89/160 [00:00<00:00, 291.02it/s]\u001b[A\n",
            " 74%|███████▍  | 119/160 [00:00<00:00, 291.66it/s]\u001b[A\n",
            " 92%|█████████▎| 148/160 [00:00<00:00, 291.18it/s]\u001b[A\n",
            " 98%|█████████▊| 64/65 [00:57<00:00,  1.10it/s]\n",
            "  0%|          | 0/160 [00:00<?, ?it/s]\u001b[A\n",
            " 18%|█▊        | 29/160 [00:00<00:00, 282.51it/s]\u001b[A\n",
            " 37%|███▋      | 59/160 [00:00<00:00, 291.11it/s]\u001b[A\n",
            " 52%|█████▎    | 84/160 [00:00<00:00, 275.14it/s]\u001b[A\n",
            " 71%|███████   | 113/160 [00:00<00:00, 277.92it/s]\u001b[A\n",
            " 89%|████████▉ | 142/160 [00:00<00:00, 279.13it/s]\u001b[A\n",
            "100%|██████████| 65/65 [00:58<00:00,  1.10it/s]\n"
          ],
          "name": "stderr"
        }
      ]
    },
    {
      "metadata": {
        "id": "GizYIqjvOJBK",
        "colab_type": "code",
        "colab": {
          "base_uri": "https://localhost:8080/",
          "height": 311
        },
        "outputId": "9619ebaa-215a-446c-c790-f4122b47ec12"
      },
      "cell_type": "code",
      "source": [
        "plt.title('IoU curve')\n",
        "plt.ylabel('IoU')\n",
        "plt.xlabel('threshold')\n",
        "\n",
        "#plt.plot(threshList, IoUList)\n",
        "plt.plot(threshList, IoUValList)"
      ],
      "execution_count": 0,
      "outputs": [
        {
          "output_type": "execute_result",
          "data": {
            "text/plain": [
              "[<matplotlib.lines.Line2D at 0x7f7041ec9518>]"
            ]
          },
          "metadata": {
            "tags": []
          },
          "execution_count": 80
        },
        {
          "output_type": "display_data",
          "data": {
            "image/png": "[encoded data removed]",
            "text/plain": [
              "<matplotlib.figure.Figure at 0x7f7041ec9550>"
            ]
          },
          "metadata": {
            "tags": []
          }
        }
      ]
    },
    {
      "metadata": {
        "id": "67s2TbHOOJBR",
        "colab_type": "code",
        "colab": {
          "base_uri": "https://localhost:8080/",
          "height": 34
        },
        "outputId": "c59386bb-aead-4d38-c482-168d3043dd2e"
      },
      "cell_type": "code",
      "source": [
        "wsThresh = threshList[np.argmax(IoUValList)]\n",
        "print('Thresh: {}  ExpectedIoU: {}'.format(wsThresh, max(IoUValList)))"
      ],
      "execution_count": 0,
      "outputs": [
        {
          "output_type": "stream",
          "text": [
            "Thresh: 0.5692307692307692  ExpectedIoU: 0.8275\n"
          ],
          "name": "stdout"
        }
      ]
    },
    {
      "metadata": {
        "id": "T0f8hubjOJBV",
        "colab_type": "text"
      },
      "cell_type": "markdown",
      "source": [
        "## Threshold optimization"
      ]
    },
    {
      "metadata": {
        "id": "8T71Irhvda5m",
        "colab_type": "code",
        "colab": {
          "base_uri": "https://localhost:8080/",
          "height": 34
        },
        "outputId": "4fd51b34-d86c-4e1e-b79c-42a8a841d845"
      },
      "cell_type": "code",
      "source": [
        "threshList = []\n",
        "IoUList = []\n",
        "IoUValList = []\n",
        "for kk in tqdm(range(13)):\n",
        "    thresh = (1+kk)/13\n",
        "    threshList.append(thresh)\n",
        "    preds_train_t = (preds_train > thresh).astype(np.uint8)\n",
        "    preds_val_t = (preds_val > thresh).astype(np.uint8)\n",
        "    meanIoU = np.array([ModelUNet.IoU(preds_train_t[i], Y_train0[i]) for i in range(Y_train0.shape[0])])\n",
        "    IoUList.append(np.mean(meanIoU) )\n",
        "    meanIoUVal = np.array([ModelUNet.IoU(preds_val_t[i], Y_val[i]) for i in range(Y_val.shape[0])])\n",
        "    IoUValList.append(np.mean(meanIoUVal) )"
      ],
      "execution_count": 43,
      "outputs": [
        {
          "output_type": "stream",
          "text": [
            "100%|██████████| 13/13 [01:38<00:00,  7.52s/it]\n"
          ],
          "name": "stderr"
        }
      ]
    },
    {
      "metadata": {
        "id": "wg0NipGnddCw",
        "colab_type": "code",
        "colab": {
          "base_uri": "https://localhost:8080/",
          "height": 311
        },
        "outputId": "ac281f9f-9e82-4686-9da7-0ea688a73807"
      },
      "cell_type": "code",
      "source": [
        "plt.title('IoU curve')\n",
        "plt.ylabel('IoU')\n",
        "plt.xlabel('threshold')\n",
        "\n",
        "plt.plot(threshList, IoUList)\n",
        "plt.plot(threshList, IoUValList)"
      ],
      "execution_count": 44,
      "outputs": [
        {
          "output_type": "execute_result",
          "data": {
            "text/plain": [
              "[<matplotlib.lines.Line2D at 0x7fccc7fb3710>]"
            ]
          },
          "metadata": {
            "tags": []
          },
          "execution_count": 44
        },
        {
          "output_type": "display_data",
          "data": {
            "image/png": "[encoded data removed]",
            "text/plain": [
              "<matplotlib.figure.Figure at 0x7fccca1ebc50>"
            ]
          },
          "metadata": {
            "tags": []
          }
        }
      ]
    },
    {
      "metadata": {
        "id": "cQ_VOkO0de6p",
        "colab_type": "code",
        "colab": {
          "base_uri": "https://localhost:8080/",
          "height": 180
        },
        "outputId": "bc05a850-94eb-4928-f3fc-eb7785602d2a"
      },
      "cell_type": "code",
      "source": [
        "thresh = threshList[np.argmax(IoUValList)]\n",
        "print('Thresh: {}  ExpectedIoU: {}'.format(thresh, max(IoUValList)))"
      ],
      "execution_count": 1,
      "outputs": [
        {
          "output_type": "error",
          "ename": "NameError",
          "evalue": "ignored",
          "traceback": [
            "\u001b[0;31m---------------------------------------------------------------------------\u001b[0m",
            "\u001b[0;31mNameError\u001b[0m                                 Traceback (most recent call last)",
            "\u001b[0;32m<ipython-input-1-e7c64c08233c>\u001b[0m in \u001b[0;36m<module>\u001b[0;34m()\u001b[0m\n\u001b[0;32m----> 1\u001b[0;31m \u001b[0mthresh\u001b[0m \u001b[0;34m=\u001b[0m \u001b[0mthreshList\u001b[0m\u001b[0;34m[\u001b[0m\u001b[0mnp\u001b[0m\u001b[0;34m.\u001b[0m\u001b[0margmax\u001b[0m\u001b[0;34m(\u001b[0m\u001b[0mIoUValList\u001b[0m\u001b[0;34m)\u001b[0m\u001b[0;34m]\u001b[0m\u001b[0;34m\u001b[0m\u001b[0m\n\u001b[0m\u001b[1;32m      2\u001b[0m \u001b[0mprint\u001b[0m\u001b[0;34m(\u001b[0m\u001b[0;34m'Thresh: {}  ExpectedIoU: {}'\u001b[0m\u001b[0;34m.\u001b[0m\u001b[0mformat\u001b[0m\u001b[0;34m(\u001b[0m\u001b[0mthresh\u001b[0m\u001b[0;34m,\u001b[0m \u001b[0mmax\u001b[0m\u001b[0;34m(\u001b[0m\u001b[0mIoUValList\u001b[0m\u001b[0;34m)\u001b[0m\u001b[0;34m)\u001b[0m\u001b[0;34m)\u001b[0m\u001b[0;34m\u001b[0m\u001b[0m\n",
            "\u001b[0;31mNameError\u001b[0m: name 'threshList' is not defined"
          ]
        }
      ]
    },
    {
      "metadata": {
        "id": "kor6dfuWkRgL",
        "colab_type": "code",
        "colab": {}
      },
      "cell_type": "code",
      "source": [
        "thresh = 0.5"
      ],
      "execution_count": 0,
      "outputs": []
    },
    {
      "metadata": {
        "id": "WC_JYxpGKQcj",
        "colab_type": "text"
      },
      "cell_type": "markdown",
      "source": [
        "# Predictions"
      ]
    },
    {
      "metadata": {
        "id": "LvSeY71Trolu",
        "colab_type": "code",
        "colab": {
          "base_uri": "https://localhost:8080/",
          "height": 68
        },
        "outputId": "33a698d6-f8b8-4335-eab8-b5d1e005a486"
      },
      "cell_type": "code",
      "source": [
        "X_test, d_test = ImageReader.ReadSegmentationImages(testFolder, depthFile, readMasks = False)\n",
        "X_test = X_test/255.0 #(X_test-X_train_mean)/(2*X_train_std)\n",
        "X_test = augment(X_test)\n",
        "#for i in tqdm(range(len(X_test))):\n",
        "#    X_test[i] = image_datagen.standardize(X_test[i].astype(float))"
      ],
      "execution_count": 0,
      "outputs": [
        {
          "output_type": "stream",
          "text": [
            "  0%|          | 11/18000 [00:00<02:50, 105.66it/s]"
          ],
          "name": "stderr"
        },
        {
          "output_type": "stream",
          "text": [
            "Getting images and masks ... \n"
          ],
          "name": "stdout"
        },
        {
          "output_type": "stream",
          "text": [
            "100%|██████████| 18000/18000 [01:22<00:00, 219.10it/s]\n"
          ],
          "name": "stderr"
        },
        {
          "output_type": "stream",
          "text": [
            "Ignored 0 files\n"
          ],
          "name": "stdout"
        }
      ]
    },
    {
      "metadata": {
        "id": "jix-7pr6R0MV",
        "colab_type": "code",
        "colab": {
          "base_uri": "https://localhost:8080/",
          "height": 34
        },
        "outputId": "ab45de96-4c65-4709-950c-479b429a2ba0"
      },
      "cell_type": "code",
      "source": [
        "preds_test = model.predict([X_test, d_test], verbose=1)\n",
        "preds_test_t = (preds_test > 0.5).astype(np.uint8)"
      ],
      "execution_count": 0,
      "outputs": [
        {
          "output_type": "stream",
          "text": [
            "18000/18000 [==============================] - 270s 15ms/step\n"
          ],
          "name": "stdout"
        }
      ]
    },
    {
      "metadata": {
        "id": "ynhnACAcOv19",
        "colab_type": "code",
        "colab": {
          "base_uri": "https://localhost:8080/",
          "height": 34
        },
        "outputId": "b4aea0be-4b95-4b66-8d5f-7d322b79ac76"
      },
      "cell_type": "code",
      "source": [
        "#Watershed predictions\n",
        "preds_test_t = ModelUNet.WaterShedChangeAll(preds_test, lowThresh = 0.1, highThresh = wsThresh)"
      ],
      "execution_count": 0,
      "outputs": [
        {
          "output_type": "stream",
          "text": [
            "100%|██████████| 18000/18000 [00:57<00:00, 313.69it/s]\n"
          ],
          "name": "stderr"
        }
      ]
    },
    {
      "metadata": {
        "id": "I-a2-DznPRkG",
        "colab_type": "code",
        "colab": {
          "base_uri": "https://localhost:8080/",
          "height": 34
        },
        "outputId": "30a99f22-1449-44e4-d816-a09a43a3e5d2"
      },
      "cell_type": "code",
      "source": [
        "lowPixCount = [imgId for imgId in range(len(preds_test_t)) if preds_test_t[imgId].sum() < 15 and preds_test_t[imgId].sum() > 0]\n",
        "len(lowPixCount)"
      ],
      "execution_count": 0,
      "outputs": [
        {
          "output_type": "execute_result",
          "data": {
            "text/plain": [
              "0"
            ]
          },
          "metadata": {
            "tags": []
          },
          "execution_count": 133
        }
      ]
    },
    {
      "metadata": {
        "id": "EImEPKhwNiVC",
        "colab_type": "code",
        "colab": {}
      },
      "cell_type": "code",
      "source": [
        "for imId in lowPixCount:\n",
        "    preds_test_t[imId]=np.zeros( (101,101,1) )"
      ],
      "execution_count": 0,
      "outputs": []
    },
    {
      "metadata": {
        "id": "3Eggn5qvQEdp",
        "colab_type": "text"
      },
      "cell_type": "markdown",
      "source": [
        "# Prepare Submission"
      ]
    },
    {
      "metadata": {
        "id": "85EJ-_UNQkPw",
        "colab_type": "code",
        "colab": {
          "base_uri": "https://localhost:8080/",
          "height": 51
        },
        "outputId": "7d33a48d-475c-425a-fc7d-008315537905"
      },
      "cell_type": "code",
      "source": [
        "print(preds_test_t.shape)\n",
        "preds_test = preds_test_t.reshape(preds_test_t.shape[0], preds_test_t.shape[1], preds_test_t.shape[2])\n",
        "print(preds_test.shape)"
      ],
      "execution_count": 0,
      "outputs": [
        {
          "output_type": "stream",
          "text": [
            "(18000, 101, 101, 1)\n",
            "(18000, 101, 101)\n"
          ],
          "name": "stdout"
        }
      ]
    },
    {
      "metadata": {
        "id": "Y5-1fLTJQGDo",
        "colab_type": "code",
        "colab": {
          "base_uri": "https://localhost:8080/",
          "height": 34
        },
        "outputId": "0c2e9fa2-159e-47ea-b8b1-dd13c3f8c732"
      },
      "cell_type": "code",
      "source": [
        "def RLenc(img, order='F', format=True):\n",
        "    \"\"\"\n",
        "    img is binary mask image, shape (r,c)\n",
        "    order is down-then-right, i.e. Fortran\n",
        "    format determines if the order needs to be preformatted (according to submission rules) or not\n",
        "\n",
        "    returns run length as an array or string (if format is True)\n",
        "    \"\"\"\n",
        "    bytes = img.reshape(img.shape[0] * img.shape[1], order=order)\n",
        "    runs = []  ## list of run lengths\n",
        "    r = 0  ## the current run length\n",
        "    pos = 1  ## count starts from 1 per WK\n",
        "    for c in bytes:\n",
        "        if (c == 0):\n",
        "            if r != 0:\n",
        "                runs.append((pos, r))\n",
        "                pos += r\n",
        "                r = 0\n",
        "            pos += 1\n",
        "        else:\n",
        "            r += 1\n",
        "\n",
        "    # if last run is unsaved (i.e. data ends with 1)\n",
        "    if r != 0:\n",
        "        runs.append((pos, r))\n",
        "        pos += r\n",
        "        r = 0\n",
        "\n",
        "    if format:\n",
        "        z = ''\n",
        "\n",
        "        for rr in runs:\n",
        "            z += '{} {} '.format(rr[0], rr[1])\n",
        "        return z[:-1]\n",
        "    else:\n",
        "        return runs\n",
        "\n",
        "pred_dict = {fn[:-4]:RLenc(np.round(preds_test[i])) for i,fn in tqdm(enumerate(test_ids))}\n",
        "#pred_dict = {fn[:-4]:RLenc(np.round(preds_test[i])) for i,fn in (enumerate(test_ids))}"
      ],
      "execution_count": 0,
      "outputs": [
        {
          "output_type": "stream",
          "text": [
            "18000it [07:16, 41.19it/s]\n"
          ],
          "name": "stderr"
        }
      ]
    },
    {
      "metadata": {
        "id": "7Nm1w6_RQJqw",
        "colab_type": "code",
        "colab": {}
      },
      "cell_type": "code",
      "source": [
        "sub = pd.DataFrame.from_dict(pred_dict,orient='index')\n",
        "sub.index.names = ['id']\n",
        "sub.columns = ['rle_mask']\n",
        "sub.to_csv('submission.csv')"
      ],
      "execution_count": 0,
      "outputs": []
    },
    {
      "metadata": {
        "id": "L5BqBHZbWPe3",
        "colab_type": "code",
        "colab": {
          "base_uri": "https://localhost:8080/",
          "height": 85
        },
        "outputId": "9bbce49a-5d16-47ed-ce55-63846d1bc59e"
      },
      "cell_type": "code",
      "source": [
        "import zipfile\n",
        "try:\n",
        "    import zlib\n",
        "    compression = zipfile.ZIP_DEFLATED\n",
        "except:\n",
        "    compression = zipfile.ZIP_STORED\n",
        "\n",
        "modes = { zipfile.ZIP_DEFLATED: 'deflated',\n",
        "          zipfile.ZIP_STORED:   'stored',\n",
        "          }\n",
        "\n",
        "print('creating archive')\n",
        "zf = zipfile.ZipFile('submission.zip', mode='w')\n",
        "try:\n",
        "    print('adding with compression mode {}'.format(modes[compression]))\n",
        "    zf.write('submission.csv', compress_type=compression)\n",
        "finally:\n",
        "    print('closing')\n",
        "    zf.close()\n",
        "\n",
        "print('submission.zip')"
      ],
      "execution_count": 0,
      "outputs": [
        {
          "output_type": "stream",
          "text": [
            "creating archive\n",
            "adding with compression mode deflated\n",
            "closing\n",
            "submission.zip\n"
          ],
          "name": "stdout"
        }
      ]
    },
    {
      "metadata": {
        "id": "xYN4cqUumso9",
        "colab_type": "code",
        "colab": {
          "base_uri": "https://localhost:8080/",
          "height": 34
        },
        "outputId": "ed63931e-683b-41e9-d662-0f640c523969"
      },
      "cell_type": "code",
      "source": [
        "!kaggle competitions submit -c tgs-salt-identification-challenge -f submission.zip -m \"DeepLabv3, initial_lr=1e-3, backbone=xception, watershed\""
      ],
      "execution_count": 0,
      "outputs": [
        {
          "output_type": "stream",
          "text": [
            "Successfully submitted to TGS Salt Identification Challenge"
          ],
          "name": "stdout"
        }
      ]
    },
    {
      "metadata": {
        "id": "HfKV1zNdyZKD",
        "colab_type": "code",
        "colab": {
          "base_uri": "https://localhost:8080/",
          "height": 34
        },
        "outputId": "4376c708-db2b-4b34-84b8-7a8d6f681c39"
      },
      "cell_type": "code",
      "source": [
        "# Install the PyDrive wrapper & import libraries.\n",
        "# This only needs to be done once in a notebook.\n",
        "!pip install -U -q PyDrive\n",
        "from pydrive.auth import GoogleAuth\n",
        "from pydrive.drive import GoogleDrive\n",
        "from google.colab import auth\n",
        "from oauth2client.client import GoogleCredentials\n",
        "\n",
        "# Authenticate and create the PyDrive client.\n",
        "# This only needs to be done once in a notebook.\n",
        "auth.authenticate_user()\n",
        "gauth = GoogleAuth()\n",
        "gauth.credentials = GoogleCredentials.get_application_default()\n",
        "drive = GoogleDrive(gauth)\n",
        "\n",
        "# Create & upload a file.\n",
        "uploaded = drive.CreateFile({'title': 'model-tgs-salt-IV.h5'})\n",
        "uploaded.SetContentFile('model-tgs-salt-IV.h5')\n",
        "uploaded.Upload()\n",
        "print('Uploaded file with ID {}'.format(uploaded.get('id')))"
      ],
      "execution_count": 0,
      "outputs": [
        {
          "output_type": "stream",
          "text": [
            "Uploaded file with ID 1F5nNy6X_zLQB7nNpSasTBl3zWgBiHYwR\n"
          ],
          "name": "stdout"
        }
      ]
    }
  ]
}