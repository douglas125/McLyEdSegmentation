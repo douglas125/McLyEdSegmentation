{
 "cells": [
  {
   "cell_type": "markdown",
   "metadata": {},
   "source": [
    "# Greedy Jigsaw Puzzle"
   ]
  },
  {
   "cell_type": "code",
   "execution_count": 1,
   "metadata": {},
   "outputs": [],
   "source": [
    "import matplotlib.pyplot as plt\n",
    "%matplotlib inline\n",
    "\n",
    "import numpy as np"
   ]
  },
  {
   "cell_type": "code",
   "execution_count": 140,
   "metadata": {},
   "outputs": [],
   "source": [
    "def genPuzzle(h=5, w=7, size=4):\n",
    "    nx, ny = (size*w, size*h)\n",
    "    baseImg = np.zeros((ny,nx))\n",
    "    n=0\n",
    "    for x in range(nx):\n",
    "        for y in range(ny):\n",
    "            baseImg[y,x]=n\n",
    "            n+=1\n",
    "    #x = np.linspace(0, 1000, nx)\n",
    "    #y = np.linspace(0, 1, ny)\n",
    "    #xv, yv = np.meshgrid(x, y)\n",
    "    #baseImg = xv+yv\n",
    "    baseImg /= baseImg.max()\n",
    "    \n",
    "    allImgs = np.zeros((h*w,size,size))\n",
    "    \n",
    "    n=0\n",
    "    for y in range(h-1):\n",
    "        for x in range(w-1):\n",
    "            t = baseImg[size*y:size*y+size, size*x:size*x+size]\n",
    "            allImgs[n] = baseImg[size*y:size*y+size, size*x:size*x+size]\n",
    "            n+=1\n",
    "    \n",
    "    return allImgs, baseImg"
   ]
  },
  {
   "cell_type": "code",
   "execution_count": 141,
   "metadata": {},
   "outputs": [
    {
     "data": {
      "text/plain": [
       "<matplotlib.image.AxesImage at 0x19165b88780>"
      ]
     },
     "execution_count": 141,
     "metadata": {},
     "output_type": "execute_result"
    },
    {
     "data": {
      "image/png": "[encoded data removed]",
      "text/plain": [
       "<Figure size 432x288 with 1 Axes>"
      ]
     },
     "metadata": {},
     "output_type": "display_data"
    }
   ],
   "source": [
    "puzzle, bi=genPuzzle()\n",
    "plt.imshow(bi)\n",
    "#plt.imshow(puzzle[20], vmin=0, vmax=1)"
   ]
  },
  {
   "cell_type": "code",
   "execution_count": 142,
   "metadata": {},
   "outputs": [
    {
     "data": {
      "text/plain": [
       "array([[0.        , 0.03577818, 0.07155635, 0.10733453],\n",
       "       [0.00178891, 0.03756708, 0.07334526, 0.10912343],\n",
       "       [0.00357782, 0.03935599, 0.07513417, 0.11091234],\n",
       "       [0.00536673, 0.0411449 , 0.07692308, 0.11270125]])"
      ]
     },
     "execution_count": 142,
     "metadata": {},
     "output_type": "execute_result"
    }
   ],
   "source": [
    "puzzle[0]"
   ]
  },
  {
   "cell_type": "code",
   "execution_count": null,
   "metadata": {},
   "outputs": [],
   "source": []
  },
  {
   "cell_type": "code",
   "execution_count": null,
   "metadata": {},
   "outputs": [],
   "source": []
  },
  {
   "cell_type": "code",
   "execution_count": 143,
   "metadata": {},
   "outputs": [],
   "source": [
    "def tryMatch(imgs, idToMatch, place='right', match_size=1):\n",
    "    '''\n",
    "    try to match an image at the place position\n",
    "    \n",
    "    match_size - match using how many rows/columns?\n",
    "    \n",
    "    imgs[n, h, w]\n",
    "    '''\n",
    "    \n",
    "    if place=='right':\n",
    "        orig_crop = imgs[idToMatch, :, -match_size:]\n",
    "        cand_crop = imgs[:, :, 0:match_size]\n",
    "        orig_crop = np.mean(orig_crop, axis=1)\n",
    "        cand_crop = np.mean(cand_crop, axis=2)\n",
    "    elif place=='left':\n",
    "        orig_crop = imgs[idToMatch, :, 0:match_size]\n",
    "        cand_crop = imgs[:, :, -match_size:]\n",
    "        orig_crop = np.mean(orig_crop, axis=1)\n",
    "        cand_crop = np.mean(cand_crop, axis=2)\n",
    "    elif place=='bottom':\n",
    "        orig_crop = imgs[idToMatch, -match_size:, :]\n",
    "        cand_crop = imgs[:, 0:match_size, :]\n",
    "        orig_crop = np.mean(orig_crop, axis=0)\n",
    "        cand_crop = np.mean(cand_crop, axis=1)\n",
    "    elif place=='top':\n",
    "        orig_crop = imgs[idToMatch, 0:match_size, :]\n",
    "        cand_crop = imgs[:, -match_size:, :]\n",
    "        orig_crop = np.mean(orig_crop, axis=0)\n",
    "        cand_crop = np.mean(cand_crop, axis=1)\n",
    "    \n",
    "    \n",
    "    cand_crop -= orig_crop\n",
    "    cand_error = np.mean(np.square(cand_crop),axis=1)\n",
    "    #cand_error = np.mean(np.abs(cand_crop),axis=1)\n",
    "    #cand_error = np.max(np.square(cand_crop),axis=1)\n",
    "\n",
    "    cand_order = np.argsort(cand_error)\n",
    "    return cand_order, cand_error"
   ]
  },
  {
   "cell_type": "code",
   "execution_count": 144,
   "metadata": {},
   "outputs": [
    {
     "data": {
      "text/plain": [
       "array([[0.2862254 , 0.32200358, 0.35778175, 0.39355993],\n",
       "       [0.28801431, 0.32379249, 0.35957066, 0.39534884],\n",
       "       [0.28980322, 0.3255814 , 0.36135957, 0.39713775],\n",
       "       [0.29159213, 0.3273703 , 0.36314848, 0.39892665]])"
      ]
     },
     "execution_count": 144,
     "metadata": {},
     "output_type": "execute_result"
    }
   ],
   "source": [
    "idMatch=2\n",
    "puzzle[idMatch]"
   ]
  },
  {
   "cell_type": "code",
   "execution_count": 145,
   "metadata": {},
   "outputs": [
    {
     "data": {
      "text/plain": [
       "array([[0.1431127 , 0.17889088, 0.21466905, 0.25044723],\n",
       "       [0.14490161, 0.18067979, 0.21645796, 0.25223614],\n",
       "       [0.14669052, 0.18246869, 0.21824687, 0.25402504],\n",
       "       [0.14847943, 0.1842576 , 0.22003578, 0.25581395]])"
      ]
     },
     "execution_count": 145,
     "metadata": {},
     "output_type": "execute_result"
    }
   ],
   "source": [
    "puzzle[1]"
   ]
  },
  {
   "cell_type": "code",
   "execution_count": 147,
   "metadata": {},
   "outputs": [
    {
     "data": {
      "text/plain": [
       "array([19, 13,  7,  1,  2,  8, 14, 20, 18, 12,  6,  0,  3,  9, 15, 21, 27,\n",
       "       29, 26, 30, 31, 32, 28, 25, 34, 33, 24,  4, 10, 16, 22,  5, 11, 17,\n",
       "       23], dtype=int64)"
      ]
     },
     "execution_count": 147,
     "metadata": {},
     "output_type": "execute_result"
    }
   ],
   "source": [
    "order, error = tryMatch(puzzle, idMatch, place='left')\n",
    "order"
   ]
  },
  {
   "cell_type": "code",
   "execution_count": 100,
   "metadata": {},
   "outputs": [
    {
     "data": {
      "text/plain": [
       "<matplotlib.image.AxesImage at 0x191659ec6a0>"
      ]
     },
     "execution_count": 100,
     "metadata": {},
     "output_type": "execute_result"
    },
    {
     "data": {
      "image/png": "[encoded data removed]",
      "text/plain": [
       "<Figure size 432x288 with 2 Axes>"
      ]
     },
     "metadata": {},
     "output_type": "display_data"
    }
   ],
   "source": [
    "plt.subplot(1,2,1)\n",
    "plt.imshow(puzzle[idMatch], vmin=0, vmax=1)\n",
    "plt.subplot(1,2,2)\n",
    "plt.imshow(puzzle[order[0]], vmin=0, vmax=1)"
   ]
  },
  {
   "cell_type": "code",
   "execution_count": 148,
   "metadata": {},
   "outputs": [
    {
     "data": {
      "text/plain": [
       "array([[0.2862254 , 0.32200358, 0.35778175, 0.39355993],\n",
       "       [0.28801431, 0.32379249, 0.35957066, 0.39534884],\n",
       "       [0.28980322, 0.3255814 , 0.36135957, 0.39713775],\n",
       "       [0.29159213, 0.3273703 , 0.36314848, 0.39892665]])"
      ]
     },
     "execution_count": 148,
     "metadata": {},
     "output_type": "execute_result"
    }
   ],
   "source": [
    "puzzle[idMatch]"
   ]
  },
  {
   "cell_type": "code",
   "execution_count": 149,
   "metadata": {},
   "outputs": [
    {
     "data": {
      "text/plain": [
       "array([[0.16457961, 0.20035778, 0.23613596, 0.27191413],\n",
       "       [0.16636852, 0.20214669, 0.23792487, 0.27370304],\n",
       "       [0.16815742, 0.2039356 , 0.23971377, 0.27549195],\n",
       "       [0.16994633, 0.20572451, 0.24150268, 0.27728086]])"
      ]
     },
     "execution_count": 149,
     "metadata": {},
     "output_type": "execute_result"
    }
   ],
   "source": [
    "puzzle[order[0]]"
   ]
  },
  {
   "cell_type": "code",
   "execution_count": 150,
   "metadata": {},
   "outputs": [
    {
     "data": {
      "text/plain": [
       "array([[0.1431127 , 0.17889088, 0.21466905, 0.25044723],\n",
       "       [0.14490161, 0.18067979, 0.21645796, 0.25223614],\n",
       "       [0.14669052, 0.18246869, 0.21824687, 0.25402504],\n",
       "       [0.14847943, 0.1842576 , 0.22003578, 0.25581395]])"
      ]
     },
     "execution_count": 150,
     "metadata": {},
     "output_type": "execute_result"
    }
   ],
   "source": [
    "puzzle[1]"
   ]
  },
  {
   "cell_type": "code",
   "execution_count": null,
   "metadata": {},
   "outputs": [],
   "source": []
  }
 ],
 "metadata": {
  "kernelspec": {
   "display_name": "Python 3",
   "language": "python",
   "name": "python3"
  },
  "language_info": {
   "codemirror_mode": {
    "name": "ipython",
    "version": 3
   },
   "file_extension": ".py",
   "mimetype": "text/x-python",
   "name": "python",
   "nbconvert_exporter": "python",
   "pygments_lexer": "ipython3",
   "version": "3.6.5"
  }
 },
 "nbformat": 4,
 "nbformat_minor": 2
}
