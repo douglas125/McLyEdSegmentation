{
 "cells": [
  {
   "cell_type": "markdown",
   "metadata": {
    "colab_type": "text",
    "id": "mf2ENBI217Zd"
   },
   "source": [
    "# Kaggle TGS Geoseismic competition"
   ]
  },
  {
   "cell_type": "code",
   "execution_count": 3,
   "metadata": {
    "colab": {},
    "colab_type": "code",
    "id": "YMvFLpBQlBTR"
   },
   "outputs": [],
   "source": [
    "#!pip install -r requirements.txt"
   ]
  },
  {
   "cell_type": "code",
   "execution_count": 1,
   "metadata": {
    "colab": {
     "base_uri": "https://localhost:8080/",
     "height": 318
    },
    "colab_type": "code",
    "id": "tWe1mkDDaGmA",
    "outputId": "ea56e3f6-6995-42ec-92fb-5b53c95782f3"
   },
   "outputs": [
    {
     "name": "stderr",
     "output_type": "stream",
     "text": [
      "/anaconda/envs/py35/lib/python3.5/site-packages/h5py/__init__.py:36: FutureWarning: Conversion of the second argument of issubdtype from `float` to `np.floating` is deprecated. In future, it will be treated as `np.float64 == np.dtype(float).type`.\n",
      "  from ._conv import register_converters as _register_converters\n"
     ]
    },
    {
     "name": "stdout",
     "output_type": "stream",
     "text": [
      "[name: \"/device:CPU:0\"\n",
      "device_type: \"CPU\"\n",
      "memory_limit: 268435456\n",
      "locality {\n",
      "}\n",
      "incarnation: 2782968327026120156\n",
      ", name: \"/device:GPU:0\"\n",
      "device_type: \"GPU\"\n",
      "memory_limit: 11286285517\n",
      "locality {\n",
      "  bus_id: 1\n",
      "  links {\n",
      "  }\n",
      "}\n",
      "incarnation: 4007177297723420039\n",
      "physical_device_desc: \"device: 0, name: Tesla K80, pci bus id: 4029:00:00.0, compute capability: 3.7\"\n",
      "]\n"
     ]
    }
   ],
   "source": [
    "from tensorflow.python.client import device_lib\n",
    "print(device_lib.list_local_devices())"
   ]
  },
  {
   "cell_type": "markdown",
   "metadata": {
    "colab_type": "text",
    "id": "pBETV6aO2d39"
   },
   "source": [
    "# API Credentials\n",
    "\n",
    "To use the Kaggle API, sign up for a Kaggle account at https://www.kaggle.com. Then go to the 'Account' tab of your user profile (https://www.kaggle.com/<username>/account) and select 'Create API Token'. This will trigger the download of kaggle.json, a file containing your API credentials. \n",
    "\n",
    "Place this file on your Google Drive anywhere.\n",
    "\n",
    "With the next snippet you download your credentials to Colab and you can start using Kaggle API"
   ]
  },
  {
   "cell_type": "code",
   "execution_count": 2,
   "metadata": {
    "colab": {
     "base_uri": "https://localhost:8080/",
     "height": 34
    },
    "colab_type": "code",
    "id": "NtqKjNG3Q0Z9",
    "outputId": "97d3685a-30cb-4deb-f4ec-8f25f1f0dc5b"
   },
   "outputs": [
    {
     "name": "stdout",
     "output_type": "stream",
     "text": [
      "datalab\r\n"
     ]
    }
   ],
   "source": [
    "!ls"
   ]
  },
  {
   "cell_type": "code",
   "execution_count": 3,
   "metadata": {
    "colab": {
     "base_uri": "https://localhost:8080/",
     "height": 34
    },
    "colab_type": "code",
    "id": "y5_288BYp6H1",
    "outputId": "7615aa5e-a752-4691-bde4-2f476f6e067c"
   },
   "outputs": [
    {
     "name": "stdout",
     "output_type": "stream",
     "text": [
      "Download 100%.\n"
     ]
    }
   ],
   "source": [
    "from googleapiclient.discovery import build\n",
    "import io, os\n",
    "from googleapiclient.http import MediaIoBaseDownload\n",
    "from google.colab import auth\n",
    "\n",
    "auth.authenticate_user()\n",
    "\n",
    "drive_service = build('drive', 'v3')\n",
    "results = drive_service.files().list(\n",
    "        q=\"name = 'kaggle.json'\", fields=\"files(id)\").execute()\n",
    "kaggle_api_key = results.get('files', [])\n",
    "\n",
    "filename = \"/content/.kaggle/kaggle.json\"\n",
    "os.makedirs(os.path.dirname(filename), exist_ok=True)\n",
    "\n",
    "request = drive_service.files().get_media(fileId=kaggle_api_key[0]['id'])\n",
    "fh = io.FileIO(filename, 'wb')\n",
    "downloader = MediaIoBaseDownload(fh, request)\n",
    "done = False\n",
    "while done is False:\n",
    "    status, done = downloader.next_chunk()\n",
    "    print(\"Download %d%%.\" % int(status.progress() * 100))\n",
    "os.chmod(filename, 600)"
   ]
  },
  {
   "cell_type": "code",
   "execution_count": 0,
   "metadata": {
    "colab": {},
    "colab_type": "code",
    "id": "5l1V_oxXsZ8l"
   },
   "outputs": [],
   "source": [
    "#!kaggle datasets list"
   ]
  },
  {
   "cell_type": "code",
   "execution_count": 4,
   "metadata": {
    "colab": {
     "base_uri": "https://localhost:8080/",
     "height": 34
    },
    "colab_type": "code",
    "id": "L-MSBCgPkI9V",
    "outputId": "292c50a8-867e-435d-f8f6-5912c408e19f"
   },
   "outputs": [
    {
     "name": "stdout",
     "output_type": "stream",
     "text": [
      "Warning: Your Kaggle API key is readable by otherusers on this system! To fix this, you can run'chmod 600 /home/douglas125/.kaggle/kaggle.json'\n",
      "Downloading depths.csv to /home/douglas125/McLyEdSegmentation\n",
      "  0%|                                                | 0.00/322k [00:00<?, ?B/s]\n",
      "100%|████████████████████████████████████████| 322k/322k [00:00<00:00, 45.3MB/s]\n",
      "Downloading sample_submission.csv to /home/douglas125/McLyEdSegmentation\n",
      "  0%|                                                | 0.00/264k [00:00<?, ?B/s]\n",
      "100%|████████████████████████████████████████| 264k/264k [00:00<00:00, 89.5MB/s]\n",
      "Downloading train.csv to /home/douglas125/McLyEdSegmentation\n",
      "  0%|                                                | 0.00/922k [00:00<?, ?B/s]\n",
      "100%|█████████████████████████████████████████| 922k/922k [00:00<00:00, 161MB/s]\n",
      "Downloading test.zip to /home/douglas125/McLyEdSegmentation\n",
      " 92%|█████████████████████████████████████▉   | 151M/163M [00:00<00:00, 133MB/s]\n",
      "100%|█████████████████████████████████████████| 163M/163M [00:01<00:00, 157MB/s]\n",
      "Downloading train.zip to /home/douglas125/McLyEdSegmentation\n",
      " 45%|█████████████████                     | 17.0M/37.9M [00:00<00:00, 66.1MB/s]\n",
      "100%|███████████████████████████████████████| 37.9M/37.9M [00:00<00:00, 124MB/s]\n"
     ]
    }
   ],
   "source": [
    "!kaggle competitions download -c tgs-salt-identification-challenge"
   ]
  },
  {
   "cell_type": "markdown",
   "metadata": {
    "colab_type": "text",
    "id": "-4T8ufsAkQts"
   },
   "source": [
    "Reference: [https://github.com/Kaggle/kaggle-api](https://github.com/Kaggle/kaggle-api)"
   ]
  },
  {
   "cell_type": "code",
   "execution_count": 6,
   "metadata": {
    "colab": {
     "base_uri": "https://localhost:8080/",
     "height": 34
    },
    "colab_type": "code",
    "id": "_fZ-DSopb6Pd",
    "outputId": "97e08c91-9685-4714-9981-061e0c8048f2"
   },
   "outputs": [
    {
     "name": "stdout",
     "output_type": "stream",
     "text": [
      "datalab\r\n"
     ]
    }
   ],
   "source": [
    "!ls /content"
   ]
  },
  {
   "cell_type": "code",
   "execution_count": 0,
   "metadata": {
    "colab": {},
    "colab_type": "code",
    "id": "pZY3IRcrdRqA"
   },
   "outputs": [],
   "source": [
    "#!ls /content#/competitions/tgs-salt-identification-challenge"
   ]
  },
  {
   "cell_type": "code",
   "execution_count": 0,
   "metadata": {
    "colab": {},
    "colab_type": "code",
    "id": "P8iJLspz5PIp"
   },
   "outputs": [],
   "source": [
    "#!mv ~/.kaggle/competitions/tgs-salt-identification-challenge/ /"
   ]
  },
  {
   "cell_type": "code",
   "execution_count": 0,
   "metadata": {
    "colab": {},
    "colab_type": "code",
    "id": "kJQqlQ8c4O-1"
   },
   "outputs": [],
   "source": [
    "#!ls /"
   ]
  },
  {
   "cell_type": "markdown",
   "metadata": {
    "colab_type": "text",
    "id": "wt72EaD62qHM"
   },
   "source": [
    "# Data Exploration"
   ]
  },
  {
   "cell_type": "code",
   "execution_count": 6,
   "metadata": {
    "colab": {
     "base_uri": "https://localhost:8080/",
     "height": 345
    },
    "colab_type": "code",
    "id": "FaCbaUks2TN2",
    "outputId": "e0de925f-e65c-44c8-9b5e-f37620c94932"
   },
   "outputs": [],
   "source": [
    "import zipfile\n",
    "zip_ref = zipfile.ZipFile('train.zip', 'r')\n",
    "zip_ref.extractall('tgs-salt-identification-challenge/trainData')\n",
    "zip_ref.close()"
   ]
  },
  {
   "cell_type": "code",
   "execution_count": 7,
   "metadata": {
    "colab": {},
    "colab_type": "code",
    "id": "T9NE1-oF8UGv"
   },
   "outputs": [],
   "source": [
    "zip_ref = zipfile.ZipFile('test.zip', 'r')\n",
    "zip_ref.extractall('tgs-salt-identification-challenge/testData')\n",
    "zip_ref.close()"
   ]
  },
  {
   "cell_type": "code",
   "execution_count": 1,
   "metadata": {
    "colab": {
     "base_uri": "https://localhost:8080/",
     "height": 34
    },
    "colab_type": "code",
    "id": "bYDGN_2W6Pmp",
    "outputId": "279c496b-97bc-46b9-bf15-a2226bfb5d78"
   },
   "outputs": [
    {
     "name": "stderr",
     "output_type": "stream",
     "text": [
      "C:\\Users\\Douglas\\Anaconda3\\lib\\site-packages\\h5py\\__init__.py:36: FutureWarning: Conversion of the second argument of issubdtype from `float` to `np.floating` is deprecated. In future, it will be treated as `np.float64 == np.dtype(float).type`.\n",
      "  from ._conv import register_converters as _register_converters\n",
      "Using TensorFlow backend.\n"
     ]
    }
   ],
   "source": [
    "import os\n",
    "\n",
    "import pandas as pd\n",
    "import numpy as np\n",
    "import matplotlib.pyplot as plt\n",
    "%matplotlib inline\n",
    "from keras.preprocessing.image import ImageDataGenerator, array_to_img, img_to_array, load_img\n",
    "from tqdm import tqdm_notebook, tnrange, tqdm\n",
    "\n",
    "from scipy.signal import medfilt2d"
   ]
  },
  {
   "cell_type": "code",
   "execution_count": 2,
   "metadata": {
    "colab": {},
    "colab_type": "code",
    "id": "cWYuS0Zx5xIz"
   },
   "outputs": [],
   "source": [
    "trainFolder = 'tgs-salt-identification-challenge/trainData/'\n",
    "testFolder  = 'tgs-salt-identification-challenge/testData/'"
   ]
  },
  {
   "cell_type": "code",
   "execution_count": 3,
   "metadata": {
    "colab": {
     "base_uri": "https://localhost:8080/",
     "height": 34
    },
    "colab_type": "code",
    "id": "-iTxGqLx2TUh",
    "outputId": "1a0c2f3a-9ab4-4a03-b6e4-2648ebb5ca72"
   },
   "outputs": [
    {
     "name": "stderr",
     "output_type": "stream",
     "text": [
      "'ls' nÆo ‚ reconhecido como um comando interno\n",
      "ou externo, um programa oper vel ou um arquivo em lotes.\n"
     ]
    }
   ],
   "source": [
    "!ls tgs-salt-identification-challenge/testData/"
   ]
  },
  {
   "cell_type": "code",
   "execution_count": 4,
   "metadata": {
    "colab": {
     "base_uri": "https://localhost:8080/",
     "height": 204
    },
    "colab_type": "code",
    "id": "8KLX-j4vo0rG",
    "outputId": "61797aac-fe00-43dd-c0ef-cce24393977e"
   },
   "outputs": [
    {
     "data": {
      "text/html": [
       "<div>\n",
       "<style scoped>\n",
       "    .dataframe tbody tr th:only-of-type {\n",
       "        vertical-align: middle;\n",
       "    }\n",
       "\n",
       "    .dataframe tbody tr th {\n",
       "        vertical-align: top;\n",
       "    }\n",
       "\n",
       "    .dataframe thead th {\n",
       "        text-align: right;\n",
       "    }\n",
       "</style>\n",
       "<table border=\"1\" class=\"dataframe\">\n",
       "  <thead>\n",
       "    <tr style=\"text-align: right;\">\n",
       "      <th></th>\n",
       "      <th>id</th>\n",
       "      <th>z</th>\n",
       "    </tr>\n",
       "  </thead>\n",
       "  <tbody>\n",
       "    <tr>\n",
       "      <th>0</th>\n",
       "      <td>4ac19fb269</td>\n",
       "      <td>306</td>\n",
       "    </tr>\n",
       "    <tr>\n",
       "      <th>1</th>\n",
       "      <td>1825fadf99</td>\n",
       "      <td>157</td>\n",
       "    </tr>\n",
       "    <tr>\n",
       "      <th>2</th>\n",
       "      <td>f59821d067</td>\n",
       "      <td>305</td>\n",
       "    </tr>\n",
       "    <tr>\n",
       "      <th>3</th>\n",
       "      <td>5b435fad9d</td>\n",
       "      <td>503</td>\n",
       "    </tr>\n",
       "    <tr>\n",
       "      <th>4</th>\n",
       "      <td>e340e7bfca</td>\n",
       "      <td>783</td>\n",
       "    </tr>\n",
       "  </tbody>\n",
       "</table>\n",
       "</div>"
      ],
      "text/plain": [
       "           id    z\n",
       "0  4ac19fb269  306\n",
       "1  1825fadf99  157\n",
       "2  f59821d067  305\n",
       "3  5b435fad9d  503\n",
       "4  e340e7bfca  783"
      ]
     },
     "execution_count": 4,
     "metadata": {},
     "output_type": "execute_result"
    }
   ],
   "source": [
    "depthFile = pd.read_csv('depths.csv' )\n",
    "depthFile.head()"
   ]
  },
  {
   "cell_type": "code",
   "execution_count": 5,
   "metadata": {
    "colab": {
     "base_uri": "https://localhost:8080/",
     "height": 34
    },
    "colab_type": "code",
    "id": "ahZ9hvSDu4VM",
    "outputId": "e073742a-d259-464f-90de-d14cefb75c23"
   },
   "outputs": [
    {
     "data": {
      "text/plain": [
       "306"
      ]
     },
     "execution_count": 5,
     "metadata": {},
     "output_type": "execute_result"
    }
   ],
   "source": [
    "depthFile[depthFile['id'] == '4ac19fb269'].z.tolist()[0]"
   ]
  },
  {
   "cell_type": "code",
   "execution_count": 6,
   "metadata": {
    "colab": {
     "base_uri": "https://localhost:8080/",
     "height": 267
    },
    "colab_type": "code",
    "id": "wZiwNBFp2TSA",
    "outputId": "a41701ea-2d3f-486c-cef9-0229f60a9d11"
   },
   "outputs": [
    {
     "data": {
      "image/png": "[encoded data removed]",
      "text/plain": [
       "<Figure size 3600x1800 with 10 Axes>"
      ]
     },
     "metadata": {},
     "output_type": "display_data"
    }
   ],
   "source": [
    "ids= ['1f1cc6b3a4','5b7c160d0d','6c40978ddf','7dfdf6eeb8','7e5a6e5013']\n",
    "plt.figure(figsize=(50,25))\n",
    "for j, img_name in enumerate(ids):\n",
    "    q = j+1\n",
    "    img = load_img(trainFolder + 'images/' + img_name + '.png')\n",
    "    img_mask = load_img(trainFolder + 'masks/' + img_name + '.png')\n",
    "    \n",
    "    plt.subplot(1,2*(1+len(ids)),q*2-1)\n",
    "    plt.imshow(img)\n",
    "    plt.subplot(1,2*(1+len(ids)),q*2)\n",
    "    plt.imshow(img_mask)\n",
    "plt.show()"
   ]
  },
  {
   "cell_type": "code",
   "execution_count": 7,
   "metadata": {},
   "outputs": [],
   "source": [
    "%load_ext autoreload\n",
    "%autoreload 2\n",
    "\n",
    "import ImageReader"
   ]
  },
  {
   "cell_type": "code",
   "execution_count": 8,
   "metadata": {
    "colab": {},
    "colab_type": "code",
    "id": "0tpME6Io6EmS"
   },
   "outputs": [],
   "source": [
    "train_ids = next(os.walk(trainFolder +\"images\"))[2]\n",
    "test_ids = next(os.walk(testFolder +\"images\"))[2]"
   ]
  },
  {
   "cell_type": "code",
   "execution_count": null,
   "metadata": {
    "scrolled": true
   },
   "outputs": [
    {
     "name": "stdout",
     "output_type": "stream",
     "text": [
      "Getting images and masks ... \n"
     ]
    },
    {
     "name": "stderr",
     "output_type": "stream",
     "text": [
      " 62%|████████████████████████████████████████████████                              | 2462/4000 [00:31<00:19, 77.60it/s]"
     ]
    }
   ],
   "source": [
    "X_train, Y_train, depthVals = ImageReader.ReadSegmentationImages(trainFolder, depthFile)\n",
    "X_train_mean = np.mean(X_train)\n",
    "X_train_std = np.std(X_train)\n",
    "print('Mean: {} Std: {}'.format(X_train_mean, X_train_std))\n",
    "X_train = X_train/255.0#(X_train-X_train_mean)/(2*X_train_std)\n",
    "\n",
    "#X_test, d_test = ImageReader.ReadSegmentationImages(testFolder, depthFile, readMasks = False)\n",
    "#X_test = (X_test-X_train_mean)/(2*X_train_std)"
   ]
  },
  {
   "cell_type": "code",
   "execution_count": 10,
   "metadata": {
    "colab": {
     "base_uri": "https://localhost:8080/",
     "height": 519
    },
    "colab_type": "code",
    "id": "3UoDxmPa7tVk",
    "outputId": "fdcd3a8d-a8aa-482d-fcea-10adb5b25993"
   },
   "outputs": [
    {
     "data": {
      "image/png": "[encoded data removed]",
      "text/plain": [
       "<Figure size 432x288 with 1 Axes>"
      ]
     },
     "metadata": {},
     "output_type": "display_data"
    },
    {
     "data": {
      "image/png": "[encoded data removed]",
      "text/plain": [
       "<Figure size 432x288 with 1 Axes>"
      ]
     },
     "metadata": {},
     "output_type": "display_data"
    }
   ],
   "source": [
    "# Check if training data looks all right\n",
    "ix = np.random.randint(0, len(X_train))\n",
    "#plt.imshow(np.dstack((X_train[ix],X_train[ix],X_train[ix])))\n",
    "plt.imshow(X_train[ix,:,:,0])\n",
    "plt.show()\n",
    "plt.imshow(Y_train[ix,:,:,0])\n",
    "plt.show()"
   ]
  },
  {
   "cell_type": "markdown",
   "metadata": {
    "colab_type": "text",
    "id": "ZCmJsm8qFzdd"
   },
   "source": [
    "# Keras datagen"
   ]
  },
  {
   "cell_type": "code",
   "execution_count": 157,
   "metadata": {
    "colab": {
     "base_uri": "https://localhost:8080/",
     "height": 34
    },
    "colab_type": "code",
    "id": "ayFcz_QDKKQO",
    "outputId": "7f5bbff7-5c8f-47f7-96d9-ffc9e47c3f65"
   },
   "outputs": [
    {
     "name": "stdout",
     "output_type": "stream",
     "text": [
      "(3990, 101, 101, 1), (10, 101, 101, 1)\n"
     ]
    }
   ],
   "source": [
    "valRatio = 0.0025\n",
    "nVal = int(len(X_train)*valRatio)\n",
    "X_val = X_train[0:nVal]\n",
    "Y_val = Y_train[0:nVal]\n",
    "d_val = depthVals[0:nVal]\n",
    "\n",
    "X_train0 = X_train[nVal:]\n",
    "Y_train0 = Y_train[nVal:]\n",
    "d_train0 = depthVals[nVal:]\n",
    "X_train0.shape\n",
    "print('{}, {}'.format(X_train0.shape, X_val.shape))"
   ]
  },
  {
   "cell_type": "code",
   "execution_count": 158,
   "metadata": {
    "colab": {
     "base_uri": "https://localhost:8080/",
     "height": 105
    },
    "colab_type": "code",
    "id": "iZWJWDxSF21D",
    "outputId": "5c0f18b3-6109-41e0-c257-fbaa2e87b566"
   },
   "outputs": [],
   "source": [
    "from keras.preprocessing.image import ImageDataGenerator\n",
    "\n",
    "# we create two instances with the same arguments\n",
    "data_gen_argsMask = dict(\n",
    "                     rotation_range=5.0, #1.0,\n",
    "                     #shear_range = 0.001, #0\n",
    "                     zoom_range = 0.03, #0\n",
    "                     width_shift_range=0.35, # 0.03,\n",
    "                     height_shift_range=0.002, #0.3,\n",
    "                     horizontal_flip=True,\n",
    "                     fill_mode = \"reflect\"\n",
    "                     #vertical_flip=True #see if helps\n",
    "                    )\n",
    "\n",
    "data_gen_args = {}\n",
    "for key in data_gen_argsMask:\n",
    "    data_gen_args[key] = data_gen_argsMask[key]\n",
    "    \n",
    "#data_gen_args['featurewise_center'] = True\n",
    "#data_gen_args['featurewise_std_normalization'] = True\n",
    "#data_gen_args['zca_whitening'] = True #this or normalization\n",
    "\n",
    "image_datagen = ImageDataGenerator(**data_gen_args)\n",
    "mask_datagen = ImageDataGenerator(**data_gen_argsMask)\n",
    "depth_datagen = ImageDataGenerator()\n",
    "\n",
    "\n",
    "seed=7\n",
    "# Provide the same seed and keyword arguments to the fit and flow methods\n",
    "image_datagen.fit(X_train0, augment=True, seed=seed)\n",
    "#mask_datagen.fit(Y_train0, augment=True, seed=seed)\n",
    "#depth_datagen.fit(d_train0, augment=False, seed=seed)\n",
    "\n",
    "image_generator = image_datagen.flow(\n",
    "    X_train0,\n",
    "    seed=seed,\n",
    "    batch_size = 32)#32*nGPUs)\n",
    "\n",
    "mask_generator = mask_datagen.flow(\n",
    "    Y_train0,\n",
    "    seed=seed,\n",
    "    batch_size = 32)#32*nGPUs)\n",
    "\n",
    "depth_generator = depth_datagen.flow(\n",
    "    d_train0,\n",
    "    seed=seed,\n",
    "    batch_size = 32)#32*nGPUs)\n",
    "\n",
    "bSize = 32\n",
    "def multi_input_gen(X1, X2, X3):\n",
    "    genX1 = image_datagen.flow(X1, seed=7, batch_size=bSize)\n",
    "    genX2 = depth_datagen.flow(X2, seed=7, batch_size=bSize)\n",
    "    genX3 = mask_datagen.flow( X3, seed=7, batch_size=bSize)\n",
    "    while True:\n",
    "            X1i = genX1.next()\n",
    "            X2i = genX2.next()\n",
    "            X3i = genX3.next()\n",
    "            yield [X1i, X2i], X3i\n",
    "\n",
    "train_generator = multi_input_gen(X_train0, d_train0, Y_train0) #zip( [image_generator, depth_generator] , [mask_generator] )"
   ]
  },
  {
   "cell_type": "code",
   "execution_count": 13,
   "metadata": {},
   "outputs": [
    {
     "name": "stdout",
     "output_type": "stream",
     "text": [
      "668.0\n"
     ]
    },
    {
     "data": {
      "image/png": "[encoded data removed]",
      "text/plain": [
       "<Figure size 432x288 with 1 Axes>"
      ]
     },
     "metadata": {},
     "output_type": "display_data"
    },
    {
     "data": {
      "image/png": "[encoded data removed]",
      "text/plain": [
       "<Figure size 432x288 with 1 Axes>"
      ]
     },
     "metadata": {},
     "output_type": "display_data"
    }
   ],
   "source": [
    "ans = next(train_generator)\n",
    "print(ans[0][1][17,0,0,0])\n",
    "plt.imshow( ans[0][0][17,:,:,0] )\n",
    "plt.show()\n",
    "plt.imshow( ans[1][17,:,:,0] )\n",
    "plt.show()"
   ]
  },
  {
   "cell_type": "markdown",
   "metadata": {
    "colab_type": "text",
    "id": "ZZnJKHYuCfpu"
   },
   "source": [
    "# UNet model"
   ]
  },
  {
   "cell_type": "code",
   "execution_count": 14,
   "metadata": {
    "colab": {},
    "colab_type": "code",
    "id": "eq663ff6-x9k"
   },
   "outputs": [],
   "source": [
    "import ModelUNet\n",
    "\n",
    "from keras.utils import plot_model\n",
    "from keras.models import Model, load_model\n",
    "from keras.layers import Input, ZeroPadding2D, Cropping2D, Add, Conv2D, Concatenate, SeparableConv2D\n",
    "from keras.layers.core import Lambda"
   ]
  },
  {
   "cell_type": "code",
   "execution_count": null,
   "metadata": {},
   "outputs": [],
   "source": []
  },
  {
   "cell_type": "code",
   "execution_count": 15,
   "metadata": {
    "colab": {
     "base_uri": "https://localhost:8080/",
     "height": 2397
    },
    "colab_type": "code",
    "id": "xOna1LTs4hMT",
    "outputId": "0ee5e237-1064-4a1a-b646-e8f8fba3abf7",
    "scrolled": false
   },
   "outputs": [
    {
     "name": "stdout",
     "output_type": "stream",
     "text": [
      "__________________________________________________________________________________________________\n",
      "Layer (type)                    Output Shape         Param #     Connected to                     \n",
      "==================================================================================================\n",
      "input_1 (InputLayer)            (None, 101, 101, 1)  0                                            \n",
      "__________________________________________________________________________________________________\n",
      "zero_padding2d_1 (ZeroPadding2D (None, 128, 128, 1)  0           input_1[0][0]                    \n",
      "__________________________________________________________________________________________________\n",
      "input_2 (InputLayer)            (None, 1, 1, 1)      0                                            \n",
      "__________________________________________________________________________________________________\n",
      "SUNet_d2 (Model)                (None, 128, 128, 1)  2917267     zero_padding2d_1[0][0]           \n",
      "                                                                 input_2[0][0]                    \n",
      "__________________________________________________________________________________________________\n",
      "cropping2d_1 (Cropping2D)       (None, 101, 101, 1)  0           SUNet_d2[1][0]                   \n",
      "==================================================================================================\n",
      "Total params: 2,917,267\n",
      "Trainable params: 2,898,195\n",
      "Non-trainable params: 19,072\n",
      "__________________________________________________________________________________________________\n"
     ]
    }
   ],
   "source": [
    "im_height = 101\n",
    "im_width = 101\n",
    "im_chan = 1\n",
    "\n",
    "\n",
    "inputImg = Input((im_height, im_width, im_chan))\n",
    "inputDepth = Input( (1,1,1) )\n",
    "\n",
    "s=inputImg\n",
    "dd=inputDepth\n",
    "\n",
    "#s = ReflectionPadding2D( padding = ((13, 14), (13, 14)) ) (s)\n",
    "s = ZeroPadding2D( padding = ((13, 14), (13, 14)) ) (s)\n",
    "\n",
    "\n",
    "#unet = ModelUNet.BuildUNet(convFunction = ModelUNet.ApplyConv, nFilter = 12, net_depth=4, nBorderRefinementConvs = 4)\n",
    "unet = ModelUNet.BuildSUNet(convFunction = ModelUNet.ApplySepConv, nFilter = 64, net_depth=2, \n",
    "                            nBorderRefinementConvs = 4, innerConvs = 16, encoderSquash=64)\n",
    "\n",
    "su = unet([s,dd])\n",
    "\n",
    "outputs = su\n",
    "\n",
    "#outputs = Conv2D(1, (1, 1), activation='sigmoid') (outputs) #already in UNet\n",
    "\n",
    "\n",
    "outputs = Cropping2D(cropping=((13, 14), (13, 14)) ) (outputs)\n",
    "\n",
    "model = Model(inputs=[inputImg, inputDepth], outputs=[outputs])\n",
    "\n",
    "model.compile(optimizer='adam', loss=ModelUNet.dice_loss, metrics=[ModelUNet.mean_iou])\n",
    "\n",
    "model.summary()"
   ]
  },
  {
   "cell_type": "markdown",
   "metadata": {},
   "source": [
    "## DeepLabV3+"
   ]
  },
  {
   "cell_type": "code",
   "execution_count": 24,
   "metadata": {
    "scrolled": true
   },
   "outputs": [
    {
     "name": "stdout",
     "output_type": "stream",
     "text": [
      "__________________________________________________________________________________________________\n",
      "Layer (type)                    Output Shape         Param #     Connected to                     \n",
      "==================================================================================================\n",
      "input_10 (InputLayer)           (None, 101, 101, 1)  0                                            \n",
      "__________________________________________________________________________________________________\n",
      "zero_padding2d_22 (ZeroPadding2 (None, 128, 128, 1)  0           input_10[0][0]                   \n",
      "__________________________________________________________________________________________________\n",
      "input_11 (InputLayer)           (None, 1, 1, 1)      0                                            \n",
      "__________________________________________________________________________________________________\n",
      "conv2d_13 (Conv2D)              (None, 128, 128, 3)  6           zero_padding2d_22[0][0]          \n",
      "__________________________________________________________________________________________________\n",
      "lambda_7 (Lambda)               (None, 1, 1, 1)      0           input_11[0][0]                   \n",
      "__________________________________________________________________________________________________\n",
      "deeplabv3p (Model)              (None, 128, 128, 21) 41258213    conv2d_13[0][0]                  \n",
      "__________________________________________________________________________________________________\n",
      "lambda_8 (Lambda)               (None, 128, 128, 1)  0           lambda_7[0][0]                   \n",
      "__________________________________________________________________________________________________\n",
      "concatenate_12 (Concatenate)    (None, 128, 128, 22) 0           deeplabv3p[1][0]                 \n",
      "                                                                 lambda_8[0][0]                   \n",
      "__________________________________________________________________________________________________\n",
      "conv2d_14 (Conv2D)              (None, 128, 128, 1)  23          concatenate_12[0][0]             \n",
      "__________________________________________________________________________________________________\n",
      "cropping2d_4 (Cropping2D)       (None, 101, 101, 1)  0           conv2d_14[0][0]                  \n",
      "==================================================================================================\n",
      "Total params: 41,258,242\n",
      "Trainable params: 41,055,442\n",
      "Non-trainable params: 202,800\n",
      "__________________________________________________________________________________________________\n"
     ]
    }
   ],
   "source": [
    "import DeepLabv3Plus\n",
    "\n",
    "im_height = 101\n",
    "im_width = 101\n",
    "im_chan = 1\n",
    "\n",
    "\n",
    "inputs = Input((im_height, im_width, im_chan))\n",
    "#s = Lambda(lambda x: x / 255) (inputs)\n",
    "s=inputs\n",
    "inputDepth = Input( (1,1,1) )\n",
    "\n",
    "\n",
    "curLayer = inputs#Concatenate()([inputs, depthIn])\n",
    "\n",
    "\n",
    "#s = ReflectionPadding2D( padding = ((13, 14), (13, 14)) ) (s)\n",
    "s = ZeroPadding2D( padding = ((13, 14), (13, 14)) ) (curLayer)\n",
    "s = Conv2D(3, (1, 1), activation='relu') (s) #(1,1)\n",
    "\n",
    "dlmodel = DeepLabv3Plus.Deeplabv3(input_shape=(128, 128, 3), classes=21, backbone='xception') #\n",
    "\n",
    "outputs = dlmodel(s)\n",
    "\n",
    "dd = Lambda(lambda x: x * 0.001) (inputDepth)\n",
    "dd = Lambda(lambda x: ModelUNet._expand(x, 128, 128) )(dd)\n",
    "outputs = Concatenate()([outputs, dd])\n",
    "\n",
    "#outputs = SeparableConv2D(10, (11, 11), activation='relu', padding = 'same') (outputs)\n",
    "\n",
    "outputs = Conv2D(1, (1, 1), activation='sigmoid') (outputs)\n",
    "outputs = Cropping2D(cropping=((13, 14), (13, 14)) ) (outputs)\n",
    "\n",
    "#freeze some layers\n",
    "for k in range(len(dlmodel.layers)):\n",
    "    if k < 299:\n",
    "        dlmodel.layers[k].trainable = False\n",
    "    #print('Layer {}: {}, trainable? {}'.format(k, dlmodel.layers[k], dlmodel.layers[k].trainable))\n",
    "\n",
    "model = Model(inputs=[inputs, inputDepth], outputs=outputs)\n",
    "model.compile(optimizer='adam', loss=[ModelUNet.dice_loss], metrics=[ModelUNet.mean_iou])\n",
    "model.summary()"
   ]
  },
  {
   "cell_type": "markdown",
   "metadata": {
    "colab_type": "text",
    "id": "CT0_7k0iW5bh"
   },
   "source": [
    "# Training"
   ]
  },
  {
   "cell_type": "code",
   "execution_count": 191,
   "metadata": {
    "colab": {},
    "colab_type": "code",
    "id": "V6zDpL9pTNb4"
   },
   "outputs": [],
   "source": [
    "import math\n",
    "from keras.callbacks import EarlyStopping, ModelCheckpoint, LearningRateScheduler\n",
    "def step_decay(epoch):\n",
    "    initial_lrate = 0.0001                \n",
    "    drop = 0.6\n",
    "    epochs_drop = 30.0\n",
    "    lrate = initial_lrate * math.pow(drop,  \n",
    "            math.floor((1+epoch)/epochs_drop))\n",
    "    \n",
    "    if (lrate < 5e-7):\n",
    "        lrate = 5e-7\n",
    "      \n",
    "    print('Changing learning rate to {}'.format(lrate))\n",
    "    return lrate\n",
    "lrate = LearningRateScheduler(step_decay)"
   ]
  },
  {
   "cell_type": "code",
   "execution_count": 192,
   "metadata": {
    "colab": {
     "base_uri": "https://localhost:8080/",
     "height": 3179
    },
    "colab_type": "code",
    "id": "dyt7eewqDTIk",
    "outputId": "fd7ee0f3-d0c9-4b50-e00a-445bfe2d98b6",
    "scrolled": true
   },
   "outputs": [
    {
     "name": "stdout",
     "output_type": "stream",
     "text": [
      "Epoch 1/300\n",
      "Changing learning rate to 0.0001\n",
      " 57/124 [============>.................] - ETA: 1:22 - loss: 0.0041 - mean_iou: 0.9191"
     ]
    },
    {
     "ename": "KeyboardInterrupt",
     "evalue": "",
     "output_type": "error",
     "traceback": [
      "\u001b[0;31m---------------------------------------------------------------------------\u001b[0m",
      "\u001b[0;31mKeyboardInterrupt\u001b[0m                         Traceback (most recent call last)",
      "\u001b[0;32m<ipython-input-192-c364f2588323>\u001b[0m in \u001b[0;36m<module>\u001b[0;34m()\u001b[0m\n\u001b[1;32m      7\u001b[0m results = model.fit_generator(train_generator, epochs=300, steps_per_epoch=len(X_train0) / 32, \n\u001b[1;32m      8\u001b[0m                               \u001b[0mvalidation_data\u001b[0m\u001b[0;34m=\u001b[0m\u001b[0;34m(\u001b[0m \u001b[0;34m[\u001b[0m\u001b[0mX_val\u001b[0m\u001b[0;34m,\u001b[0m \u001b[0md_val\u001b[0m\u001b[0;34m]\u001b[0m\u001b[0;34m,\u001b[0m \u001b[0mY_val\u001b[0m\u001b[0;34m)\u001b[0m\u001b[0;34m,\u001b[0m\u001b[0;34m\u001b[0m\u001b[0m\n\u001b[0;32m----> 9\u001b[0;31m                               callbacks=[earlystopper, checkpointer, lrate, internalEval])\n\u001b[0m",
      "\u001b[0;32m/anaconda/envs/py35/lib/python3.5/site-packages/keras/legacy/interfaces.py\u001b[0m in \u001b[0;36mwrapper\u001b[0;34m(*args, **kwargs)\u001b[0m\n\u001b[1;32m     89\u001b[0m                 warnings.warn('Update your `' + object_name +\n\u001b[1;32m     90\u001b[0m                               '` call to the Keras 2 API: ' + signature, stacklevel=2)\n\u001b[0;32m---> 91\u001b[0;31m             \u001b[0;32mreturn\u001b[0m \u001b[0mfunc\u001b[0m\u001b[0;34m(\u001b[0m\u001b[0;34m*\u001b[0m\u001b[0margs\u001b[0m\u001b[0;34m,\u001b[0m \u001b[0;34m**\u001b[0m\u001b[0mkwargs\u001b[0m\u001b[0;34m)\u001b[0m\u001b[0;34m\u001b[0m\u001b[0m\n\u001b[0m\u001b[1;32m     92\u001b[0m         \u001b[0mwrapper\u001b[0m\u001b[0;34m.\u001b[0m\u001b[0m_original_function\u001b[0m \u001b[0;34m=\u001b[0m \u001b[0mfunc\u001b[0m\u001b[0;34m\u001b[0m\u001b[0m\n\u001b[1;32m     93\u001b[0m         \u001b[0;32mreturn\u001b[0m \u001b[0mwrapper\u001b[0m\u001b[0;34m\u001b[0m\u001b[0m\n",
      "\u001b[0;32m/anaconda/envs/py35/lib/python3.5/site-packages/keras/engine/training.py\u001b[0m in \u001b[0;36mfit_generator\u001b[0;34m(self, generator, steps_per_epoch, epochs, verbose, callbacks, validation_data, validation_steps, class_weight, max_queue_size, workers, use_multiprocessing, shuffle, initial_epoch)\u001b[0m\n\u001b[1;32m   1424\u001b[0m             \u001b[0muse_multiprocessing\u001b[0m\u001b[0;34m=\u001b[0m\u001b[0muse_multiprocessing\u001b[0m\u001b[0;34m,\u001b[0m\u001b[0;34m\u001b[0m\u001b[0m\n\u001b[1;32m   1425\u001b[0m             \u001b[0mshuffle\u001b[0m\u001b[0;34m=\u001b[0m\u001b[0mshuffle\u001b[0m\u001b[0;34m,\u001b[0m\u001b[0;34m\u001b[0m\u001b[0m\n\u001b[0;32m-> 1426\u001b[0;31m             initial_epoch=initial_epoch)\n\u001b[0m\u001b[1;32m   1427\u001b[0m \u001b[0;34m\u001b[0m\u001b[0m\n\u001b[1;32m   1428\u001b[0m     \u001b[0;34m@\u001b[0m\u001b[0minterfaces\u001b[0m\u001b[0;34m.\u001b[0m\u001b[0mlegacy_generator_methods_support\u001b[0m\u001b[0;34m\u001b[0m\u001b[0m\n",
      "\u001b[0;32m/anaconda/envs/py35/lib/python3.5/site-packages/keras/engine/training_generator.py\u001b[0m in \u001b[0;36mfit_generator\u001b[0;34m(model, generator, steps_per_epoch, epochs, verbose, callbacks, validation_data, validation_steps, class_weight, max_queue_size, workers, use_multiprocessing, shuffle, initial_epoch)\u001b[0m\n\u001b[1;32m    189\u001b[0m                 outs = model.train_on_batch(x, y,\n\u001b[1;32m    190\u001b[0m                                             \u001b[0msample_weight\u001b[0m\u001b[0;34m=\u001b[0m\u001b[0msample_weight\u001b[0m\u001b[0;34m,\u001b[0m\u001b[0;34m\u001b[0m\u001b[0m\n\u001b[0;32m--> 191\u001b[0;31m                                             class_weight=class_weight)\n\u001b[0m\u001b[1;32m    192\u001b[0m \u001b[0;34m\u001b[0m\u001b[0m\n\u001b[1;32m    193\u001b[0m                 \u001b[0;32mif\u001b[0m \u001b[0;32mnot\u001b[0m \u001b[0misinstance\u001b[0m\u001b[0;34m(\u001b[0m\u001b[0mouts\u001b[0m\u001b[0;34m,\u001b[0m \u001b[0mlist\u001b[0m\u001b[0;34m)\u001b[0m\u001b[0;34m:\u001b[0m\u001b[0;34m\u001b[0m\u001b[0m\n",
      "\u001b[0;32m/anaconda/envs/py35/lib/python3.5/site-packages/keras/engine/training.py\u001b[0m in \u001b[0;36mtrain_on_batch\u001b[0;34m(self, x, y, sample_weight, class_weight)\u001b[0m\n\u001b[1;32m   1218\u001b[0m             \u001b[0mins\u001b[0m \u001b[0;34m=\u001b[0m \u001b[0mx\u001b[0m \u001b[0;34m+\u001b[0m \u001b[0my\u001b[0m \u001b[0;34m+\u001b[0m \u001b[0msample_weights\u001b[0m\u001b[0;34m\u001b[0m\u001b[0m\n\u001b[1;32m   1219\u001b[0m         \u001b[0mself\u001b[0m\u001b[0;34m.\u001b[0m\u001b[0m_make_train_function\u001b[0m\u001b[0;34m(\u001b[0m\u001b[0;34m)\u001b[0m\u001b[0;34m\u001b[0m\u001b[0m\n\u001b[0;32m-> 1220\u001b[0;31m         \u001b[0moutputs\u001b[0m \u001b[0;34m=\u001b[0m \u001b[0mself\u001b[0m\u001b[0;34m.\u001b[0m\u001b[0mtrain_function\u001b[0m\u001b[0;34m(\u001b[0m\u001b[0mins\u001b[0m\u001b[0;34m)\u001b[0m\u001b[0;34m\u001b[0m\u001b[0m\n\u001b[0m\u001b[1;32m   1221\u001b[0m         \u001b[0;32mif\u001b[0m \u001b[0mlen\u001b[0m\u001b[0;34m(\u001b[0m\u001b[0moutputs\u001b[0m\u001b[0;34m)\u001b[0m \u001b[0;34m==\u001b[0m \u001b[0;36m1\u001b[0m\u001b[0;34m:\u001b[0m\u001b[0;34m\u001b[0m\u001b[0m\n\u001b[1;32m   1222\u001b[0m             \u001b[0;32mreturn\u001b[0m \u001b[0moutputs\u001b[0m\u001b[0;34m[\u001b[0m\u001b[0;36m0\u001b[0m\u001b[0;34m]\u001b[0m\u001b[0;34m\u001b[0m\u001b[0m\n",
      "\u001b[0;32m/anaconda/envs/py35/lib/python3.5/site-packages/keras/backend/tensorflow_backend.py\u001b[0m in \u001b[0;36m__call__\u001b[0;34m(self, inputs)\u001b[0m\n\u001b[1;32m   2659\u001b[0m                 \u001b[0;32mreturn\u001b[0m \u001b[0mself\u001b[0m\u001b[0;34m.\u001b[0m\u001b[0m_legacy_call\u001b[0m\u001b[0;34m(\u001b[0m\u001b[0minputs\u001b[0m\u001b[0;34m)\u001b[0m\u001b[0;34m\u001b[0m\u001b[0m\n\u001b[1;32m   2660\u001b[0m \u001b[0;34m\u001b[0m\u001b[0m\n\u001b[0;32m-> 2661\u001b[0;31m             \u001b[0;32mreturn\u001b[0m \u001b[0mself\u001b[0m\u001b[0;34m.\u001b[0m\u001b[0m_call\u001b[0m\u001b[0;34m(\u001b[0m\u001b[0minputs\u001b[0m\u001b[0;34m)\u001b[0m\u001b[0;34m\u001b[0m\u001b[0m\n\u001b[0m\u001b[1;32m   2662\u001b[0m         \u001b[0;32melse\u001b[0m\u001b[0;34m:\u001b[0m\u001b[0;34m\u001b[0m\u001b[0m\n\u001b[1;32m   2663\u001b[0m             \u001b[0;32mif\u001b[0m \u001b[0mpy_any\u001b[0m\u001b[0;34m(\u001b[0m\u001b[0mis_tensor\u001b[0m\u001b[0;34m(\u001b[0m\u001b[0mx\u001b[0m\u001b[0;34m)\u001b[0m \u001b[0;32mfor\u001b[0m \u001b[0mx\u001b[0m \u001b[0;32min\u001b[0m \u001b[0minputs\u001b[0m\u001b[0;34m)\u001b[0m\u001b[0;34m:\u001b[0m\u001b[0;34m\u001b[0m\u001b[0m\n",
      "\u001b[0;32m/anaconda/envs/py35/lib/python3.5/site-packages/keras/backend/tensorflow_backend.py\u001b[0m in \u001b[0;36m_call\u001b[0;34m(self, inputs)\u001b[0m\n\u001b[1;32m   2629\u001b[0m                                 \u001b[0msymbol_vals\u001b[0m\u001b[0;34m,\u001b[0m\u001b[0;34m\u001b[0m\u001b[0m\n\u001b[1;32m   2630\u001b[0m                                 session)\n\u001b[0;32m-> 2631\u001b[0;31m         \u001b[0mfetched\u001b[0m \u001b[0;34m=\u001b[0m \u001b[0mself\u001b[0m\u001b[0;34m.\u001b[0m\u001b[0m_callable_fn\u001b[0m\u001b[0;34m(\u001b[0m\u001b[0;34m*\u001b[0m\u001b[0marray_vals\u001b[0m\u001b[0;34m)\u001b[0m\u001b[0;34m\u001b[0m\u001b[0m\n\u001b[0m\u001b[1;32m   2632\u001b[0m         \u001b[0;32mreturn\u001b[0m \u001b[0mfetched\u001b[0m\u001b[0;34m[\u001b[0m\u001b[0;34m:\u001b[0m\u001b[0mlen\u001b[0m\u001b[0;34m(\u001b[0m\u001b[0mself\u001b[0m\u001b[0;34m.\u001b[0m\u001b[0moutputs\u001b[0m\u001b[0;34m)\u001b[0m\u001b[0;34m]\u001b[0m\u001b[0;34m\u001b[0m\u001b[0m\n\u001b[1;32m   2633\u001b[0m \u001b[0;34m\u001b[0m\u001b[0m\n",
      "\u001b[0;32m/anaconda/envs/py35/lib/python3.5/site-packages/tensorflow/python/client/session.py\u001b[0m in \u001b[0;36m__call__\u001b[0;34m(self, *args)\u001b[0m\n\u001b[1;32m   1449\u001b[0m         \u001b[0;32mif\u001b[0m \u001b[0mself\u001b[0m\u001b[0;34m.\u001b[0m\u001b[0m_session\u001b[0m\u001b[0;34m.\u001b[0m\u001b[0m_created_with_new_api\u001b[0m\u001b[0;34m:\u001b[0m\u001b[0;34m\u001b[0m\u001b[0m\n\u001b[1;32m   1450\u001b[0m           return tf_session.TF_SessionRunCallable(\n\u001b[0;32m-> 1451\u001b[0;31m               self._session._session, self._handle, args, status, None)\n\u001b[0m\u001b[1;32m   1452\u001b[0m         \u001b[0;32melse\u001b[0m\u001b[0;34m:\u001b[0m\u001b[0;34m\u001b[0m\u001b[0m\n\u001b[1;32m   1453\u001b[0m           return tf_session.TF_DeprecatedSessionRunCallable(\n",
      "\u001b[0;31mKeyboardInterrupt\u001b[0m: "
     ]
    }
   ],
   "source": [
    "earlystopper = EarlyStopping(patience=175, verbose=1)\n",
    "checkpointer = ModelCheckpoint('model-tgs-salt-1.h5', verbose=1, save_best_only=True)\n",
    "internalEval = ModelUNet.IntervalEvaluation( validation_data=( [X_val, d_val], Y_val), interval = 1 )\n",
    "#results = model.fit([X_train0, d_train0], Y_train0, validation_split=0.08, batch_size=16, epochs=100, \n",
    "#                    callbacks=[earlystopper, checkpointer, lrate])\n",
    "\n",
    "results = model.fit_generator(train_generator, epochs=300, steps_per_epoch=len(X_train0) / 32, \n",
    "                              validation_data=( [X_val, d_val], Y_val),\n",
    "                              callbacks=[earlystopper, checkpointer, lrate, internalEval])\n"
   ]
  },
  {
   "cell_type": "code",
   "execution_count": 129,
   "metadata": {},
   "outputs": [
    {
     "data": {
      "text/plain": [
       "[<matplotlib.lines.Line2D at 0x7fa785156710>]"
      ]
     },
     "execution_count": 129,
     "metadata": {},
     "output_type": "execute_result"
    },
    {
     "data": {
      "image/png": "[encoded data removed]",
      "text/plain": [
       "<Figure size 432x288 with 1 Axes>"
      ]
     },
     "metadata": {},
     "output_type": "display_data"
    }
   ],
   "source": [
    "plt.plot(internalEval.score_list[4:])"
   ]
  },
  {
   "cell_type": "code",
   "execution_count": 101,
   "metadata": {
    "colab": {
     "base_uri": "https://localhost:8080/",
     "height": 34
    },
    "colab_type": "code",
    "id": "Ll6kIRmGJ2v2",
    "outputId": "8fb91aa3-0315-480f-acb2-543fcc4193fe"
   },
   "outputs": [
    {
     "name": "stdout",
     "output_type": "stream",
     "text": [
      "dict_keys(['val_loss', 'loss', 'val_mean_iou', 'mean_iou'])\n"
     ]
    }
   ],
   "source": [
    "# list all data in history\n",
    "print(results.history.keys())"
   ]
  },
  {
   "cell_type": "code",
   "execution_count": 102,
   "metadata": {
    "colab": {
     "base_uri": "https://localhost:8080/",
     "height": 571
    },
    "colab_type": "code",
    "id": "RWk2IN87A49p",
    "outputId": "5b07b05f-5e05-4b39-a4e3-2dd258fc137d"
   },
   "outputs": [
    {
     "data": {
      "image/png": "[encoded data removed]",
      "text/plain": [
       "<Figure size 432x288 with 1 Axes>"
      ]
     },
     "metadata": {},
     "output_type": "display_data"
    },
    {
     "data": {
      "image/png": "[encoded data removed]",
      "text/plain": [
       "<Figure size 432x288 with 1 Axes>"
      ]
     },
     "metadata": {},
     "output_type": "display_data"
    }
   ],
   "source": [
    "# summarize history for intersestion over union\n",
    "plt.plot(results.history['mean_iou'])\n",
    "plt.plot(results.history['val_mean_iou'])\n",
    "plt.title('model IoU')\n",
    "plt.ylabel('accuracy')\n",
    "plt.xlabel('epoch')\n",
    "plt.legend(['train', 'test'], loc='upper left')\n",
    "plt.show()\n",
    "# summarize history for loss\n",
    "plt.plot(results.history['loss'])\n",
    "plt.plot(results.history['val_loss'])\n",
    "plt.title('model loss')\n",
    "plt.ylabel('loss')\n",
    "plt.xlabel('epoch')\n",
    "plt.legend(['train', 'test'], loc='upper left')\n",
    "plt.show()"
   ]
  },
  {
   "cell_type": "code",
   "execution_count": 109,
   "metadata": {
    "colab": {},
    "colab_type": "code",
    "id": "XW_rfkR1dWKs"
   },
   "outputs": [],
   "source": [
    "model = load_model('model-tgs-salt-IV.h5', custom_objects={'mean_iou': ModelUNet.mean_iou, 'dice_loss' : ModelUNet.dice_loss, \n",
    "                                                           '_expand': ModelUNet._expand, 'relu6': DeepLabv3Plus.relu6, 'BilinearUpsampling': DeepLabv3Plus.BilinearUpsampling }) #, 'ReflectionPadding2D' : ReflectionPadding2D})\n",
    "#model.save('model-tgs-salt-1.h5')"
   ]
  },
  {
   "cell_type": "code",
   "execution_count": 52,
   "metadata": {
    "colab": {},
    "colab_type": "code",
    "id": "qNr4jF7z4gZd"
   },
   "outputs": [],
   "source": [
    "#from google.colab import files\n",
    "#files.download('model-tgs-salt-1.h5')\n",
    "#files.upload()"
   ]
  },
  {
   "cell_type": "code",
   "execution_count": 53,
   "metadata": {},
   "outputs": [],
   "source": [
    "#for i in tqdm(range(len(X_train0))):\n",
    "#    X_train0[i] = image_datagen.standardize(X_train0[i].astype(float))\n",
    "    \n",
    "#for i in tqdm(range(len(X_val))):\n",
    "#    X_val[i] = image_datagen.standardize(X_val[i].astype(float))"
   ]
  },
  {
   "cell_type": "code",
   "execution_count": 193,
   "metadata": {
    "colab": {
     "base_uri": "https://localhost:8080/",
     "height": 51
    },
    "colab_type": "code",
    "id": "8XSdRAqCdYfF",
    "outputId": "e6c5ecde-a26f-4e6c-a61f-f197d85310de"
   },
   "outputs": [
    {
     "name": "stdout",
     "output_type": "stream",
     "text": [
      "3990/3990 [==============================] - 52s 13ms/step\n",
      "10/10 [==============================] - 0s 16ms/step\n"
     ]
    }
   ],
   "source": [
    "preds_train = model.predict([X_train0, d_train0], verbose=1)\n",
    "preds_val = model.predict([X_val,d_val], verbose=1)"
   ]
  },
  {
   "cell_type": "markdown",
   "metadata": {},
   "source": [
    "## Watershed"
   ]
  },
  {
   "cell_type": "code",
   "execution_count": 194,
   "metadata": {
    "scrolled": true
   },
   "outputs": [
    {
     "name": "stderr",
     "output_type": "stream",
     "text": [
      "  0%|          | 0/65 [00:00<?, ?it/s]\n",
      "  0%|          | 0/10 [00:00<?, ?it/s]\u001b[A\n",
      "100%|██████████| 10/10 [00:00<00:00, 405.66it/s]\u001b[A\n",
      "  0%|          | 0/10 [00:00<?, ?it/s]\u001b[A\n",
      "100%|██████████| 10/10 [00:00<00:00, 415.50it/s]\u001b[A\n",
      "  0%|          | 0/10 [00:00<?, ?it/s]\u001b[A\n",
      "  5%|▍         | 3/65 [00:00<00:02, 23.16it/s]s]\u001b[A\n",
      "  0%|          | 0/10 [00:00<?, ?it/s]\u001b[A\n",
      "100%|██████████| 10/10 [00:00<00:00, 419.81it/s]\u001b[A\n",
      "  0%|          | 0/10 [00:00<?, ?it/s]\u001b[A\n",
      "100%|██████████| 10/10 [00:00<00:00, 426.22it/s]\u001b[A\n",
      "  0%|          | 0/10 [00:00<?, ?it/s]\u001b[A\n",
      "  9%|▉         | 6/65 [00:00<00:02, 23.10it/s]s]\u001b[A\n",
      "  0%|          | 0/10 [00:00<?, ?it/s]\u001b[A\n",
      "100%|██████████| 10/10 [00:00<00:00, 420.81it/s]\u001b[A\n",
      "  0%|          | 0/10 [00:00<?, ?it/s]\u001b[A\n",
      "100%|██████████| 10/10 [00:00<00:00, 413.86it/s]\u001b[A\n",
      "  0%|          | 0/10 [00:00<?, ?it/s]\u001b[A\n",
      " 14%|█▍        | 9/65 [00:00<00:02, 23.07it/s]s]\u001b[A\n",
      "  0%|          | 0/10 [00:00<?, ?it/s]\u001b[A\n",
      "100%|██████████| 10/10 [00:00<00:00, 417.50it/s]\u001b[A\n",
      "  0%|          | 0/10 [00:00<?, ?it/s]\u001b[A\n",
      "100%|██████████| 10/10 [00:00<00:00, 406.09it/s]\u001b[A\n",
      "  0%|          | 0/10 [00:00<?, ?it/s]\u001b[A\n",
      " 18%|█▊        | 12/65 [00:00<00:02, 23.12it/s]]\u001b[A\n",
      "  0%|          | 0/10 [00:00<?, ?it/s]\u001b[A\n",
      "100%|██████████| 10/10 [00:00<00:00, 422.77it/s]\u001b[A\n",
      "  0%|          | 0/10 [00:00<?, ?it/s]\u001b[A\n",
      "100%|██████████| 10/10 [00:00<00:00, 399.73it/s]\u001b[A\n",
      "  0%|          | 0/10 [00:00<?, ?it/s]\u001b[A\n",
      " 23%|██▎       | 15/65 [00:00<00:02, 23.08it/s]]\u001b[A\n",
      "  0%|          | 0/10 [00:00<?, ?it/s]\u001b[A\n",
      "100%|██████████| 10/10 [00:00<00:00, 418.24it/s]\u001b[A\n",
      "  0%|          | 0/10 [00:00<?, ?it/s]\u001b[A\n",
      "100%|██████████| 10/10 [00:00<00:00, 418.69it/s]\u001b[A\n",
      "  0%|          | 0/10 [00:00<?, ?it/s]\u001b[A\n",
      " 28%|██▊       | 18/65 [00:00<00:02, 23.14it/s]]\u001b[A\n",
      "  0%|          | 0/10 [00:00<?, ?it/s]\u001b[A\n",
      "100%|██████████| 10/10 [00:00<00:00, 411.35it/s]\u001b[A\n",
      "  0%|          | 0/10 [00:00<?, ?it/s]\u001b[A\n",
      "100%|██████████| 10/10 [00:00<00:00, 410.82it/s]\u001b[A\n",
      "  0%|          | 0/10 [00:00<?, ?it/s]\u001b[A\n",
      " 32%|███▏      | 21/65 [00:00<00:01, 23.14it/s]]\u001b[A\n",
      "  0%|          | 0/10 [00:00<?, ?it/s]\u001b[A\n",
      "100%|██████████| 10/10 [00:00<00:00, 416.30it/s]\u001b[A\n",
      "  0%|          | 0/10 [00:00<?, ?it/s]\u001b[A\n",
      "100%|██████████| 10/10 [00:00<00:00, 416.55it/s]\u001b[A\n",
      "  0%|          | 0/10 [00:00<?, ?it/s]\u001b[A\n",
      " 37%|███▋      | 24/65 [00:01<00:01, 23.17it/s]]\u001b[A\n",
      "  0%|          | 0/10 [00:00<?, ?it/s]\u001b[A\n",
      "100%|██████████| 10/10 [00:00<00:00, 418.81it/s]\u001b[A\n",
      "  0%|          | 0/10 [00:00<?, ?it/s]\u001b[A\n",
      "100%|██████████| 10/10 [00:00<00:00, 408.98it/s]\u001b[A\n",
      "  0%|          | 0/10 [00:00<?, ?it/s]\u001b[A\n",
      " 42%|████▏     | 27/65 [00:01<00:01, 23.17it/s]]\u001b[A\n",
      "  0%|          | 0/10 [00:00<?, ?it/s]\u001b[A\n",
      "100%|██████████| 10/10 [00:00<00:00, 423.11it/s]\u001b[A\n",
      "  0%|          | 0/10 [00:00<?, ?it/s]\u001b[A\n",
      "100%|██████████| 10/10 [00:00<00:00, 414.60it/s]\u001b[A\n",
      "  0%|          | 0/10 [00:00<?, ?it/s]\u001b[A\n",
      " 46%|████▌     | 30/65 [00:01<00:01, 23.20it/s]]\u001b[A\n",
      "  0%|          | 0/10 [00:00<?, ?it/s]\u001b[A\n",
      "100%|██████████| 10/10 [00:00<00:00, 396.58it/s]\u001b[A\n",
      "  0%|          | 0/10 [00:00<?, ?it/s]\u001b[A\n",
      "100%|██████████| 10/10 [00:00<00:00, 418.61it/s]\u001b[A\n",
      "  0%|          | 0/10 [00:00<?, ?it/s]\u001b[A\n",
      " 51%|█████     | 33/65 [00:01<00:01, 23.20it/s]]\u001b[A\n",
      "  0%|          | 0/10 [00:00<?, ?it/s]\u001b[A\n",
      "100%|██████████| 10/10 [00:00<00:00, 422.36it/s]\u001b[A\n",
      "  0%|          | 0/10 [00:00<?, ?it/s]\u001b[A\n",
      "100%|██████████| 10/10 [00:00<00:00, 418.66it/s]\u001b[A\n",
      "  0%|          | 0/10 [00:00<?, ?it/s]\u001b[A\n",
      " 55%|█████▌    | 36/65 [00:01<00:01, 23.22it/s]]\u001b[A\n",
      "  0%|          | 0/10 [00:00<?, ?it/s]\u001b[A\n",
      "100%|██████████| 10/10 [00:00<00:00, 415.51it/s]\u001b[A\n",
      "  0%|          | 0/10 [00:00<?, ?it/s]\u001b[A\n",
      "100%|██████████| 10/10 [00:00<00:00, 418.38it/s]\u001b[A\n",
      "  0%|          | 0/10 [00:00<?, ?it/s]\u001b[A\n",
      " 60%|██████    | 39/65 [00:01<00:01, 23.24it/s]]\u001b[A\n",
      "  0%|          | 0/10 [00:00<?, ?it/s]\u001b[A\n",
      "100%|██████████| 10/10 [00:00<00:00, 425.83it/s]\u001b[A\n",
      "  0%|          | 0/10 [00:00<?, ?it/s]\u001b[A\n",
      "100%|██████████| 10/10 [00:00<00:00, 424.60it/s]\u001b[A\n",
      "  0%|          | 0/10 [00:00<?, ?it/s]\u001b[A\n",
      " 65%|██████▍   | 42/65 [00:01<00:00, 23.25it/s]]\u001b[A\n",
      "  0%|          | 0/10 [00:00<?, ?it/s]\u001b[A\n",
      "100%|██████████| 10/10 [00:00<00:00, 412.11it/s]\u001b[A\n",
      "  0%|          | 0/10 [00:00<?, ?it/s]\u001b[A\n",
      "100%|██████████| 10/10 [00:00<00:00, 410.82it/s]\u001b[A\n",
      "  0%|          | 0/10 [00:00<?, ?it/s]\u001b[A\n",
      " 69%|██████▉   | 45/65 [00:01<00:00, 23.24it/s]]\u001b[A\n",
      "  0%|          | 0/10 [00:00<?, ?it/s]\u001b[A\n",
      "100%|██████████| 10/10 [00:00<00:00, 408.49it/s]\u001b[A\n",
      "  0%|          | 0/10 [00:00<?, ?it/s]\u001b[A\n",
      "100%|██████████| 10/10 [00:00<00:00, 410.33it/s]\u001b[A\n",
      "  0%|          | 0/10 [00:00<?, ?it/s]\u001b[A\n",
      " 74%|███████▍  | 48/65 [00:02<00:00, 23.24it/s]]\u001b[A\n",
      "  0%|          | 0/10 [00:00<?, ?it/s]\u001b[A\n",
      "100%|██████████| 10/10 [00:00<00:00, 409.47it/s]\u001b[A\n",
      "  0%|          | 0/10 [00:00<?, ?it/s]\u001b[A\n",
      "100%|██████████| 10/10 [00:00<00:00, 412.23it/s]\u001b[A\n",
      "  0%|          | 0/10 [00:00<?, ?it/s]\u001b[A\n",
      " 78%|███████▊  | 51/65 [00:02<00:00, 23.24it/s]]\u001b[A\n",
      "  0%|          | 0/10 [00:00<?, ?it/s]\u001b[A\n",
      "100%|██████████| 10/10 [00:00<00:00, 413.82it/s]\u001b[A\n",
      "  0%|          | 0/10 [00:00<?, ?it/s]\u001b[A\n",
      "100%|██████████| 10/10 [00:00<00:00, 411.18it/s]\u001b[A\n",
      "  0%|          | 0/10 [00:00<?, ?it/s]\u001b[A\n",
      " 83%|████████▎ | 54/65 [00:02<00:00, 23.23it/s]]\u001b[A\n",
      "  0%|          | 0/10 [00:00<?, ?it/s]\u001b[A\n",
      "100%|██████████| 10/10 [00:00<00:00, 404.84it/s]\u001b[A\n",
      "  0%|          | 0/10 [00:00<?, ?it/s]\u001b[A\n",
      "100%|██████████| 10/10 [00:00<00:00, 415.29it/s]\u001b[A\n",
      "  0%|          | 0/10 [00:00<?, ?it/s]\u001b[A\n",
      " 88%|████████▊ | 57/65 [00:02<00:00, 23.19it/s]]\u001b[A\n",
      "  0%|          | 0/10 [00:00<?, ?it/s]\u001b[A\n",
      "100%|██████████| 10/10 [00:00<00:00, 402.22it/s]\u001b[A\n",
      "  0%|          | 0/10 [00:00<?, ?it/s]\u001b[A\n",
      "100%|██████████| 10/10 [00:00<00:00, 402.03it/s]\u001b[A\n",
      "  0%|          | 0/10 [00:00<?, ?it/s]\u001b[A\n",
      " 92%|█████████▏| 60/65 [00:02<00:00, 23.18it/s]]\u001b[A\n",
      "  0%|          | 0/10 [00:00<?, ?it/s]\u001b[A\n",
      "100%|██████████| 10/10 [00:00<00:00, 416.50it/s]\u001b[A\n",
      "  0%|          | 0/10 [00:00<?, ?it/s]\u001b[A\n",
      "100%|██████████| 10/10 [00:00<00:00, 420.65it/s]\u001b[A\n",
      "  0%|          | 0/10 [00:00<?, ?it/s]\u001b[A\n",
      " 97%|█████████▋| 63/65 [00:02<00:00, 23.17it/s]]\u001b[A\n",
      "  0%|          | 0/10 [00:00<?, ?it/s]\u001b[A\n",
      "100%|██████████| 10/10 [00:00<00:00, 422.34it/s]\u001b[A\n",
      "  0%|          | 0/10 [00:00<?, ?it/s]\u001b[A\n",
      "100%|██████████| 65/65 [00:02<00:00, 23.18it/s]]\u001b[A\n"
     ]
    }
   ],
   "source": [
    "threshList = []\n",
    "IoUList = []\n",
    "IoUValList = []\n",
    "for kk in tqdm(range(65)):\n",
    "    thresh = 0.3 + 0.7*(1+kk)/65\n",
    "    threshList.append(thresh)\n",
    "    \n",
    "    meanIoUVal = 0\n",
    "    \n",
    "    preds_val_ws = ModelUNet.WaterShedChangeAll(preds_val, lowThresh = 0.1, highThresh = thresh)\n",
    "    meanIoUVal = np.array([ModelUNet.IoU(preds_val_ws[i], Y_val[i]) for i in range(Y_val.shape[0])])\n",
    "    IoUValList.append(np.mean(meanIoUVal) )\n",
    "    "
   ]
  },
  {
   "cell_type": "code",
   "execution_count": 195,
   "metadata": {},
   "outputs": [
    {
     "data": {
      "text/plain": [
       "[<matplotlib.lines.Line2D at 0x7fa784d40eb8>]"
      ]
     },
     "execution_count": 195,
     "metadata": {},
     "output_type": "execute_result"
    },
    {
     "data": {
      "image/png": "[encoded data removed]",
      "text/plain": [
       "<Figure size 432x288 with 1 Axes>"
      ]
     },
     "metadata": {},
     "output_type": "display_data"
    }
   ],
   "source": [
    "plt.title('IoU curve')\n",
    "plt.ylabel('IoU')\n",
    "plt.xlabel('threshold')\n",
    "\n",
    "#plt.plot(threshList, IoUList)\n",
    "plt.plot(threshList, IoUValList)"
   ]
  },
  {
   "cell_type": "code",
   "execution_count": 196,
   "metadata": {},
   "outputs": [
    {
     "name": "stdout",
     "output_type": "stream",
     "text": [
      "Thresh: 0.31076923076923074  ExpectedIoU: 0.8800000000000001\n"
     ]
    }
   ],
   "source": [
    "wsThresh = threshList[np.argmax(IoUValList)]\n",
    "print('Thresh: {}  ExpectedIoU: {}'.format(wsThresh, max(IoUValList)))"
   ]
  },
  {
   "cell_type": "markdown",
   "metadata": {},
   "source": [
    "## Threshold optimization"
   ]
  },
  {
   "cell_type": "code",
   "execution_count": 197,
   "metadata": {
    "colab": {
     "base_uri": "https://localhost:8080/",
     "height": 34
    },
    "colab_type": "code",
    "id": "8T71Irhvda5m",
    "outputId": "51b5c269-8f37-4b1a-8053-b376c42030dc"
   },
   "outputs": [
    {
     "name": "stderr",
     "output_type": "stream",
     "text": [
      "100%|██████████| 13/13 [01:18<00:00,  6.03s/it]\n"
     ]
    }
   ],
   "source": [
    "threshList = []\n",
    "IoUList = []\n",
    "IoUValList = []\n",
    "for kk in tqdm(range(13)):\n",
    "    thresh = (1+kk)/13\n",
    "    threshList.append(thresh)\n",
    "    preds_train_t = (preds_train > thresh).astype(np.uint8)\n",
    "    preds_val_t = (preds_val > thresh).astype(np.uint8)\n",
    "    meanIoU = np.array([ModelUNet.IoU(preds_train_t[i], Y_train0[i]) for i in range(Y_train0.shape[0])])\n",
    "    IoUList.append(np.mean(meanIoU) )\n",
    "    meanIoUVal = np.array([ModelUNet.IoU(preds_val_t[i], Y_val[i]) for i in range(Y_val.shape[0])])\n",
    "    IoUValList.append(np.mean(meanIoUVal) )"
   ]
  },
  {
   "cell_type": "code",
   "execution_count": 198,
   "metadata": {
    "colab": {
     "base_uri": "https://localhost:8080/",
     "height": 311
    },
    "colab_type": "code",
    "id": "wg0NipGnddCw",
    "outputId": "c45fb827-da83-4a10-c766-023300ab3329"
   },
   "outputs": [
    {
     "data": {
      "text/plain": [
       "[<matplotlib.lines.Line2D at 0x7fa784dde390>]"
      ]
     },
     "execution_count": 198,
     "metadata": {},
     "output_type": "execute_result"
    },
    {
     "data": {
      "image/png": "[encoded data removed]",
      "text/plain": [
       "<Figure size 432x288 with 1 Axes>"
      ]
     },
     "metadata": {},
     "output_type": "display_data"
    }
   ],
   "source": [
    "plt.title('IoU curve')\n",
    "plt.ylabel('IoU')\n",
    "plt.xlabel('threshold')\n",
    "\n",
    "plt.plot(threshList, IoUList)\n",
    "plt.plot(threshList, IoUValList)"
   ]
  },
  {
   "cell_type": "code",
   "execution_count": 199,
   "metadata": {
    "colab": {
     "base_uri": "https://localhost:8080/",
     "height": 34
    },
    "colab_type": "code",
    "id": "cQ_VOkO0de6p",
    "outputId": "b5e9961b-2792-4064-9f30-8daefce31eee"
   },
   "outputs": [
    {
     "name": "stdout",
     "output_type": "stream",
     "text": [
      "Thresh: 0.23076923076923078  ExpectedIoU: 0.8800000000000001\n"
     ]
    }
   ],
   "source": [
    "thresh = threshList[np.argmax(IoUValList)]\n",
    "print('Thresh: {}  ExpectedIoU: {}'.format(thresh, max(IoUValList)))"
   ]
  },
  {
   "cell_type": "code",
   "execution_count": 200,
   "metadata": {
    "colab": {},
    "colab_type": "code",
    "id": "kor6dfuWkRgL"
   },
   "outputs": [],
   "source": [
    "thresh = 0.5"
   ]
  },
  {
   "cell_type": "markdown",
   "metadata": {},
   "source": [
    "# Joint Optimization of Pixel Count and Threshold"
   ]
  },
  {
   "cell_type": "code",
   "execution_count": 174,
   "metadata": {},
   "outputs": [],
   "source": [
    "def AdapThresh(pred_logits, threshPixels, thresh, threshL, threshH):\n",
    "    pred_t = np.zeros_like(pred_logits)\n",
    "    for i in range(len(pred_logits)):\n",
    "        pred_t[i] = (pred_logits[i] > thresh).astype(np.uint8)\n",
    "        if pred_t[i].sum() > threshPixels:\n",
    "            pred_t[i] = (pred_logits[i] > threshL).astype(np.uint8)\n",
    "        else:\n",
    "            pred_t[i] = (pred_logits[i] > threshH).astype(np.uint8)\n",
    "    return pred_t\n",
    "\n",
    "def ComputeIoU(pred_logits, G0, threshPixels, thresh, threshL, threshH):\n",
    "    pred_t = AdapThresh(pred_logits, threshPixels, thresh, threshL, threshH)\n",
    "    meanIoUVal = np.array([ModelUNet.IoU(pred_t[i].astype(np.uint8), G0[i].astype(np.uint8)) for i in range(G0.shape[0])])\n",
    "    return np.mean(meanIoUVal)"
   ]
  },
  {
   "cell_type": "code",
   "execution_count": 175,
   "metadata": {},
   "outputs": [
    {
     "name": "stderr",
     "output_type": "stream",
     "text": [
      "  0%|          | 7/3000 [00:00<00:48, 62.32it/s]"
     ]
    },
    {
     "name": "stdout",
     "output_type": "stream",
     "text": [
      "Best mean IoU improved to 0.8699999999999999\n",
      "Best mean IoU improved to 0.8800000000000001\n"
     ]
    },
    {
     "name": "stderr",
     "output_type": "stream",
     "text": [
      " 91%|█████████ | 2723/3000 [00:43<00:04, 62.82it/s]"
     ]
    },
    {
     "name": "stdout",
     "output_type": "stream",
     "text": [
      "Best mean IoU improved to 0.89\n"
     ]
    },
    {
     "name": "stderr",
     "output_type": "stream",
     "text": [
      "100%|██████████| 3000/3000 [00:47<00:00, 62.78it/s]"
     ]
    },
    {
     "name": "stdout",
     "output_type": "stream",
     "text": [
      "Best set of parameters: [[2.73000000e+02 4.09481043e-01 1.72299956e-01 8.70076138e-01]]\n",
      "[1090   28 1542   28 2714]\n"
     ]
    },
    {
     "name": "stderr",
     "output_type": "stream",
     "text": [
      "\n"
     ]
    }
   ],
   "source": [
    "#threshold pixels, threshold value, threshold low (high pix count), threshold high (low pix count)\n",
    "parameters = []\n",
    "nRuns = 3000\n",
    "bestSoFar = 0\n",
    "for k in tqdm(range(nRuns)):\n",
    "    threshPix = np.random.randint(1,101*30)\n",
    "    threshM = 0.3+0.7*np.random.random()\n",
    "    threshL = threshM*np.random.random()\n",
    "    threshH = threshM + (1 - threshM)*np.random.random()\n",
    "    \n",
    "    meanIoU = ComputeIoU(preds_val, Y_val, threshPix, threshM, threshL, threshH)\n",
    "    if meanIoU > bestSoFar:\n",
    "        bestSoFar = meanIoU\n",
    "        print('Best mean IoU improved to {}'.format(bestSoFar))\n",
    "    parameters.append([threshPix, threshM, threshL, threshH, meanIoU])\n",
    "    \n",
    "parameters = np.array(parameters)\n",
    "\n",
    "bestparams = np.array([parameters[q] for q in range(len(parameters)) if parameters[q,4] == bestSoFar])\n",
    "\n",
    "#print('Best set of parameters: {}'.format(parameters[ np.argmax(parameters,0)[4] ]))\n",
    "print('Best set of parameters: {}'.format(bestparams[:,0:4]))\n",
    "print(np.argmax(parameters,0))\n",
    "#print(parameters)\n"
   ]
  },
  {
   "cell_type": "code",
   "execution_count": 177,
   "metadata": {},
   "outputs": [
    {
     "data": {
      "text/plain": [
       "(array([  1.,   0.,   0.,   0.,   0.,   0.,   0.,   0.,   0.,   0.,   1.,\n",
       "          2.,   0.,   0.,   1.,   2.,   4.,   0.,  19.,   6.,   1.,   6.,\n",
       "          0.,  19.,   0.,  34.,  26.,   0.,  37.,   4.,  35.,  77.,   0.,\n",
       "        108.,   2.,  68., 188.,   0., 232.,   0., 158., 311.,   0., 307.,\n",
       "          0., 403., 549.,   0., 398.,   1.]),\n",
       " array([0.59 , 0.596, 0.602, 0.608, 0.614, 0.62 , 0.626, 0.632, 0.638,\n",
       "        0.644, 0.65 , 0.656, 0.662, 0.668, 0.674, 0.68 , 0.686, 0.692,\n",
       "        0.698, 0.704, 0.71 , 0.716, 0.722, 0.728, 0.734, 0.74 , 0.746,\n",
       "        0.752, 0.758, 0.764, 0.77 , 0.776, 0.782, 0.788, 0.794, 0.8  ,\n",
       "        0.806, 0.812, 0.818, 0.824, 0.83 , 0.836, 0.842, 0.848, 0.854,\n",
       "        0.86 , 0.866, 0.872, 0.878, 0.884, 0.89 ]),\n",
       " <a list of 50 Patch objects>)"
      ]
     },
     "execution_count": 177,
     "metadata": {},
     "output_type": "execute_result"
    },
    {
     "data": {
      "image/png": "[encoded data removed]",
      "text/plain": [
       "<Figure size 432x288 with 1 Axes>"
      ]
     },
     "metadata": {},
     "output_type": "display_data"
    }
   ],
   "source": [
    "plt.title('IoU histogram')\n",
    "plt.ylabel('Number of parameter combinations')\n",
    "plt.xlabel('Expected IoU')\n",
    "\n",
    "plt.hist(parameters[:,4], bins=50)"
   ]
  },
  {
   "cell_type": "code",
   "execution_count": 178,
   "metadata": {},
   "outputs": [],
   "source": [
    "threshPixels=2.73000000e+02 \n",
    "threshM= 4.09481043e-01 \n",
    "threshL= 1.72299956e-01 \n",
    "threshH= 8.70076138e-01"
   ]
  },
  {
   "cell_type": "markdown",
   "metadata": {
    "colab_type": "text",
    "id": "WC_JYxpGKQcj"
   },
   "source": [
    "# Predictions"
   ]
  },
  {
   "cell_type": "code",
   "execution_count": 143,
   "metadata": {},
   "outputs": [
    {
     "name": "stderr",
     "output_type": "stream",
     "text": [
      "\r",
      "  0%|          | 0/18000 [00:00<?, ?it/s]"
     ]
    },
    {
     "name": "stdout",
     "output_type": "stream",
     "text": [
      "Getting images and masks ... \n"
     ]
    },
    {
     "name": "stderr",
     "output_type": "stream",
     "text": [
      "100%|██████████| 18000/18000 [10:01<00:00, 29.95it/s]\n"
     ]
    }
   ],
   "source": [
    "X_test, d_test = ImageReader.ReadSegmentationImages(testFolder, depthFile, readMasks = False)\n",
    "X_test = X_test/255.0 #(X_test-X_train_mean)/(2*X_train_std)\n",
    "\n",
    "#for i in tqdm(range(len(X_test))):\n",
    "#    X_test[i] = image_datagen.standardize(X_test[i].astype(float))"
   ]
  },
  {
   "cell_type": "code",
   "execution_count": 201,
   "metadata": {
    "colab": {
     "base_uri": "https://localhost:8080/",
     "height": 68
    },
    "colab_type": "code",
    "id": "UQY0LPqMNf3G",
    "outputId": "17457a35-2bd0-422e-cac3-a28224ac61aa"
   },
   "outputs": [
    {
     "name": "stdout",
     "output_type": "stream",
     "text": [
      "3990/3990 [==============================] - 52s 13ms/step\n",
      "10/10 [==============================] - 0s 16ms/step\n",
      "18000/18000 [==============================] - 236s 13ms/step\n"
     ]
    }
   ],
   "source": [
    "model_array = [\n",
    "               #load_model('model-tgs-salt-Resnet.h5', custom_objects={'mean_iou': mean_iou, 'ReflectionPadding2D' : ReflectionPadding2D}),\n",
    "               #load_model('model-tgs-salt-ReflecConv.h5', custom_objects={'mean_iou': mean_iou, 'ReflectionPadding2D' : ReflectionPadding2D}),\n",
    "               #load_model('model-tgs-salt-Incep1.h5', custom_objects={'mean_iou': mean_iou, 'ReflectionPadding2D' : ReflectionPadding2D}),\n",
    "              ]\n",
    "\n",
    "# Predict on train, val and test\n",
    "\n",
    "preds_train = model.predict([X_train0, d_train0], verbose=1)\n",
    "preds_val = model.predict([X_val, d_val], verbose=1)\n",
    "preds_test = model.predict([X_test, d_test], verbose=1)\n",
    "\n",
    "for savedModel in model_array:\n",
    "    preds_train += savedModel.predict([X_train0, d_train0], verbose=1)\n",
    "    preds_val += savedModel.predict([X_val, d_val], verbose=1)\n",
    "    preds_test += savedModel.predict([X_test, d_test], verbose=1)\n",
    "\n",
    "preds_train /= 1+len(model_array)\n",
    "preds_val /= 1+len(model_array)\n",
    "preds_test /= 1+len(model_array)\n",
    "\n",
    "\n",
    "# Threshold predictions\n",
    "preds_train_t = (preds_train > thresh).astype(np.uint8)\n",
    "preds_val_t = (preds_val > thresh).astype(np.uint8)\n",
    "preds_test_t = (preds_test > thresh).astype(np.uint8)\n"
   ]
  },
  {
   "cell_type": "code",
   "execution_count": 180,
   "metadata": {
    "colab": {
     "base_uri": "https://localhost:8080/",
     "height": 34
    },
    "colab_type": "code",
    "id": "ynhnACAcOv19",
    "outputId": "258dcbca-5a36-41fa-8445-a97d02b3f0ff",
    "scrolled": true
   },
   "outputs": [],
   "source": [
    "#Watershed predictions\n",
    "#preds_test_t = ModelUNet.WaterShedChangeAll(preds_test, lowThresh = 0.1, highThresh = wsThresh)"
   ]
  },
  {
   "cell_type": "code",
   "execution_count": 181,
   "metadata": {},
   "outputs": [],
   "source": [
    "#quadruple-threshold preds\n",
    "preds_test_t = AdapThresh(preds_test, threshPixels, threshM, threshL, threshH)"
   ]
  },
  {
   "cell_type": "code",
   "execution_count": 182,
   "metadata": {
    "colab": {
     "base_uri": "https://localhost:8080/",
     "height": 770
    },
    "colab_type": "code",
    "id": "ttiEeIo-PJcP",
    "outputId": "976df606-8d4b-4bdf-e457-d1c713753a07"
   },
   "outputs": [
    {
     "data": {
      "image/png": "[encoded data removed]",
      "text/plain": [
       "<Figure size 432x288 with 1 Axes>"
      ]
     },
     "metadata": {},
     "output_type": "display_data"
    },
    {
     "data": {
      "image/png": "[encoded data removed]",
      "text/plain": [
       "<Figure size 432x288 with 1 Axes>"
      ]
     },
     "metadata": {},
     "output_type": "display_data"
    },
    {
     "data": {
      "image/png": "[encoded data removed]",
      "text/plain": [
       "<Figure size 432x288 with 1 Axes>"
      ]
     },
     "metadata": {},
     "output_type": "display_data"
    }
   ],
   "source": [
    "# Perform a sanity check on some random training samples\n",
    "ix = np.random.randint(0, len(preds_train_t))\n",
    "plt.imshow(X_train0[ix,:,:,0])\n",
    "plt.show()\n",
    "#plt.imshow(Y_train[ix,:,:,0])\n",
    "tmp = np.squeeze(Y_train0[ix]).astype(np.float32)\n",
    "plt.imshow(np.dstack((tmp,tmp,tmp)))\n",
    "plt.show()\n",
    "tmp = np.squeeze(preds_train_t[ix]).astype(np.float32)\n",
    "plt.imshow(np.dstack((tmp,tmp,tmp)))\n",
    "plt.show()"
   ]
  },
  {
   "cell_type": "code",
   "execution_count": 183,
   "metadata": {
    "colab": {
     "base_uri": "https://localhost:8080/",
     "height": 34
    },
    "colab_type": "code",
    "id": "I-a2-DznPRkG",
    "outputId": "30a99f22-1449-44e4-d816-a09a43a3e5d2"
   },
   "outputs": [
    {
     "data": {
      "text/plain": [
       "61"
      ]
     },
     "execution_count": 183,
     "metadata": {},
     "output_type": "execute_result"
    }
   ],
   "source": [
    "lowPixCount = [imgId for imgId in range(len(preds_test_t)) if preds_test_t[imgId].sum() < 5 and preds_test_t[imgId].sum() > 0]\n",
    "len(lowPixCount)"
   ]
  },
  {
   "cell_type": "code",
   "execution_count": 184,
   "metadata": {},
   "outputs": [
    {
     "data": {
      "text/plain": [
       "6239"
      ]
     },
     "execution_count": 184,
     "metadata": {},
     "output_type": "execute_result"
    }
   ],
   "source": [
    "testEmptyIDs = [imgId for imgId in range(len(preds_test)) if preds_test[imgId].max() < 0.1]\n",
    "nonSaltTestImgs = X_test[testEmptyIDs]\n",
    "nonSaltTestDpth = d_test[testEmptyIDs]\n",
    "len(testEmptyIDs)"
   ]
  },
  {
   "cell_type": "code",
   "execution_count": 185,
   "metadata": {
    "colab": {},
    "colab_type": "code",
    "id": "EImEPKhwNiVC"
   },
   "outputs": [],
   "source": [
    "for imId in lowPixCount:\n",
    "    preds_test_t[imId]=np.zeros( (101,101,1) )"
   ]
  },
  {
   "cell_type": "markdown",
   "metadata": {
    "colab_type": "text",
    "id": "3Eggn5qvQEdp"
   },
   "source": [
    "# Prepare Submission"
   ]
  },
  {
   "cell_type": "code",
   "execution_count": 202,
   "metadata": {
    "colab": {
     "base_uri": "https://localhost:8080/",
     "height": 51
    },
    "colab_type": "code",
    "id": "85EJ-_UNQkPw",
    "outputId": "96aae08f-f7e8-4a32-ab3c-9655f55fce48"
   },
   "outputs": [
    {
     "name": "stdout",
     "output_type": "stream",
     "text": [
      "(18000, 101, 101, 1)\n",
      "(18000, 101, 101)\n"
     ]
    }
   ],
   "source": [
    "print(preds_test_t.shape)\n",
    "preds_test = preds_test_t.reshape(preds_test_t.shape[0], preds_test_t.shape[1], preds_test_t.shape[2])\n",
    "print(preds_test.shape)"
   ]
  },
  {
   "cell_type": "code",
   "execution_count": 203,
   "metadata": {
    "colab": {},
    "colab_type": "code",
    "id": "Y5-1fLTJQGDo"
   },
   "outputs": [
    {
     "name": "stderr",
     "output_type": "stream",
     "text": [
      "18000it [04:38, 64.68it/s]\n"
     ]
    }
   ],
   "source": [
    "def RLenc(img, order='F', format=True):\n",
    "    \"\"\"\n",
    "    img is binary mask image, shape (r,c)\n",
    "    order is down-then-right, i.e. Fortran\n",
    "    format determines if the order needs to be preformatted (according to submission rules) or not\n",
    "\n",
    "    returns run length as an array or string (if format is True)\n",
    "    \"\"\"\n",
    "    bytes = img.reshape(img.shape[0] * img.shape[1], order=order)\n",
    "    runs = []  ## list of run lengths\n",
    "    r = 0  ## the current run length\n",
    "    pos = 1  ## count starts from 1 per WK\n",
    "    for c in bytes:\n",
    "        if (c == 0):\n",
    "            if r != 0:\n",
    "                runs.append((pos, r))\n",
    "                pos += r\n",
    "                r = 0\n",
    "            pos += 1\n",
    "        else:\n",
    "            r += 1\n",
    "\n",
    "    # if last run is unsaved (i.e. data ends with 1)\n",
    "    if r != 0:\n",
    "        runs.append((pos, r))\n",
    "        pos += r\n",
    "        r = 0\n",
    "\n",
    "    if format:\n",
    "        z = ''\n",
    "\n",
    "        for rr in runs:\n",
    "            z += '{} {} '.format(rr[0], rr[1])\n",
    "        return z[:-1]\n",
    "    else:\n",
    "        return runs\n",
    "\n",
    "pred_dict = {fn[:-4]:RLenc(np.round(preds_test[i])) for i,fn in tqdm(enumerate(test_ids))}\n",
    "#pred_dict = {fn[:-4]:RLenc(np.round(preds_test[i])) for i,fn in (enumerate(test_ids))}"
   ]
  },
  {
   "cell_type": "code",
   "execution_count": 204,
   "metadata": {
    "colab": {},
    "colab_type": "code",
    "id": "7Nm1w6_RQJqw"
   },
   "outputs": [],
   "source": [
    "sub = pd.DataFrame.from_dict(pred_dict,orient='index')\n",
    "sub.index.names = ['id']\n",
    "sub.columns = ['rle_mask']\n",
    "sub.to_csv('submission.csv')"
   ]
  },
  {
   "cell_type": "code",
   "execution_count": 205,
   "metadata": {
    "colab": {
     "base_uri": "https://localhost:8080/",
     "height": 85
    },
    "colab_type": "code",
    "id": "L5BqBHZbWPe3",
    "outputId": "ddfb96ce-0779-424b-caa9-a8d5e89ba18a"
   },
   "outputs": [
    {
     "name": "stdout",
     "output_type": "stream",
     "text": [
      "creating archive\n",
      "adding with compression mode deflated\n",
      "closing\n",
      "submission.zip\n"
     ]
    }
   ],
   "source": [
    "import zipfile\n",
    "try:\n",
    "    import zlib\n",
    "    compression = zipfile.ZIP_DEFLATED\n",
    "except:\n",
    "    compression = zipfile.ZIP_STORED\n",
    "\n",
    "modes = { zipfile.ZIP_DEFLATED: 'deflated',\n",
    "          zipfile.ZIP_STORED:   'stored',\n",
    "          }\n",
    "\n",
    "print('creating archive')\n",
    "zf = zipfile.ZipFile('submission.zip', mode='w')\n",
    "try:\n",
    "    print('adding with compression mode {}'.format(modes[compression]))\n",
    "    zf.write('submission.csv', compress_type=compression)\n",
    "finally:\n",
    "    print('closing')\n",
    "    zf.close()\n",
    "\n",
    "print('submission.zip')"
   ]
  },
  {
   "cell_type": "code",
   "execution_count": null,
   "metadata": {
    "colab": {},
    "colab_type": "code",
    "id": "nqzGcwV9nPqO"
   },
   "outputs": [],
   "source": []
  },
  {
   "cell_type": "code",
   "execution_count": 206,
   "metadata": {
    "colab": {
     "base_uri": "https://localhost:8080/",
     "height": 34
    },
    "colab_type": "code",
    "id": "xYN4cqUumso9",
    "outputId": "27d0b919-8289-483d-cf86-b086b5390a76"
   },
   "outputs": [
    {
     "name": "stdout",
     "output_type": "stream",
     "text": [
      "Warning: Your Kaggle API key is readable by otherusers on this system! To fix this, you can run'chmod 600 /home/douglas125/.kaggle/kaggle.json'\n",
      "Successfully submitted to TGS Salt Identification Challenge"
     ]
    }
   ],
   "source": [
    "!kaggle competitions submit -c tgs-salt-identification-challenge -f submission.zip -m \"DeepLabv3, initial_lr=.001, thresh, backbone=xception\""
   ]
  },
  {
   "cell_type": "code",
   "execution_count": 0,
   "metadata": {
    "colab": {},
    "colab_type": "code",
    "id": "v4duZsutRQqC"
   },
   "outputs": [],
   "source": [
    "from google.colab import files\n",
    "files.download('submission.zip')"
   ]
  }
 ],
 "metadata": {
  "accelerator": "GPU",
  "colab": {
   "collapsed_sections": [
    "yRUBTFaQXB_X"
   ],
   "name": "Kaggle TGS Seismic",
   "provenance": [],
   "version": "0.3.2"
  },
  "kernelspec": {
   "display_name": "Python 3",
   "language": "python",
   "name": "python3"
  },
  "language_info": {
   "codemirror_mode": {
    "name": "ipython",
    "version": 3
   },
   "file_extension": ".py",
   "mimetype": "text/x-python",
   "name": "python",
   "nbconvert_exporter": "python",
   "pygments_lexer": "ipython3",
   "version": "3.6.5"
  }
 },
 "nbformat": 4,
 "nbformat_minor": 1
}
